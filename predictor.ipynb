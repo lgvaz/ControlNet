{
 "cells": [
  {
   "cell_type": "code",
   "execution_count": null,
   "id": "e4679ebc",
   "metadata": {},
   "outputs": [],
   "source": [
    "#|default_exp predictor"
   ]
  },
  {
   "cell_type": "markdown",
   "id": "e11d2c03",
   "metadata": {},
   "source": [
    "# Predictor.\n",
    "\n",
    "> High level predictor."
   ]
  },
  {
   "cell_type": "code",
   "execution_count": 9,
   "id": "2afa34fd",
   "metadata": {},
   "outputs": [],
   "source": [
    "#|export\n",
    "from share import *\n",
    "import config\n",
    "\n",
    "import cv2\n",
    "import einops\n",
    "import gradio as gr\n",
    "import numpy as np\n",
    "import torch\n",
    "import random\n",
    "\n",
    "from pytorch_lightning import seed_everything\n",
    "from annotator.util import resize_image, HWC3\n",
    "from annotator.canny import CannyDetector\n",
    "from cldm.model import create_model, load_state_dict\n",
    "from cldm.ddim_hacked import DDIMSampler"
   ]
  },
  {
   "cell_type": "code",
   "execution_count": 24,
   "id": "84c1f002",
   "metadata": {},
   "outputs": [],
   "source": [
    "#|export\n",
    "class Predictor:\n",
    "    def __init__(self, config_path, weight_path):\n",
    "        self.apply_canny = CannyDetector()\n",
    "        self.model = create_model(str(config_path)).cpu()\n",
    "        self.model.load_state_dict(load_state_dict(str(weight_path), location='cuda'))\n",
    "        self.model = self.model.cuda()\n",
    "        self.ddim_sampler = DDIMSampler(self.model)\n",
    "\n",
    "    def gen(input_image, prompts, **kwargs):\n",
    "        for prompt in prompts:\n",
    "            yield self.process(input_image, prompt, **kwargs)\n",
    "                \n",
    "    def process(self,\n",
    "                input_image,\n",
    "                prompt,\n",
    "                a_prompt='',\n",
    "                n_prompt='',\n",
    "                num_samples=2,\n",
    "                image_resolution=512,\n",
    "                ddim_steps=20,\n",
    "                guess_mode=False,\n",
    "                strength=1.0,\n",
    "                low_threshold=100,\n",
    "                high_threshold=200,\n",
    "                scale=9.0,\n",
    "                seed=42,\n",
    "                eta=0.0):\n",
    "        with torch.no_grad():\n",
    "            img = resize_image(HWC3(input_image), image_resolution)\n",
    "            H, W, C = img.shape\n",
    "\n",
    "            detected_map = self.apply_canny(img, low_threshold, high_threshold)\n",
    "            detected_map = HWC3(detected_map)\n",
    "\n",
    "            control = torch.from_numpy(detected_map.copy()).float().cuda() / 255.0\n",
    "            control = torch.stack([control for _ in range(num_samples)], dim=0)\n",
    "            control = einops.rearrange(control, 'b h w c -> b c h w').clone()\n",
    "\n",
    "            if seed == -1:\n",
    "                seed = random.randint(0, 65535)\n",
    "            seed_everything(seed)\n",
    "\n",
    "            if config.save_memory:\n",
    "                self.model.low_vram_shift(is_diffusing=False)\n",
    "\n",
    "            cond = {\"c_concat\": [control], \"c_crossattn\": [self.model.get_learned_conditioning([prompt + ', ' + a_prompt] * num_samples)]}\n",
    "            un_cond = {\"c_concat\": None if guess_mode else [control], \"c_crossattn\": [self.model.get_learned_conditioning([n_prompt] * num_samples)]}\n",
    "            shape = (4, H // 8, W // 8)\n",
    "\n",
    "            if config.save_memory:\n",
    "                self.model.low_vram_shift(is_diffusing=True)\n",
    "\n",
    "            self.model.control_scales = [strength * (0.825 ** float(12 - i)) for i in range(13)] if guess_mode else ([strength] * 13)  # Magic number. IDK why. Perhaps because 0.825**12<0.01 but 0.826**12>0.01\n",
    "            samples, intermediates = self.ddim_sampler.sample(ddim_steps, num_samples,\n",
    "                                                         shape, cond, verbose=False, eta=eta,\n",
    "                                                         unconditional_guidance_scale=scale,\n",
    "                                                         unconditional_conditioning=un_cond)\n",
    "\n",
    "            if config.save_memory:\n",
    "                self.model.low_vram_shift(is_diffusing=False)\n",
    "\n",
    "            x_samples = self.model.decode_first_stage(samples)\n",
    "            x_samples = (einops.rearrange(x_samples, 'b c h w -> b h w c') * 127.5 + 127.5).cpu().numpy().clip(0, 255).astype(np.uint8)\n",
    "\n",
    "            results = [x_samples[i] for i in range(num_samples)]\n",
    "        return [255 - detected_map] + results"
   ]
  },
  {
   "cell_type": "code",
   "execution_count": 25,
   "id": "75038943",
   "metadata": {},
   "outputs": [
    {
     "name": "stdout",
     "output_type": "stream",
     "text": [
      "ControlLDM: Running in eps-prediction mode\n",
      "DiffusionWrapper has 859.52 M params.\n",
      "making attention of type 'vanilla' with 512 in_channels\n",
      "Working with z of shape (1, 4, 32, 32) = 4096 dimensions.\n",
      "making attention of type 'vanilla' with 512 in_channels\n",
      "Loaded model config from [./models/cldm_v15.yaml]\n",
      "Loaded state_dict from [./models/control_sd15_canny.pth]\n"
     ]
    }
   ],
   "source": [
    "config_path = './models/cldm_v15.yaml'\n",
    "weight_path = './models/control_sd15_canny.pth'\n",
    "\n",
    "predictor = Predictor(config_path, weight_path) #config path is the yaml file"
   ]
  },
  {
   "cell_type": "code",
   "execution_count": 12,
   "id": "1b454796",
   "metadata": {},
   "outputs": [
    {
     "data": {
      "application/vnd.jupyter.widget-view+json": {
       "model_id": "f71c2474f5934dbab6e2758ced6831b3",
       "version_major": 2,
       "version_minor": 0
      },
      "text/plain": [
       "  0%|          | 0/5837 [00:00<?, ?B/s]"
      ]
     },
     "metadata": {},
     "output_type": "display_data"
    }
   ],
   "source": [
    "prompts_path = pv.download('https://gist.githubusercontent.com/lgvaz/8025ac53cc707e9d3222ab0153285fd5/raw/861a108626ee10dbdc6d18c07bef06cac5936824/prompts.txt', '.')\n",
    "prompts = pv.open_txt(prompts_path).split('\\n')"
   ]
  },
  {
   "cell_type": "code",
   "execution_count": 19,
   "id": "1d90959c",
   "metadata": {},
   "outputs": [],
   "source": [
    "logo_files = pv.get_image_files(Path.home()/'logo')"
   ]
  },
  {
   "cell_type": "code",
   "execution_count": 32,
   "id": "b1611bb2",
   "metadata": {},
   "outputs": [],
   "source": [
    "import itertools\n",
    "import polvo as pv\n",
    "for prompt, logo_file in itertools.product(prompts, logo_files):\n",
    "    break"
   ]
  },
  {
   "cell_type": "code",
   "execution_count": 26,
   "id": "f13cd6ff",
   "metadata": {},
   "outputs": [
    {
     "data": {
      "application/vnd.jupyter.widget-view+json": {
       "model_id": "70a91366dfe4463eb82e5749db7b723c",
       "version_major": 2,
       "version_minor": 0
      },
      "text/plain": [
       "  0%|          | 0/540 [00:00<?, ?it/s]"
      ]
     },
     "metadata": {},
     "output_type": "display_data"
    },
    {
     "name": "stderr",
     "output_type": "stream",
     "text": [
      "Global seed set to 36769\n"
     ]
    },
    {
     "name": "stdout",
     "output_type": "stream",
     "text": [
      "Data shape for DDIM sampling is (2, 4, 64, 64), eta 0.0\n",
      "Running DDIM Sampling with 20 timesteps\n"
     ]
    },
    {
     "name": "stderr",
     "output_type": "stream",
     "text": [
      "\n",
      "DDIM Sampler:   0%|          | 0/20 [00:00<?, ?it/s]\u001b[A\n",
      "DDIM Sampler:   5%|▌         | 1/20 [00:01<00:26,  1.38s/it]\u001b[A\n",
      "DDIM Sampler:  10%|█         | 2/20 [00:01<00:16,  1.09it/s]\u001b[A\n",
      "DDIM Sampler:  15%|█▌        | 3/20 [00:02<00:13,  1.31it/s]\u001b[A\n",
      "DDIM Sampler:  20%|██        | 4/20 [00:03<00:11,  1.44it/s]\u001b[A\n",
      "DDIM Sampler:  25%|██▌       | 5/20 [00:03<00:09,  1.52it/s]\u001b[A\n",
      "DDIM Sampler:  30%|███       | 6/20 [00:04<00:08,  1.58it/s]\u001b[A\n",
      "DDIM Sampler:  35%|███▌      | 7/20 [00:04<00:08,  1.62it/s]\u001b[A\n",
      "DDIM Sampler:  40%|████      | 8/20 [00:05<00:07,  1.64it/s]\u001b[A\n",
      "DDIM Sampler:  45%|████▌     | 9/20 [00:06<00:06,  1.66it/s]\u001b[A\n",
      "DDIM Sampler:  50%|█████     | 10/20 [00:06<00:05,  1.67it/s]\u001b[A\n",
      "DDIM Sampler:  55%|█████▌    | 11/20 [00:07<00:05,  1.68it/s]\u001b[A\n",
      "DDIM Sampler:  60%|██████    | 12/20 [00:07<00:04,  1.68it/s]\u001b[A\n",
      "DDIM Sampler:  65%|██████▌   | 13/20 [00:08<00:04,  1.68it/s]\u001b[A\n",
      "DDIM Sampler:  70%|███████   | 14/20 [00:09<00:03,  1.69it/s]\u001b[A\n",
      "DDIM Sampler:  75%|███████▌  | 15/20 [00:09<00:02,  1.69it/s]\u001b[A\n",
      "DDIM Sampler:  80%|████████  | 16/20 [00:10<00:02,  1.69it/s]\u001b[A\n",
      "DDIM Sampler:  85%|████████▌ | 17/20 [00:10<00:01,  1.69it/s]\u001b[A\n",
      "DDIM Sampler:  90%|█████████ | 18/20 [00:11<00:01,  1.69it/s]\u001b[A\n",
      "DDIM Sampler:  95%|█████████▌| 19/20 [00:11<00:00,  1.69it/s]\u001b[A\n",
      "DDIM Sampler: 100%|██████████| 20/20 [00:12<00:00,  1.59it/s]\u001b[A\n",
      "Global seed set to 29692\n"
     ]
    },
    {
     "name": "stdout",
     "output_type": "stream",
     "text": [
      "Data shape for DDIM sampling is (2, 4, 64, 64), eta 0.0\n",
      "Running DDIM Sampling with 20 timesteps\n"
     ]
    },
    {
     "name": "stderr",
     "output_type": "stream",
     "text": [
      "\n",
      "DDIM Sampler:   0%|          | 0/20 [00:00<?, ?it/s]\u001b[A\n",
      "DDIM Sampler:   5%|▌         | 1/20 [00:00<00:11,  1.71it/s]\u001b[A\n",
      "DDIM Sampler:  10%|█         | 2/20 [00:01<00:10,  1.69it/s]\u001b[A\n",
      "DDIM Sampler:  15%|█▌        | 3/20 [00:01<00:10,  1.69it/s]\u001b[A\n",
      "DDIM Sampler:  20%|██        | 4/20 [00:02<00:09,  1.68it/s]\u001b[A\n",
      "DDIM Sampler:  25%|██▌       | 5/20 [00:02<00:08,  1.69it/s]\u001b[A\n",
      "DDIM Sampler:  30%|███       | 6/20 [00:03<00:08,  1.69it/s]\u001b[A\n",
      "DDIM Sampler:  35%|███▌      | 7/20 [00:04<00:07,  1.68it/s]\u001b[A\n",
      "DDIM Sampler:  40%|████      | 8/20 [00:04<00:07,  1.68it/s]\u001b[A\n",
      "DDIM Sampler:  45%|████▌     | 9/20 [00:05<00:06,  1.68it/s]\u001b[A\n",
      "DDIM Sampler:  50%|█████     | 10/20 [00:05<00:05,  1.68it/s]\u001b[A\n",
      "DDIM Sampler:  55%|█████▌    | 11/20 [00:06<00:05,  1.68it/s]\u001b[A\n",
      "DDIM Sampler:  60%|██████    | 12/20 [00:07<00:04,  1.68it/s]\u001b[A\n",
      "DDIM Sampler:  65%|██████▌   | 13/20 [00:07<00:04,  1.68it/s]\u001b[A\n",
      "DDIM Sampler:  70%|███████   | 14/20 [00:08<00:03,  1.68it/s]\u001b[A\n",
      "DDIM Sampler:  75%|███████▌  | 15/20 [00:08<00:02,  1.68it/s]\u001b[A\n",
      "DDIM Sampler:  80%|████████  | 16/20 [00:09<00:02,  1.68it/s]\u001b[A\n",
      "DDIM Sampler:  85%|████████▌ | 17/20 [00:10<00:01,  1.68it/s]\u001b[A\n",
      "DDIM Sampler:  90%|█████████ | 18/20 [00:10<00:01,  1.67it/s]\u001b[A\n",
      "DDIM Sampler:  95%|█████████▌| 19/20 [00:11<00:00,  1.67it/s]\u001b[A\n",
      "DDIM Sampler: 100%|██████████| 20/20 [00:11<00:00,  1.68it/s]\u001b[A\n",
      "Global seed set to 2482\n"
     ]
    },
    {
     "name": "stdout",
     "output_type": "stream",
     "text": [
      "Data shape for DDIM sampling is (2, 4, 64, 64), eta 0.0\n",
      "Running DDIM Sampling with 20 timesteps\n"
     ]
    },
    {
     "name": "stderr",
     "output_type": "stream",
     "text": [
      "\n",
      "DDIM Sampler:   0%|          | 0/20 [00:00<?, ?it/s]\u001b[A\n",
      "DDIM Sampler:   5%|▌         | 1/20 [00:00<00:11,  1.70it/s]\u001b[A\n",
      "DDIM Sampler:  10%|█         | 2/20 [00:01<00:10,  1.67it/s]\u001b[A\n",
      "DDIM Sampler:  15%|█▌        | 3/20 [00:01<00:10,  1.67it/s]\u001b[A\n",
      "DDIM Sampler:  20%|██        | 4/20 [00:02<00:09,  1.67it/s]\u001b[A\n",
      "DDIM Sampler:  25%|██▌       | 5/20 [00:02<00:09,  1.67it/s]\u001b[A\n",
      "DDIM Sampler:  30%|███       | 6/20 [00:03<00:08,  1.67it/s]\u001b[A\n",
      "DDIM Sampler:  35%|███▌      | 7/20 [00:04<00:07,  1.66it/s]\u001b[A\n",
      "DDIM Sampler:  40%|████      | 8/20 [00:04<00:07,  1.67it/s]\u001b[A\n",
      "DDIM Sampler:  45%|████▌     | 9/20 [00:05<00:06,  1.67it/s]\u001b[A\n",
      "DDIM Sampler:  50%|█████     | 10/20 [00:05<00:05,  1.68it/s]\u001b[A\n",
      "DDIM Sampler:  55%|█████▌    | 11/20 [00:06<00:05,  1.68it/s]\u001b[A\n",
      "DDIM Sampler:  60%|██████    | 12/20 [00:07<00:04,  1.68it/s]\u001b[A\n",
      "DDIM Sampler:  65%|██████▌   | 13/20 [00:07<00:04,  1.68it/s]\u001b[A\n",
      "DDIM Sampler:  70%|███████   | 14/20 [00:08<00:03,  1.68it/s]\u001b[A\n",
      "DDIM Sampler:  75%|███████▌  | 15/20 [00:08<00:02,  1.68it/s]\u001b[A\n",
      "DDIM Sampler:  80%|████████  | 16/20 [00:09<00:02,  1.68it/s]\u001b[A\n",
      "DDIM Sampler:  85%|████████▌ | 17/20 [00:10<00:01,  1.68it/s]\u001b[A\n",
      "DDIM Sampler:  90%|█████████ | 18/20 [00:10<00:01,  1.67it/s]\u001b[A\n",
      "DDIM Sampler:  95%|█████████▌| 19/20 [00:11<00:00,  1.67it/s]\u001b[A\n",
      "DDIM Sampler: 100%|██████████| 20/20 [00:11<00:00,  1.67it/s]\u001b[A\n",
      "Global seed set to 25829\n"
     ]
    },
    {
     "name": "stdout",
     "output_type": "stream",
     "text": [
      "Data shape for DDIM sampling is (2, 4, 64, 64), eta 0.0\n",
      "Running DDIM Sampling with 20 timesteps\n"
     ]
    },
    {
     "name": "stderr",
     "output_type": "stream",
     "text": [
      "\n",
      "DDIM Sampler:   0%|          | 0/20 [00:00<?, ?it/s]\u001b[A\n",
      "DDIM Sampler:   5%|▌         | 1/20 [00:00<00:11,  1.70it/s]\u001b[A\n",
      "DDIM Sampler:  10%|█         | 2/20 [00:01<00:10,  1.67it/s]\u001b[A\n",
      "DDIM Sampler:  15%|█▌        | 3/20 [00:01<00:10,  1.67it/s]\u001b[A\n",
      "DDIM Sampler:  20%|██        | 4/20 [00:02<00:09,  1.67it/s]\u001b[A\n",
      "DDIM Sampler:  25%|██▌       | 5/20 [00:02<00:08,  1.67it/s]\u001b[A\n",
      "DDIM Sampler:  30%|███       | 6/20 [00:03<00:08,  1.67it/s]\u001b[A\n",
      "DDIM Sampler:  35%|███▌      | 7/20 [00:04<00:07,  1.67it/s]\u001b[A\n",
      "DDIM Sampler:  40%|████      | 8/20 [00:04<00:07,  1.67it/s]\u001b[A\n",
      "DDIM Sampler:  45%|████▌     | 9/20 [00:05<00:06,  1.67it/s]\u001b[A\n",
      "DDIM Sampler:  50%|█████     | 10/20 [00:05<00:05,  1.67it/s]\u001b[A\n",
      "DDIM Sampler:  55%|█████▌    | 11/20 [00:06<00:05,  1.67it/s]\u001b[A\n",
      "DDIM Sampler:  60%|██████    | 12/20 [00:07<00:04,  1.67it/s]\u001b[A\n",
      "DDIM Sampler:  65%|██████▌   | 13/20 [00:07<00:04,  1.67it/s]\u001b[A\n",
      "DDIM Sampler:  70%|███████   | 14/20 [00:08<00:03,  1.67it/s]\u001b[A\n",
      "DDIM Sampler:  75%|███████▌  | 15/20 [00:08<00:02,  1.67it/s]\u001b[A\n",
      "DDIM Sampler:  80%|████████  | 16/20 [00:09<00:02,  1.67it/s]\u001b[A\n",
      "DDIM Sampler:  85%|████████▌ | 17/20 [00:10<00:01,  1.67it/s]\u001b[A\n",
      "DDIM Sampler:  90%|█████████ | 18/20 [00:10<00:01,  1.67it/s]\u001b[A\n",
      "DDIM Sampler:  95%|█████████▌| 19/20 [00:11<00:00,  1.67it/s]\u001b[A\n",
      "DDIM Sampler: 100%|██████████| 20/20 [00:11<00:00,  1.67it/s]\u001b[A\n",
      "Global seed set to 13707\n"
     ]
    },
    {
     "name": "stdout",
     "output_type": "stream",
     "text": [
      "Data shape for DDIM sampling is (2, 4, 72, 64), eta 0.0\n",
      "Running DDIM Sampling with 20 timesteps\n"
     ]
    },
    {
     "name": "stderr",
     "output_type": "stream",
     "text": [
      "\n",
      "DDIM Sampler:   0%|          | 0/20 [00:00<?, ?it/s]\u001b[A\n",
      "DDIM Sampler:   5%|▌         | 1/20 [00:00<00:13,  1.42it/s]\u001b[A\n",
      "DDIM Sampler:  10%|█         | 2/20 [00:01<00:12,  1.39it/s]\u001b[A\n",
      "DDIM Sampler:  15%|█▌        | 3/20 [00:02<00:12,  1.39it/s]\u001b[A\n",
      "DDIM Sampler:  20%|██        | 4/20 [00:02<00:11,  1.40it/s]\u001b[A\n",
      "DDIM Sampler:  25%|██▌       | 5/20 [00:03<00:10,  1.40it/s]\u001b[A\n",
      "DDIM Sampler:  30%|███       | 6/20 [00:04<00:10,  1.40it/s]\u001b[A\n",
      "DDIM Sampler:  35%|███▌      | 7/20 [00:05<00:09,  1.39it/s]\u001b[A\n",
      "DDIM Sampler:  40%|████      | 8/20 [00:05<00:08,  1.39it/s]\u001b[A\n",
      "DDIM Sampler:  45%|████▌     | 9/20 [00:06<00:07,  1.39it/s]\u001b[A\n",
      "DDIM Sampler:  50%|█████     | 10/20 [00:07<00:07,  1.39it/s]\u001b[A\n",
      "DDIM Sampler:  55%|█████▌    | 11/20 [00:07<00:06,  1.39it/s]\u001b[A\n",
      "DDIM Sampler:  60%|██████    | 12/20 [00:08<00:05,  1.39it/s]\u001b[A\n",
      "DDIM Sampler:  65%|██████▌   | 13/20 [00:09<00:05,  1.39it/s]\u001b[A\n",
      "DDIM Sampler:  70%|███████   | 14/20 [00:10<00:04,  1.39it/s]\u001b[A\n",
      "DDIM Sampler:  75%|███████▌  | 15/20 [00:10<00:03,  1.39it/s]\u001b[A\n",
      "DDIM Sampler:  80%|████████  | 16/20 [00:11<00:02,  1.39it/s]\u001b[A\n",
      "DDIM Sampler:  85%|████████▌ | 17/20 [00:12<00:02,  1.39it/s]\u001b[A\n",
      "DDIM Sampler:  90%|█████████ | 18/20 [00:12<00:01,  1.39it/s]\u001b[A\n",
      "DDIM Sampler:  95%|█████████▌| 19/20 [00:13<00:00,  1.39it/s]\u001b[A\n",
      "DDIM Sampler: 100%|██████████| 20/20 [00:14<00:00,  1.39it/s]\u001b[A\n",
      "Global seed set to 55544\n"
     ]
    },
    {
     "name": "stdout",
     "output_type": "stream",
     "text": [
      "Data shape for DDIM sampling is (2, 4, 64, 64), eta 0.0\n",
      "Running DDIM Sampling with 20 timesteps\n"
     ]
    },
    {
     "name": "stderr",
     "output_type": "stream",
     "text": [
      "\n",
      "DDIM Sampler:   0%|          | 0/20 [00:00<?, ?it/s]\u001b[A\n",
      "DDIM Sampler:   5%|▌         | 1/20 [00:00<00:11,  1.68it/s]\u001b[A\n",
      "DDIM Sampler:  10%|█         | 2/20 [00:01<00:10,  1.65it/s]\u001b[A\n",
      "DDIM Sampler:  15%|█▌        | 3/20 [00:01<00:10,  1.66it/s]\u001b[A\n",
      "DDIM Sampler:  20%|██        | 4/20 [00:02<00:09,  1.66it/s]\u001b[A\n",
      "DDIM Sampler:  25%|██▌       | 5/20 [00:03<00:09,  1.66it/s]\u001b[A\n",
      "DDIM Sampler:  30%|███       | 6/20 [00:03<00:08,  1.66it/s]\u001b[A\n",
      "DDIM Sampler:  35%|███▌      | 7/20 [00:04<00:07,  1.65it/s]\u001b[A\n",
      "DDIM Sampler:  40%|████      | 8/20 [00:04<00:07,  1.65it/s]\u001b[A\n",
      "DDIM Sampler:  45%|████▌     | 9/20 [00:05<00:06,  1.66it/s]\u001b[A\n",
      "DDIM Sampler:  50%|█████     | 10/20 [00:06<00:06,  1.65it/s]\u001b[A\n",
      "DDIM Sampler:  55%|█████▌    | 11/20 [00:06<00:05,  1.65it/s]\u001b[A\n",
      "DDIM Sampler:  60%|██████    | 12/20 [00:07<00:04,  1.65it/s]\u001b[A\n",
      "DDIM Sampler:  65%|██████▌   | 13/20 [00:07<00:04,  1.65it/s]\u001b[A\n",
      "DDIM Sampler:  70%|███████   | 14/20 [00:08<00:03,  1.65it/s]\u001b[A\n",
      "DDIM Sampler:  75%|███████▌  | 15/20 [00:09<00:03,  1.65it/s]\u001b[A\n",
      "DDIM Sampler:  80%|████████  | 16/20 [00:09<00:02,  1.65it/s]\u001b[A\n",
      "DDIM Sampler:  85%|████████▌ | 17/20 [00:10<00:01,  1.65it/s]\u001b[A\n",
      "DDIM Sampler:  90%|█████████ | 18/20 [00:10<00:01,  1.65it/s]\u001b[A\n",
      "DDIM Sampler:  95%|█████████▌| 19/20 [00:11<00:00,  1.65it/s]\u001b[A\n",
      "DDIM Sampler: 100%|██████████| 20/20 [00:12<00:00,  1.65it/s]\u001b[A\n",
      "Global seed set to 19914\n"
     ]
    },
    {
     "name": "stdout",
     "output_type": "stream",
     "text": [
      "Data shape for DDIM sampling is (2, 4, 64, 96), eta 0.0\n",
      "Running DDIM Sampling with 20 timesteps\n"
     ]
    },
    {
     "name": "stderr",
     "output_type": "stream",
     "text": [
      "\n",
      "DDIM Sampler:   0%|          | 0/20 [00:00<?, ?it/s]\u001b[A\n",
      "DDIM Sampler:   5%|▌         | 1/20 [00:01<00:23,  1.26s/it]\u001b[A\n",
      "DDIM Sampler:  10%|█         | 2/20 [00:02<00:21,  1.18s/it]\u001b[A\n",
      "DDIM Sampler:  15%|█▌        | 3/20 [00:03<00:19,  1.16s/it]\u001b[A\n",
      "DDIM Sampler:  20%|██        | 4/20 [00:04<00:18,  1.15s/it]\u001b[A\n",
      "DDIM Sampler:  25%|██▌       | 5/20 [00:05<00:17,  1.14s/it]\u001b[A\n",
      "DDIM Sampler:  30%|███       | 6/20 [00:06<00:15,  1.14s/it]\u001b[A\n",
      "DDIM Sampler:  35%|███▌      | 7/20 [00:08<00:14,  1.13s/it]\u001b[A\n",
      "DDIM Sampler:  40%|████      | 8/20 [00:09<00:13,  1.13s/it]\u001b[A\n",
      "DDIM Sampler:  45%|████▌     | 9/20 [00:10<00:12,  1.13s/it]\u001b[A\n",
      "DDIM Sampler:  50%|█████     | 10/20 [00:11<00:11,  1.13s/it]\u001b[A\n",
      "DDIM Sampler:  55%|█████▌    | 11/20 [00:12<00:10,  1.13s/it]\u001b[A\n",
      "DDIM Sampler:  60%|██████    | 12/20 [00:13<00:09,  1.13s/it]\u001b[A\n",
      "DDIM Sampler:  65%|██████▌   | 13/20 [00:14<00:07,  1.13s/it]\u001b[A\n",
      "DDIM Sampler:  70%|███████   | 14/20 [00:15<00:06,  1.13s/it]\u001b[A\n",
      "DDIM Sampler:  75%|███████▌  | 15/20 [00:17<00:05,  1.13s/it]\u001b[A\n",
      "DDIM Sampler:  80%|████████  | 16/20 [00:18<00:04,  1.13s/it]\u001b[A\n",
      "DDIM Sampler:  85%|████████▌ | 17/20 [00:19<00:03,  1.13s/it]\u001b[A\n",
      "DDIM Sampler:  90%|█████████ | 18/20 [00:20<00:02,  1.13s/it]\u001b[A\n",
      "DDIM Sampler:  95%|█████████▌| 19/20 [00:21<00:01,  1.13s/it]\u001b[A\n",
      "DDIM Sampler: 100%|██████████| 20/20 [00:22<00:00,  1.14s/it]\u001b[A\n",
      "Global seed set to 58864\n"
     ]
    },
    {
     "name": "stdout",
     "output_type": "stream",
     "text": [
      "Data shape for DDIM sampling is (2, 4, 64, 64), eta 0.0\n",
      "Running DDIM Sampling with 20 timesteps\n"
     ]
    },
    {
     "name": "stderr",
     "output_type": "stream",
     "text": [
      "\n",
      "DDIM Sampler:   0%|          | 0/20 [00:00<?, ?it/s]\u001b[A\n",
      "DDIM Sampler:   5%|▌         | 1/20 [00:00<00:11,  1.66it/s]\u001b[A\n",
      "DDIM Sampler:  10%|█         | 2/20 [00:01<00:11,  1.63it/s]\u001b[A\n",
      "DDIM Sampler:  15%|█▌        | 3/20 [00:01<00:10,  1.63it/s]\u001b[A\n",
      "DDIM Sampler:  20%|██        | 4/20 [00:02<00:09,  1.63it/s]\u001b[A\n",
      "DDIM Sampler:  25%|██▌       | 5/20 [00:03<00:09,  1.63it/s]\u001b[A\n",
      "DDIM Sampler:  30%|███       | 6/20 [00:03<00:08,  1.64it/s]\u001b[A\n",
      "DDIM Sampler:  35%|███▌      | 7/20 [00:04<00:07,  1.63it/s]\u001b[A\n",
      "DDIM Sampler:  40%|████      | 8/20 [00:04<00:07,  1.63it/s]\u001b[A\n",
      "DDIM Sampler:  45%|████▌     | 9/20 [00:05<00:06,  1.63it/s]\u001b[A\n",
      "DDIM Sampler:  50%|█████     | 10/20 [00:06<00:06,  1.63it/s]\u001b[A\n",
      "DDIM Sampler:  55%|█████▌    | 11/20 [00:06<00:05,  1.63it/s]\u001b[A\n",
      "DDIM Sampler:  60%|██████    | 12/20 [00:07<00:04,  1.63it/s]\u001b[A\n",
      "DDIM Sampler:  65%|██████▌   | 13/20 [00:07<00:04,  1.63it/s]\u001b[A\n",
      "DDIM Sampler:  70%|███████   | 14/20 [00:08<00:03,  1.63it/s]\u001b[A\n",
      "DDIM Sampler:  75%|███████▌  | 15/20 [00:09<00:03,  1.63it/s]\u001b[A\n",
      "DDIM Sampler:  80%|████████  | 16/20 [00:09<00:02,  1.63it/s]\u001b[A\n",
      "DDIM Sampler:  85%|████████▌ | 17/20 [00:10<00:01,  1.63it/s]\u001b[A\n",
      "DDIM Sampler:  90%|█████████ | 18/20 [00:11<00:01,  1.63it/s]\u001b[A\n",
      "DDIM Sampler:  95%|█████████▌| 19/20 [00:11<00:00,  1.63it/s]\u001b[A\n",
      "DDIM Sampler: 100%|██████████| 20/20 [00:12<00:00,  1.63it/s]\u001b[A\n",
      "Global seed set to 47548\n"
     ]
    },
    {
     "name": "stdout",
     "output_type": "stream",
     "text": [
      "Data shape for DDIM sampling is (2, 4, 64, 64), eta 0.0\n",
      "Running DDIM Sampling with 20 timesteps\n"
     ]
    },
    {
     "name": "stderr",
     "output_type": "stream",
     "text": [
      "\n",
      "DDIM Sampler:   0%|          | 0/20 [00:00<?, ?it/s]\u001b[A\n",
      "DDIM Sampler:   5%|▌         | 1/20 [00:00<00:11,  1.66it/s]\u001b[A\n",
      "DDIM Sampler:  10%|█         | 2/20 [00:01<00:11,  1.62it/s]\u001b[A\n",
      "DDIM Sampler:  15%|█▌        | 3/20 [00:01<00:10,  1.63it/s]\u001b[A\n",
      "DDIM Sampler:  20%|██        | 4/20 [00:02<00:09,  1.63it/s]\u001b[A\n",
      "DDIM Sampler:  25%|██▌       | 5/20 [00:03<00:09,  1.62it/s]\u001b[A\n",
      "DDIM Sampler:  30%|███       | 6/20 [00:03<00:08,  1.63it/s]\u001b[A\n",
      "DDIM Sampler:  35%|███▌      | 7/20 [00:04<00:08,  1.62it/s]\u001b[A\n",
      "DDIM Sampler:  40%|████      | 8/20 [00:04<00:07,  1.62it/s]\u001b[A\n",
      "DDIM Sampler:  45%|████▌     | 9/20 [00:05<00:06,  1.62it/s]\u001b[A\n",
      "DDIM Sampler:  50%|█████     | 10/20 [00:06<00:06,  1.62it/s]\u001b[A\n",
      "DDIM Sampler:  55%|█████▌    | 11/20 [00:06<00:05,  1.62it/s]\u001b[A\n",
      "DDIM Sampler:  60%|██████    | 12/20 [00:07<00:04,  1.62it/s]\u001b[A\n",
      "DDIM Sampler:  65%|██████▌   | 13/20 [00:08<00:04,  1.62it/s]\u001b[A\n",
      "DDIM Sampler:  70%|███████   | 14/20 [00:08<00:03,  1.62it/s]\u001b[A\n",
      "DDIM Sampler:  75%|███████▌  | 15/20 [00:09<00:03,  1.62it/s]\u001b[A\n",
      "DDIM Sampler:  80%|████████  | 16/20 [00:09<00:02,  1.62it/s]\u001b[A\n",
      "DDIM Sampler:  85%|████████▌ | 17/20 [00:10<00:01,  1.62it/s]\u001b[A\n",
      "DDIM Sampler:  90%|█████████ | 18/20 [00:11<00:01,  1.62it/s]\u001b[A\n",
      "DDIM Sampler:  95%|█████████▌| 19/20 [00:11<00:00,  1.62it/s]\u001b[A\n",
      "DDIM Sampler: 100%|██████████| 20/20 [00:12<00:00,  1.62it/s]\u001b[A\n",
      "Global seed set to 1154\n"
     ]
    },
    {
     "name": "stdout",
     "output_type": "stream",
     "text": [
      "Data shape for DDIM sampling is (2, 4, 64, 64), eta 0.0\n",
      "Running DDIM Sampling with 20 timesteps\n"
     ]
    },
    {
     "name": "stderr",
     "output_type": "stream",
     "text": [
      "\n",
      "DDIM Sampler:   0%|          | 0/20 [00:00<?, ?it/s]\u001b[A\n",
      "DDIM Sampler:   5%|▌         | 1/20 [00:00<00:11,  1.65it/s]\u001b[A\n",
      "DDIM Sampler:  10%|█         | 2/20 [00:01<00:11,  1.62it/s]\u001b[A\n",
      "DDIM Sampler:  15%|█▌        | 3/20 [00:01<00:10,  1.62it/s]\u001b[A\n",
      "DDIM Sampler:  20%|██        | 4/20 [00:02<00:09,  1.62it/s]\u001b[A\n",
      "DDIM Sampler:  25%|██▌       | 5/20 [00:03<00:09,  1.62it/s]\u001b[A\n",
      "DDIM Sampler:  30%|███       | 6/20 [00:03<00:08,  1.62it/s]\u001b[A\n",
      "DDIM Sampler:  35%|███▌      | 7/20 [00:04<00:08,  1.62it/s]\u001b[A\n",
      "DDIM Sampler:  40%|████      | 8/20 [00:04<00:07,  1.62it/s]\u001b[A\n",
      "DDIM Sampler:  45%|████▌     | 9/20 [00:05<00:06,  1.62it/s]\u001b[A\n",
      "DDIM Sampler:  50%|█████     | 10/20 [00:06<00:06,  1.62it/s]\u001b[A\n",
      "DDIM Sampler:  55%|█████▌    | 11/20 [00:06<00:05,  1.62it/s]\u001b[A\n",
      "DDIM Sampler:  60%|██████    | 12/20 [00:07<00:04,  1.62it/s]\u001b[A\n",
      "DDIM Sampler:  65%|██████▌   | 13/20 [00:08<00:04,  1.62it/s]\u001b[A\n",
      "DDIM Sampler:  70%|███████   | 14/20 [00:08<00:03,  1.62it/s]\u001b[A\n",
      "DDIM Sampler:  75%|███████▌  | 15/20 [00:09<00:03,  1.62it/s]\u001b[A\n",
      "DDIM Sampler:  80%|████████  | 16/20 [00:09<00:02,  1.62it/s]\u001b[A\n",
      "DDIM Sampler:  85%|████████▌ | 17/20 [00:10<00:01,  1.62it/s]\u001b[A\n",
      "DDIM Sampler:  90%|█████████ | 18/20 [00:11<00:01,  1.62it/s]\u001b[A\n",
      "DDIM Sampler:  95%|█████████▌| 19/20 [00:11<00:00,  1.61it/s]\u001b[A\n",
      "DDIM Sampler: 100%|██████████| 20/20 [00:12<00:00,  1.62it/s]\u001b[A\n",
      "Global seed set to 3453\n"
     ]
    },
    {
     "name": "stdout",
     "output_type": "stream",
     "text": [
      "Data shape for DDIM sampling is (2, 4, 64, 64), eta 0.0\n",
      "Running DDIM Sampling with 20 timesteps\n"
     ]
    },
    {
     "name": "stderr",
     "output_type": "stream",
     "text": [
      "\n",
      "DDIM Sampler:   0%|          | 0/20 [00:00<?, ?it/s]\u001b[A\n",
      "DDIM Sampler:   5%|▌         | 1/20 [00:00<00:11,  1.64it/s]\u001b[A\n",
      "DDIM Sampler:  10%|█         | 2/20 [00:01<00:11,  1.62it/s]\u001b[A\n",
      "DDIM Sampler:  15%|█▌        | 3/20 [00:01<00:10,  1.62it/s]\u001b[A\n",
      "DDIM Sampler:  20%|██        | 4/20 [00:02<00:09,  1.62it/s]\u001b[A\n",
      "DDIM Sampler:  25%|██▌       | 5/20 [00:03<00:09,  1.62it/s]\u001b[A\n",
      "DDIM Sampler:  30%|███       | 6/20 [00:03<00:08,  1.62it/s]\u001b[A\n",
      "DDIM Sampler:  35%|███▌      | 7/20 [00:04<00:08,  1.61it/s]\u001b[A\n",
      "DDIM Sampler:  40%|████      | 8/20 [00:04<00:07,  1.61it/s]\u001b[A\n",
      "DDIM Sampler:  45%|████▌     | 9/20 [00:05<00:06,  1.61it/s]\u001b[A\n",
      "DDIM Sampler:  50%|█████     | 10/20 [00:06<00:06,  1.61it/s]\u001b[A\n",
      "DDIM Sampler:  55%|█████▌    | 11/20 [00:06<00:05,  1.61it/s]\u001b[A\n",
      "DDIM Sampler:  60%|██████    | 12/20 [00:07<00:04,  1.61it/s]\u001b[A\n",
      "DDIM Sampler:  65%|██████▌   | 13/20 [00:08<00:04,  1.61it/s]\u001b[A\n",
      "DDIM Sampler:  70%|███████   | 14/20 [00:08<00:03,  1.61it/s]\u001b[A\n",
      "DDIM Sampler:  75%|███████▌  | 15/20 [00:09<00:03,  1.61it/s]\u001b[A\n",
      "DDIM Sampler:  80%|████████  | 16/20 [00:09<00:02,  1.61it/s]\u001b[A\n",
      "DDIM Sampler:  85%|████████▌ | 17/20 [00:10<00:01,  1.61it/s]\u001b[A\n",
      "DDIM Sampler:  90%|█████████ | 18/20 [00:11<00:01,  1.61it/s]\u001b[A\n",
      "DDIM Sampler:  95%|█████████▌| 19/20 [00:11<00:00,  1.61it/s]\u001b[A\n",
      "DDIM Sampler: 100%|██████████| 20/20 [00:12<00:00,  1.61it/s]\u001b[A\n",
      "Global seed set to 28515\n"
     ]
    },
    {
     "name": "stdout",
     "output_type": "stream",
     "text": [
      "Data shape for DDIM sampling is (2, 4, 64, 64), eta 0.0\n",
      "Running DDIM Sampling with 20 timesteps\n"
     ]
    },
    {
     "name": "stderr",
     "output_type": "stream",
     "text": [
      "\n",
      "DDIM Sampler:   0%|          | 0/20 [00:00<?, ?it/s]\u001b[A\n",
      "DDIM Sampler:   5%|▌         | 1/20 [00:00<00:11,  1.65it/s]\u001b[A\n",
      "DDIM Sampler:  10%|█         | 2/20 [00:01<00:11,  1.60it/s]\u001b[A\n",
      "DDIM Sampler:  15%|█▌        | 3/20 [00:01<00:10,  1.61it/s]\u001b[A\n",
      "DDIM Sampler:  20%|██        | 4/20 [00:02<00:09,  1.61it/s]\u001b[A\n",
      "DDIM Sampler:  25%|██▌       | 5/20 [00:03<00:09,  1.61it/s]\u001b[A\n",
      "DDIM Sampler:  30%|███       | 6/20 [00:03<00:08,  1.61it/s]\u001b[A\n",
      "DDIM Sampler:  35%|███▌      | 7/20 [00:04<00:08,  1.61it/s]\u001b[A\n",
      "DDIM Sampler:  40%|████      | 8/20 [00:04<00:07,  1.61it/s]\u001b[A\n",
      "DDIM Sampler:  45%|████▌     | 9/20 [00:05<00:06,  1.61it/s]\u001b[A\n",
      "DDIM Sampler:  50%|█████     | 10/20 [00:06<00:06,  1.61it/s]\u001b[A\n",
      "DDIM Sampler:  55%|█████▌    | 11/20 [00:06<00:05,  1.61it/s]\u001b[A\n",
      "DDIM Sampler:  60%|██████    | 12/20 [00:07<00:04,  1.61it/s]\u001b[A\n",
      "DDIM Sampler:  65%|██████▌   | 13/20 [00:08<00:04,  1.61it/s]\u001b[A\n",
      "DDIM Sampler:  70%|███████   | 14/20 [00:08<00:03,  1.61it/s]\u001b[A\n",
      "DDIM Sampler:  75%|███████▌  | 15/20 [00:09<00:03,  1.61it/s]\u001b[A\n",
      "DDIM Sampler:  80%|████████  | 16/20 [00:09<00:02,  1.60it/s]\u001b[A\n",
      "DDIM Sampler:  85%|████████▌ | 17/20 [00:10<00:01,  1.60it/s]\u001b[A\n",
      "DDIM Sampler:  90%|█████████ | 18/20 [00:11<00:01,  1.60it/s]\u001b[A\n",
      "DDIM Sampler:  95%|█████████▌| 19/20 [00:11<00:00,  1.61it/s]\u001b[A\n",
      "DDIM Sampler: 100%|██████████| 20/20 [00:12<00:00,  1.61it/s]\u001b[A\n",
      "Global seed set to 12712\n"
     ]
    },
    {
     "name": "stdout",
     "output_type": "stream",
     "text": [
      "Data shape for DDIM sampling is (2, 4, 64, 72), eta 0.0\n",
      "Running DDIM Sampling with 20 timesteps\n"
     ]
    },
    {
     "name": "stderr",
     "output_type": "stream",
     "text": [
      "\n",
      "DDIM Sampler:   0%|          | 0/20 [00:00<?, ?it/s]\u001b[A\n",
      "DDIM Sampler:   5%|▌         | 1/20 [00:00<00:13,  1.37it/s]\u001b[A\n",
      "DDIM Sampler:  10%|█         | 2/20 [00:01<00:13,  1.34it/s]\u001b[A\n",
      "DDIM Sampler:  15%|█▌        | 3/20 [00:02<00:12,  1.34it/s]\u001b[A\n",
      "DDIM Sampler:  20%|██        | 4/20 [00:02<00:11,  1.34it/s]\u001b[A\n",
      "DDIM Sampler:  25%|██▌       | 5/20 [00:03<00:11,  1.34it/s]\u001b[A\n",
      "DDIM Sampler:  30%|███       | 6/20 [00:04<00:10,  1.34it/s]\u001b[A\n",
      "DDIM Sampler:  35%|███▌      | 7/20 [00:05<00:09,  1.34it/s]\u001b[A\n",
      "DDIM Sampler:  40%|████      | 8/20 [00:05<00:08,  1.34it/s]\u001b[A\n",
      "DDIM Sampler:  45%|████▌     | 9/20 [00:06<00:08,  1.34it/s]\u001b[A\n",
      "DDIM Sampler:  50%|█████     | 10/20 [00:07<00:07,  1.34it/s]\u001b[A\n",
      "DDIM Sampler:  55%|█████▌    | 11/20 [00:08<00:06,  1.34it/s]\u001b[A\n",
      "DDIM Sampler:  60%|██████    | 12/20 [00:08<00:05,  1.34it/s]\u001b[A\n",
      "DDIM Sampler:  65%|██████▌   | 13/20 [00:09<00:05,  1.34it/s]\u001b[A\n",
      "DDIM Sampler:  70%|███████   | 14/20 [00:10<00:04,  1.34it/s]\u001b[A\n",
      "DDIM Sampler:  75%|███████▌  | 15/20 [00:11<00:03,  1.34it/s]\u001b[A\n",
      "DDIM Sampler:  80%|████████  | 16/20 [00:11<00:02,  1.34it/s]\u001b[A\n",
      "DDIM Sampler:  85%|████████▌ | 17/20 [00:12<00:02,  1.34it/s]\u001b[A\n",
      "DDIM Sampler:  90%|█████████ | 18/20 [00:13<00:01,  1.34it/s]\u001b[A\n",
      "DDIM Sampler:  95%|█████████▌| 19/20 [00:14<00:00,  1.34it/s]\u001b[A\n",
      "DDIM Sampler: 100%|██████████| 20/20 [00:14<00:00,  1.34it/s]\u001b[A\n",
      "Global seed set to 17387\n"
     ]
    },
    {
     "name": "stdout",
     "output_type": "stream",
     "text": [
      "Data shape for DDIM sampling is (2, 4, 64, 112), eta 0.0\n",
      "Running DDIM Sampling with 20 timesteps\n"
     ]
    },
    {
     "name": "stderr",
     "output_type": "stream",
     "text": [
      "\n",
      "DDIM Sampler:   0%|          | 0/20 [00:00<?, ?it/s]\u001b[A\n",
      "DDIM Sampler:   5%|▌         | 1/20 [00:01<00:31,  1.63s/it]\u001b[A\n",
      "DDIM Sampler:  10%|█         | 2/20 [00:03<00:28,  1.56s/it]\u001b[A\n",
      "DDIM Sampler:  15%|█▌        | 3/20 [00:04<00:26,  1.53s/it]\u001b[A\n",
      "DDIM Sampler:  20%|██        | 4/20 [00:06<00:24,  1.52s/it]\u001b[A\n",
      "DDIM Sampler:  25%|██▌       | 5/20 [00:07<00:22,  1.51s/it]\u001b[A\n",
      "DDIM Sampler:  30%|███       | 6/20 [00:09<00:21,  1.51s/it]\u001b[A\n",
      "DDIM Sampler:  35%|███▌      | 7/20 [00:10<00:19,  1.51s/it]\u001b[A\n",
      "DDIM Sampler:  40%|████      | 8/20 [00:12<00:18,  1.50s/it]\u001b[A\n",
      "DDIM Sampler:  45%|████▌     | 9/20 [00:13<00:16,  1.50s/it]\u001b[A\n",
      "DDIM Sampler:  50%|█████     | 10/20 [00:15<00:15,  1.50s/it]\u001b[A\n",
      "DDIM Sampler:  55%|█████▌    | 11/20 [00:16<00:13,  1.50s/it]\u001b[A\n",
      "DDIM Sampler:  60%|██████    | 12/20 [00:18<00:12,  1.50s/it]\u001b[A\n",
      "DDIM Sampler:  65%|██████▌   | 13/20 [00:19<00:10,  1.50s/it]\u001b[A\n",
      "DDIM Sampler:  70%|███████   | 14/20 [00:21<00:09,  1.50s/it]\u001b[A\n",
      "DDIM Sampler:  75%|███████▌  | 15/20 [00:22<00:07,  1.50s/it]\u001b[A\n",
      "DDIM Sampler:  80%|████████  | 16/20 [00:24<00:06,  1.50s/it]\u001b[A\n",
      "DDIM Sampler:  85%|████████▌ | 17/20 [00:25<00:04,  1.50s/it]\u001b[A\n",
      "DDIM Sampler:  90%|█████████ | 18/20 [00:27<00:03,  1.50s/it]\u001b[A\n",
      "DDIM Sampler:  95%|█████████▌| 19/20 [00:28<00:01,  1.50s/it]\u001b[A\n",
      "DDIM Sampler: 100%|██████████| 20/20 [00:30<00:00,  1.51s/it]\u001b[A\n",
      "Global seed set to 25862\n"
     ]
    },
    {
     "name": "stdout",
     "output_type": "stream",
     "text": [
      "Data shape for DDIM sampling is (2, 4, 64, 96), eta 0.0\n",
      "Running DDIM Sampling with 20 timesteps\n"
     ]
    },
    {
     "name": "stderr",
     "output_type": "stream",
     "text": [
      "\n",
      "DDIM Sampler:   0%|          | 0/20 [00:00<?, ?it/s]\u001b[A\n",
      "DDIM Sampler:   5%|▌         | 1/20 [00:01<00:22,  1.17s/it]\u001b[A\n",
      "DDIM Sampler:  10%|█         | 2/20 [00:02<00:20,  1.16s/it]\u001b[A\n",
      "DDIM Sampler:  15%|█▌        | 3/20 [00:03<00:19,  1.16s/it]\u001b[A\n",
      "DDIM Sampler:  20%|██        | 4/20 [00:04<00:18,  1.16s/it]\u001b[A\n",
      "DDIM Sampler:  25%|██▌       | 5/20 [00:05<00:17,  1.16s/it]\u001b[A\n",
      "DDIM Sampler:  30%|███       | 6/20 [00:06<00:16,  1.16s/it]\u001b[A\n",
      "DDIM Sampler:  35%|███▌      | 7/20 [00:08<00:15,  1.16s/it]\u001b[A\n",
      "DDIM Sampler:  40%|████      | 8/20 [00:09<00:13,  1.16s/it]\u001b[A\n",
      "DDIM Sampler:  45%|████▌     | 9/20 [00:10<00:12,  1.16s/it]\u001b[A\n",
      "DDIM Sampler:  50%|█████     | 10/20 [00:11<00:11,  1.16s/it]\u001b[A\n",
      "DDIM Sampler:  55%|█████▌    | 11/20 [00:12<00:10,  1.16s/it]\u001b[A\n",
      "DDIM Sampler:  60%|██████    | 12/20 [00:13<00:09,  1.16s/it]\u001b[A\n",
      "DDIM Sampler:  65%|██████▌   | 13/20 [00:15<00:08,  1.16s/it]\u001b[A\n",
      "DDIM Sampler:  70%|███████   | 14/20 [00:16<00:06,  1.16s/it]\u001b[A\n",
      "DDIM Sampler:  75%|███████▌  | 15/20 [00:17<00:05,  1.16s/it]\u001b[A\n",
      "DDIM Sampler:  80%|████████  | 16/20 [00:18<00:04,  1.16s/it]\u001b[A\n",
      "DDIM Sampler:  85%|████████▌ | 17/20 [00:19<00:03,  1.16s/it]\u001b[A\n",
      "DDIM Sampler:  90%|█████████ | 18/20 [00:20<00:02,  1.16s/it]\u001b[A\n",
      "DDIM Sampler:  95%|█████████▌| 19/20 [00:22<00:01,  1.16s/it]\u001b[A\n",
      "DDIM Sampler: 100%|██████████| 20/20 [00:23<00:00,  1.16s/it]\u001b[A\n",
      "Global seed set to 18089\n"
     ]
    },
    {
     "name": "stdout",
     "output_type": "stream",
     "text": [
      "Data shape for DDIM sampling is (2, 4, 64, 64), eta 0.0\n",
      "Running DDIM Sampling with 20 timesteps\n"
     ]
    },
    {
     "name": "stderr",
     "output_type": "stream",
     "text": [
      "\n",
      "DDIM Sampler:   0%|          | 0/20 [00:00<?, ?it/s]\u001b[A\n",
      "DDIM Sampler:   5%|▌         | 1/20 [00:00<00:11,  1.63it/s]\u001b[A\n",
      "DDIM Sampler:  10%|█         | 2/20 [00:01<00:11,  1.60it/s]\u001b[A\n",
      "DDIM Sampler:  15%|█▌        | 3/20 [00:01<00:10,  1.60it/s]\u001b[A\n",
      "DDIM Sampler:  20%|██        | 4/20 [00:02<00:10,  1.60it/s]\u001b[A\n",
      "DDIM Sampler:  25%|██▌       | 5/20 [00:03<00:09,  1.60it/s]\u001b[A\n",
      "DDIM Sampler:  30%|███       | 6/20 [00:03<00:08,  1.60it/s]\u001b[A\n",
      "DDIM Sampler:  35%|███▌      | 7/20 [00:04<00:08,  1.60it/s]\u001b[A\n",
      "DDIM Sampler:  40%|████      | 8/20 [00:05<00:07,  1.60it/s]\u001b[A\n",
      "DDIM Sampler:  45%|████▌     | 9/20 [00:05<00:06,  1.60it/s]\u001b[A\n",
      "DDIM Sampler:  50%|█████     | 10/20 [00:06<00:06,  1.60it/s]\u001b[A\n",
      "DDIM Sampler:  55%|█████▌    | 11/20 [00:06<00:05,  1.60it/s]\u001b[A\n",
      "DDIM Sampler:  60%|██████    | 12/20 [00:07<00:05,  1.60it/s]\u001b[A\n",
      "DDIM Sampler:  65%|██████▌   | 13/20 [00:08<00:04,  1.60it/s]\u001b[A\n",
      "DDIM Sampler:  70%|███████   | 14/20 [00:08<00:03,  1.60it/s]\u001b[A\n",
      "DDIM Sampler:  75%|███████▌  | 15/20 [00:09<00:03,  1.60it/s]\u001b[A\n",
      "DDIM Sampler:  80%|████████  | 16/20 [00:10<00:02,  1.60it/s]\u001b[A\n",
      "DDIM Sampler:  85%|████████▌ | 17/20 [00:10<00:01,  1.60it/s]\u001b[A\n",
      "DDIM Sampler:  90%|█████████ | 18/20 [00:11<00:01,  1.60it/s]\u001b[A\n",
      "DDIM Sampler:  95%|█████████▌| 19/20 [00:11<00:00,  1.60it/s]\u001b[A\n",
      "DDIM Sampler: 100%|██████████| 20/20 [00:12<00:00,  1.60it/s]\u001b[A\n",
      "Global seed set to 38802\n"
     ]
    },
    {
     "name": "stdout",
     "output_type": "stream",
     "text": [
      "Data shape for DDIM sampling is (2, 4, 64, 64), eta 0.0\n",
      "Running DDIM Sampling with 20 timesteps\n"
     ]
    },
    {
     "name": "stderr",
     "output_type": "stream",
     "text": [
      "\n",
      "DDIM Sampler:   0%|          | 0/20 [00:00<?, ?it/s]\u001b[A\n",
      "DDIM Sampler:   5%|▌         | 1/20 [00:00<00:11,  1.63it/s]\u001b[A\n",
      "DDIM Sampler:  10%|█         | 2/20 [00:01<00:11,  1.59it/s]\u001b[A\n",
      "DDIM Sampler:  15%|█▌        | 3/20 [00:01<00:10,  1.59it/s]\u001b[A\n",
      "DDIM Sampler:  20%|██        | 4/20 [00:02<00:10,  1.60it/s]\u001b[A\n",
      "DDIM Sampler:  25%|██▌       | 5/20 [00:03<00:09,  1.59it/s]\u001b[A\n",
      "DDIM Sampler:  30%|███       | 6/20 [00:03<00:08,  1.60it/s]\u001b[A\n",
      "DDIM Sampler:  35%|███▌      | 7/20 [00:04<00:08,  1.60it/s]\u001b[A\n",
      "DDIM Sampler:  40%|████      | 8/20 [00:05<00:07,  1.60it/s]\u001b[A\n",
      "DDIM Sampler:  45%|████▌     | 9/20 [00:05<00:06,  1.60it/s]\u001b[A\n",
      "DDIM Sampler:  50%|█████     | 10/20 [00:06<00:06,  1.60it/s]\u001b[A\n",
      "DDIM Sampler:  55%|█████▌    | 11/20 [00:06<00:05,  1.60it/s]\u001b[A\n",
      "DDIM Sampler:  60%|██████    | 12/20 [00:07<00:05,  1.60it/s]\u001b[A\n",
      "DDIM Sampler:  65%|██████▌   | 13/20 [00:08<00:04,  1.60it/s]\u001b[A\n",
      "DDIM Sampler:  70%|███████   | 14/20 [00:08<00:03,  1.60it/s]\u001b[A\n",
      "DDIM Sampler:  75%|███████▌  | 15/20 [00:09<00:03,  1.60it/s]\u001b[A\n",
      "DDIM Sampler:  80%|████████  | 16/20 [00:10<00:02,  1.60it/s]\u001b[A\n",
      "DDIM Sampler:  85%|████████▌ | 17/20 [00:10<00:01,  1.60it/s]\u001b[A\n",
      "DDIM Sampler:  90%|█████████ | 18/20 [00:11<00:01,  1.59it/s]\u001b[A\n",
      "DDIM Sampler:  95%|█████████▌| 19/20 [00:11<00:00,  1.60it/s]\u001b[A\n",
      "DDIM Sampler: 100%|██████████| 20/20 [00:12<00:00,  1.60it/s]\u001b[A\n",
      "Global seed set to 37876\n"
     ]
    },
    {
     "name": "stdout",
     "output_type": "stream",
     "text": [
      "Data shape for DDIM sampling is (2, 4, 64, 64), eta 0.0\n",
      "Running DDIM Sampling with 20 timesteps\n"
     ]
    },
    {
     "name": "stderr",
     "output_type": "stream",
     "text": [
      "\n",
      "DDIM Sampler:   0%|          | 0/20 [00:00<?, ?it/s]\u001b[A\n",
      "DDIM Sampler:   5%|▌         | 1/20 [00:00<00:11,  1.63it/s]\u001b[A\n",
      "DDIM Sampler:  10%|█         | 2/20 [00:01<00:11,  1.59it/s]\u001b[A\n",
      "DDIM Sampler:  15%|█▌        | 3/20 [00:01<00:10,  1.59it/s]\u001b[A\n",
      "DDIM Sampler:  20%|██        | 4/20 [00:02<00:10,  1.59it/s]\u001b[A\n",
      "DDIM Sampler:  25%|██▌       | 5/20 [00:03<00:09,  1.59it/s]\u001b[A\n",
      "DDIM Sampler:  30%|███       | 6/20 [00:03<00:08,  1.60it/s]\u001b[A\n",
      "DDIM Sampler:  35%|███▌      | 7/20 [00:04<00:08,  1.60it/s]\u001b[A\n",
      "DDIM Sampler:  40%|████      | 8/20 [00:05<00:07,  1.60it/s]\u001b[A\n",
      "DDIM Sampler:  45%|████▌     | 9/20 [00:05<00:06,  1.60it/s]\u001b[A\n",
      "DDIM Sampler:  50%|█████     | 10/20 [00:06<00:06,  1.60it/s]\u001b[A\n",
      "DDIM Sampler:  55%|█████▌    | 11/20 [00:06<00:05,  1.60it/s]\u001b[A\n",
      "DDIM Sampler:  60%|██████    | 12/20 [00:07<00:05,  1.60it/s]\u001b[A\n",
      "DDIM Sampler:  65%|██████▌   | 13/20 [00:08<00:04,  1.60it/s]\u001b[A\n",
      "DDIM Sampler:  70%|███████   | 14/20 [00:08<00:03,  1.60it/s]\u001b[A\n",
      "DDIM Sampler:  75%|███████▌  | 15/20 [00:09<00:03,  1.60it/s]\u001b[A\n",
      "DDIM Sampler:  80%|████████  | 16/20 [00:10<00:02,  1.60it/s]\u001b[A\n",
      "DDIM Sampler:  85%|████████▌ | 17/20 [00:10<00:01,  1.60it/s]\u001b[A\n",
      "DDIM Sampler:  90%|█████████ | 18/20 [00:11<00:01,  1.60it/s]\u001b[A\n",
      "DDIM Sampler:  95%|█████████▌| 19/20 [00:11<00:00,  1.60it/s]\u001b[A\n",
      "DDIM Sampler: 100%|██████████| 20/20 [00:12<00:00,  1.60it/s]\u001b[A\n",
      "Global seed set to 15397\n"
     ]
    },
    {
     "name": "stdout",
     "output_type": "stream",
     "text": [
      "Data shape for DDIM sampling is (2, 4, 64, 64), eta 0.0\n",
      "Running DDIM Sampling with 20 timesteps\n"
     ]
    },
    {
     "name": "stderr",
     "output_type": "stream",
     "text": [
      "\n",
      "DDIM Sampler:   0%|          | 0/20 [00:00<?, ?it/s]\u001b[A\n",
      "DDIM Sampler:   5%|▌         | 1/20 [00:00<00:11,  1.63it/s]\u001b[A\n",
      "DDIM Sampler:  10%|█         | 2/20 [00:01<00:11,  1.60it/s]\u001b[A\n",
      "DDIM Sampler:  15%|█▌        | 3/20 [00:01<00:10,  1.60it/s]\u001b[A\n",
      "DDIM Sampler:  20%|██        | 4/20 [00:02<00:10,  1.60it/s]\u001b[A\n",
      "DDIM Sampler:  25%|██▌       | 5/20 [00:03<00:09,  1.59it/s]\u001b[A\n",
      "DDIM Sampler:  30%|███       | 6/20 [00:03<00:08,  1.60it/s]\u001b[A\n",
      "DDIM Sampler:  35%|███▌      | 7/20 [00:04<00:08,  1.60it/s]\u001b[A\n",
      "DDIM Sampler:  40%|████      | 8/20 [00:05<00:07,  1.60it/s]\u001b[A\n",
      "DDIM Sampler:  45%|████▌     | 9/20 [00:05<00:06,  1.60it/s]\u001b[A\n",
      "DDIM Sampler:  50%|█████     | 10/20 [00:06<00:06,  1.60it/s]\u001b[A\n",
      "DDIM Sampler:  55%|█████▌    | 11/20 [00:06<00:05,  1.60it/s]\u001b[A\n",
      "DDIM Sampler:  60%|██████    | 12/20 [00:07<00:05,  1.60it/s]\u001b[A\n",
      "DDIM Sampler:  65%|██████▌   | 13/20 [00:08<00:04,  1.60it/s]\u001b[A\n",
      "DDIM Sampler:  70%|███████   | 14/20 [00:08<00:03,  1.60it/s]\u001b[A\n",
      "DDIM Sampler:  75%|███████▌  | 15/20 [00:09<00:03,  1.60it/s]\u001b[A\n",
      "DDIM Sampler:  80%|████████  | 16/20 [00:10<00:02,  1.60it/s]\u001b[A\n",
      "DDIM Sampler:  85%|████████▌ | 17/20 [00:10<00:01,  1.60it/s]\u001b[A\n",
      "DDIM Sampler:  90%|█████████ | 18/20 [00:11<00:01,  1.60it/s]\u001b[A\n",
      "DDIM Sampler:  95%|█████████▌| 19/20 [00:11<00:00,  1.60it/s]\u001b[A\n",
      "DDIM Sampler: 100%|██████████| 20/20 [00:12<00:00,  1.60it/s]\u001b[A\n",
      "Global seed set to 22917\n"
     ]
    },
    {
     "name": "stdout",
     "output_type": "stream",
     "text": [
      "Data shape for DDIM sampling is (2, 4, 64, 64), eta 0.0\n",
      "Running DDIM Sampling with 20 timesteps\n"
     ]
    },
    {
     "name": "stderr",
     "output_type": "stream",
     "text": [
      "\n",
      "DDIM Sampler:   0%|          | 0/20 [00:00<?, ?it/s]\u001b[A\n",
      "DDIM Sampler:   5%|▌         | 1/20 [00:00<00:11,  1.63it/s]\u001b[A\n",
      "DDIM Sampler:  10%|█         | 2/20 [00:01<00:11,  1.59it/s]\u001b[A\n",
      "DDIM Sampler:  15%|█▌        | 3/20 [00:01<00:10,  1.59it/s]\u001b[A\n",
      "DDIM Sampler:  20%|██        | 4/20 [00:02<00:10,  1.60it/s]\u001b[A\n",
      "DDIM Sampler:  25%|██▌       | 5/20 [00:03<00:09,  1.59it/s]\u001b[A\n",
      "DDIM Sampler:  30%|███       | 6/20 [00:03<00:08,  1.60it/s]\u001b[A\n",
      "DDIM Sampler:  35%|███▌      | 7/20 [00:04<00:08,  1.60it/s]\u001b[A\n",
      "DDIM Sampler:  40%|████      | 8/20 [00:05<00:07,  1.59it/s]\u001b[A\n",
      "DDIM Sampler:  45%|████▌     | 9/20 [00:05<00:06,  1.60it/s]\u001b[A\n",
      "DDIM Sampler:  50%|█████     | 10/20 [00:06<00:06,  1.60it/s]\u001b[A\n",
      "DDIM Sampler:  55%|█████▌    | 11/20 [00:06<00:05,  1.59it/s]\u001b[A\n",
      "DDIM Sampler:  60%|██████    | 12/20 [00:07<00:05,  1.60it/s]\u001b[A\n",
      "DDIM Sampler:  65%|██████▌   | 13/20 [00:08<00:04,  1.59it/s]\u001b[A\n",
      "DDIM Sampler:  70%|███████   | 14/20 [00:08<00:03,  1.59it/s]\u001b[A\n",
      "DDIM Sampler:  75%|███████▌  | 15/20 [00:09<00:03,  1.60it/s]\u001b[A\n",
      "DDIM Sampler:  80%|████████  | 16/20 [00:10<00:02,  1.60it/s]\u001b[A\n",
      "DDIM Sampler:  85%|████████▌ | 17/20 [00:10<00:01,  1.60it/s]\u001b[A\n",
      "DDIM Sampler:  90%|█████████ | 18/20 [00:11<00:01,  1.60it/s]\u001b[A\n",
      "DDIM Sampler:  95%|█████████▌| 19/20 [00:11<00:00,  1.60it/s]\u001b[A\n",
      "DDIM Sampler: 100%|██████████| 20/20 [00:12<00:00,  1.60it/s]\u001b[A\n",
      "Global seed set to 10893\n"
     ]
    },
    {
     "name": "stdout",
     "output_type": "stream",
     "text": [
      "Data shape for DDIM sampling is (2, 4, 64, 64), eta 0.0\n",
      "Running DDIM Sampling with 20 timesteps\n"
     ]
    },
    {
     "name": "stderr",
     "output_type": "stream",
     "text": [
      "\n",
      "DDIM Sampler:   0%|          | 0/20 [00:00<?, ?it/s]\u001b[A\n",
      "DDIM Sampler:   5%|▌         | 1/20 [00:00<00:11,  1.63it/s]\u001b[A\n",
      "DDIM Sampler:  10%|█         | 2/20 [00:01<00:11,  1.59it/s]\u001b[A\n",
      "DDIM Sampler:  15%|█▌        | 3/20 [00:01<00:10,  1.59it/s]\u001b[A\n",
      "DDIM Sampler:  20%|██        | 4/20 [00:02<00:10,  1.60it/s]\u001b[A\n",
      "DDIM Sampler:  25%|██▌       | 5/20 [00:03<00:09,  1.59it/s]\u001b[A\n",
      "DDIM Sampler:  30%|███       | 6/20 [00:03<00:08,  1.60it/s]\u001b[A\n",
      "DDIM Sampler:  35%|███▌      | 7/20 [00:04<00:08,  1.60it/s]\u001b[A\n",
      "DDIM Sampler:  40%|████      | 8/20 [00:05<00:07,  1.60it/s]\u001b[A\n",
      "DDIM Sampler:  45%|████▌     | 9/20 [00:05<00:06,  1.60it/s]\u001b[A\n",
      "DDIM Sampler:  50%|█████     | 10/20 [00:06<00:06,  1.60it/s]\u001b[A\n",
      "DDIM Sampler:  55%|█████▌    | 11/20 [00:06<00:05,  1.60it/s]\u001b[A\n",
      "DDIM Sampler:  60%|██████    | 12/20 [00:07<00:05,  1.60it/s]\u001b[A\n",
      "DDIM Sampler:  65%|██████▌   | 13/20 [00:08<00:04,  1.60it/s]\u001b[A\n",
      "DDIM Sampler:  70%|███████   | 14/20 [00:08<00:03,  1.60it/s]\u001b[A\n",
      "DDIM Sampler:  75%|███████▌  | 15/20 [00:09<00:03,  1.60it/s]\u001b[A\n",
      "DDIM Sampler:  80%|████████  | 16/20 [00:10<00:02,  1.60it/s]\u001b[A\n",
      "DDIM Sampler:  85%|████████▌ | 17/20 [00:10<00:01,  1.60it/s]\u001b[A\n",
      "DDIM Sampler:  90%|█████████ | 18/20 [00:11<00:01,  1.60it/s]\u001b[A\n",
      "DDIM Sampler:  95%|█████████▌| 19/20 [00:11<00:00,  1.60it/s]\u001b[A\n",
      "DDIM Sampler: 100%|██████████| 20/20 [00:12<00:00,  1.60it/s]\u001b[A\n",
      "Global seed set to 48703\n"
     ]
    },
    {
     "name": "stdout",
     "output_type": "stream",
     "text": [
      "Data shape for DDIM sampling is (2, 4, 64, 64), eta 0.0\n",
      "Running DDIM Sampling with 20 timesteps\n"
     ]
    },
    {
     "name": "stderr",
     "output_type": "stream",
     "text": [
      "\n",
      "DDIM Sampler:   0%|          | 0/20 [00:00<?, ?it/s]\u001b[A\n",
      "DDIM Sampler:   5%|▌         | 1/20 [00:00<00:11,  1.63it/s]\u001b[A\n",
      "DDIM Sampler:  10%|█         | 2/20 [00:01<00:11,  1.60it/s]\u001b[A\n",
      "DDIM Sampler:  15%|█▌        | 3/20 [00:01<00:10,  1.60it/s]\u001b[A\n",
      "DDIM Sampler:  20%|██        | 4/20 [00:02<00:10,  1.60it/s]\u001b[A\n",
      "DDIM Sampler:  25%|██▌       | 5/20 [00:03<00:09,  1.60it/s]\u001b[A\n",
      "DDIM Sampler:  30%|███       | 6/20 [00:03<00:08,  1.60it/s]\u001b[A\n",
      "DDIM Sampler:  35%|███▌      | 7/20 [00:04<00:08,  1.60it/s]\u001b[A\n",
      "DDIM Sampler:  40%|████      | 8/20 [00:05<00:07,  1.60it/s]\u001b[A\n",
      "DDIM Sampler:  45%|████▌     | 9/20 [00:05<00:06,  1.60it/s]\u001b[A\n",
      "DDIM Sampler:  50%|█████     | 10/20 [00:06<00:06,  1.59it/s]\u001b[A\n",
      "DDIM Sampler:  55%|█████▌    | 11/20 [00:06<00:05,  1.60it/s]\u001b[A\n",
      "DDIM Sampler:  60%|██████    | 12/20 [00:07<00:05,  1.59it/s]\u001b[A\n",
      "DDIM Sampler:  65%|██████▌   | 13/20 [00:08<00:04,  1.60it/s]\u001b[A\n",
      "DDIM Sampler:  70%|███████   | 14/20 [00:08<00:03,  1.60it/s]\u001b[A\n",
      "DDIM Sampler:  75%|███████▌  | 15/20 [00:09<00:03,  1.59it/s]\u001b[A\n",
      "DDIM Sampler:  80%|████████  | 16/20 [00:10<00:02,  1.59it/s]\u001b[A\n",
      "DDIM Sampler:  85%|████████▌ | 17/20 [00:10<00:01,  1.59it/s]\u001b[A\n",
      "DDIM Sampler:  90%|█████████ | 18/20 [00:11<00:01,  1.59it/s]\u001b[A\n",
      "DDIM Sampler:  95%|█████████▌| 19/20 [00:11<00:00,  1.60it/s]\u001b[A\n",
      "DDIM Sampler: 100%|██████████| 20/20 [00:12<00:00,  1.60it/s]\u001b[A\n",
      "Global seed set to 4695\n"
     ]
    },
    {
     "name": "stdout",
     "output_type": "stream",
     "text": [
      "Data shape for DDIM sampling is (2, 4, 72, 64), eta 0.0\n",
      "Running DDIM Sampling with 20 timesteps\n"
     ]
    },
    {
     "name": "stderr",
     "output_type": "stream",
     "text": [
      "\n",
      "DDIM Sampler:   0%|          | 0/20 [00:00<?, ?it/s]\u001b[A\n",
      "DDIM Sampler:   5%|▌         | 1/20 [00:00<00:13,  1.37it/s]\u001b[A\n",
      "DDIM Sampler:  10%|█         | 2/20 [00:01<00:13,  1.34it/s]\u001b[A\n",
      "DDIM Sampler:  15%|█▌        | 3/20 [00:02<00:12,  1.33it/s]\u001b[A\n",
      "DDIM Sampler:  20%|██        | 4/20 [00:02<00:11,  1.34it/s]\u001b[A\n",
      "DDIM Sampler:  25%|██▌       | 5/20 [00:03<00:11,  1.34it/s]\u001b[A\n",
      "DDIM Sampler:  30%|███       | 6/20 [00:04<00:10,  1.34it/s]\u001b[A\n",
      "DDIM Sampler:  35%|███▌      | 7/20 [00:05<00:09,  1.34it/s]\u001b[A\n",
      "DDIM Sampler:  40%|████      | 8/20 [00:05<00:08,  1.34it/s]\u001b[A\n",
      "DDIM Sampler:  45%|████▌     | 9/20 [00:06<00:08,  1.34it/s]\u001b[A\n",
      "DDIM Sampler:  50%|█████     | 10/20 [00:07<00:07,  1.34it/s]\u001b[A\n",
      "DDIM Sampler:  55%|█████▌    | 11/20 [00:08<00:06,  1.34it/s]\u001b[A\n",
      "DDIM Sampler:  60%|██████    | 12/20 [00:08<00:05,  1.34it/s]\u001b[A\n",
      "DDIM Sampler:  65%|██████▌   | 13/20 [00:09<00:05,  1.34it/s]\u001b[A\n",
      "DDIM Sampler:  70%|███████   | 14/20 [00:10<00:04,  1.34it/s]\u001b[A\n",
      "DDIM Sampler:  75%|███████▌  | 15/20 [00:11<00:03,  1.34it/s]\u001b[A\n",
      "DDIM Sampler:  80%|████████  | 16/20 [00:11<00:02,  1.34it/s]\u001b[A\n",
      "DDIM Sampler:  85%|████████▌ | 17/20 [00:12<00:02,  1.34it/s]\u001b[A\n",
      "DDIM Sampler:  90%|█████████ | 18/20 [00:13<00:01,  1.34it/s]\u001b[A\n",
      "DDIM Sampler:  95%|█████████▌| 19/20 [00:14<00:00,  1.34it/s]\u001b[A\n",
      "DDIM Sampler: 100%|██████████| 20/20 [00:14<00:00,  1.34it/s]\u001b[A\n",
      "Global seed set to 52827\n"
     ]
    },
    {
     "name": "stdout",
     "output_type": "stream",
     "text": [
      "Data shape for DDIM sampling is (2, 4, 64, 64), eta 0.0\n",
      "Running DDIM Sampling with 20 timesteps\n"
     ]
    },
    {
     "name": "stderr",
     "output_type": "stream",
     "text": [
      "\n",
      "DDIM Sampler:   0%|          | 0/20 [00:00<?, ?it/s]\u001b[A\n",
      "DDIM Sampler:   5%|▌         | 1/20 [00:00<00:11,  1.64it/s]\u001b[A\n",
      "DDIM Sampler:  10%|█         | 2/20 [00:01<00:11,  1.59it/s]\u001b[A\n",
      "DDIM Sampler:  15%|█▌        | 3/20 [00:01<00:10,  1.59it/s]\u001b[A\n",
      "DDIM Sampler:  20%|██        | 4/20 [00:02<00:10,  1.60it/s]\u001b[A\n",
      "DDIM Sampler:  25%|██▌       | 5/20 [00:03<00:09,  1.59it/s]\u001b[A\n",
      "DDIM Sampler:  30%|███       | 6/20 [00:03<00:08,  1.60it/s]\u001b[A\n",
      "DDIM Sampler:  35%|███▌      | 7/20 [00:04<00:08,  1.60it/s]\u001b[A\n",
      "DDIM Sampler:  40%|████      | 8/20 [00:05<00:07,  1.59it/s]\u001b[A\n",
      "DDIM Sampler:  45%|████▌     | 9/20 [00:05<00:06,  1.60it/s]\u001b[A\n",
      "DDIM Sampler:  50%|█████     | 10/20 [00:06<00:06,  1.60it/s]\u001b[A\n",
      "DDIM Sampler:  55%|█████▌    | 11/20 [00:06<00:05,  1.59it/s]\u001b[A\n",
      "DDIM Sampler:  60%|██████    | 12/20 [00:07<00:05,  1.60it/s]\u001b[A\n",
      "DDIM Sampler:  65%|██████▌   | 13/20 [00:08<00:04,  1.59it/s]\u001b[A\n",
      "DDIM Sampler:  70%|███████   | 14/20 [00:08<00:03,  1.59it/s]\u001b[A\n",
      "DDIM Sampler:  75%|███████▌  | 15/20 [00:09<00:03,  1.60it/s]\u001b[A\n",
      "DDIM Sampler:  80%|████████  | 16/20 [00:10<00:02,  1.59it/s]\u001b[A\n",
      "DDIM Sampler:  85%|████████▌ | 17/20 [00:10<00:01,  1.59it/s]\u001b[A\n",
      "DDIM Sampler:  90%|█████████ | 18/20 [00:11<00:01,  1.59it/s]\u001b[A\n",
      "DDIM Sampler:  95%|█████████▌| 19/20 [00:11<00:00,  1.59it/s]\u001b[A\n",
      "DDIM Sampler: 100%|██████████| 20/20 [00:12<00:00,  1.60it/s]\u001b[A\n",
      "Global seed set to 1288\n"
     ]
    },
    {
     "name": "stdout",
     "output_type": "stream",
     "text": [
      "Data shape for DDIM sampling is (2, 4, 64, 96), eta 0.0\n",
      "Running DDIM Sampling with 20 timesteps\n"
     ]
    },
    {
     "name": "stderr",
     "output_type": "stream",
     "text": [
      "\n",
      "DDIM Sampler:   0%|          | 0/20 [00:00<?, ?it/s]\u001b[A\n",
      "DDIM Sampler:   5%|▌         | 1/20 [00:01<00:22,  1.17s/it]\u001b[A\n",
      "DDIM Sampler:  10%|█         | 2/20 [00:02<00:20,  1.16s/it]\u001b[A\n",
      "DDIM Sampler:  15%|█▌        | 3/20 [00:03<00:19,  1.16s/it]\u001b[A\n",
      "DDIM Sampler:  20%|██        | 4/20 [00:04<00:18,  1.16s/it]\u001b[A\n",
      "DDIM Sampler:  25%|██▌       | 5/20 [00:05<00:17,  1.16s/it]\u001b[A\n",
      "DDIM Sampler:  30%|███       | 6/20 [00:06<00:16,  1.16s/it]\u001b[A\n",
      "DDIM Sampler:  35%|███▌      | 7/20 [00:08<00:15,  1.16s/it]\u001b[A\n",
      "DDIM Sampler:  40%|████      | 8/20 [00:09<00:13,  1.16s/it]\u001b[A\n",
      "DDIM Sampler:  45%|████▌     | 9/20 [00:10<00:12,  1.16s/it]\u001b[A\n",
      "DDIM Sampler:  50%|█████     | 10/20 [00:11<00:11,  1.16s/it]\u001b[A\n",
      "DDIM Sampler:  55%|█████▌    | 11/20 [00:12<00:10,  1.16s/it]\u001b[A\n",
      "DDIM Sampler:  60%|██████    | 12/20 [00:13<00:09,  1.16s/it]\u001b[A\n",
      "DDIM Sampler:  65%|██████▌   | 13/20 [00:15<00:08,  1.16s/it]\u001b[A\n",
      "DDIM Sampler:  70%|███████   | 14/20 [00:16<00:06,  1.16s/it]\u001b[A\n",
      "DDIM Sampler:  75%|███████▌  | 15/20 [00:17<00:05,  1.16s/it]\u001b[A\n",
      "DDIM Sampler:  80%|████████  | 16/20 [00:18<00:04,  1.16s/it]\u001b[A\n",
      "DDIM Sampler:  85%|████████▌ | 17/20 [00:19<00:03,  1.16s/it]\u001b[A\n",
      "DDIM Sampler:  90%|█████████ | 18/20 [00:20<00:02,  1.16s/it]\u001b[A\n",
      "DDIM Sampler:  95%|█████████▌| 19/20 [00:22<00:01,  1.16s/it]\u001b[A\n",
      "DDIM Sampler: 100%|██████████| 20/20 [00:23<00:00,  1.16s/it]\u001b[A\n",
      "Global seed set to 5683\n"
     ]
    },
    {
     "name": "stdout",
     "output_type": "stream",
     "text": [
      "Data shape for DDIM sampling is (2, 4, 64, 64), eta 0.0\n",
      "Running DDIM Sampling with 20 timesteps\n"
     ]
    },
    {
     "name": "stderr",
     "output_type": "stream",
     "text": [
      "\n",
      "DDIM Sampler:   0%|          | 0/20 [00:00<?, ?it/s]\u001b[A\n",
      "DDIM Sampler:   5%|▌         | 1/20 [00:00<00:11,  1.63it/s]\u001b[A\n",
      "DDIM Sampler:  10%|█         | 2/20 [00:01<00:11,  1.59it/s]\u001b[A\n",
      "DDIM Sampler:  15%|█▌        | 3/20 [00:01<00:10,  1.59it/s]\u001b[A\n",
      "DDIM Sampler:  20%|██        | 4/20 [00:02<00:10,  1.59it/s]\u001b[A\n",
      "DDIM Sampler:  25%|██▌       | 5/20 [00:03<00:09,  1.59it/s]\u001b[A\n",
      "DDIM Sampler:  30%|███       | 6/20 [00:03<00:08,  1.60it/s]\u001b[A\n",
      "DDIM Sampler:  35%|███▌      | 7/20 [00:04<00:08,  1.59it/s]\u001b[A\n",
      "DDIM Sampler:  40%|████      | 8/20 [00:05<00:07,  1.59it/s]\u001b[A\n",
      "DDIM Sampler:  45%|████▌     | 9/20 [00:05<00:06,  1.60it/s]\u001b[A\n",
      "DDIM Sampler:  50%|█████     | 10/20 [00:06<00:06,  1.59it/s]\u001b[A\n",
      "DDIM Sampler:  55%|█████▌    | 11/20 [00:06<00:05,  1.60it/s]\u001b[A\n",
      "DDIM Sampler:  60%|██████    | 12/20 [00:07<00:05,  1.60it/s]\u001b[A\n",
      "DDIM Sampler:  65%|██████▌   | 13/20 [00:08<00:04,  1.60it/s]\u001b[A\n",
      "DDIM Sampler:  70%|███████   | 14/20 [00:08<00:03,  1.60it/s]\u001b[A\n",
      "DDIM Sampler:  75%|███████▌  | 15/20 [00:09<00:03,  1.60it/s]\u001b[A\n",
      "DDIM Sampler:  80%|████████  | 16/20 [00:10<00:02,  1.60it/s]\u001b[A\n",
      "DDIM Sampler:  85%|████████▌ | 17/20 [00:10<00:01,  1.60it/s]\u001b[A\n",
      "DDIM Sampler:  90%|█████████ | 18/20 [00:11<00:01,  1.60it/s]\u001b[A\n",
      "DDIM Sampler:  95%|█████████▌| 19/20 [00:11<00:00,  1.60it/s]\u001b[A\n",
      "DDIM Sampler: 100%|██████████| 20/20 [00:12<00:00,  1.60it/s]\u001b[A\n",
      "Global seed set to 42026\n"
     ]
    },
    {
     "name": "stdout",
     "output_type": "stream",
     "text": [
      "Data shape for DDIM sampling is (2, 4, 64, 64), eta 0.0\n",
      "Running DDIM Sampling with 20 timesteps\n"
     ]
    },
    {
     "name": "stderr",
     "output_type": "stream",
     "text": [
      "\n",
      "DDIM Sampler:   0%|          | 0/20 [00:00<?, ?it/s]\u001b[A\n",
      "DDIM Sampler:   5%|▌         | 1/20 [00:00<00:11,  1.63it/s]\u001b[A\n",
      "DDIM Sampler:  10%|█         | 2/20 [00:01<00:11,  1.59it/s]\u001b[A\n",
      "DDIM Sampler:  15%|█▌        | 3/20 [00:01<00:10,  1.60it/s]\u001b[A\n",
      "DDIM Sampler:  20%|██        | 4/20 [00:02<00:09,  1.60it/s]\u001b[A\n",
      "DDIM Sampler:  25%|██▌       | 5/20 [00:03<00:09,  1.60it/s]\u001b[A\n",
      "DDIM Sampler:  30%|███       | 6/20 [00:03<00:08,  1.60it/s]\u001b[A\n",
      "DDIM Sampler:  35%|███▌      | 7/20 [00:04<00:08,  1.60it/s]\u001b[A\n",
      "DDIM Sampler:  40%|████      | 8/20 [00:05<00:07,  1.60it/s]\u001b[A\n",
      "DDIM Sampler:  45%|████▌     | 9/20 [00:05<00:06,  1.60it/s]\u001b[A\n",
      "DDIM Sampler:  50%|█████     | 10/20 [00:06<00:06,  1.60it/s]\u001b[A\n",
      "DDIM Sampler:  55%|█████▌    | 11/20 [00:06<00:05,  1.60it/s]\u001b[A\n",
      "DDIM Sampler:  60%|██████    | 12/20 [00:07<00:05,  1.60it/s]\u001b[A\n",
      "DDIM Sampler:  65%|██████▌   | 13/20 [00:08<00:04,  1.60it/s]\u001b[A\n",
      "DDIM Sampler:  70%|███████   | 14/20 [00:08<00:03,  1.60it/s]\u001b[A\n",
      "DDIM Sampler:  75%|███████▌  | 15/20 [00:09<00:03,  1.60it/s]\u001b[A\n",
      "DDIM Sampler:  80%|████████  | 16/20 [00:10<00:02,  1.60it/s]\u001b[A\n",
      "DDIM Sampler:  85%|████████▌ | 17/20 [00:10<00:01,  1.60it/s]\u001b[A\n",
      "DDIM Sampler:  90%|█████████ | 18/20 [00:11<00:01,  1.60it/s]\u001b[A\n",
      "DDIM Sampler:  95%|█████████▌| 19/20 [00:11<00:00,  1.60it/s]\u001b[A\n",
      "DDIM Sampler: 100%|██████████| 20/20 [00:12<00:00,  1.60it/s]\u001b[A\n",
      "Global seed set to 64014\n"
     ]
    },
    {
     "name": "stdout",
     "output_type": "stream",
     "text": [
      "Data shape for DDIM sampling is (2, 4, 64, 64), eta 0.0\n",
      "Running DDIM Sampling with 20 timesteps\n"
     ]
    },
    {
     "name": "stderr",
     "output_type": "stream",
     "text": [
      "\n",
      "DDIM Sampler:   0%|          | 0/20 [00:00<?, ?it/s]\u001b[A\n",
      "DDIM Sampler:   5%|▌         | 1/20 [00:00<00:11,  1.63it/s]\u001b[A\n",
      "DDIM Sampler:  10%|█         | 2/20 [00:01<00:11,  1.59it/s]\u001b[A\n",
      "DDIM Sampler:  15%|█▌        | 3/20 [00:01<00:10,  1.59it/s]\u001b[A\n",
      "DDIM Sampler:  20%|██        | 4/20 [00:02<00:10,  1.59it/s]\u001b[A\n",
      "DDIM Sampler:  25%|██▌       | 5/20 [00:03<00:09,  1.59it/s]\u001b[A\n",
      "DDIM Sampler:  30%|███       | 6/20 [00:03<00:08,  1.60it/s]\u001b[A\n",
      "DDIM Sampler:  35%|███▌      | 7/20 [00:04<00:08,  1.59it/s]\u001b[A\n",
      "DDIM Sampler:  40%|████      | 8/20 [00:05<00:07,  1.59it/s]\u001b[A\n",
      "DDIM Sampler:  45%|████▌     | 9/20 [00:05<00:06,  1.60it/s]\u001b[A\n",
      "DDIM Sampler:  50%|█████     | 10/20 [00:06<00:06,  1.59it/s]\u001b[A\n",
      "DDIM Sampler:  55%|█████▌    | 11/20 [00:06<00:05,  1.60it/s]\u001b[A\n",
      "DDIM Sampler:  60%|██████    | 12/20 [00:07<00:05,  1.60it/s]\u001b[A\n",
      "DDIM Sampler:  65%|██████▌   | 13/20 [00:08<00:04,  1.60it/s]\u001b[A\n",
      "DDIM Sampler:  70%|███████   | 14/20 [00:08<00:03,  1.60it/s]\u001b[A\n",
      "DDIM Sampler:  75%|███████▌  | 15/20 [00:09<00:03,  1.60it/s]\u001b[A\n",
      "DDIM Sampler:  80%|████████  | 16/20 [00:10<00:02,  1.59it/s]\u001b[A\n",
      "DDIM Sampler:  85%|████████▌ | 17/20 [00:10<00:01,  1.59it/s]\u001b[A\n",
      "DDIM Sampler:  90%|█████████ | 18/20 [00:11<00:01,  1.59it/s]\u001b[A\n",
      "DDIM Sampler:  95%|█████████▌| 19/20 [00:11<00:00,  1.59it/s]\u001b[A\n",
      "DDIM Sampler: 100%|██████████| 20/20 [00:12<00:00,  1.59it/s]\u001b[A\n",
      "Global seed set to 10474\n"
     ]
    },
    {
     "name": "stdout",
     "output_type": "stream",
     "text": [
      "Data shape for DDIM sampling is (2, 4, 64, 64), eta 0.0\n",
      "Running DDIM Sampling with 20 timesteps\n"
     ]
    },
    {
     "name": "stderr",
     "output_type": "stream",
     "text": [
      "\n",
      "DDIM Sampler:   0%|          | 0/20 [00:00<?, ?it/s]\u001b[A\n",
      "DDIM Sampler:   5%|▌         | 1/20 [00:00<00:11,  1.63it/s]\u001b[A\n",
      "DDIM Sampler:  10%|█         | 2/20 [00:01<00:11,  1.58it/s]\u001b[A\n",
      "DDIM Sampler:  15%|█▌        | 3/20 [00:01<00:10,  1.59it/s]\u001b[A\n",
      "DDIM Sampler:  20%|██        | 4/20 [00:02<00:10,  1.60it/s]\u001b[A\n",
      "DDIM Sampler:  25%|██▌       | 5/20 [00:03<00:09,  1.59it/s]\u001b[A\n",
      "DDIM Sampler:  30%|███       | 6/20 [00:03<00:08,  1.60it/s]\u001b[A\n",
      "DDIM Sampler:  35%|███▌      | 7/20 [00:04<00:08,  1.59it/s]\u001b[A\n",
      "DDIM Sampler:  40%|████      | 8/20 [00:05<00:07,  1.59it/s]\u001b[A\n",
      "DDIM Sampler:  45%|████▌     | 9/20 [00:05<00:06,  1.60it/s]\u001b[A\n",
      "DDIM Sampler:  50%|█████     | 10/20 [00:06<00:06,  1.59it/s]\u001b[A\n",
      "DDIM Sampler:  55%|█████▌    | 11/20 [00:06<00:05,  1.60it/s]\u001b[A\n",
      "DDIM Sampler:  60%|██████    | 12/20 [00:07<00:05,  1.60it/s]\u001b[A\n",
      "DDIM Sampler:  65%|██████▌   | 13/20 [00:08<00:04,  1.60it/s]\u001b[A\n",
      "DDIM Sampler:  70%|███████   | 14/20 [00:08<00:03,  1.60it/s]\u001b[A\n",
      "DDIM Sampler:  75%|███████▌  | 15/20 [00:09<00:03,  1.60it/s]\u001b[A\n",
      "DDIM Sampler:  80%|████████  | 16/20 [00:10<00:02,  1.60it/s]\u001b[A\n",
      "DDIM Sampler:  85%|████████▌ | 17/20 [00:10<00:01,  1.60it/s]\u001b[A\n",
      "DDIM Sampler:  90%|█████████ | 18/20 [00:11<00:01,  1.60it/s]\u001b[A\n",
      "DDIM Sampler:  95%|█████████▌| 19/20 [00:11<00:00,  1.60it/s]\u001b[A\n",
      "DDIM Sampler: 100%|██████████| 20/20 [00:12<00:00,  1.60it/s]\u001b[A\n",
      "Global seed set to 45912\n"
     ]
    },
    {
     "name": "stdout",
     "output_type": "stream",
     "text": [
      "Data shape for DDIM sampling is (2, 4, 64, 64), eta 0.0\n",
      "Running DDIM Sampling with 20 timesteps\n"
     ]
    },
    {
     "name": "stderr",
     "output_type": "stream",
     "text": [
      "\n",
      "DDIM Sampler:   0%|          | 0/20 [00:00<?, ?it/s]\u001b[A\n",
      "DDIM Sampler:   5%|▌         | 1/20 [00:00<00:11,  1.63it/s]\u001b[A\n",
      "DDIM Sampler:  10%|█         | 2/20 [00:01<00:11,  1.59it/s]\u001b[A\n",
      "DDIM Sampler:  15%|█▌        | 3/20 [00:01<00:10,  1.59it/s]\u001b[A\n",
      "DDIM Sampler:  20%|██        | 4/20 [00:02<00:10,  1.60it/s]\u001b[A\n",
      "DDIM Sampler:  25%|██▌       | 5/20 [00:03<00:09,  1.59it/s]\u001b[A\n",
      "DDIM Sampler:  30%|███       | 6/20 [00:03<00:08,  1.60it/s]\u001b[A\n",
      "DDIM Sampler:  35%|███▌      | 7/20 [00:04<00:08,  1.60it/s]\u001b[A\n",
      "DDIM Sampler:  40%|████      | 8/20 [00:05<00:07,  1.59it/s]\u001b[A\n",
      "DDIM Sampler:  45%|████▌     | 9/20 [00:05<00:06,  1.60it/s]\u001b[A\n",
      "DDIM Sampler:  50%|█████     | 10/20 [00:06<00:06,  1.59it/s]\u001b[A\n",
      "DDIM Sampler:  55%|█████▌    | 11/20 [00:06<00:05,  1.59it/s]\u001b[A\n",
      "DDIM Sampler:  60%|██████    | 12/20 [00:07<00:05,  1.59it/s]\u001b[A\n",
      "DDIM Sampler:  65%|██████▌   | 13/20 [00:08<00:04,  1.59it/s]\u001b[A\n",
      "DDIM Sampler:  70%|███████   | 14/20 [00:08<00:03,  1.59it/s]\u001b[A\n",
      "DDIM Sampler:  75%|███████▌  | 15/20 [00:09<00:03,  1.60it/s]\u001b[A\n",
      "DDIM Sampler:  80%|████████  | 16/20 [00:10<00:02,  1.60it/s]\u001b[A\n",
      "DDIM Sampler:  85%|████████▌ | 17/20 [00:10<00:01,  1.60it/s]\u001b[A\n",
      "DDIM Sampler:  90%|█████████ | 18/20 [00:11<00:01,  1.60it/s]\u001b[A\n",
      "DDIM Sampler:  95%|█████████▌| 19/20 [00:11<00:00,  1.60it/s]\u001b[A\n",
      "DDIM Sampler: 100%|██████████| 20/20 [00:12<00:00,  1.60it/s]\u001b[A\n",
      "Global seed set to 54037\n"
     ]
    },
    {
     "name": "stdout",
     "output_type": "stream",
     "text": [
      "Data shape for DDIM sampling is (2, 4, 64, 72), eta 0.0\n",
      "Running DDIM Sampling with 20 timesteps\n"
     ]
    },
    {
     "name": "stderr",
     "output_type": "stream",
     "text": [
      "\n",
      "DDIM Sampler:   0%|          | 0/20 [00:00<?, ?it/s]\u001b[A\n",
      "DDIM Sampler:   5%|▌         | 1/20 [00:00<00:13,  1.36it/s]\u001b[A\n",
      "DDIM Sampler:  10%|█         | 2/20 [00:01<00:13,  1.33it/s]\u001b[A\n",
      "DDIM Sampler:  15%|█▌        | 3/20 [00:02<00:12,  1.33it/s]\u001b[A\n",
      "DDIM Sampler:  20%|██        | 4/20 [00:03<00:12,  1.33it/s]\u001b[A\n",
      "DDIM Sampler:  25%|██▌       | 5/20 [00:03<00:11,  1.33it/s]\u001b[A\n",
      "DDIM Sampler:  30%|███       | 6/20 [00:04<00:10,  1.33it/s]\u001b[A\n",
      "DDIM Sampler:  35%|███▌      | 7/20 [00:05<00:09,  1.33it/s]\u001b[A\n",
      "DDIM Sampler:  40%|████      | 8/20 [00:06<00:09,  1.33it/s]\u001b[A\n",
      "DDIM Sampler:  45%|████▌     | 9/20 [00:06<00:08,  1.33it/s]\u001b[A\n",
      "DDIM Sampler:  50%|█████     | 10/20 [00:07<00:07,  1.33it/s]\u001b[A\n",
      "DDIM Sampler:  55%|█████▌    | 11/20 [00:08<00:06,  1.33it/s]\u001b[A\n",
      "DDIM Sampler:  60%|██████    | 12/20 [00:09<00:05,  1.33it/s]\u001b[A\n",
      "DDIM Sampler:  65%|██████▌   | 13/20 [00:09<00:05,  1.33it/s]\u001b[A\n",
      "DDIM Sampler:  70%|███████   | 14/20 [00:10<00:04,  1.33it/s]\u001b[A\n",
      "DDIM Sampler:  75%|███████▌  | 15/20 [00:11<00:03,  1.33it/s]\u001b[A\n",
      "DDIM Sampler:  80%|████████  | 16/20 [00:12<00:02,  1.33it/s]\u001b[A\n",
      "DDIM Sampler:  85%|████████▌ | 17/20 [00:12<00:02,  1.33it/s]\u001b[A\n",
      "DDIM Sampler:  90%|█████████ | 18/20 [00:13<00:01,  1.33it/s]\u001b[A\n",
      "DDIM Sampler:  95%|█████████▌| 19/20 [00:14<00:00,  1.33it/s]\u001b[A\n",
      "DDIM Sampler: 100%|██████████| 20/20 [00:15<00:00,  1.33it/s]\u001b[A\n",
      "Global seed set to 56317\n"
     ]
    },
    {
     "name": "stdout",
     "output_type": "stream",
     "text": [
      "Data shape for DDIM sampling is (2, 4, 64, 112), eta 0.0\n",
      "Running DDIM Sampling with 20 timesteps\n"
     ]
    },
    {
     "name": "stderr",
     "output_type": "stream",
     "text": [
      "\n",
      "DDIM Sampler:   0%|          | 0/20 [00:00<?, ?it/s]\u001b[A\n",
      "DDIM Sampler:   5%|▌         | 1/20 [00:01<00:28,  1.51s/it]\u001b[A\n",
      "DDIM Sampler:  10%|█         | 2/20 [00:03<00:27,  1.51s/it]\u001b[A\n",
      "DDIM Sampler:  15%|█▌        | 3/20 [00:04<00:25,  1.51s/it]\u001b[A\n",
      "DDIM Sampler:  20%|██        | 4/20 [00:06<00:24,  1.51s/it]\u001b[A\n",
      "DDIM Sampler:  25%|██▌       | 5/20 [00:07<00:22,  1.51s/it]\u001b[A\n",
      "DDIM Sampler:  30%|███       | 6/20 [00:09<00:21,  1.51s/it]\u001b[A\n",
      "DDIM Sampler:  35%|███▌      | 7/20 [00:10<00:19,  1.51s/it]\u001b[A\n",
      "DDIM Sampler:  40%|████      | 8/20 [00:12<00:18,  1.51s/it]\u001b[A\n",
      "DDIM Sampler:  45%|████▌     | 9/20 [00:13<00:16,  1.51s/it]\u001b[A\n",
      "DDIM Sampler:  50%|█████     | 10/20 [00:15<00:15,  1.51s/it]\u001b[A\n",
      "DDIM Sampler:  55%|█████▌    | 11/20 [00:16<00:13,  1.51s/it]\u001b[A\n",
      "DDIM Sampler:  60%|██████    | 12/20 [00:18<00:12,  1.51s/it]\u001b[A\n",
      "DDIM Sampler:  65%|██████▌   | 13/20 [00:19<00:10,  1.51s/it]\u001b[A\n",
      "DDIM Sampler:  70%|███████   | 14/20 [00:21<00:09,  1.51s/it]\u001b[A\n",
      "DDIM Sampler:  75%|███████▌  | 15/20 [00:22<00:07,  1.51s/it]\u001b[A\n",
      "DDIM Sampler:  80%|████████  | 16/20 [00:24<00:06,  1.51s/it]\u001b[A\n",
      "DDIM Sampler:  85%|████████▌ | 17/20 [00:25<00:04,  1.51s/it]\u001b[A\n",
      "DDIM Sampler:  90%|█████████ | 18/20 [00:27<00:03,  1.51s/it]\u001b[A\n",
      "DDIM Sampler:  95%|█████████▌| 19/20 [00:28<00:01,  1.51s/it]\u001b[A\n",
      "DDIM Sampler: 100%|██████████| 20/20 [00:30<00:00,  1.51s/it]\u001b[A\n",
      "Global seed set to 58006\n"
     ]
    },
    {
     "name": "stdout",
     "output_type": "stream",
     "text": [
      "Data shape for DDIM sampling is (2, 4, 64, 96), eta 0.0\n",
      "Running DDIM Sampling with 20 timesteps\n"
     ]
    },
    {
     "name": "stderr",
     "output_type": "stream",
     "text": [
      "\n",
      "DDIM Sampler:   0%|          | 0/20 [00:00<?, ?it/s]\u001b[A\n",
      "DDIM Sampler:   5%|▌         | 1/20 [00:01<00:22,  1.17s/it]\u001b[A\n",
      "DDIM Sampler:  10%|█         | 2/20 [00:02<00:21,  1.17s/it]\u001b[A\n",
      "DDIM Sampler:  15%|█▌        | 3/20 [00:03<00:19,  1.16s/it]\u001b[A\n",
      "DDIM Sampler:  20%|██        | 4/20 [00:04<00:18,  1.16s/it]\u001b[A\n",
      "DDIM Sampler:  25%|██▌       | 5/20 [00:05<00:17,  1.16s/it]\u001b[A\n",
      "DDIM Sampler:  30%|███       | 6/20 [00:06<00:16,  1.16s/it]\u001b[A\n",
      "DDIM Sampler:  35%|███▌      | 7/20 [00:08<00:15,  1.16s/it]\u001b[A\n",
      "DDIM Sampler:  40%|████      | 8/20 [00:09<00:13,  1.17s/it]\u001b[A\n",
      "DDIM Sampler:  45%|████▌     | 9/20 [00:10<00:12,  1.16s/it]\u001b[A\n",
      "DDIM Sampler:  50%|█████     | 10/20 [00:11<00:11,  1.16s/it]\u001b[A\n",
      "DDIM Sampler:  55%|█████▌    | 11/20 [00:12<00:10,  1.16s/it]\u001b[A\n",
      "DDIM Sampler:  60%|██████    | 12/20 [00:13<00:09,  1.16s/it]\u001b[A\n",
      "DDIM Sampler:  65%|██████▌   | 13/20 [00:15<00:08,  1.16s/it]\u001b[A\n",
      "DDIM Sampler:  70%|███████   | 14/20 [00:16<00:06,  1.16s/it]\u001b[A\n",
      "DDIM Sampler:  75%|███████▌  | 15/20 [00:17<00:05,  1.16s/it]\u001b[A\n",
      "DDIM Sampler:  80%|████████  | 16/20 [00:18<00:04,  1.16s/it]\u001b[A\n",
      "DDIM Sampler:  85%|████████▌ | 17/20 [00:19<00:03,  1.16s/it]\u001b[A\n",
      "DDIM Sampler:  90%|█████████ | 18/20 [00:20<00:02,  1.16s/it]\u001b[A\n",
      "DDIM Sampler:  95%|█████████▌| 19/20 [00:22<00:01,  1.16s/it]\u001b[A\n",
      "DDIM Sampler: 100%|██████████| 20/20 [00:23<00:00,  1.16s/it]\u001b[A\n",
      "Global seed set to 13317\n"
     ]
    },
    {
     "name": "stdout",
     "output_type": "stream",
     "text": [
      "Data shape for DDIM sampling is (2, 4, 64, 64), eta 0.0\n",
      "Running DDIM Sampling with 20 timesteps\n"
     ]
    },
    {
     "name": "stderr",
     "output_type": "stream",
     "text": [
      "\n",
      "DDIM Sampler:   0%|          | 0/20 [00:00<?, ?it/s]\u001b[A\n",
      "DDIM Sampler:   5%|▌         | 1/20 [00:00<00:11,  1.63it/s]\u001b[A\n",
      "DDIM Sampler:  10%|█         | 2/20 [00:01<00:11,  1.59it/s]\u001b[A\n",
      "DDIM Sampler:  15%|█▌        | 3/20 [00:01<00:10,  1.59it/s]\u001b[A\n",
      "DDIM Sampler:  20%|██        | 4/20 [00:02<00:10,  1.60it/s]\u001b[A\n",
      "DDIM Sampler:  25%|██▌       | 5/20 [00:03<00:09,  1.59it/s]\u001b[A\n",
      "DDIM Sampler:  30%|███       | 6/20 [00:03<00:08,  1.60it/s]\u001b[A\n",
      "DDIM Sampler:  35%|███▌      | 7/20 [00:04<00:08,  1.60it/s]\u001b[A\n",
      "DDIM Sampler:  40%|████      | 8/20 [00:05<00:07,  1.59it/s]\u001b[A\n",
      "DDIM Sampler:  45%|████▌     | 9/20 [00:05<00:06,  1.60it/s]\u001b[A\n",
      "DDIM Sampler:  50%|█████     | 10/20 [00:06<00:06,  1.60it/s]\u001b[A\n",
      "DDIM Sampler:  55%|█████▌    | 11/20 [00:06<00:05,  1.60it/s]\u001b[A\n",
      "DDIM Sampler:  60%|██████    | 12/20 [00:07<00:05,  1.60it/s]\u001b[A\n",
      "DDIM Sampler:  65%|██████▌   | 13/20 [00:08<00:04,  1.60it/s]\u001b[A\n",
      "DDIM Sampler:  70%|███████   | 14/20 [00:08<00:03,  1.60it/s]\u001b[A\n",
      "DDIM Sampler:  75%|███████▌  | 15/20 [00:09<00:03,  1.60it/s]\u001b[A\n",
      "DDIM Sampler:  80%|████████  | 16/20 [00:10<00:02,  1.60it/s]\u001b[A\n",
      "DDIM Sampler:  85%|████████▌ | 17/20 [00:10<00:01,  1.60it/s]\u001b[A\n",
      "DDIM Sampler:  90%|█████████ | 18/20 [00:11<00:01,  1.60it/s]\u001b[A\n",
      "DDIM Sampler:  95%|█████████▌| 19/20 [00:11<00:00,  1.60it/s]\u001b[A\n",
      "DDIM Sampler: 100%|██████████| 20/20 [00:12<00:00,  1.60it/s]\u001b[A\n",
      "Global seed set to 1806\n"
     ]
    },
    {
     "name": "stdout",
     "output_type": "stream",
     "text": [
      "Data shape for DDIM sampling is (2, 4, 64, 64), eta 0.0\n",
      "Running DDIM Sampling with 20 timesteps\n"
     ]
    },
    {
     "name": "stderr",
     "output_type": "stream",
     "text": [
      "\n",
      "DDIM Sampler:   0%|          | 0/20 [00:00<?, ?it/s]\u001b[A\n",
      "DDIM Sampler:   5%|▌         | 1/20 [00:00<00:11,  1.63it/s]\u001b[A\n",
      "DDIM Sampler:  10%|█         | 2/20 [00:01<00:11,  1.59it/s]\u001b[A\n",
      "DDIM Sampler:  15%|█▌        | 3/20 [00:01<00:10,  1.59it/s]\u001b[A\n",
      "DDIM Sampler:  20%|██        | 4/20 [00:02<00:10,  1.60it/s]\u001b[A\n",
      "DDIM Sampler:  25%|██▌       | 5/20 [00:03<00:09,  1.60it/s]\u001b[A\n",
      "DDIM Sampler:  30%|███       | 6/20 [00:03<00:08,  1.60it/s]\u001b[A\n",
      "DDIM Sampler:  35%|███▌      | 7/20 [00:04<00:08,  1.60it/s]\u001b[A\n",
      "DDIM Sampler:  40%|████      | 8/20 [00:05<00:07,  1.60it/s]\u001b[A\n",
      "DDIM Sampler:  45%|████▌     | 9/20 [00:05<00:06,  1.60it/s]\u001b[A\n",
      "DDIM Sampler:  50%|█████     | 10/20 [00:06<00:06,  1.60it/s]\u001b[A\n",
      "DDIM Sampler:  55%|█████▌    | 11/20 [00:06<00:05,  1.60it/s]\u001b[A\n",
      "DDIM Sampler:  60%|██████    | 12/20 [00:07<00:05,  1.60it/s]\u001b[A\n",
      "DDIM Sampler:  65%|██████▌   | 13/20 [00:08<00:04,  1.60it/s]\u001b[A\n",
      "DDIM Sampler:  70%|███████   | 14/20 [00:08<00:03,  1.60it/s]\u001b[A\n",
      "DDIM Sampler:  75%|███████▌  | 15/20 [00:09<00:03,  1.60it/s]\u001b[A\n",
      "DDIM Sampler:  80%|████████  | 16/20 [00:10<00:02,  1.60it/s]\u001b[A\n",
      "DDIM Sampler:  85%|████████▌ | 17/20 [00:10<00:01,  1.59it/s]\u001b[A\n",
      "DDIM Sampler:  90%|█████████ | 18/20 [00:11<00:01,  1.60it/s]\u001b[A\n",
      "DDIM Sampler:  95%|█████████▌| 19/20 [00:11<00:00,  1.60it/s]\u001b[A\n",
      "DDIM Sampler: 100%|██████████| 20/20 [00:12<00:00,  1.60it/s]\u001b[A\n",
      "Global seed set to 8539\n"
     ]
    },
    {
     "name": "stdout",
     "output_type": "stream",
     "text": [
      "Data shape for DDIM sampling is (2, 4, 64, 64), eta 0.0\n",
      "Running DDIM Sampling with 20 timesteps\n"
     ]
    },
    {
     "name": "stderr",
     "output_type": "stream",
     "text": [
      "\n",
      "DDIM Sampler:   0%|          | 0/20 [00:00<?, ?it/s]\u001b[A\n",
      "DDIM Sampler:   5%|▌         | 1/20 [00:00<00:11,  1.63it/s]\u001b[A\n",
      "DDIM Sampler:  10%|█         | 2/20 [00:01<00:11,  1.59it/s]\u001b[A\n",
      "DDIM Sampler:  15%|█▌        | 3/20 [00:01<00:10,  1.60it/s]\u001b[A\n",
      "DDIM Sampler:  20%|██        | 4/20 [00:02<00:10,  1.60it/s]\u001b[A\n",
      "DDIM Sampler:  25%|██▌       | 5/20 [00:03<00:09,  1.60it/s]\u001b[A\n",
      "DDIM Sampler:  30%|███       | 6/20 [00:03<00:08,  1.60it/s]\u001b[A\n",
      "DDIM Sampler:  35%|███▌      | 7/20 [00:04<00:08,  1.60it/s]\u001b[A\n",
      "DDIM Sampler:  40%|████      | 8/20 [00:05<00:07,  1.60it/s]\u001b[A\n",
      "DDIM Sampler:  45%|████▌     | 9/20 [00:05<00:06,  1.60it/s]\u001b[A\n",
      "DDIM Sampler:  50%|█████     | 10/20 [00:06<00:06,  1.60it/s]\u001b[A\n",
      "DDIM Sampler:  55%|█████▌    | 11/20 [00:06<00:05,  1.60it/s]\u001b[A\n",
      "DDIM Sampler:  60%|██████    | 12/20 [00:07<00:04,  1.60it/s]\u001b[A\n",
      "DDIM Sampler:  65%|██████▌   | 13/20 [00:08<00:04,  1.60it/s]\u001b[A\n",
      "DDIM Sampler:  70%|███████   | 14/20 [00:08<00:03,  1.60it/s]\u001b[A\n",
      "DDIM Sampler:  75%|███████▌  | 15/20 [00:09<00:03,  1.60it/s]\u001b[A\n",
      "DDIM Sampler:  80%|████████  | 16/20 [00:09<00:02,  1.60it/s]\u001b[A\n",
      "DDIM Sampler:  85%|████████▌ | 17/20 [00:10<00:01,  1.60it/s]\u001b[A\n",
      "DDIM Sampler:  90%|█████████ | 18/20 [00:11<00:01,  1.60it/s]\u001b[A\n",
      "DDIM Sampler:  95%|█████████▌| 19/20 [00:11<00:00,  1.60it/s]\u001b[A\n",
      "DDIM Sampler: 100%|██████████| 20/20 [00:12<00:00,  1.60it/s]\u001b[A\n",
      "Global seed set to 63703\n"
     ]
    },
    {
     "name": "stdout",
     "output_type": "stream",
     "text": [
      "Data shape for DDIM sampling is (2, 4, 64, 64), eta 0.0\n",
      "Running DDIM Sampling with 20 timesteps\n"
     ]
    },
    {
     "name": "stderr",
     "output_type": "stream",
     "text": [
      "\n",
      "DDIM Sampler:   0%|          | 0/20 [00:00<?, ?it/s]\u001b[A\n",
      "DDIM Sampler:   5%|▌         | 1/20 [00:00<00:11,  1.63it/s]\u001b[A\n",
      "DDIM Sampler:  10%|█         | 2/20 [00:01<00:11,  1.59it/s]\u001b[A\n",
      "DDIM Sampler:  15%|█▌        | 3/20 [00:01<00:10,  1.60it/s]\u001b[A\n",
      "DDIM Sampler:  20%|██        | 4/20 [00:02<00:09,  1.60it/s]\u001b[A\n",
      "DDIM Sampler:  25%|██▌       | 5/20 [00:03<00:09,  1.60it/s]\u001b[A\n",
      "DDIM Sampler:  30%|███       | 6/20 [00:03<00:08,  1.60it/s]\u001b[A\n",
      "DDIM Sampler:  35%|███▌      | 7/20 [00:04<00:08,  1.60it/s]\u001b[A\n",
      "DDIM Sampler:  40%|████      | 8/20 [00:05<00:07,  1.60it/s]\u001b[A\n",
      "DDIM Sampler:  45%|████▌     | 9/20 [00:05<00:06,  1.60it/s]\u001b[A\n",
      "DDIM Sampler:  50%|█████     | 10/20 [00:06<00:06,  1.60it/s]\u001b[A\n",
      "DDIM Sampler:  55%|█████▌    | 11/20 [00:06<00:05,  1.60it/s]\u001b[A\n",
      "DDIM Sampler:  60%|██████    | 12/20 [00:07<00:05,  1.60it/s]\u001b[A\n",
      "DDIM Sampler:  65%|██████▌   | 13/20 [00:08<00:04,  1.60it/s]\u001b[A\n",
      "DDIM Sampler:  70%|███████   | 14/20 [00:08<00:03,  1.60it/s]\u001b[A\n",
      "DDIM Sampler:  75%|███████▌  | 15/20 [00:09<00:03,  1.60it/s]\u001b[A\n",
      "DDIM Sampler:  80%|████████  | 16/20 [00:10<00:02,  1.59it/s]\u001b[A\n",
      "DDIM Sampler:  85%|████████▌ | 17/20 [00:10<00:01,  1.60it/s]\u001b[A\n",
      "DDIM Sampler:  90%|█████████ | 18/20 [00:11<00:01,  1.60it/s]\u001b[A\n",
      "DDIM Sampler:  95%|█████████▌| 19/20 [00:11<00:00,  1.59it/s]\u001b[A\n",
      "DDIM Sampler: 100%|██████████| 20/20 [00:12<00:00,  1.60it/s]\u001b[A\n",
      "Global seed set to 17885\n"
     ]
    },
    {
     "name": "stdout",
     "output_type": "stream",
     "text": [
      "Data shape for DDIM sampling is (2, 4, 64, 64), eta 0.0\n",
      "Running DDIM Sampling with 20 timesteps\n"
     ]
    },
    {
     "name": "stderr",
     "output_type": "stream",
     "text": [
      "\n",
      "DDIM Sampler:   0%|          | 0/20 [00:00<?, ?it/s]\u001b[A\n",
      "DDIM Sampler:   5%|▌         | 1/20 [00:00<00:11,  1.63it/s]\u001b[A\n",
      "DDIM Sampler:  10%|█         | 2/20 [00:01<00:11,  1.59it/s]\u001b[A\n",
      "DDIM Sampler:  15%|█▌        | 3/20 [00:01<00:10,  1.59it/s]\u001b[A\n",
      "DDIM Sampler:  20%|██        | 4/20 [00:02<00:10,  1.60it/s]\u001b[A\n",
      "DDIM Sampler:  25%|██▌       | 5/20 [00:03<00:09,  1.59it/s]\u001b[A\n",
      "DDIM Sampler:  30%|███       | 6/20 [00:03<00:08,  1.59it/s]\u001b[A\n",
      "DDIM Sampler:  35%|███▌      | 7/20 [00:04<00:08,  1.59it/s]\u001b[A\n",
      "DDIM Sampler:  40%|████      | 8/20 [00:05<00:07,  1.59it/s]\u001b[A\n",
      "DDIM Sampler:  45%|████▌     | 9/20 [00:05<00:06,  1.59it/s]\u001b[A\n",
      "DDIM Sampler:  50%|█████     | 10/20 [00:06<00:06,  1.59it/s]\u001b[A\n",
      "DDIM Sampler:  55%|█████▌    | 11/20 [00:06<00:05,  1.59it/s]\u001b[A\n",
      "DDIM Sampler:  60%|██████    | 12/20 [00:07<00:05,  1.59it/s]\u001b[A\n",
      "DDIM Sampler:  65%|██████▌   | 13/20 [00:08<00:04,  1.60it/s]\u001b[A\n",
      "DDIM Sampler:  70%|███████   | 14/20 [00:08<00:03,  1.59it/s]\u001b[A\n",
      "DDIM Sampler:  75%|███████▌  | 15/20 [00:09<00:03,  1.60it/s]\u001b[A\n",
      "DDIM Sampler:  80%|████████  | 16/20 [00:10<00:02,  1.60it/s]\u001b[A\n",
      "DDIM Sampler:  85%|████████▌ | 17/20 [00:10<00:01,  1.60it/s]\u001b[A\n",
      "DDIM Sampler:  90%|█████████ | 18/20 [00:11<00:01,  1.60it/s]\u001b[A\n",
      "DDIM Sampler:  95%|█████████▌| 19/20 [00:11<00:00,  1.60it/s]\u001b[A\n",
      "DDIM Sampler: 100%|██████████| 20/20 [00:12<00:00,  1.59it/s]\u001b[A\n",
      "Global seed set to 13007\n"
     ]
    },
    {
     "name": "stdout",
     "output_type": "stream",
     "text": [
      "Data shape for DDIM sampling is (2, 4, 64, 64), eta 0.0\n",
      "Running DDIM Sampling with 20 timesteps\n"
     ]
    },
    {
     "name": "stderr",
     "output_type": "stream",
     "text": [
      "\n",
      "DDIM Sampler:   0%|          | 0/20 [00:00<?, ?it/s]\u001b[A\n",
      "DDIM Sampler:   5%|▌         | 1/20 [00:00<00:11,  1.63it/s]\u001b[A\n",
      "DDIM Sampler:  10%|█         | 2/20 [00:01<00:11,  1.59it/s]\u001b[A\n",
      "DDIM Sampler:  15%|█▌        | 3/20 [00:01<00:10,  1.59it/s]\u001b[A\n",
      "DDIM Sampler:  20%|██        | 4/20 [00:02<00:10,  1.60it/s]\u001b[A\n",
      "DDIM Sampler:  25%|██▌       | 5/20 [00:03<00:09,  1.60it/s]\u001b[A\n",
      "DDIM Sampler:  30%|███       | 6/20 [00:03<00:08,  1.60it/s]\u001b[A\n",
      "DDIM Sampler:  35%|███▌      | 7/20 [00:04<00:08,  1.60it/s]\u001b[A\n",
      "DDIM Sampler:  40%|████      | 8/20 [00:05<00:07,  1.60it/s]\u001b[A\n",
      "DDIM Sampler:  45%|████▌     | 9/20 [00:05<00:06,  1.60it/s]\u001b[A\n",
      "DDIM Sampler:  50%|█████     | 10/20 [00:06<00:06,  1.59it/s]\u001b[A\n",
      "DDIM Sampler:  55%|█████▌    | 11/20 [00:06<00:05,  1.60it/s]\u001b[A\n",
      "DDIM Sampler:  60%|██████    | 12/20 [00:07<00:05,  1.60it/s]\u001b[A\n",
      "DDIM Sampler:  65%|██████▌   | 13/20 [00:08<00:04,  1.59it/s]\u001b[A\n",
      "DDIM Sampler:  70%|███████   | 14/20 [00:08<00:03,  1.60it/s]\u001b[A\n",
      "DDIM Sampler:  75%|███████▌  | 15/20 [00:09<00:03,  1.60it/s]\u001b[A\n",
      "DDIM Sampler:  80%|████████  | 16/20 [00:10<00:02,  1.60it/s]\u001b[A\n",
      "DDIM Sampler:  85%|████████▌ | 17/20 [00:10<00:01,  1.60it/s]\u001b[A\n",
      "DDIM Sampler:  90%|█████████ | 18/20 [00:11<00:01,  1.59it/s]\u001b[A\n",
      "DDIM Sampler:  95%|█████████▌| 19/20 [00:11<00:00,  1.60it/s]\u001b[A\n",
      "DDIM Sampler: 100%|██████████| 20/20 [00:12<00:00,  1.60it/s]\u001b[A\n",
      "Global seed set to 26186\n"
     ]
    },
    {
     "name": "stdout",
     "output_type": "stream",
     "text": [
      "Data shape for DDIM sampling is (2, 4, 64, 64), eta 0.0\n",
      "Running DDIM Sampling with 20 timesteps\n"
     ]
    },
    {
     "name": "stderr",
     "output_type": "stream",
     "text": [
      "\n",
      "DDIM Sampler:   0%|          | 0/20 [00:00<?, ?it/s]\u001b[A\n",
      "DDIM Sampler:   5%|▌         | 1/20 [00:00<00:11,  1.62it/s]\u001b[A\n",
      "DDIM Sampler:  10%|█         | 2/20 [00:01<00:11,  1.59it/s]\u001b[A\n",
      "DDIM Sampler:  15%|█▌        | 3/20 [00:01<00:10,  1.59it/s]\u001b[A\n",
      "DDIM Sampler:  20%|██        | 4/20 [00:02<00:10,  1.59it/s]\u001b[A\n",
      "DDIM Sampler:  25%|██▌       | 5/20 [00:03<00:09,  1.59it/s]\u001b[A\n",
      "DDIM Sampler:  30%|███       | 6/20 [00:03<00:08,  1.60it/s]\u001b[A\n",
      "DDIM Sampler:  35%|███▌      | 7/20 [00:04<00:08,  1.59it/s]\u001b[A\n",
      "DDIM Sampler:  40%|████      | 8/20 [00:05<00:07,  1.59it/s]\u001b[A\n",
      "DDIM Sampler:  45%|████▌     | 9/20 [00:05<00:06,  1.59it/s]\u001b[A\n",
      "DDIM Sampler:  50%|█████     | 10/20 [00:06<00:06,  1.59it/s]\u001b[A\n",
      "DDIM Sampler:  55%|█████▌    | 11/20 [00:06<00:05,  1.60it/s]\u001b[A\n",
      "DDIM Sampler:  60%|██████    | 12/20 [00:07<00:05,  1.59it/s]\u001b[A\n",
      "DDIM Sampler:  65%|██████▌   | 13/20 [00:08<00:04,  1.60it/s]\u001b[A\n",
      "DDIM Sampler:  70%|███████   | 14/20 [00:08<00:03,  1.60it/s]\u001b[A\n",
      "DDIM Sampler:  75%|███████▌  | 15/20 [00:09<00:03,  1.60it/s]\u001b[A\n",
      "DDIM Sampler:  80%|████████  | 16/20 [00:10<00:02,  1.60it/s]\u001b[A\n",
      "DDIM Sampler:  85%|████████▌ | 17/20 [00:10<00:01,  1.60it/s]\u001b[A\n",
      "DDIM Sampler:  90%|█████████ | 18/20 [00:11<00:01,  1.60it/s]\u001b[A\n",
      "DDIM Sampler:  95%|█████████▌| 19/20 [00:11<00:00,  1.60it/s]\u001b[A\n",
      "DDIM Sampler: 100%|██████████| 20/20 [00:12<00:00,  1.60it/s]\u001b[A\n",
      "Global seed set to 39601\n"
     ]
    },
    {
     "name": "stdout",
     "output_type": "stream",
     "text": [
      "Data shape for DDIM sampling is (2, 4, 72, 64), eta 0.0\n",
      "Running DDIM Sampling with 20 timesteps\n"
     ]
    },
    {
     "name": "stderr",
     "output_type": "stream",
     "text": [
      "\n",
      "DDIM Sampler:   0%|          | 0/20 [00:00<?, ?it/s]\u001b[A\n",
      "DDIM Sampler:   5%|▌         | 1/20 [00:00<00:13,  1.36it/s]\u001b[A\n",
      "DDIM Sampler:  10%|█         | 2/20 [00:01<00:13,  1.33it/s]\u001b[A\n",
      "DDIM Sampler:  15%|█▌        | 3/20 [00:02<00:12,  1.33it/s]\u001b[A\n",
      "DDIM Sampler:  20%|██        | 4/20 [00:02<00:12,  1.33it/s]\u001b[A\n",
      "DDIM Sampler:  25%|██▌       | 5/20 [00:03<00:11,  1.34it/s]\u001b[A\n",
      "DDIM Sampler:  30%|███       | 6/20 [00:04<00:10,  1.34it/s]\u001b[A\n",
      "DDIM Sampler:  35%|███▌      | 7/20 [00:05<00:09,  1.34it/s]\u001b[A\n",
      "DDIM Sampler:  40%|████      | 8/20 [00:05<00:08,  1.34it/s]\u001b[A\n",
      "DDIM Sampler:  45%|████▌     | 9/20 [00:06<00:08,  1.34it/s]\u001b[A\n",
      "DDIM Sampler:  50%|█████     | 10/20 [00:07<00:07,  1.34it/s]\u001b[A\n",
      "DDIM Sampler:  55%|█████▌    | 11/20 [00:08<00:06,  1.34it/s]\u001b[A\n",
      "DDIM Sampler:  60%|██████    | 12/20 [00:08<00:05,  1.34it/s]\u001b[A\n",
      "DDIM Sampler:  65%|██████▌   | 13/20 [00:09<00:05,  1.34it/s]\u001b[A\n",
      "DDIM Sampler:  70%|███████   | 14/20 [00:10<00:04,  1.34it/s]\u001b[A\n",
      "DDIM Sampler:  75%|███████▌  | 15/20 [00:11<00:03,  1.34it/s]\u001b[A\n",
      "DDIM Sampler:  80%|████████  | 16/20 [00:11<00:02,  1.34it/s]\u001b[A\n",
      "DDIM Sampler:  85%|████████▌ | 17/20 [00:12<00:02,  1.34it/s]\u001b[A\n",
      "DDIM Sampler:  90%|█████████ | 18/20 [00:13<00:01,  1.34it/s]\u001b[A\n",
      "DDIM Sampler:  95%|█████████▌| 19/20 [00:14<00:00,  1.34it/s]\u001b[A\n",
      "DDIM Sampler: 100%|██████████| 20/20 [00:14<00:00,  1.34it/s]\u001b[A\n",
      "Global seed set to 39303\n"
     ]
    },
    {
     "name": "stdout",
     "output_type": "stream",
     "text": [
      "Data shape for DDIM sampling is (2, 4, 64, 64), eta 0.0\n",
      "Running DDIM Sampling with 20 timesteps\n"
     ]
    },
    {
     "name": "stderr",
     "output_type": "stream",
     "text": [
      "\n",
      "DDIM Sampler:   0%|          | 0/20 [00:00<?, ?it/s]\u001b[A\n",
      "DDIM Sampler:   5%|▌         | 1/20 [00:00<00:11,  1.63it/s]\u001b[A\n",
      "DDIM Sampler:  10%|█         | 2/20 [00:01<00:11,  1.59it/s]\u001b[A\n",
      "DDIM Sampler:  15%|█▌        | 3/20 [00:01<00:10,  1.60it/s]\u001b[A\n",
      "DDIM Sampler:  20%|██        | 4/20 [00:02<00:10,  1.60it/s]\u001b[A\n",
      "DDIM Sampler:  25%|██▌       | 5/20 [00:03<00:09,  1.59it/s]\u001b[A\n",
      "DDIM Sampler:  30%|███       | 6/20 [00:03<00:08,  1.60it/s]\u001b[A\n",
      "DDIM Sampler:  35%|███▌      | 7/20 [00:04<00:08,  1.60it/s]\u001b[A\n",
      "DDIM Sampler:  40%|████      | 8/20 [00:05<00:07,  1.59it/s]\u001b[A\n",
      "DDIM Sampler:  45%|████▌     | 9/20 [00:05<00:06,  1.60it/s]\u001b[A\n",
      "DDIM Sampler:  50%|█████     | 10/20 [00:06<00:06,  1.60it/s]\u001b[A\n",
      "DDIM Sampler:  55%|█████▌    | 11/20 [00:06<00:05,  1.59it/s]\u001b[A\n",
      "DDIM Sampler:  60%|██████    | 12/20 [00:07<00:05,  1.59it/s]\u001b[A\n",
      "DDIM Sampler:  65%|██████▌   | 13/20 [00:08<00:04,  1.59it/s]\u001b[A\n",
      "DDIM Sampler:  70%|███████   | 14/20 [00:08<00:03,  1.59it/s]\u001b[A\n",
      "DDIM Sampler:  75%|███████▌  | 15/20 [00:09<00:03,  1.59it/s]\u001b[A\n",
      "DDIM Sampler:  80%|████████  | 16/20 [00:10<00:02,  1.59it/s]\u001b[A\n",
      "DDIM Sampler:  85%|████████▌ | 17/20 [00:10<00:01,  1.59it/s]\u001b[A\n",
      "DDIM Sampler:  90%|█████████ | 18/20 [00:11<00:01,  1.60it/s]\u001b[A\n",
      "DDIM Sampler:  95%|█████████▌| 19/20 [00:11<00:00,  1.59it/s]\u001b[A\n",
      "DDIM Sampler: 100%|██████████| 20/20 [00:12<00:00,  1.60it/s]\u001b[A\n",
      "Global seed set to 19817\n"
     ]
    },
    {
     "name": "stdout",
     "output_type": "stream",
     "text": [
      "Data shape for DDIM sampling is (2, 4, 64, 96), eta 0.0\n",
      "Running DDIM Sampling with 20 timesteps\n"
     ]
    },
    {
     "name": "stderr",
     "output_type": "stream",
     "text": [
      "\n",
      "DDIM Sampler:   0%|          | 0/20 [00:00<?, ?it/s]\u001b[A\n",
      "DDIM Sampler:   5%|▌         | 1/20 [00:01<00:22,  1.17s/it]\u001b[A\n",
      "DDIM Sampler:  10%|█         | 2/20 [00:02<00:20,  1.16s/it]\u001b[A\n",
      "DDIM Sampler:  15%|█▌        | 3/20 [00:03<00:19,  1.16s/it]\u001b[A\n",
      "DDIM Sampler:  20%|██        | 4/20 [00:04<00:18,  1.16s/it]\u001b[A\n",
      "DDIM Sampler:  25%|██▌       | 5/20 [00:05<00:17,  1.16s/it]\u001b[A\n",
      "DDIM Sampler:  30%|███       | 6/20 [00:06<00:16,  1.16s/it]\u001b[A\n",
      "DDIM Sampler:  35%|███▌      | 7/20 [00:08<00:15,  1.16s/it]\u001b[A\n",
      "DDIM Sampler:  40%|████      | 8/20 [00:09<00:13,  1.16s/it]\u001b[A\n",
      "DDIM Sampler:  45%|████▌     | 9/20 [00:10<00:12,  1.16s/it]\u001b[A\n",
      "DDIM Sampler:  50%|█████     | 10/20 [00:11<00:11,  1.16s/it]\u001b[A\n",
      "DDIM Sampler:  55%|█████▌    | 11/20 [00:12<00:10,  1.16s/it]\u001b[A\n",
      "DDIM Sampler:  60%|██████    | 12/20 [00:13<00:09,  1.16s/it]\u001b[A\n",
      "DDIM Sampler:  65%|██████▌   | 13/20 [00:15<00:08,  1.16s/it]\u001b[A\n",
      "DDIM Sampler:  70%|███████   | 14/20 [00:16<00:06,  1.16s/it]\u001b[A\n",
      "DDIM Sampler:  75%|███████▌  | 15/20 [00:17<00:05,  1.16s/it]\u001b[A\n",
      "DDIM Sampler:  80%|████████  | 16/20 [00:18<00:04,  1.16s/it]\u001b[A\n",
      "DDIM Sampler:  85%|████████▌ | 17/20 [00:19<00:03,  1.16s/it]\u001b[A\n",
      "DDIM Sampler:  90%|█████████ | 18/20 [00:20<00:02,  1.16s/it]\u001b[A\n",
      "DDIM Sampler:  95%|█████████▌| 19/20 [00:22<00:01,  1.16s/it]\u001b[A\n",
      "DDIM Sampler: 100%|██████████| 20/20 [00:23<00:00,  1.16s/it]\u001b[A\n",
      "Global seed set to 65350\n"
     ]
    },
    {
     "name": "stdout",
     "output_type": "stream",
     "text": [
      "Data shape for DDIM sampling is (2, 4, 64, 64), eta 0.0\n",
      "Running DDIM Sampling with 20 timesteps\n"
     ]
    },
    {
     "name": "stderr",
     "output_type": "stream",
     "text": [
      "\n",
      "DDIM Sampler:   0%|          | 0/20 [00:00<?, ?it/s]\u001b[A\n",
      "DDIM Sampler:   5%|▌         | 1/20 [00:00<00:11,  1.63it/s]\u001b[A\n",
      "DDIM Sampler:  10%|█         | 2/20 [00:01<00:11,  1.59it/s]\u001b[A\n",
      "DDIM Sampler:  15%|█▌        | 3/20 [00:01<00:10,  1.59it/s]\u001b[A\n",
      "DDIM Sampler:  20%|██        | 4/20 [00:02<00:10,  1.60it/s]\u001b[A\n",
      "DDIM Sampler:  25%|██▌       | 5/20 [00:03<00:09,  1.60it/s]\u001b[A\n",
      "DDIM Sampler:  30%|███       | 6/20 [00:03<00:08,  1.60it/s]\u001b[A\n",
      "DDIM Sampler:  35%|███▌      | 7/20 [00:04<00:08,  1.60it/s]\u001b[A\n",
      "DDIM Sampler:  40%|████      | 8/20 [00:05<00:07,  1.60it/s]\u001b[A\n",
      "DDIM Sampler:  45%|████▌     | 9/20 [00:05<00:06,  1.60it/s]\u001b[A\n",
      "DDIM Sampler:  50%|█████     | 10/20 [00:06<00:06,  1.60it/s]\u001b[A\n",
      "DDIM Sampler:  55%|█████▌    | 11/20 [00:06<00:05,  1.60it/s]\u001b[A\n",
      "DDIM Sampler:  60%|██████    | 12/20 [00:07<00:05,  1.60it/s]\u001b[A\n",
      "DDIM Sampler:  65%|██████▌   | 13/20 [00:08<00:04,  1.60it/s]\u001b[A\n",
      "DDIM Sampler:  70%|███████   | 14/20 [00:08<00:03,  1.60it/s]\u001b[A\n",
      "DDIM Sampler:  75%|███████▌  | 15/20 [00:09<00:03,  1.60it/s]\u001b[A\n",
      "DDIM Sampler:  80%|████████  | 16/20 [00:10<00:02,  1.60it/s]\u001b[A\n",
      "DDIM Sampler:  85%|████████▌ | 17/20 [00:10<00:01,  1.60it/s]\u001b[A\n",
      "DDIM Sampler:  90%|█████████ | 18/20 [00:11<00:01,  1.59it/s]\u001b[A\n",
      "DDIM Sampler:  95%|█████████▌| 19/20 [00:11<00:00,  1.60it/s]\u001b[A\n",
      "DDIM Sampler: 100%|██████████| 20/20 [00:12<00:00,  1.60it/s]\u001b[A\n",
      "Global seed set to 12883\n"
     ]
    },
    {
     "name": "stdout",
     "output_type": "stream",
     "text": [
      "Data shape for DDIM sampling is (2, 4, 64, 64), eta 0.0\n",
      "Running DDIM Sampling with 20 timesteps\n"
     ]
    },
    {
     "name": "stderr",
     "output_type": "stream",
     "text": [
      "\n",
      "DDIM Sampler:   0%|          | 0/20 [00:00<?, ?it/s]\u001b[A\n",
      "DDIM Sampler:   5%|▌         | 1/20 [00:00<00:11,  1.64it/s]\u001b[A\n",
      "DDIM Sampler:  10%|█         | 2/20 [00:01<00:11,  1.59it/s]\u001b[A\n",
      "DDIM Sampler:  15%|█▌        | 3/20 [00:01<00:10,  1.60it/s]\u001b[A\n",
      "DDIM Sampler:  20%|██        | 4/20 [00:02<00:09,  1.60it/s]\u001b[A\n",
      "DDIM Sampler:  25%|██▌       | 5/20 [00:03<00:09,  1.60it/s]\u001b[A\n",
      "DDIM Sampler:  30%|███       | 6/20 [00:03<00:08,  1.60it/s]\u001b[A\n",
      "DDIM Sampler:  35%|███▌      | 7/20 [00:04<00:08,  1.60it/s]\u001b[A\n",
      "DDIM Sampler:  40%|████      | 8/20 [00:05<00:07,  1.60it/s]\u001b[A\n",
      "DDIM Sampler:  45%|████▌     | 9/20 [00:05<00:06,  1.60it/s]\u001b[A\n",
      "DDIM Sampler:  50%|█████     | 10/20 [00:06<00:06,  1.60it/s]\u001b[A\n",
      "DDIM Sampler:  55%|█████▌    | 11/20 [00:06<00:05,  1.60it/s]\u001b[A\n",
      "DDIM Sampler:  60%|██████    | 12/20 [00:07<00:04,  1.60it/s]\u001b[A\n",
      "DDIM Sampler:  65%|██████▌   | 13/20 [00:08<00:04,  1.60it/s]\u001b[A\n",
      "DDIM Sampler:  70%|███████   | 14/20 [00:08<00:03,  1.60it/s]\u001b[A\n",
      "DDIM Sampler:  75%|███████▌  | 15/20 [00:09<00:03,  1.60it/s]\u001b[A\n",
      "DDIM Sampler:  80%|████████  | 16/20 [00:09<00:02,  1.60it/s]\u001b[A\n",
      "DDIM Sampler:  85%|████████▌ | 17/20 [00:10<00:01,  1.60it/s]\u001b[A\n",
      "DDIM Sampler:  90%|█████████ | 18/20 [00:11<00:01,  1.60it/s]\u001b[A\n",
      "DDIM Sampler:  95%|█████████▌| 19/20 [00:11<00:00,  1.60it/s]\u001b[A\n",
      "DDIM Sampler: 100%|██████████| 20/20 [00:12<00:00,  1.60it/s]\u001b[A\n",
      "Global seed set to 54446\n"
     ]
    },
    {
     "name": "stdout",
     "output_type": "stream",
     "text": [
      "Data shape for DDIM sampling is (2, 4, 64, 64), eta 0.0\n",
      "Running DDIM Sampling with 20 timesteps\n"
     ]
    },
    {
     "name": "stderr",
     "output_type": "stream",
     "text": [
      "\n",
      "DDIM Sampler:   0%|          | 0/20 [00:00<?, ?it/s]\u001b[A\n",
      "DDIM Sampler:   5%|▌         | 1/20 [00:00<00:11,  1.63it/s]\u001b[A\n",
      "DDIM Sampler:  10%|█         | 2/20 [00:01<00:11,  1.59it/s]\u001b[A\n",
      "DDIM Sampler:  15%|█▌        | 3/20 [00:01<00:10,  1.59it/s]\u001b[A\n",
      "DDIM Sampler:  20%|██        | 4/20 [00:02<00:09,  1.60it/s]\u001b[A\n",
      "DDIM Sampler:  25%|██▌       | 5/20 [00:03<00:09,  1.60it/s]\u001b[A\n",
      "DDIM Sampler:  30%|███       | 6/20 [00:03<00:08,  1.60it/s]\u001b[A\n",
      "DDIM Sampler:  35%|███▌      | 7/20 [00:04<00:08,  1.60it/s]\u001b[A\n",
      "DDIM Sampler:  40%|████      | 8/20 [00:04<00:07,  1.60it/s]\u001b[A\n",
      "DDIM Sampler:  45%|████▌     | 9/20 [00:05<00:06,  1.60it/s]\u001b[A\n",
      "DDIM Sampler:  50%|█████     | 10/20 [00:06<00:06,  1.60it/s]\u001b[A\n",
      "DDIM Sampler:  55%|█████▌    | 11/20 [00:06<00:05,  1.60it/s]\u001b[A\n",
      "DDIM Sampler:  60%|██████    | 12/20 [00:07<00:04,  1.60it/s]\u001b[A\n",
      "DDIM Sampler:  65%|██████▌   | 13/20 [00:08<00:04,  1.60it/s]\u001b[A\n",
      "DDIM Sampler:  70%|███████   | 14/20 [00:08<00:03,  1.60it/s]\u001b[A\n",
      "DDIM Sampler:  75%|███████▌  | 15/20 [00:09<00:03,  1.60it/s]\u001b[A\n",
      "DDIM Sampler:  80%|████████  | 16/20 [00:09<00:02,  1.60it/s]\u001b[A\n",
      "DDIM Sampler:  85%|████████▌ | 17/20 [00:10<00:01,  1.60it/s]\u001b[A\n",
      "DDIM Sampler:  90%|█████████ | 18/20 [00:11<00:01,  1.60it/s]\u001b[A\n",
      "DDIM Sampler:  95%|█████████▌| 19/20 [00:11<00:00,  1.60it/s]\u001b[A\n",
      "DDIM Sampler: 100%|██████████| 20/20 [00:12<00:00,  1.60it/s]\u001b[A\n",
      "Global seed set to 38883\n"
     ]
    },
    {
     "name": "stdout",
     "output_type": "stream",
     "text": [
      "Data shape for DDIM sampling is (2, 4, 64, 64), eta 0.0\n",
      "Running DDIM Sampling with 20 timesteps\n"
     ]
    },
    {
     "name": "stderr",
     "output_type": "stream",
     "text": [
      "\n",
      "DDIM Sampler:   0%|          | 0/20 [00:00<?, ?it/s]\u001b[A\n",
      "DDIM Sampler:   5%|▌         | 1/20 [00:00<00:11,  1.63it/s]\u001b[A\n",
      "DDIM Sampler:  10%|█         | 2/20 [00:01<00:11,  1.59it/s]\u001b[A\n",
      "DDIM Sampler:  15%|█▌        | 3/20 [00:01<00:10,  1.60it/s]\u001b[A\n",
      "DDIM Sampler:  20%|██        | 4/20 [00:02<00:09,  1.60it/s]\u001b[A\n",
      "DDIM Sampler:  25%|██▌       | 5/20 [00:03<00:09,  1.60it/s]\u001b[A\n",
      "DDIM Sampler:  30%|███       | 6/20 [00:03<00:08,  1.60it/s]\u001b[A\n",
      "DDIM Sampler:  35%|███▌      | 7/20 [00:04<00:08,  1.60it/s]\u001b[A\n",
      "DDIM Sampler:  40%|████      | 8/20 [00:05<00:07,  1.60it/s]\u001b[A\n",
      "DDIM Sampler:  45%|████▌     | 9/20 [00:05<00:06,  1.60it/s]\u001b[A\n",
      "DDIM Sampler:  50%|█████     | 10/20 [00:06<00:06,  1.60it/s]\u001b[A\n",
      "DDIM Sampler:  55%|█████▌    | 11/20 [00:06<00:05,  1.60it/s]\u001b[A\n",
      "DDIM Sampler:  60%|██████    | 12/20 [00:07<00:04,  1.60it/s]\u001b[A\n",
      "DDIM Sampler:  65%|██████▌   | 13/20 [00:08<00:04,  1.60it/s]\u001b[A\n",
      "DDIM Sampler:  70%|███████   | 14/20 [00:08<00:03,  1.60it/s]\u001b[A\n",
      "DDIM Sampler:  75%|███████▌  | 15/20 [00:09<00:03,  1.60it/s]\u001b[A\n",
      "DDIM Sampler:  80%|████████  | 16/20 [00:10<00:02,  1.60it/s]\u001b[A\n",
      "DDIM Sampler:  85%|████████▌ | 17/20 [00:10<00:01,  1.60it/s]\u001b[A\n",
      "DDIM Sampler:  90%|█████████ | 18/20 [00:11<00:01,  1.60it/s]\u001b[A\n",
      "DDIM Sampler:  95%|█████████▌| 19/20 [00:11<00:00,  1.60it/s]\u001b[A\n",
      "DDIM Sampler: 100%|██████████| 20/20 [00:12<00:00,  1.60it/s]\u001b[A\n",
      "Global seed set to 15727\n"
     ]
    },
    {
     "name": "stdout",
     "output_type": "stream",
     "text": [
      "Data shape for DDIM sampling is (2, 4, 64, 64), eta 0.0\n",
      "Running DDIM Sampling with 20 timesteps\n"
     ]
    },
    {
     "name": "stderr",
     "output_type": "stream",
     "text": [
      "\n",
      "DDIM Sampler:   0%|          | 0/20 [00:00<?, ?it/s]\u001b[A\n",
      "DDIM Sampler:   5%|▌         | 1/20 [00:00<00:11,  1.63it/s]\u001b[A\n",
      "DDIM Sampler:  10%|█         | 2/20 [00:01<00:11,  1.60it/s]\u001b[A\n",
      "DDIM Sampler:  15%|█▌        | 3/20 [00:01<00:10,  1.60it/s]\u001b[A\n",
      "DDIM Sampler:  20%|██        | 4/20 [00:02<00:09,  1.60it/s]\u001b[A\n",
      "DDIM Sampler:  25%|██▌       | 5/20 [00:03<00:09,  1.60it/s]\u001b[A\n",
      "DDIM Sampler:  30%|███       | 6/20 [00:03<00:08,  1.60it/s]\u001b[A\n",
      "DDIM Sampler:  35%|███▌      | 7/20 [00:04<00:08,  1.60it/s]\u001b[A\n",
      "DDIM Sampler:  40%|████      | 8/20 [00:05<00:07,  1.60it/s]\u001b[A\n",
      "DDIM Sampler:  45%|████▌     | 9/20 [00:05<00:06,  1.60it/s]\u001b[A\n",
      "DDIM Sampler:  50%|█████     | 10/20 [00:06<00:06,  1.60it/s]\u001b[A\n",
      "DDIM Sampler:  55%|█████▌    | 11/20 [00:06<00:05,  1.60it/s]\u001b[A\n",
      "DDIM Sampler:  60%|██████    | 12/20 [00:07<00:05,  1.59it/s]\u001b[A\n",
      "DDIM Sampler:  65%|██████▌   | 13/20 [00:08<00:04,  1.59it/s]\u001b[A\n",
      "DDIM Sampler:  70%|███████   | 14/20 [00:08<00:03,  1.59it/s]\u001b[A\n",
      "DDIM Sampler:  75%|███████▌  | 15/20 [00:09<00:03,  1.59it/s]\u001b[A\n",
      "DDIM Sampler:  80%|████████  | 16/20 [00:10<00:02,  1.60it/s]\u001b[A\n",
      "DDIM Sampler:  85%|████████▌ | 17/20 [00:10<00:01,  1.60it/s]\u001b[A\n",
      "DDIM Sampler:  90%|█████████ | 18/20 [00:11<00:01,  1.60it/s]\u001b[A\n",
      "DDIM Sampler:  95%|█████████▌| 19/20 [00:11<00:00,  1.60it/s]\u001b[A\n",
      "DDIM Sampler: 100%|██████████| 20/20 [00:12<00:00,  1.60it/s]\u001b[A\n",
      "Global seed set to 28581\n"
     ]
    },
    {
     "name": "stdout",
     "output_type": "stream",
     "text": [
      "Data shape for DDIM sampling is (2, 4, 64, 72), eta 0.0\n",
      "Running DDIM Sampling with 20 timesteps\n"
     ]
    },
    {
     "name": "stderr",
     "output_type": "stream",
     "text": [
      "\n",
      "DDIM Sampler:   0%|          | 0/20 [00:00<?, ?it/s]\u001b[A\n",
      "DDIM Sampler:   5%|▌         | 1/20 [00:00<00:13,  1.36it/s]\u001b[A\n",
      "DDIM Sampler:  10%|█         | 2/20 [00:01<00:13,  1.33it/s]\u001b[A\n",
      "DDIM Sampler:  15%|█▌        | 3/20 [00:02<00:12,  1.33it/s]\u001b[A\n",
      "DDIM Sampler:  20%|██        | 4/20 [00:03<00:12,  1.33it/s]\u001b[A\n",
      "DDIM Sampler:  25%|██▌       | 5/20 [00:03<00:11,  1.33it/s]\u001b[A\n",
      "DDIM Sampler:  30%|███       | 6/20 [00:04<00:10,  1.33it/s]\u001b[A\n",
      "DDIM Sampler:  35%|███▌      | 7/20 [00:05<00:09,  1.33it/s]\u001b[A\n",
      "DDIM Sampler:  40%|████      | 8/20 [00:06<00:09,  1.33it/s]\u001b[A\n",
      "DDIM Sampler:  45%|████▌     | 9/20 [00:06<00:08,  1.33it/s]\u001b[A\n",
      "DDIM Sampler:  50%|█████     | 10/20 [00:07<00:07,  1.33it/s]\u001b[A\n",
      "DDIM Sampler:  55%|█████▌    | 11/20 [00:08<00:06,  1.33it/s]\u001b[A\n",
      "DDIM Sampler:  60%|██████    | 12/20 [00:09<00:06,  1.33it/s]\u001b[A\n",
      "DDIM Sampler:  65%|██████▌   | 13/20 [00:09<00:05,  1.33it/s]\u001b[A\n",
      "DDIM Sampler:  70%|███████   | 14/20 [00:10<00:04,  1.33it/s]\u001b[A\n",
      "DDIM Sampler:  75%|███████▌  | 15/20 [00:11<00:03,  1.33it/s]\u001b[A\n",
      "DDIM Sampler:  80%|████████  | 16/20 [00:12<00:03,  1.33it/s]\u001b[A\n",
      "DDIM Sampler:  85%|████████▌ | 17/20 [00:12<00:02,  1.33it/s]\u001b[A\n",
      "DDIM Sampler:  90%|█████████ | 18/20 [00:13<00:01,  1.33it/s]\u001b[A\n",
      "DDIM Sampler:  95%|█████████▌| 19/20 [00:14<00:00,  1.33it/s]\u001b[A\n",
      "DDIM Sampler: 100%|██████████| 20/20 [00:15<00:00,  1.33it/s]\u001b[A\n",
      "Global seed set to 52915\n"
     ]
    },
    {
     "name": "stdout",
     "output_type": "stream",
     "text": [
      "Data shape for DDIM sampling is (2, 4, 64, 112), eta 0.0\n",
      "Running DDIM Sampling with 20 timesteps\n"
     ]
    },
    {
     "name": "stderr",
     "output_type": "stream",
     "text": [
      "\n",
      "DDIM Sampler:   0%|          | 0/20 [00:00<?, ?it/s]\u001b[A\n",
      "DDIM Sampler:   5%|▌         | 1/20 [00:01<00:28,  1.51s/it]\u001b[A\n",
      "DDIM Sampler:  10%|█         | 2/20 [00:03<00:27,  1.51s/it]\u001b[A\n",
      "DDIM Sampler:  15%|█▌        | 3/20 [00:04<00:25,  1.51s/it]\u001b[A\n",
      "DDIM Sampler:  20%|██        | 4/20 [00:06<00:24,  1.51s/it]\u001b[A\n",
      "DDIM Sampler:  25%|██▌       | 5/20 [00:07<00:22,  1.51s/it]\u001b[A\n",
      "DDIM Sampler:  30%|███       | 6/20 [00:09<00:21,  1.51s/it]\u001b[A\n",
      "DDIM Sampler:  35%|███▌      | 7/20 [00:10<00:19,  1.51s/it]\u001b[A\n",
      "DDIM Sampler:  40%|████      | 8/20 [00:12<00:18,  1.51s/it]\u001b[A\n",
      "DDIM Sampler:  45%|████▌     | 9/20 [00:13<00:16,  1.51s/it]\u001b[A\n",
      "DDIM Sampler:  50%|█████     | 10/20 [00:15<00:15,  1.51s/it]\u001b[A\n",
      "DDIM Sampler:  55%|█████▌    | 11/20 [00:16<00:13,  1.51s/it]\u001b[A\n",
      "DDIM Sampler:  60%|██████    | 12/20 [00:18<00:12,  1.51s/it]\u001b[A\n",
      "DDIM Sampler:  65%|██████▌   | 13/20 [00:19<00:10,  1.51s/it]\u001b[A\n",
      "DDIM Sampler:  70%|███████   | 14/20 [00:21<00:09,  1.51s/it]\u001b[A\n",
      "DDIM Sampler:  75%|███████▌  | 15/20 [00:22<00:07,  1.51s/it]\u001b[A\n",
      "DDIM Sampler:  80%|████████  | 16/20 [00:24<00:06,  1.51s/it]\u001b[A\n",
      "DDIM Sampler:  85%|████████▌ | 17/20 [00:25<00:04,  1.51s/it]\u001b[A\n",
      "DDIM Sampler:  90%|█████████ | 18/20 [00:27<00:03,  1.51s/it]\u001b[A\n",
      "DDIM Sampler:  95%|█████████▌| 19/20 [00:28<00:01,  1.51s/it]\u001b[A\n",
      "DDIM Sampler: 100%|██████████| 20/20 [00:30<00:00,  1.51s/it]\u001b[A\n",
      "Global seed set to 10533\n"
     ]
    },
    {
     "name": "stdout",
     "output_type": "stream",
     "text": [
      "Data shape for DDIM sampling is (2, 4, 64, 96), eta 0.0\n",
      "Running DDIM Sampling with 20 timesteps\n"
     ]
    },
    {
     "name": "stderr",
     "output_type": "stream",
     "text": [
      "\n",
      "DDIM Sampler:   0%|          | 0/20 [00:00<?, ?it/s]\u001b[A\n",
      "DDIM Sampler:   5%|▌         | 1/20 [00:01<00:22,  1.18s/it]\u001b[A\n",
      "DDIM Sampler:  10%|█         | 2/20 [00:02<00:21,  1.17s/it]\u001b[A\n",
      "DDIM Sampler:  15%|█▌        | 3/20 [00:03<00:19,  1.16s/it]\u001b[A\n",
      "DDIM Sampler:  20%|██        | 4/20 [00:04<00:18,  1.16s/it]\u001b[A\n",
      "DDIM Sampler:  25%|██▌       | 5/20 [00:05<00:17,  1.16s/it]\u001b[A\n",
      "DDIM Sampler:  30%|███       | 6/20 [00:06<00:16,  1.16s/it]\u001b[A\n",
      "DDIM Sampler:  35%|███▌      | 7/20 [00:08<00:15,  1.16s/it]\u001b[A\n",
      "DDIM Sampler:  40%|████      | 8/20 [00:09<00:13,  1.16s/it]\u001b[A\n",
      "DDIM Sampler:  45%|████▌     | 9/20 [00:10<00:12,  1.16s/it]\u001b[A\n",
      "DDIM Sampler:  50%|█████     | 10/20 [00:11<00:11,  1.16s/it]\u001b[A\n",
      "DDIM Sampler:  55%|█████▌    | 11/20 [00:12<00:10,  1.16s/it]\u001b[A\n",
      "DDIM Sampler:  60%|██████    | 12/20 [00:13<00:09,  1.16s/it]\u001b[A\n",
      "DDIM Sampler:  65%|██████▌   | 13/20 [00:15<00:08,  1.16s/it]\u001b[A\n",
      "DDIM Sampler:  70%|███████   | 14/20 [00:16<00:06,  1.16s/it]\u001b[A\n",
      "DDIM Sampler:  75%|███████▌  | 15/20 [00:17<00:05,  1.16s/it]\u001b[A\n",
      "DDIM Sampler:  80%|████████  | 16/20 [00:18<00:04,  1.16s/it]\u001b[A\n",
      "DDIM Sampler:  85%|████████▌ | 17/20 [00:19<00:03,  1.16s/it]\u001b[A\n",
      "DDIM Sampler:  90%|█████████ | 18/20 [00:20<00:02,  1.16s/it]\u001b[A\n",
      "DDIM Sampler:  95%|█████████▌| 19/20 [00:22<00:01,  1.16s/it]\u001b[A\n",
      "DDIM Sampler: 100%|██████████| 20/20 [00:23<00:00,  1.16s/it]\u001b[A\n",
      "Global seed set to 31808\n"
     ]
    },
    {
     "name": "stdout",
     "output_type": "stream",
     "text": [
      "Data shape for DDIM sampling is (2, 4, 64, 64), eta 0.0\n",
      "Running DDIM Sampling with 20 timesteps\n"
     ]
    },
    {
     "name": "stderr",
     "output_type": "stream",
     "text": [
      "\n",
      "DDIM Sampler:   0%|          | 0/20 [00:00<?, ?it/s]\u001b[A\n",
      "DDIM Sampler:   5%|▌         | 1/20 [00:00<00:11,  1.63it/s]\u001b[A\n",
      "DDIM Sampler:  10%|█         | 2/20 [00:01<00:11,  1.59it/s]\u001b[A\n",
      "DDIM Sampler:  15%|█▌        | 3/20 [00:01<00:10,  1.59it/s]\u001b[A\n",
      "DDIM Sampler:  20%|██        | 4/20 [00:02<00:10,  1.60it/s]\u001b[A\n",
      "DDIM Sampler:  25%|██▌       | 5/20 [00:03<00:09,  1.59it/s]\u001b[A\n",
      "DDIM Sampler:  30%|███       | 6/20 [00:03<00:08,  1.60it/s]\u001b[A\n",
      "DDIM Sampler:  35%|███▌      | 7/20 [00:04<00:08,  1.60it/s]\u001b[A\n",
      "DDIM Sampler:  40%|████      | 8/20 [00:05<00:07,  1.59it/s]\u001b[A\n",
      "DDIM Sampler:  45%|████▌     | 9/20 [00:05<00:06,  1.60it/s]\u001b[A\n",
      "DDIM Sampler:  50%|█████     | 10/20 [00:06<00:06,  1.59it/s]\u001b[A\n",
      "DDIM Sampler:  55%|█████▌    | 11/20 [00:06<00:05,  1.60it/s]\u001b[A\n",
      "DDIM Sampler:  60%|██████    | 12/20 [00:07<00:05,  1.60it/s]\u001b[A\n",
      "DDIM Sampler:  65%|██████▌   | 13/20 [00:08<00:04,  1.59it/s]\u001b[A\n",
      "DDIM Sampler:  70%|███████   | 14/20 [00:08<00:03,  1.60it/s]\u001b[A\n",
      "DDIM Sampler:  75%|███████▌  | 15/20 [00:09<00:03,  1.60it/s]\u001b[A\n",
      "DDIM Sampler:  80%|████████  | 16/20 [00:10<00:02,  1.60it/s]\u001b[A\n",
      "DDIM Sampler:  85%|████████▌ | 17/20 [00:10<00:01,  1.60it/s]\u001b[A\n",
      "DDIM Sampler:  90%|█████████ | 18/20 [00:11<00:01,  1.60it/s]\u001b[A\n",
      "DDIM Sampler:  95%|█████████▌| 19/20 [00:11<00:00,  1.60it/s]\u001b[A\n",
      "DDIM Sampler: 100%|██████████| 20/20 [00:12<00:00,  1.60it/s]\u001b[A\n",
      "Global seed set to 33281\n"
     ]
    },
    {
     "name": "stdout",
     "output_type": "stream",
     "text": [
      "Data shape for DDIM sampling is (2, 4, 64, 64), eta 0.0\n",
      "Running DDIM Sampling with 20 timesteps\n"
     ]
    },
    {
     "name": "stderr",
     "output_type": "stream",
     "text": [
      "\n",
      "DDIM Sampler:   0%|          | 0/20 [00:00<?, ?it/s]\u001b[A\n",
      "DDIM Sampler:   5%|▌         | 1/20 [00:00<00:11,  1.63it/s]\u001b[A\n",
      "DDIM Sampler:  10%|█         | 2/20 [00:01<00:11,  1.59it/s]\u001b[A\n",
      "DDIM Sampler:  15%|█▌        | 3/20 [00:01<00:10,  1.59it/s]\u001b[A\n",
      "DDIM Sampler:  20%|██        | 4/20 [00:02<00:10,  1.60it/s]\u001b[A\n",
      "DDIM Sampler:  25%|██▌       | 5/20 [00:03<00:09,  1.59it/s]\u001b[A\n",
      "DDIM Sampler:  30%|███       | 6/20 [00:03<00:08,  1.60it/s]\u001b[A\n",
      "DDIM Sampler:  35%|███▌      | 7/20 [00:04<00:08,  1.60it/s]\u001b[A\n",
      "DDIM Sampler:  40%|████      | 8/20 [00:05<00:07,  1.60it/s]\u001b[A\n",
      "DDIM Sampler:  45%|████▌     | 9/20 [00:05<00:06,  1.60it/s]\u001b[A\n",
      "DDIM Sampler:  50%|█████     | 10/20 [00:06<00:06,  1.60it/s]\u001b[A\n",
      "DDIM Sampler:  55%|█████▌    | 11/20 [00:06<00:05,  1.59it/s]\u001b[A\n",
      "DDIM Sampler:  60%|██████    | 12/20 [00:07<00:05,  1.60it/s]\u001b[A\n",
      "DDIM Sampler:  65%|██████▌   | 13/20 [00:08<00:04,  1.60it/s]\u001b[A\n",
      "DDIM Sampler:  70%|███████   | 14/20 [00:08<00:03,  1.60it/s]\u001b[A\n",
      "DDIM Sampler:  75%|███████▌  | 15/20 [00:09<00:03,  1.60it/s]\u001b[A\n",
      "DDIM Sampler:  80%|████████  | 16/20 [00:10<00:02,  1.60it/s]\u001b[A\n",
      "DDIM Sampler:  85%|████████▌ | 17/20 [00:10<00:01,  1.60it/s]\u001b[A\n",
      "DDIM Sampler:  90%|█████████ | 18/20 [00:11<00:01,  1.60it/s]\u001b[A\n",
      "DDIM Sampler:  95%|█████████▌| 19/20 [00:11<00:00,  1.60it/s]\u001b[A\n",
      "DDIM Sampler: 100%|██████████| 20/20 [00:12<00:00,  1.60it/s]\u001b[A\n",
      "Global seed set to 9181\n"
     ]
    },
    {
     "name": "stdout",
     "output_type": "stream",
     "text": [
      "Data shape for DDIM sampling is (2, 4, 64, 64), eta 0.0\n",
      "Running DDIM Sampling with 20 timesteps\n"
     ]
    },
    {
     "name": "stderr",
     "output_type": "stream",
     "text": [
      "\n",
      "DDIM Sampler:   0%|          | 0/20 [00:00<?, ?it/s]\u001b[A\n",
      "DDIM Sampler:   5%|▌         | 1/20 [00:00<00:11,  1.64it/s]\u001b[A\n",
      "DDIM Sampler:  10%|█         | 2/20 [00:01<00:11,  1.59it/s]\u001b[A\n",
      "DDIM Sampler:  15%|█▌        | 3/20 [00:01<00:10,  1.60it/s]\u001b[A\n",
      "DDIM Sampler:  20%|██        | 4/20 [00:02<00:10,  1.60it/s]\u001b[A\n",
      "DDIM Sampler:  25%|██▌       | 5/20 [00:03<00:09,  1.59it/s]\u001b[A\n",
      "DDIM Sampler:  30%|███       | 6/20 [00:03<00:08,  1.60it/s]\u001b[A\n",
      "DDIM Sampler:  35%|███▌      | 7/20 [00:04<00:08,  1.60it/s]\u001b[A\n",
      "DDIM Sampler:  40%|████      | 8/20 [00:05<00:07,  1.60it/s]\u001b[A\n",
      "DDIM Sampler:  45%|████▌     | 9/20 [00:05<00:06,  1.60it/s]\u001b[A\n",
      "DDIM Sampler:  50%|█████     | 10/20 [00:06<00:06,  1.60it/s]\u001b[A\n",
      "DDIM Sampler:  55%|█████▌    | 11/20 [00:06<00:05,  1.60it/s]\u001b[A\n",
      "DDIM Sampler:  60%|██████    | 12/20 [00:07<00:05,  1.60it/s]\u001b[A\n",
      "DDIM Sampler:  65%|██████▌   | 13/20 [00:08<00:04,  1.60it/s]\u001b[A\n",
      "DDIM Sampler:  70%|███████   | 14/20 [00:08<00:03,  1.60it/s]\u001b[A\n",
      "DDIM Sampler:  75%|███████▌  | 15/20 [00:09<00:03,  1.60it/s]\u001b[A\n",
      "DDIM Sampler:  80%|████████  | 16/20 [00:10<00:02,  1.59it/s]\u001b[A\n",
      "DDIM Sampler:  85%|████████▌ | 17/20 [00:10<00:01,  1.60it/s]\u001b[A\n",
      "DDIM Sampler:  90%|█████████ | 18/20 [00:11<00:01,  1.59it/s]\u001b[A\n",
      "DDIM Sampler:  95%|█████████▌| 19/20 [00:11<00:00,  1.60it/s]\u001b[A\n",
      "DDIM Sampler: 100%|██████████| 20/20 [00:12<00:00,  1.60it/s]\u001b[A\n",
      "Global seed set to 64188\n"
     ]
    },
    {
     "name": "stdout",
     "output_type": "stream",
     "text": [
      "Data shape for DDIM sampling is (2, 4, 64, 64), eta 0.0\n",
      "Running DDIM Sampling with 20 timesteps\n"
     ]
    },
    {
     "name": "stderr",
     "output_type": "stream",
     "text": [
      "\n",
      "DDIM Sampler:   0%|          | 0/20 [00:00<?, ?it/s]\u001b[A\n",
      "DDIM Sampler:   5%|▌         | 1/20 [00:00<00:11,  1.63it/s]\u001b[A\n",
      "DDIM Sampler:  10%|█         | 2/20 [00:01<00:11,  1.59it/s]\u001b[A\n",
      "DDIM Sampler:  15%|█▌        | 3/20 [00:01<00:10,  1.60it/s]\u001b[A\n",
      "DDIM Sampler:  20%|██        | 4/20 [00:02<00:10,  1.60it/s]\u001b[A\n",
      "DDIM Sampler:  25%|██▌       | 5/20 [00:03<00:09,  1.60it/s]\u001b[A\n",
      "DDIM Sampler:  30%|███       | 6/20 [00:03<00:08,  1.60it/s]\u001b[A\n",
      "DDIM Sampler:  35%|███▌      | 7/20 [00:04<00:08,  1.60it/s]\u001b[A\n",
      "DDIM Sampler:  40%|████      | 8/20 [00:05<00:07,  1.59it/s]\u001b[A\n",
      "DDIM Sampler:  45%|████▌     | 9/20 [00:05<00:06,  1.60it/s]\u001b[A\n",
      "DDIM Sampler:  50%|█████     | 10/20 [00:06<00:06,  1.60it/s]\u001b[A\n",
      "DDIM Sampler:  55%|█████▌    | 11/20 [00:06<00:05,  1.60it/s]\u001b[A\n",
      "DDIM Sampler:  60%|██████    | 12/20 [00:07<00:05,  1.60it/s]\u001b[A\n",
      "DDIM Sampler:  65%|██████▌   | 13/20 [00:08<00:04,  1.60it/s]\u001b[A\n",
      "DDIM Sampler:  70%|███████   | 14/20 [00:08<00:03,  1.60it/s]\u001b[A\n",
      "DDIM Sampler:  75%|███████▌  | 15/20 [00:09<00:03,  1.60it/s]\u001b[A\n",
      "DDIM Sampler:  80%|████████  | 16/20 [00:10<00:02,  1.60it/s]\u001b[A\n",
      "DDIM Sampler:  85%|████████▌ | 17/20 [00:10<00:01,  1.60it/s]\u001b[A\n",
      "DDIM Sampler:  90%|█████████ | 18/20 [00:11<00:01,  1.60it/s]\u001b[A\n",
      "DDIM Sampler:  95%|█████████▌| 19/20 [00:11<00:00,  1.60it/s]\u001b[A\n",
      "DDIM Sampler: 100%|██████████| 20/20 [00:12<00:00,  1.60it/s]\u001b[A\n",
      "Global seed set to 10533\n"
     ]
    },
    {
     "name": "stdout",
     "output_type": "stream",
     "text": [
      "Data shape for DDIM sampling is (2, 4, 64, 64), eta 0.0\n",
      "Running DDIM Sampling with 20 timesteps\n"
     ]
    },
    {
     "name": "stderr",
     "output_type": "stream",
     "text": [
      "\n",
      "DDIM Sampler:   0%|          | 0/20 [00:00<?, ?it/s]\u001b[A\n",
      "DDIM Sampler:   5%|▌         | 1/20 [00:00<00:11,  1.63it/s]\u001b[A\n",
      "DDIM Sampler:  10%|█         | 2/20 [00:01<00:11,  1.59it/s]\u001b[A\n",
      "DDIM Sampler:  15%|█▌        | 3/20 [00:01<00:10,  1.59it/s]\u001b[A\n",
      "DDIM Sampler:  20%|██        | 4/20 [00:02<00:10,  1.60it/s]\u001b[A\n",
      "DDIM Sampler:  25%|██▌       | 5/20 [00:03<00:09,  1.59it/s]\u001b[A\n",
      "DDIM Sampler:  30%|███       | 6/20 [00:03<00:08,  1.60it/s]\u001b[A\n",
      "DDIM Sampler:  35%|███▌      | 7/20 [00:04<00:08,  1.59it/s]\u001b[A\n",
      "DDIM Sampler:  40%|████      | 8/20 [00:05<00:07,  1.59it/s]\u001b[A\n",
      "DDIM Sampler:  45%|████▌     | 9/20 [00:05<00:06,  1.60it/s]\u001b[A\n",
      "DDIM Sampler:  50%|█████     | 10/20 [00:06<00:06,  1.59it/s]\u001b[A\n",
      "DDIM Sampler:  55%|█████▌    | 11/20 [00:06<00:05,  1.60it/s]\u001b[A\n",
      "DDIM Sampler:  60%|██████    | 12/20 [00:07<00:05,  1.60it/s]\u001b[A\n",
      "DDIM Sampler:  65%|██████▌   | 13/20 [00:08<00:04,  1.60it/s]\u001b[A\n",
      "DDIM Sampler:  70%|███████   | 14/20 [00:08<00:03,  1.60it/s]\u001b[A\n",
      "DDIM Sampler:  75%|███████▌  | 15/20 [00:09<00:03,  1.59it/s]\u001b[A\n",
      "DDIM Sampler:  80%|████████  | 16/20 [00:10<00:02,  1.60it/s]\u001b[A\n",
      "DDIM Sampler:  85%|████████▌ | 17/20 [00:10<00:01,  1.60it/s]\u001b[A\n",
      "DDIM Sampler:  90%|█████████ | 18/20 [00:11<00:01,  1.59it/s]\u001b[A\n",
      "DDIM Sampler:  95%|█████████▌| 19/20 [00:11<00:00,  1.60it/s]\u001b[A\n",
      "DDIM Sampler: 100%|██████████| 20/20 [00:12<00:00,  1.60it/s]\u001b[A\n",
      "Global seed set to 31808\n"
     ]
    },
    {
     "name": "stdout",
     "output_type": "stream",
     "text": [
      "Data shape for DDIM sampling is (2, 4, 64, 64), eta 0.0\n",
      "Running DDIM Sampling with 20 timesteps\n"
     ]
    },
    {
     "name": "stderr",
     "output_type": "stream",
     "text": [
      "\n",
      "DDIM Sampler:   0%|          | 0/20 [00:00<?, ?it/s]\u001b[A\n",
      "DDIM Sampler:   5%|▌         | 1/20 [00:00<00:11,  1.63it/s]\u001b[A\n",
      "DDIM Sampler:  10%|█         | 2/20 [00:01<00:11,  1.59it/s]\u001b[A\n",
      "DDIM Sampler:  15%|█▌        | 3/20 [00:01<00:10,  1.59it/s]\u001b[A\n",
      "DDIM Sampler:  20%|██        | 4/20 [00:02<00:10,  1.60it/s]\u001b[A\n",
      "DDIM Sampler:  25%|██▌       | 5/20 [00:03<00:09,  1.59it/s]\u001b[A\n",
      "DDIM Sampler:  30%|███       | 6/20 [00:03<00:08,  1.60it/s]\u001b[A\n",
      "DDIM Sampler:  35%|███▌      | 7/20 [00:04<00:08,  1.60it/s]\u001b[A\n",
      "DDIM Sampler:  40%|████      | 8/20 [00:05<00:07,  1.59it/s]\u001b[A\n",
      "DDIM Sampler:  45%|████▌     | 9/20 [00:05<00:06,  1.59it/s]\u001b[A\n",
      "DDIM Sampler:  50%|█████     | 10/20 [00:06<00:06,  1.59it/s]\u001b[A\n",
      "DDIM Sampler:  55%|█████▌    | 11/20 [00:06<00:05,  1.60it/s]\u001b[A\n",
      "DDIM Sampler:  60%|██████    | 12/20 [00:07<00:05,  1.60it/s]\u001b[A\n",
      "DDIM Sampler:  65%|██████▌   | 13/20 [00:08<00:04,  1.60it/s]\u001b[A\n",
      "DDIM Sampler:  70%|███████   | 14/20 [00:08<00:03,  1.60it/s]\u001b[A\n",
      "DDIM Sampler:  75%|███████▌  | 15/20 [00:09<00:03,  1.60it/s]\u001b[A\n",
      "DDIM Sampler:  80%|████████  | 16/20 [00:10<00:02,  1.60it/s]\u001b[A\n",
      "DDIM Sampler:  85%|████████▌ | 17/20 [00:10<00:01,  1.60it/s]\u001b[A\n",
      "DDIM Sampler:  90%|█████████ | 18/20 [00:11<00:01,  1.60it/s]\u001b[A\n",
      "DDIM Sampler:  95%|█████████▌| 19/20 [00:11<00:00,  1.60it/s]\u001b[A\n",
      "DDIM Sampler: 100%|██████████| 20/20 [00:12<00:00,  1.60it/s]\u001b[A\n",
      "Global seed set to 33281\n"
     ]
    },
    {
     "name": "stdout",
     "output_type": "stream",
     "text": [
      "Data shape for DDIM sampling is (2, 4, 64, 64), eta 0.0\n",
      "Running DDIM Sampling with 20 timesteps\n"
     ]
    },
    {
     "name": "stderr",
     "output_type": "stream",
     "text": [
      "\n",
      "DDIM Sampler:   0%|          | 0/20 [00:00<?, ?it/s]\u001b[A\n",
      "DDIM Sampler:   5%|▌         | 1/20 [00:00<00:11,  1.63it/s]\u001b[A\n",
      "DDIM Sampler:  10%|█         | 2/20 [00:01<00:11,  1.59it/s]\u001b[A\n",
      "DDIM Sampler:  15%|█▌        | 3/20 [00:01<00:10,  1.59it/s]\u001b[A\n",
      "DDIM Sampler:  20%|██        | 4/20 [00:02<00:10,  1.60it/s]\u001b[A\n",
      "DDIM Sampler:  25%|██▌       | 5/20 [00:03<00:09,  1.59it/s]\u001b[A\n",
      "DDIM Sampler:  30%|███       | 6/20 [00:03<00:08,  1.60it/s]\u001b[A\n",
      "DDIM Sampler:  35%|███▌      | 7/20 [00:04<00:08,  1.60it/s]\u001b[A\n",
      "DDIM Sampler:  40%|████      | 8/20 [00:05<00:07,  1.59it/s]\u001b[A\n",
      "DDIM Sampler:  45%|████▌     | 9/20 [00:05<00:06,  1.60it/s]\u001b[A\n",
      "DDIM Sampler:  50%|█████     | 10/20 [00:06<00:06,  1.60it/s]\u001b[A\n",
      "DDIM Sampler:  55%|█████▌    | 11/20 [00:06<00:05,  1.59it/s]\u001b[A\n",
      "DDIM Sampler:  60%|██████    | 12/20 [00:07<00:05,  1.60it/s]\u001b[A\n",
      "DDIM Sampler:  65%|██████▌   | 13/20 [00:08<00:04,  1.60it/s]\u001b[A\n",
      "DDIM Sampler:  70%|███████   | 14/20 [00:08<00:03,  1.59it/s]\u001b[A\n",
      "DDIM Sampler:  75%|███████▌  | 15/20 [00:09<00:03,  1.60it/s]\u001b[A\n",
      "DDIM Sampler:  80%|████████  | 16/20 [00:10<00:02,  1.59it/s]\u001b[A\n",
      "DDIM Sampler:  85%|████████▌ | 17/20 [00:10<00:01,  1.59it/s]\u001b[A\n",
      "DDIM Sampler:  90%|█████████ | 18/20 [00:11<00:01,  1.59it/s]\u001b[A\n",
      "DDIM Sampler:  95%|█████████▌| 19/20 [00:11<00:00,  1.59it/s]\u001b[A\n",
      "DDIM Sampler: 100%|██████████| 20/20 [00:12<00:00,  1.59it/s]\u001b[A\n",
      "Global seed set to 9181\n"
     ]
    },
    {
     "name": "stdout",
     "output_type": "stream",
     "text": [
      "Data shape for DDIM sampling is (2, 4, 72, 64), eta 0.0\n",
      "Running DDIM Sampling with 20 timesteps\n"
     ]
    },
    {
     "name": "stderr",
     "output_type": "stream",
     "text": [
      "\n",
      "DDIM Sampler:   0%|          | 0/20 [00:00<?, ?it/s]\u001b[A\n",
      "DDIM Sampler:   5%|▌         | 1/20 [00:00<00:13,  1.36it/s]\u001b[A\n",
      "DDIM Sampler:  10%|█         | 2/20 [00:01<00:13,  1.33it/s]\u001b[A\n",
      "DDIM Sampler:  15%|█▌        | 3/20 [00:02<00:12,  1.33it/s]\u001b[A\n",
      "DDIM Sampler:  20%|██        | 4/20 [00:02<00:12,  1.33it/s]\u001b[A\n",
      "DDIM Sampler:  25%|██▌       | 5/20 [00:03<00:11,  1.34it/s]\u001b[A\n",
      "DDIM Sampler:  30%|███       | 6/20 [00:04<00:10,  1.34it/s]\u001b[A\n",
      "DDIM Sampler:  35%|███▌      | 7/20 [00:05<00:09,  1.34it/s]\u001b[A\n",
      "DDIM Sampler:  40%|████      | 8/20 [00:05<00:08,  1.34it/s]\u001b[A\n",
      "DDIM Sampler:  45%|████▌     | 9/20 [00:06<00:08,  1.34it/s]\u001b[A\n",
      "DDIM Sampler:  50%|█████     | 10/20 [00:07<00:07,  1.34it/s]\u001b[A\n",
      "DDIM Sampler:  55%|█████▌    | 11/20 [00:08<00:06,  1.34it/s]\u001b[A\n",
      "DDIM Sampler:  60%|██████    | 12/20 [00:08<00:05,  1.34it/s]\u001b[A\n",
      "DDIM Sampler:  65%|██████▌   | 13/20 [00:09<00:05,  1.34it/s]\u001b[A\n",
      "DDIM Sampler:  70%|███████   | 14/20 [00:10<00:04,  1.34it/s]\u001b[A\n",
      "DDIM Sampler:  75%|███████▌  | 15/20 [00:11<00:03,  1.34it/s]\u001b[A\n",
      "DDIM Sampler:  80%|████████  | 16/20 [00:11<00:02,  1.34it/s]\u001b[A\n",
      "DDIM Sampler:  85%|████████▌ | 17/20 [00:12<00:02,  1.33it/s]\u001b[A\n",
      "DDIM Sampler:  90%|█████████ | 18/20 [00:13<00:01,  1.34it/s]\u001b[A\n",
      "DDIM Sampler:  95%|█████████▌| 19/20 [00:14<00:00,  1.33it/s]\u001b[A\n",
      "DDIM Sampler: 100%|██████████| 20/20 [00:14<00:00,  1.34it/s]\u001b[A\n",
      "Global seed set to 64188\n"
     ]
    },
    {
     "name": "stdout",
     "output_type": "stream",
     "text": [
      "Data shape for DDIM sampling is (2, 4, 64, 64), eta 0.0\n",
      "Running DDIM Sampling with 20 timesteps\n"
     ]
    },
    {
     "name": "stderr",
     "output_type": "stream",
     "text": [
      "\n",
      "DDIM Sampler:   0%|          | 0/20 [00:00<?, ?it/s]\u001b[A\n",
      "DDIM Sampler:   5%|▌         | 1/20 [00:00<00:11,  1.63it/s]\u001b[A\n",
      "DDIM Sampler:  10%|█         | 2/20 [00:01<00:11,  1.59it/s]\u001b[A\n",
      "DDIM Sampler:  15%|█▌        | 3/20 [00:01<00:10,  1.59it/s]\u001b[A\n",
      "DDIM Sampler:  20%|██        | 4/20 [00:02<00:10,  1.60it/s]\u001b[A\n",
      "DDIM Sampler:  25%|██▌       | 5/20 [00:03<00:09,  1.59it/s]\u001b[A\n",
      "DDIM Sampler:  30%|███       | 6/20 [00:03<00:08,  1.60it/s]\u001b[A\n",
      "DDIM Sampler:  35%|███▌      | 7/20 [00:04<00:08,  1.60it/s]\u001b[A\n",
      "DDIM Sampler:  40%|████      | 8/20 [00:05<00:07,  1.59it/s]\u001b[A\n",
      "DDIM Sampler:  45%|████▌     | 9/20 [00:05<00:06,  1.60it/s]\u001b[A\n",
      "DDIM Sampler:  50%|█████     | 10/20 [00:06<00:06,  1.60it/s]\u001b[A\n",
      "DDIM Sampler:  55%|█████▌    | 11/20 [00:06<00:05,  1.59it/s]\u001b[A\n",
      "DDIM Sampler:  60%|██████    | 12/20 [00:07<00:05,  1.60it/s]\u001b[A\n",
      "DDIM Sampler:  65%|██████▌   | 13/20 [00:08<00:04,  1.60it/s]\u001b[A\n",
      "DDIM Sampler:  70%|███████   | 14/20 [00:08<00:03,  1.60it/s]\u001b[A\n",
      "DDIM Sampler:  75%|███████▌  | 15/20 [00:09<00:03,  1.60it/s]\u001b[A\n",
      "DDIM Sampler:  80%|████████  | 16/20 [00:10<00:02,  1.60it/s]\u001b[A\n",
      "DDIM Sampler:  85%|████████▌ | 17/20 [00:10<00:01,  1.60it/s]\u001b[A\n",
      "DDIM Sampler:  90%|█████████ | 18/20 [00:11<00:01,  1.60it/s]\u001b[A\n",
      "DDIM Sampler:  95%|█████████▌| 19/20 [00:11<00:00,  1.60it/s]\u001b[A\n",
      "DDIM Sampler: 100%|██████████| 20/20 [00:12<00:00,  1.60it/s]\u001b[A\n",
      "Global seed set to 10533\n"
     ]
    },
    {
     "name": "stdout",
     "output_type": "stream",
     "text": [
      "Data shape for DDIM sampling is (2, 4, 64, 96), eta 0.0\n",
      "Running DDIM Sampling with 20 timesteps\n"
     ]
    },
    {
     "name": "stderr",
     "output_type": "stream",
     "text": [
      "\n",
      "DDIM Sampler:   0%|          | 0/20 [00:00<?, ?it/s]\u001b[A\n",
      "DDIM Sampler:   5%|▌         | 1/20 [00:01<00:22,  1.18s/it]\u001b[A\n",
      "DDIM Sampler:  10%|█         | 2/20 [00:02<00:21,  1.17s/it]\u001b[A\n",
      "DDIM Sampler:  15%|█▌        | 3/20 [00:03<00:19,  1.16s/it]\u001b[A\n",
      "DDIM Sampler:  20%|██        | 4/20 [00:04<00:18,  1.16s/it]\u001b[A\n",
      "DDIM Sampler:  25%|██▌       | 5/20 [00:05<00:17,  1.16s/it]\u001b[A\n",
      "DDIM Sampler:  30%|███       | 6/20 [00:06<00:16,  1.16s/it]\u001b[A\n",
      "DDIM Sampler:  35%|███▌      | 7/20 [00:08<00:15,  1.16s/it]\u001b[A\n",
      "DDIM Sampler:  40%|████      | 8/20 [00:09<00:13,  1.16s/it]\u001b[A\n",
      "DDIM Sampler:  45%|████▌     | 9/20 [00:10<00:12,  1.16s/it]\u001b[A\n",
      "DDIM Sampler:  50%|█████     | 10/20 [00:11<00:11,  1.16s/it]\u001b[A\n",
      "DDIM Sampler:  55%|█████▌    | 11/20 [00:12<00:10,  1.16s/it]\u001b[A\n",
      "DDIM Sampler:  60%|██████    | 12/20 [00:13<00:09,  1.16s/it]\u001b[A\n",
      "DDIM Sampler:  65%|██████▌   | 13/20 [00:15<00:08,  1.16s/it]\u001b[A\n",
      "DDIM Sampler:  70%|███████   | 14/20 [00:16<00:06,  1.16s/it]\u001b[A\n",
      "DDIM Sampler:  75%|███████▌  | 15/20 [00:17<00:05,  1.16s/it]\u001b[A\n",
      "DDIM Sampler:  80%|████████  | 16/20 [00:18<00:04,  1.16s/it]\u001b[A\n",
      "DDIM Sampler:  85%|████████▌ | 17/20 [00:19<00:03,  1.16s/it]\u001b[A\n",
      "DDIM Sampler:  90%|█████████ | 18/20 [00:20<00:02,  1.16s/it]\u001b[A\n",
      "DDIM Sampler:  95%|█████████▌| 19/20 [00:22<00:01,  1.16s/it]\u001b[A\n",
      "DDIM Sampler: 100%|██████████| 20/20 [00:23<00:00,  1.16s/it]\u001b[A\n",
      "Global seed set to 31808\n"
     ]
    },
    {
     "name": "stdout",
     "output_type": "stream",
     "text": [
      "Data shape for DDIM sampling is (2, 4, 64, 64), eta 0.0\n",
      "Running DDIM Sampling with 20 timesteps\n"
     ]
    },
    {
     "name": "stderr",
     "output_type": "stream",
     "text": [
      "\n",
      "DDIM Sampler:   0%|          | 0/20 [00:00<?, ?it/s]\u001b[A\n",
      "DDIM Sampler:   5%|▌         | 1/20 [00:00<00:11,  1.63it/s]\u001b[A\n",
      "DDIM Sampler:  10%|█         | 2/20 [00:01<00:11,  1.59it/s]\u001b[A\n",
      "DDIM Sampler:  15%|█▌        | 3/20 [00:01<00:10,  1.59it/s]\u001b[A\n",
      "DDIM Sampler:  20%|██        | 4/20 [00:02<00:10,  1.59it/s]\u001b[A\n",
      "DDIM Sampler:  25%|██▌       | 5/20 [00:03<00:09,  1.59it/s]\u001b[A\n",
      "DDIM Sampler:  30%|███       | 6/20 [00:03<00:08,  1.60it/s]\u001b[A\n",
      "DDIM Sampler:  35%|███▌      | 7/20 [00:04<00:08,  1.59it/s]\u001b[A\n",
      "DDIM Sampler:  40%|████      | 8/20 [00:05<00:07,  1.59it/s]\u001b[A\n",
      "DDIM Sampler:  45%|████▌     | 9/20 [00:05<00:06,  1.60it/s]\u001b[A\n",
      "DDIM Sampler:  50%|█████     | 10/20 [00:06<00:06,  1.59it/s]\u001b[A\n",
      "DDIM Sampler:  55%|█████▌    | 11/20 [00:06<00:05,  1.60it/s]\u001b[A\n",
      "DDIM Sampler:  60%|██████    | 12/20 [00:07<00:05,  1.59it/s]\u001b[A\n",
      "DDIM Sampler:  65%|██████▌   | 13/20 [00:08<00:04,  1.60it/s]\u001b[A\n",
      "DDIM Sampler:  70%|███████   | 14/20 [00:08<00:03,  1.60it/s]\u001b[A\n",
      "DDIM Sampler:  75%|███████▌  | 15/20 [00:09<00:03,  1.59it/s]\u001b[A\n",
      "DDIM Sampler:  80%|████████  | 16/20 [00:10<00:02,  1.59it/s]\u001b[A\n",
      "DDIM Sampler:  85%|████████▌ | 17/20 [00:10<00:01,  1.59it/s]\u001b[A\n",
      "DDIM Sampler:  90%|█████████ | 18/20 [00:11<00:01,  1.59it/s]\u001b[A\n",
      "DDIM Sampler:  95%|█████████▌| 19/20 [00:11<00:00,  1.60it/s]\u001b[A\n",
      "DDIM Sampler: 100%|██████████| 20/20 [00:12<00:00,  1.59it/s]\u001b[A\n",
      "Global seed set to 33281\n"
     ]
    },
    {
     "name": "stdout",
     "output_type": "stream",
     "text": [
      "Data shape for DDIM sampling is (2, 4, 64, 64), eta 0.0\n",
      "Running DDIM Sampling with 20 timesteps\n"
     ]
    },
    {
     "name": "stderr",
     "output_type": "stream",
     "text": [
      "\n",
      "DDIM Sampler:   0%|          | 0/20 [00:00<?, ?it/s]\u001b[A\n",
      "DDIM Sampler:   5%|▌         | 1/20 [00:00<00:11,  1.63it/s]\u001b[A\n",
      "DDIM Sampler:  10%|█         | 2/20 [00:01<00:11,  1.59it/s]\u001b[A\n",
      "DDIM Sampler:  15%|█▌        | 3/20 [00:01<00:10,  1.59it/s]\u001b[A\n",
      "DDIM Sampler:  20%|██        | 4/20 [00:02<00:10,  1.60it/s]\u001b[A\n",
      "DDIM Sampler:  25%|██▌       | 5/20 [00:03<00:09,  1.59it/s]\u001b[A\n",
      "DDIM Sampler:  30%|███       | 6/20 [00:03<00:08,  1.60it/s]\u001b[A\n",
      "DDIM Sampler:  35%|███▌      | 7/20 [00:04<00:08,  1.60it/s]\u001b[A\n",
      "DDIM Sampler:  40%|████      | 8/20 [00:05<00:07,  1.60it/s]\u001b[A\n",
      "DDIM Sampler:  45%|████▌     | 9/20 [00:05<00:06,  1.60it/s]\u001b[A\n",
      "DDIM Sampler:  50%|█████     | 10/20 [00:06<00:06,  1.60it/s]\u001b[A\n",
      "DDIM Sampler:  55%|█████▌    | 11/20 [00:06<00:05,  1.60it/s]\u001b[A\n",
      "DDIM Sampler:  60%|██████    | 12/20 [00:07<00:05,  1.60it/s]\u001b[A\n",
      "DDIM Sampler:  65%|██████▌   | 13/20 [00:08<00:04,  1.59it/s]\u001b[A\n",
      "DDIM Sampler:  70%|███████   | 14/20 [00:08<00:03,  1.59it/s]\u001b[A\n",
      "DDIM Sampler:  75%|███████▌  | 15/20 [00:09<00:03,  1.59it/s]\u001b[A\n",
      "DDIM Sampler:  80%|████████  | 16/20 [00:10<00:02,  1.59it/s]\u001b[A\n",
      "DDIM Sampler:  85%|████████▌ | 17/20 [00:10<00:01,  1.59it/s]\u001b[A\n",
      "DDIM Sampler:  90%|█████████ | 18/20 [00:11<00:01,  1.60it/s]\u001b[A\n",
      "DDIM Sampler:  95%|█████████▌| 19/20 [00:11<00:00,  1.60it/s]\u001b[A\n",
      "DDIM Sampler: 100%|██████████| 20/20 [00:12<00:00,  1.60it/s]\u001b[A\n",
      "Global seed set to 9181\n"
     ]
    },
    {
     "name": "stdout",
     "output_type": "stream",
     "text": [
      "Data shape for DDIM sampling is (2, 4, 64, 64), eta 0.0\n",
      "Running DDIM Sampling with 20 timesteps\n"
     ]
    },
    {
     "name": "stderr",
     "output_type": "stream",
     "text": [
      "\n",
      "DDIM Sampler:   0%|          | 0/20 [00:00<?, ?it/s]\u001b[A\n",
      "DDIM Sampler:   5%|▌         | 1/20 [00:00<00:11,  1.63it/s]\u001b[A\n",
      "DDIM Sampler:  10%|█         | 2/20 [00:01<00:11,  1.59it/s]\u001b[A\n",
      "DDIM Sampler:  15%|█▌        | 3/20 [00:01<00:10,  1.60it/s]\u001b[A\n",
      "DDIM Sampler:  20%|██        | 4/20 [00:02<00:09,  1.60it/s]\u001b[A\n",
      "DDIM Sampler:  25%|██▌       | 5/20 [00:03<00:09,  1.60it/s]\u001b[A\n",
      "DDIM Sampler:  30%|███       | 6/20 [00:03<00:08,  1.60it/s]\u001b[A\n",
      "DDIM Sampler:  35%|███▌      | 7/20 [00:04<00:08,  1.60it/s]\u001b[A\n",
      "DDIM Sampler:  40%|████      | 8/20 [00:05<00:07,  1.59it/s]\u001b[A\n",
      "DDIM Sampler:  45%|████▌     | 9/20 [00:05<00:06,  1.60it/s]\u001b[A\n",
      "DDIM Sampler:  50%|█████     | 10/20 [00:06<00:06,  1.59it/s]\u001b[A\n",
      "DDIM Sampler:  55%|█████▌    | 11/20 [00:06<00:05,  1.60it/s]\u001b[A\n",
      "DDIM Sampler:  60%|██████    | 12/20 [00:07<00:05,  1.60it/s]\u001b[A\n",
      "DDIM Sampler:  65%|██████▌   | 13/20 [00:08<00:04,  1.59it/s]\u001b[A\n",
      "DDIM Sampler:  70%|███████   | 14/20 [00:08<00:03,  1.60it/s]\u001b[A\n",
      "DDIM Sampler:  75%|███████▌  | 15/20 [00:09<00:03,  1.60it/s]\u001b[A\n",
      "DDIM Sampler:  80%|████████  | 16/20 [00:10<00:02,  1.59it/s]\u001b[A\n",
      "DDIM Sampler:  85%|████████▌ | 17/20 [00:10<00:01,  1.60it/s]\u001b[A\n",
      "DDIM Sampler:  90%|█████████ | 18/20 [00:11<00:01,  1.59it/s]\u001b[A\n",
      "DDIM Sampler:  95%|█████████▌| 19/20 [00:11<00:00,  1.60it/s]\u001b[A\n",
      "DDIM Sampler: 100%|██████████| 20/20 [00:12<00:00,  1.60it/s]\u001b[A\n",
      "Global seed set to 64188\n"
     ]
    },
    {
     "name": "stdout",
     "output_type": "stream",
     "text": [
      "Data shape for DDIM sampling is (2, 4, 64, 64), eta 0.0\n",
      "Running DDIM Sampling with 20 timesteps\n"
     ]
    },
    {
     "name": "stderr",
     "output_type": "stream",
     "text": [
      "\n",
      "DDIM Sampler:   0%|          | 0/20 [00:00<?, ?it/s]\u001b[A\n",
      "DDIM Sampler:   5%|▌         | 1/20 [00:00<00:11,  1.63it/s]\u001b[A\n",
      "DDIM Sampler:  10%|█         | 2/20 [00:01<00:11,  1.60it/s]\u001b[A\n",
      "DDIM Sampler:  15%|█▌        | 3/20 [00:01<00:10,  1.60it/s]\u001b[A\n",
      "DDIM Sampler:  20%|██        | 4/20 [00:02<00:10,  1.60it/s]\u001b[A\n",
      "DDIM Sampler:  25%|██▌       | 5/20 [00:03<00:09,  1.59it/s]\u001b[A\n",
      "DDIM Sampler:  30%|███       | 6/20 [00:03<00:08,  1.60it/s]\u001b[A\n",
      "DDIM Sampler:  35%|███▌      | 7/20 [00:04<00:08,  1.60it/s]\u001b[A\n",
      "DDIM Sampler:  40%|████      | 8/20 [00:05<00:07,  1.59it/s]\u001b[A\n",
      "DDIM Sampler:  45%|████▌     | 9/20 [00:05<00:06,  1.59it/s]\u001b[A\n",
      "DDIM Sampler:  50%|█████     | 10/20 [00:06<00:06,  1.60it/s]\u001b[A\n",
      "DDIM Sampler:  55%|█████▌    | 11/20 [00:06<00:05,  1.59it/s]\u001b[A\n",
      "DDIM Sampler:  60%|██████    | 12/20 [00:07<00:05,  1.60it/s]\u001b[A\n",
      "DDIM Sampler:  65%|██████▌   | 13/20 [00:08<00:04,  1.60it/s]\u001b[A\n",
      "DDIM Sampler:  70%|███████   | 14/20 [00:08<00:03,  1.60it/s]\u001b[A\n",
      "DDIM Sampler:  75%|███████▌  | 15/20 [00:09<00:03,  1.60it/s]\u001b[A\n",
      "DDIM Sampler:  80%|████████  | 16/20 [00:10<00:02,  1.60it/s]\u001b[A\n",
      "DDIM Sampler:  85%|████████▌ | 17/20 [00:10<00:01,  1.60it/s]\u001b[A\n",
      "DDIM Sampler:  90%|█████████ | 18/20 [00:11<00:01,  1.60it/s]\u001b[A\n",
      "DDIM Sampler:  95%|█████████▌| 19/20 [00:11<00:00,  1.60it/s]\u001b[A\n",
      "DDIM Sampler: 100%|██████████| 20/20 [00:12<00:00,  1.60it/s]\u001b[A\n",
      "Global seed set to 10533\n"
     ]
    },
    {
     "name": "stdout",
     "output_type": "stream",
     "text": [
      "Data shape for DDIM sampling is (2, 4, 64, 64), eta 0.0\n",
      "Running DDIM Sampling with 20 timesteps\n"
     ]
    },
    {
     "name": "stderr",
     "output_type": "stream",
     "text": [
      "\n",
      "DDIM Sampler:   0%|          | 0/20 [00:00<?, ?it/s]\u001b[A\n",
      "DDIM Sampler:   5%|▌         | 1/20 [00:00<00:11,  1.64it/s]\u001b[A\n",
      "DDIM Sampler:  10%|█         | 2/20 [00:01<00:11,  1.59it/s]\u001b[A\n",
      "DDIM Sampler:  15%|█▌        | 3/20 [00:01<00:10,  1.59it/s]\u001b[A\n",
      "DDIM Sampler:  20%|██        | 4/20 [00:02<00:10,  1.60it/s]\u001b[A\n",
      "DDIM Sampler:  25%|██▌       | 5/20 [00:03<00:09,  1.59it/s]\u001b[A\n",
      "DDIM Sampler:  30%|███       | 6/20 [00:03<00:08,  1.60it/s]\u001b[A\n",
      "DDIM Sampler:  35%|███▌      | 7/20 [00:04<00:08,  1.60it/s]\u001b[A\n",
      "DDIM Sampler:  40%|████      | 8/20 [00:05<00:07,  1.59it/s]\u001b[A\n",
      "DDIM Sampler:  45%|████▌     | 9/20 [00:05<00:06,  1.60it/s]\u001b[A\n",
      "DDIM Sampler:  50%|█████     | 10/20 [00:06<00:06,  1.60it/s]\u001b[A\n",
      "DDIM Sampler:  55%|█████▌    | 11/20 [00:06<00:05,  1.59it/s]\u001b[A\n",
      "DDIM Sampler:  60%|██████    | 12/20 [00:07<00:05,  1.60it/s]\u001b[A\n",
      "DDIM Sampler:  65%|██████▌   | 13/20 [00:08<00:04,  1.60it/s]\u001b[A\n",
      "DDIM Sampler:  70%|███████   | 14/20 [00:08<00:03,  1.60it/s]\u001b[A\n",
      "DDIM Sampler:  75%|███████▌  | 15/20 [00:09<00:03,  1.60it/s]\u001b[A\n",
      "DDIM Sampler:  80%|████████  | 16/20 [00:10<00:02,  1.60it/s]\u001b[A\n",
      "DDIM Sampler:  85%|████████▌ | 17/20 [00:10<00:01,  1.59it/s]\u001b[A\n",
      "DDIM Sampler:  90%|█████████ | 18/20 [00:11<00:01,  1.59it/s]\u001b[A\n",
      "DDIM Sampler:  95%|█████████▌| 19/20 [00:11<00:00,  1.59it/s]\u001b[A\n",
      "DDIM Sampler: 100%|██████████| 20/20 [00:12<00:00,  1.60it/s]\u001b[A\n",
      "Global seed set to 31808\n"
     ]
    },
    {
     "name": "stdout",
     "output_type": "stream",
     "text": [
      "Data shape for DDIM sampling is (2, 4, 64, 72), eta 0.0\n",
      "Running DDIM Sampling with 20 timesteps\n"
     ]
    },
    {
     "name": "stderr",
     "output_type": "stream",
     "text": [
      "\n",
      "DDIM Sampler:   0%|          | 0/20 [00:00<?, ?it/s]\u001b[A\n",
      "DDIM Sampler:   5%|▌         | 1/20 [00:00<00:14,  1.35it/s]\u001b[A\n",
      "DDIM Sampler:  10%|█         | 2/20 [00:01<00:13,  1.33it/s]\u001b[A\n",
      "DDIM Sampler:  15%|█▌        | 3/20 [00:02<00:12,  1.33it/s]\u001b[A\n",
      "DDIM Sampler:  20%|██        | 4/20 [00:03<00:12,  1.33it/s]\u001b[A\n",
      "DDIM Sampler:  25%|██▌       | 5/20 [00:03<00:11,  1.33it/s]\u001b[A\n",
      "DDIM Sampler:  30%|███       | 6/20 [00:04<00:10,  1.33it/s]\u001b[A\n",
      "DDIM Sampler:  35%|███▌      | 7/20 [00:05<00:09,  1.33it/s]\u001b[A\n",
      "DDIM Sampler:  40%|████      | 8/20 [00:06<00:09,  1.33it/s]\u001b[A\n",
      "DDIM Sampler:  45%|████▌     | 9/20 [00:06<00:08,  1.33it/s]\u001b[A\n",
      "DDIM Sampler:  50%|█████     | 10/20 [00:07<00:07,  1.33it/s]\u001b[A\n",
      "DDIM Sampler:  55%|█████▌    | 11/20 [00:08<00:06,  1.33it/s]\u001b[A\n",
      "DDIM Sampler:  60%|██████    | 12/20 [00:09<00:06,  1.33it/s]\u001b[A\n",
      "DDIM Sampler:  65%|██████▌   | 13/20 [00:09<00:05,  1.33it/s]\u001b[A\n",
      "DDIM Sampler:  70%|███████   | 14/20 [00:10<00:04,  1.33it/s]\u001b[A\n",
      "DDIM Sampler:  75%|███████▌  | 15/20 [00:11<00:03,  1.33it/s]\u001b[A\n",
      "DDIM Sampler:  80%|████████  | 16/20 [00:12<00:03,  1.33it/s]\u001b[A\n",
      "DDIM Sampler:  85%|████████▌ | 17/20 [00:12<00:02,  1.33it/s]\u001b[A\n",
      "DDIM Sampler:  90%|█████████ | 18/20 [00:13<00:01,  1.33it/s]\u001b[A\n",
      "DDIM Sampler:  95%|█████████▌| 19/20 [00:14<00:00,  1.33it/s]\u001b[A\n",
      "DDIM Sampler: 100%|██████████| 20/20 [00:15<00:00,  1.33it/s]\u001b[A\n",
      "Global seed set to 33281\n"
     ]
    },
    {
     "name": "stdout",
     "output_type": "stream",
     "text": [
      "Data shape for DDIM sampling is (2, 4, 64, 112), eta 0.0\n",
      "Running DDIM Sampling with 20 timesteps\n"
     ]
    },
    {
     "name": "stderr",
     "output_type": "stream",
     "text": [
      "\n",
      "DDIM Sampler:   0%|          | 0/20 [00:00<?, ?it/s]\u001b[A\n",
      "DDIM Sampler:   5%|▌         | 1/20 [00:01<00:28,  1.52s/it]\u001b[A\n",
      "DDIM Sampler:  10%|█         | 2/20 [00:03<00:27,  1.52s/it]\u001b[A\n",
      "DDIM Sampler:  15%|█▌        | 3/20 [00:04<00:25,  1.51s/it]\u001b[A\n",
      "DDIM Sampler:  20%|██        | 4/20 [00:06<00:24,  1.51s/it]\u001b[A\n",
      "DDIM Sampler:  25%|██▌       | 5/20 [00:07<00:22,  1.51s/it]\u001b[A\n",
      "DDIM Sampler:  30%|███       | 6/20 [00:09<00:21,  1.51s/it]\u001b[A\n",
      "DDIM Sampler:  35%|███▌      | 7/20 [00:10<00:19,  1.51s/it]\u001b[A\n",
      "DDIM Sampler:  40%|████      | 8/20 [00:12<00:18,  1.51s/it]\u001b[A\n",
      "DDIM Sampler:  45%|████▌     | 9/20 [00:13<00:16,  1.51s/it]\u001b[A\n",
      "DDIM Sampler:  50%|█████     | 10/20 [00:15<00:15,  1.51s/it]\u001b[A\n",
      "DDIM Sampler:  55%|█████▌    | 11/20 [00:16<00:13,  1.51s/it]\u001b[A\n",
      "DDIM Sampler:  60%|██████    | 12/20 [00:18<00:12,  1.51s/it]\u001b[A\n",
      "DDIM Sampler:  65%|██████▌   | 13/20 [00:19<00:10,  1.51s/it]\u001b[A\n",
      "DDIM Sampler:  70%|███████   | 14/20 [00:21<00:09,  1.51s/it]\u001b[A\n",
      "DDIM Sampler:  75%|███████▌  | 15/20 [00:22<00:07,  1.51s/it]\u001b[A\n",
      "DDIM Sampler:  80%|████████  | 16/20 [00:24<00:06,  1.51s/it]\u001b[A\n",
      "DDIM Sampler:  85%|████████▌ | 17/20 [00:25<00:04,  1.51s/it]\u001b[A\n",
      "DDIM Sampler:  90%|█████████ | 18/20 [00:27<00:03,  1.51s/it]\u001b[A\n",
      "DDIM Sampler:  95%|█████████▌| 19/20 [00:28<00:01,  1.51s/it]\u001b[A\n",
      "DDIM Sampler: 100%|██████████| 20/20 [00:30<00:00,  1.51s/it]\u001b[A\n",
      "Global seed set to 9181\n"
     ]
    },
    {
     "name": "stdout",
     "output_type": "stream",
     "text": [
      "Data shape for DDIM sampling is (2, 4, 64, 96), eta 0.0\n",
      "Running DDIM Sampling with 20 timesteps\n"
     ]
    },
    {
     "name": "stderr",
     "output_type": "stream",
     "text": [
      "\n",
      "DDIM Sampler:   0%|          | 0/20 [00:00<?, ?it/s]\u001b[A\n",
      "DDIM Sampler:   5%|▌         | 1/20 [00:01<00:22,  1.17s/it]\u001b[A\n",
      "DDIM Sampler:  10%|█         | 2/20 [00:02<00:20,  1.16s/it]\u001b[A\n",
      "DDIM Sampler:  15%|█▌        | 3/20 [00:03<00:19,  1.16s/it]\u001b[A\n",
      "DDIM Sampler:  20%|██        | 4/20 [00:04<00:18,  1.16s/it]\u001b[A\n",
      "DDIM Sampler:  25%|██▌       | 5/20 [00:05<00:17,  1.16s/it]\u001b[A\n",
      "DDIM Sampler:  30%|███       | 6/20 [00:06<00:16,  1.16s/it]\u001b[A\n",
      "DDIM Sampler:  35%|███▌      | 7/20 [00:08<00:15,  1.16s/it]\u001b[A\n",
      "DDIM Sampler:  40%|████      | 8/20 [00:09<00:13,  1.16s/it]\u001b[A\n",
      "DDIM Sampler:  45%|████▌     | 9/20 [00:10<00:12,  1.16s/it]\u001b[A\n",
      "DDIM Sampler:  50%|█████     | 10/20 [00:11<00:11,  1.16s/it]\u001b[A\n",
      "DDIM Sampler:  55%|█████▌    | 11/20 [00:12<00:10,  1.16s/it]\u001b[A\n",
      "DDIM Sampler:  60%|██████    | 12/20 [00:13<00:09,  1.16s/it]\u001b[A\n",
      "DDIM Sampler:  65%|██████▌   | 13/20 [00:15<00:08,  1.16s/it]\u001b[A\n",
      "DDIM Sampler:  70%|███████   | 14/20 [00:16<00:06,  1.16s/it]\u001b[A\n",
      "DDIM Sampler:  75%|███████▌  | 15/20 [00:17<00:05,  1.16s/it]\u001b[A\n",
      "DDIM Sampler:  80%|████████  | 16/20 [00:18<00:04,  1.16s/it]\u001b[A\n",
      "DDIM Sampler:  85%|████████▌ | 17/20 [00:19<00:03,  1.16s/it]\u001b[A\n",
      "DDIM Sampler:  90%|█████████ | 18/20 [00:20<00:02,  1.16s/it]\u001b[A\n",
      "DDIM Sampler:  95%|█████████▌| 19/20 [00:22<00:01,  1.16s/it]\u001b[A\n",
      "DDIM Sampler: 100%|██████████| 20/20 [00:23<00:00,  1.16s/it]\u001b[A\n",
      "Global seed set to 64188\n"
     ]
    },
    {
     "name": "stdout",
     "output_type": "stream",
     "text": [
      "Data shape for DDIM sampling is (2, 4, 64, 64), eta 0.0\n",
      "Running DDIM Sampling with 20 timesteps\n"
     ]
    },
    {
     "name": "stderr",
     "output_type": "stream",
     "text": [
      "\n",
      "DDIM Sampler:   0%|          | 0/20 [00:00<?, ?it/s]\u001b[A\n",
      "DDIM Sampler:   5%|▌         | 1/20 [00:00<00:11,  1.63it/s]\u001b[A\n",
      "DDIM Sampler:  10%|█         | 2/20 [00:01<00:11,  1.59it/s]\u001b[A\n",
      "DDIM Sampler:  15%|█▌        | 3/20 [00:01<00:10,  1.59it/s]\u001b[A\n",
      "DDIM Sampler:  20%|██        | 4/20 [00:02<00:10,  1.60it/s]\u001b[A\n",
      "DDIM Sampler:  25%|██▌       | 5/20 [00:03<00:09,  1.59it/s]\u001b[A\n",
      "DDIM Sampler:  30%|███       | 6/20 [00:03<00:08,  1.60it/s]\u001b[A\n",
      "DDIM Sampler:  35%|███▌      | 7/20 [00:04<00:08,  1.60it/s]\u001b[A\n",
      "DDIM Sampler:  40%|████      | 8/20 [00:05<00:07,  1.60it/s]\u001b[A\n",
      "DDIM Sampler:  45%|████▌     | 9/20 [00:05<00:06,  1.60it/s]\u001b[A\n",
      "DDIM Sampler:  50%|█████     | 10/20 [00:06<00:06,  1.60it/s]\u001b[A\n",
      "DDIM Sampler:  55%|█████▌    | 11/20 [00:06<00:05,  1.60it/s]\u001b[A\n",
      "DDIM Sampler:  60%|██████    | 12/20 [00:07<00:05,  1.60it/s]\u001b[A\n",
      "DDIM Sampler:  65%|██████▌   | 13/20 [00:08<00:04,  1.60it/s]\u001b[A\n",
      "DDIM Sampler:  70%|███████   | 14/20 [00:08<00:03,  1.60it/s]\u001b[A\n",
      "DDIM Sampler:  75%|███████▌  | 15/20 [00:09<00:03,  1.60it/s]\u001b[A\n",
      "DDIM Sampler:  80%|████████  | 16/20 [00:10<00:02,  1.60it/s]\u001b[A\n",
      "DDIM Sampler:  85%|████████▌ | 17/20 [00:10<00:01,  1.60it/s]\u001b[A\n",
      "DDIM Sampler:  90%|█████████ | 18/20 [00:11<00:01,  1.60it/s]\u001b[A\n",
      "DDIM Sampler:  95%|█████████▌| 19/20 [00:11<00:00,  1.60it/s]\u001b[A\n",
      "DDIM Sampler: 100%|██████████| 20/20 [00:12<00:00,  1.60it/s]\u001b[A\n",
      "Global seed set to 10533\n"
     ]
    },
    {
     "name": "stdout",
     "output_type": "stream",
     "text": [
      "Data shape for DDIM sampling is (2, 4, 64, 64), eta 0.0\n",
      "Running DDIM Sampling with 20 timesteps\n"
     ]
    },
    {
     "name": "stderr",
     "output_type": "stream",
     "text": [
      "\n",
      "DDIM Sampler:   0%|          | 0/20 [00:00<?, ?it/s]\u001b[A\n",
      "DDIM Sampler:   5%|▌         | 1/20 [00:00<00:11,  1.63it/s]\u001b[A\n",
      "DDIM Sampler:  10%|█         | 2/20 [00:01<00:11,  1.59it/s]\u001b[A\n",
      "DDIM Sampler:  15%|█▌        | 3/20 [00:01<00:10,  1.59it/s]\u001b[A\n",
      "DDIM Sampler:  20%|██        | 4/20 [00:02<00:10,  1.60it/s]\u001b[A\n",
      "DDIM Sampler:  25%|██▌       | 5/20 [00:03<00:09,  1.59it/s]\u001b[A\n",
      "DDIM Sampler:  30%|███       | 6/20 [00:03<00:08,  1.60it/s]\u001b[A\n",
      "DDIM Sampler:  35%|███▌      | 7/20 [00:04<00:08,  1.60it/s]\u001b[A\n",
      "DDIM Sampler:  40%|████      | 8/20 [00:05<00:07,  1.59it/s]\u001b[A\n",
      "DDIM Sampler:  45%|████▌     | 9/20 [00:05<00:06,  1.60it/s]\u001b[A\n",
      "DDIM Sampler:  50%|█████     | 10/20 [00:06<00:06,  1.60it/s]\u001b[A\n",
      "DDIM Sampler:  55%|█████▌    | 11/20 [00:06<00:05,  1.59it/s]\u001b[A\n",
      "DDIM Sampler:  60%|██████    | 12/20 [00:07<00:05,  1.60it/s]\u001b[A\n",
      "DDIM Sampler:  65%|██████▌   | 13/20 [00:08<00:04,  1.60it/s]\u001b[A\n",
      "DDIM Sampler:  70%|███████   | 14/20 [00:08<00:03,  1.60it/s]\u001b[A\n",
      "DDIM Sampler:  75%|███████▌  | 15/20 [00:09<00:03,  1.60it/s]\u001b[A\n",
      "DDIM Sampler:  80%|████████  | 16/20 [00:10<00:02,  1.59it/s]\u001b[A\n",
      "DDIM Sampler:  85%|████████▌ | 17/20 [00:10<00:01,  1.60it/s]\u001b[A\n",
      "DDIM Sampler:  90%|█████████ | 18/20 [00:11<00:01,  1.59it/s]\u001b[A\n",
      "DDIM Sampler:  95%|█████████▌| 19/20 [00:11<00:00,  1.60it/s]\u001b[A\n",
      "DDIM Sampler: 100%|██████████| 20/20 [00:12<00:00,  1.60it/s]\u001b[A\n",
      "Global seed set to 31808\n"
     ]
    },
    {
     "name": "stdout",
     "output_type": "stream",
     "text": [
      "Data shape for DDIM sampling is (2, 4, 64, 64), eta 0.0\n",
      "Running DDIM Sampling with 20 timesteps\n"
     ]
    },
    {
     "name": "stderr",
     "output_type": "stream",
     "text": [
      "\n",
      "DDIM Sampler:   0%|          | 0/20 [00:00<?, ?it/s]\u001b[A\n",
      "DDIM Sampler:   5%|▌         | 1/20 [00:00<00:11,  1.64it/s]\u001b[A\n",
      "DDIM Sampler:  10%|█         | 2/20 [00:01<00:11,  1.59it/s]\u001b[A\n",
      "DDIM Sampler:  15%|█▌        | 3/20 [00:01<00:10,  1.59it/s]\u001b[A\n",
      "DDIM Sampler:  20%|██        | 4/20 [00:02<00:10,  1.60it/s]\u001b[A\n",
      "DDIM Sampler:  25%|██▌       | 5/20 [00:03<00:09,  1.59it/s]\u001b[A\n",
      "DDIM Sampler:  30%|███       | 6/20 [00:03<00:08,  1.60it/s]\u001b[A\n",
      "DDIM Sampler:  35%|███▌      | 7/20 [00:04<00:08,  1.60it/s]\u001b[A\n",
      "DDIM Sampler:  40%|████      | 8/20 [00:05<00:07,  1.60it/s]\u001b[A\n",
      "DDIM Sampler:  45%|████▌     | 9/20 [00:05<00:06,  1.60it/s]\u001b[A\n",
      "DDIM Sampler:  50%|█████     | 10/20 [00:06<00:06,  1.60it/s]\u001b[A\n",
      "DDIM Sampler:  55%|█████▌    | 11/20 [00:06<00:05,  1.60it/s]\u001b[A\n",
      "DDIM Sampler:  60%|██████    | 12/20 [00:07<00:05,  1.60it/s]\u001b[A\n",
      "DDIM Sampler:  65%|██████▌   | 13/20 [00:08<00:04,  1.60it/s]\u001b[A\n",
      "DDIM Sampler:  70%|███████   | 14/20 [00:08<00:03,  1.60it/s]\u001b[A\n",
      "DDIM Sampler:  75%|███████▌  | 15/20 [00:09<00:03,  1.60it/s]\u001b[A\n",
      "DDIM Sampler:  80%|████████  | 16/20 [00:10<00:02,  1.60it/s]\u001b[A\n",
      "DDIM Sampler:  85%|████████▌ | 17/20 [00:10<00:01,  1.60it/s]\u001b[A\n",
      "DDIM Sampler:  90%|█████████ | 18/20 [00:11<00:01,  1.60it/s]\u001b[A\n",
      "DDIM Sampler:  95%|█████████▌| 19/20 [00:11<00:00,  1.60it/s]\u001b[A\n",
      "DDIM Sampler: 100%|██████████| 20/20 [00:12<00:00,  1.60it/s]\u001b[A\n",
      "Global seed set to 33281\n"
     ]
    },
    {
     "name": "stdout",
     "output_type": "stream",
     "text": [
      "Data shape for DDIM sampling is (2, 4, 64, 64), eta 0.0\n",
      "Running DDIM Sampling with 20 timesteps\n"
     ]
    },
    {
     "name": "stderr",
     "output_type": "stream",
     "text": [
      "\n",
      "DDIM Sampler:   0%|          | 0/20 [00:00<?, ?it/s]\u001b[A\n",
      "DDIM Sampler:   5%|▌         | 1/20 [00:00<00:11,  1.63it/s]\u001b[A\n",
      "DDIM Sampler:  10%|█         | 2/20 [00:01<00:11,  1.59it/s]\u001b[A\n",
      "DDIM Sampler:  15%|█▌        | 3/20 [00:01<00:10,  1.59it/s]\u001b[A\n",
      "DDIM Sampler:  20%|██        | 4/20 [00:02<00:10,  1.60it/s]\u001b[A\n",
      "DDIM Sampler:  25%|██▌       | 5/20 [00:03<00:09,  1.59it/s]\u001b[A\n",
      "DDIM Sampler:  30%|███       | 6/20 [00:03<00:08,  1.60it/s]\u001b[A\n",
      "DDIM Sampler:  35%|███▌      | 7/20 [00:04<00:08,  1.59it/s]\u001b[A\n",
      "DDIM Sampler:  40%|████      | 8/20 [00:05<00:07,  1.60it/s]\u001b[A\n",
      "DDIM Sampler:  45%|████▌     | 9/20 [00:05<00:06,  1.60it/s]\u001b[A\n",
      "DDIM Sampler:  50%|█████     | 10/20 [00:06<00:06,  1.59it/s]\u001b[A\n",
      "DDIM Sampler:  55%|█████▌    | 11/20 [00:06<00:05,  1.60it/s]\u001b[A\n",
      "DDIM Sampler:  60%|██████    | 12/20 [00:07<00:05,  1.60it/s]\u001b[A\n",
      "DDIM Sampler:  65%|██████▌   | 13/20 [00:08<00:04,  1.59it/s]\u001b[A\n",
      "DDIM Sampler:  70%|███████   | 14/20 [00:08<00:03,  1.60it/s]\u001b[A\n",
      "DDIM Sampler:  75%|███████▌  | 15/20 [00:09<00:03,  1.60it/s]\u001b[A\n",
      "DDIM Sampler:  80%|████████  | 16/20 [00:10<00:02,  1.60it/s]\u001b[A\n",
      "DDIM Sampler:  85%|████████▌ | 17/20 [00:10<00:01,  1.60it/s]\u001b[A\n",
      "DDIM Sampler:  90%|█████████ | 18/20 [00:11<00:01,  1.60it/s]\u001b[A\n",
      "DDIM Sampler:  95%|█████████▌| 19/20 [00:11<00:00,  1.60it/s]\u001b[A\n",
      "DDIM Sampler: 100%|██████████| 20/20 [00:12<00:00,  1.60it/s]\u001b[A\n",
      "Global seed set to 9181\n"
     ]
    },
    {
     "name": "stdout",
     "output_type": "stream",
     "text": [
      "Data shape for DDIM sampling is (2, 4, 64, 64), eta 0.0\n",
      "Running DDIM Sampling with 20 timesteps\n"
     ]
    },
    {
     "name": "stderr",
     "output_type": "stream",
     "text": [
      "\n",
      "DDIM Sampler:   0%|          | 0/20 [00:00<?, ?it/s]\u001b[A\n",
      "DDIM Sampler:   5%|▌         | 1/20 [00:00<00:11,  1.63it/s]\u001b[A\n",
      "DDIM Sampler:  10%|█         | 2/20 [00:01<00:11,  1.59it/s]\u001b[A\n",
      "DDIM Sampler:  15%|█▌        | 3/20 [00:01<00:10,  1.59it/s]\u001b[A\n",
      "DDIM Sampler:  20%|██        | 4/20 [00:02<00:10,  1.59it/s]\u001b[A\n",
      "DDIM Sampler:  25%|██▌       | 5/20 [00:03<00:09,  1.59it/s]\u001b[A\n",
      "DDIM Sampler:  30%|███       | 6/20 [00:03<00:08,  1.59it/s]\u001b[A\n",
      "DDIM Sampler:  35%|███▌      | 7/20 [00:04<00:08,  1.59it/s]\u001b[A\n",
      "DDIM Sampler:  40%|████      | 8/20 [00:05<00:07,  1.59it/s]\u001b[A\n",
      "DDIM Sampler:  45%|████▌     | 9/20 [00:05<00:06,  1.60it/s]\u001b[A\n",
      "DDIM Sampler:  50%|█████     | 10/20 [00:06<00:06,  1.59it/s]\u001b[A\n",
      "DDIM Sampler:  55%|█████▌    | 11/20 [00:06<00:05,  1.60it/s]\u001b[A\n",
      "DDIM Sampler:  60%|██████    | 12/20 [00:07<00:05,  1.59it/s]\u001b[A\n",
      "DDIM Sampler:  65%|██████▌   | 13/20 [00:08<00:04,  1.59it/s]\u001b[A\n",
      "DDIM Sampler:  70%|███████   | 14/20 [00:08<00:03,  1.60it/s]\u001b[A\n",
      "DDIM Sampler:  75%|███████▌  | 15/20 [00:09<00:03,  1.60it/s]\u001b[A\n",
      "DDIM Sampler:  80%|████████  | 16/20 [00:10<00:02,  1.60it/s]\u001b[A\n",
      "DDIM Sampler:  85%|████████▌ | 17/20 [00:10<00:01,  1.60it/s]\u001b[A\n",
      "DDIM Sampler:  90%|█████████ | 18/20 [00:11<00:01,  1.60it/s]\u001b[A\n",
      "DDIM Sampler:  95%|█████████▌| 19/20 [00:11<00:00,  1.60it/s]\u001b[A\n",
      "DDIM Sampler: 100%|██████████| 20/20 [00:12<00:00,  1.59it/s]\u001b[A\n",
      "Global seed set to 64188\n"
     ]
    },
    {
     "name": "stdout",
     "output_type": "stream",
     "text": [
      "Data shape for DDIM sampling is (2, 4, 64, 64), eta 0.0\n",
      "Running DDIM Sampling with 20 timesteps\n"
     ]
    },
    {
     "name": "stderr",
     "output_type": "stream",
     "text": [
      "\n",
      "DDIM Sampler:   0%|          | 0/20 [00:00<?, ?it/s]\u001b[A\n",
      "DDIM Sampler:   5%|▌         | 1/20 [00:00<00:11,  1.62it/s]\u001b[A\n",
      "DDIM Sampler:  10%|█         | 2/20 [00:01<00:11,  1.59it/s]\u001b[A\n",
      "DDIM Sampler:  15%|█▌        | 3/20 [00:01<00:10,  1.59it/s]\u001b[A\n",
      "DDIM Sampler:  20%|██        | 4/20 [00:02<00:10,  1.60it/s]\u001b[A\n",
      "DDIM Sampler:  25%|██▌       | 5/20 [00:03<00:09,  1.59it/s]\u001b[A\n",
      "DDIM Sampler:  30%|███       | 6/20 [00:03<00:08,  1.60it/s]\u001b[A\n",
      "DDIM Sampler:  35%|███▌      | 7/20 [00:04<00:08,  1.60it/s]\u001b[A\n",
      "DDIM Sampler:  40%|████      | 8/20 [00:05<00:07,  1.59it/s]\u001b[A\n",
      "DDIM Sampler:  45%|████▌     | 9/20 [00:05<00:06,  1.60it/s]\u001b[A\n",
      "DDIM Sampler:  50%|█████     | 10/20 [00:06<00:06,  1.59it/s]\u001b[A\n",
      "DDIM Sampler:  55%|█████▌    | 11/20 [00:06<00:05,  1.60it/s]\u001b[A\n",
      "DDIM Sampler:  60%|██████    | 12/20 [00:07<00:05,  1.60it/s]\u001b[A\n",
      "DDIM Sampler:  65%|██████▌   | 13/20 [00:08<00:04,  1.59it/s]\u001b[A\n",
      "DDIM Sampler:  70%|███████   | 14/20 [00:08<00:03,  1.59it/s]\u001b[A\n",
      "DDIM Sampler:  75%|███████▌  | 15/20 [00:09<00:03,  1.59it/s]\u001b[A\n",
      "DDIM Sampler:  80%|████████  | 16/20 [00:10<00:02,  1.59it/s]\u001b[A\n",
      "DDIM Sampler:  85%|████████▌ | 17/20 [00:10<00:01,  1.59it/s]\u001b[A\n",
      "DDIM Sampler:  90%|█████████ | 18/20 [00:11<00:01,  1.59it/s]\u001b[A\n",
      "DDIM Sampler:  95%|█████████▌| 19/20 [00:11<00:00,  1.60it/s]\u001b[A\n",
      "DDIM Sampler: 100%|██████████| 20/20 [00:12<00:00,  1.59it/s]\u001b[A\n",
      "Global seed set to 10533\n"
     ]
    },
    {
     "name": "stdout",
     "output_type": "stream",
     "text": [
      "Data shape for DDIM sampling is (2, 4, 64, 64), eta 0.0\n",
      "Running DDIM Sampling with 20 timesteps\n"
     ]
    },
    {
     "name": "stderr",
     "output_type": "stream",
     "text": [
      "\n",
      "DDIM Sampler:   0%|          | 0/20 [00:00<?, ?it/s]\u001b[A\n",
      "DDIM Sampler:   5%|▌         | 1/20 [00:00<00:11,  1.63it/s]\u001b[A\n",
      "DDIM Sampler:  10%|█         | 2/20 [00:01<00:11,  1.59it/s]\u001b[A\n",
      "DDIM Sampler:  15%|█▌        | 3/20 [00:01<00:10,  1.59it/s]\u001b[A\n",
      "DDIM Sampler:  20%|██        | 4/20 [00:02<00:10,  1.60it/s]\u001b[A\n",
      "DDIM Sampler:  25%|██▌       | 5/20 [00:03<00:09,  1.59it/s]\u001b[A\n",
      "DDIM Sampler:  30%|███       | 6/20 [00:03<00:08,  1.60it/s]\u001b[A\n",
      "DDIM Sampler:  35%|███▌      | 7/20 [00:04<00:08,  1.59it/s]\u001b[A\n",
      "DDIM Sampler:  40%|████      | 8/20 [00:05<00:07,  1.59it/s]\u001b[A\n",
      "DDIM Sampler:  45%|████▌     | 9/20 [00:05<00:06,  1.59it/s]\u001b[A\n",
      "DDIM Sampler:  50%|█████     | 10/20 [00:06<00:06,  1.59it/s]\u001b[A\n",
      "DDIM Sampler:  55%|█████▌    | 11/20 [00:06<00:05,  1.60it/s]\u001b[A\n",
      "DDIM Sampler:  60%|██████    | 12/20 [00:07<00:05,  1.60it/s]\u001b[A\n",
      "DDIM Sampler:  65%|██████▌   | 13/20 [00:08<00:04,  1.60it/s]\u001b[A\n",
      "DDIM Sampler:  70%|███████   | 14/20 [00:08<00:03,  1.60it/s]\u001b[A\n",
      "DDIM Sampler:  75%|███████▌  | 15/20 [00:09<00:03,  1.60it/s]\u001b[A\n",
      "DDIM Sampler:  80%|████████  | 16/20 [00:10<00:02,  1.60it/s]\u001b[A\n",
      "DDIM Sampler:  85%|████████▌ | 17/20 [00:10<00:01,  1.60it/s]\u001b[A\n",
      "DDIM Sampler:  90%|█████████ | 18/20 [00:11<00:01,  1.60it/s]\u001b[A\n",
      "DDIM Sampler:  95%|█████████▌| 19/20 [00:11<00:00,  1.60it/s]\u001b[A\n",
      "DDIM Sampler: 100%|██████████| 20/20 [00:12<00:00,  1.60it/s]\u001b[A\n",
      "Global seed set to 31808\n"
     ]
    },
    {
     "name": "stdout",
     "output_type": "stream",
     "text": [
      "Data shape for DDIM sampling is (2, 4, 72, 64), eta 0.0\n",
      "Running DDIM Sampling with 20 timesteps\n"
     ]
    },
    {
     "name": "stderr",
     "output_type": "stream",
     "text": [
      "\n",
      "DDIM Sampler:   0%|          | 0/20 [00:00<?, ?it/s]\u001b[A\n",
      "DDIM Sampler:   5%|▌         | 1/20 [00:00<00:13,  1.36it/s]\u001b[A\n",
      "DDIM Sampler:  10%|█         | 2/20 [00:01<00:13,  1.34it/s]\u001b[A\n",
      "DDIM Sampler:  15%|█▌        | 3/20 [00:02<00:12,  1.33it/s]\u001b[A\n",
      "DDIM Sampler:  20%|██        | 4/20 [00:02<00:11,  1.33it/s]\u001b[A\n",
      "DDIM Sampler:  25%|██▌       | 5/20 [00:03<00:11,  1.34it/s]\u001b[A\n",
      "DDIM Sampler:  30%|███       | 6/20 [00:04<00:10,  1.34it/s]\u001b[A\n",
      "DDIM Sampler:  35%|███▌      | 7/20 [00:05<00:09,  1.34it/s]\u001b[A\n",
      "DDIM Sampler:  40%|████      | 8/20 [00:05<00:08,  1.34it/s]\u001b[A\n",
      "DDIM Sampler:  45%|████▌     | 9/20 [00:06<00:08,  1.34it/s]\u001b[A\n",
      "DDIM Sampler:  50%|█████     | 10/20 [00:07<00:07,  1.34it/s]\u001b[A\n",
      "DDIM Sampler:  55%|█████▌    | 11/20 [00:08<00:06,  1.34it/s]\u001b[A\n",
      "DDIM Sampler:  60%|██████    | 12/20 [00:08<00:05,  1.34it/s]\u001b[A\n",
      "DDIM Sampler:  65%|██████▌   | 13/20 [00:09<00:05,  1.34it/s]\u001b[A\n",
      "DDIM Sampler:  70%|███████   | 14/20 [00:10<00:04,  1.34it/s]\u001b[A\n",
      "DDIM Sampler:  75%|███████▌  | 15/20 [00:11<00:03,  1.34it/s]\u001b[A\n",
      "DDIM Sampler:  80%|████████  | 16/20 [00:11<00:02,  1.34it/s]\u001b[A\n",
      "DDIM Sampler:  85%|████████▌ | 17/20 [00:12<00:02,  1.34it/s]\u001b[A\n",
      "DDIM Sampler:  90%|█████████ | 18/20 [00:13<00:01,  1.34it/s]\u001b[A\n",
      "DDIM Sampler:  95%|█████████▌| 19/20 [00:14<00:00,  1.34it/s]\u001b[A\n",
      "DDIM Sampler: 100%|██████████| 20/20 [00:14<00:00,  1.34it/s]\u001b[A\n",
      "Global seed set to 33281\n"
     ]
    },
    {
     "name": "stdout",
     "output_type": "stream",
     "text": [
      "Data shape for DDIM sampling is (2, 4, 64, 64), eta 0.0\n",
      "Running DDIM Sampling with 20 timesteps\n"
     ]
    },
    {
     "name": "stderr",
     "output_type": "stream",
     "text": [
      "\n",
      "DDIM Sampler:   0%|          | 0/20 [00:00<?, ?it/s]\u001b[A\n",
      "DDIM Sampler:   5%|▌         | 1/20 [00:00<00:11,  1.63it/s]\u001b[A\n",
      "DDIM Sampler:  10%|█         | 2/20 [00:01<00:11,  1.59it/s]\u001b[A\n",
      "DDIM Sampler:  15%|█▌        | 3/20 [00:01<00:10,  1.59it/s]\u001b[A\n",
      "DDIM Sampler:  20%|██        | 4/20 [00:02<00:10,  1.60it/s]\u001b[A\n",
      "DDIM Sampler:  25%|██▌       | 5/20 [00:03<00:09,  1.59it/s]\u001b[A\n",
      "DDIM Sampler:  30%|███       | 6/20 [00:03<00:08,  1.60it/s]\u001b[A\n",
      "DDIM Sampler:  35%|███▌      | 7/20 [00:04<00:08,  1.59it/s]\u001b[A\n",
      "DDIM Sampler:  40%|████      | 8/20 [00:05<00:07,  1.59it/s]\u001b[A\n",
      "DDIM Sampler:  45%|████▌     | 9/20 [00:05<00:06,  1.60it/s]\u001b[A\n",
      "DDIM Sampler:  50%|█████     | 10/20 [00:06<00:06,  1.60it/s]\u001b[A\n",
      "DDIM Sampler:  55%|█████▌    | 11/20 [00:06<00:05,  1.60it/s]\u001b[A\n",
      "DDIM Sampler:  60%|██████    | 12/20 [00:07<00:05,  1.60it/s]\u001b[A\n",
      "DDIM Sampler:  65%|██████▌   | 13/20 [00:08<00:04,  1.60it/s]\u001b[A\n",
      "DDIM Sampler:  70%|███████   | 14/20 [00:08<00:03,  1.60it/s]\u001b[A\n",
      "DDIM Sampler:  75%|███████▌  | 15/20 [00:09<00:03,  1.60it/s]\u001b[A\n",
      "DDIM Sampler:  80%|████████  | 16/20 [00:10<00:02,  1.60it/s]\u001b[A\n",
      "DDIM Sampler:  85%|████████▌ | 17/20 [00:10<00:01,  1.60it/s]\u001b[A\n",
      "DDIM Sampler:  90%|█████████ | 18/20 [00:11<00:01,  1.60it/s]\u001b[A\n",
      "DDIM Sampler:  95%|█████████▌| 19/20 [00:11<00:00,  1.59it/s]\u001b[A\n",
      "DDIM Sampler: 100%|██████████| 20/20 [00:12<00:00,  1.60it/s]\u001b[A\n",
      "Global seed set to 9181\n"
     ]
    },
    {
     "name": "stdout",
     "output_type": "stream",
     "text": [
      "Data shape for DDIM sampling is (2, 4, 64, 96), eta 0.0\n",
      "Running DDIM Sampling with 20 timesteps\n"
     ]
    },
    {
     "name": "stderr",
     "output_type": "stream",
     "text": [
      "\n",
      "DDIM Sampler:   0%|          | 0/20 [00:00<?, ?it/s]\u001b[A\n",
      "DDIM Sampler:   5%|▌         | 1/20 [00:01<00:22,  1.17s/it]\u001b[A\n",
      "DDIM Sampler:  10%|█         | 2/20 [00:02<00:20,  1.16s/it]\u001b[A\n",
      "DDIM Sampler:  15%|█▌        | 3/20 [00:03<00:19,  1.16s/it]\u001b[A\n",
      "DDIM Sampler:  20%|██        | 4/20 [00:04<00:18,  1.16s/it]\u001b[A\n",
      "DDIM Sampler:  25%|██▌       | 5/20 [00:05<00:17,  1.16s/it]\u001b[A\n",
      "DDIM Sampler:  30%|███       | 6/20 [00:06<00:16,  1.16s/it]\u001b[A\n",
      "DDIM Sampler:  35%|███▌      | 7/20 [00:08<00:15,  1.16s/it]\u001b[A\n",
      "DDIM Sampler:  40%|████      | 8/20 [00:09<00:13,  1.16s/it]\u001b[A\n",
      "DDIM Sampler:  45%|████▌     | 9/20 [00:10<00:12,  1.16s/it]\u001b[A\n",
      "DDIM Sampler:  50%|█████     | 10/20 [00:11<00:11,  1.16s/it]\u001b[A\n",
      "DDIM Sampler:  55%|█████▌    | 11/20 [00:12<00:10,  1.16s/it]\u001b[A\n",
      "DDIM Sampler:  60%|██████    | 12/20 [00:13<00:09,  1.16s/it]\u001b[A\n",
      "DDIM Sampler:  65%|██████▌   | 13/20 [00:15<00:08,  1.16s/it]\u001b[A\n",
      "DDIM Sampler:  70%|███████   | 14/20 [00:16<00:06,  1.16s/it]\u001b[A\n",
      "DDIM Sampler:  75%|███████▌  | 15/20 [00:17<00:05,  1.16s/it]\u001b[A\n",
      "DDIM Sampler:  80%|████████  | 16/20 [00:18<00:04,  1.16s/it]\u001b[A\n",
      "DDIM Sampler:  85%|████████▌ | 17/20 [00:19<00:03,  1.16s/it]\u001b[A\n",
      "DDIM Sampler:  90%|█████████ | 18/20 [00:20<00:02,  1.16s/it]\u001b[A\n",
      "DDIM Sampler:  95%|█████████▌| 19/20 [00:22<00:01,  1.16s/it]\u001b[A\n",
      "DDIM Sampler: 100%|██████████| 20/20 [00:23<00:00,  1.16s/it]\u001b[A\n",
      "Global seed set to 64188\n"
     ]
    },
    {
     "name": "stdout",
     "output_type": "stream",
     "text": [
      "Data shape for DDIM sampling is (2, 4, 64, 64), eta 0.0\n",
      "Running DDIM Sampling with 20 timesteps\n"
     ]
    },
    {
     "name": "stderr",
     "output_type": "stream",
     "text": [
      "\n",
      "DDIM Sampler:   0%|          | 0/20 [00:00<?, ?it/s]\u001b[A\n",
      "DDIM Sampler:   5%|▌         | 1/20 [00:00<00:11,  1.63it/s]\u001b[A\n",
      "DDIM Sampler:  10%|█         | 2/20 [00:01<00:11,  1.59it/s]\u001b[A\n",
      "DDIM Sampler:  15%|█▌        | 3/20 [00:01<00:10,  1.59it/s]\u001b[A\n",
      "DDIM Sampler:  20%|██        | 4/20 [00:02<00:10,  1.60it/s]\u001b[A\n",
      "DDIM Sampler:  25%|██▌       | 5/20 [00:03<00:09,  1.59it/s]\u001b[A\n",
      "DDIM Sampler:  30%|███       | 6/20 [00:03<00:08,  1.60it/s]\u001b[A\n",
      "DDIM Sampler:  35%|███▌      | 7/20 [00:04<00:08,  1.59it/s]\u001b[A\n",
      "DDIM Sampler:  40%|████      | 8/20 [00:05<00:07,  1.59it/s]\u001b[A\n",
      "DDIM Sampler:  45%|████▌     | 9/20 [00:05<00:06,  1.60it/s]\u001b[A\n",
      "DDIM Sampler:  50%|█████     | 10/20 [00:06<00:06,  1.59it/s]\u001b[A\n",
      "DDIM Sampler:  55%|█████▌    | 11/20 [00:06<00:05,  1.59it/s]\u001b[A\n",
      "DDIM Sampler:  60%|██████    | 12/20 [00:07<00:05,  1.60it/s]\u001b[A\n",
      "DDIM Sampler:  65%|██████▌   | 13/20 [00:08<00:04,  1.59it/s]\u001b[A\n",
      "DDIM Sampler:  70%|███████   | 14/20 [00:08<00:03,  1.60it/s]\u001b[A\n",
      "DDIM Sampler:  75%|███████▌  | 15/20 [00:09<00:03,  1.60it/s]\u001b[A\n",
      "DDIM Sampler:  80%|████████  | 16/20 [00:10<00:02,  1.59it/s]\u001b[A\n",
      "DDIM Sampler:  85%|████████▌ | 17/20 [00:10<00:01,  1.59it/s]\u001b[A\n",
      "DDIM Sampler:  90%|█████████ | 18/20 [00:11<00:01,  1.59it/s]\u001b[A\n",
      "DDIM Sampler:  95%|█████████▌| 19/20 [00:11<00:00,  1.59it/s]\u001b[A\n",
      "DDIM Sampler: 100%|██████████| 20/20 [00:12<00:00,  1.59it/s]\u001b[A\n",
      "Global seed set to 10533\n"
     ]
    },
    {
     "name": "stdout",
     "output_type": "stream",
     "text": [
      "Data shape for DDIM sampling is (2, 4, 64, 64), eta 0.0\n",
      "Running DDIM Sampling with 20 timesteps\n"
     ]
    },
    {
     "name": "stderr",
     "output_type": "stream",
     "text": [
      "\n",
      "DDIM Sampler:   0%|          | 0/20 [00:00<?, ?it/s]\u001b[A\n",
      "DDIM Sampler:   5%|▌         | 1/20 [00:00<00:11,  1.63it/s]\u001b[A\n",
      "DDIM Sampler:  10%|█         | 2/20 [00:01<00:11,  1.59it/s]\u001b[A\n",
      "DDIM Sampler:  15%|█▌        | 3/20 [00:01<00:10,  1.59it/s]\u001b[A\n",
      "DDIM Sampler:  20%|██        | 4/20 [00:02<00:10,  1.60it/s]\u001b[A\n",
      "DDIM Sampler:  25%|██▌       | 5/20 [00:03<00:09,  1.59it/s]\u001b[A\n",
      "DDIM Sampler:  30%|███       | 6/20 [00:03<00:08,  1.60it/s]\u001b[A\n",
      "DDIM Sampler:  35%|███▌      | 7/20 [00:04<00:08,  1.60it/s]\u001b[A\n",
      "DDIM Sampler:  40%|████      | 8/20 [00:05<00:07,  1.59it/s]\u001b[A\n",
      "DDIM Sampler:  45%|████▌     | 9/20 [00:05<00:06,  1.60it/s]\u001b[A\n",
      "DDIM Sampler:  50%|█████     | 10/20 [00:06<00:06,  1.59it/s]\u001b[A\n",
      "DDIM Sampler:  55%|█████▌    | 11/20 [00:06<00:05,  1.59it/s]\u001b[A\n",
      "DDIM Sampler:  60%|██████    | 12/20 [00:07<00:05,  1.60it/s]\u001b[A\n",
      "DDIM Sampler:  65%|██████▌   | 13/20 [00:08<00:04,  1.60it/s]\u001b[A\n",
      "DDIM Sampler:  70%|███████   | 14/20 [00:08<00:03,  1.60it/s]\u001b[A\n",
      "DDIM Sampler:  75%|███████▌  | 15/20 [00:09<00:03,  1.60it/s]\u001b[A\n",
      "DDIM Sampler:  80%|████████  | 16/20 [00:10<00:02,  1.60it/s]\u001b[A\n",
      "DDIM Sampler:  85%|████████▌ | 17/20 [00:10<00:01,  1.60it/s]\u001b[A\n",
      "DDIM Sampler:  90%|█████████ | 18/20 [00:11<00:01,  1.60it/s]\u001b[A\n",
      "DDIM Sampler:  95%|█████████▌| 19/20 [00:11<00:00,  1.60it/s]\u001b[A\n",
      "DDIM Sampler: 100%|██████████| 20/20 [00:12<00:00,  1.60it/s]\u001b[A\n",
      "Global seed set to 31808\n"
     ]
    },
    {
     "name": "stdout",
     "output_type": "stream",
     "text": [
      "Data shape for DDIM sampling is (2, 4, 64, 64), eta 0.0\n",
      "Running DDIM Sampling with 20 timesteps\n"
     ]
    },
    {
     "name": "stderr",
     "output_type": "stream",
     "text": [
      "\n",
      "DDIM Sampler:   0%|          | 0/20 [00:00<?, ?it/s]\u001b[A\n",
      "DDIM Sampler:   5%|▌         | 1/20 [00:00<00:11,  1.63it/s]\u001b[A\n",
      "DDIM Sampler:  10%|█         | 2/20 [00:01<00:11,  1.59it/s]\u001b[A\n",
      "DDIM Sampler:  15%|█▌        | 3/20 [00:01<00:10,  1.59it/s]\u001b[A\n",
      "DDIM Sampler:  20%|██        | 4/20 [00:02<00:10,  1.60it/s]\u001b[A\n",
      "DDIM Sampler:  25%|██▌       | 5/20 [00:03<00:09,  1.59it/s]\u001b[A\n",
      "DDIM Sampler:  30%|███       | 6/20 [00:03<00:08,  1.59it/s]\u001b[A\n",
      "DDIM Sampler:  35%|███▌      | 7/20 [00:04<00:08,  1.59it/s]\u001b[A\n",
      "DDIM Sampler:  40%|████      | 8/20 [00:05<00:07,  1.59it/s]\u001b[A\n",
      "DDIM Sampler:  45%|████▌     | 9/20 [00:05<00:06,  1.60it/s]\u001b[A\n",
      "DDIM Sampler:  50%|█████     | 10/20 [00:06<00:06,  1.59it/s]\u001b[A\n",
      "DDIM Sampler:  55%|█████▌    | 11/20 [00:06<00:05,  1.60it/s]\u001b[A\n",
      "DDIM Sampler:  60%|██████    | 12/20 [00:07<00:05,  1.59it/s]\u001b[A\n",
      "DDIM Sampler:  65%|██████▌   | 13/20 [00:08<00:04,  1.59it/s]\u001b[A\n",
      "DDIM Sampler:  70%|███████   | 14/20 [00:08<00:03,  1.59it/s]\u001b[A\n",
      "DDIM Sampler:  75%|███████▌  | 15/20 [00:09<00:03,  1.60it/s]\u001b[A\n",
      "DDIM Sampler:  80%|████████  | 16/20 [00:10<00:02,  1.59it/s]\u001b[A\n",
      "DDIM Sampler:  85%|████████▌ | 17/20 [00:10<00:01,  1.60it/s]\u001b[A\n",
      "DDIM Sampler:  90%|█████████ | 18/20 [00:11<00:01,  1.59it/s]\u001b[A\n",
      "DDIM Sampler:  95%|█████████▌| 19/20 [00:11<00:00,  1.60it/s]\u001b[A\n",
      "DDIM Sampler: 100%|██████████| 20/20 [00:12<00:00,  1.59it/s]\u001b[A\n",
      "Global seed set to 33281\n"
     ]
    },
    {
     "name": "stdout",
     "output_type": "stream",
     "text": [
      "Data shape for DDIM sampling is (2, 4, 64, 64), eta 0.0\n",
      "Running DDIM Sampling with 20 timesteps\n"
     ]
    },
    {
     "name": "stderr",
     "output_type": "stream",
     "text": [
      "\n",
      "DDIM Sampler:   0%|          | 0/20 [00:00<?, ?it/s]\u001b[A\n",
      "DDIM Sampler:   5%|▌         | 1/20 [00:00<00:11,  1.63it/s]\u001b[A\n",
      "DDIM Sampler:  10%|█         | 2/20 [00:01<00:11,  1.59it/s]\u001b[A\n",
      "DDIM Sampler:  15%|█▌        | 3/20 [00:01<00:10,  1.59it/s]\u001b[A\n",
      "DDIM Sampler:  20%|██        | 4/20 [00:02<00:10,  1.59it/s]\u001b[A\n",
      "DDIM Sampler:  25%|██▌       | 5/20 [00:03<00:09,  1.59it/s]\u001b[A\n",
      "DDIM Sampler:  30%|███       | 6/20 [00:03<00:08,  1.60it/s]\u001b[A\n",
      "DDIM Sampler:  35%|███▌      | 7/20 [00:04<00:08,  1.59it/s]\u001b[A\n",
      "DDIM Sampler:  40%|████      | 8/20 [00:05<00:07,  1.59it/s]\u001b[A\n",
      "DDIM Sampler:  45%|████▌     | 9/20 [00:05<00:06,  1.60it/s]\u001b[A\n",
      "DDIM Sampler:  50%|█████     | 10/20 [00:06<00:06,  1.59it/s]\u001b[A\n",
      "DDIM Sampler:  55%|█████▌    | 11/20 [00:06<00:05,  1.60it/s]\u001b[A\n",
      "DDIM Sampler:  60%|██████    | 12/20 [00:07<00:05,  1.60it/s]\u001b[A\n",
      "DDIM Sampler:  65%|██████▌   | 13/20 [00:08<00:04,  1.60it/s]\u001b[A\n",
      "DDIM Sampler:  70%|███████   | 14/20 [00:08<00:03,  1.60it/s]\u001b[A\n",
      "DDIM Sampler:  75%|███████▌  | 15/20 [00:09<00:03,  1.60it/s]\u001b[A\n",
      "DDIM Sampler:  80%|████████  | 16/20 [00:10<00:02,  1.59it/s]\u001b[A\n",
      "DDIM Sampler:  85%|████████▌ | 17/20 [00:10<00:01,  1.60it/s]\u001b[A\n",
      "DDIM Sampler:  90%|█████████ | 18/20 [00:11<00:01,  1.60it/s]\u001b[A\n",
      "DDIM Sampler:  95%|█████████▌| 19/20 [00:11<00:00,  1.60it/s]\u001b[A\n",
      "DDIM Sampler: 100%|██████████| 20/20 [00:12<00:00,  1.60it/s]\u001b[A\n",
      "Global seed set to 9181\n"
     ]
    },
    {
     "name": "stdout",
     "output_type": "stream",
     "text": [
      "Data shape for DDIM sampling is (2, 4, 64, 64), eta 0.0\n",
      "Running DDIM Sampling with 20 timesteps\n"
     ]
    },
    {
     "name": "stderr",
     "output_type": "stream",
     "text": [
      "\n",
      "DDIM Sampler:   0%|          | 0/20 [00:00<?, ?it/s]\u001b[A\n",
      "DDIM Sampler:   5%|▌         | 1/20 [00:00<00:11,  1.62it/s]\u001b[A\n",
      "DDIM Sampler:  10%|█         | 2/20 [00:01<00:11,  1.59it/s]\u001b[A\n",
      "DDIM Sampler:  15%|█▌        | 3/20 [00:01<00:10,  1.59it/s]\u001b[A\n",
      "DDIM Sampler:  20%|██        | 4/20 [00:02<00:10,  1.60it/s]\u001b[A\n",
      "DDIM Sampler:  25%|██▌       | 5/20 [00:03<00:09,  1.59it/s]\u001b[A\n",
      "DDIM Sampler:  30%|███       | 6/20 [00:03<00:08,  1.60it/s]\u001b[A\n",
      "DDIM Sampler:  35%|███▌      | 7/20 [00:04<00:08,  1.59it/s]\u001b[A\n",
      "DDIM Sampler:  40%|████      | 8/20 [00:05<00:07,  1.59it/s]\u001b[A\n",
      "DDIM Sampler:  45%|████▌     | 9/20 [00:05<00:06,  1.60it/s]\u001b[A\n",
      "DDIM Sampler:  50%|█████     | 10/20 [00:06<00:06,  1.60it/s]\u001b[A\n",
      "DDIM Sampler:  55%|█████▌    | 11/20 [00:06<00:05,  1.59it/s]\u001b[A\n",
      "DDIM Sampler:  60%|██████    | 12/20 [00:07<00:05,  1.60it/s]\u001b[A\n",
      "DDIM Sampler:  65%|██████▌   | 13/20 [00:08<00:04,  1.60it/s]\u001b[A\n",
      "DDIM Sampler:  70%|███████   | 14/20 [00:08<00:03,  1.60it/s]\u001b[A\n",
      "DDIM Sampler:  75%|███████▌  | 15/20 [00:09<00:03,  1.60it/s]\u001b[A\n",
      "DDIM Sampler:  80%|████████  | 16/20 [00:10<00:02,  1.60it/s]\u001b[A\n",
      "DDIM Sampler:  85%|████████▌ | 17/20 [00:10<00:01,  1.60it/s]\u001b[A\n",
      "DDIM Sampler:  90%|█████████ | 18/20 [00:11<00:01,  1.60it/s]\u001b[A\n",
      "DDIM Sampler:  95%|█████████▌| 19/20 [00:11<00:00,  1.60it/s]\u001b[A\n",
      "DDIM Sampler: 100%|██████████| 20/20 [00:12<00:00,  1.60it/s]\u001b[A\n",
      "Global seed set to 64188\n"
     ]
    },
    {
     "name": "stdout",
     "output_type": "stream",
     "text": [
      "Data shape for DDIM sampling is (2, 4, 64, 72), eta 0.0\n",
      "Running DDIM Sampling with 20 timesteps\n"
     ]
    },
    {
     "name": "stderr",
     "output_type": "stream",
     "text": [
      "\n",
      "DDIM Sampler:   0%|          | 0/20 [00:00<?, ?it/s]\u001b[A\n",
      "DDIM Sampler:   5%|▌         | 1/20 [00:00<00:13,  1.36it/s]\u001b[A\n",
      "DDIM Sampler:  10%|█         | 2/20 [00:01<00:13,  1.33it/s]\u001b[A\n",
      "DDIM Sampler:  15%|█▌        | 3/20 [00:02<00:12,  1.33it/s]\u001b[A\n",
      "DDIM Sampler:  20%|██        | 4/20 [00:03<00:12,  1.33it/s]\u001b[A\n",
      "DDIM Sampler:  25%|██▌       | 5/20 [00:03<00:11,  1.33it/s]\u001b[A\n",
      "DDIM Sampler:  30%|███       | 6/20 [00:04<00:10,  1.33it/s]\u001b[A\n",
      "DDIM Sampler:  35%|███▌      | 7/20 [00:05<00:09,  1.33it/s]\u001b[A\n",
      "DDIM Sampler:  40%|████      | 8/20 [00:06<00:09,  1.33it/s]\u001b[A\n",
      "DDIM Sampler:  45%|████▌     | 9/20 [00:06<00:08,  1.33it/s]\u001b[A\n",
      "DDIM Sampler:  50%|█████     | 10/20 [00:07<00:07,  1.33it/s]\u001b[A\n",
      "DDIM Sampler:  55%|█████▌    | 11/20 [00:08<00:06,  1.33it/s]\u001b[A\n",
      "DDIM Sampler:  60%|██████    | 12/20 [00:09<00:06,  1.33it/s]\u001b[A\n",
      "DDIM Sampler:  65%|██████▌   | 13/20 [00:09<00:05,  1.33it/s]\u001b[A\n",
      "DDIM Sampler:  70%|███████   | 14/20 [00:10<00:04,  1.33it/s]\u001b[A\n",
      "DDIM Sampler:  75%|███████▌  | 15/20 [00:11<00:03,  1.33it/s]\u001b[A\n",
      "DDIM Sampler:  80%|████████  | 16/20 [00:12<00:03,  1.33it/s]\u001b[A\n",
      "DDIM Sampler:  85%|████████▌ | 17/20 [00:12<00:02,  1.33it/s]\u001b[A\n",
      "DDIM Sampler:  90%|█████████ | 18/20 [00:13<00:01,  1.33it/s]\u001b[A\n",
      "DDIM Sampler:  95%|█████████▌| 19/20 [00:14<00:00,  1.33it/s]\u001b[A\n",
      "DDIM Sampler: 100%|██████████| 20/20 [00:15<00:00,  1.33it/s]\u001b[A\n",
      "Global seed set to 10533\n"
     ]
    },
    {
     "name": "stdout",
     "output_type": "stream",
     "text": [
      "Data shape for DDIM sampling is (2, 4, 64, 112), eta 0.0\n",
      "Running DDIM Sampling with 20 timesteps\n"
     ]
    },
    {
     "name": "stderr",
     "output_type": "stream",
     "text": [
      "\n",
      "DDIM Sampler:   0%|          | 0/20 [00:00<?, ?it/s]\u001b[A\n",
      "DDIM Sampler:   5%|▌         | 1/20 [00:01<00:28,  1.51s/it]\u001b[A\n",
      "DDIM Sampler:  10%|█         | 2/20 [00:03<00:27,  1.51s/it]\u001b[A\n",
      "DDIM Sampler:  15%|█▌        | 3/20 [00:04<00:25,  1.51s/it]\u001b[A\n",
      "DDIM Sampler:  20%|██        | 4/20 [00:06<00:24,  1.51s/it]\u001b[A\n",
      "DDIM Sampler:  25%|██▌       | 5/20 [00:07<00:22,  1.51s/it]\u001b[A\n",
      "DDIM Sampler:  30%|███       | 6/20 [00:09<00:21,  1.51s/it]\u001b[A\n",
      "DDIM Sampler:  35%|███▌      | 7/20 [00:10<00:19,  1.51s/it]\u001b[A\n",
      "DDIM Sampler:  40%|████      | 8/20 [00:12<00:18,  1.51s/it]\u001b[A\n",
      "DDIM Sampler:  45%|████▌     | 9/20 [00:13<00:16,  1.51s/it]\u001b[A\n",
      "DDIM Sampler:  50%|█████     | 10/20 [00:15<00:15,  1.51s/it]\u001b[A\n",
      "DDIM Sampler:  55%|█████▌    | 11/20 [00:16<00:13,  1.51s/it]\u001b[A\n",
      "DDIM Sampler:  60%|██████    | 12/20 [00:18<00:12,  1.51s/it]\u001b[A\n",
      "DDIM Sampler:  65%|██████▌   | 13/20 [00:19<00:10,  1.51s/it]\u001b[A\n",
      "DDIM Sampler:  70%|███████   | 14/20 [00:21<00:09,  1.51s/it]\u001b[A\n",
      "DDIM Sampler:  75%|███████▌  | 15/20 [00:22<00:07,  1.51s/it]\u001b[A\n",
      "DDIM Sampler:  80%|████████  | 16/20 [00:24<00:06,  1.51s/it]\u001b[A\n",
      "DDIM Sampler:  85%|████████▌ | 17/20 [00:25<00:04,  1.51s/it]\u001b[A\n",
      "DDIM Sampler:  90%|█████████ | 18/20 [00:27<00:03,  1.51s/it]\u001b[A\n",
      "DDIM Sampler:  95%|█████████▌| 19/20 [00:28<00:01,  1.51s/it]\u001b[A\n",
      "DDIM Sampler: 100%|██████████| 20/20 [00:30<00:00,  1.51s/it]\u001b[A\n",
      "Global seed set to 31808\n"
     ]
    },
    {
     "name": "stdout",
     "output_type": "stream",
     "text": [
      "Data shape for DDIM sampling is (2, 4, 64, 96), eta 0.0\n",
      "Running DDIM Sampling with 20 timesteps\n"
     ]
    },
    {
     "name": "stderr",
     "output_type": "stream",
     "text": [
      "\n",
      "DDIM Sampler:   0%|          | 0/20 [00:00<?, ?it/s]\u001b[A\n",
      "DDIM Sampler:   5%|▌         | 1/20 [00:01<00:22,  1.18s/it]\u001b[A\n",
      "DDIM Sampler:  10%|█         | 2/20 [00:02<00:21,  1.17s/it]\u001b[A\n",
      "DDIM Sampler:  15%|█▌        | 3/20 [00:03<00:19,  1.16s/it]\u001b[A\n",
      "DDIM Sampler:  20%|██        | 4/20 [00:04<00:18,  1.16s/it]\u001b[A\n",
      "DDIM Sampler:  25%|██▌       | 5/20 [00:05<00:17,  1.16s/it]\u001b[A\n",
      "DDIM Sampler:  30%|███       | 6/20 [00:06<00:16,  1.16s/it]\u001b[A\n",
      "DDIM Sampler:  35%|███▌      | 7/20 [00:08<00:15,  1.16s/it]\u001b[A\n",
      "DDIM Sampler:  40%|████      | 8/20 [00:09<00:13,  1.16s/it]\u001b[A\n",
      "DDIM Sampler:  45%|████▌     | 9/20 [00:10<00:12,  1.16s/it]\u001b[A\n",
      "DDIM Sampler:  50%|█████     | 10/20 [00:11<00:11,  1.16s/it]\u001b[A\n",
      "DDIM Sampler:  55%|█████▌    | 11/20 [00:12<00:10,  1.16s/it]\u001b[A\n",
      "DDIM Sampler:  60%|██████    | 12/20 [00:13<00:09,  1.16s/it]\u001b[A\n",
      "DDIM Sampler:  65%|██████▌   | 13/20 [00:15<00:08,  1.16s/it]\u001b[A\n",
      "DDIM Sampler:  70%|███████   | 14/20 [00:16<00:06,  1.16s/it]\u001b[A\n",
      "DDIM Sampler:  75%|███████▌  | 15/20 [00:17<00:05,  1.16s/it]\u001b[A\n",
      "DDIM Sampler:  80%|████████  | 16/20 [00:18<00:04,  1.16s/it]\u001b[A\n",
      "DDIM Sampler:  85%|████████▌ | 17/20 [00:19<00:03,  1.16s/it]\u001b[A\n",
      "DDIM Sampler:  90%|█████████ | 18/20 [00:20<00:02,  1.16s/it]\u001b[A\n",
      "DDIM Sampler:  95%|█████████▌| 19/20 [00:22<00:01,  1.16s/it]\u001b[A\n",
      "DDIM Sampler: 100%|██████████| 20/20 [00:23<00:00,  1.16s/it]\u001b[A\n",
      "Global seed set to 33281\n"
     ]
    },
    {
     "name": "stdout",
     "output_type": "stream",
     "text": [
      "Data shape for DDIM sampling is (2, 4, 64, 64), eta 0.0\n",
      "Running DDIM Sampling with 20 timesteps\n"
     ]
    },
    {
     "name": "stderr",
     "output_type": "stream",
     "text": [
      "\n",
      "DDIM Sampler:   0%|          | 0/20 [00:00<?, ?it/s]\u001b[A\n",
      "DDIM Sampler:   5%|▌         | 1/20 [00:00<00:11,  1.63it/s]\u001b[A\n",
      "DDIM Sampler:  10%|█         | 2/20 [00:01<00:11,  1.59it/s]\u001b[A\n",
      "DDIM Sampler:  15%|█▌        | 3/20 [00:01<00:10,  1.60it/s]\u001b[A\n",
      "DDIM Sampler:  20%|██        | 4/20 [00:02<00:09,  1.60it/s]\u001b[A\n",
      "DDIM Sampler:  25%|██▌       | 5/20 [00:03<00:09,  1.60it/s]\u001b[A\n",
      "DDIM Sampler:  30%|███       | 6/20 [00:03<00:08,  1.60it/s]\u001b[A\n",
      "DDIM Sampler:  35%|███▌      | 7/20 [00:04<00:08,  1.59it/s]\u001b[A\n",
      "DDIM Sampler:  40%|████      | 8/20 [00:05<00:07,  1.59it/s]\u001b[A\n",
      "DDIM Sampler:  45%|████▌     | 9/20 [00:05<00:06,  1.60it/s]\u001b[A\n",
      "DDIM Sampler:  50%|█████     | 10/20 [00:06<00:06,  1.60it/s]\u001b[A\n",
      "DDIM Sampler:  55%|█████▌    | 11/20 [00:06<00:05,  1.60it/s]\u001b[A\n",
      "DDIM Sampler:  60%|██████    | 12/20 [00:07<00:05,  1.60it/s]\u001b[A\n",
      "DDIM Sampler:  65%|██████▌   | 13/20 [00:08<00:04,  1.59it/s]\u001b[A\n",
      "DDIM Sampler:  70%|███████   | 14/20 [00:08<00:03,  1.60it/s]\u001b[A\n",
      "DDIM Sampler:  75%|███████▌  | 15/20 [00:09<00:03,  1.60it/s]\u001b[A\n",
      "DDIM Sampler:  80%|████████  | 16/20 [00:10<00:02,  1.60it/s]\u001b[A\n",
      "DDIM Sampler:  85%|████████▌ | 17/20 [00:10<00:01,  1.60it/s]\u001b[A\n",
      "DDIM Sampler:  90%|█████████ | 18/20 [00:11<00:01,  1.59it/s]\u001b[A\n",
      "DDIM Sampler:  95%|█████████▌| 19/20 [00:11<00:00,  1.60it/s]\u001b[A\n",
      "DDIM Sampler: 100%|██████████| 20/20 [00:12<00:00,  1.60it/s]\u001b[A\n",
      "Global seed set to 9181\n"
     ]
    },
    {
     "name": "stdout",
     "output_type": "stream",
     "text": [
      "Data shape for DDIM sampling is (2, 4, 64, 64), eta 0.0\n",
      "Running DDIM Sampling with 20 timesteps\n"
     ]
    },
    {
     "name": "stderr",
     "output_type": "stream",
     "text": [
      "\n",
      "DDIM Sampler:   0%|          | 0/20 [00:00<?, ?it/s]\u001b[A\n",
      "DDIM Sampler:   5%|▌         | 1/20 [00:00<00:11,  1.64it/s]\u001b[A\n",
      "DDIM Sampler:  10%|█         | 2/20 [00:01<00:11,  1.59it/s]\u001b[A\n",
      "DDIM Sampler:  15%|█▌        | 3/20 [00:01<00:10,  1.59it/s]\u001b[A\n",
      "DDIM Sampler:  20%|██        | 4/20 [00:02<00:10,  1.60it/s]\u001b[A\n",
      "DDIM Sampler:  25%|██▌       | 5/20 [00:03<00:09,  1.59it/s]\u001b[A\n",
      "DDIM Sampler:  30%|███       | 6/20 [00:03<00:08,  1.60it/s]\u001b[A\n",
      "DDIM Sampler:  35%|███▌      | 7/20 [00:04<00:08,  1.60it/s]\u001b[A\n",
      "DDIM Sampler:  40%|████      | 8/20 [00:05<00:07,  1.59it/s]\u001b[A\n",
      "DDIM Sampler:  45%|████▌     | 9/20 [00:05<00:06,  1.60it/s]\u001b[A\n",
      "DDIM Sampler:  50%|█████     | 10/20 [00:06<00:06,  1.60it/s]\u001b[A\n",
      "DDIM Sampler:  55%|█████▌    | 11/20 [00:06<00:05,  1.60it/s]\u001b[A\n",
      "DDIM Sampler:  60%|██████    | 12/20 [00:07<00:05,  1.60it/s]\u001b[A\n",
      "DDIM Sampler:  65%|██████▌   | 13/20 [00:08<00:04,  1.60it/s]\u001b[A\n",
      "DDIM Sampler:  70%|███████   | 14/20 [00:08<00:03,  1.60it/s]\u001b[A\n",
      "DDIM Sampler:  75%|███████▌  | 15/20 [00:09<00:03,  1.60it/s]\u001b[A\n",
      "DDIM Sampler:  80%|████████  | 16/20 [00:10<00:02,  1.60it/s]\u001b[A\n",
      "DDIM Sampler:  85%|████████▌ | 17/20 [00:10<00:01,  1.60it/s]\u001b[A\n",
      "DDIM Sampler:  90%|█████████ | 18/20 [00:11<00:01,  1.60it/s]\u001b[A\n",
      "DDIM Sampler:  95%|█████████▌| 19/20 [00:11<00:00,  1.60it/s]\u001b[A\n",
      "DDIM Sampler: 100%|██████████| 20/20 [00:12<00:00,  1.60it/s]\u001b[A\n",
      "Global seed set to 64188\n"
     ]
    },
    {
     "name": "stdout",
     "output_type": "stream",
     "text": [
      "Data shape for DDIM sampling is (2, 4, 64, 64), eta 0.0\n",
      "Running DDIM Sampling with 20 timesteps\n"
     ]
    },
    {
     "name": "stderr",
     "output_type": "stream",
     "text": [
      "\n",
      "DDIM Sampler:   0%|          | 0/20 [00:00<?, ?it/s]\u001b[A\n",
      "DDIM Sampler:   5%|▌         | 1/20 [00:00<00:11,  1.63it/s]\u001b[A\n",
      "DDIM Sampler:  10%|█         | 2/20 [00:01<00:11,  1.60it/s]\u001b[A\n",
      "DDIM Sampler:  15%|█▌        | 3/20 [00:01<00:10,  1.60it/s]\u001b[A\n",
      "DDIM Sampler:  20%|██        | 4/20 [00:02<00:09,  1.60it/s]\u001b[A\n",
      "DDIM Sampler:  25%|██▌       | 5/20 [00:03<00:09,  1.60it/s]\u001b[A\n",
      "DDIM Sampler:  30%|███       | 6/20 [00:03<00:08,  1.60it/s]\u001b[A\n",
      "DDIM Sampler:  35%|███▌      | 7/20 [00:04<00:08,  1.60it/s]\u001b[A\n",
      "DDIM Sampler:  40%|████      | 8/20 [00:05<00:07,  1.60it/s]\u001b[A\n",
      "DDIM Sampler:  45%|████▌     | 9/20 [00:05<00:06,  1.60it/s]\u001b[A\n",
      "DDIM Sampler:  50%|█████     | 10/20 [00:06<00:06,  1.60it/s]\u001b[A\n",
      "DDIM Sampler:  55%|█████▌    | 11/20 [00:06<00:05,  1.60it/s]\u001b[A\n",
      "DDIM Sampler:  60%|██████    | 12/20 [00:07<00:05,  1.60it/s]\u001b[A\n",
      "DDIM Sampler:  65%|██████▌   | 13/20 [00:08<00:04,  1.60it/s]\u001b[A\n",
      "DDIM Sampler:  70%|███████   | 14/20 [00:08<00:03,  1.60it/s]\u001b[A\n",
      "DDIM Sampler:  75%|███████▌  | 15/20 [00:09<00:03,  1.60it/s]\u001b[A\n",
      "DDIM Sampler:  80%|████████  | 16/20 [00:10<00:02,  1.60it/s]\u001b[A\n",
      "DDIM Sampler:  85%|████████▌ | 17/20 [00:10<00:01,  1.60it/s]\u001b[A\n",
      "DDIM Sampler:  90%|█████████ | 18/20 [00:11<00:01,  1.60it/s]\u001b[A\n",
      "DDIM Sampler:  95%|█████████▌| 19/20 [00:11<00:00,  1.60it/s]\u001b[A\n",
      "DDIM Sampler: 100%|██████████| 20/20 [00:12<00:00,  1.60it/s]\u001b[A\n",
      "Global seed set to 10533\n"
     ]
    },
    {
     "name": "stdout",
     "output_type": "stream",
     "text": [
      "Data shape for DDIM sampling is (2, 4, 64, 64), eta 0.0\n",
      "Running DDIM Sampling with 20 timesteps\n"
     ]
    },
    {
     "name": "stderr",
     "output_type": "stream",
     "text": [
      "\n",
      "DDIM Sampler:   0%|          | 0/20 [00:00<?, ?it/s]\u001b[A\n",
      "DDIM Sampler:   5%|▌         | 1/20 [00:00<00:11,  1.63it/s]\u001b[A\n",
      "DDIM Sampler:  10%|█         | 2/20 [00:01<00:11,  1.59it/s]\u001b[A\n",
      "DDIM Sampler:  15%|█▌        | 3/20 [00:01<00:10,  1.59it/s]\u001b[A\n",
      "DDIM Sampler:  20%|██        | 4/20 [00:02<00:10,  1.60it/s]\u001b[A\n",
      "DDIM Sampler:  25%|██▌       | 5/20 [00:03<00:09,  1.60it/s]\u001b[A\n",
      "DDIM Sampler:  30%|███       | 6/20 [00:03<00:08,  1.60it/s]\u001b[A\n",
      "DDIM Sampler:  35%|███▌      | 7/20 [00:04<00:08,  1.59it/s]\u001b[A\n",
      "DDIM Sampler:  40%|████      | 8/20 [00:05<00:07,  1.59it/s]\u001b[A\n",
      "DDIM Sampler:  45%|████▌     | 9/20 [00:05<00:06,  1.60it/s]\u001b[A\n",
      "DDIM Sampler:  50%|█████     | 10/20 [00:06<00:06,  1.59it/s]\u001b[A\n",
      "DDIM Sampler:  55%|█████▌    | 11/20 [00:06<00:05,  1.60it/s]\u001b[A\n",
      "DDIM Sampler:  60%|██████    | 12/20 [00:07<00:05,  1.60it/s]\u001b[A\n",
      "DDIM Sampler:  65%|██████▌   | 13/20 [00:08<00:04,  1.59it/s]\u001b[A\n",
      "DDIM Sampler:  70%|███████   | 14/20 [00:08<00:03,  1.60it/s]\u001b[A\n",
      "DDIM Sampler:  75%|███████▌  | 15/20 [00:09<00:03,  1.60it/s]\u001b[A\n",
      "DDIM Sampler:  80%|████████  | 16/20 [00:10<00:02,  1.60it/s]\u001b[A\n",
      "DDIM Sampler:  85%|████████▌ | 17/20 [00:10<00:01,  1.60it/s]\u001b[A\n",
      "DDIM Sampler:  90%|█████████ | 18/20 [00:11<00:01,  1.60it/s]\u001b[A\n",
      "DDIM Sampler:  95%|█████████▌| 19/20 [00:11<00:00,  1.60it/s]\u001b[A\n",
      "DDIM Sampler: 100%|██████████| 20/20 [00:12<00:00,  1.60it/s]\u001b[A\n",
      "Global seed set to 31808\n"
     ]
    },
    {
     "name": "stdout",
     "output_type": "stream",
     "text": [
      "Data shape for DDIM sampling is (2, 4, 64, 64), eta 0.0\n",
      "Running DDIM Sampling with 20 timesteps\n"
     ]
    },
    {
     "name": "stderr",
     "output_type": "stream",
     "text": [
      "\n",
      "DDIM Sampler:   0%|          | 0/20 [00:00<?, ?it/s]\u001b[A\n",
      "DDIM Sampler:   5%|▌         | 1/20 [00:00<00:11,  1.63it/s]\u001b[A\n",
      "DDIM Sampler:  10%|█         | 2/20 [00:01<00:11,  1.59it/s]\u001b[A\n",
      "DDIM Sampler:  15%|█▌        | 3/20 [00:01<00:10,  1.59it/s]\u001b[A\n",
      "DDIM Sampler:  20%|██        | 4/20 [00:02<00:10,  1.60it/s]\u001b[A\n",
      "DDIM Sampler:  25%|██▌       | 5/20 [00:03<00:09,  1.59it/s]\u001b[A\n",
      "DDIM Sampler:  30%|███       | 6/20 [00:03<00:08,  1.60it/s]\u001b[A\n",
      "DDIM Sampler:  35%|███▌      | 7/20 [00:04<00:08,  1.59it/s]\u001b[A\n",
      "DDIM Sampler:  40%|████      | 8/20 [00:05<00:07,  1.59it/s]\u001b[A\n",
      "DDIM Sampler:  45%|████▌     | 9/20 [00:05<00:06,  1.60it/s]\u001b[A\n",
      "DDIM Sampler:  50%|█████     | 10/20 [00:06<00:06,  1.59it/s]\u001b[A\n",
      "DDIM Sampler:  55%|█████▌    | 11/20 [00:06<00:05,  1.59it/s]\u001b[A\n",
      "DDIM Sampler:  60%|██████    | 12/20 [00:07<00:05,  1.60it/s]\u001b[A\n",
      "DDIM Sampler:  65%|██████▌   | 13/20 [00:08<00:04,  1.59it/s]\u001b[A\n",
      "DDIM Sampler:  70%|███████   | 14/20 [00:08<00:03,  1.60it/s]\u001b[A\n",
      "DDIM Sampler:  75%|███████▌  | 15/20 [00:09<00:03,  1.60it/s]\u001b[A\n",
      "DDIM Sampler:  80%|████████  | 16/20 [00:10<00:02,  1.59it/s]\u001b[A\n",
      "DDIM Sampler:  85%|████████▌ | 17/20 [00:10<00:01,  1.60it/s]\u001b[A\n",
      "DDIM Sampler:  90%|█████████ | 18/20 [00:11<00:01,  1.59it/s]\u001b[A\n",
      "DDIM Sampler:  95%|█████████▌| 19/20 [00:11<00:00,  1.59it/s]\u001b[A\n",
      "DDIM Sampler: 100%|██████████| 20/20 [00:12<00:00,  1.59it/s]\u001b[A\n",
      "Global seed set to 33281\n"
     ]
    },
    {
     "name": "stdout",
     "output_type": "stream",
     "text": [
      "Data shape for DDIM sampling is (2, 4, 64, 64), eta 0.0\n",
      "Running DDIM Sampling with 20 timesteps\n"
     ]
    },
    {
     "name": "stderr",
     "output_type": "stream",
     "text": [
      "\n",
      "DDIM Sampler:   0%|          | 0/20 [00:00<?, ?it/s]\u001b[A\n",
      "DDIM Sampler:   5%|▌         | 1/20 [00:00<00:11,  1.63it/s]\u001b[A\n",
      "DDIM Sampler:  10%|█         | 2/20 [00:01<00:11,  1.59it/s]\u001b[A\n",
      "DDIM Sampler:  15%|█▌        | 3/20 [00:01<00:10,  1.59it/s]\u001b[A\n",
      "DDIM Sampler:  20%|██        | 4/20 [00:02<00:10,  1.60it/s]\u001b[A\n",
      "DDIM Sampler:  25%|██▌       | 5/20 [00:03<00:09,  1.59it/s]\u001b[A\n",
      "DDIM Sampler:  30%|███       | 6/20 [00:03<00:08,  1.59it/s]\u001b[A\n",
      "DDIM Sampler:  35%|███▌      | 7/20 [00:04<00:08,  1.59it/s]\u001b[A\n",
      "DDIM Sampler:  40%|████      | 8/20 [00:05<00:07,  1.59it/s]\u001b[A\n",
      "DDIM Sampler:  45%|████▌     | 9/20 [00:05<00:06,  1.60it/s]\u001b[A\n",
      "DDIM Sampler:  50%|█████     | 10/20 [00:06<00:06,  1.59it/s]\u001b[A\n",
      "DDIM Sampler:  55%|█████▌    | 11/20 [00:06<00:05,  1.60it/s]\u001b[A\n",
      "DDIM Sampler:  60%|██████    | 12/20 [00:07<00:05,  1.60it/s]\u001b[A\n",
      "DDIM Sampler:  65%|██████▌   | 13/20 [00:08<00:04,  1.60it/s]\u001b[A\n",
      "DDIM Sampler:  70%|███████   | 14/20 [00:08<00:03,  1.60it/s]\u001b[A\n",
      "DDIM Sampler:  75%|███████▌  | 15/20 [00:09<00:03,  1.60it/s]\u001b[A\n",
      "DDIM Sampler:  80%|████████  | 16/20 [00:10<00:02,  1.60it/s]\u001b[A\n",
      "DDIM Sampler:  85%|████████▌ | 17/20 [00:10<00:01,  1.60it/s]\u001b[A\n",
      "DDIM Sampler:  90%|█████████ | 18/20 [00:11<00:01,  1.60it/s]\u001b[A\n",
      "DDIM Sampler:  95%|█████████▌| 19/20 [00:11<00:00,  1.60it/s]\u001b[A\n",
      "DDIM Sampler: 100%|██████████| 20/20 [00:12<00:00,  1.60it/s]\u001b[A\n",
      "Global seed set to 9181\n"
     ]
    },
    {
     "name": "stdout",
     "output_type": "stream",
     "text": [
      "Data shape for DDIM sampling is (2, 4, 64, 64), eta 0.0\n",
      "Running DDIM Sampling with 20 timesteps\n"
     ]
    },
    {
     "name": "stderr",
     "output_type": "stream",
     "text": [
      "\n",
      "DDIM Sampler:   0%|          | 0/20 [00:00<?, ?it/s]\u001b[A\n",
      "DDIM Sampler:   5%|▌         | 1/20 [00:00<00:11,  1.63it/s]\u001b[A\n",
      "DDIM Sampler:  10%|█         | 2/20 [00:01<00:11,  1.59it/s]\u001b[A\n",
      "DDIM Sampler:  15%|█▌        | 3/20 [00:01<00:10,  1.59it/s]\u001b[A\n",
      "DDIM Sampler:  20%|██        | 4/20 [00:02<00:10,  1.60it/s]\u001b[A\n",
      "DDIM Sampler:  25%|██▌       | 5/20 [00:03<00:09,  1.59it/s]\u001b[A\n",
      "DDIM Sampler:  30%|███       | 6/20 [00:03<00:08,  1.60it/s]\u001b[A\n",
      "DDIM Sampler:  35%|███▌      | 7/20 [00:04<00:08,  1.60it/s]\u001b[A\n",
      "DDIM Sampler:  40%|████      | 8/20 [00:05<00:07,  1.60it/s]\u001b[A\n",
      "DDIM Sampler:  45%|████▌     | 9/20 [00:05<00:06,  1.60it/s]\u001b[A\n",
      "DDIM Sampler:  50%|█████     | 10/20 [00:06<00:06,  1.60it/s]\u001b[A\n",
      "DDIM Sampler:  55%|█████▌    | 11/20 [00:06<00:05,  1.60it/s]\u001b[A\n",
      "DDIM Sampler:  60%|██████    | 12/20 [00:07<00:05,  1.60it/s]\u001b[A\n",
      "DDIM Sampler:  65%|██████▌   | 13/20 [00:08<00:04,  1.59it/s]\u001b[A\n",
      "DDIM Sampler:  70%|███████   | 14/20 [00:08<00:03,  1.60it/s]\u001b[A\n",
      "DDIM Sampler:  75%|███████▌  | 15/20 [00:09<00:03,  1.60it/s]\u001b[A\n",
      "DDIM Sampler:  80%|████████  | 16/20 [00:10<00:02,  1.59it/s]\u001b[A\n",
      "DDIM Sampler:  85%|████████▌ | 17/20 [00:10<00:01,  1.60it/s]\u001b[A\n",
      "DDIM Sampler:  90%|█████████ | 18/20 [00:11<00:01,  1.60it/s]\u001b[A\n",
      "DDIM Sampler:  95%|█████████▌| 19/20 [00:11<00:00,  1.60it/s]\u001b[A\n",
      "DDIM Sampler: 100%|██████████| 20/20 [00:12<00:00,  1.60it/s]\u001b[A\n",
      "Global seed set to 64188\n"
     ]
    },
    {
     "name": "stdout",
     "output_type": "stream",
     "text": [
      "Data shape for DDIM sampling is (2, 4, 72, 64), eta 0.0\n",
      "Running DDIM Sampling with 20 timesteps\n"
     ]
    },
    {
     "name": "stderr",
     "output_type": "stream",
     "text": [
      "\n",
      "DDIM Sampler:   0%|          | 0/20 [00:00<?, ?it/s]\u001b[A\n",
      "DDIM Sampler:   5%|▌         | 1/20 [00:00<00:13,  1.37it/s]\u001b[A\n",
      "DDIM Sampler:  10%|█         | 2/20 [00:01<00:13,  1.34it/s]\u001b[A\n",
      "DDIM Sampler:  15%|█▌        | 3/20 [00:02<00:12,  1.34it/s]\u001b[A\n",
      "DDIM Sampler:  20%|██        | 4/20 [00:02<00:11,  1.34it/s]\u001b[A\n",
      "DDIM Sampler:  25%|██▌       | 5/20 [00:03<00:11,  1.34it/s]\u001b[A\n",
      "DDIM Sampler:  30%|███       | 6/20 [00:04<00:10,  1.34it/s]\u001b[A\n",
      "DDIM Sampler:  35%|███▌      | 7/20 [00:05<00:09,  1.34it/s]\u001b[A\n",
      "DDIM Sampler:  40%|████      | 8/20 [00:05<00:08,  1.34it/s]\u001b[A\n",
      "DDIM Sampler:  45%|████▌     | 9/20 [00:06<00:08,  1.34it/s]\u001b[A\n",
      "DDIM Sampler:  50%|█████     | 10/20 [00:07<00:07,  1.34it/s]\u001b[A\n",
      "DDIM Sampler:  55%|█████▌    | 11/20 [00:08<00:06,  1.34it/s]\u001b[A\n",
      "DDIM Sampler:  60%|██████    | 12/20 [00:08<00:05,  1.34it/s]\u001b[A\n",
      "DDIM Sampler:  65%|██████▌   | 13/20 [00:09<00:05,  1.34it/s]\u001b[A\n",
      "DDIM Sampler:  70%|███████   | 14/20 [00:10<00:04,  1.34it/s]\u001b[A\n",
      "DDIM Sampler:  75%|███████▌  | 15/20 [00:11<00:03,  1.34it/s]\u001b[A\n",
      "DDIM Sampler:  80%|████████  | 16/20 [00:11<00:02,  1.34it/s]\u001b[A\n",
      "DDIM Sampler:  85%|████████▌ | 17/20 [00:12<00:02,  1.34it/s]\u001b[A\n",
      "DDIM Sampler:  90%|█████████ | 18/20 [00:13<00:01,  1.33it/s]\u001b[A\n",
      "DDIM Sampler:  95%|█████████▌| 19/20 [00:14<00:00,  1.34it/s]\u001b[A\n",
      "DDIM Sampler: 100%|██████████| 20/20 [00:14<00:00,  1.34it/s]\u001b[A\n",
      "Global seed set to 10533\n"
     ]
    },
    {
     "name": "stdout",
     "output_type": "stream",
     "text": [
      "Data shape for DDIM sampling is (2, 4, 64, 64), eta 0.0\n",
      "Running DDIM Sampling with 20 timesteps\n"
     ]
    },
    {
     "name": "stderr",
     "output_type": "stream",
     "text": [
      "\n",
      "DDIM Sampler:   0%|          | 0/20 [00:00<?, ?it/s]\u001b[A\n",
      "DDIM Sampler:   5%|▌         | 1/20 [00:00<00:11,  1.63it/s]\u001b[A\n",
      "DDIM Sampler:  10%|█         | 2/20 [00:01<00:11,  1.59it/s]\u001b[A\n",
      "DDIM Sampler:  15%|█▌        | 3/20 [00:01<00:10,  1.59it/s]\u001b[A\n",
      "DDIM Sampler:  20%|██        | 4/20 [00:02<00:10,  1.60it/s]\u001b[A\n",
      "DDIM Sampler:  25%|██▌       | 5/20 [00:03<00:09,  1.59it/s]\u001b[A\n",
      "DDIM Sampler:  30%|███       | 6/20 [00:03<00:08,  1.60it/s]\u001b[A\n",
      "DDIM Sampler:  35%|███▌      | 7/20 [00:04<00:08,  1.60it/s]\u001b[A\n",
      "DDIM Sampler:  40%|████      | 8/20 [00:05<00:07,  1.59it/s]\u001b[A\n",
      "DDIM Sampler:  45%|████▌     | 9/20 [00:05<00:06,  1.60it/s]\u001b[A\n",
      "DDIM Sampler:  50%|█████     | 10/20 [00:06<00:06,  1.60it/s]\u001b[A\n",
      "DDIM Sampler:  55%|█████▌    | 11/20 [00:06<00:05,  1.59it/s]\u001b[A\n",
      "DDIM Sampler:  60%|██████    | 12/20 [00:07<00:05,  1.59it/s]\u001b[A\n",
      "DDIM Sampler:  65%|██████▌   | 13/20 [00:08<00:04,  1.59it/s]\u001b[A\n",
      "DDIM Sampler:  70%|███████   | 14/20 [00:08<00:03,  1.59it/s]\u001b[A\n",
      "DDIM Sampler:  75%|███████▌  | 15/20 [00:09<00:03,  1.60it/s]\u001b[A\n",
      "DDIM Sampler:  80%|████████  | 16/20 [00:10<00:02,  1.59it/s]\u001b[A\n",
      "DDIM Sampler:  85%|████████▌ | 17/20 [00:10<00:01,  1.60it/s]\u001b[A\n",
      "DDIM Sampler:  90%|█████████ | 18/20 [00:11<00:01,  1.60it/s]\u001b[A\n",
      "DDIM Sampler:  95%|█████████▌| 19/20 [00:11<00:00,  1.59it/s]\u001b[A\n",
      "DDIM Sampler: 100%|██████████| 20/20 [00:12<00:00,  1.59it/s]\u001b[A\n",
      "Global seed set to 31808\n"
     ]
    },
    {
     "name": "stdout",
     "output_type": "stream",
     "text": [
      "Data shape for DDIM sampling is (2, 4, 64, 96), eta 0.0\n",
      "Running DDIM Sampling with 20 timesteps\n"
     ]
    },
    {
     "name": "stderr",
     "output_type": "stream",
     "text": [
      "\n",
      "DDIM Sampler:   0%|          | 0/20 [00:00<?, ?it/s]\u001b[A\n",
      "DDIM Sampler:   5%|▌         | 1/20 [00:01<00:22,  1.17s/it]\u001b[A\n",
      "DDIM Sampler:  10%|█         | 2/20 [00:02<00:20,  1.17s/it]\u001b[A\n",
      "DDIM Sampler:  15%|█▌        | 3/20 [00:03<00:19,  1.16s/it]\u001b[A\n",
      "DDIM Sampler:  20%|██        | 4/20 [00:04<00:18,  1.16s/it]\u001b[A\n",
      "DDIM Sampler:  25%|██▌       | 5/20 [00:05<00:17,  1.16s/it]\u001b[A\n",
      "DDIM Sampler:  30%|███       | 6/20 [00:06<00:16,  1.16s/it]\u001b[A\n",
      "DDIM Sampler:  35%|███▌      | 7/20 [00:08<00:15,  1.16s/it]\u001b[A\n",
      "DDIM Sampler:  40%|████      | 8/20 [00:09<00:13,  1.16s/it]\u001b[A\n",
      "DDIM Sampler:  45%|████▌     | 9/20 [00:10<00:12,  1.16s/it]\u001b[A\n",
      "DDIM Sampler:  50%|█████     | 10/20 [00:11<00:11,  1.16s/it]\u001b[A\n",
      "DDIM Sampler:  55%|█████▌    | 11/20 [00:12<00:10,  1.16s/it]\u001b[A\n",
      "DDIM Sampler:  60%|██████    | 12/20 [00:13<00:09,  1.16s/it]\u001b[A\n",
      "DDIM Sampler:  65%|██████▌   | 13/20 [00:15<00:08,  1.16s/it]\u001b[A\n",
      "DDIM Sampler:  70%|███████   | 14/20 [00:16<00:06,  1.16s/it]\u001b[A\n",
      "DDIM Sampler:  75%|███████▌  | 15/20 [00:17<00:05,  1.16s/it]\u001b[A\n",
      "DDIM Sampler:  80%|████████  | 16/20 [00:18<00:04,  1.16s/it]\u001b[A\n",
      "DDIM Sampler:  85%|████████▌ | 17/20 [00:19<00:03,  1.16s/it]\u001b[A\n",
      "DDIM Sampler:  90%|█████████ | 18/20 [00:20<00:02,  1.16s/it]\u001b[A\n",
      "DDIM Sampler:  95%|█████████▌| 19/20 [00:22<00:01,  1.16s/it]\u001b[A\n",
      "DDIM Sampler: 100%|██████████| 20/20 [00:23<00:00,  1.16s/it]\u001b[A\n",
      "Global seed set to 33281\n"
     ]
    },
    {
     "name": "stdout",
     "output_type": "stream",
     "text": [
      "Data shape for DDIM sampling is (2, 4, 64, 64), eta 0.0\n",
      "Running DDIM Sampling with 20 timesteps\n"
     ]
    },
    {
     "name": "stderr",
     "output_type": "stream",
     "text": [
      "\n",
      "DDIM Sampler:   0%|          | 0/20 [00:00<?, ?it/s]\u001b[A\n",
      "DDIM Sampler:   5%|▌         | 1/20 [00:00<00:11,  1.63it/s]\u001b[A\n",
      "DDIM Sampler:  10%|█         | 2/20 [00:01<00:11,  1.59it/s]\u001b[A\n",
      "DDIM Sampler:  15%|█▌        | 3/20 [00:01<00:10,  1.59it/s]\u001b[A\n",
      "DDIM Sampler:  20%|██        | 4/20 [00:02<00:10,  1.60it/s]\u001b[A\n",
      "DDIM Sampler:  25%|██▌       | 5/20 [00:03<00:09,  1.59it/s]\u001b[A\n",
      "DDIM Sampler:  30%|███       | 6/20 [00:03<00:08,  1.60it/s]\u001b[A\n",
      "DDIM Sampler:  35%|███▌      | 7/20 [00:04<00:08,  1.60it/s]\u001b[A\n",
      "DDIM Sampler:  40%|████      | 8/20 [00:05<00:07,  1.59it/s]\u001b[A\n",
      "DDIM Sampler:  45%|████▌     | 9/20 [00:05<00:06,  1.59it/s]\u001b[A\n",
      "DDIM Sampler:  50%|█████     | 10/20 [00:06<00:06,  1.60it/s]\u001b[A\n",
      "DDIM Sampler:  55%|█████▌    | 11/20 [00:06<00:05,  1.59it/s]\u001b[A\n",
      "DDIM Sampler:  60%|██████    | 12/20 [00:07<00:05,  1.59it/s]\u001b[A\n",
      "DDIM Sampler:  65%|██████▌   | 13/20 [00:08<00:04,  1.59it/s]\u001b[A\n",
      "DDIM Sampler:  70%|███████   | 14/20 [00:08<00:03,  1.59it/s]\u001b[A\n",
      "DDIM Sampler:  75%|███████▌  | 15/20 [00:09<00:03,  1.59it/s]\u001b[A\n",
      "DDIM Sampler:  80%|████████  | 16/20 [00:10<00:02,  1.59it/s]\u001b[A\n",
      "DDIM Sampler:  85%|████████▌ | 17/20 [00:10<00:01,  1.59it/s]\u001b[A\n",
      "DDIM Sampler:  90%|█████████ | 18/20 [00:11<00:01,  1.60it/s]\u001b[A\n",
      "DDIM Sampler:  95%|█████████▌| 19/20 [00:11<00:00,  1.59it/s]\u001b[A\n",
      "DDIM Sampler: 100%|██████████| 20/20 [00:12<00:00,  1.59it/s]\u001b[A\n",
      "Global seed set to 9181\n"
     ]
    },
    {
     "name": "stdout",
     "output_type": "stream",
     "text": [
      "Data shape for DDIM sampling is (2, 4, 64, 64), eta 0.0\n",
      "Running DDIM Sampling with 20 timesteps\n"
     ]
    },
    {
     "name": "stderr",
     "output_type": "stream",
     "text": [
      "\n",
      "DDIM Sampler:   0%|          | 0/20 [00:00<?, ?it/s]\u001b[A\n",
      "DDIM Sampler:   5%|▌         | 1/20 [00:00<00:11,  1.63it/s]\u001b[A\n",
      "DDIM Sampler:  10%|█         | 2/20 [00:01<00:11,  1.59it/s]\u001b[A\n",
      "DDIM Sampler:  15%|█▌        | 3/20 [00:01<00:10,  1.59it/s]\u001b[A\n",
      "DDIM Sampler:  20%|██        | 4/20 [00:02<00:10,  1.60it/s]\u001b[A\n",
      "DDIM Sampler:  25%|██▌       | 5/20 [00:03<00:09,  1.59it/s]\u001b[A\n",
      "DDIM Sampler:  30%|███       | 6/20 [00:03<00:08,  1.60it/s]\u001b[A\n",
      "DDIM Sampler:  35%|███▌      | 7/20 [00:04<00:08,  1.60it/s]\u001b[A\n",
      "DDIM Sampler:  40%|████      | 8/20 [00:05<00:07,  1.60it/s]\u001b[A\n",
      "DDIM Sampler:  45%|████▌     | 9/20 [00:05<00:06,  1.60it/s]\u001b[A\n",
      "DDIM Sampler:  50%|█████     | 10/20 [00:06<00:06,  1.60it/s]\u001b[A\n",
      "DDIM Sampler:  55%|█████▌    | 11/20 [00:06<00:05,  1.60it/s]\u001b[A\n",
      "DDIM Sampler:  60%|██████    | 12/20 [00:07<00:05,  1.60it/s]\u001b[A\n",
      "DDIM Sampler:  65%|██████▌   | 13/20 [00:08<00:04,  1.60it/s]\u001b[A\n",
      "DDIM Sampler:  70%|███████   | 14/20 [00:08<00:03,  1.60it/s]\u001b[A\n",
      "DDIM Sampler:  75%|███████▌  | 15/20 [00:09<00:03,  1.60it/s]\u001b[A\n",
      "DDIM Sampler:  80%|████████  | 16/20 [00:10<00:02,  1.60it/s]\u001b[A\n",
      "DDIM Sampler:  85%|████████▌ | 17/20 [00:10<00:01,  1.60it/s]\u001b[A\n",
      "DDIM Sampler:  90%|█████████ | 18/20 [00:11<00:01,  1.60it/s]\u001b[A\n",
      "DDIM Sampler:  95%|█████████▌| 19/20 [00:11<00:00,  1.60it/s]\u001b[A\n",
      "DDIM Sampler: 100%|██████████| 20/20 [00:12<00:00,  1.60it/s]\u001b[A\n",
      "Global seed set to 64188\n"
     ]
    },
    {
     "name": "stdout",
     "output_type": "stream",
     "text": [
      "Data shape for DDIM sampling is (2, 4, 64, 64), eta 0.0\n",
      "Running DDIM Sampling with 20 timesteps\n"
     ]
    },
    {
     "name": "stderr",
     "output_type": "stream",
     "text": [
      "\n",
      "DDIM Sampler:   0%|          | 0/20 [00:00<?, ?it/s]\u001b[A\n",
      "DDIM Sampler:   5%|▌         | 1/20 [00:00<00:11,  1.63it/s]\u001b[A\n",
      "DDIM Sampler:  10%|█         | 2/20 [00:01<00:11,  1.59it/s]\u001b[A\n",
      "DDIM Sampler:  15%|█▌        | 3/20 [00:01<00:10,  1.59it/s]\u001b[A\n",
      "DDIM Sampler:  20%|██        | 4/20 [00:02<00:10,  1.60it/s]\u001b[A\n",
      "DDIM Sampler:  25%|██▌       | 5/20 [00:03<00:09,  1.59it/s]\u001b[A\n",
      "DDIM Sampler:  30%|███       | 6/20 [00:03<00:08,  1.60it/s]\u001b[A\n",
      "DDIM Sampler:  35%|███▌      | 7/20 [00:04<00:08,  1.60it/s]\u001b[A\n",
      "DDIM Sampler:  40%|████      | 8/20 [00:05<00:07,  1.60it/s]\u001b[A\n",
      "DDIM Sampler:  45%|████▌     | 9/20 [00:05<00:06,  1.60it/s]\u001b[A\n",
      "DDIM Sampler:  50%|█████     | 10/20 [00:06<00:06,  1.60it/s]\u001b[A\n",
      "DDIM Sampler:  55%|█████▌    | 11/20 [00:06<00:05,  1.60it/s]\u001b[A\n",
      "DDIM Sampler:  60%|██████    | 12/20 [00:07<00:04,  1.60it/s]\u001b[A\n",
      "DDIM Sampler:  65%|██████▌   | 13/20 [00:08<00:04,  1.60it/s]\u001b[A\n",
      "DDIM Sampler:  70%|███████   | 14/20 [00:08<00:03,  1.60it/s]\u001b[A\n",
      "DDIM Sampler:  75%|███████▌  | 15/20 [00:09<00:03,  1.60it/s]\u001b[A\n",
      "DDIM Sampler:  80%|████████  | 16/20 [00:10<00:02,  1.60it/s]\u001b[A\n",
      "DDIM Sampler:  85%|████████▌ | 17/20 [00:10<00:01,  1.60it/s]\u001b[A\n",
      "DDIM Sampler:  90%|█████████ | 18/20 [00:11<00:01,  1.60it/s]\u001b[A\n",
      "DDIM Sampler:  95%|█████████▌| 19/20 [00:11<00:00,  1.60it/s]\u001b[A\n",
      "DDIM Sampler: 100%|██████████| 20/20 [00:12<00:00,  1.60it/s]\u001b[A\n",
      "Global seed set to 10533\n"
     ]
    },
    {
     "name": "stdout",
     "output_type": "stream",
     "text": [
      "Data shape for DDIM sampling is (2, 4, 64, 64), eta 0.0\n",
      "Running DDIM Sampling with 20 timesteps\n"
     ]
    },
    {
     "name": "stderr",
     "output_type": "stream",
     "text": [
      "\n",
      "DDIM Sampler:   0%|          | 0/20 [00:00<?, ?it/s]\u001b[A\n",
      "DDIM Sampler:   5%|▌         | 1/20 [00:00<00:11,  1.63it/s]\u001b[A\n",
      "DDIM Sampler:  10%|█         | 2/20 [00:01<00:11,  1.60it/s]\u001b[A\n",
      "DDIM Sampler:  15%|█▌        | 3/20 [00:01<00:10,  1.59it/s]\u001b[A\n",
      "DDIM Sampler:  20%|██        | 4/20 [00:02<00:10,  1.60it/s]\u001b[A\n",
      "DDIM Sampler:  25%|██▌       | 5/20 [00:03<00:09,  1.59it/s]\u001b[A\n",
      "DDIM Sampler:  30%|███       | 6/20 [00:03<00:08,  1.60it/s]\u001b[A\n",
      "DDIM Sampler:  35%|███▌      | 7/20 [00:04<00:08,  1.60it/s]\u001b[A\n",
      "DDIM Sampler:  40%|████      | 8/20 [00:05<00:07,  1.59it/s]\u001b[A\n",
      "DDIM Sampler:  45%|████▌     | 9/20 [00:05<00:06,  1.60it/s]\u001b[A\n",
      "DDIM Sampler:  50%|█████     | 10/20 [00:06<00:06,  1.60it/s]\u001b[A\n",
      "DDIM Sampler:  55%|█████▌    | 11/20 [00:06<00:05,  1.60it/s]\u001b[A\n",
      "DDIM Sampler:  60%|██████    | 12/20 [00:07<00:05,  1.60it/s]\u001b[A\n",
      "DDIM Sampler:  65%|██████▌   | 13/20 [00:08<00:04,  1.60it/s]\u001b[A\n",
      "DDIM Sampler:  70%|███████   | 14/20 [00:08<00:03,  1.60it/s]\u001b[A\n",
      "DDIM Sampler:  75%|███████▌  | 15/20 [00:09<00:03,  1.60it/s]\u001b[A\n",
      "DDIM Sampler:  80%|████████  | 16/20 [00:10<00:02,  1.60it/s]\u001b[A\n",
      "DDIM Sampler:  85%|████████▌ | 17/20 [00:10<00:01,  1.60it/s]\u001b[A\n",
      "DDIM Sampler:  90%|█████████ | 18/20 [00:11<00:01,  1.60it/s]\u001b[A\n",
      "DDIM Sampler:  95%|█████████▌| 19/20 [00:11<00:00,  1.60it/s]\u001b[A\n",
      "DDIM Sampler: 100%|██████████| 20/20 [00:12<00:00,  1.60it/s]\u001b[A\n",
      "Global seed set to 31808\n"
     ]
    },
    {
     "name": "stdout",
     "output_type": "stream",
     "text": [
      "Data shape for DDIM sampling is (2, 4, 64, 64), eta 0.0\n",
      "Running DDIM Sampling with 20 timesteps\n"
     ]
    },
    {
     "name": "stderr",
     "output_type": "stream",
     "text": [
      "\n",
      "DDIM Sampler:   0%|          | 0/20 [00:00<?, ?it/s]\u001b[A\n",
      "DDIM Sampler:   5%|▌         | 1/20 [00:00<00:11,  1.63it/s]\u001b[A\n",
      "DDIM Sampler:  10%|█         | 2/20 [00:01<00:11,  1.59it/s]\u001b[A\n",
      "DDIM Sampler:  15%|█▌        | 3/20 [00:01<00:10,  1.59it/s]\u001b[A\n",
      "DDIM Sampler:  20%|██        | 4/20 [00:02<00:10,  1.60it/s]\u001b[A\n",
      "DDIM Sampler:  25%|██▌       | 5/20 [00:03<00:09,  1.59it/s]\u001b[A\n",
      "DDIM Sampler:  30%|███       | 6/20 [00:03<00:08,  1.60it/s]\u001b[A\n",
      "DDIM Sampler:  35%|███▌      | 7/20 [00:04<00:08,  1.59it/s]\u001b[A\n",
      "DDIM Sampler:  40%|████      | 8/20 [00:05<00:07,  1.59it/s]\u001b[A\n",
      "DDIM Sampler:  45%|████▌     | 9/20 [00:05<00:06,  1.60it/s]\u001b[A\n",
      "DDIM Sampler:  50%|█████     | 10/20 [00:06<00:06,  1.59it/s]\u001b[A\n",
      "DDIM Sampler:  55%|█████▌    | 11/20 [00:06<00:05,  1.59it/s]\u001b[A\n",
      "DDIM Sampler:  60%|██████    | 12/20 [00:07<00:05,  1.60it/s]\u001b[A\n",
      "DDIM Sampler:  65%|██████▌   | 13/20 [00:08<00:04,  1.59it/s]\u001b[A\n",
      "DDIM Sampler:  70%|███████   | 14/20 [00:08<00:03,  1.60it/s]\u001b[A\n",
      "DDIM Sampler:  75%|███████▌  | 15/20 [00:09<00:03,  1.60it/s]\u001b[A\n",
      "DDIM Sampler:  80%|████████  | 16/20 [00:10<00:02,  1.59it/s]\u001b[A\n",
      "DDIM Sampler:  85%|████████▌ | 17/20 [00:10<00:01,  1.60it/s]\u001b[A\n",
      "DDIM Sampler:  90%|█████████ | 18/20 [00:11<00:01,  1.60it/s]\u001b[A\n",
      "DDIM Sampler:  95%|█████████▌| 19/20 [00:11<00:00,  1.59it/s]\u001b[A\n",
      "DDIM Sampler: 100%|██████████| 20/20 [00:12<00:00,  1.60it/s]\u001b[A\n",
      "Global seed set to 33281\n"
     ]
    },
    {
     "name": "stdout",
     "output_type": "stream",
     "text": [
      "Data shape for DDIM sampling is (2, 4, 64, 72), eta 0.0\n",
      "Running DDIM Sampling with 20 timesteps\n"
     ]
    },
    {
     "name": "stderr",
     "output_type": "stream",
     "text": [
      "\n",
      "DDIM Sampler:   0%|          | 0/20 [00:00<?, ?it/s]\u001b[A\n",
      "DDIM Sampler:   5%|▌         | 1/20 [00:00<00:14,  1.36it/s]\u001b[A\n",
      "DDIM Sampler:  10%|█         | 2/20 [00:01<00:13,  1.33it/s]\u001b[A\n",
      "DDIM Sampler:  15%|█▌        | 3/20 [00:02<00:12,  1.33it/s]\u001b[A\n",
      "DDIM Sampler:  20%|██        | 4/20 [00:03<00:12,  1.33it/s]\u001b[A\n",
      "DDIM Sampler:  25%|██▌       | 5/20 [00:03<00:11,  1.33it/s]\u001b[A\n",
      "DDIM Sampler:  30%|███       | 6/20 [00:04<00:10,  1.33it/s]\u001b[A\n",
      "DDIM Sampler:  35%|███▌      | 7/20 [00:05<00:09,  1.33it/s]\u001b[A\n",
      "DDIM Sampler:  40%|████      | 8/20 [00:06<00:09,  1.33it/s]\u001b[A\n",
      "DDIM Sampler:  45%|████▌     | 9/20 [00:06<00:08,  1.33it/s]\u001b[A\n",
      "DDIM Sampler:  50%|█████     | 10/20 [00:07<00:07,  1.33it/s]\u001b[A\n",
      "DDIM Sampler:  55%|█████▌    | 11/20 [00:08<00:06,  1.34it/s]\u001b[A\n",
      "DDIM Sampler:  60%|██████    | 12/20 [00:09<00:06,  1.33it/s]\u001b[A\n",
      "DDIM Sampler:  65%|██████▌   | 13/20 [00:09<00:05,  1.33it/s]\u001b[A\n",
      "DDIM Sampler:  70%|███████   | 14/20 [00:10<00:04,  1.33it/s]\u001b[A\n",
      "DDIM Sampler:  75%|███████▌  | 15/20 [00:11<00:03,  1.33it/s]\u001b[A\n",
      "DDIM Sampler:  80%|████████  | 16/20 [00:12<00:03,  1.33it/s]\u001b[A\n",
      "DDIM Sampler:  85%|████████▌ | 17/20 [00:12<00:02,  1.33it/s]\u001b[A\n",
      "DDIM Sampler:  90%|█████████ | 18/20 [00:13<00:01,  1.33it/s]\u001b[A\n",
      "DDIM Sampler:  95%|█████████▌| 19/20 [00:14<00:00,  1.33it/s]\u001b[A\n",
      "DDIM Sampler: 100%|██████████| 20/20 [00:15<00:00,  1.33it/s]\u001b[A\n",
      "Global seed set to 9181\n"
     ]
    },
    {
     "name": "stdout",
     "output_type": "stream",
     "text": [
      "Data shape for DDIM sampling is (2, 4, 64, 112), eta 0.0\n",
      "Running DDIM Sampling with 20 timesteps\n"
     ]
    },
    {
     "name": "stderr",
     "output_type": "stream",
     "text": [
      "\n",
      "DDIM Sampler:   0%|          | 0/20 [00:00<?, ?it/s]\u001b[A\n",
      "DDIM Sampler:   5%|▌         | 1/20 [00:01<00:28,  1.51s/it]\u001b[A\n",
      "DDIM Sampler:  10%|█         | 2/20 [00:03<00:27,  1.51s/it]\u001b[A\n",
      "DDIM Sampler:  15%|█▌        | 3/20 [00:04<00:25,  1.51s/it]\u001b[A\n",
      "DDIM Sampler:  20%|██        | 4/20 [00:06<00:24,  1.51s/it]\u001b[A\n",
      "DDIM Sampler:  25%|██▌       | 5/20 [00:07<00:22,  1.51s/it]\u001b[A\n",
      "DDIM Sampler:  30%|███       | 6/20 [00:09<00:21,  1.51s/it]\u001b[A\n",
      "DDIM Sampler:  35%|███▌      | 7/20 [00:10<00:19,  1.51s/it]\u001b[A\n",
      "DDIM Sampler:  40%|████      | 8/20 [00:12<00:18,  1.51s/it]\u001b[A\n",
      "DDIM Sampler:  45%|████▌     | 9/20 [00:13<00:16,  1.51s/it]\u001b[A\n",
      "DDIM Sampler:  50%|█████     | 10/20 [00:15<00:15,  1.51s/it]\u001b[A\n",
      "DDIM Sampler:  55%|█████▌    | 11/20 [00:16<00:13,  1.51s/it]\u001b[A\n",
      "DDIM Sampler:  60%|██████    | 12/20 [00:18<00:12,  1.51s/it]\u001b[A\n",
      "DDIM Sampler:  65%|██████▌   | 13/20 [00:19<00:10,  1.51s/it]\u001b[A\n",
      "DDIM Sampler:  70%|███████   | 14/20 [00:21<00:09,  1.51s/it]\u001b[A\n",
      "DDIM Sampler:  75%|███████▌  | 15/20 [00:22<00:07,  1.51s/it]\u001b[A\n",
      "DDIM Sampler:  80%|████████  | 16/20 [00:24<00:06,  1.51s/it]\u001b[A\n",
      "DDIM Sampler:  85%|████████▌ | 17/20 [00:25<00:04,  1.51s/it]\u001b[A\n",
      "DDIM Sampler:  90%|█████████ | 18/20 [00:27<00:03,  1.51s/it]\u001b[A\n",
      "DDIM Sampler:  95%|█████████▌| 19/20 [00:28<00:01,  1.51s/it]\u001b[A\n",
      "DDIM Sampler: 100%|██████████| 20/20 [00:30<00:00,  1.51s/it]\u001b[A\n",
      "Global seed set to 64188\n"
     ]
    },
    {
     "name": "stdout",
     "output_type": "stream",
     "text": [
      "Data shape for DDIM sampling is (2, 4, 64, 96), eta 0.0\n",
      "Running DDIM Sampling with 20 timesteps\n"
     ]
    },
    {
     "name": "stderr",
     "output_type": "stream",
     "text": [
      "\n",
      "DDIM Sampler:   0%|          | 0/20 [00:00<?, ?it/s]\u001b[A\n",
      "DDIM Sampler:   5%|▌         | 1/20 [00:01<00:22,  1.17s/it]\u001b[A\n",
      "DDIM Sampler:  10%|█         | 2/20 [00:02<00:20,  1.16s/it]\u001b[A\n",
      "DDIM Sampler:  15%|█▌        | 3/20 [00:03<00:19,  1.16s/it]\u001b[A\n",
      "DDIM Sampler:  20%|██        | 4/20 [00:04<00:18,  1.16s/it]\u001b[A\n",
      "DDIM Sampler:  25%|██▌       | 5/20 [00:05<00:17,  1.16s/it]\u001b[A\n",
      "DDIM Sampler:  30%|███       | 6/20 [00:06<00:16,  1.16s/it]\u001b[A\n",
      "DDIM Sampler:  35%|███▌      | 7/20 [00:08<00:15,  1.16s/it]\u001b[A\n",
      "DDIM Sampler:  40%|████      | 8/20 [00:09<00:13,  1.16s/it]\u001b[A\n",
      "DDIM Sampler:  45%|████▌     | 9/20 [00:10<00:12,  1.16s/it]\u001b[A\n",
      "DDIM Sampler:  50%|█████     | 10/20 [00:11<00:11,  1.17s/it]\u001b[A\n",
      "DDIM Sampler:  55%|█████▌    | 11/20 [00:12<00:10,  1.17s/it]\u001b[A\n",
      "DDIM Sampler:  60%|██████    | 12/20 [00:13<00:09,  1.16s/it]\u001b[A\n",
      "DDIM Sampler:  65%|██████▌   | 13/20 [00:15<00:08,  1.17s/it]\u001b[A\n",
      "DDIM Sampler:  70%|███████   | 14/20 [00:16<00:06,  1.17s/it]\u001b[A\n",
      "DDIM Sampler:  75%|███████▌  | 15/20 [00:17<00:05,  1.16s/it]\u001b[A\n",
      "DDIM Sampler:  80%|████████  | 16/20 [00:18<00:04,  1.16s/it]\u001b[A\n",
      "DDIM Sampler:  85%|████████▌ | 17/20 [00:19<00:03,  1.16s/it]\u001b[A\n",
      "DDIM Sampler:  90%|█████████ | 18/20 [00:20<00:02,  1.16s/it]\u001b[A\n",
      "DDIM Sampler:  95%|█████████▌| 19/20 [00:22<00:01,  1.17s/it]\u001b[A\n",
      "DDIM Sampler: 100%|██████████| 20/20 [00:23<00:00,  1.16s/it]\u001b[A\n",
      "Global seed set to 10533\n"
     ]
    },
    {
     "name": "stdout",
     "output_type": "stream",
     "text": [
      "Data shape for DDIM sampling is (2, 4, 64, 64), eta 0.0\n",
      "Running DDIM Sampling with 20 timesteps\n"
     ]
    },
    {
     "name": "stderr",
     "output_type": "stream",
     "text": [
      "\n",
      "DDIM Sampler:   0%|          | 0/20 [00:00<?, ?it/s]\u001b[A\n",
      "DDIM Sampler:   5%|▌         | 1/20 [00:00<00:11,  1.63it/s]\u001b[A\n",
      "DDIM Sampler:  10%|█         | 2/20 [00:01<00:11,  1.59it/s]\u001b[A\n",
      "DDIM Sampler:  15%|█▌        | 3/20 [00:01<00:10,  1.59it/s]\u001b[A\n",
      "DDIM Sampler:  20%|██        | 4/20 [00:02<00:10,  1.60it/s]\u001b[A\n",
      "DDIM Sampler:  25%|██▌       | 5/20 [00:03<00:09,  1.59it/s]\u001b[A\n",
      "DDIM Sampler:  30%|███       | 6/20 [00:03<00:08,  1.60it/s]\u001b[A\n",
      "DDIM Sampler:  35%|███▌      | 7/20 [00:04<00:08,  1.60it/s]\u001b[A\n",
      "DDIM Sampler:  40%|████      | 8/20 [00:05<00:07,  1.59it/s]\u001b[A\n",
      "DDIM Sampler:  45%|████▌     | 9/20 [00:05<00:06,  1.60it/s]\u001b[A\n",
      "DDIM Sampler:  50%|█████     | 10/20 [00:06<00:06,  1.59it/s]\u001b[A\n",
      "DDIM Sampler:  55%|█████▌    | 11/20 [00:06<00:05,  1.59it/s]\u001b[A\n",
      "DDIM Sampler:  60%|██████    | 12/20 [00:07<00:05,  1.60it/s]\u001b[A\n",
      "DDIM Sampler:  65%|██████▌   | 13/20 [00:08<00:04,  1.59it/s]\u001b[A\n",
      "DDIM Sampler:  70%|███████   | 14/20 [00:08<00:03,  1.60it/s]\u001b[A\n",
      "DDIM Sampler:  75%|███████▌  | 15/20 [00:09<00:03,  1.60it/s]\u001b[A\n",
      "DDIM Sampler:  80%|████████  | 16/20 [00:10<00:02,  1.59it/s]\u001b[A\n",
      "DDIM Sampler:  85%|████████▌ | 17/20 [00:10<00:01,  1.60it/s]\u001b[A\n",
      "DDIM Sampler:  90%|█████████ | 18/20 [00:11<00:01,  1.60it/s]\u001b[A\n",
      "DDIM Sampler:  95%|█████████▌| 19/20 [00:11<00:00,  1.60it/s]\u001b[A\n",
      "DDIM Sampler: 100%|██████████| 20/20 [00:12<00:00,  1.60it/s]\u001b[A\n",
      "Global seed set to 31808\n"
     ]
    },
    {
     "name": "stdout",
     "output_type": "stream",
     "text": [
      "Data shape for DDIM sampling is (2, 4, 64, 64), eta 0.0\n",
      "Running DDIM Sampling with 20 timesteps\n"
     ]
    },
    {
     "name": "stderr",
     "output_type": "stream",
     "text": [
      "\n",
      "DDIM Sampler:   0%|          | 0/20 [00:00<?, ?it/s]\u001b[A\n",
      "DDIM Sampler:   5%|▌         | 1/20 [00:00<00:11,  1.63it/s]\u001b[A\n",
      "DDIM Sampler:  10%|█         | 2/20 [00:01<00:11,  1.59it/s]\u001b[A\n",
      "DDIM Sampler:  15%|█▌        | 3/20 [00:01<00:10,  1.59it/s]\u001b[A\n",
      "DDIM Sampler:  20%|██        | 4/20 [00:02<00:10,  1.60it/s]\u001b[A\n",
      "DDIM Sampler:  25%|██▌       | 5/20 [00:03<00:09,  1.60it/s]\u001b[A\n",
      "DDIM Sampler:  30%|███       | 6/20 [00:03<00:08,  1.60it/s]\u001b[A\n",
      "DDIM Sampler:  35%|███▌      | 7/20 [00:04<00:08,  1.60it/s]\u001b[A\n",
      "DDIM Sampler:  40%|████      | 8/20 [00:05<00:07,  1.60it/s]\u001b[A\n",
      "DDIM Sampler:  45%|████▌     | 9/20 [00:05<00:06,  1.60it/s]\u001b[A\n",
      "DDIM Sampler:  50%|█████     | 10/20 [00:06<00:06,  1.60it/s]\u001b[A\n",
      "DDIM Sampler:  55%|█████▌    | 11/20 [00:06<00:05,  1.60it/s]\u001b[A\n",
      "DDIM Sampler:  60%|██████    | 12/20 [00:07<00:05,  1.60it/s]\u001b[A\n",
      "DDIM Sampler:  65%|██████▌   | 13/20 [00:08<00:04,  1.60it/s]\u001b[A\n",
      "DDIM Sampler:  70%|███████   | 14/20 [00:08<00:03,  1.60it/s]\u001b[A\n",
      "DDIM Sampler:  75%|███████▌  | 15/20 [00:09<00:03,  1.60it/s]\u001b[A\n",
      "DDIM Sampler:  80%|████████  | 16/20 [00:10<00:02,  1.59it/s]\u001b[A\n",
      "DDIM Sampler:  85%|████████▌ | 17/20 [00:10<00:01,  1.60it/s]\u001b[A\n",
      "DDIM Sampler:  90%|█████████ | 18/20 [00:11<00:01,  1.60it/s]\u001b[A\n",
      "DDIM Sampler:  95%|█████████▌| 19/20 [00:11<00:00,  1.60it/s]\u001b[A\n",
      "DDIM Sampler: 100%|██████████| 20/20 [00:12<00:00,  1.60it/s]\u001b[A\n",
      "Global seed set to 33281\n"
     ]
    },
    {
     "name": "stdout",
     "output_type": "stream",
     "text": [
      "Data shape for DDIM sampling is (2, 4, 64, 64), eta 0.0\n",
      "Running DDIM Sampling with 20 timesteps\n"
     ]
    },
    {
     "name": "stderr",
     "output_type": "stream",
     "text": [
      "\n",
      "DDIM Sampler:   0%|          | 0/20 [00:00<?, ?it/s]\u001b[A\n",
      "DDIM Sampler:   5%|▌         | 1/20 [00:00<00:11,  1.64it/s]\u001b[A\n",
      "DDIM Sampler:  10%|█         | 2/20 [00:01<00:11,  1.59it/s]\u001b[A\n",
      "DDIM Sampler:  15%|█▌        | 3/20 [00:01<00:10,  1.59it/s]\u001b[A\n",
      "DDIM Sampler:  20%|██        | 4/20 [00:02<00:10,  1.60it/s]\u001b[A\n",
      "DDIM Sampler:  25%|██▌       | 5/20 [00:03<00:09,  1.59it/s]\u001b[A\n",
      "DDIM Sampler:  30%|███       | 6/20 [00:03<00:08,  1.60it/s]\u001b[A\n",
      "DDIM Sampler:  35%|███▌      | 7/20 [00:04<00:08,  1.60it/s]\u001b[A\n",
      "DDIM Sampler:  40%|████      | 8/20 [00:05<00:07,  1.60it/s]\u001b[A\n",
      "DDIM Sampler:  45%|████▌     | 9/20 [00:05<00:06,  1.60it/s]\u001b[A\n",
      "DDIM Sampler:  50%|█████     | 10/20 [00:06<00:06,  1.60it/s]\u001b[A\n",
      "DDIM Sampler:  55%|█████▌    | 11/20 [00:06<00:05,  1.60it/s]\u001b[A\n",
      "DDIM Sampler:  60%|██████    | 12/20 [00:07<00:05,  1.60it/s]\u001b[A\n",
      "DDIM Sampler:  65%|██████▌   | 13/20 [00:08<00:04,  1.60it/s]\u001b[A\n",
      "DDIM Sampler:  70%|███████   | 14/20 [00:08<00:03,  1.60it/s]\u001b[A\n",
      "DDIM Sampler:  75%|███████▌  | 15/20 [00:09<00:03,  1.60it/s]\u001b[A\n",
      "DDIM Sampler:  80%|████████  | 16/20 [00:10<00:02,  1.60it/s]\u001b[A\n",
      "DDIM Sampler:  85%|████████▌ | 17/20 [00:10<00:01,  1.60it/s]\u001b[A\n",
      "DDIM Sampler:  90%|█████████ | 18/20 [00:11<00:01,  1.60it/s]\u001b[A\n",
      "DDIM Sampler:  95%|█████████▌| 19/20 [00:11<00:00,  1.60it/s]\u001b[A\n",
      "DDIM Sampler: 100%|██████████| 20/20 [00:12<00:00,  1.60it/s]\u001b[A\n",
      "Global seed set to 9181\n"
     ]
    },
    {
     "name": "stdout",
     "output_type": "stream",
     "text": [
      "Data shape for DDIM sampling is (2, 4, 64, 64), eta 0.0\n",
      "Running DDIM Sampling with 20 timesteps\n"
     ]
    },
    {
     "name": "stderr",
     "output_type": "stream",
     "text": [
      "\n",
      "DDIM Sampler:   0%|          | 0/20 [00:00<?, ?it/s]\u001b[A\n",
      "DDIM Sampler:   5%|▌         | 1/20 [00:00<00:11,  1.63it/s]\u001b[A\n",
      "DDIM Sampler:  10%|█         | 2/20 [00:01<00:11,  1.59it/s]\u001b[A\n",
      "DDIM Sampler:  15%|█▌        | 3/20 [00:01<00:10,  1.60it/s]\u001b[A\n",
      "DDIM Sampler:  20%|██        | 4/20 [00:02<00:10,  1.60it/s]\u001b[A\n",
      "DDIM Sampler:  25%|██▌       | 5/20 [00:03<00:09,  1.59it/s]\u001b[A\n",
      "DDIM Sampler:  30%|███       | 6/20 [00:03<00:08,  1.60it/s]\u001b[A\n",
      "DDIM Sampler:  35%|███▌      | 7/20 [00:04<00:08,  1.60it/s]\u001b[A\n",
      "DDIM Sampler:  40%|████      | 8/20 [00:05<00:07,  1.60it/s]\u001b[A\n",
      "DDIM Sampler:  45%|████▌     | 9/20 [00:05<00:06,  1.60it/s]\u001b[A\n",
      "DDIM Sampler:  50%|█████     | 10/20 [00:06<00:06,  1.60it/s]\u001b[A\n",
      "DDIM Sampler:  55%|█████▌    | 11/20 [00:06<00:05,  1.60it/s]\u001b[A\n",
      "DDIM Sampler:  60%|██████    | 12/20 [00:07<00:05,  1.60it/s]\u001b[A\n",
      "DDIM Sampler:  65%|██████▌   | 13/20 [00:08<00:04,  1.60it/s]\u001b[A\n",
      "DDIM Sampler:  70%|███████   | 14/20 [00:08<00:03,  1.60it/s]\u001b[A\n",
      "DDIM Sampler:  75%|███████▌  | 15/20 [00:09<00:03,  1.59it/s]\u001b[A\n",
      "DDIM Sampler:  80%|████████  | 16/20 [00:10<00:02,  1.60it/s]\u001b[A\n",
      "DDIM Sampler:  85%|████████▌ | 17/20 [00:10<00:01,  1.60it/s]\u001b[A\n",
      "DDIM Sampler:  90%|█████████ | 18/20 [00:11<00:01,  1.59it/s]\u001b[A\n",
      "DDIM Sampler:  95%|█████████▌| 19/20 [00:11<00:00,  1.60it/s]\u001b[A\n",
      "DDIM Sampler: 100%|██████████| 20/20 [00:12<00:00,  1.60it/s]\u001b[A\n",
      "Global seed set to 64188\n"
     ]
    },
    {
     "name": "stdout",
     "output_type": "stream",
     "text": [
      "Data shape for DDIM sampling is (2, 4, 64, 64), eta 0.0\n",
      "Running DDIM Sampling with 20 timesteps\n"
     ]
    },
    {
     "name": "stderr",
     "output_type": "stream",
     "text": [
      "\n",
      "DDIM Sampler:   0%|          | 0/20 [00:00<?, ?it/s]\u001b[A\n",
      "DDIM Sampler:   5%|▌         | 1/20 [00:00<00:11,  1.63it/s]\u001b[A\n",
      "DDIM Sampler:  10%|█         | 2/20 [00:01<00:11,  1.59it/s]\u001b[A\n",
      "DDIM Sampler:  15%|█▌        | 3/20 [00:01<00:10,  1.59it/s]\u001b[A\n",
      "DDIM Sampler:  20%|██        | 4/20 [00:02<00:10,  1.60it/s]\u001b[A\n",
      "DDIM Sampler:  25%|██▌       | 5/20 [00:03<00:09,  1.59it/s]\u001b[A\n",
      "DDIM Sampler:  30%|███       | 6/20 [00:03<00:08,  1.59it/s]\u001b[A\n",
      "DDIM Sampler:  35%|███▌      | 7/20 [00:04<00:08,  1.59it/s]\u001b[A\n",
      "DDIM Sampler:  40%|████      | 8/20 [00:05<00:07,  1.59it/s]\u001b[A\n",
      "DDIM Sampler:  45%|████▌     | 9/20 [00:05<00:06,  1.60it/s]\u001b[A\n",
      "DDIM Sampler:  50%|█████     | 10/20 [00:06<00:06,  1.59it/s]\u001b[A\n",
      "DDIM Sampler:  55%|█████▌    | 11/20 [00:06<00:05,  1.60it/s]\u001b[A\n",
      "DDIM Sampler:  60%|██████    | 12/20 [00:07<00:05,  1.60it/s]\u001b[A\n",
      "DDIM Sampler:  65%|██████▌   | 13/20 [00:08<00:04,  1.59it/s]\u001b[A\n",
      "DDIM Sampler:  70%|███████   | 14/20 [00:08<00:03,  1.60it/s]\u001b[A\n",
      "DDIM Sampler:  75%|███████▌  | 15/20 [00:09<00:03,  1.60it/s]\u001b[A\n",
      "DDIM Sampler:  80%|████████  | 16/20 [00:10<00:02,  1.59it/s]\u001b[A\n",
      "DDIM Sampler:  85%|████████▌ | 17/20 [00:10<00:01,  1.60it/s]\u001b[A\n",
      "DDIM Sampler:  90%|█████████ | 18/20 [00:11<00:01,  1.60it/s]\u001b[A\n",
      "DDIM Sampler:  95%|█████████▌| 19/20 [00:11<00:00,  1.59it/s]\u001b[A\n",
      "DDIM Sampler: 100%|██████████| 20/20 [00:12<00:00,  1.60it/s]\u001b[A\n",
      "Global seed set to 10533\n"
     ]
    },
    {
     "name": "stdout",
     "output_type": "stream",
     "text": [
      "Data shape for DDIM sampling is (2, 4, 64, 64), eta 0.0\n",
      "Running DDIM Sampling with 20 timesteps\n"
     ]
    },
    {
     "name": "stderr",
     "output_type": "stream",
     "text": [
      "\n",
      "DDIM Sampler:   0%|          | 0/20 [00:00<?, ?it/s]\u001b[A\n",
      "DDIM Sampler:   5%|▌         | 1/20 [00:00<00:11,  1.63it/s]\u001b[A\n",
      "DDIM Sampler:  10%|█         | 2/20 [00:01<00:11,  1.59it/s]\u001b[A\n",
      "DDIM Sampler:  15%|█▌        | 3/20 [00:01<00:10,  1.59it/s]\u001b[A\n",
      "DDIM Sampler:  20%|██        | 4/20 [00:02<00:10,  1.60it/s]\u001b[A\n",
      "DDIM Sampler:  25%|██▌       | 5/20 [00:03<00:09,  1.59it/s]\u001b[A\n",
      "DDIM Sampler:  30%|███       | 6/20 [00:03<00:08,  1.60it/s]\u001b[A\n",
      "DDIM Sampler:  35%|███▌      | 7/20 [00:04<00:08,  1.59it/s]\u001b[A\n",
      "DDIM Sampler:  40%|████      | 8/20 [00:05<00:07,  1.59it/s]\u001b[A\n",
      "DDIM Sampler:  45%|████▌     | 9/20 [00:05<00:06,  1.60it/s]\u001b[A\n",
      "DDIM Sampler:  50%|█████     | 10/20 [00:06<00:06,  1.59it/s]\u001b[A\n",
      "DDIM Sampler:  55%|█████▌    | 11/20 [00:06<00:05,  1.60it/s]\u001b[A\n",
      "DDIM Sampler:  60%|██████    | 12/20 [00:07<00:05,  1.60it/s]\u001b[A\n",
      "DDIM Sampler:  65%|██████▌   | 13/20 [00:08<00:04,  1.60it/s]\u001b[A\n",
      "DDIM Sampler:  70%|███████   | 14/20 [00:08<00:03,  1.60it/s]\u001b[A\n",
      "DDIM Sampler:  75%|███████▌  | 15/20 [00:09<00:03,  1.60it/s]\u001b[A\n",
      "DDIM Sampler:  80%|████████  | 16/20 [00:10<00:02,  1.59it/s]\u001b[A\n",
      "DDIM Sampler:  85%|████████▌ | 17/20 [00:10<00:01,  1.60it/s]\u001b[A\n",
      "DDIM Sampler:  90%|█████████ | 18/20 [00:11<00:01,  1.60it/s]\u001b[A\n",
      "DDIM Sampler:  95%|█████████▌| 19/20 [00:11<00:00,  1.60it/s]\u001b[A\n",
      "DDIM Sampler: 100%|██████████| 20/20 [00:12<00:00,  1.60it/s]\u001b[A\n",
      "Global seed set to 31808\n"
     ]
    },
    {
     "name": "stdout",
     "output_type": "stream",
     "text": [
      "Data shape for DDIM sampling is (2, 4, 64, 64), eta 0.0\n",
      "Running DDIM Sampling with 20 timesteps\n"
     ]
    },
    {
     "name": "stderr",
     "output_type": "stream",
     "text": [
      "\n",
      "DDIM Sampler:   0%|          | 0/20 [00:00<?, ?it/s]\u001b[A\n",
      "DDIM Sampler:   5%|▌         | 1/20 [00:00<00:11,  1.62it/s]\u001b[A\n",
      "DDIM Sampler:  10%|█         | 2/20 [00:01<00:11,  1.59it/s]\u001b[A\n",
      "DDIM Sampler:  15%|█▌        | 3/20 [00:01<00:10,  1.59it/s]\u001b[A\n",
      "DDIM Sampler:  20%|██        | 4/20 [00:02<00:10,  1.60it/s]\u001b[A\n",
      "DDIM Sampler:  25%|██▌       | 5/20 [00:03<00:09,  1.59it/s]\u001b[A\n",
      "DDIM Sampler:  30%|███       | 6/20 [00:03<00:08,  1.60it/s]\u001b[A\n",
      "DDIM Sampler:  35%|███▌      | 7/20 [00:04<00:08,  1.59it/s]\u001b[A\n",
      "DDIM Sampler:  40%|████      | 8/20 [00:05<00:07,  1.59it/s]\u001b[A\n",
      "DDIM Sampler:  45%|████▌     | 9/20 [00:05<00:06,  1.60it/s]\u001b[A\n",
      "DDIM Sampler:  50%|█████     | 10/20 [00:06<00:06,  1.60it/s]\u001b[A\n",
      "DDIM Sampler:  55%|█████▌    | 11/20 [00:06<00:05,  1.60it/s]\u001b[A\n",
      "DDIM Sampler:  60%|██████    | 12/20 [00:07<00:05,  1.60it/s]\u001b[A\n",
      "DDIM Sampler:  65%|██████▌   | 13/20 [00:08<00:04,  1.59it/s]\u001b[A\n",
      "DDIM Sampler:  70%|███████   | 14/20 [00:08<00:03,  1.60it/s]\u001b[A\n",
      "DDIM Sampler:  75%|███████▌  | 15/20 [00:09<00:03,  1.60it/s]\u001b[A\n",
      "DDIM Sampler:  80%|████████  | 16/20 [00:10<00:02,  1.59it/s]\u001b[A\n",
      "DDIM Sampler:  85%|████████▌ | 17/20 [00:10<00:01,  1.60it/s]\u001b[A\n",
      "DDIM Sampler:  90%|█████████ | 18/20 [00:11<00:01,  1.60it/s]\u001b[A\n",
      "DDIM Sampler:  95%|█████████▌| 19/20 [00:11<00:00,  1.60it/s]\u001b[A\n",
      "DDIM Sampler: 100%|██████████| 20/20 [00:12<00:00,  1.60it/s]\u001b[A\n",
      "Global seed set to 33281\n"
     ]
    },
    {
     "name": "stdout",
     "output_type": "stream",
     "text": [
      "Data shape for DDIM sampling is (2, 4, 72, 64), eta 0.0\n",
      "Running DDIM Sampling with 20 timesteps\n"
     ]
    },
    {
     "name": "stderr",
     "output_type": "stream",
     "text": [
      "\n",
      "DDIM Sampler:   0%|          | 0/20 [00:00<?, ?it/s]\u001b[A\n",
      "DDIM Sampler:   5%|▌         | 1/20 [00:00<00:13,  1.36it/s]\u001b[A\n",
      "DDIM Sampler:  10%|█         | 2/20 [00:01<00:13,  1.33it/s]\u001b[A\n",
      "DDIM Sampler:  15%|█▌        | 3/20 [00:02<00:12,  1.33it/s]\u001b[A\n",
      "DDIM Sampler:  20%|██        | 4/20 [00:02<00:11,  1.33it/s]\u001b[A\n",
      "DDIM Sampler:  25%|██▌       | 5/20 [00:03<00:11,  1.34it/s]\u001b[A\n",
      "DDIM Sampler:  30%|███       | 6/20 [00:04<00:10,  1.34it/s]\u001b[A\n",
      "DDIM Sampler:  35%|███▌      | 7/20 [00:05<00:09,  1.33it/s]\u001b[A\n",
      "DDIM Sampler:  40%|████      | 8/20 [00:05<00:08,  1.34it/s]\u001b[A\n",
      "DDIM Sampler:  45%|████▌     | 9/20 [00:06<00:08,  1.34it/s]\u001b[A\n",
      "DDIM Sampler:  50%|█████     | 10/20 [00:07<00:07,  1.34it/s]\u001b[A\n",
      "DDIM Sampler:  55%|█████▌    | 11/20 [00:08<00:06,  1.34it/s]\u001b[A\n",
      "DDIM Sampler:  60%|██████    | 12/20 [00:08<00:05,  1.34it/s]\u001b[A\n",
      "DDIM Sampler:  65%|██████▌   | 13/20 [00:09<00:05,  1.34it/s]\u001b[A\n",
      "DDIM Sampler:  70%|███████   | 14/20 [00:10<00:04,  1.34it/s]\u001b[A\n",
      "DDIM Sampler:  75%|███████▌  | 15/20 [00:11<00:03,  1.34it/s]\u001b[A\n",
      "DDIM Sampler:  80%|████████  | 16/20 [00:11<00:02,  1.34it/s]\u001b[A\n",
      "DDIM Sampler:  85%|████████▌ | 17/20 [00:12<00:02,  1.34it/s]\u001b[A\n",
      "DDIM Sampler:  90%|█████████ | 18/20 [00:13<00:01,  1.34it/s]\u001b[A\n",
      "DDIM Sampler:  95%|█████████▌| 19/20 [00:14<00:00,  1.34it/s]\u001b[A\n",
      "DDIM Sampler: 100%|██████████| 20/20 [00:14<00:00,  1.34it/s]\u001b[A\n",
      "Global seed set to 9181\n"
     ]
    },
    {
     "name": "stdout",
     "output_type": "stream",
     "text": [
      "Data shape for DDIM sampling is (2, 4, 64, 64), eta 0.0\n",
      "Running DDIM Sampling with 20 timesteps\n"
     ]
    },
    {
     "name": "stderr",
     "output_type": "stream",
     "text": [
      "\n",
      "DDIM Sampler:   0%|          | 0/20 [00:00<?, ?it/s]\u001b[A\n",
      "DDIM Sampler:   5%|▌         | 1/20 [00:00<00:11,  1.63it/s]\u001b[A\n",
      "DDIM Sampler:  10%|█         | 2/20 [00:01<00:11,  1.59it/s]\u001b[A\n",
      "DDIM Sampler:  15%|█▌        | 3/20 [00:01<00:10,  1.59it/s]\u001b[A\n",
      "DDIM Sampler:  20%|██        | 4/20 [00:02<00:10,  1.60it/s]\u001b[A\n",
      "DDIM Sampler:  25%|██▌       | 5/20 [00:03<00:09,  1.59it/s]\u001b[A\n",
      "DDIM Sampler:  30%|███       | 6/20 [00:03<00:08,  1.60it/s]\u001b[A\n",
      "DDIM Sampler:  35%|███▌      | 7/20 [00:04<00:08,  1.59it/s]\u001b[A\n",
      "DDIM Sampler:  40%|████      | 8/20 [00:05<00:07,  1.59it/s]\u001b[A\n",
      "DDIM Sampler:  45%|████▌     | 9/20 [00:05<00:06,  1.60it/s]\u001b[A\n",
      "DDIM Sampler:  50%|█████     | 10/20 [00:06<00:06,  1.59it/s]\u001b[A\n",
      "DDIM Sampler:  55%|█████▌    | 11/20 [00:06<00:05,  1.59it/s]\u001b[A\n",
      "DDIM Sampler:  60%|██████    | 12/20 [00:07<00:05,  1.60it/s]\u001b[A\n",
      "DDIM Sampler:  65%|██████▌   | 13/20 [00:08<00:04,  1.60it/s]\u001b[A\n",
      "DDIM Sampler:  70%|███████   | 14/20 [00:08<00:03,  1.60it/s]\u001b[A\n",
      "DDIM Sampler:  75%|███████▌  | 15/20 [00:09<00:03,  1.60it/s]\u001b[A\n",
      "DDIM Sampler:  80%|████████  | 16/20 [00:10<00:02,  1.60it/s]\u001b[A\n",
      "DDIM Sampler:  85%|████████▌ | 17/20 [00:10<00:01,  1.60it/s]\u001b[A\n",
      "DDIM Sampler:  90%|█████████ | 18/20 [00:11<00:01,  1.60it/s]\u001b[A\n",
      "DDIM Sampler:  95%|█████████▌| 19/20 [00:11<00:00,  1.60it/s]\u001b[A\n",
      "DDIM Sampler: 100%|██████████| 20/20 [00:12<00:00,  1.60it/s]\u001b[A\n",
      "Global seed set to 64188\n"
     ]
    },
    {
     "name": "stdout",
     "output_type": "stream",
     "text": [
      "Data shape for DDIM sampling is (2, 4, 64, 96), eta 0.0\n",
      "Running DDIM Sampling with 20 timesteps\n"
     ]
    },
    {
     "name": "stderr",
     "output_type": "stream",
     "text": [
      "\n",
      "DDIM Sampler:   0%|          | 0/20 [00:00<?, ?it/s]\u001b[A\n",
      "DDIM Sampler:   5%|▌         | 1/20 [00:01<00:22,  1.17s/it]\u001b[A\n",
      "DDIM Sampler:  10%|█         | 2/20 [00:02<00:20,  1.16s/it]\u001b[A\n",
      "DDIM Sampler:  15%|█▌        | 3/20 [00:03<00:19,  1.16s/it]\u001b[A\n",
      "DDIM Sampler:  20%|██        | 4/20 [00:04<00:18,  1.16s/it]\u001b[A\n",
      "DDIM Sampler:  25%|██▌       | 5/20 [00:05<00:17,  1.16s/it]\u001b[A\n",
      "DDIM Sampler:  30%|███       | 6/20 [00:06<00:16,  1.16s/it]\u001b[A\n",
      "DDIM Sampler:  35%|███▌      | 7/20 [00:08<00:15,  1.16s/it]\u001b[A\n",
      "DDIM Sampler:  40%|████      | 8/20 [00:09<00:13,  1.16s/it]\u001b[A\n",
      "DDIM Sampler:  45%|████▌     | 9/20 [00:10<00:12,  1.16s/it]\u001b[A\n",
      "DDIM Sampler:  50%|█████     | 10/20 [00:11<00:11,  1.16s/it]\u001b[A\n",
      "DDIM Sampler:  55%|█████▌    | 11/20 [00:12<00:10,  1.16s/it]\u001b[A\n",
      "DDIM Sampler:  60%|██████    | 12/20 [00:13<00:09,  1.16s/it]\u001b[A\n",
      "DDIM Sampler:  65%|██████▌   | 13/20 [00:15<00:08,  1.16s/it]\u001b[A\n",
      "DDIM Sampler:  70%|███████   | 14/20 [00:16<00:06,  1.16s/it]\u001b[A\n",
      "DDIM Sampler:  75%|███████▌  | 15/20 [00:17<00:05,  1.16s/it]\u001b[A\n",
      "DDIM Sampler:  80%|████████  | 16/20 [00:18<00:04,  1.16s/it]\u001b[A\n",
      "DDIM Sampler:  85%|████████▌ | 17/20 [00:19<00:03,  1.16s/it]\u001b[A\n",
      "DDIM Sampler:  90%|█████████ | 18/20 [00:20<00:02,  1.16s/it]\u001b[A\n",
      "DDIM Sampler:  95%|█████████▌| 19/20 [00:22<00:01,  1.16s/it]\u001b[A\n",
      "DDIM Sampler: 100%|██████████| 20/20 [00:23<00:00,  1.16s/it]\u001b[A\n",
      "Global seed set to 10533\n"
     ]
    },
    {
     "name": "stdout",
     "output_type": "stream",
     "text": [
      "Data shape for DDIM sampling is (2, 4, 64, 64), eta 0.0\n",
      "Running DDIM Sampling with 20 timesteps\n"
     ]
    },
    {
     "name": "stderr",
     "output_type": "stream",
     "text": [
      "\n",
      "DDIM Sampler:   0%|          | 0/20 [00:00<?, ?it/s]\u001b[A\n",
      "DDIM Sampler:   5%|▌         | 1/20 [00:00<00:11,  1.63it/s]\u001b[A\n",
      "DDIM Sampler:  10%|█         | 2/20 [00:01<00:11,  1.60it/s]\u001b[A\n",
      "DDIM Sampler:  15%|█▌        | 3/20 [00:01<00:10,  1.60it/s]\u001b[A\n",
      "DDIM Sampler:  20%|██        | 4/20 [00:02<00:09,  1.60it/s]\u001b[A\n",
      "DDIM Sampler:  25%|██▌       | 5/20 [00:03<00:09,  1.60it/s]\u001b[A\n",
      "DDIM Sampler:  30%|███       | 6/20 [00:03<00:08,  1.60it/s]\u001b[A\n",
      "DDIM Sampler:  35%|███▌      | 7/20 [00:04<00:08,  1.60it/s]\u001b[A\n",
      "DDIM Sampler:  40%|████      | 8/20 [00:05<00:07,  1.60it/s]\u001b[A\n",
      "DDIM Sampler:  45%|████▌     | 9/20 [00:05<00:06,  1.60it/s]\u001b[A\n",
      "DDIM Sampler:  50%|█████     | 10/20 [00:06<00:06,  1.60it/s]\u001b[A\n",
      "DDIM Sampler:  55%|█████▌    | 11/20 [00:06<00:05,  1.60it/s]\u001b[A\n",
      "DDIM Sampler:  60%|██████    | 12/20 [00:07<00:05,  1.60it/s]\u001b[A\n",
      "DDIM Sampler:  65%|██████▌   | 13/20 [00:08<00:04,  1.60it/s]\u001b[A\n",
      "DDIM Sampler:  70%|███████   | 14/20 [00:08<00:03,  1.60it/s]\u001b[A\n",
      "DDIM Sampler:  75%|███████▌  | 15/20 [00:09<00:03,  1.60it/s]\u001b[A\n",
      "DDIM Sampler:  80%|████████  | 16/20 [00:10<00:02,  1.59it/s]\u001b[A\n",
      "DDIM Sampler:  85%|████████▌ | 17/20 [00:10<00:01,  1.60it/s]\u001b[A\n",
      "DDIM Sampler:  90%|█████████ | 18/20 [00:11<00:01,  1.60it/s]\u001b[A\n",
      "DDIM Sampler:  95%|█████████▌| 19/20 [00:11<00:00,  1.60it/s]\u001b[A\n",
      "DDIM Sampler: 100%|██████████| 20/20 [00:12<00:00,  1.60it/s]\u001b[A\n",
      "Global seed set to 31808\n"
     ]
    },
    {
     "name": "stdout",
     "output_type": "stream",
     "text": [
      "Data shape for DDIM sampling is (2, 4, 64, 64), eta 0.0\n",
      "Running DDIM Sampling with 20 timesteps\n"
     ]
    },
    {
     "name": "stderr",
     "output_type": "stream",
     "text": [
      "\n",
      "DDIM Sampler:   0%|          | 0/20 [00:00<?, ?it/s]\u001b[A\n",
      "DDIM Sampler:   5%|▌         | 1/20 [00:00<00:11,  1.63it/s]\u001b[A\n",
      "DDIM Sampler:  10%|█         | 2/20 [00:01<00:11,  1.59it/s]\u001b[A\n",
      "DDIM Sampler:  15%|█▌        | 3/20 [00:01<00:10,  1.59it/s]\u001b[A\n",
      "DDIM Sampler:  20%|██        | 4/20 [00:02<00:09,  1.60it/s]\u001b[A\n",
      "DDIM Sampler:  25%|██▌       | 5/20 [00:03<00:09,  1.60it/s]\u001b[A\n",
      "DDIM Sampler:  30%|███       | 6/20 [00:03<00:08,  1.60it/s]\u001b[A\n",
      "DDIM Sampler:  35%|███▌      | 7/20 [00:04<00:08,  1.60it/s]\u001b[A\n",
      "DDIM Sampler:  40%|████      | 8/20 [00:05<00:07,  1.60it/s]\u001b[A\n",
      "DDIM Sampler:  45%|████▌     | 9/20 [00:05<00:06,  1.60it/s]\u001b[A\n",
      "DDIM Sampler:  50%|█████     | 10/20 [00:06<00:06,  1.60it/s]\u001b[A\n",
      "DDIM Sampler:  55%|█████▌    | 11/20 [00:06<00:05,  1.60it/s]\u001b[A\n",
      "DDIM Sampler:  60%|██████    | 12/20 [00:07<00:05,  1.60it/s]\u001b[A\n",
      "DDIM Sampler:  65%|██████▌   | 13/20 [00:08<00:04,  1.59it/s]\u001b[A\n",
      "DDIM Sampler:  70%|███████   | 14/20 [00:08<00:03,  1.60it/s]\u001b[A\n",
      "DDIM Sampler:  75%|███████▌  | 15/20 [00:09<00:03,  1.60it/s]\u001b[A\n",
      "DDIM Sampler:  80%|████████  | 16/20 [00:10<00:02,  1.60it/s]\u001b[A\n",
      "DDIM Sampler:  85%|████████▌ | 17/20 [00:10<00:01,  1.60it/s]\u001b[A\n",
      "DDIM Sampler:  90%|█████████ | 18/20 [00:11<00:01,  1.60it/s]\u001b[A\n",
      "DDIM Sampler:  95%|█████████▌| 19/20 [00:11<00:00,  1.60it/s]\u001b[A\n",
      "DDIM Sampler: 100%|██████████| 20/20 [00:12<00:00,  1.60it/s]\u001b[A\n",
      "Global seed set to 33281\n"
     ]
    },
    {
     "name": "stdout",
     "output_type": "stream",
     "text": [
      "Data shape for DDIM sampling is (2, 4, 64, 64), eta 0.0\n",
      "Running DDIM Sampling with 20 timesteps\n"
     ]
    },
    {
     "name": "stderr",
     "output_type": "stream",
     "text": [
      "\n",
      "DDIM Sampler:   0%|          | 0/20 [00:00<?, ?it/s]\u001b[A\n",
      "DDIM Sampler:   5%|▌         | 1/20 [00:00<00:11,  1.63it/s]\u001b[A\n",
      "DDIM Sampler:  10%|█         | 2/20 [00:01<00:11,  1.59it/s]\u001b[A\n",
      "DDIM Sampler:  15%|█▌        | 3/20 [00:01<00:10,  1.59it/s]\u001b[A\n",
      "DDIM Sampler:  20%|██        | 4/20 [00:02<00:10,  1.60it/s]\u001b[A\n",
      "DDIM Sampler:  25%|██▌       | 5/20 [00:03<00:09,  1.59it/s]\u001b[A\n",
      "DDIM Sampler:  30%|███       | 6/20 [00:03<00:08,  1.60it/s]\u001b[A\n",
      "DDIM Sampler:  35%|███▌      | 7/20 [00:04<00:08,  1.59it/s]\u001b[A\n",
      "DDIM Sampler:  40%|████      | 8/20 [00:05<00:07,  1.59it/s]\u001b[A\n",
      "DDIM Sampler:  45%|████▌     | 9/20 [00:05<00:06,  1.60it/s]\u001b[A\n",
      "DDIM Sampler:  50%|█████     | 10/20 [00:06<00:06,  1.59it/s]\u001b[A\n",
      "DDIM Sampler:  55%|█████▌    | 11/20 [00:06<00:05,  1.59it/s]\u001b[A\n",
      "DDIM Sampler:  60%|██████    | 12/20 [00:07<00:05,  1.60it/s]\u001b[A\n",
      "DDIM Sampler:  65%|██████▌   | 13/20 [00:08<00:04,  1.59it/s]\u001b[A\n",
      "DDIM Sampler:  70%|███████   | 14/20 [00:08<00:03,  1.60it/s]\u001b[A\n",
      "DDIM Sampler:  75%|███████▌  | 15/20 [00:09<00:03,  1.60it/s]\u001b[A\n",
      "DDIM Sampler:  80%|████████  | 16/20 [00:10<00:02,  1.60it/s]\u001b[A\n",
      "DDIM Sampler:  85%|████████▌ | 17/20 [00:10<00:01,  1.60it/s]\u001b[A\n",
      "DDIM Sampler:  90%|█████████ | 18/20 [00:11<00:01,  1.60it/s]\u001b[A\n",
      "DDIM Sampler:  95%|█████████▌| 19/20 [00:11<00:00,  1.60it/s]\u001b[A\n",
      "DDIM Sampler: 100%|██████████| 20/20 [00:12<00:00,  1.60it/s]\u001b[A\n",
      "Global seed set to 9181\n"
     ]
    },
    {
     "name": "stdout",
     "output_type": "stream",
     "text": [
      "Data shape for DDIM sampling is (2, 4, 64, 64), eta 0.0\n",
      "Running DDIM Sampling with 20 timesteps\n"
     ]
    },
    {
     "name": "stderr",
     "output_type": "stream",
     "text": [
      "\n",
      "DDIM Sampler:   0%|          | 0/20 [00:00<?, ?it/s]\u001b[A\n",
      "DDIM Sampler:   5%|▌         | 1/20 [00:00<00:11,  1.64it/s]\u001b[A\n",
      "DDIM Sampler:  10%|█         | 2/20 [00:01<00:11,  1.59it/s]\u001b[A\n",
      "DDIM Sampler:  15%|█▌        | 3/20 [00:01<00:10,  1.59it/s]\u001b[A\n",
      "DDIM Sampler:  20%|██        | 4/20 [00:02<00:10,  1.60it/s]\u001b[A\n",
      "DDIM Sampler:  25%|██▌       | 5/20 [00:03<00:09,  1.59it/s]\u001b[A\n",
      "DDIM Sampler:  30%|███       | 6/20 [00:03<00:08,  1.60it/s]\u001b[A\n",
      "DDIM Sampler:  35%|███▌      | 7/20 [00:04<00:08,  1.60it/s]\u001b[A\n",
      "DDIM Sampler:  40%|████      | 8/20 [00:05<00:07,  1.59it/s]\u001b[A\n",
      "DDIM Sampler:  45%|████▌     | 9/20 [00:05<00:06,  1.60it/s]\u001b[A\n",
      "DDIM Sampler:  50%|█████     | 10/20 [00:06<00:06,  1.60it/s]\u001b[A\n",
      "DDIM Sampler:  55%|█████▌    | 11/20 [00:06<00:05,  1.60it/s]\u001b[A\n",
      "DDIM Sampler:  60%|██████    | 12/20 [00:07<00:05,  1.60it/s]\u001b[A\n",
      "DDIM Sampler:  65%|██████▌   | 13/20 [00:08<00:04,  1.60it/s]\u001b[A\n",
      "DDIM Sampler:  70%|███████   | 14/20 [00:08<00:03,  1.60it/s]\u001b[A\n",
      "DDIM Sampler:  75%|███████▌  | 15/20 [00:09<00:03,  1.60it/s]\u001b[A\n",
      "DDIM Sampler:  80%|████████  | 16/20 [00:10<00:02,  1.60it/s]\u001b[A\n",
      "DDIM Sampler:  85%|████████▌ | 17/20 [00:10<00:01,  1.59it/s]\u001b[A\n",
      "DDIM Sampler:  90%|█████████ | 18/20 [00:11<00:01,  1.60it/s]\u001b[A\n",
      "DDIM Sampler:  95%|█████████▌| 19/20 [00:11<00:00,  1.60it/s]\u001b[A\n",
      "DDIM Sampler: 100%|██████████| 20/20 [00:12<00:00,  1.60it/s]\u001b[A\n",
      "Global seed set to 64188\n"
     ]
    },
    {
     "name": "stdout",
     "output_type": "stream",
     "text": [
      "Data shape for DDIM sampling is (2, 4, 64, 64), eta 0.0\n",
      "Running DDIM Sampling with 20 timesteps\n"
     ]
    },
    {
     "name": "stderr",
     "output_type": "stream",
     "text": [
      "\n",
      "DDIM Sampler:   0%|          | 0/20 [00:00<?, ?it/s]\u001b[A\n",
      "DDIM Sampler:   5%|▌         | 1/20 [00:00<00:11,  1.63it/s]\u001b[A\n",
      "DDIM Sampler:  10%|█         | 2/20 [00:01<00:11,  1.59it/s]\u001b[A\n",
      "DDIM Sampler:  15%|█▌        | 3/20 [00:01<00:10,  1.59it/s]\u001b[A\n",
      "DDIM Sampler:  20%|██        | 4/20 [00:02<00:10,  1.60it/s]\u001b[A\n",
      "DDIM Sampler:  25%|██▌       | 5/20 [00:03<00:09,  1.59it/s]\u001b[A\n",
      "DDIM Sampler:  30%|███       | 6/20 [00:03<00:08,  1.60it/s]\u001b[A\n",
      "DDIM Sampler:  35%|███▌      | 7/20 [00:04<00:08,  1.60it/s]\u001b[A\n",
      "DDIM Sampler:  40%|████      | 8/20 [00:05<00:07,  1.60it/s]\u001b[A\n",
      "DDIM Sampler:  45%|████▌     | 9/20 [00:05<00:06,  1.60it/s]\u001b[A\n",
      "DDIM Sampler:  50%|█████     | 10/20 [00:06<00:06,  1.60it/s]\u001b[A\n",
      "DDIM Sampler:  55%|█████▌    | 11/20 [00:06<00:05,  1.60it/s]\u001b[A\n",
      "DDIM Sampler:  60%|██████    | 12/20 [00:07<00:05,  1.60it/s]\u001b[A\n",
      "DDIM Sampler:  65%|██████▌   | 13/20 [00:08<00:04,  1.60it/s]\u001b[A\n",
      "DDIM Sampler:  70%|███████   | 14/20 [00:08<00:03,  1.60it/s]\u001b[A\n",
      "DDIM Sampler:  75%|███████▌  | 15/20 [00:09<00:03,  1.60it/s]\u001b[A\n",
      "DDIM Sampler:  80%|████████  | 16/20 [00:10<00:02,  1.60it/s]\u001b[A\n",
      "DDIM Sampler:  85%|████████▌ | 17/20 [00:10<00:01,  1.60it/s]\u001b[A\n",
      "DDIM Sampler:  90%|█████████ | 18/20 [00:11<00:01,  1.60it/s]\u001b[A\n",
      "DDIM Sampler:  95%|█████████▌| 19/20 [00:11<00:00,  1.60it/s]\u001b[A\n",
      "DDIM Sampler: 100%|██████████| 20/20 [00:12<00:00,  1.60it/s]\u001b[A\n",
      "Global seed set to 10533\n"
     ]
    },
    {
     "name": "stdout",
     "output_type": "stream",
     "text": [
      "Data shape for DDIM sampling is (2, 4, 64, 72), eta 0.0\n",
      "Running DDIM Sampling with 20 timesteps\n"
     ]
    },
    {
     "name": "stderr",
     "output_type": "stream",
     "text": [
      "\n",
      "DDIM Sampler:   0%|          | 0/20 [00:00<?, ?it/s]\u001b[A\n",
      "DDIM Sampler:   5%|▌         | 1/20 [00:00<00:13,  1.36it/s]\u001b[A\n",
      "DDIM Sampler:  10%|█         | 2/20 [00:01<00:13,  1.33it/s]\u001b[A\n",
      "DDIM Sampler:  15%|█▌        | 3/20 [00:02<00:12,  1.33it/s]\u001b[A\n",
      "DDIM Sampler:  20%|██        | 4/20 [00:03<00:12,  1.33it/s]\u001b[A\n",
      "DDIM Sampler:  25%|██▌       | 5/20 [00:03<00:11,  1.33it/s]\u001b[A\n",
      "DDIM Sampler:  30%|███       | 6/20 [00:04<00:10,  1.33it/s]\u001b[A\n",
      "DDIM Sampler:  35%|███▌      | 7/20 [00:05<00:09,  1.33it/s]\u001b[A\n",
      "DDIM Sampler:  40%|████      | 8/20 [00:06<00:09,  1.33it/s]\u001b[A\n",
      "DDIM Sampler:  45%|████▌     | 9/20 [00:06<00:08,  1.33it/s]\u001b[A\n",
      "DDIM Sampler:  50%|█████     | 10/20 [00:07<00:07,  1.33it/s]\u001b[A\n",
      "DDIM Sampler:  55%|█████▌    | 11/20 [00:08<00:06,  1.33it/s]\u001b[A\n",
      "DDIM Sampler:  60%|██████    | 12/20 [00:08<00:05,  1.33it/s]\u001b[A\n",
      "DDIM Sampler:  65%|██████▌   | 13/20 [00:09<00:05,  1.33it/s]\u001b[A\n",
      "DDIM Sampler:  70%|███████   | 14/20 [00:10<00:04,  1.33it/s]\u001b[A\n",
      "DDIM Sampler:  75%|███████▌  | 15/20 [00:11<00:03,  1.33it/s]\u001b[A\n",
      "DDIM Sampler:  80%|████████  | 16/20 [00:12<00:03,  1.33it/s]\u001b[A\n",
      "DDIM Sampler:  85%|████████▌ | 17/20 [00:12<00:02,  1.33it/s]\u001b[A\n",
      "DDIM Sampler:  90%|█████████ | 18/20 [00:13<00:01,  1.33it/s]\u001b[A\n",
      "DDIM Sampler:  95%|█████████▌| 19/20 [00:14<00:00,  1.33it/s]\u001b[A\n",
      "DDIM Sampler: 100%|██████████| 20/20 [00:15<00:00,  1.33it/s]\u001b[A\n",
      "Global seed set to 31808\n"
     ]
    },
    {
     "name": "stdout",
     "output_type": "stream",
     "text": [
      "Data shape for DDIM sampling is (2, 4, 64, 112), eta 0.0\n",
      "Running DDIM Sampling with 20 timesteps\n"
     ]
    },
    {
     "name": "stderr",
     "output_type": "stream",
     "text": [
      "\n",
      "DDIM Sampler:   0%|          | 0/20 [00:00<?, ?it/s]\u001b[A\n",
      "DDIM Sampler:   5%|▌         | 1/20 [00:01<00:28,  1.51s/it]\u001b[A\n",
      "DDIM Sampler:  10%|█         | 2/20 [00:03<00:27,  1.51s/it]\u001b[A\n",
      "DDIM Sampler:  15%|█▌        | 3/20 [00:04<00:25,  1.51s/it]\u001b[A\n",
      "DDIM Sampler:  20%|██        | 4/20 [00:06<00:24,  1.51s/it]\u001b[A\n",
      "DDIM Sampler:  25%|██▌       | 5/20 [00:07<00:22,  1.51s/it]\u001b[A\n",
      "DDIM Sampler:  30%|███       | 6/20 [00:09<00:21,  1.51s/it]\u001b[A\n",
      "DDIM Sampler:  35%|███▌      | 7/20 [00:10<00:19,  1.51s/it]\u001b[A\n",
      "DDIM Sampler:  40%|████      | 8/20 [00:12<00:18,  1.51s/it]\u001b[A\n",
      "DDIM Sampler:  45%|████▌     | 9/20 [00:13<00:16,  1.51s/it]\u001b[A\n",
      "DDIM Sampler:  50%|█████     | 10/20 [00:15<00:15,  1.51s/it]\u001b[A\n",
      "DDIM Sampler:  55%|█████▌    | 11/20 [00:16<00:13,  1.51s/it]\u001b[A\n",
      "DDIM Sampler:  60%|██████    | 12/20 [00:18<00:12,  1.51s/it]\u001b[A\n",
      "DDIM Sampler:  65%|██████▌   | 13/20 [00:19<00:10,  1.51s/it]\u001b[A\n",
      "DDIM Sampler:  70%|███████   | 14/20 [00:21<00:09,  1.51s/it]\u001b[A\n",
      "DDIM Sampler:  75%|███████▌  | 15/20 [00:22<00:07,  1.51s/it]\u001b[A\n",
      "DDIM Sampler:  80%|████████  | 16/20 [00:24<00:06,  1.51s/it]\u001b[A\n",
      "DDIM Sampler:  85%|████████▌ | 17/20 [00:25<00:04,  1.51s/it]\u001b[A\n",
      "DDIM Sampler:  90%|█████████ | 18/20 [00:27<00:03,  1.51s/it]\u001b[A\n",
      "DDIM Sampler:  95%|█████████▌| 19/20 [00:28<00:01,  1.51s/it]\u001b[A\n",
      "DDIM Sampler: 100%|██████████| 20/20 [00:30<00:00,  1.51s/it]\u001b[A\n",
      "Global seed set to 33281\n"
     ]
    },
    {
     "name": "stdout",
     "output_type": "stream",
     "text": [
      "Data shape for DDIM sampling is (2, 4, 64, 96), eta 0.0\n",
      "Running DDIM Sampling with 20 timesteps\n"
     ]
    },
    {
     "name": "stderr",
     "output_type": "stream",
     "text": [
      "\n",
      "DDIM Sampler:   0%|          | 0/20 [00:00<?, ?it/s]\u001b[A\n",
      "DDIM Sampler:   5%|▌         | 1/20 [00:01<00:22,  1.17s/it]\u001b[A\n",
      "DDIM Sampler:  10%|█         | 2/20 [00:02<00:20,  1.17s/it]\u001b[A\n",
      "DDIM Sampler:  15%|█▌        | 3/20 [00:03<00:19,  1.16s/it]\u001b[A\n",
      "DDIM Sampler:  20%|██        | 4/20 [00:04<00:18,  1.16s/it]\u001b[A\n",
      "DDIM Sampler:  25%|██▌       | 5/20 [00:05<00:17,  1.16s/it]\u001b[A\n",
      "DDIM Sampler:  30%|███       | 6/20 [00:06<00:16,  1.16s/it]\u001b[A\n",
      "DDIM Sampler:  35%|███▌      | 7/20 [00:08<00:15,  1.16s/it]\u001b[A\n",
      "DDIM Sampler:  40%|████      | 8/20 [00:09<00:13,  1.16s/it]\u001b[A\n",
      "DDIM Sampler:  45%|████▌     | 9/20 [00:10<00:12,  1.16s/it]\u001b[A\n",
      "DDIM Sampler:  50%|█████     | 10/20 [00:11<00:11,  1.16s/it]\u001b[A\n",
      "DDIM Sampler:  55%|█████▌    | 11/20 [00:12<00:10,  1.16s/it]\u001b[A\n",
      "DDIM Sampler:  60%|██████    | 12/20 [00:13<00:09,  1.16s/it]\u001b[A\n",
      "DDIM Sampler:  65%|██████▌   | 13/20 [00:15<00:08,  1.16s/it]\u001b[A\n",
      "DDIM Sampler:  70%|███████   | 14/20 [00:16<00:06,  1.16s/it]\u001b[A\n",
      "DDIM Sampler:  75%|███████▌  | 15/20 [00:17<00:05,  1.16s/it]\u001b[A\n",
      "DDIM Sampler:  80%|████████  | 16/20 [00:18<00:04,  1.16s/it]\u001b[A\n",
      "DDIM Sampler:  85%|████████▌ | 17/20 [00:19<00:03,  1.16s/it]\u001b[A\n",
      "DDIM Sampler:  90%|█████████ | 18/20 [00:20<00:02,  1.16s/it]\u001b[A\n",
      "DDIM Sampler:  95%|█████████▌| 19/20 [00:22<00:01,  1.16s/it]\u001b[A\n",
      "DDIM Sampler: 100%|██████████| 20/20 [00:23<00:00,  1.16s/it]\u001b[A\n",
      "Global seed set to 9181\n"
     ]
    },
    {
     "name": "stdout",
     "output_type": "stream",
     "text": [
      "Data shape for DDIM sampling is (2, 4, 64, 64), eta 0.0\n",
      "Running DDIM Sampling with 20 timesteps\n"
     ]
    },
    {
     "name": "stderr",
     "output_type": "stream",
     "text": [
      "\n",
      "DDIM Sampler:   0%|          | 0/20 [00:00<?, ?it/s]\u001b[A\n",
      "DDIM Sampler:   5%|▌         | 1/20 [00:00<00:11,  1.63it/s]\u001b[A\n",
      "DDIM Sampler:  10%|█         | 2/20 [00:01<00:11,  1.59it/s]\u001b[A\n",
      "DDIM Sampler:  15%|█▌        | 3/20 [00:01<00:10,  1.60it/s]\u001b[A\n",
      "DDIM Sampler:  20%|██        | 4/20 [00:02<00:10,  1.60it/s]\u001b[A\n",
      "DDIM Sampler:  25%|██▌       | 5/20 [00:03<00:09,  1.59it/s]\u001b[A\n",
      "DDIM Sampler:  30%|███       | 6/20 [00:03<00:08,  1.60it/s]\u001b[A\n",
      "DDIM Sampler:  35%|███▌      | 7/20 [00:04<00:08,  1.59it/s]\u001b[A\n",
      "DDIM Sampler:  40%|████      | 8/20 [00:05<00:07,  1.59it/s]\u001b[A\n",
      "DDIM Sampler:  45%|████▌     | 9/20 [00:05<00:06,  1.60it/s]\u001b[A\n",
      "DDIM Sampler:  50%|█████     | 10/20 [00:06<00:06,  1.59it/s]\u001b[A\n",
      "DDIM Sampler:  55%|█████▌    | 11/20 [00:06<00:05,  1.60it/s]\u001b[A\n",
      "DDIM Sampler:  60%|██████    | 12/20 [00:07<00:05,  1.59it/s]\u001b[A\n",
      "DDIM Sampler:  65%|██████▌   | 13/20 [00:08<00:04,  1.60it/s]\u001b[A\n",
      "DDIM Sampler:  70%|███████   | 14/20 [00:08<00:03,  1.60it/s]\u001b[A\n",
      "DDIM Sampler:  75%|███████▌  | 15/20 [00:09<00:03,  1.60it/s]\u001b[A\n",
      "DDIM Sampler:  80%|████████  | 16/20 [00:10<00:02,  1.60it/s]\u001b[A\n",
      "DDIM Sampler:  85%|████████▌ | 17/20 [00:10<00:01,  1.60it/s]\u001b[A\n",
      "DDIM Sampler:  90%|█████████ | 18/20 [00:11<00:01,  1.60it/s]\u001b[A\n",
      "DDIM Sampler:  95%|█████████▌| 19/20 [00:11<00:00,  1.60it/s]\u001b[A\n",
      "DDIM Sampler: 100%|██████████| 20/20 [00:12<00:00,  1.60it/s]\u001b[A\n",
      "Global seed set to 64188\n"
     ]
    },
    {
     "name": "stdout",
     "output_type": "stream",
     "text": [
      "Data shape for DDIM sampling is (2, 4, 64, 64), eta 0.0\n",
      "Running DDIM Sampling with 20 timesteps\n"
     ]
    },
    {
     "name": "stderr",
     "output_type": "stream",
     "text": [
      "\n",
      "DDIM Sampler:   0%|          | 0/20 [00:00<?, ?it/s]\u001b[A\n",
      "DDIM Sampler:   5%|▌         | 1/20 [00:00<00:11,  1.63it/s]\u001b[A\n",
      "DDIM Sampler:  10%|█         | 2/20 [00:01<00:11,  1.60it/s]\u001b[A\n",
      "DDIM Sampler:  15%|█▌        | 3/20 [00:01<00:10,  1.60it/s]\u001b[A\n",
      "DDIM Sampler:  20%|██        | 4/20 [00:02<00:10,  1.60it/s]\u001b[A\n",
      "DDIM Sampler:  25%|██▌       | 5/20 [00:03<00:09,  1.60it/s]\u001b[A\n",
      "DDIM Sampler:  30%|███       | 6/20 [00:03<00:08,  1.60it/s]\u001b[A\n",
      "DDIM Sampler:  35%|███▌      | 7/20 [00:04<00:08,  1.60it/s]\u001b[A\n",
      "DDIM Sampler:  40%|████      | 8/20 [00:05<00:07,  1.60it/s]\u001b[A\n",
      "DDIM Sampler:  45%|████▌     | 9/20 [00:05<00:06,  1.60it/s]\u001b[A\n",
      "DDIM Sampler:  50%|█████     | 10/20 [00:06<00:06,  1.60it/s]\u001b[A\n",
      "DDIM Sampler:  55%|█████▌    | 11/20 [00:06<00:05,  1.60it/s]\u001b[A\n",
      "DDIM Sampler:  60%|██████    | 12/20 [00:07<00:05,  1.60it/s]\u001b[A\n",
      "DDIM Sampler:  65%|██████▌   | 13/20 [00:08<00:04,  1.60it/s]\u001b[A\n",
      "DDIM Sampler:  70%|███████   | 14/20 [00:08<00:03,  1.60it/s]\u001b[A\n",
      "DDIM Sampler:  75%|███████▌  | 15/20 [00:09<00:03,  1.60it/s]\u001b[A\n",
      "DDIM Sampler:  80%|████████  | 16/20 [00:10<00:02,  1.60it/s]\u001b[A\n",
      "DDIM Sampler:  85%|████████▌ | 17/20 [00:10<00:01,  1.60it/s]\u001b[A\n",
      "DDIM Sampler:  90%|█████████ | 18/20 [00:11<00:01,  1.60it/s]\u001b[A\n",
      "DDIM Sampler:  95%|█████████▌| 19/20 [00:11<00:00,  1.60it/s]\u001b[A\n",
      "DDIM Sampler: 100%|██████████| 20/20 [00:12<00:00,  1.60it/s]\u001b[A\n",
      "Global seed set to 10533\n"
     ]
    },
    {
     "name": "stdout",
     "output_type": "stream",
     "text": [
      "Data shape for DDIM sampling is (2, 4, 64, 64), eta 0.0\n",
      "Running DDIM Sampling with 20 timesteps\n"
     ]
    },
    {
     "name": "stderr",
     "output_type": "stream",
     "text": [
      "\n",
      "DDIM Sampler:   0%|          | 0/20 [00:00<?, ?it/s]\u001b[A\n",
      "DDIM Sampler:   5%|▌         | 1/20 [00:00<00:11,  1.63it/s]\u001b[A\n",
      "DDIM Sampler:  10%|█         | 2/20 [00:01<00:11,  1.59it/s]\u001b[A\n",
      "DDIM Sampler:  15%|█▌        | 3/20 [00:01<00:10,  1.60it/s]\u001b[A\n",
      "DDIM Sampler:  20%|██        | 4/20 [00:02<00:09,  1.60it/s]\u001b[A\n",
      "DDIM Sampler:  25%|██▌       | 5/20 [00:03<00:09,  1.59it/s]\u001b[A\n",
      "DDIM Sampler:  30%|███       | 6/20 [00:03<00:08,  1.60it/s]\u001b[A\n",
      "DDIM Sampler:  35%|███▌      | 7/20 [00:04<00:08,  1.60it/s]\u001b[A\n",
      "DDIM Sampler:  40%|████      | 8/20 [00:05<00:07,  1.60it/s]\u001b[A\n",
      "DDIM Sampler:  45%|████▌     | 9/20 [00:05<00:06,  1.60it/s]\u001b[A\n",
      "DDIM Sampler:  50%|█████     | 10/20 [00:06<00:06,  1.60it/s]\u001b[A\n",
      "DDIM Sampler:  55%|█████▌    | 11/20 [00:06<00:05,  1.60it/s]\u001b[A\n",
      "DDIM Sampler:  60%|██████    | 12/20 [00:07<00:05,  1.60it/s]\u001b[A\n",
      "DDIM Sampler:  65%|██████▌   | 13/20 [00:08<00:04,  1.60it/s]\u001b[A\n",
      "DDIM Sampler:  70%|███████   | 14/20 [00:08<00:03,  1.60it/s]\u001b[A\n",
      "DDIM Sampler:  75%|███████▌  | 15/20 [00:09<00:03,  1.60it/s]\u001b[A\n",
      "DDIM Sampler:  80%|████████  | 16/20 [00:10<00:02,  1.60it/s]\u001b[A\n",
      "DDIM Sampler:  85%|████████▌ | 17/20 [00:10<00:01,  1.60it/s]\u001b[A\n",
      "DDIM Sampler:  90%|█████████ | 18/20 [00:11<00:01,  1.60it/s]\u001b[A\n",
      "DDIM Sampler:  95%|█████████▌| 19/20 [00:11<00:00,  1.60it/s]\u001b[A\n",
      "DDIM Sampler: 100%|██████████| 20/20 [00:12<00:00,  1.60it/s]\u001b[A\n",
      "Global seed set to 31808\n"
     ]
    },
    {
     "name": "stdout",
     "output_type": "stream",
     "text": [
      "Data shape for DDIM sampling is (2, 4, 64, 64), eta 0.0\n",
      "Running DDIM Sampling with 20 timesteps\n"
     ]
    },
    {
     "name": "stderr",
     "output_type": "stream",
     "text": [
      "\n",
      "DDIM Sampler:   0%|          | 0/20 [00:00<?, ?it/s]\u001b[A\n",
      "DDIM Sampler:   5%|▌         | 1/20 [00:00<00:11,  1.63it/s]\u001b[A\n",
      "DDIM Sampler:  10%|█         | 2/20 [00:01<00:11,  1.59it/s]\u001b[A\n",
      "DDIM Sampler:  15%|█▌        | 3/20 [00:01<00:10,  1.59it/s]\u001b[A\n",
      "DDIM Sampler:  20%|██        | 4/20 [00:02<00:10,  1.60it/s]\u001b[A\n",
      "DDIM Sampler:  25%|██▌       | 5/20 [00:03<00:09,  1.59it/s]\u001b[A\n",
      "DDIM Sampler:  30%|███       | 6/20 [00:03<00:08,  1.60it/s]\u001b[A\n",
      "DDIM Sampler:  35%|███▌      | 7/20 [00:04<00:08,  1.60it/s]\u001b[A\n",
      "DDIM Sampler:  40%|████      | 8/20 [00:05<00:07,  1.60it/s]\u001b[A\n",
      "DDIM Sampler:  45%|████▌     | 9/20 [00:05<00:06,  1.60it/s]\u001b[A\n",
      "DDIM Sampler:  50%|█████     | 10/20 [00:06<00:06,  1.60it/s]\u001b[A\n",
      "DDIM Sampler:  55%|█████▌    | 11/20 [00:06<00:05,  1.60it/s]\u001b[A\n",
      "DDIM Sampler:  60%|██████    | 12/20 [00:07<00:05,  1.60it/s]\u001b[A\n",
      "DDIM Sampler:  65%|██████▌   | 13/20 [00:08<00:04,  1.60it/s]\u001b[A\n",
      "DDIM Sampler:  70%|███████   | 14/20 [00:08<00:03,  1.60it/s]\u001b[A\n",
      "DDIM Sampler:  75%|███████▌  | 15/20 [00:09<00:03,  1.60it/s]\u001b[A\n",
      "DDIM Sampler:  80%|████████  | 16/20 [00:10<00:02,  1.60it/s]\u001b[A\n",
      "DDIM Sampler:  85%|████████▌ | 17/20 [00:10<00:01,  1.60it/s]\u001b[A\n",
      "DDIM Sampler:  90%|█████████ | 18/20 [00:11<00:01,  1.60it/s]\u001b[A\n",
      "DDIM Sampler:  95%|█████████▌| 19/20 [00:11<00:00,  1.60it/s]\u001b[A\n",
      "DDIM Sampler: 100%|██████████| 20/20 [00:12<00:00,  1.60it/s]\u001b[A\n",
      "Global seed set to 33281\n"
     ]
    },
    {
     "name": "stdout",
     "output_type": "stream",
     "text": [
      "Data shape for DDIM sampling is (2, 4, 64, 64), eta 0.0\n",
      "Running DDIM Sampling with 20 timesteps\n"
     ]
    },
    {
     "name": "stderr",
     "output_type": "stream",
     "text": [
      "\n",
      "DDIM Sampler:   0%|          | 0/20 [00:00<?, ?it/s]\u001b[A\n",
      "DDIM Sampler:   5%|▌         | 1/20 [00:00<00:11,  1.63it/s]\u001b[A\n",
      "DDIM Sampler:  10%|█         | 2/20 [00:01<00:11,  1.59it/s]\u001b[A\n",
      "DDIM Sampler:  15%|█▌        | 3/20 [00:01<00:10,  1.59it/s]\u001b[A\n",
      "DDIM Sampler:  20%|██        | 4/20 [00:02<00:10,  1.59it/s]\u001b[A\n",
      "DDIM Sampler:  25%|██▌       | 5/20 [00:03<00:09,  1.59it/s]\u001b[A\n",
      "DDIM Sampler:  30%|███       | 6/20 [00:03<00:08,  1.60it/s]\u001b[A\n",
      "DDIM Sampler:  35%|███▌      | 7/20 [00:04<00:08,  1.59it/s]\u001b[A\n",
      "DDIM Sampler:  40%|████      | 8/20 [00:05<00:07,  1.59it/s]\u001b[A\n",
      "DDIM Sampler:  45%|████▌     | 9/20 [00:05<00:06,  1.60it/s]\u001b[A\n",
      "DDIM Sampler:  50%|█████     | 10/20 [00:06<00:06,  1.59it/s]\u001b[A\n",
      "DDIM Sampler:  55%|█████▌    | 11/20 [00:06<00:05,  1.60it/s]\u001b[A\n",
      "DDIM Sampler:  60%|██████    | 12/20 [00:07<00:05,  1.60it/s]\u001b[A\n",
      "DDIM Sampler:  65%|██████▌   | 13/20 [00:08<00:04,  1.60it/s]\u001b[A\n",
      "DDIM Sampler:  70%|███████   | 14/20 [00:08<00:03,  1.60it/s]\u001b[A\n",
      "DDIM Sampler:  75%|███████▌  | 15/20 [00:09<00:03,  1.60it/s]\u001b[A\n",
      "DDIM Sampler:  80%|████████  | 16/20 [00:10<00:02,  1.60it/s]\u001b[A\n",
      "DDIM Sampler:  85%|████████▌ | 17/20 [00:10<00:01,  1.60it/s]\u001b[A\n",
      "DDIM Sampler:  90%|█████████ | 18/20 [00:11<00:01,  1.60it/s]\u001b[A\n",
      "DDIM Sampler:  95%|█████████▌| 19/20 [00:11<00:00,  1.60it/s]\u001b[A\n",
      "DDIM Sampler: 100%|██████████| 20/20 [00:12<00:00,  1.60it/s]\u001b[A\n",
      "Global seed set to 9181\n"
     ]
    },
    {
     "name": "stdout",
     "output_type": "stream",
     "text": [
      "Data shape for DDIM sampling is (2, 4, 64, 64), eta 0.0\n",
      "Running DDIM Sampling with 20 timesteps\n"
     ]
    },
    {
     "name": "stderr",
     "output_type": "stream",
     "text": [
      "\n",
      "DDIM Sampler:   0%|          | 0/20 [00:00<?, ?it/s]\u001b[A\n",
      "DDIM Sampler:   5%|▌         | 1/20 [00:00<00:11,  1.63it/s]\u001b[A\n",
      "DDIM Sampler:  10%|█         | 2/20 [00:01<00:11,  1.59it/s]\u001b[A\n",
      "DDIM Sampler:  15%|█▌        | 3/20 [00:01<00:10,  1.59it/s]\u001b[A\n",
      "DDIM Sampler:  20%|██        | 4/20 [00:02<00:10,  1.60it/s]\u001b[A\n",
      "DDIM Sampler:  25%|██▌       | 5/20 [00:03<00:09,  1.59it/s]\u001b[A\n",
      "DDIM Sampler:  30%|███       | 6/20 [00:03<00:08,  1.60it/s]\u001b[A\n",
      "DDIM Sampler:  35%|███▌      | 7/20 [00:04<00:08,  1.59it/s]\u001b[A\n",
      "DDIM Sampler:  40%|████      | 8/20 [00:05<00:07,  1.59it/s]\u001b[A\n",
      "DDIM Sampler:  45%|████▌     | 9/20 [00:05<00:06,  1.60it/s]\u001b[A\n",
      "DDIM Sampler:  50%|█████     | 10/20 [00:06<00:06,  1.59it/s]\u001b[A\n",
      "DDIM Sampler:  55%|█████▌    | 11/20 [00:06<00:05,  1.60it/s]\u001b[A\n",
      "DDIM Sampler:  60%|██████    | 12/20 [00:07<00:05,  1.60it/s]\u001b[A\n",
      "DDIM Sampler:  65%|██████▌   | 13/20 [00:08<00:04,  1.60it/s]\u001b[A\n",
      "DDIM Sampler:  70%|███████   | 14/20 [00:08<00:03,  1.60it/s]\u001b[A\n",
      "DDIM Sampler:  75%|███████▌  | 15/20 [00:09<00:03,  1.60it/s]\u001b[A\n",
      "DDIM Sampler:  80%|████████  | 16/20 [00:10<00:02,  1.60it/s]\u001b[A\n",
      "DDIM Sampler:  85%|████████▌ | 17/20 [00:10<00:01,  1.60it/s]\u001b[A\n",
      "DDIM Sampler:  90%|█████████ | 18/20 [00:11<00:01,  1.60it/s]\u001b[A\n",
      "DDIM Sampler:  95%|█████████▌| 19/20 [00:11<00:00,  1.59it/s]\u001b[A\n",
      "DDIM Sampler: 100%|██████████| 20/20 [00:12<00:00,  1.60it/s]\u001b[A\n",
      "Global seed set to 64188\n"
     ]
    },
    {
     "name": "stdout",
     "output_type": "stream",
     "text": [
      "Data shape for DDIM sampling is (2, 4, 64, 64), eta 0.0\n",
      "Running DDIM Sampling with 20 timesteps\n"
     ]
    },
    {
     "name": "stderr",
     "output_type": "stream",
     "text": [
      "\n",
      "DDIM Sampler:   0%|          | 0/20 [00:00<?, ?it/s]\u001b[A\n",
      "DDIM Sampler:   5%|▌         | 1/20 [00:00<00:11,  1.63it/s]\u001b[A\n",
      "DDIM Sampler:  10%|█         | 2/20 [00:01<00:11,  1.59it/s]\u001b[A\n",
      "DDIM Sampler:  15%|█▌        | 3/20 [00:01<00:10,  1.59it/s]\u001b[A\n",
      "DDIM Sampler:  20%|██        | 4/20 [00:02<00:10,  1.60it/s]\u001b[A\n",
      "DDIM Sampler:  25%|██▌       | 5/20 [00:03<00:09,  1.59it/s]\u001b[A\n",
      "DDIM Sampler:  30%|███       | 6/20 [00:03<00:08,  1.60it/s]\u001b[A\n",
      "DDIM Sampler:  35%|███▌      | 7/20 [00:04<00:08,  1.60it/s]\u001b[A\n",
      "DDIM Sampler:  40%|████      | 8/20 [00:05<00:07,  1.59it/s]\u001b[A\n",
      "DDIM Sampler:  45%|████▌     | 9/20 [00:05<00:06,  1.60it/s]\u001b[A\n",
      "DDIM Sampler:  50%|█████     | 10/20 [00:06<00:06,  1.60it/s]\u001b[A\n",
      "DDIM Sampler:  55%|█████▌    | 11/20 [00:06<00:05,  1.60it/s]\u001b[A\n",
      "DDIM Sampler:  60%|██████    | 12/20 [00:07<00:05,  1.60it/s]\u001b[A\n",
      "DDIM Sampler:  65%|██████▌   | 13/20 [00:08<00:04,  1.59it/s]\u001b[A\n",
      "DDIM Sampler:  70%|███████   | 14/20 [00:08<00:03,  1.60it/s]\u001b[A\n",
      "DDIM Sampler:  75%|███████▌  | 15/20 [00:09<00:03,  1.60it/s]\u001b[A\n",
      "DDIM Sampler:  80%|████████  | 16/20 [00:10<00:02,  1.60it/s]\u001b[A\n",
      "DDIM Sampler:  85%|████████▌ | 17/20 [00:10<00:01,  1.60it/s]\u001b[A\n",
      "DDIM Sampler:  90%|█████████ | 18/20 [00:11<00:01,  1.59it/s]\u001b[A\n",
      "DDIM Sampler:  95%|█████████▌| 19/20 [00:11<00:00,  1.60it/s]\u001b[A\n",
      "DDIM Sampler: 100%|██████████| 20/20 [00:12<00:00,  1.60it/s]\u001b[A\n",
      "Global seed set to 10533\n"
     ]
    },
    {
     "name": "stdout",
     "output_type": "stream",
     "text": [
      "Data shape for DDIM sampling is (2, 4, 72, 64), eta 0.0\n",
      "Running DDIM Sampling with 20 timesteps\n"
     ]
    },
    {
     "name": "stderr",
     "output_type": "stream",
     "text": [
      "\n",
      "DDIM Sampler:   0%|          | 0/20 [00:00<?, ?it/s]\u001b[A\n",
      "DDIM Sampler:   5%|▌         | 1/20 [00:00<00:13,  1.37it/s]\u001b[A\n",
      "DDIM Sampler:  10%|█         | 2/20 [00:01<00:13,  1.34it/s]\u001b[A\n",
      "DDIM Sampler:  15%|█▌        | 3/20 [00:02<00:12,  1.34it/s]\u001b[A\n",
      "DDIM Sampler:  20%|██        | 4/20 [00:02<00:11,  1.34it/s]\u001b[A\n",
      "DDIM Sampler:  25%|██▌       | 5/20 [00:03<00:11,  1.34it/s]\u001b[A\n",
      "DDIM Sampler:  30%|███       | 6/20 [00:04<00:10,  1.34it/s]\u001b[A\n",
      "DDIM Sampler:  35%|███▌      | 7/20 [00:05<00:09,  1.34it/s]\u001b[A\n",
      "DDIM Sampler:  40%|████      | 8/20 [00:05<00:08,  1.34it/s]\u001b[A\n",
      "DDIM Sampler:  45%|████▌     | 9/20 [00:06<00:08,  1.34it/s]\u001b[A\n",
      "DDIM Sampler:  50%|█████     | 10/20 [00:07<00:07,  1.34it/s]\u001b[A\n",
      "DDIM Sampler:  55%|█████▌    | 11/20 [00:08<00:06,  1.34it/s]\u001b[A\n",
      "DDIM Sampler:  60%|██████    | 12/20 [00:08<00:05,  1.34it/s]\u001b[A\n",
      "DDIM Sampler:  65%|██████▌   | 13/20 [00:09<00:05,  1.34it/s]\u001b[A\n",
      "DDIM Sampler:  70%|███████   | 14/20 [00:10<00:04,  1.34it/s]\u001b[A\n",
      "DDIM Sampler:  75%|███████▌  | 15/20 [00:11<00:03,  1.34it/s]\u001b[A\n",
      "DDIM Sampler:  80%|████████  | 16/20 [00:11<00:02,  1.34it/s]\u001b[A\n",
      "DDIM Sampler:  85%|████████▌ | 17/20 [00:12<00:02,  1.34it/s]\u001b[A\n",
      "DDIM Sampler:  90%|█████████ | 18/20 [00:13<00:01,  1.34it/s]\u001b[A\n",
      "DDIM Sampler:  95%|█████████▌| 19/20 [00:14<00:00,  1.34it/s]\u001b[A\n",
      "DDIM Sampler: 100%|██████████| 20/20 [00:14<00:00,  1.34it/s]\u001b[A\n",
      "Global seed set to 31808\n"
     ]
    },
    {
     "name": "stdout",
     "output_type": "stream",
     "text": [
      "Data shape for DDIM sampling is (2, 4, 64, 64), eta 0.0\n",
      "Running DDIM Sampling with 20 timesteps\n"
     ]
    },
    {
     "name": "stderr",
     "output_type": "stream",
     "text": [
      "\n",
      "DDIM Sampler:   0%|          | 0/20 [00:00<?, ?it/s]\u001b[A\n",
      "DDIM Sampler:   5%|▌         | 1/20 [00:00<00:11,  1.63it/s]\u001b[A\n",
      "DDIM Sampler:  10%|█         | 2/20 [00:01<00:11,  1.59it/s]\u001b[A\n",
      "DDIM Sampler:  15%|█▌        | 3/20 [00:01<00:10,  1.59it/s]\u001b[A\n",
      "DDIM Sampler:  20%|██        | 4/20 [00:02<00:10,  1.60it/s]\u001b[A\n",
      "DDIM Sampler:  25%|██▌       | 5/20 [00:03<00:09,  1.59it/s]\u001b[A\n",
      "DDIM Sampler:  30%|███       | 6/20 [00:03<00:08,  1.60it/s]\u001b[A\n",
      "DDIM Sampler:  35%|███▌      | 7/20 [00:04<00:08,  1.60it/s]\u001b[A\n",
      "DDIM Sampler:  40%|████      | 8/20 [00:05<00:07,  1.60it/s]\u001b[A\n",
      "DDIM Sampler:  45%|████▌     | 9/20 [00:05<00:06,  1.60it/s]\u001b[A\n",
      "DDIM Sampler:  50%|█████     | 10/20 [00:06<00:06,  1.60it/s]\u001b[A\n",
      "DDIM Sampler:  55%|█████▌    | 11/20 [00:06<00:05,  1.60it/s]\u001b[A\n",
      "DDIM Sampler:  60%|██████    | 12/20 [00:07<00:05,  1.60it/s]\u001b[A\n",
      "DDIM Sampler:  65%|██████▌   | 13/20 [00:08<00:04,  1.60it/s]\u001b[A\n",
      "DDIM Sampler:  70%|███████   | 14/20 [00:08<00:03,  1.60it/s]\u001b[A\n",
      "DDIM Sampler:  75%|███████▌  | 15/20 [00:09<00:03,  1.60it/s]\u001b[A\n",
      "DDIM Sampler:  80%|████████  | 16/20 [00:10<00:02,  1.60it/s]\u001b[A\n",
      "DDIM Sampler:  85%|████████▌ | 17/20 [00:10<00:01,  1.60it/s]\u001b[A\n",
      "DDIM Sampler:  90%|█████████ | 18/20 [00:11<00:01,  1.60it/s]\u001b[A\n",
      "DDIM Sampler:  95%|█████████▌| 19/20 [00:11<00:00,  1.60it/s]\u001b[A\n",
      "DDIM Sampler: 100%|██████████| 20/20 [00:12<00:00,  1.60it/s]\u001b[A\n",
      "Global seed set to 33281\n"
     ]
    },
    {
     "name": "stdout",
     "output_type": "stream",
     "text": [
      "Data shape for DDIM sampling is (2, 4, 64, 96), eta 0.0\n",
      "Running DDIM Sampling with 20 timesteps\n"
     ]
    },
    {
     "name": "stderr",
     "output_type": "stream",
     "text": [
      "\n",
      "DDIM Sampler:   0%|          | 0/20 [00:00<?, ?it/s]\u001b[A\n",
      "DDIM Sampler:   5%|▌         | 1/20 [00:01<00:22,  1.17s/it]\u001b[A\n",
      "DDIM Sampler:  10%|█         | 2/20 [00:02<00:20,  1.17s/it]\u001b[A\n",
      "DDIM Sampler:  15%|█▌        | 3/20 [00:03<00:19,  1.16s/it]\u001b[A\n",
      "DDIM Sampler:  20%|██        | 4/20 [00:04<00:18,  1.16s/it]\u001b[A\n",
      "DDIM Sampler:  25%|██▌       | 5/20 [00:05<00:17,  1.16s/it]\u001b[A\n",
      "DDIM Sampler:  30%|███       | 6/20 [00:06<00:16,  1.16s/it]\u001b[A\n",
      "DDIM Sampler:  35%|███▌      | 7/20 [00:08<00:15,  1.16s/it]\u001b[A\n",
      "DDIM Sampler:  40%|████      | 8/20 [00:09<00:13,  1.16s/it]\u001b[A\n",
      "DDIM Sampler:  45%|████▌     | 9/20 [00:10<00:12,  1.16s/it]\u001b[A\n",
      "DDIM Sampler:  50%|█████     | 10/20 [00:11<00:11,  1.16s/it]\u001b[A\n",
      "DDIM Sampler:  55%|█████▌    | 11/20 [00:12<00:10,  1.16s/it]\u001b[A\n",
      "DDIM Sampler:  60%|██████    | 12/20 [00:13<00:09,  1.16s/it]\u001b[A\n",
      "DDIM Sampler:  65%|██████▌   | 13/20 [00:15<00:08,  1.16s/it]\u001b[A\n",
      "DDIM Sampler:  70%|███████   | 14/20 [00:16<00:06,  1.16s/it]\u001b[A\n",
      "DDIM Sampler:  75%|███████▌  | 15/20 [00:17<00:05,  1.16s/it]\u001b[A\n",
      "DDIM Sampler:  80%|████████  | 16/20 [00:18<00:04,  1.16s/it]\u001b[A\n",
      "DDIM Sampler:  85%|████████▌ | 17/20 [00:19<00:03,  1.16s/it]\u001b[A\n",
      "DDIM Sampler:  90%|█████████ | 18/20 [00:20<00:02,  1.16s/it]\u001b[A\n",
      "DDIM Sampler:  95%|█████████▌| 19/20 [00:22<00:01,  1.16s/it]\u001b[A\n",
      "DDIM Sampler: 100%|██████████| 20/20 [00:23<00:00,  1.16s/it]\u001b[A\n",
      "Global seed set to 9181\n"
     ]
    },
    {
     "name": "stdout",
     "output_type": "stream",
     "text": [
      "Data shape for DDIM sampling is (2, 4, 64, 64), eta 0.0\n",
      "Running DDIM Sampling with 20 timesteps\n"
     ]
    },
    {
     "name": "stderr",
     "output_type": "stream",
     "text": [
      "\n",
      "DDIM Sampler:   0%|          | 0/20 [00:00<?, ?it/s]\u001b[A\n",
      "DDIM Sampler:   5%|▌         | 1/20 [00:00<00:11,  1.63it/s]\u001b[A\n",
      "DDIM Sampler:  10%|█         | 2/20 [00:01<00:11,  1.59it/s]\u001b[A\n",
      "DDIM Sampler:  15%|█▌        | 3/20 [00:01<00:10,  1.59it/s]\u001b[A\n",
      "DDIM Sampler:  20%|██        | 4/20 [00:02<00:10,  1.60it/s]\u001b[A\n",
      "DDIM Sampler:  25%|██▌       | 5/20 [00:03<00:09,  1.59it/s]\u001b[A\n",
      "DDIM Sampler:  30%|███       | 6/20 [00:03<00:08,  1.60it/s]\u001b[A\n",
      "DDIM Sampler:  35%|███▌      | 7/20 [00:04<00:08,  1.59it/s]\u001b[A\n",
      "DDIM Sampler:  40%|████      | 8/20 [00:05<00:07,  1.59it/s]\u001b[A\n",
      "DDIM Sampler:  45%|████▌     | 9/20 [00:05<00:06,  1.60it/s]\u001b[A\n",
      "DDIM Sampler:  50%|█████     | 10/20 [00:06<00:06,  1.60it/s]\u001b[A\n",
      "DDIM Sampler:  55%|█████▌    | 11/20 [00:06<00:05,  1.60it/s]\u001b[A\n",
      "DDIM Sampler:  60%|██████    | 12/20 [00:07<00:05,  1.60it/s]\u001b[A\n",
      "DDIM Sampler:  65%|██████▌   | 13/20 [00:08<00:04,  1.60it/s]\u001b[A\n",
      "DDIM Sampler:  70%|███████   | 14/20 [00:08<00:03,  1.60it/s]\u001b[A\n",
      "DDIM Sampler:  75%|███████▌  | 15/20 [00:09<00:03,  1.59it/s]\u001b[A\n",
      "DDIM Sampler:  80%|████████  | 16/20 [00:10<00:02,  1.60it/s]\u001b[A\n",
      "DDIM Sampler:  85%|████████▌ | 17/20 [00:10<00:01,  1.60it/s]\u001b[A\n",
      "DDIM Sampler:  90%|█████████ | 18/20 [00:11<00:01,  1.60it/s]\u001b[A\n",
      "DDIM Sampler:  95%|█████████▌| 19/20 [00:11<00:00,  1.60it/s]\u001b[A\n",
      "DDIM Sampler: 100%|██████████| 20/20 [00:12<00:00,  1.60it/s]\u001b[A\n",
      "Global seed set to 64188\n"
     ]
    },
    {
     "name": "stdout",
     "output_type": "stream",
     "text": [
      "Data shape for DDIM sampling is (2, 4, 64, 64), eta 0.0\n",
      "Running DDIM Sampling with 20 timesteps\n"
     ]
    },
    {
     "name": "stderr",
     "output_type": "stream",
     "text": [
      "\n",
      "DDIM Sampler:   0%|          | 0/20 [00:00<?, ?it/s]\u001b[A\n",
      "DDIM Sampler:   5%|▌         | 1/20 [00:00<00:11,  1.63it/s]\u001b[A\n",
      "DDIM Sampler:  10%|█         | 2/20 [00:01<00:11,  1.59it/s]\u001b[A\n",
      "DDIM Sampler:  15%|█▌        | 3/20 [00:01<00:10,  1.59it/s]\u001b[A\n",
      "DDIM Sampler:  20%|██        | 4/20 [00:02<00:10,  1.60it/s]\u001b[A\n",
      "DDIM Sampler:  25%|██▌       | 5/20 [00:03<00:09,  1.59it/s]\u001b[A\n",
      "DDIM Sampler:  30%|███       | 6/20 [00:03<00:08,  1.60it/s]\u001b[A\n",
      "DDIM Sampler:  35%|███▌      | 7/20 [00:04<00:08,  1.59it/s]\u001b[A\n",
      "DDIM Sampler:  40%|████      | 8/20 [00:05<00:07,  1.59it/s]\u001b[A\n",
      "DDIM Sampler:  45%|████▌     | 9/20 [00:05<00:06,  1.60it/s]\u001b[A\n",
      "DDIM Sampler:  50%|█████     | 10/20 [00:06<00:06,  1.59it/s]\u001b[A\n",
      "DDIM Sampler:  55%|█████▌    | 11/20 [00:06<00:05,  1.60it/s]\u001b[A\n",
      "DDIM Sampler:  60%|██████    | 12/20 [00:07<00:05,  1.60it/s]\u001b[A\n",
      "DDIM Sampler:  65%|██████▌   | 13/20 [00:08<00:04,  1.60it/s]\u001b[A\n",
      "DDIM Sampler:  70%|███████   | 14/20 [00:08<00:03,  1.60it/s]\u001b[A\n",
      "DDIM Sampler:  75%|███████▌  | 15/20 [00:09<00:03,  1.60it/s]\u001b[A\n",
      "DDIM Sampler:  80%|████████  | 16/20 [00:10<00:02,  1.60it/s]\u001b[A\n",
      "DDIM Sampler:  85%|████████▌ | 17/20 [00:10<00:01,  1.60it/s]\u001b[A\n",
      "DDIM Sampler:  90%|█████████ | 18/20 [00:11<00:01,  1.60it/s]\u001b[A\n",
      "DDIM Sampler:  95%|█████████▌| 19/20 [00:11<00:00,  1.60it/s]\u001b[A\n",
      "DDIM Sampler: 100%|██████████| 20/20 [00:12<00:00,  1.60it/s]\u001b[A\n",
      "Global seed set to 10533\n"
     ]
    },
    {
     "name": "stdout",
     "output_type": "stream",
     "text": [
      "Data shape for DDIM sampling is (2, 4, 64, 64), eta 0.0\n",
      "Running DDIM Sampling with 20 timesteps\n"
     ]
    },
    {
     "name": "stderr",
     "output_type": "stream",
     "text": [
      "\n",
      "DDIM Sampler:   0%|          | 0/20 [00:00<?, ?it/s]\u001b[A\n",
      "DDIM Sampler:   5%|▌         | 1/20 [00:00<00:11,  1.64it/s]\u001b[A\n",
      "DDIM Sampler:  10%|█         | 2/20 [00:01<00:11,  1.59it/s]\u001b[A\n",
      "DDIM Sampler:  15%|█▌        | 3/20 [00:01<00:10,  1.59it/s]\u001b[A\n",
      "DDIM Sampler:  20%|██        | 4/20 [00:02<00:10,  1.60it/s]\u001b[A\n",
      "DDIM Sampler:  25%|██▌       | 5/20 [00:03<00:09,  1.59it/s]\u001b[A\n",
      "DDIM Sampler:  30%|███       | 6/20 [00:03<00:08,  1.60it/s]\u001b[A\n",
      "DDIM Sampler:  35%|███▌      | 7/20 [00:04<00:08,  1.60it/s]\u001b[A\n",
      "DDIM Sampler:  40%|████      | 8/20 [00:05<00:07,  1.60it/s]\u001b[A\n",
      "DDIM Sampler:  45%|████▌     | 9/20 [00:05<00:06,  1.60it/s]\u001b[A\n",
      "DDIM Sampler:  50%|█████     | 10/20 [00:06<00:06,  1.60it/s]\u001b[A\n",
      "DDIM Sampler:  55%|█████▌    | 11/20 [00:06<00:05,  1.60it/s]\u001b[A\n",
      "DDIM Sampler:  60%|██████    | 12/20 [00:07<00:05,  1.60it/s]\u001b[A\n",
      "DDIM Sampler:  65%|██████▌   | 13/20 [00:08<00:04,  1.60it/s]\u001b[A\n",
      "DDIM Sampler:  70%|███████   | 14/20 [00:08<00:03,  1.60it/s]\u001b[A\n",
      "DDIM Sampler:  75%|███████▌  | 15/20 [00:09<00:03,  1.60it/s]\u001b[A\n",
      "DDIM Sampler:  80%|████████  | 16/20 [00:10<00:02,  1.60it/s]\u001b[A\n",
      "DDIM Sampler:  85%|████████▌ | 17/20 [00:10<00:01,  1.60it/s]\u001b[A\n",
      "DDIM Sampler:  90%|█████████ | 18/20 [00:11<00:01,  1.60it/s]\u001b[A\n",
      "DDIM Sampler:  95%|█████████▌| 19/20 [00:11<00:00,  1.60it/s]\u001b[A\n",
      "DDIM Sampler: 100%|██████████| 20/20 [00:12<00:00,  1.60it/s]\u001b[A\n",
      "Global seed set to 31808\n"
     ]
    },
    {
     "name": "stdout",
     "output_type": "stream",
     "text": [
      "Data shape for DDIM sampling is (2, 4, 64, 64), eta 0.0\n",
      "Running DDIM Sampling with 20 timesteps\n"
     ]
    },
    {
     "name": "stderr",
     "output_type": "stream",
     "text": [
      "\n",
      "DDIM Sampler:   0%|          | 0/20 [00:00<?, ?it/s]\u001b[A\n",
      "DDIM Sampler:   5%|▌         | 1/20 [00:00<00:11,  1.64it/s]\u001b[A\n",
      "DDIM Sampler:  10%|█         | 2/20 [00:01<00:11,  1.59it/s]\u001b[A\n",
      "DDIM Sampler:  15%|█▌        | 3/20 [00:01<00:10,  1.59it/s]\u001b[A\n",
      "DDIM Sampler:  20%|██        | 4/20 [00:02<00:10,  1.60it/s]\u001b[A\n",
      "DDIM Sampler:  25%|██▌       | 5/20 [00:03<00:09,  1.59it/s]\u001b[A\n",
      "DDIM Sampler:  30%|███       | 6/20 [00:03<00:08,  1.60it/s]\u001b[A\n",
      "DDIM Sampler:  35%|███▌      | 7/20 [00:04<00:08,  1.59it/s]\u001b[A\n",
      "DDIM Sampler:  40%|████      | 8/20 [00:05<00:07,  1.60it/s]\u001b[A\n",
      "DDIM Sampler:  45%|████▌     | 9/20 [00:05<00:06,  1.60it/s]\u001b[A\n",
      "DDIM Sampler:  50%|█████     | 10/20 [00:06<00:06,  1.59it/s]\u001b[A\n",
      "DDIM Sampler:  55%|█████▌    | 11/20 [00:06<00:05,  1.59it/s]\u001b[A\n",
      "DDIM Sampler:  60%|██████    | 12/20 [00:07<00:05,  1.59it/s]\u001b[A\n",
      "DDIM Sampler:  65%|██████▌   | 13/20 [00:08<00:04,  1.59it/s]\u001b[A\n",
      "DDIM Sampler:  70%|███████   | 14/20 [00:08<00:03,  1.60it/s]\u001b[A\n",
      "DDIM Sampler:  75%|███████▌  | 15/20 [00:09<00:03,  1.59it/s]\u001b[A\n",
      "DDIM Sampler:  80%|████████  | 16/20 [00:10<00:02,  1.60it/s]\u001b[A\n",
      "DDIM Sampler:  85%|████████▌ | 17/20 [00:10<00:01,  1.60it/s]\u001b[A\n",
      "DDIM Sampler:  90%|█████████ | 18/20 [00:11<00:01,  1.59it/s]\u001b[A\n",
      "DDIM Sampler:  95%|█████████▌| 19/20 [00:11<00:00,  1.59it/s]\u001b[A\n",
      "DDIM Sampler: 100%|██████████| 20/20 [00:12<00:00,  1.60it/s]\u001b[A\n",
      "Global seed set to 33281\n"
     ]
    },
    {
     "name": "stdout",
     "output_type": "stream",
     "text": [
      "Data shape for DDIM sampling is (2, 4, 64, 64), eta 0.0\n",
      "Running DDIM Sampling with 20 timesteps\n"
     ]
    },
    {
     "name": "stderr",
     "output_type": "stream",
     "text": [
      "\n",
      "DDIM Sampler:   0%|          | 0/20 [00:00<?, ?it/s]\u001b[A\n",
      "DDIM Sampler:   5%|▌         | 1/20 [00:00<00:11,  1.63it/s]\u001b[A\n",
      "DDIM Sampler:  10%|█         | 2/20 [00:01<00:11,  1.59it/s]\u001b[A\n",
      "DDIM Sampler:  15%|█▌        | 3/20 [00:01<00:10,  1.59it/s]\u001b[A\n",
      "DDIM Sampler:  20%|██        | 4/20 [00:02<00:10,  1.60it/s]\u001b[A\n",
      "DDIM Sampler:  25%|██▌       | 5/20 [00:03<00:09,  1.59it/s]\u001b[A\n",
      "DDIM Sampler:  30%|███       | 6/20 [00:03<00:08,  1.60it/s]\u001b[A\n",
      "DDIM Sampler:  35%|███▌      | 7/20 [00:04<00:08,  1.60it/s]\u001b[A\n",
      "DDIM Sampler:  40%|████      | 8/20 [00:05<00:07,  1.60it/s]\u001b[A\n",
      "DDIM Sampler:  45%|████▌     | 9/20 [00:05<00:06,  1.60it/s]\u001b[A\n",
      "DDIM Sampler:  50%|█████     | 10/20 [00:06<00:06,  1.60it/s]\u001b[A\n",
      "DDIM Sampler:  55%|█████▌    | 11/20 [00:06<00:05,  1.60it/s]\u001b[A\n",
      "DDIM Sampler:  60%|██████    | 12/20 [00:07<00:04,  1.60it/s]\u001b[A\n",
      "DDIM Sampler:  65%|██████▌   | 13/20 [00:08<00:04,  1.60it/s]\u001b[A\n",
      "DDIM Sampler:  70%|███████   | 14/20 [00:08<00:03,  1.60it/s]\u001b[A\n",
      "DDIM Sampler:  75%|███████▌  | 15/20 [00:09<00:03,  1.60it/s]\u001b[A\n",
      "DDIM Sampler:  80%|████████  | 16/20 [00:10<00:02,  1.60it/s]\u001b[A\n",
      "DDIM Sampler:  85%|████████▌ | 17/20 [00:10<00:01,  1.60it/s]\u001b[A\n",
      "DDIM Sampler:  90%|█████████ | 18/20 [00:11<00:01,  1.60it/s]\u001b[A\n",
      "DDIM Sampler:  95%|█████████▌| 19/20 [00:11<00:00,  1.60it/s]\u001b[A\n",
      "DDIM Sampler: 100%|██████████| 20/20 [00:12<00:00,  1.60it/s]\u001b[A\n",
      "Global seed set to 9181\n"
     ]
    },
    {
     "name": "stdout",
     "output_type": "stream",
     "text": [
      "Data shape for DDIM sampling is (2, 4, 64, 72), eta 0.0\n",
      "Running DDIM Sampling with 20 timesteps\n"
     ]
    },
    {
     "name": "stderr",
     "output_type": "stream",
     "text": [
      "\n",
      "DDIM Sampler:   0%|          | 0/20 [00:00<?, ?it/s]\u001b[A\n",
      "DDIM Sampler:   5%|▌         | 1/20 [00:00<00:14,  1.35it/s]\u001b[A\n",
      "DDIM Sampler:  10%|█         | 2/20 [00:01<00:13,  1.33it/s]\u001b[A\n",
      "DDIM Sampler:  15%|█▌        | 3/20 [00:02<00:12,  1.33it/s]\u001b[A\n",
      "DDIM Sampler:  20%|██        | 4/20 [00:03<00:12,  1.33it/s]\u001b[A\n",
      "DDIM Sampler:  25%|██▌       | 5/20 [00:03<00:11,  1.33it/s]\u001b[A\n",
      "DDIM Sampler:  30%|███       | 6/20 [00:04<00:10,  1.33it/s]\u001b[A\n",
      "DDIM Sampler:  35%|███▌      | 7/20 [00:05<00:09,  1.33it/s]\u001b[A\n",
      "DDIM Sampler:  40%|████      | 8/20 [00:06<00:09,  1.33it/s]\u001b[A\n",
      "DDIM Sampler:  45%|████▌     | 9/20 [00:06<00:08,  1.33it/s]\u001b[A\n",
      "DDIM Sampler:  50%|█████     | 10/20 [00:07<00:07,  1.33it/s]\u001b[A\n",
      "DDIM Sampler:  55%|█████▌    | 11/20 [00:08<00:06,  1.33it/s]\u001b[A\n",
      "DDIM Sampler:  60%|██████    | 12/20 [00:09<00:06,  1.33it/s]\u001b[A\n",
      "DDIM Sampler:  65%|██████▌   | 13/20 [00:09<00:05,  1.33it/s]\u001b[A\n",
      "DDIM Sampler:  70%|███████   | 14/20 [00:10<00:04,  1.33it/s]\u001b[A\n",
      "DDIM Sampler:  75%|███████▌  | 15/20 [00:11<00:03,  1.33it/s]\u001b[A\n",
      "DDIM Sampler:  80%|████████  | 16/20 [00:12<00:03,  1.33it/s]\u001b[A\n",
      "DDIM Sampler:  85%|████████▌ | 17/20 [00:12<00:02,  1.33it/s]\u001b[A\n",
      "DDIM Sampler:  90%|█████████ | 18/20 [00:13<00:01,  1.33it/s]\u001b[A\n",
      "DDIM Sampler:  95%|█████████▌| 19/20 [00:14<00:00,  1.33it/s]\u001b[A\n",
      "DDIM Sampler: 100%|██████████| 20/20 [00:15<00:00,  1.33it/s]\u001b[A\n",
      "Global seed set to 64188\n"
     ]
    },
    {
     "name": "stdout",
     "output_type": "stream",
     "text": [
      "Data shape for DDIM sampling is (2, 4, 64, 112), eta 0.0\n",
      "Running DDIM Sampling with 20 timesteps\n"
     ]
    },
    {
     "name": "stderr",
     "output_type": "stream",
     "text": [
      "\n",
      "DDIM Sampler:   0%|          | 0/20 [00:00<?, ?it/s]\u001b[A\n",
      "DDIM Sampler:   5%|▌         | 1/20 [00:01<00:28,  1.51s/it]\u001b[A\n",
      "DDIM Sampler:  10%|█         | 2/20 [00:03<00:27,  1.51s/it]\u001b[A\n",
      "DDIM Sampler:  15%|█▌        | 3/20 [00:04<00:25,  1.51s/it]\u001b[A\n",
      "DDIM Sampler:  20%|██        | 4/20 [00:06<00:24,  1.51s/it]\u001b[A\n",
      "DDIM Sampler:  25%|██▌       | 5/20 [00:07<00:22,  1.51s/it]\u001b[A\n",
      "DDIM Sampler:  30%|███       | 6/20 [00:09<00:21,  1.51s/it]\u001b[A\n",
      "DDIM Sampler:  35%|███▌      | 7/20 [00:10<00:19,  1.51s/it]\u001b[A\n",
      "DDIM Sampler:  40%|████      | 8/20 [00:12<00:18,  1.51s/it]\u001b[A\n",
      "DDIM Sampler:  45%|████▌     | 9/20 [00:13<00:16,  1.51s/it]\u001b[A\n",
      "DDIM Sampler:  50%|█████     | 10/20 [00:15<00:15,  1.51s/it]\u001b[A\n",
      "DDIM Sampler:  55%|█████▌    | 11/20 [00:16<00:13,  1.51s/it]\u001b[A\n",
      "DDIM Sampler:  60%|██████    | 12/20 [00:18<00:12,  1.51s/it]\u001b[A\n",
      "DDIM Sampler:  65%|██████▌   | 13/20 [00:19<00:10,  1.51s/it]\u001b[A\n",
      "DDIM Sampler:  70%|███████   | 14/20 [00:21<00:09,  1.51s/it]\u001b[A\n",
      "DDIM Sampler:  75%|███████▌  | 15/20 [00:22<00:07,  1.51s/it]\u001b[A\n",
      "DDIM Sampler:  80%|████████  | 16/20 [00:24<00:06,  1.51s/it]\u001b[A\n",
      "DDIM Sampler:  85%|████████▌ | 17/20 [00:25<00:04,  1.51s/it]\u001b[A\n",
      "DDIM Sampler:  90%|█████████ | 18/20 [00:27<00:03,  1.51s/it]\u001b[A\n",
      "DDIM Sampler:  95%|█████████▌| 19/20 [00:28<00:01,  1.51s/it]\u001b[A\n",
      "DDIM Sampler: 100%|██████████| 20/20 [00:30<00:00,  1.51s/it]\u001b[A\n",
      "Global seed set to 10533\n"
     ]
    },
    {
     "name": "stdout",
     "output_type": "stream",
     "text": [
      "Data shape for DDIM sampling is (2, 4, 64, 96), eta 0.0\n",
      "Running DDIM Sampling with 20 timesteps\n"
     ]
    },
    {
     "name": "stderr",
     "output_type": "stream",
     "text": [
      "\n",
      "DDIM Sampler:   0%|          | 0/20 [00:00<?, ?it/s]\u001b[A\n",
      "DDIM Sampler:   5%|▌         | 1/20 [00:01<00:22,  1.17s/it]\u001b[A\n",
      "DDIM Sampler:  10%|█         | 2/20 [00:02<00:20,  1.16s/it]\u001b[A\n",
      "DDIM Sampler:  15%|█▌        | 3/20 [00:03<00:19,  1.16s/it]\u001b[A\n",
      "DDIM Sampler:  20%|██        | 4/20 [00:04<00:18,  1.16s/it]\u001b[A\n",
      "DDIM Sampler:  25%|██▌       | 5/20 [00:05<00:17,  1.16s/it]\u001b[A\n",
      "DDIM Sampler:  30%|███       | 6/20 [00:06<00:16,  1.16s/it]\u001b[A\n",
      "DDIM Sampler:  35%|███▌      | 7/20 [00:08<00:15,  1.16s/it]\u001b[A\n",
      "DDIM Sampler:  40%|████      | 8/20 [00:09<00:13,  1.16s/it]\u001b[A\n",
      "DDIM Sampler:  45%|████▌     | 9/20 [00:10<00:12,  1.16s/it]\u001b[A\n",
      "DDIM Sampler:  50%|█████     | 10/20 [00:11<00:11,  1.16s/it]\u001b[A\n",
      "DDIM Sampler:  55%|█████▌    | 11/20 [00:12<00:10,  1.16s/it]\u001b[A\n",
      "DDIM Sampler:  60%|██████    | 12/20 [00:13<00:09,  1.16s/it]\u001b[A\n",
      "DDIM Sampler:  65%|██████▌   | 13/20 [00:15<00:08,  1.16s/it]\u001b[A\n",
      "DDIM Sampler:  70%|███████   | 14/20 [00:16<00:06,  1.16s/it]\u001b[A\n",
      "DDIM Sampler:  75%|███████▌  | 15/20 [00:17<00:05,  1.16s/it]\u001b[A\n",
      "DDIM Sampler:  80%|████████  | 16/20 [00:18<00:04,  1.16s/it]\u001b[A\n",
      "DDIM Sampler:  85%|████████▌ | 17/20 [00:19<00:03,  1.16s/it]\u001b[A\n",
      "DDIM Sampler:  90%|█████████ | 18/20 [00:20<00:02,  1.16s/it]\u001b[A\n",
      "DDIM Sampler:  95%|█████████▌| 19/20 [00:22<00:01,  1.16s/it]\u001b[A\n",
      "DDIM Sampler: 100%|██████████| 20/20 [00:23<00:00,  1.16s/it]\u001b[A\n",
      "Global seed set to 31808\n"
     ]
    },
    {
     "name": "stdout",
     "output_type": "stream",
     "text": [
      "Data shape for DDIM sampling is (2, 4, 64, 64), eta 0.0\n",
      "Running DDIM Sampling with 20 timesteps\n"
     ]
    },
    {
     "name": "stderr",
     "output_type": "stream",
     "text": [
      "\n",
      "DDIM Sampler:   0%|          | 0/20 [00:00<?, ?it/s]\u001b[A\n",
      "DDIM Sampler:   5%|▌         | 1/20 [00:00<00:11,  1.63it/s]\u001b[A\n",
      "DDIM Sampler:  10%|█         | 2/20 [00:01<00:11,  1.59it/s]\u001b[A\n",
      "DDIM Sampler:  15%|█▌        | 3/20 [00:01<00:10,  1.59it/s]\u001b[A\n",
      "DDIM Sampler:  20%|██        | 4/20 [00:02<00:10,  1.60it/s]\u001b[A\n",
      "DDIM Sampler:  25%|██▌       | 5/20 [00:03<00:09,  1.59it/s]\u001b[A\n",
      "DDIM Sampler:  30%|███       | 6/20 [00:03<00:08,  1.60it/s]\u001b[A\n",
      "DDIM Sampler:  35%|███▌      | 7/20 [00:04<00:08,  1.59it/s]\u001b[A\n",
      "DDIM Sampler:  40%|████      | 8/20 [00:05<00:07,  1.60it/s]\u001b[A\n",
      "DDIM Sampler:  45%|████▌     | 9/20 [00:05<00:06,  1.60it/s]\u001b[A\n",
      "DDIM Sampler:  50%|█████     | 10/20 [00:06<00:06,  1.59it/s]\u001b[A\n",
      "DDIM Sampler:  55%|█████▌    | 11/20 [00:06<00:05,  1.60it/s]\u001b[A\n",
      "DDIM Sampler:  60%|██████    | 12/20 [00:07<00:05,  1.60it/s]\u001b[A\n",
      "DDIM Sampler:  65%|██████▌   | 13/20 [00:08<00:04,  1.59it/s]\u001b[A\n",
      "DDIM Sampler:  70%|███████   | 14/20 [00:08<00:03,  1.60it/s]\u001b[A\n",
      "DDIM Sampler:  75%|███████▌  | 15/20 [00:09<00:03,  1.60it/s]\u001b[A\n",
      "DDIM Sampler:  80%|████████  | 16/20 [00:10<00:02,  1.59it/s]\u001b[A\n",
      "DDIM Sampler:  85%|████████▌ | 17/20 [00:10<00:01,  1.60it/s]\u001b[A\n",
      "DDIM Sampler:  90%|█████████ | 18/20 [00:11<00:01,  1.60it/s]\u001b[A\n",
      "DDIM Sampler:  95%|█████████▌| 19/20 [00:11<00:00,  1.60it/s]\u001b[A\n",
      "DDIM Sampler: 100%|██████████| 20/20 [00:12<00:00,  1.60it/s]\u001b[A\n",
      "Global seed set to 33281\n"
     ]
    },
    {
     "name": "stdout",
     "output_type": "stream",
     "text": [
      "Data shape for DDIM sampling is (2, 4, 64, 64), eta 0.0\n",
      "Running DDIM Sampling with 20 timesteps\n"
     ]
    },
    {
     "name": "stderr",
     "output_type": "stream",
     "text": [
      "\n",
      "DDIM Sampler:   0%|          | 0/20 [00:00<?, ?it/s]\u001b[A\n",
      "DDIM Sampler:   5%|▌         | 1/20 [00:00<00:11,  1.63it/s]\u001b[A\n",
      "DDIM Sampler:  10%|█         | 2/20 [00:01<00:11,  1.59it/s]\u001b[A\n",
      "DDIM Sampler:  15%|█▌        | 3/20 [00:01<00:10,  1.59it/s]\u001b[A\n",
      "DDIM Sampler:  20%|██        | 4/20 [00:02<00:10,  1.60it/s]\u001b[A\n",
      "DDIM Sampler:  25%|██▌       | 5/20 [00:03<00:09,  1.59it/s]\u001b[A\n",
      "DDIM Sampler:  30%|███       | 6/20 [00:03<00:08,  1.60it/s]\u001b[A\n",
      "DDIM Sampler:  35%|███▌      | 7/20 [00:04<00:08,  1.59it/s]\u001b[A\n",
      "DDIM Sampler:  40%|████      | 8/20 [00:05<00:07,  1.59it/s]\u001b[A\n",
      "DDIM Sampler:  45%|████▌     | 9/20 [00:05<00:06,  1.60it/s]\u001b[A\n",
      "DDIM Sampler:  50%|█████     | 10/20 [00:06<00:06,  1.59it/s]\u001b[A\n",
      "DDIM Sampler:  55%|█████▌    | 11/20 [00:06<00:05,  1.59it/s]\u001b[A\n",
      "DDIM Sampler:  60%|██████    | 12/20 [00:07<00:05,  1.59it/s]\u001b[A\n",
      "DDIM Sampler:  65%|██████▌   | 13/20 [00:08<00:04,  1.59it/s]\u001b[A\n",
      "DDIM Sampler:  70%|███████   | 14/20 [00:08<00:03,  1.60it/s]\u001b[A\n",
      "DDIM Sampler:  75%|███████▌  | 15/20 [00:09<00:03,  1.60it/s]\u001b[A\n",
      "DDIM Sampler:  80%|████████  | 16/20 [00:10<00:02,  1.60it/s]\u001b[A\n",
      "DDIM Sampler:  85%|████████▌ | 17/20 [00:10<00:01,  1.60it/s]\u001b[A\n",
      "DDIM Sampler:  90%|█████████ | 18/20 [00:11<00:01,  1.60it/s]\u001b[A\n",
      "DDIM Sampler:  95%|█████████▌| 19/20 [00:11<00:00,  1.60it/s]\u001b[A\n",
      "DDIM Sampler: 100%|██████████| 20/20 [00:12<00:00,  1.60it/s]\u001b[A\n",
      "Global seed set to 9181\n"
     ]
    },
    {
     "name": "stdout",
     "output_type": "stream",
     "text": [
      "Data shape for DDIM sampling is (2, 4, 64, 64), eta 0.0\n",
      "Running DDIM Sampling with 20 timesteps\n"
     ]
    },
    {
     "name": "stderr",
     "output_type": "stream",
     "text": [
      "\n",
      "DDIM Sampler:   0%|          | 0/20 [00:00<?, ?it/s]\u001b[A\n",
      "DDIM Sampler:   5%|▌         | 1/20 [00:00<00:11,  1.63it/s]\u001b[A\n",
      "DDIM Sampler:  10%|█         | 2/20 [00:01<00:11,  1.59it/s]\u001b[A\n",
      "DDIM Sampler:  15%|█▌        | 3/20 [00:01<00:10,  1.59it/s]\u001b[A\n",
      "DDIM Sampler:  20%|██        | 4/20 [00:02<00:10,  1.60it/s]\u001b[A\n",
      "DDIM Sampler:  25%|██▌       | 5/20 [00:03<00:09,  1.59it/s]\u001b[A\n",
      "DDIM Sampler:  30%|███       | 6/20 [00:03<00:08,  1.60it/s]\u001b[A\n",
      "DDIM Sampler:  35%|███▌      | 7/20 [00:04<00:08,  1.60it/s]\u001b[A\n",
      "DDIM Sampler:  40%|████      | 8/20 [00:05<00:07,  1.60it/s]\u001b[A\n",
      "DDIM Sampler:  45%|████▌     | 9/20 [00:05<00:06,  1.60it/s]\u001b[A\n",
      "DDIM Sampler:  50%|█████     | 10/20 [00:06<00:06,  1.60it/s]\u001b[A\n",
      "DDIM Sampler:  55%|█████▌    | 11/20 [00:06<00:05,  1.60it/s]\u001b[A\n",
      "DDIM Sampler:  60%|██████    | 12/20 [00:07<00:05,  1.60it/s]\u001b[A\n",
      "DDIM Sampler:  65%|██████▌   | 13/20 [00:08<00:04,  1.60it/s]\u001b[A\n",
      "DDIM Sampler:  70%|███████   | 14/20 [00:08<00:03,  1.60it/s]\u001b[A\n",
      "DDIM Sampler:  75%|███████▌  | 15/20 [00:09<00:03,  1.60it/s]\u001b[A\n",
      "DDIM Sampler:  80%|████████  | 16/20 [00:10<00:02,  1.60it/s]\u001b[A\n",
      "DDIM Sampler:  85%|████████▌ | 17/20 [00:10<00:01,  1.60it/s]\u001b[A\n",
      "DDIM Sampler:  90%|█████████ | 18/20 [00:11<00:01,  1.60it/s]\u001b[A\n",
      "DDIM Sampler:  95%|█████████▌| 19/20 [00:11<00:00,  1.60it/s]\u001b[A\n",
      "DDIM Sampler: 100%|██████████| 20/20 [00:12<00:00,  1.60it/s]\u001b[A\n",
      "Global seed set to 64188\n"
     ]
    },
    {
     "name": "stdout",
     "output_type": "stream",
     "text": [
      "Data shape for DDIM sampling is (2, 4, 64, 64), eta 0.0\n",
      "Running DDIM Sampling with 20 timesteps\n"
     ]
    },
    {
     "name": "stderr",
     "output_type": "stream",
     "text": [
      "\n",
      "DDIM Sampler:   0%|          | 0/20 [00:00<?, ?it/s]\u001b[A\n",
      "DDIM Sampler:   5%|▌         | 1/20 [00:00<00:11,  1.63it/s]\u001b[A\n",
      "DDIM Sampler:  10%|█         | 2/20 [00:01<00:11,  1.59it/s]\u001b[A\n",
      "DDIM Sampler:  15%|█▌        | 3/20 [00:01<00:10,  1.60it/s]\u001b[A\n",
      "DDIM Sampler:  20%|██        | 4/20 [00:02<00:09,  1.60it/s]\u001b[A\n",
      "DDIM Sampler:  25%|██▌       | 5/20 [00:03<00:09,  1.60it/s]\u001b[A\n",
      "DDIM Sampler:  30%|███       | 6/20 [00:03<00:08,  1.60it/s]\u001b[A\n",
      "DDIM Sampler:  35%|███▌      | 7/20 [00:04<00:08,  1.60it/s]\u001b[A\n",
      "DDIM Sampler:  40%|████      | 8/20 [00:05<00:07,  1.60it/s]\u001b[A\n",
      "DDIM Sampler:  45%|████▌     | 9/20 [00:05<00:06,  1.60it/s]\u001b[A\n",
      "DDIM Sampler:  50%|█████     | 10/20 [00:06<00:06,  1.60it/s]\u001b[A\n",
      "DDIM Sampler:  55%|█████▌    | 11/20 [00:06<00:05,  1.60it/s]\u001b[A\n",
      "DDIM Sampler:  60%|██████    | 12/20 [00:07<00:05,  1.60it/s]\u001b[A\n",
      "DDIM Sampler:  65%|██████▌   | 13/20 [00:08<00:04,  1.60it/s]\u001b[A\n",
      "DDIM Sampler:  70%|███████   | 14/20 [00:08<00:03,  1.60it/s]\u001b[A\n",
      "DDIM Sampler:  75%|███████▌  | 15/20 [00:09<00:03,  1.60it/s]\u001b[A\n",
      "DDIM Sampler:  80%|████████  | 16/20 [00:10<00:02,  1.59it/s]\u001b[A\n",
      "DDIM Sampler:  85%|████████▌ | 17/20 [00:10<00:01,  1.60it/s]\u001b[A\n",
      "DDIM Sampler:  90%|█████████ | 18/20 [00:11<00:01,  1.60it/s]\u001b[A\n",
      "DDIM Sampler:  95%|█████████▌| 19/20 [00:11<00:00,  1.60it/s]\u001b[A\n",
      "DDIM Sampler: 100%|██████████| 20/20 [00:12<00:00,  1.60it/s]\u001b[A\n",
      "Global seed set to 10533\n"
     ]
    },
    {
     "name": "stdout",
     "output_type": "stream",
     "text": [
      "Data shape for DDIM sampling is (2, 4, 64, 64), eta 0.0\n",
      "Running DDIM Sampling with 20 timesteps\n"
     ]
    },
    {
     "name": "stderr",
     "output_type": "stream",
     "text": [
      "\n",
      "DDIM Sampler:   0%|          | 0/20 [00:00<?, ?it/s]\u001b[A\n",
      "DDIM Sampler:   5%|▌         | 1/20 [00:00<00:11,  1.63it/s]\u001b[A\n",
      "DDIM Sampler:  10%|█         | 2/20 [00:01<00:11,  1.59it/s]\u001b[A\n",
      "DDIM Sampler:  15%|█▌        | 3/20 [00:01<00:10,  1.59it/s]\u001b[A\n",
      "DDIM Sampler:  20%|██        | 4/20 [00:02<00:10,  1.60it/s]\u001b[A\n",
      "DDIM Sampler:  25%|██▌       | 5/20 [00:03<00:09,  1.59it/s]\u001b[A\n",
      "DDIM Sampler:  30%|███       | 6/20 [00:03<00:08,  1.60it/s]\u001b[A\n",
      "DDIM Sampler:  35%|███▌      | 7/20 [00:04<00:08,  1.59it/s]\u001b[A\n",
      "DDIM Sampler:  40%|████      | 8/20 [00:05<00:07,  1.59it/s]\u001b[A\n",
      "DDIM Sampler:  45%|████▌     | 9/20 [00:05<00:06,  1.60it/s]\u001b[A\n",
      "DDIM Sampler:  50%|█████     | 10/20 [00:06<00:06,  1.60it/s]\u001b[A\n",
      "DDIM Sampler:  55%|█████▌    | 11/20 [00:06<00:05,  1.59it/s]\u001b[A\n",
      "DDIM Sampler:  60%|██████    | 12/20 [00:07<00:05,  1.60it/s]\u001b[A\n",
      "DDIM Sampler:  65%|██████▌   | 13/20 [00:08<00:04,  1.59it/s]\u001b[A\n",
      "DDIM Sampler:  70%|███████   | 14/20 [00:08<00:03,  1.60it/s]\u001b[A\n",
      "DDIM Sampler:  75%|███████▌  | 15/20 [00:09<00:03,  1.60it/s]\u001b[A\n",
      "DDIM Sampler:  80%|████████  | 16/20 [00:10<00:02,  1.59it/s]\u001b[A\n",
      "DDIM Sampler:  85%|████████▌ | 17/20 [00:10<00:01,  1.60it/s]\u001b[A\n",
      "DDIM Sampler:  90%|█████████ | 18/20 [00:11<00:01,  1.60it/s]\u001b[A\n",
      "DDIM Sampler:  95%|█████████▌| 19/20 [00:11<00:00,  1.60it/s]\u001b[A\n",
      "DDIM Sampler: 100%|██████████| 20/20 [00:12<00:00,  1.60it/s]\u001b[A\n",
      "Global seed set to 31808\n"
     ]
    },
    {
     "name": "stdout",
     "output_type": "stream",
     "text": [
      "Data shape for DDIM sampling is (2, 4, 64, 64), eta 0.0\n",
      "Running DDIM Sampling with 20 timesteps\n"
     ]
    },
    {
     "name": "stderr",
     "output_type": "stream",
     "text": [
      "\n",
      "DDIM Sampler:   0%|          | 0/20 [00:00<?, ?it/s]\u001b[A\n",
      "DDIM Sampler:   5%|▌         | 1/20 [00:00<00:11,  1.64it/s]\u001b[A\n",
      "DDIM Sampler:  10%|█         | 2/20 [00:01<00:11,  1.59it/s]\u001b[A\n",
      "DDIM Sampler:  15%|█▌        | 3/20 [00:01<00:10,  1.59it/s]\u001b[A\n",
      "DDIM Sampler:  20%|██        | 4/20 [00:02<00:10,  1.60it/s]\u001b[A\n",
      "DDIM Sampler:  25%|██▌       | 5/20 [00:03<00:09,  1.59it/s]\u001b[A\n",
      "DDIM Sampler:  30%|███       | 6/20 [00:03<00:08,  1.60it/s]\u001b[A\n",
      "DDIM Sampler:  35%|███▌      | 7/20 [00:04<00:08,  1.59it/s]\u001b[A\n",
      "DDIM Sampler:  40%|████      | 8/20 [00:05<00:07,  1.59it/s]\u001b[A\n",
      "DDIM Sampler:  45%|████▌     | 9/20 [00:05<00:06,  1.60it/s]\u001b[A\n",
      "DDIM Sampler:  50%|█████     | 10/20 [00:06<00:06,  1.59it/s]\u001b[A\n",
      "DDIM Sampler:  55%|█████▌    | 11/20 [00:06<00:05,  1.60it/s]\u001b[A\n",
      "DDIM Sampler:  60%|██████    | 12/20 [00:07<00:05,  1.60it/s]\u001b[A\n",
      "DDIM Sampler:  65%|██████▌   | 13/20 [00:08<00:04,  1.60it/s]\u001b[A\n",
      "DDIM Sampler:  70%|███████   | 14/20 [00:08<00:03,  1.60it/s]\u001b[A\n",
      "DDIM Sampler:  75%|███████▌  | 15/20 [00:09<00:03,  1.60it/s]\u001b[A\n",
      "DDIM Sampler:  80%|████████  | 16/20 [00:10<00:02,  1.59it/s]\u001b[A\n",
      "DDIM Sampler:  85%|████████▌ | 17/20 [00:10<00:01,  1.60it/s]\u001b[A\n",
      "DDIM Sampler:  90%|█████████ | 18/20 [00:11<00:01,  1.60it/s]\u001b[A\n",
      "DDIM Sampler:  95%|█████████▌| 19/20 [00:11<00:00,  1.60it/s]\u001b[A\n",
      "DDIM Sampler: 100%|██████████| 20/20 [00:12<00:00,  1.60it/s]\u001b[A\n",
      "Global seed set to 33281\n"
     ]
    },
    {
     "name": "stdout",
     "output_type": "stream",
     "text": [
      "Data shape for DDIM sampling is (2, 4, 64, 64), eta 0.0\n",
      "Running DDIM Sampling with 20 timesteps\n"
     ]
    },
    {
     "name": "stderr",
     "output_type": "stream",
     "text": [
      "\n",
      "DDIM Sampler:   0%|          | 0/20 [00:00<?, ?it/s]\u001b[A\n",
      "DDIM Sampler:   5%|▌         | 1/20 [00:00<00:11,  1.63it/s]\u001b[A\n",
      "DDIM Sampler:  10%|█         | 2/20 [00:01<00:11,  1.59it/s]\u001b[A\n",
      "DDIM Sampler:  15%|█▌        | 3/20 [00:01<00:10,  1.59it/s]\u001b[A\n",
      "DDIM Sampler:  20%|██        | 4/20 [00:02<00:10,  1.60it/s]\u001b[A\n",
      "DDIM Sampler:  25%|██▌       | 5/20 [00:03<00:09,  1.59it/s]\u001b[A\n",
      "DDIM Sampler:  30%|███       | 6/20 [00:03<00:08,  1.60it/s]\u001b[A\n",
      "DDIM Sampler:  35%|███▌      | 7/20 [00:04<00:08,  1.60it/s]\u001b[A\n",
      "DDIM Sampler:  40%|████      | 8/20 [00:05<00:07,  1.59it/s]\u001b[A\n",
      "DDIM Sampler:  45%|████▌     | 9/20 [00:05<00:06,  1.60it/s]\u001b[A\n",
      "DDIM Sampler:  50%|█████     | 10/20 [00:06<00:06,  1.60it/s]\u001b[A\n",
      "DDIM Sampler:  55%|█████▌    | 11/20 [00:06<00:05,  1.59it/s]\u001b[A\n",
      "DDIM Sampler:  60%|██████    | 12/20 [00:07<00:05,  1.60it/s]\u001b[A\n",
      "DDIM Sampler:  65%|██████▌   | 13/20 [00:08<00:04,  1.60it/s]\u001b[A\n",
      "DDIM Sampler:  70%|███████   | 14/20 [00:08<00:03,  1.59it/s]\u001b[A\n",
      "DDIM Sampler:  75%|███████▌  | 15/20 [00:09<00:03,  1.60it/s]\u001b[A\n",
      "DDIM Sampler:  80%|████████  | 16/20 [00:10<00:02,  1.60it/s]\u001b[A\n",
      "DDIM Sampler:  85%|████████▌ | 17/20 [00:10<00:01,  1.59it/s]\u001b[A\n",
      "DDIM Sampler:  90%|█████████ | 18/20 [00:11<00:01,  1.60it/s]\u001b[A\n",
      "DDIM Sampler:  95%|█████████▌| 19/20 [00:11<00:00,  1.60it/s]\u001b[A\n",
      "DDIM Sampler: 100%|██████████| 20/20 [00:12<00:00,  1.60it/s]\u001b[A\n",
      "Global seed set to 9181\n"
     ]
    },
    {
     "name": "stdout",
     "output_type": "stream",
     "text": [
      "Data shape for DDIM sampling is (2, 4, 72, 64), eta 0.0\n",
      "Running DDIM Sampling with 20 timesteps\n"
     ]
    },
    {
     "name": "stderr",
     "output_type": "stream",
     "text": [
      "\n",
      "DDIM Sampler:   0%|          | 0/20 [00:00<?, ?it/s]\u001b[A\n",
      "DDIM Sampler:   5%|▌         | 1/20 [00:00<00:13,  1.37it/s]\u001b[A\n",
      "DDIM Sampler:  10%|█         | 2/20 [00:01<00:13,  1.34it/s]\u001b[A\n",
      "DDIM Sampler:  15%|█▌        | 3/20 [00:02<00:12,  1.33it/s]\u001b[A\n",
      "DDIM Sampler:  20%|██        | 4/20 [00:02<00:11,  1.33it/s]\u001b[A\n",
      "DDIM Sampler:  25%|██▌       | 5/20 [00:03<00:11,  1.34it/s]\u001b[A\n",
      "DDIM Sampler:  30%|███       | 6/20 [00:04<00:10,  1.34it/s]\u001b[A\n",
      "DDIM Sampler:  35%|███▌      | 7/20 [00:05<00:09,  1.34it/s]\u001b[A\n",
      "DDIM Sampler:  40%|████      | 8/20 [00:05<00:08,  1.34it/s]\u001b[A\n",
      "DDIM Sampler:  45%|████▌     | 9/20 [00:06<00:08,  1.34it/s]\u001b[A\n",
      "DDIM Sampler:  50%|█████     | 10/20 [00:07<00:07,  1.34it/s]\u001b[A\n",
      "DDIM Sampler:  55%|█████▌    | 11/20 [00:08<00:06,  1.34it/s]\u001b[A\n",
      "DDIM Sampler:  60%|██████    | 12/20 [00:08<00:05,  1.34it/s]\u001b[A\n",
      "DDIM Sampler:  65%|██████▌   | 13/20 [00:09<00:05,  1.34it/s]\u001b[A\n",
      "DDIM Sampler:  70%|███████   | 14/20 [00:10<00:04,  1.33it/s]\u001b[A\n",
      "DDIM Sampler:  75%|███████▌  | 15/20 [00:11<00:03,  1.33it/s]\u001b[A\n",
      "DDIM Sampler:  80%|████████  | 16/20 [00:11<00:02,  1.34it/s]\u001b[A\n",
      "DDIM Sampler:  85%|████████▌ | 17/20 [00:12<00:02,  1.34it/s]\u001b[A\n",
      "DDIM Sampler:  90%|█████████ | 18/20 [00:13<00:01,  1.34it/s]\u001b[A\n",
      "DDIM Sampler:  95%|█████████▌| 19/20 [00:14<00:00,  1.34it/s]\u001b[A\n",
      "DDIM Sampler: 100%|██████████| 20/20 [00:14<00:00,  1.34it/s]\u001b[A\n",
      "Global seed set to 64188\n"
     ]
    },
    {
     "name": "stdout",
     "output_type": "stream",
     "text": [
      "Data shape for DDIM sampling is (2, 4, 64, 64), eta 0.0\n",
      "Running DDIM Sampling with 20 timesteps\n"
     ]
    },
    {
     "name": "stderr",
     "output_type": "stream",
     "text": [
      "\n",
      "DDIM Sampler:   0%|          | 0/20 [00:00<?, ?it/s]\u001b[A\n",
      "DDIM Sampler:   5%|▌         | 1/20 [00:00<00:11,  1.63it/s]\u001b[A\n",
      "DDIM Sampler:  10%|█         | 2/20 [00:01<00:11,  1.59it/s]\u001b[A\n",
      "DDIM Sampler:  15%|█▌        | 3/20 [00:01<00:10,  1.59it/s]\u001b[A\n",
      "DDIM Sampler:  20%|██        | 4/20 [00:02<00:10,  1.60it/s]\u001b[A\n",
      "DDIM Sampler:  25%|██▌       | 5/20 [00:03<00:09,  1.60it/s]\u001b[A\n",
      "DDIM Sampler:  30%|███       | 6/20 [00:03<00:08,  1.60it/s]\u001b[A\n",
      "DDIM Sampler:  35%|███▌      | 7/20 [00:04<00:08,  1.60it/s]\u001b[A\n",
      "DDIM Sampler:  40%|████      | 8/20 [00:05<00:07,  1.60it/s]\u001b[A\n",
      "DDIM Sampler:  45%|████▌     | 9/20 [00:05<00:06,  1.60it/s]\u001b[A\n",
      "DDIM Sampler:  50%|█████     | 10/20 [00:06<00:06,  1.59it/s]\u001b[A\n",
      "DDIM Sampler:  55%|█████▌    | 11/20 [00:06<00:05,  1.60it/s]\u001b[A\n",
      "DDIM Sampler:  60%|██████    | 12/20 [00:07<00:05,  1.60it/s]\u001b[A\n",
      "DDIM Sampler:  65%|██████▌   | 13/20 [00:08<00:04,  1.59it/s]\u001b[A\n",
      "DDIM Sampler:  70%|███████   | 14/20 [00:08<00:03,  1.60it/s]\u001b[A\n",
      "DDIM Sampler:  75%|███████▌  | 15/20 [00:09<00:03,  1.60it/s]\u001b[A\n",
      "DDIM Sampler:  80%|████████  | 16/20 [00:10<00:02,  1.59it/s]\u001b[A\n",
      "DDIM Sampler:  85%|████████▌ | 17/20 [00:10<00:01,  1.60it/s]\u001b[A\n",
      "DDIM Sampler:  90%|█████████ | 18/20 [00:11<00:01,  1.60it/s]\u001b[A\n",
      "DDIM Sampler:  95%|█████████▌| 19/20 [00:11<00:00,  1.60it/s]\u001b[A\n",
      "DDIM Sampler: 100%|██████████| 20/20 [00:12<00:00,  1.60it/s]\u001b[A\n",
      "Global seed set to 10533\n"
     ]
    },
    {
     "name": "stdout",
     "output_type": "stream",
     "text": [
      "Data shape for DDIM sampling is (2, 4, 64, 96), eta 0.0\n",
      "Running DDIM Sampling with 20 timesteps\n"
     ]
    },
    {
     "name": "stderr",
     "output_type": "stream",
     "text": [
      "\n",
      "DDIM Sampler:   0%|          | 0/20 [00:00<?, ?it/s]\u001b[A\n",
      "DDIM Sampler:   5%|▌         | 1/20 [00:01<00:22,  1.17s/it]\u001b[A\n",
      "DDIM Sampler:  10%|█         | 2/20 [00:02<00:20,  1.16s/it]\u001b[A\n",
      "DDIM Sampler:  15%|█▌        | 3/20 [00:03<00:19,  1.16s/it]\u001b[A\n",
      "DDIM Sampler:  20%|██        | 4/20 [00:04<00:18,  1.16s/it]\u001b[A\n",
      "DDIM Sampler:  25%|██▌       | 5/20 [00:05<00:17,  1.16s/it]\u001b[A\n",
      "DDIM Sampler:  30%|███       | 6/20 [00:06<00:16,  1.16s/it]\u001b[A\n",
      "DDIM Sampler:  35%|███▌      | 7/20 [00:08<00:15,  1.16s/it]\u001b[A\n",
      "DDIM Sampler:  40%|████      | 8/20 [00:09<00:13,  1.16s/it]\u001b[A\n",
      "DDIM Sampler:  45%|████▌     | 9/20 [00:10<00:12,  1.16s/it]\u001b[A\n",
      "DDIM Sampler:  50%|█████     | 10/20 [00:11<00:11,  1.16s/it]\u001b[A\n",
      "DDIM Sampler:  55%|█████▌    | 11/20 [00:12<00:10,  1.16s/it]\u001b[A\n",
      "DDIM Sampler:  60%|██████    | 12/20 [00:13<00:09,  1.16s/it]\u001b[A\n",
      "DDIM Sampler:  65%|██████▌   | 13/20 [00:15<00:08,  1.16s/it]\u001b[A\n",
      "DDIM Sampler:  70%|███████   | 14/20 [00:16<00:06,  1.16s/it]\u001b[A\n",
      "DDIM Sampler:  75%|███████▌  | 15/20 [00:17<00:05,  1.16s/it]\u001b[A\n",
      "DDIM Sampler:  80%|████████  | 16/20 [00:18<00:04,  1.16s/it]\u001b[A\n",
      "DDIM Sampler:  85%|████████▌ | 17/20 [00:19<00:03,  1.16s/it]\u001b[A\n",
      "DDIM Sampler:  90%|█████████ | 18/20 [00:20<00:02,  1.16s/it]\u001b[A\n",
      "DDIM Sampler:  95%|█████████▌| 19/20 [00:22<00:01,  1.16s/it]\u001b[A\n",
      "DDIM Sampler: 100%|██████████| 20/20 [00:23<00:00,  1.16s/it]\u001b[A\n",
      "Global seed set to 31808\n"
     ]
    },
    {
     "name": "stdout",
     "output_type": "stream",
     "text": [
      "Data shape for DDIM sampling is (2, 4, 64, 64), eta 0.0\n",
      "Running DDIM Sampling with 20 timesteps\n"
     ]
    },
    {
     "name": "stderr",
     "output_type": "stream",
     "text": [
      "\n",
      "DDIM Sampler:   0%|          | 0/20 [00:00<?, ?it/s]\u001b[A\n",
      "DDIM Sampler:   5%|▌         | 1/20 [00:00<00:11,  1.64it/s]\u001b[A\n",
      "DDIM Sampler:  10%|█         | 2/20 [00:01<00:11,  1.59it/s]\u001b[A\n",
      "DDIM Sampler:  15%|█▌        | 3/20 [00:01<00:10,  1.59it/s]\u001b[A\n",
      "DDIM Sampler:  20%|██        | 4/20 [00:02<00:10,  1.60it/s]\u001b[A\n",
      "DDIM Sampler:  25%|██▌       | 5/20 [00:03<00:09,  1.59it/s]\u001b[A\n",
      "DDIM Sampler:  30%|███       | 6/20 [00:03<00:08,  1.60it/s]\u001b[A\n",
      "DDIM Sampler:  35%|███▌      | 7/20 [00:04<00:08,  1.59it/s]\u001b[A\n",
      "DDIM Sampler:  40%|████      | 8/20 [00:05<00:07,  1.60it/s]\u001b[A\n",
      "DDIM Sampler:  45%|████▌     | 9/20 [00:05<00:06,  1.60it/s]\u001b[A\n",
      "DDIM Sampler:  50%|█████     | 10/20 [00:06<00:06,  1.59it/s]\u001b[A\n",
      "DDIM Sampler:  55%|█████▌    | 11/20 [00:06<00:05,  1.60it/s]\u001b[A\n",
      "DDIM Sampler:  60%|██████    | 12/20 [00:07<00:05,  1.60it/s]\u001b[A\n",
      "DDIM Sampler:  65%|██████▌   | 13/20 [00:08<00:04,  1.59it/s]\u001b[A\n",
      "DDIM Sampler:  70%|███████   | 14/20 [00:08<00:03,  1.60it/s]\u001b[A\n",
      "DDIM Sampler:  75%|███████▌  | 15/20 [00:09<00:03,  1.60it/s]\u001b[A\n",
      "DDIM Sampler:  80%|████████  | 16/20 [00:10<00:02,  1.59it/s]\u001b[A\n",
      "DDIM Sampler:  85%|████████▌ | 17/20 [00:10<00:01,  1.60it/s]\u001b[A\n",
      "DDIM Sampler:  90%|█████████ | 18/20 [00:11<00:01,  1.60it/s]\u001b[A\n",
      "DDIM Sampler:  95%|█████████▌| 19/20 [00:11<00:00,  1.60it/s]\u001b[A\n",
      "DDIM Sampler: 100%|██████████| 20/20 [00:12<00:00,  1.60it/s]\u001b[A\n",
      "Global seed set to 33281\n"
     ]
    },
    {
     "name": "stdout",
     "output_type": "stream",
     "text": [
      "Data shape for DDIM sampling is (2, 4, 64, 64), eta 0.0\n",
      "Running DDIM Sampling with 20 timesteps\n"
     ]
    },
    {
     "name": "stderr",
     "output_type": "stream",
     "text": [
      "\n",
      "DDIM Sampler:   0%|          | 0/20 [00:00<?, ?it/s]\u001b[A\n",
      "DDIM Sampler:   5%|▌         | 1/20 [00:00<00:11,  1.64it/s]\u001b[A\n",
      "DDIM Sampler:  10%|█         | 2/20 [00:01<00:11,  1.59it/s]\u001b[A\n",
      "DDIM Sampler:  15%|█▌        | 3/20 [00:01<00:10,  1.59it/s]\u001b[A\n",
      "DDIM Sampler:  20%|██        | 4/20 [00:02<00:10,  1.60it/s]\u001b[A\n",
      "DDIM Sampler:  25%|██▌       | 5/20 [00:03<00:09,  1.59it/s]\u001b[A\n",
      "DDIM Sampler:  30%|███       | 6/20 [00:03<00:08,  1.60it/s]\u001b[A\n",
      "DDIM Sampler:  35%|███▌      | 7/20 [00:04<00:08,  1.60it/s]\u001b[A\n",
      "DDIM Sampler:  40%|████      | 8/20 [00:05<00:07,  1.60it/s]\u001b[A\n",
      "DDIM Sampler:  45%|████▌     | 9/20 [00:05<00:06,  1.60it/s]\u001b[A\n",
      "DDIM Sampler:  50%|█████     | 10/20 [00:06<00:06,  1.60it/s]\u001b[A\n",
      "DDIM Sampler:  55%|█████▌    | 11/20 [00:06<00:05,  1.60it/s]\u001b[A\n",
      "DDIM Sampler:  60%|██████    | 12/20 [00:07<00:05,  1.60it/s]\u001b[A\n",
      "DDIM Sampler:  65%|██████▌   | 13/20 [00:08<00:04,  1.59it/s]\u001b[A\n",
      "DDIM Sampler:  70%|███████   | 14/20 [00:08<00:03,  1.60it/s]\u001b[A\n",
      "DDIM Sampler:  75%|███████▌  | 15/20 [00:09<00:03,  1.60it/s]\u001b[A\n",
      "DDIM Sampler:  80%|████████  | 16/20 [00:10<00:02,  1.60it/s]\u001b[A\n",
      "DDIM Sampler:  85%|████████▌ | 17/20 [00:10<00:01,  1.60it/s]\u001b[A\n",
      "DDIM Sampler:  90%|█████████ | 18/20 [00:11<00:01,  1.60it/s]\u001b[A\n",
      "DDIM Sampler:  95%|█████████▌| 19/20 [00:11<00:00,  1.60it/s]\u001b[A\n",
      "DDIM Sampler: 100%|██████████| 20/20 [00:12<00:00,  1.60it/s]\u001b[A\n",
      "Global seed set to 9181\n"
     ]
    },
    {
     "name": "stdout",
     "output_type": "stream",
     "text": [
      "Data shape for DDIM sampling is (2, 4, 64, 64), eta 0.0\n",
      "Running DDIM Sampling with 20 timesteps\n"
     ]
    },
    {
     "name": "stderr",
     "output_type": "stream",
     "text": [
      "\n",
      "DDIM Sampler:   0%|          | 0/20 [00:00<?, ?it/s]\u001b[A\n",
      "DDIM Sampler:   5%|▌         | 1/20 [00:00<00:11,  1.63it/s]\u001b[A\n",
      "DDIM Sampler:  10%|█         | 2/20 [00:01<00:11,  1.59it/s]\u001b[A\n",
      "DDIM Sampler:  15%|█▌        | 3/20 [00:01<00:10,  1.59it/s]\u001b[A\n",
      "DDIM Sampler:  20%|██        | 4/20 [00:02<00:10,  1.60it/s]\u001b[A\n",
      "DDIM Sampler:  25%|██▌       | 5/20 [00:03<00:09,  1.59it/s]\u001b[A\n",
      "DDIM Sampler:  30%|███       | 6/20 [00:03<00:08,  1.60it/s]\u001b[A\n",
      "DDIM Sampler:  35%|███▌      | 7/20 [00:04<00:08,  1.60it/s]\u001b[A\n",
      "DDIM Sampler:  40%|████      | 8/20 [00:05<00:07,  1.60it/s]\u001b[A\n",
      "DDIM Sampler:  45%|████▌     | 9/20 [00:05<00:06,  1.60it/s]\u001b[A\n",
      "DDIM Sampler:  50%|█████     | 10/20 [00:06<00:06,  1.60it/s]\u001b[A\n",
      "DDIM Sampler:  55%|█████▌    | 11/20 [00:06<00:05,  1.60it/s]\u001b[A\n",
      "DDIM Sampler:  60%|██████    | 12/20 [00:07<00:05,  1.60it/s]\u001b[A\n",
      "DDIM Sampler:  65%|██████▌   | 13/20 [00:08<00:04,  1.60it/s]\u001b[A\n",
      "DDIM Sampler:  70%|███████   | 14/20 [00:08<00:03,  1.60it/s]\u001b[A\n",
      "DDIM Sampler:  75%|███████▌  | 15/20 [00:09<00:03,  1.60it/s]\u001b[A\n",
      "DDIM Sampler:  80%|████████  | 16/20 [00:10<00:02,  1.59it/s]\u001b[A\n",
      "DDIM Sampler:  85%|████████▌ | 17/20 [00:10<00:01,  1.60it/s]\u001b[A\n",
      "DDIM Sampler:  90%|█████████ | 18/20 [00:11<00:01,  1.60it/s]\u001b[A\n",
      "DDIM Sampler:  95%|█████████▌| 19/20 [00:11<00:00,  1.60it/s]\u001b[A\n",
      "DDIM Sampler: 100%|██████████| 20/20 [00:12<00:00,  1.60it/s]\u001b[A\n",
      "Global seed set to 64188\n"
     ]
    },
    {
     "name": "stdout",
     "output_type": "stream",
     "text": [
      "Data shape for DDIM sampling is (2, 4, 64, 64), eta 0.0\n",
      "Running DDIM Sampling with 20 timesteps\n"
     ]
    },
    {
     "name": "stderr",
     "output_type": "stream",
     "text": [
      "\n",
      "DDIM Sampler:   0%|          | 0/20 [00:00<?, ?it/s]\u001b[A\n",
      "DDIM Sampler:   5%|▌         | 1/20 [00:00<00:11,  1.63it/s]\u001b[A\n",
      "DDIM Sampler:  10%|█         | 2/20 [00:01<00:11,  1.59it/s]\u001b[A\n",
      "DDIM Sampler:  15%|█▌        | 3/20 [00:01<00:10,  1.59it/s]\u001b[A\n",
      "DDIM Sampler:  20%|██        | 4/20 [00:02<00:10,  1.60it/s]\u001b[A\n",
      "DDIM Sampler:  25%|██▌       | 5/20 [00:03<00:09,  1.59it/s]\u001b[A\n",
      "DDIM Sampler:  30%|███       | 6/20 [00:03<00:08,  1.60it/s]\u001b[A\n",
      "DDIM Sampler:  35%|███▌      | 7/20 [00:04<00:08,  1.59it/s]\u001b[A\n",
      "DDIM Sampler:  40%|████      | 8/20 [00:05<00:07,  1.59it/s]\u001b[A\n",
      "DDIM Sampler:  45%|████▌     | 9/20 [00:05<00:06,  1.60it/s]\u001b[A\n",
      "DDIM Sampler:  50%|█████     | 10/20 [00:06<00:06,  1.59it/s]\u001b[A\n",
      "DDIM Sampler:  55%|█████▌    | 11/20 [00:06<00:05,  1.59it/s]\u001b[A\n",
      "DDIM Sampler:  60%|██████    | 12/20 [00:07<00:05,  1.60it/s]\u001b[A\n",
      "DDIM Sampler:  65%|██████▌   | 13/20 [00:08<00:04,  1.59it/s]\u001b[A\n",
      "DDIM Sampler:  70%|███████   | 14/20 [00:08<00:03,  1.60it/s]\u001b[A\n",
      "DDIM Sampler:  75%|███████▌  | 15/20 [00:09<00:03,  1.60it/s]\u001b[A\n",
      "DDIM Sampler:  80%|████████  | 16/20 [00:10<00:02,  1.60it/s]\u001b[A\n",
      "DDIM Sampler:  85%|████████▌ | 17/20 [00:10<00:01,  1.60it/s]\u001b[A\n",
      "DDIM Sampler:  90%|█████████ | 18/20 [00:11<00:01,  1.60it/s]\u001b[A\n",
      "DDIM Sampler:  95%|█████████▌| 19/20 [00:11<00:00,  1.60it/s]\u001b[A\n",
      "DDIM Sampler: 100%|██████████| 20/20 [00:12<00:00,  1.60it/s]\u001b[A\n",
      "Global seed set to 10533\n"
     ]
    },
    {
     "name": "stdout",
     "output_type": "stream",
     "text": [
      "Data shape for DDIM sampling is (2, 4, 64, 64), eta 0.0\n",
      "Running DDIM Sampling with 20 timesteps\n"
     ]
    },
    {
     "name": "stderr",
     "output_type": "stream",
     "text": [
      "\n",
      "DDIM Sampler:   0%|          | 0/20 [00:00<?, ?it/s]\u001b[A\n",
      "DDIM Sampler:   5%|▌         | 1/20 [00:00<00:11,  1.63it/s]\u001b[A\n",
      "DDIM Sampler:  10%|█         | 2/20 [00:01<00:11,  1.59it/s]\u001b[A\n",
      "DDIM Sampler:  15%|█▌        | 3/20 [00:01<00:10,  1.60it/s]\u001b[A\n",
      "DDIM Sampler:  20%|██        | 4/20 [00:02<00:10,  1.60it/s]\u001b[A\n",
      "DDIM Sampler:  25%|██▌       | 5/20 [00:03<00:09,  1.60it/s]\u001b[A\n",
      "DDIM Sampler:  30%|███       | 6/20 [00:03<00:08,  1.60it/s]\u001b[A\n",
      "DDIM Sampler:  35%|███▌      | 7/20 [00:04<00:08,  1.60it/s]\u001b[A\n",
      "DDIM Sampler:  40%|████      | 8/20 [00:05<00:07,  1.60it/s]\u001b[A\n",
      "DDIM Sampler:  45%|████▌     | 9/20 [00:05<00:06,  1.60it/s]\u001b[A\n",
      "DDIM Sampler:  50%|█████     | 10/20 [00:06<00:06,  1.60it/s]\u001b[A\n",
      "DDIM Sampler:  55%|█████▌    | 11/20 [00:06<00:05,  1.60it/s]\u001b[A\n",
      "DDIM Sampler:  60%|██████    | 12/20 [00:07<00:05,  1.60it/s]\u001b[A\n",
      "DDIM Sampler:  65%|██████▌   | 13/20 [00:08<00:04,  1.60it/s]\u001b[A\n",
      "DDIM Sampler:  70%|███████   | 14/20 [00:08<00:03,  1.60it/s]\u001b[A\n",
      "DDIM Sampler:  75%|███████▌  | 15/20 [00:09<00:03,  1.60it/s]\u001b[A\n",
      "DDIM Sampler:  80%|████████  | 16/20 [00:10<00:02,  1.60it/s]\u001b[A\n",
      "DDIM Sampler:  85%|████████▌ | 17/20 [00:10<00:01,  1.60it/s]\u001b[A\n",
      "DDIM Sampler:  90%|█████████ | 18/20 [00:11<00:01,  1.60it/s]\u001b[A\n",
      "DDIM Sampler:  95%|█████████▌| 19/20 [00:11<00:00,  1.60it/s]\u001b[A\n",
      "DDIM Sampler: 100%|██████████| 20/20 [00:12<00:00,  1.60it/s]\u001b[A\n",
      "Global seed set to 31808\n"
     ]
    },
    {
     "name": "stdout",
     "output_type": "stream",
     "text": [
      "Data shape for DDIM sampling is (2, 4, 64, 72), eta 0.0\n",
      "Running DDIM Sampling with 20 timesteps\n"
     ]
    },
    {
     "name": "stderr",
     "output_type": "stream",
     "text": [
      "\n",
      "DDIM Sampler:   0%|          | 0/20 [00:00<?, ?it/s]\u001b[A\n",
      "DDIM Sampler:   5%|▌         | 1/20 [00:00<00:13,  1.36it/s]\u001b[A\n",
      "DDIM Sampler:  10%|█         | 2/20 [00:01<00:13,  1.33it/s]\u001b[A\n",
      "DDIM Sampler:  15%|█▌        | 3/20 [00:02<00:12,  1.33it/s]\u001b[A\n",
      "DDIM Sampler:  20%|██        | 4/20 [00:03<00:12,  1.33it/s]\u001b[A\n",
      "DDIM Sampler:  25%|██▌       | 5/20 [00:03<00:11,  1.33it/s]\u001b[A\n",
      "DDIM Sampler:  30%|███       | 6/20 [00:04<00:10,  1.33it/s]\u001b[A\n",
      "DDIM Sampler:  35%|███▌      | 7/20 [00:05<00:09,  1.33it/s]\u001b[A\n",
      "DDIM Sampler:  40%|████      | 8/20 [00:05<00:08,  1.33it/s]\u001b[A\n",
      "DDIM Sampler:  45%|████▌     | 9/20 [00:06<00:08,  1.34it/s]\u001b[A\n",
      "DDIM Sampler:  50%|█████     | 10/20 [00:07<00:07,  1.34it/s]\u001b[A\n",
      "DDIM Sampler:  55%|█████▌    | 11/20 [00:08<00:06,  1.34it/s]\u001b[A\n",
      "DDIM Sampler:  60%|██████    | 12/20 [00:08<00:05,  1.33it/s]\u001b[A\n",
      "DDIM Sampler:  65%|██████▌   | 13/20 [00:09<00:05,  1.33it/s]\u001b[A\n",
      "DDIM Sampler:  70%|███████   | 14/20 [00:10<00:04,  1.34it/s]\u001b[A\n",
      "DDIM Sampler:  75%|███████▌  | 15/20 [00:11<00:03,  1.33it/s]\u001b[A\n",
      "DDIM Sampler:  80%|████████  | 16/20 [00:11<00:02,  1.33it/s]\u001b[A\n",
      "DDIM Sampler:  85%|████████▌ | 17/20 [00:12<00:02,  1.33it/s]\u001b[A\n",
      "DDIM Sampler:  90%|█████████ | 18/20 [00:13<00:01,  1.33it/s]\u001b[A\n",
      "DDIM Sampler:  95%|█████████▌| 19/20 [00:14<00:00,  1.33it/s]\u001b[A\n",
      "DDIM Sampler: 100%|██████████| 20/20 [00:14<00:00,  1.33it/s]\u001b[A\n",
      "Global seed set to 33281\n"
     ]
    },
    {
     "name": "stdout",
     "output_type": "stream",
     "text": [
      "Data shape for DDIM sampling is (2, 4, 64, 112), eta 0.0\n",
      "Running DDIM Sampling with 20 timesteps\n"
     ]
    },
    {
     "name": "stderr",
     "output_type": "stream",
     "text": [
      "\n",
      "DDIM Sampler:   0%|          | 0/20 [00:00<?, ?it/s]\u001b[A\n",
      "DDIM Sampler:   5%|▌         | 1/20 [00:01<00:28,  1.51s/it]\u001b[A\n",
      "DDIM Sampler:  10%|█         | 2/20 [00:03<00:27,  1.51s/it]\u001b[A\n",
      "DDIM Sampler:  15%|█▌        | 3/20 [00:04<00:25,  1.51s/it]\u001b[A\n",
      "DDIM Sampler:  20%|██        | 4/20 [00:06<00:24,  1.51s/it]\u001b[A\n",
      "DDIM Sampler:  25%|██▌       | 5/20 [00:07<00:22,  1.51s/it]\u001b[A\n",
      "DDIM Sampler:  30%|███       | 6/20 [00:09<00:21,  1.51s/it]\u001b[A\n",
      "DDIM Sampler:  35%|███▌      | 7/20 [00:10<00:19,  1.51s/it]\u001b[A\n",
      "DDIM Sampler:  40%|████      | 8/20 [00:12<00:18,  1.51s/it]\u001b[A\n",
      "DDIM Sampler:  45%|████▌     | 9/20 [00:13<00:16,  1.51s/it]\u001b[A\n",
      "DDIM Sampler:  50%|█████     | 10/20 [00:15<00:15,  1.51s/it]\u001b[A\n",
      "DDIM Sampler:  55%|█████▌    | 11/20 [00:16<00:13,  1.51s/it]\u001b[A\n",
      "DDIM Sampler:  60%|██████    | 12/20 [00:18<00:12,  1.51s/it]\u001b[A\n",
      "DDIM Sampler:  65%|██████▌   | 13/20 [00:19<00:10,  1.51s/it]\u001b[A\n",
      "DDIM Sampler:  70%|███████   | 14/20 [00:21<00:09,  1.51s/it]\u001b[A\n",
      "DDIM Sampler:  75%|███████▌  | 15/20 [00:22<00:07,  1.51s/it]\u001b[A\n",
      "DDIM Sampler:  80%|████████  | 16/20 [00:24<00:06,  1.51s/it]\u001b[A\n",
      "DDIM Sampler:  85%|████████▌ | 17/20 [00:25<00:04,  1.51s/it]\u001b[A\n",
      "DDIM Sampler:  90%|█████████ | 18/20 [00:27<00:03,  1.51s/it]\u001b[A\n",
      "DDIM Sampler:  95%|█████████▌| 19/20 [00:28<00:01,  1.51s/it]\u001b[A\n",
      "DDIM Sampler: 100%|██████████| 20/20 [00:30<00:00,  1.51s/it]\u001b[A\n",
      "Global seed set to 9181\n"
     ]
    },
    {
     "name": "stdout",
     "output_type": "stream",
     "text": [
      "Data shape for DDIM sampling is (2, 4, 64, 96), eta 0.0\n",
      "Running DDIM Sampling with 20 timesteps\n"
     ]
    },
    {
     "name": "stderr",
     "output_type": "stream",
     "text": [
      "\n",
      "DDIM Sampler:   0%|          | 0/20 [00:00<?, ?it/s]\u001b[A\n",
      "DDIM Sampler:   5%|▌         | 1/20 [00:01<00:22,  1.17s/it]\u001b[A\n",
      "DDIM Sampler:  10%|█         | 2/20 [00:02<00:20,  1.16s/it]\u001b[A\n",
      "DDIM Sampler:  15%|█▌        | 3/20 [00:03<00:19,  1.16s/it]\u001b[A\n",
      "DDIM Sampler:  20%|██        | 4/20 [00:04<00:18,  1.16s/it]\u001b[A\n",
      "DDIM Sampler:  25%|██▌       | 5/20 [00:05<00:17,  1.16s/it]\u001b[A\n",
      "DDIM Sampler:  30%|███       | 6/20 [00:06<00:16,  1.16s/it]\u001b[A\n",
      "DDIM Sampler:  35%|███▌      | 7/20 [00:08<00:15,  1.16s/it]\u001b[A\n",
      "DDIM Sampler:  40%|████      | 8/20 [00:09<00:13,  1.16s/it]\u001b[A\n",
      "DDIM Sampler:  45%|████▌     | 9/20 [00:10<00:12,  1.16s/it]\u001b[A\n",
      "DDIM Sampler:  50%|█████     | 10/20 [00:11<00:11,  1.16s/it]\u001b[A\n",
      "DDIM Sampler:  55%|█████▌    | 11/20 [00:12<00:10,  1.16s/it]\u001b[A\n",
      "DDIM Sampler:  60%|██████    | 12/20 [00:13<00:09,  1.16s/it]\u001b[A\n",
      "DDIM Sampler:  65%|██████▌   | 13/20 [00:15<00:08,  1.16s/it]\u001b[A\n",
      "DDIM Sampler:  70%|███████   | 14/20 [00:16<00:06,  1.16s/it]\u001b[A\n",
      "DDIM Sampler:  75%|███████▌  | 15/20 [00:17<00:05,  1.16s/it]\u001b[A\n",
      "DDIM Sampler:  80%|████████  | 16/20 [00:18<00:04,  1.16s/it]\u001b[A\n",
      "DDIM Sampler:  85%|████████▌ | 17/20 [00:19<00:03,  1.16s/it]\u001b[A\n",
      "DDIM Sampler:  90%|█████████ | 18/20 [00:20<00:02,  1.16s/it]\u001b[A\n",
      "DDIM Sampler:  95%|█████████▌| 19/20 [00:22<00:01,  1.16s/it]\u001b[A\n",
      "DDIM Sampler: 100%|██████████| 20/20 [00:23<00:00,  1.16s/it]\u001b[A\n",
      "Global seed set to 64188\n"
     ]
    },
    {
     "name": "stdout",
     "output_type": "stream",
     "text": [
      "Data shape for DDIM sampling is (2, 4, 64, 64), eta 0.0\n",
      "Running DDIM Sampling with 20 timesteps\n"
     ]
    },
    {
     "name": "stderr",
     "output_type": "stream",
     "text": [
      "\n",
      "DDIM Sampler:   0%|          | 0/20 [00:00<?, ?it/s]\u001b[A\n",
      "DDIM Sampler:   5%|▌         | 1/20 [00:00<00:11,  1.63it/s]\u001b[A\n",
      "DDIM Sampler:  10%|█         | 2/20 [00:01<00:11,  1.59it/s]\u001b[A\n",
      "DDIM Sampler:  15%|█▌        | 3/20 [00:01<00:10,  1.59it/s]\u001b[A\n",
      "DDIM Sampler:  20%|██        | 4/20 [00:02<00:10,  1.60it/s]\u001b[A\n",
      "DDIM Sampler:  25%|██▌       | 5/20 [00:03<00:09,  1.59it/s]\u001b[A\n",
      "DDIM Sampler:  30%|███       | 6/20 [00:03<00:08,  1.60it/s]\u001b[A\n",
      "DDIM Sampler:  35%|███▌      | 7/20 [00:04<00:08,  1.60it/s]\u001b[A\n",
      "DDIM Sampler:  40%|████      | 8/20 [00:05<00:07,  1.60it/s]\u001b[A\n",
      "DDIM Sampler:  45%|████▌     | 9/20 [00:05<00:06,  1.60it/s]\u001b[A\n",
      "DDIM Sampler:  50%|█████     | 10/20 [00:06<00:06,  1.60it/s]\u001b[A\n",
      "DDIM Sampler:  55%|█████▌    | 11/20 [00:06<00:05,  1.60it/s]\u001b[A\n",
      "DDIM Sampler:  60%|██████    | 12/20 [00:07<00:05,  1.60it/s]\u001b[A\n",
      "DDIM Sampler:  65%|██████▌   | 13/20 [00:08<00:04,  1.60it/s]\u001b[A\n",
      "DDIM Sampler:  70%|███████   | 14/20 [00:08<00:03,  1.60it/s]\u001b[A\n",
      "DDIM Sampler:  75%|███████▌  | 15/20 [00:09<00:03,  1.60it/s]\u001b[A\n",
      "DDIM Sampler:  80%|████████  | 16/20 [00:10<00:02,  1.59it/s]\u001b[A\n",
      "DDIM Sampler:  85%|████████▌ | 17/20 [00:10<00:01,  1.59it/s]\u001b[A\n",
      "DDIM Sampler:  90%|█████████ | 18/20 [00:11<00:01,  1.60it/s]\u001b[A\n",
      "DDIM Sampler:  95%|█████████▌| 19/20 [00:11<00:00,  1.60it/s]\u001b[A\n",
      "DDIM Sampler: 100%|██████████| 20/20 [00:12<00:00,  1.60it/s]\u001b[A\n",
      "Global seed set to 10533\n"
     ]
    },
    {
     "name": "stdout",
     "output_type": "stream",
     "text": [
      "Data shape for DDIM sampling is (2, 4, 64, 64), eta 0.0\n",
      "Running DDIM Sampling with 20 timesteps\n"
     ]
    },
    {
     "name": "stderr",
     "output_type": "stream",
     "text": [
      "\n",
      "DDIM Sampler:   0%|          | 0/20 [00:00<?, ?it/s]\u001b[A\n",
      "DDIM Sampler:   5%|▌         | 1/20 [00:00<00:11,  1.63it/s]\u001b[A\n",
      "DDIM Sampler:  10%|█         | 2/20 [00:01<00:11,  1.59it/s]\u001b[A\n",
      "DDIM Sampler:  15%|█▌        | 3/20 [00:01<00:10,  1.60it/s]\u001b[A\n",
      "DDIM Sampler:  20%|██        | 4/20 [00:02<00:10,  1.60it/s]\u001b[A\n",
      "DDIM Sampler:  25%|██▌       | 5/20 [00:03<00:09,  1.59it/s]\u001b[A\n",
      "DDIM Sampler:  30%|███       | 6/20 [00:03<00:08,  1.60it/s]\u001b[A\n",
      "DDIM Sampler:  35%|███▌      | 7/20 [00:04<00:08,  1.60it/s]\u001b[A\n",
      "DDIM Sampler:  40%|████      | 8/20 [00:05<00:07,  1.60it/s]\u001b[A\n",
      "DDIM Sampler:  45%|████▌     | 9/20 [00:05<00:06,  1.60it/s]\u001b[A\n",
      "DDIM Sampler:  50%|█████     | 10/20 [00:06<00:06,  1.60it/s]\u001b[A\n",
      "DDIM Sampler:  55%|█████▌    | 11/20 [00:06<00:05,  1.60it/s]\u001b[A\n",
      "DDIM Sampler:  60%|██████    | 12/20 [00:07<00:05,  1.60it/s]\u001b[A\n",
      "DDIM Sampler:  65%|██████▌   | 13/20 [00:08<00:04,  1.60it/s]\u001b[A\n",
      "DDIM Sampler:  70%|███████   | 14/20 [00:08<00:03,  1.60it/s]\u001b[A\n",
      "DDIM Sampler:  75%|███████▌  | 15/20 [00:09<00:03,  1.60it/s]\u001b[A\n",
      "DDIM Sampler:  80%|████████  | 16/20 [00:10<00:02,  1.60it/s]\u001b[A\n",
      "DDIM Sampler:  85%|████████▌ | 17/20 [00:10<00:01,  1.60it/s]\u001b[A\n",
      "DDIM Sampler:  90%|█████████ | 18/20 [00:11<00:01,  1.60it/s]\u001b[A\n",
      "DDIM Sampler:  95%|█████████▌| 19/20 [00:11<00:00,  1.59it/s]\u001b[A\n",
      "DDIM Sampler: 100%|██████████| 20/20 [00:12<00:00,  1.60it/s]\u001b[A\n",
      "Global seed set to 31808\n"
     ]
    },
    {
     "name": "stdout",
     "output_type": "stream",
     "text": [
      "Data shape for DDIM sampling is (2, 4, 64, 64), eta 0.0\n",
      "Running DDIM Sampling with 20 timesteps\n"
     ]
    },
    {
     "name": "stderr",
     "output_type": "stream",
     "text": [
      "\n",
      "DDIM Sampler:   0%|          | 0/20 [00:00<?, ?it/s]\u001b[A\n",
      "DDIM Sampler:   5%|▌         | 1/20 [00:00<00:11,  1.63it/s]\u001b[A\n",
      "DDIM Sampler:  10%|█         | 2/20 [00:01<00:11,  1.59it/s]\u001b[A\n",
      "DDIM Sampler:  15%|█▌        | 3/20 [00:01<00:10,  1.60it/s]\u001b[A\n",
      "DDIM Sampler:  20%|██        | 4/20 [00:02<00:09,  1.60it/s]\u001b[A\n",
      "DDIM Sampler:  25%|██▌       | 5/20 [00:03<00:09,  1.60it/s]\u001b[A\n",
      "DDIM Sampler:  30%|███       | 6/20 [00:03<00:08,  1.60it/s]\u001b[A\n",
      "DDIM Sampler:  35%|███▌      | 7/20 [00:04<00:08,  1.60it/s]\u001b[A\n",
      "DDIM Sampler:  40%|████      | 8/20 [00:05<00:07,  1.60it/s]\u001b[A\n",
      "DDIM Sampler:  45%|████▌     | 9/20 [00:05<00:06,  1.60it/s]\u001b[A\n",
      "DDIM Sampler:  50%|█████     | 10/20 [00:06<00:06,  1.60it/s]\u001b[A\n",
      "DDIM Sampler:  55%|█████▌    | 11/20 [00:06<00:05,  1.60it/s]\u001b[A\n",
      "DDIM Sampler:  60%|██████    | 12/20 [00:07<00:05,  1.60it/s]\u001b[A\n",
      "DDIM Sampler:  65%|██████▌   | 13/20 [00:08<00:04,  1.60it/s]\u001b[A\n",
      "DDIM Sampler:  70%|███████   | 14/20 [00:08<00:03,  1.60it/s]\u001b[A\n",
      "DDIM Sampler:  75%|███████▌  | 15/20 [00:09<00:03,  1.60it/s]\u001b[A\n",
      "DDIM Sampler:  80%|████████  | 16/20 [00:10<00:02,  1.60it/s]\u001b[A\n",
      "DDIM Sampler:  85%|████████▌ | 17/20 [00:10<00:01,  1.60it/s]\u001b[A\n",
      "DDIM Sampler:  90%|█████████ | 18/20 [00:11<00:01,  1.59it/s]\u001b[A\n",
      "DDIM Sampler:  95%|█████████▌| 19/20 [00:11<00:00,  1.60it/s]\u001b[A\n",
      "DDIM Sampler: 100%|██████████| 20/20 [00:12<00:00,  1.60it/s]\u001b[A\n",
      "Global seed set to 33281\n"
     ]
    },
    {
     "name": "stdout",
     "output_type": "stream",
     "text": [
      "Data shape for DDIM sampling is (2, 4, 64, 64), eta 0.0\n",
      "Running DDIM Sampling with 20 timesteps\n"
     ]
    },
    {
     "name": "stderr",
     "output_type": "stream",
     "text": [
      "\n",
      "DDIM Sampler:   0%|          | 0/20 [00:00<?, ?it/s]\u001b[A\n",
      "DDIM Sampler:   5%|▌         | 1/20 [00:00<00:11,  1.63it/s]\u001b[A\n",
      "DDIM Sampler:  10%|█         | 2/20 [00:01<00:11,  1.59it/s]\u001b[A\n",
      "DDIM Sampler:  15%|█▌        | 3/20 [00:01<00:10,  1.59it/s]\u001b[A\n",
      "DDIM Sampler:  20%|██        | 4/20 [00:02<00:10,  1.60it/s]\u001b[A\n",
      "DDIM Sampler:  25%|██▌       | 5/20 [00:03<00:09,  1.60it/s]\u001b[A\n",
      "DDIM Sampler:  30%|███       | 6/20 [00:03<00:08,  1.60it/s]\u001b[A\n",
      "DDIM Sampler:  35%|███▌      | 7/20 [00:04<00:08,  1.60it/s]\u001b[A\n",
      "DDIM Sampler:  40%|████      | 8/20 [00:05<00:07,  1.60it/s]\u001b[A\n",
      "DDIM Sampler:  45%|████▌     | 9/20 [00:05<00:06,  1.60it/s]\u001b[A\n",
      "DDIM Sampler:  50%|█████     | 10/20 [00:06<00:06,  1.60it/s]\u001b[A\n",
      "DDIM Sampler:  55%|█████▌    | 11/20 [00:06<00:05,  1.60it/s]\u001b[A\n",
      "DDIM Sampler:  60%|██████    | 12/20 [00:07<00:05,  1.60it/s]\u001b[A\n",
      "DDIM Sampler:  65%|██████▌   | 13/20 [00:08<00:04,  1.60it/s]\u001b[A\n",
      "DDIM Sampler:  70%|███████   | 14/20 [00:08<00:03,  1.60it/s]\u001b[A\n",
      "DDIM Sampler:  75%|███████▌  | 15/20 [00:09<00:03,  1.60it/s]\u001b[A\n",
      "DDIM Sampler:  80%|████████  | 16/20 [00:10<00:02,  1.59it/s]\u001b[A\n",
      "DDIM Sampler:  85%|████████▌ | 17/20 [00:10<00:01,  1.60it/s]\u001b[A\n",
      "DDIM Sampler:  90%|█████████ | 18/20 [00:11<00:01,  1.59it/s]\u001b[A\n",
      "DDIM Sampler:  95%|█████████▌| 19/20 [00:11<00:00,  1.60it/s]\u001b[A\n",
      "DDIM Sampler: 100%|██████████| 20/20 [00:12<00:00,  1.60it/s]\u001b[A\n",
      "Global seed set to 9181\n"
     ]
    },
    {
     "name": "stdout",
     "output_type": "stream",
     "text": [
      "Data shape for DDIM sampling is (2, 4, 64, 64), eta 0.0\n",
      "Running DDIM Sampling with 20 timesteps\n"
     ]
    },
    {
     "name": "stderr",
     "output_type": "stream",
     "text": [
      "\n",
      "DDIM Sampler:   0%|          | 0/20 [00:00<?, ?it/s]\u001b[A\n",
      "DDIM Sampler:   5%|▌         | 1/20 [00:00<00:11,  1.63it/s]\u001b[A\n",
      "DDIM Sampler:  10%|█         | 2/20 [00:01<00:11,  1.59it/s]\u001b[A\n",
      "DDIM Sampler:  15%|█▌        | 3/20 [00:01<00:10,  1.59it/s]\u001b[A\n",
      "DDIM Sampler:  20%|██        | 4/20 [00:02<00:10,  1.60it/s]\u001b[A\n",
      "DDIM Sampler:  25%|██▌       | 5/20 [00:03<00:09,  1.59it/s]\u001b[A\n",
      "DDIM Sampler:  30%|███       | 6/20 [00:03<00:08,  1.60it/s]\u001b[A\n",
      "DDIM Sampler:  35%|███▌      | 7/20 [00:04<00:08,  1.60it/s]\u001b[A\n",
      "DDIM Sampler:  40%|████      | 8/20 [00:05<00:07,  1.59it/s]\u001b[A\n",
      "DDIM Sampler:  45%|████▌     | 9/20 [00:05<00:06,  1.60it/s]\u001b[A\n",
      "DDIM Sampler:  50%|█████     | 10/20 [00:06<00:06,  1.60it/s]\u001b[A\n",
      "DDIM Sampler:  55%|█████▌    | 11/20 [00:06<00:05,  1.59it/s]\u001b[A\n",
      "DDIM Sampler:  60%|██████    | 12/20 [00:07<00:05,  1.60it/s]\u001b[A\n",
      "DDIM Sampler:  65%|██████▌   | 13/20 [00:08<00:04,  1.60it/s]\u001b[A\n",
      "DDIM Sampler:  70%|███████   | 14/20 [00:08<00:03,  1.59it/s]\u001b[A\n",
      "DDIM Sampler:  75%|███████▌  | 15/20 [00:09<00:03,  1.60it/s]\u001b[A\n",
      "DDIM Sampler:  80%|████████  | 16/20 [00:10<00:02,  1.60it/s]\u001b[A\n",
      "DDIM Sampler:  85%|████████▌ | 17/20 [00:10<00:01,  1.60it/s]\u001b[A\n",
      "DDIM Sampler:  90%|█████████ | 18/20 [00:11<00:01,  1.59it/s]\u001b[A\n",
      "DDIM Sampler:  95%|█████████▌| 19/20 [00:11<00:00,  1.60it/s]\u001b[A\n",
      "DDIM Sampler: 100%|██████████| 20/20 [00:12<00:00,  1.60it/s]\u001b[A\n",
      "Global seed set to 64188\n"
     ]
    },
    {
     "name": "stdout",
     "output_type": "stream",
     "text": [
      "Data shape for DDIM sampling is (2, 4, 64, 64), eta 0.0\n",
      "Running DDIM Sampling with 20 timesteps\n"
     ]
    },
    {
     "name": "stderr",
     "output_type": "stream",
     "text": [
      "\n",
      "DDIM Sampler:   0%|          | 0/20 [00:00<?, ?it/s]\u001b[A\n",
      "DDIM Sampler:   5%|▌         | 1/20 [00:00<00:11,  1.63it/s]\u001b[A\n",
      "DDIM Sampler:  10%|█         | 2/20 [00:01<00:11,  1.59it/s]\u001b[A\n",
      "DDIM Sampler:  15%|█▌        | 3/20 [00:01<00:10,  1.59it/s]\u001b[A\n",
      "DDIM Sampler:  20%|██        | 4/20 [00:02<00:10,  1.60it/s]\u001b[A\n",
      "DDIM Sampler:  25%|██▌       | 5/20 [00:03<00:09,  1.59it/s]\u001b[A\n",
      "DDIM Sampler:  30%|███       | 6/20 [00:03<00:08,  1.60it/s]\u001b[A\n",
      "DDIM Sampler:  35%|███▌      | 7/20 [00:04<00:08,  1.60it/s]\u001b[A\n",
      "DDIM Sampler:  40%|████      | 8/20 [00:05<00:07,  1.60it/s]\u001b[A\n",
      "DDIM Sampler:  45%|████▌     | 9/20 [00:05<00:06,  1.60it/s]\u001b[A\n",
      "DDIM Sampler:  50%|█████     | 10/20 [00:06<00:06,  1.60it/s]\u001b[A\n",
      "DDIM Sampler:  55%|█████▌    | 11/20 [00:06<00:05,  1.60it/s]\u001b[A\n",
      "DDIM Sampler:  60%|██████    | 12/20 [00:07<00:05,  1.60it/s]\u001b[A\n",
      "DDIM Sampler:  65%|██████▌   | 13/20 [00:08<00:04,  1.60it/s]\u001b[A\n",
      "DDIM Sampler:  70%|███████   | 14/20 [00:08<00:03,  1.60it/s]\u001b[A\n",
      "DDIM Sampler:  75%|███████▌  | 15/20 [00:09<00:03,  1.60it/s]\u001b[A\n",
      "DDIM Sampler:  80%|████████  | 16/20 [00:10<00:02,  1.60it/s]\u001b[A\n",
      "DDIM Sampler:  85%|████████▌ | 17/20 [00:10<00:01,  1.60it/s]\u001b[A\n",
      "DDIM Sampler:  90%|█████████ | 18/20 [00:11<00:01,  1.60it/s]\u001b[A\n",
      "DDIM Sampler:  95%|█████████▌| 19/20 [00:11<00:00,  1.60it/s]\u001b[A\n",
      "DDIM Sampler: 100%|██████████| 20/20 [00:12<00:00,  1.60it/s]\u001b[A\n",
      "Global seed set to 10533\n"
     ]
    },
    {
     "name": "stdout",
     "output_type": "stream",
     "text": [
      "Data shape for DDIM sampling is (2, 4, 64, 64), eta 0.0\n",
      "Running DDIM Sampling with 20 timesteps\n"
     ]
    },
    {
     "name": "stderr",
     "output_type": "stream",
     "text": [
      "\n",
      "DDIM Sampler:   0%|          | 0/20 [00:00<?, ?it/s]\u001b[A\n",
      "DDIM Sampler:   5%|▌         | 1/20 [00:00<00:11,  1.63it/s]\u001b[A\n",
      "DDIM Sampler:  10%|█         | 2/20 [00:01<00:11,  1.59it/s]\u001b[A\n",
      "DDIM Sampler:  15%|█▌        | 3/20 [00:01<00:10,  1.59it/s]\u001b[A\n",
      "DDIM Sampler:  20%|██        | 4/20 [00:02<00:10,  1.60it/s]\u001b[A\n",
      "DDIM Sampler:  25%|██▌       | 5/20 [00:03<00:09,  1.59it/s]\u001b[A\n",
      "DDIM Sampler:  30%|███       | 6/20 [00:03<00:08,  1.60it/s]\u001b[A\n",
      "DDIM Sampler:  35%|███▌      | 7/20 [00:04<00:08,  1.60it/s]\u001b[A\n",
      "DDIM Sampler:  40%|████      | 8/20 [00:05<00:07,  1.60it/s]\u001b[A\n",
      "DDIM Sampler:  45%|████▌     | 9/20 [00:05<00:06,  1.60it/s]\u001b[A\n",
      "DDIM Sampler:  50%|█████     | 10/20 [00:06<00:06,  1.60it/s]\u001b[A\n",
      "DDIM Sampler:  55%|█████▌    | 11/20 [00:06<00:05,  1.60it/s]\u001b[A\n",
      "DDIM Sampler:  60%|██████    | 12/20 [00:07<00:05,  1.60it/s]\u001b[A\n",
      "DDIM Sampler:  65%|██████▌   | 13/20 [00:08<00:04,  1.60it/s]\u001b[A\n",
      "DDIM Sampler:  70%|███████   | 14/20 [00:08<00:03,  1.60it/s]\u001b[A\n",
      "DDIM Sampler:  75%|███████▌  | 15/20 [00:09<00:03,  1.60it/s]\u001b[A\n",
      "DDIM Sampler:  80%|████████  | 16/20 [00:10<00:02,  1.59it/s]\u001b[A\n",
      "DDIM Sampler:  85%|████████▌ | 17/20 [00:10<00:01,  1.60it/s]\u001b[A\n",
      "DDIM Sampler:  90%|█████████ | 18/20 [00:11<00:01,  1.60it/s]\u001b[A\n",
      "DDIM Sampler:  95%|█████████▌| 19/20 [00:11<00:00,  1.60it/s]\u001b[A\n",
      "DDIM Sampler: 100%|██████████| 20/20 [00:12<00:00,  1.60it/s]\u001b[A\n",
      "Global seed set to 31808\n"
     ]
    },
    {
     "name": "stdout",
     "output_type": "stream",
     "text": [
      "Data shape for DDIM sampling is (2, 4, 72, 64), eta 0.0\n",
      "Running DDIM Sampling with 20 timesteps\n"
     ]
    },
    {
     "name": "stderr",
     "output_type": "stream",
     "text": [
      "\n",
      "DDIM Sampler:   0%|          | 0/20 [00:00<?, ?it/s]\u001b[A\n",
      "DDIM Sampler:   5%|▌         | 1/20 [00:00<00:13,  1.37it/s]\u001b[A\n",
      "DDIM Sampler:  10%|█         | 2/20 [00:01<00:13,  1.34it/s]\u001b[A\n",
      "DDIM Sampler:  15%|█▌        | 3/20 [00:02<00:12,  1.33it/s]\u001b[A\n",
      "DDIM Sampler:  20%|██        | 4/20 [00:02<00:11,  1.34it/s]\u001b[A\n",
      "DDIM Sampler:  25%|██▌       | 5/20 [00:03<00:11,  1.34it/s]\u001b[A\n",
      "DDIM Sampler:  30%|███       | 6/20 [00:04<00:10,  1.34it/s]\u001b[A\n",
      "DDIM Sampler:  35%|███▌      | 7/20 [00:05<00:09,  1.34it/s]\u001b[A\n",
      "DDIM Sampler:  40%|████      | 8/20 [00:05<00:08,  1.34it/s]\u001b[A\n",
      "DDIM Sampler:  45%|████▌     | 9/20 [00:06<00:08,  1.34it/s]\u001b[A\n",
      "DDIM Sampler:  50%|█████     | 10/20 [00:07<00:07,  1.34it/s]\u001b[A\n",
      "DDIM Sampler:  55%|█████▌    | 11/20 [00:08<00:06,  1.34it/s]\u001b[A\n",
      "DDIM Sampler:  60%|██████    | 12/20 [00:08<00:05,  1.34it/s]\u001b[A\n",
      "DDIM Sampler:  65%|██████▌   | 13/20 [00:09<00:05,  1.34it/s]\u001b[A\n",
      "DDIM Sampler:  70%|███████   | 14/20 [00:10<00:04,  1.34it/s]\u001b[A\n",
      "DDIM Sampler:  75%|███████▌  | 15/20 [00:11<00:03,  1.34it/s]\u001b[A\n",
      "DDIM Sampler:  80%|████████  | 16/20 [00:11<00:02,  1.34it/s]\u001b[A\n",
      "DDIM Sampler:  85%|████████▌ | 17/20 [00:12<00:02,  1.34it/s]\u001b[A\n",
      "DDIM Sampler:  90%|█████████ | 18/20 [00:13<00:01,  1.34it/s]\u001b[A\n",
      "DDIM Sampler:  95%|█████████▌| 19/20 [00:14<00:00,  1.34it/s]\u001b[A\n",
      "DDIM Sampler: 100%|██████████| 20/20 [00:14<00:00,  1.34it/s]\u001b[A\n",
      "Global seed set to 33281\n"
     ]
    },
    {
     "name": "stdout",
     "output_type": "stream",
     "text": [
      "Data shape for DDIM sampling is (2, 4, 64, 64), eta 0.0\n",
      "Running DDIM Sampling with 20 timesteps\n"
     ]
    },
    {
     "name": "stderr",
     "output_type": "stream",
     "text": [
      "\n",
      "DDIM Sampler:   0%|          | 0/20 [00:00<?, ?it/s]\u001b[A\n",
      "DDIM Sampler:   5%|▌         | 1/20 [00:00<00:11,  1.63it/s]\u001b[A\n",
      "DDIM Sampler:  10%|█         | 2/20 [00:01<00:11,  1.59it/s]\u001b[A\n",
      "DDIM Sampler:  15%|█▌        | 3/20 [00:01<00:10,  1.59it/s]\u001b[A\n",
      "DDIM Sampler:  20%|██        | 4/20 [00:02<00:10,  1.60it/s]\u001b[A\n",
      "DDIM Sampler:  25%|██▌       | 5/20 [00:03<00:09,  1.59it/s]\u001b[A\n",
      "DDIM Sampler:  30%|███       | 6/20 [00:03<00:08,  1.60it/s]\u001b[A\n",
      "DDIM Sampler:  35%|███▌      | 7/20 [00:04<00:08,  1.60it/s]\u001b[A\n",
      "DDIM Sampler:  40%|████      | 8/20 [00:05<00:07,  1.59it/s]\u001b[A\n",
      "DDIM Sampler:  45%|████▌     | 9/20 [00:05<00:06,  1.60it/s]\u001b[A\n",
      "DDIM Sampler:  50%|█████     | 10/20 [00:06<00:06,  1.60it/s]\u001b[A\n",
      "DDIM Sampler:  55%|█████▌    | 11/20 [00:06<00:05,  1.60it/s]\u001b[A\n",
      "DDIM Sampler:  60%|██████    | 12/20 [00:07<00:05,  1.60it/s]\u001b[A\n",
      "DDIM Sampler:  65%|██████▌   | 13/20 [00:08<00:04,  1.59it/s]\u001b[A\n",
      "DDIM Sampler:  70%|███████   | 14/20 [00:08<00:03,  1.60it/s]\u001b[A\n",
      "DDIM Sampler:  75%|███████▌  | 15/20 [00:09<00:03,  1.60it/s]\u001b[A\n",
      "DDIM Sampler:  80%|████████  | 16/20 [00:10<00:02,  1.60it/s]\u001b[A\n",
      "DDIM Sampler:  85%|████████▌ | 17/20 [00:10<00:01,  1.60it/s]\u001b[A\n",
      "DDIM Sampler:  90%|█████████ | 18/20 [00:11<00:01,  1.60it/s]\u001b[A\n",
      "DDIM Sampler:  95%|█████████▌| 19/20 [00:11<00:00,  1.59it/s]\u001b[A\n",
      "DDIM Sampler: 100%|██████████| 20/20 [00:12<00:00,  1.60it/s]\u001b[A\n",
      "Global seed set to 9181\n"
     ]
    },
    {
     "name": "stdout",
     "output_type": "stream",
     "text": [
      "Data shape for DDIM sampling is (2, 4, 64, 96), eta 0.0\n",
      "Running DDIM Sampling with 20 timesteps\n"
     ]
    },
    {
     "name": "stderr",
     "output_type": "stream",
     "text": [
      "\n",
      "DDIM Sampler:   0%|          | 0/20 [00:00<?, ?it/s]\u001b[A\n",
      "DDIM Sampler:   5%|▌         | 1/20 [00:01<00:22,  1.17s/it]\u001b[A\n",
      "DDIM Sampler:  10%|█         | 2/20 [00:02<00:21,  1.17s/it]\u001b[A\n",
      "DDIM Sampler:  15%|█▌        | 3/20 [00:03<00:19,  1.16s/it]\u001b[A\n",
      "DDIM Sampler:  20%|██        | 4/20 [00:04<00:18,  1.16s/it]\u001b[A\n",
      "DDIM Sampler:  25%|██▌       | 5/20 [00:05<00:17,  1.16s/it]\u001b[A\n",
      "DDIM Sampler:  30%|███       | 6/20 [00:06<00:16,  1.16s/it]\u001b[A\n",
      "DDIM Sampler:  35%|███▌      | 7/20 [00:08<00:15,  1.16s/it]\u001b[A\n",
      "DDIM Sampler:  40%|████      | 8/20 [00:09<00:13,  1.16s/it]\u001b[A\n",
      "DDIM Sampler:  45%|████▌     | 9/20 [00:10<00:12,  1.16s/it]\u001b[A\n",
      "DDIM Sampler:  50%|█████     | 10/20 [00:11<00:11,  1.16s/it]\u001b[A\n",
      "DDIM Sampler:  55%|█████▌    | 11/20 [00:12<00:10,  1.16s/it]\u001b[A\n",
      "DDIM Sampler:  60%|██████    | 12/20 [00:13<00:09,  1.16s/it]\u001b[A\n",
      "DDIM Sampler:  65%|██████▌   | 13/20 [00:15<00:08,  1.16s/it]\u001b[A\n",
      "DDIM Sampler:  70%|███████   | 14/20 [00:16<00:06,  1.16s/it]\u001b[A\n",
      "DDIM Sampler:  75%|███████▌  | 15/20 [00:17<00:05,  1.16s/it]\u001b[A\n",
      "DDIM Sampler:  80%|████████  | 16/20 [00:18<00:04,  1.16s/it]\u001b[A\n",
      "DDIM Sampler:  85%|████████▌ | 17/20 [00:19<00:03,  1.16s/it]\u001b[A\n",
      "DDIM Sampler:  90%|█████████ | 18/20 [00:20<00:02,  1.16s/it]\u001b[A\n",
      "DDIM Sampler:  95%|█████████▌| 19/20 [00:22<00:01,  1.16s/it]\u001b[A\n",
      "DDIM Sampler: 100%|██████████| 20/20 [00:23<00:00,  1.16s/it]\u001b[A\n",
      "Global seed set to 64188\n"
     ]
    },
    {
     "name": "stdout",
     "output_type": "stream",
     "text": [
      "Data shape for DDIM sampling is (2, 4, 64, 64), eta 0.0\n",
      "Running DDIM Sampling with 20 timesteps\n"
     ]
    },
    {
     "name": "stderr",
     "output_type": "stream",
     "text": [
      "\n",
      "DDIM Sampler:   0%|          | 0/20 [00:00<?, ?it/s]\u001b[A\n",
      "DDIM Sampler:   5%|▌         | 1/20 [00:00<00:11,  1.63it/s]\u001b[A\n",
      "DDIM Sampler:  10%|█         | 2/20 [00:01<00:11,  1.59it/s]\u001b[A\n",
      "DDIM Sampler:  15%|█▌        | 3/20 [00:01<00:10,  1.60it/s]\u001b[A\n",
      "DDIM Sampler:  20%|██        | 4/20 [00:02<00:10,  1.60it/s]\u001b[A\n",
      "DDIM Sampler:  25%|██▌       | 5/20 [00:03<00:09,  1.59it/s]\u001b[A\n",
      "DDIM Sampler:  30%|███       | 6/20 [00:03<00:08,  1.60it/s]\u001b[A\n",
      "DDIM Sampler:  35%|███▌      | 7/20 [00:04<00:08,  1.60it/s]\u001b[A\n",
      "DDIM Sampler:  40%|████      | 8/20 [00:05<00:07,  1.59it/s]\u001b[A\n",
      "DDIM Sampler:  45%|████▌     | 9/20 [00:05<00:06,  1.60it/s]\u001b[A\n",
      "DDIM Sampler:  50%|█████     | 10/20 [00:06<00:06,  1.60it/s]\u001b[A\n",
      "DDIM Sampler:  55%|█████▌    | 11/20 [00:06<00:05,  1.60it/s]\u001b[A\n",
      "DDIM Sampler:  60%|██████    | 12/20 [00:07<00:05,  1.60it/s]\u001b[A\n",
      "DDIM Sampler:  65%|██████▌   | 13/20 [00:08<00:04,  1.60it/s]\u001b[A\n",
      "DDIM Sampler:  70%|███████   | 14/20 [00:08<00:03,  1.60it/s]\u001b[A\n",
      "DDIM Sampler:  75%|███████▌  | 15/20 [00:09<00:03,  1.60it/s]\u001b[A\n",
      "DDIM Sampler:  80%|████████  | 16/20 [00:10<00:02,  1.60it/s]\u001b[A\n",
      "DDIM Sampler:  85%|████████▌ | 17/20 [00:10<00:01,  1.60it/s]\u001b[A\n",
      "DDIM Sampler:  90%|█████████ | 18/20 [00:11<00:01,  1.60it/s]\u001b[A\n",
      "DDIM Sampler:  95%|█████████▌| 19/20 [00:11<00:00,  1.60it/s]\u001b[A\n",
      "DDIM Sampler: 100%|██████████| 20/20 [00:12<00:00,  1.60it/s]\u001b[A\n",
      "Global seed set to 10533\n"
     ]
    },
    {
     "name": "stdout",
     "output_type": "stream",
     "text": [
      "Data shape for DDIM sampling is (2, 4, 64, 64), eta 0.0\n",
      "Running DDIM Sampling with 20 timesteps\n"
     ]
    },
    {
     "name": "stderr",
     "output_type": "stream",
     "text": [
      "\n",
      "DDIM Sampler:   0%|          | 0/20 [00:00<?, ?it/s]\u001b[A\n",
      "DDIM Sampler:   5%|▌         | 1/20 [00:00<00:11,  1.63it/s]\u001b[A\n",
      "DDIM Sampler:  10%|█         | 2/20 [00:01<00:11,  1.59it/s]\u001b[A\n",
      "DDIM Sampler:  15%|█▌        | 3/20 [00:01<00:10,  1.59it/s]\u001b[A\n",
      "DDIM Sampler:  20%|██        | 4/20 [00:02<00:10,  1.60it/s]\u001b[A\n",
      "DDIM Sampler:  25%|██▌       | 5/20 [00:03<00:09,  1.59it/s]\u001b[A\n",
      "DDIM Sampler:  30%|███       | 6/20 [00:03<00:08,  1.60it/s]\u001b[A\n",
      "DDIM Sampler:  35%|███▌      | 7/20 [00:04<00:08,  1.60it/s]\u001b[A\n",
      "DDIM Sampler:  40%|████      | 8/20 [00:05<00:07,  1.60it/s]\u001b[A\n",
      "DDIM Sampler:  45%|████▌     | 9/20 [00:05<00:06,  1.60it/s]\u001b[A\n",
      "DDIM Sampler:  50%|█████     | 10/20 [00:06<00:06,  1.60it/s]\u001b[A\n",
      "DDIM Sampler:  55%|█████▌    | 11/20 [00:06<00:05,  1.60it/s]\u001b[A\n",
      "DDIM Sampler:  60%|██████    | 12/20 [00:07<00:05,  1.60it/s]\u001b[A\n",
      "DDIM Sampler:  65%|██████▌   | 13/20 [00:08<00:04,  1.60it/s]\u001b[A\n",
      "DDIM Sampler:  70%|███████   | 14/20 [00:08<00:03,  1.60it/s]\u001b[A\n",
      "DDIM Sampler:  75%|███████▌  | 15/20 [00:09<00:03,  1.60it/s]\u001b[A\n",
      "DDIM Sampler:  80%|████████  | 16/20 [00:10<00:02,  1.60it/s]\u001b[A\n",
      "DDIM Sampler:  85%|████████▌ | 17/20 [00:10<00:01,  1.60it/s]\u001b[A\n",
      "DDIM Sampler:  90%|█████████ | 18/20 [00:11<00:01,  1.60it/s]\u001b[A\n",
      "DDIM Sampler:  95%|█████████▌| 19/20 [00:11<00:00,  1.60it/s]\u001b[A\n",
      "DDIM Sampler: 100%|██████████| 20/20 [00:12<00:00,  1.60it/s]\u001b[A\n",
      "Global seed set to 31808\n"
     ]
    },
    {
     "name": "stdout",
     "output_type": "stream",
     "text": [
      "Data shape for DDIM sampling is (2, 4, 64, 64), eta 0.0\n",
      "Running DDIM Sampling with 20 timesteps\n"
     ]
    },
    {
     "name": "stderr",
     "output_type": "stream",
     "text": [
      "\n",
      "DDIM Sampler:   0%|          | 0/20 [00:00<?, ?it/s]\u001b[A\n",
      "DDIM Sampler:   5%|▌         | 1/20 [00:00<00:11,  1.63it/s]\u001b[A\n",
      "DDIM Sampler:  10%|█         | 2/20 [00:01<00:11,  1.59it/s]\u001b[A\n",
      "DDIM Sampler:  15%|█▌        | 3/20 [00:01<00:10,  1.59it/s]\u001b[A\n",
      "DDIM Sampler:  20%|██        | 4/20 [00:02<00:10,  1.60it/s]\u001b[A\n",
      "DDIM Sampler:  25%|██▌       | 5/20 [00:03<00:09,  1.59it/s]\u001b[A\n",
      "DDIM Sampler:  30%|███       | 6/20 [00:03<00:08,  1.60it/s]\u001b[A\n",
      "DDIM Sampler:  35%|███▌      | 7/20 [00:04<00:08,  1.59it/s]\u001b[A\n",
      "DDIM Sampler:  40%|████      | 8/20 [00:05<00:07,  1.59it/s]\u001b[A\n",
      "DDIM Sampler:  45%|████▌     | 9/20 [00:05<00:06,  1.60it/s]\u001b[A\n",
      "DDIM Sampler:  50%|█████     | 10/20 [00:06<00:06,  1.59it/s]\u001b[A\n",
      "DDIM Sampler:  55%|█████▌    | 11/20 [00:06<00:05,  1.59it/s]\u001b[A\n",
      "DDIM Sampler:  60%|██████    | 12/20 [00:07<00:05,  1.60it/s]\u001b[A\n",
      "DDIM Sampler:  65%|██████▌   | 13/20 [00:08<00:04,  1.59it/s]\u001b[A\n",
      "DDIM Sampler:  70%|███████   | 14/20 [00:08<00:03,  1.60it/s]\u001b[A\n",
      "DDIM Sampler:  75%|███████▌  | 15/20 [00:09<00:03,  1.59it/s]\u001b[A\n",
      "DDIM Sampler:  80%|████████  | 16/20 [00:10<00:02,  1.60it/s]\u001b[A\n",
      "DDIM Sampler:  85%|████████▌ | 17/20 [00:10<00:01,  1.60it/s]\u001b[A\n",
      "DDIM Sampler:  90%|█████████ | 18/20 [00:11<00:01,  1.60it/s]\u001b[A\n",
      "DDIM Sampler:  95%|█████████▌| 19/20 [00:11<00:00,  1.59it/s]\u001b[A\n",
      "DDIM Sampler: 100%|██████████| 20/20 [00:12<00:00,  1.60it/s]\u001b[A\n",
      "Global seed set to 33281\n"
     ]
    },
    {
     "name": "stdout",
     "output_type": "stream",
     "text": [
      "Data shape for DDIM sampling is (2, 4, 64, 64), eta 0.0\n",
      "Running DDIM Sampling with 20 timesteps\n"
     ]
    },
    {
     "name": "stderr",
     "output_type": "stream",
     "text": [
      "\n",
      "DDIM Sampler:   0%|          | 0/20 [00:00<?, ?it/s]\u001b[A\n",
      "DDIM Sampler:   5%|▌         | 1/20 [00:00<00:11,  1.63it/s]\u001b[A\n",
      "DDIM Sampler:  10%|█         | 2/20 [00:01<00:11,  1.59it/s]\u001b[A\n",
      "DDIM Sampler:  15%|█▌        | 3/20 [00:01<00:10,  1.59it/s]\u001b[A\n",
      "DDIM Sampler:  20%|██        | 4/20 [00:02<00:10,  1.60it/s]\u001b[A\n",
      "DDIM Sampler:  25%|██▌       | 5/20 [00:03<00:09,  1.59it/s]\u001b[A\n",
      "DDIM Sampler:  30%|███       | 6/20 [00:03<00:08,  1.60it/s]\u001b[A\n",
      "DDIM Sampler:  35%|███▌      | 7/20 [00:04<00:08,  1.59it/s]\u001b[A\n",
      "DDIM Sampler:  40%|████      | 8/20 [00:05<00:07,  1.59it/s]\u001b[A\n",
      "DDIM Sampler:  45%|████▌     | 9/20 [00:05<00:06,  1.60it/s]\u001b[A\n",
      "DDIM Sampler:  50%|█████     | 10/20 [00:06<00:06,  1.59it/s]\u001b[A\n",
      "DDIM Sampler:  55%|█████▌    | 11/20 [00:06<00:05,  1.60it/s]\u001b[A\n",
      "DDIM Sampler:  60%|██████    | 12/20 [00:07<00:05,  1.60it/s]\u001b[A\n",
      "DDIM Sampler:  65%|██████▌   | 13/20 [00:08<00:04,  1.59it/s]\u001b[A\n",
      "DDIM Sampler:  70%|███████   | 14/20 [00:08<00:03,  1.60it/s]\u001b[A\n",
      "DDIM Sampler:  75%|███████▌  | 15/20 [00:09<00:03,  1.60it/s]\u001b[A\n",
      "DDIM Sampler:  80%|████████  | 16/20 [00:10<00:02,  1.60it/s]\u001b[A\n",
      "DDIM Sampler:  85%|████████▌ | 17/20 [00:10<00:01,  1.60it/s]\u001b[A\n",
      "DDIM Sampler:  90%|█████████ | 18/20 [00:11<00:01,  1.60it/s]\u001b[A\n",
      "DDIM Sampler:  95%|█████████▌| 19/20 [00:11<00:00,  1.60it/s]\u001b[A\n",
      "DDIM Sampler: 100%|██████████| 20/20 [00:12<00:00,  1.60it/s]\u001b[A\n",
      "Global seed set to 9181\n"
     ]
    },
    {
     "name": "stdout",
     "output_type": "stream",
     "text": [
      "Data shape for DDIM sampling is (2, 4, 64, 64), eta 0.0\n",
      "Running DDIM Sampling with 20 timesteps\n"
     ]
    },
    {
     "name": "stderr",
     "output_type": "stream",
     "text": [
      "\n",
      "DDIM Sampler:   0%|          | 0/20 [00:00<?, ?it/s]\u001b[A\n",
      "DDIM Sampler:   5%|▌         | 1/20 [00:00<00:11,  1.63it/s]\u001b[A\n",
      "DDIM Sampler:  10%|█         | 2/20 [00:01<00:11,  1.59it/s]\u001b[A\n",
      "DDIM Sampler:  15%|█▌        | 3/20 [00:01<00:10,  1.59it/s]\u001b[A\n",
      "DDIM Sampler:  20%|██        | 4/20 [00:02<00:10,  1.60it/s]\u001b[A\n",
      "DDIM Sampler:  25%|██▌       | 5/20 [00:03<00:09,  1.59it/s]\u001b[A\n",
      "DDIM Sampler:  30%|███       | 6/20 [00:03<00:08,  1.60it/s]\u001b[A\n",
      "DDIM Sampler:  35%|███▌      | 7/20 [00:04<00:08,  1.59it/s]\u001b[A\n",
      "DDIM Sampler:  40%|████      | 8/20 [00:05<00:07,  1.60it/s]\u001b[A\n",
      "DDIM Sampler:  45%|████▌     | 9/20 [00:05<00:06,  1.60it/s]\u001b[A\n",
      "DDIM Sampler:  50%|█████     | 10/20 [00:06<00:06,  1.60it/s]\u001b[A\n",
      "DDIM Sampler:  55%|█████▌    | 11/20 [00:06<00:05,  1.60it/s]\u001b[A\n",
      "DDIM Sampler:  60%|██████    | 12/20 [00:07<00:05,  1.60it/s]\u001b[A\n",
      "DDIM Sampler:  65%|██████▌   | 13/20 [00:08<00:04,  1.60it/s]\u001b[A\n",
      "DDIM Sampler:  70%|███████   | 14/20 [00:08<00:03,  1.60it/s]\u001b[A\n",
      "DDIM Sampler:  75%|███████▌  | 15/20 [00:09<00:03,  1.60it/s]\u001b[A\n",
      "DDIM Sampler:  80%|████████  | 16/20 [00:10<00:02,  1.60it/s]\u001b[A\n",
      "DDIM Sampler:  85%|████████▌ | 17/20 [00:10<00:01,  1.60it/s]\u001b[A\n",
      "DDIM Sampler:  90%|█████████ | 18/20 [00:11<00:01,  1.60it/s]\u001b[A\n",
      "DDIM Sampler:  95%|█████████▌| 19/20 [00:11<00:00,  1.60it/s]\u001b[A\n",
      "DDIM Sampler: 100%|██████████| 20/20 [00:12<00:00,  1.60it/s]\u001b[A\n",
      "Global seed set to 64188\n"
     ]
    },
    {
     "name": "stdout",
     "output_type": "stream",
     "text": [
      "Data shape for DDIM sampling is (2, 4, 64, 72), eta 0.0\n",
      "Running DDIM Sampling with 20 timesteps\n"
     ]
    },
    {
     "name": "stderr",
     "output_type": "stream",
     "text": [
      "\n",
      "DDIM Sampler:   0%|          | 0/20 [00:00<?, ?it/s]\u001b[A\n",
      "DDIM Sampler:   5%|▌         | 1/20 [00:00<00:14,  1.35it/s]\u001b[A\n",
      "DDIM Sampler:  10%|█         | 2/20 [00:01<00:13,  1.33it/s]\u001b[A\n",
      "DDIM Sampler:  15%|█▌        | 3/20 [00:02<00:12,  1.33it/s]\u001b[A\n",
      "DDIM Sampler:  20%|██        | 4/20 [00:02<00:11,  1.33it/s]\u001b[A\n",
      "DDIM Sampler:  25%|██▌       | 5/20 [00:03<00:11,  1.33it/s]\u001b[A\n",
      "DDIM Sampler:  30%|███       | 6/20 [00:04<00:10,  1.34it/s]\u001b[A\n",
      "DDIM Sampler:  35%|███▌      | 7/20 [00:05<00:09,  1.33it/s]\u001b[A\n",
      "DDIM Sampler:  40%|████      | 8/20 [00:05<00:08,  1.33it/s]\u001b[A\n",
      "DDIM Sampler:  45%|████▌     | 9/20 [00:06<00:08,  1.33it/s]\u001b[A\n",
      "DDIM Sampler:  50%|█████     | 10/20 [00:07<00:07,  1.34it/s]\u001b[A\n",
      "DDIM Sampler:  55%|█████▌    | 11/20 [00:08<00:06,  1.33it/s]\u001b[A\n",
      "DDIM Sampler:  60%|██████    | 12/20 [00:08<00:06,  1.33it/s]\u001b[A\n",
      "DDIM Sampler:  65%|██████▌   | 13/20 [00:09<00:05,  1.33it/s]\u001b[A\n",
      "DDIM Sampler:  70%|███████   | 14/20 [00:10<00:04,  1.33it/s]\u001b[A\n",
      "DDIM Sampler:  75%|███████▌  | 15/20 [00:11<00:03,  1.33it/s]\u001b[A\n",
      "DDIM Sampler:  80%|████████  | 16/20 [00:11<00:03,  1.33it/s]\u001b[A\n",
      "DDIM Sampler:  85%|████████▌ | 17/20 [00:12<00:02,  1.33it/s]\u001b[A\n",
      "DDIM Sampler:  90%|█████████ | 18/20 [00:13<00:01,  1.33it/s]\u001b[A\n",
      "DDIM Sampler:  95%|█████████▌| 19/20 [00:14<00:00,  1.33it/s]\u001b[A\n",
      "DDIM Sampler: 100%|██████████| 20/20 [00:14<00:00,  1.33it/s]\u001b[A\n",
      "Global seed set to 10533\n"
     ]
    },
    {
     "name": "stdout",
     "output_type": "stream",
     "text": [
      "Data shape for DDIM sampling is (2, 4, 64, 112), eta 0.0\n",
      "Running DDIM Sampling with 20 timesteps\n"
     ]
    },
    {
     "name": "stderr",
     "output_type": "stream",
     "text": [
      "\n",
      "DDIM Sampler:   0%|          | 0/20 [00:00<?, ?it/s]\u001b[A\n",
      "DDIM Sampler:   5%|▌         | 1/20 [00:01<00:28,  1.51s/it]\u001b[A\n",
      "DDIM Sampler:  10%|█         | 2/20 [00:03<00:27,  1.51s/it]\u001b[A\n",
      "DDIM Sampler:  15%|█▌        | 3/20 [00:04<00:25,  1.51s/it]\u001b[A\n",
      "DDIM Sampler:  20%|██        | 4/20 [00:06<00:24,  1.51s/it]\u001b[A\n",
      "DDIM Sampler:  25%|██▌       | 5/20 [00:07<00:22,  1.51s/it]\u001b[A\n",
      "DDIM Sampler:  30%|███       | 6/20 [00:09<00:21,  1.51s/it]\u001b[A\n",
      "DDIM Sampler:  35%|███▌      | 7/20 [00:10<00:19,  1.51s/it]\u001b[A\n",
      "DDIM Sampler:  40%|████      | 8/20 [00:12<00:18,  1.51s/it]\u001b[A\n",
      "DDIM Sampler:  45%|████▌     | 9/20 [00:13<00:16,  1.51s/it]\u001b[A\n",
      "DDIM Sampler:  50%|█████     | 10/20 [00:15<00:15,  1.51s/it]\u001b[A\n",
      "DDIM Sampler:  55%|█████▌    | 11/20 [00:16<00:13,  1.51s/it]\u001b[A\n",
      "DDIM Sampler:  60%|██████    | 12/20 [00:18<00:12,  1.51s/it]\u001b[A\n",
      "DDIM Sampler:  65%|██████▌   | 13/20 [00:19<00:10,  1.51s/it]\u001b[A\n",
      "DDIM Sampler:  70%|███████   | 14/20 [00:21<00:09,  1.51s/it]\u001b[A\n",
      "DDIM Sampler:  75%|███████▌  | 15/20 [00:22<00:07,  1.51s/it]\u001b[A\n",
      "DDIM Sampler:  80%|████████  | 16/20 [00:24<00:06,  1.51s/it]\u001b[A\n",
      "DDIM Sampler:  85%|████████▌ | 17/20 [00:25<00:04,  1.51s/it]\u001b[A\n",
      "DDIM Sampler:  90%|█████████ | 18/20 [00:27<00:03,  1.51s/it]\u001b[A\n",
      "DDIM Sampler:  95%|█████████▌| 19/20 [00:28<00:01,  1.51s/it]\u001b[A\n",
      "DDIM Sampler: 100%|██████████| 20/20 [00:30<00:00,  1.51s/it]\u001b[A\n",
      "Global seed set to 31808\n"
     ]
    },
    {
     "name": "stdout",
     "output_type": "stream",
     "text": [
      "Data shape for DDIM sampling is (2, 4, 64, 96), eta 0.0\n",
      "Running DDIM Sampling with 20 timesteps\n"
     ]
    },
    {
     "name": "stderr",
     "output_type": "stream",
     "text": [
      "\n",
      "DDIM Sampler:   0%|          | 0/20 [00:00<?, ?it/s]\u001b[A\n",
      "DDIM Sampler:   5%|▌         | 1/20 [00:01<00:22,  1.17s/it]\u001b[A\n",
      "DDIM Sampler:  10%|█         | 2/20 [00:02<00:21,  1.17s/it]\u001b[A\n",
      "DDIM Sampler:  15%|█▌        | 3/20 [00:03<00:19,  1.16s/it]\u001b[A\n",
      "DDIM Sampler:  20%|██        | 4/20 [00:04<00:18,  1.16s/it]\u001b[A\n",
      "DDIM Sampler:  25%|██▌       | 5/20 [00:05<00:17,  1.16s/it]\u001b[A\n",
      "DDIM Sampler:  30%|███       | 6/20 [00:06<00:16,  1.16s/it]\u001b[A\n",
      "DDIM Sampler:  35%|███▌      | 7/20 [00:08<00:15,  1.16s/it]\u001b[A\n",
      "DDIM Sampler:  40%|████      | 8/20 [00:09<00:13,  1.16s/it]\u001b[A\n",
      "DDIM Sampler:  45%|████▌     | 9/20 [00:10<00:12,  1.16s/it]\u001b[A\n",
      "DDIM Sampler:  50%|█████     | 10/20 [00:11<00:11,  1.16s/it]\u001b[A\n",
      "DDIM Sampler:  55%|█████▌    | 11/20 [00:12<00:10,  1.16s/it]\u001b[A\n",
      "DDIM Sampler:  60%|██████    | 12/20 [00:13<00:09,  1.16s/it]\u001b[A\n",
      "DDIM Sampler:  65%|██████▌   | 13/20 [00:15<00:08,  1.16s/it]\u001b[A\n",
      "DDIM Sampler:  70%|███████   | 14/20 [00:16<00:06,  1.16s/it]\u001b[A\n",
      "DDIM Sampler:  75%|███████▌  | 15/20 [00:17<00:05,  1.16s/it]\u001b[A\n",
      "DDIM Sampler:  80%|████████  | 16/20 [00:18<00:04,  1.16s/it]\u001b[A\n",
      "DDIM Sampler:  85%|████████▌ | 17/20 [00:19<00:03,  1.16s/it]\u001b[A\n",
      "DDIM Sampler:  90%|█████████ | 18/20 [00:20<00:02,  1.16s/it]\u001b[A\n",
      "DDIM Sampler:  95%|█████████▌| 19/20 [00:22<00:01,  1.16s/it]\u001b[A\n",
      "DDIM Sampler: 100%|██████████| 20/20 [00:23<00:00,  1.16s/it]\u001b[A\n",
      "Global seed set to 33281\n"
     ]
    },
    {
     "name": "stdout",
     "output_type": "stream",
     "text": [
      "Data shape for DDIM sampling is (2, 4, 64, 64), eta 0.0\n",
      "Running DDIM Sampling with 20 timesteps\n"
     ]
    },
    {
     "name": "stderr",
     "output_type": "stream",
     "text": [
      "\n",
      "DDIM Sampler:   0%|          | 0/20 [00:00<?, ?it/s]\u001b[A\n",
      "DDIM Sampler:   5%|▌         | 1/20 [00:00<00:11,  1.63it/s]\u001b[A\n",
      "DDIM Sampler:  10%|█         | 2/20 [00:01<00:11,  1.59it/s]\u001b[A\n",
      "DDIM Sampler:  15%|█▌        | 3/20 [00:01<00:10,  1.59it/s]\u001b[A\n",
      "DDIM Sampler:  20%|██        | 4/20 [00:02<00:10,  1.60it/s]\u001b[A\n",
      "DDIM Sampler:  25%|██▌       | 5/20 [00:03<00:09,  1.59it/s]\u001b[A\n",
      "DDIM Sampler:  30%|███       | 6/20 [00:03<00:08,  1.60it/s]\u001b[A\n",
      "DDIM Sampler:  35%|███▌      | 7/20 [00:04<00:08,  1.60it/s]\u001b[A\n",
      "DDIM Sampler:  40%|████      | 8/20 [00:05<00:07,  1.60it/s]\u001b[A\n",
      "DDIM Sampler:  45%|████▌     | 9/20 [00:05<00:06,  1.60it/s]\u001b[A\n",
      "DDIM Sampler:  50%|█████     | 10/20 [00:06<00:06,  1.60it/s]\u001b[A\n",
      "DDIM Sampler:  55%|█████▌    | 11/20 [00:06<00:05,  1.60it/s]\u001b[A\n",
      "DDIM Sampler:  60%|██████    | 12/20 [00:07<00:05,  1.60it/s]\u001b[A\n",
      "DDIM Sampler:  65%|██████▌   | 13/20 [00:08<00:04,  1.60it/s]\u001b[A\n",
      "DDIM Sampler:  70%|███████   | 14/20 [00:08<00:03,  1.60it/s]\u001b[A\n",
      "DDIM Sampler:  75%|███████▌  | 15/20 [00:09<00:03,  1.60it/s]\u001b[A\n",
      "DDIM Sampler:  80%|████████  | 16/20 [00:10<00:02,  1.60it/s]\u001b[A\n",
      "DDIM Sampler:  85%|████████▌ | 17/20 [00:10<00:01,  1.60it/s]\u001b[A\n",
      "DDIM Sampler:  90%|█████████ | 18/20 [00:11<00:01,  1.60it/s]\u001b[A\n",
      "DDIM Sampler:  95%|█████████▌| 19/20 [00:11<00:00,  1.60it/s]\u001b[A\n",
      "DDIM Sampler: 100%|██████████| 20/20 [00:12<00:00,  1.60it/s]\u001b[A\n",
      "Global seed set to 9181\n"
     ]
    },
    {
     "name": "stdout",
     "output_type": "stream",
     "text": [
      "Data shape for DDIM sampling is (2, 4, 64, 64), eta 0.0\n",
      "Running DDIM Sampling with 20 timesteps\n"
     ]
    },
    {
     "name": "stderr",
     "output_type": "stream",
     "text": [
      "\n",
      "DDIM Sampler:   0%|          | 0/20 [00:00<?, ?it/s]\u001b[A\n",
      "DDIM Sampler:   5%|▌         | 1/20 [00:00<00:11,  1.63it/s]\u001b[A\n",
      "DDIM Sampler:  10%|█         | 2/20 [00:01<00:11,  1.59it/s]\u001b[A\n",
      "DDIM Sampler:  15%|█▌        | 3/20 [00:01<00:10,  1.60it/s]\u001b[A\n",
      "DDIM Sampler:  20%|██        | 4/20 [00:02<00:09,  1.60it/s]\u001b[A\n",
      "DDIM Sampler:  25%|██▌       | 5/20 [00:03<00:09,  1.60it/s]\u001b[A\n",
      "DDIM Sampler:  30%|███       | 6/20 [00:03<00:08,  1.60it/s]\u001b[A\n",
      "DDIM Sampler:  35%|███▌      | 7/20 [00:04<00:08,  1.60it/s]\u001b[A\n",
      "DDIM Sampler:  40%|████      | 8/20 [00:05<00:07,  1.60it/s]\u001b[A\n",
      "DDIM Sampler:  45%|████▌     | 9/20 [00:05<00:06,  1.60it/s]\u001b[A\n",
      "DDIM Sampler:  50%|█████     | 10/20 [00:06<00:06,  1.60it/s]\u001b[A\n",
      "DDIM Sampler:  55%|█████▌    | 11/20 [00:06<00:05,  1.60it/s]\u001b[A\n",
      "DDIM Sampler:  60%|██████    | 12/20 [00:07<00:05,  1.60it/s]\u001b[A\n",
      "DDIM Sampler:  65%|██████▌   | 13/20 [00:08<00:04,  1.60it/s]\u001b[A\n",
      "DDIM Sampler:  70%|███████   | 14/20 [00:08<00:03,  1.60it/s]\u001b[A\n",
      "DDIM Sampler:  75%|███████▌  | 15/20 [00:09<00:03,  1.60it/s]\u001b[A\n",
      "DDIM Sampler:  80%|████████  | 16/20 [00:10<00:02,  1.60it/s]\u001b[A\n",
      "DDIM Sampler:  85%|████████▌ | 17/20 [00:10<00:01,  1.60it/s]\u001b[A\n",
      "DDIM Sampler:  90%|█████████ | 18/20 [00:11<00:01,  1.60it/s]\u001b[A\n",
      "DDIM Sampler:  95%|█████████▌| 19/20 [00:11<00:00,  1.60it/s]\u001b[A\n",
      "DDIM Sampler: 100%|██████████| 20/20 [00:12<00:00,  1.60it/s]\u001b[A\n",
      "Global seed set to 64188\n"
     ]
    },
    {
     "name": "stdout",
     "output_type": "stream",
     "text": [
      "Data shape for DDIM sampling is (2, 4, 64, 64), eta 0.0\n",
      "Running DDIM Sampling with 20 timesteps\n"
     ]
    },
    {
     "name": "stderr",
     "output_type": "stream",
     "text": [
      "\n",
      "DDIM Sampler:   0%|          | 0/20 [00:00<?, ?it/s]\u001b[A\n",
      "DDIM Sampler:   5%|▌         | 1/20 [00:00<00:11,  1.64it/s]\u001b[A\n",
      "DDIM Sampler:  10%|█         | 2/20 [00:01<00:11,  1.59it/s]\u001b[A\n",
      "DDIM Sampler:  15%|█▌        | 3/20 [00:01<00:10,  1.60it/s]\u001b[A\n",
      "DDIM Sampler:  20%|██        | 4/20 [00:02<00:09,  1.60it/s]\u001b[A\n",
      "DDIM Sampler:  25%|██▌       | 5/20 [00:03<00:09,  1.60it/s]\u001b[A\n",
      "DDIM Sampler:  30%|███       | 6/20 [00:03<00:08,  1.60it/s]\u001b[A\n",
      "DDIM Sampler:  35%|███▌      | 7/20 [00:04<00:08,  1.60it/s]\u001b[A\n",
      "DDIM Sampler:  40%|████      | 8/20 [00:04<00:07,  1.60it/s]\u001b[A\n",
      "DDIM Sampler:  45%|████▌     | 9/20 [00:05<00:06,  1.60it/s]\u001b[A\n",
      "DDIM Sampler:  50%|█████     | 10/20 [00:06<00:06,  1.60it/s]\u001b[A\n",
      "DDIM Sampler:  55%|█████▌    | 11/20 [00:06<00:05,  1.60it/s]\u001b[A\n",
      "DDIM Sampler:  60%|██████    | 12/20 [00:07<00:05,  1.60it/s]\u001b[A\n",
      "DDIM Sampler:  65%|██████▌   | 13/20 [00:08<00:04,  1.60it/s]\u001b[A\n",
      "DDIM Sampler:  70%|███████   | 14/20 [00:08<00:03,  1.60it/s]\u001b[A\n",
      "DDIM Sampler:  75%|███████▌  | 15/20 [00:09<00:03,  1.60it/s]\u001b[A\n",
      "DDIM Sampler:  80%|████████  | 16/20 [00:10<00:02,  1.60it/s]\u001b[A\n",
      "DDIM Sampler:  85%|████████▌ | 17/20 [00:10<00:01,  1.60it/s]\u001b[A\n",
      "DDIM Sampler:  90%|█████████ | 18/20 [00:11<00:01,  1.60it/s]\u001b[A\n",
      "DDIM Sampler:  95%|█████████▌| 19/20 [00:11<00:00,  1.60it/s]\u001b[A\n",
      "DDIM Sampler: 100%|██████████| 20/20 [00:12<00:00,  1.60it/s]\u001b[A\n",
      "Global seed set to 10533\n"
     ]
    },
    {
     "name": "stdout",
     "output_type": "stream",
     "text": [
      "Data shape for DDIM sampling is (2, 4, 64, 64), eta 0.0\n",
      "Running DDIM Sampling with 20 timesteps\n"
     ]
    },
    {
     "name": "stderr",
     "output_type": "stream",
     "text": [
      "\n",
      "DDIM Sampler:   0%|          | 0/20 [00:00<?, ?it/s]\u001b[A\n",
      "DDIM Sampler:   5%|▌         | 1/20 [00:00<00:11,  1.63it/s]\u001b[A\n",
      "DDIM Sampler:  10%|█         | 2/20 [00:01<00:11,  1.59it/s]\u001b[A\n",
      "DDIM Sampler:  15%|█▌        | 3/20 [00:01<00:10,  1.59it/s]\u001b[A\n",
      "DDIM Sampler:  20%|██        | 4/20 [00:02<00:10,  1.60it/s]\u001b[A\n",
      "DDIM Sampler:  25%|██▌       | 5/20 [00:03<00:09,  1.60it/s]\u001b[A\n",
      "DDIM Sampler:  30%|███       | 6/20 [00:03<00:08,  1.60it/s]\u001b[A\n",
      "DDIM Sampler:  35%|███▌      | 7/20 [00:04<00:08,  1.60it/s]\u001b[A\n",
      "DDIM Sampler:  40%|████      | 8/20 [00:05<00:07,  1.60it/s]\u001b[A\n",
      "DDIM Sampler:  45%|████▌     | 9/20 [00:05<00:06,  1.60it/s]\u001b[A\n",
      "DDIM Sampler:  50%|█████     | 10/20 [00:06<00:06,  1.60it/s]\u001b[A\n",
      "DDIM Sampler:  55%|█████▌    | 11/20 [00:06<00:05,  1.60it/s]\u001b[A\n",
      "DDIM Sampler:  60%|██████    | 12/20 [00:07<00:05,  1.60it/s]\u001b[A\n",
      "DDIM Sampler:  65%|██████▌   | 13/20 [00:08<00:04,  1.60it/s]\u001b[A\n",
      "DDIM Sampler:  70%|███████   | 14/20 [00:08<00:03,  1.60it/s]\u001b[A\n",
      "DDIM Sampler:  75%|███████▌  | 15/20 [00:09<00:03,  1.60it/s]\u001b[A\n",
      "DDIM Sampler:  80%|████████  | 16/20 [00:10<00:02,  1.60it/s]\u001b[A\n",
      "DDIM Sampler:  85%|████████▌ | 17/20 [00:10<00:01,  1.60it/s]\u001b[A\n",
      "DDIM Sampler:  90%|█████████ | 18/20 [00:11<00:01,  1.60it/s]\u001b[A\n",
      "DDIM Sampler:  95%|█████████▌| 19/20 [00:11<00:00,  1.60it/s]\u001b[A\n",
      "DDIM Sampler: 100%|██████████| 20/20 [00:12<00:00,  1.60it/s]\u001b[A\n",
      "Global seed set to 31808\n"
     ]
    },
    {
     "name": "stdout",
     "output_type": "stream",
     "text": [
      "Data shape for DDIM sampling is (2, 4, 64, 64), eta 0.0\n",
      "Running DDIM Sampling with 20 timesteps\n"
     ]
    },
    {
     "name": "stderr",
     "output_type": "stream",
     "text": [
      "\n",
      "DDIM Sampler:   0%|          | 0/20 [00:00<?, ?it/s]\u001b[A\n",
      "DDIM Sampler:   5%|▌         | 1/20 [00:00<00:11,  1.63it/s]\u001b[A\n",
      "DDIM Sampler:  10%|█         | 2/20 [00:01<00:11,  1.59it/s]\u001b[A\n",
      "DDIM Sampler:  15%|█▌        | 3/20 [00:01<00:10,  1.59it/s]\u001b[A\n",
      "DDIM Sampler:  20%|██        | 4/20 [00:02<00:10,  1.60it/s]\u001b[A\n",
      "DDIM Sampler:  25%|██▌       | 5/20 [00:03<00:09,  1.59it/s]\u001b[A\n",
      "DDIM Sampler:  30%|███       | 6/20 [00:03<00:08,  1.60it/s]\u001b[A\n",
      "DDIM Sampler:  35%|███▌      | 7/20 [00:04<00:08,  1.59it/s]\u001b[A\n",
      "DDIM Sampler:  40%|████      | 8/20 [00:05<00:07,  1.60it/s]\u001b[A\n",
      "DDIM Sampler:  45%|████▌     | 9/20 [00:05<00:06,  1.60it/s]\u001b[A\n",
      "DDIM Sampler:  50%|█████     | 10/20 [00:06<00:06,  1.60it/s]\u001b[A\n",
      "DDIM Sampler:  55%|█████▌    | 11/20 [00:06<00:05,  1.60it/s]\u001b[A\n",
      "DDIM Sampler:  60%|██████    | 12/20 [00:07<00:05,  1.60it/s]\u001b[A\n",
      "DDIM Sampler:  65%|██████▌   | 13/20 [00:08<00:04,  1.60it/s]\u001b[A\n",
      "DDIM Sampler:  70%|███████   | 14/20 [00:08<00:03,  1.60it/s]\u001b[A\n",
      "DDIM Sampler:  75%|███████▌  | 15/20 [00:09<00:03,  1.60it/s]\u001b[A\n",
      "DDIM Sampler:  80%|████████  | 16/20 [00:10<00:02,  1.60it/s]\u001b[A\n",
      "DDIM Sampler:  85%|████████▌ | 17/20 [00:10<00:01,  1.60it/s]\u001b[A\n",
      "DDIM Sampler:  90%|█████████ | 18/20 [00:11<00:01,  1.60it/s]\u001b[A\n",
      "DDIM Sampler:  95%|█████████▌| 19/20 [00:11<00:00,  1.60it/s]\u001b[A\n",
      "DDIM Sampler: 100%|██████████| 20/20 [00:12<00:00,  1.60it/s]\u001b[A\n",
      "Global seed set to 33281\n"
     ]
    },
    {
     "name": "stdout",
     "output_type": "stream",
     "text": [
      "Data shape for DDIM sampling is (2, 4, 64, 64), eta 0.0\n",
      "Running DDIM Sampling with 20 timesteps\n"
     ]
    },
    {
     "name": "stderr",
     "output_type": "stream",
     "text": [
      "\n",
      "DDIM Sampler:   0%|          | 0/20 [00:00<?, ?it/s]\u001b[A\n",
      "DDIM Sampler:   5%|▌         | 1/20 [00:00<00:11,  1.63it/s]\u001b[A\n",
      "DDIM Sampler:  10%|█         | 2/20 [00:01<00:11,  1.59it/s]\u001b[A\n",
      "DDIM Sampler:  15%|█▌        | 3/20 [00:01<00:10,  1.59it/s]\u001b[A\n",
      "DDIM Sampler:  20%|██        | 4/20 [00:02<00:10,  1.60it/s]\u001b[A\n",
      "DDIM Sampler:  25%|██▌       | 5/20 [00:03<00:09,  1.59it/s]\u001b[A\n",
      "DDIM Sampler:  30%|███       | 6/20 [00:03<00:08,  1.60it/s]\u001b[A\n",
      "DDIM Sampler:  35%|███▌      | 7/20 [00:04<00:08,  1.59it/s]\u001b[A\n",
      "DDIM Sampler:  40%|████      | 8/20 [00:05<00:07,  1.59it/s]\u001b[A\n",
      "DDIM Sampler:  45%|████▌     | 9/20 [00:05<00:06,  1.60it/s]\u001b[A\n",
      "DDIM Sampler:  50%|█████     | 10/20 [00:06<00:06,  1.59it/s]\u001b[A\n",
      "DDIM Sampler:  55%|█████▌    | 11/20 [00:06<00:05,  1.60it/s]\u001b[A\n",
      "DDIM Sampler:  60%|██████    | 12/20 [00:07<00:05,  1.60it/s]\u001b[A\n",
      "DDIM Sampler:  65%|██████▌   | 13/20 [00:08<00:04,  1.59it/s]\u001b[A\n",
      "DDIM Sampler:  70%|███████   | 14/20 [00:08<00:03,  1.60it/s]\u001b[A\n",
      "DDIM Sampler:  75%|███████▌  | 15/20 [00:09<00:03,  1.60it/s]\u001b[A\n",
      "DDIM Sampler:  80%|████████  | 16/20 [00:10<00:02,  1.60it/s]\u001b[A\n",
      "DDIM Sampler:  85%|████████▌ | 17/20 [00:10<00:01,  1.60it/s]\u001b[A\n",
      "DDIM Sampler:  90%|█████████ | 18/20 [00:11<00:01,  1.60it/s]\u001b[A\n",
      "DDIM Sampler:  95%|█████████▌| 19/20 [00:11<00:00,  1.60it/s]\u001b[A\n",
      "DDIM Sampler: 100%|██████████| 20/20 [00:12<00:00,  1.60it/s]\u001b[A\n",
      "Global seed set to 9181\n"
     ]
    },
    {
     "name": "stdout",
     "output_type": "stream",
     "text": [
      "Data shape for DDIM sampling is (2, 4, 64, 64), eta 0.0\n",
      "Running DDIM Sampling with 20 timesteps\n"
     ]
    },
    {
     "name": "stderr",
     "output_type": "stream",
     "text": [
      "\n",
      "DDIM Sampler:   0%|          | 0/20 [00:00<?, ?it/s]\u001b[A\n",
      "DDIM Sampler:   5%|▌         | 1/20 [00:00<00:11,  1.63it/s]\u001b[A\n",
      "DDIM Sampler:  10%|█         | 2/20 [00:01<00:11,  1.59it/s]\u001b[A\n",
      "DDIM Sampler:  15%|█▌        | 3/20 [00:01<00:10,  1.59it/s]\u001b[A\n",
      "DDIM Sampler:  20%|██        | 4/20 [00:02<00:10,  1.60it/s]\u001b[A\n",
      "DDIM Sampler:  25%|██▌       | 5/20 [00:03<00:09,  1.59it/s]\u001b[A\n",
      "DDIM Sampler:  30%|███       | 6/20 [00:03<00:08,  1.60it/s]\u001b[A\n",
      "DDIM Sampler:  35%|███▌      | 7/20 [00:04<00:08,  1.60it/s]\u001b[A\n",
      "DDIM Sampler:  40%|████      | 8/20 [00:05<00:07,  1.60it/s]\u001b[A\n",
      "DDIM Sampler:  45%|████▌     | 9/20 [00:05<00:06,  1.60it/s]\u001b[A\n",
      "DDIM Sampler:  50%|█████     | 10/20 [00:06<00:06,  1.60it/s]\u001b[A\n",
      "DDIM Sampler:  55%|█████▌    | 11/20 [00:06<00:05,  1.60it/s]\u001b[A\n",
      "DDIM Sampler:  60%|██████    | 12/20 [00:07<00:05,  1.60it/s]\u001b[A\n",
      "DDIM Sampler:  65%|██████▌   | 13/20 [00:08<00:04,  1.60it/s]\u001b[A\n",
      "DDIM Sampler:  70%|███████   | 14/20 [00:08<00:03,  1.60it/s]\u001b[A\n",
      "DDIM Sampler:  75%|███████▌  | 15/20 [00:09<00:03,  1.60it/s]\u001b[A\n",
      "DDIM Sampler:  80%|████████  | 16/20 [00:10<00:02,  1.60it/s]\u001b[A\n",
      "DDIM Sampler:  85%|████████▌ | 17/20 [00:10<00:01,  1.60it/s]\u001b[A\n",
      "DDIM Sampler:  90%|█████████ | 18/20 [00:11<00:01,  1.60it/s]\u001b[A\n",
      "DDIM Sampler:  95%|█████████▌| 19/20 [00:11<00:00,  1.60it/s]\u001b[A\n",
      "DDIM Sampler: 100%|██████████| 20/20 [00:12<00:00,  1.60it/s]\u001b[A\n",
      "Global seed set to 64188\n"
     ]
    },
    {
     "name": "stdout",
     "output_type": "stream",
     "text": [
      "Data shape for DDIM sampling is (2, 4, 72, 64), eta 0.0\n",
      "Running DDIM Sampling with 20 timesteps\n"
     ]
    },
    {
     "name": "stderr",
     "output_type": "stream",
     "text": [
      "\n",
      "DDIM Sampler:   0%|          | 0/20 [00:00<?, ?it/s]\u001b[A\n",
      "DDIM Sampler:   5%|▌         | 1/20 [00:00<00:13,  1.36it/s]\u001b[A\n",
      "DDIM Sampler:  10%|█         | 2/20 [00:01<00:13,  1.34it/s]\u001b[A\n",
      "DDIM Sampler:  15%|█▌        | 3/20 [00:02<00:12,  1.34it/s]\u001b[A\n",
      "DDIM Sampler:  20%|██        | 4/20 [00:02<00:11,  1.33it/s]\u001b[A\n",
      "DDIM Sampler:  25%|██▌       | 5/20 [00:03<00:11,  1.34it/s]\u001b[A\n",
      "DDIM Sampler:  30%|███       | 6/20 [00:04<00:10,  1.34it/s]\u001b[A\n",
      "DDIM Sampler:  35%|███▌      | 7/20 [00:05<00:09,  1.34it/s]\u001b[A\n",
      "DDIM Sampler:  40%|████      | 8/20 [00:05<00:08,  1.34it/s]\u001b[A\n",
      "DDIM Sampler:  45%|████▌     | 9/20 [00:06<00:08,  1.34it/s]\u001b[A\n",
      "DDIM Sampler:  50%|█████     | 10/20 [00:07<00:07,  1.34it/s]\u001b[A\n",
      "DDIM Sampler:  55%|█████▌    | 11/20 [00:08<00:06,  1.34it/s]\u001b[A\n",
      "DDIM Sampler:  60%|██████    | 12/20 [00:08<00:05,  1.34it/s]\u001b[A\n",
      "DDIM Sampler:  65%|██████▌   | 13/20 [00:09<00:05,  1.34it/s]\u001b[A\n",
      "DDIM Sampler:  70%|███████   | 14/20 [00:10<00:04,  1.34it/s]\u001b[A\n",
      "DDIM Sampler:  75%|███████▌  | 15/20 [00:11<00:03,  1.34it/s]\u001b[A\n",
      "DDIM Sampler:  80%|████████  | 16/20 [00:11<00:02,  1.34it/s]\u001b[A\n",
      "DDIM Sampler:  85%|████████▌ | 17/20 [00:12<00:02,  1.34it/s]\u001b[A\n",
      "DDIM Sampler:  90%|█████████ | 18/20 [00:13<00:01,  1.34it/s]\u001b[A\n",
      "DDIM Sampler:  95%|█████████▌| 19/20 [00:14<00:00,  1.34it/s]\u001b[A\n",
      "DDIM Sampler: 100%|██████████| 20/20 [00:14<00:00,  1.34it/s]\u001b[A\n",
      "Global seed set to 10533\n"
     ]
    },
    {
     "name": "stdout",
     "output_type": "stream",
     "text": [
      "Data shape for DDIM sampling is (2, 4, 64, 64), eta 0.0\n",
      "Running DDIM Sampling with 20 timesteps\n"
     ]
    },
    {
     "name": "stderr",
     "output_type": "stream",
     "text": [
      "\n",
      "DDIM Sampler:   0%|          | 0/20 [00:00<?, ?it/s]\u001b[A\n",
      "DDIM Sampler:   5%|▌         | 1/20 [00:00<00:11,  1.63it/s]\u001b[A\n",
      "DDIM Sampler:  10%|█         | 2/20 [00:01<00:11,  1.60it/s]\u001b[A\n",
      "DDIM Sampler:  15%|█▌        | 3/20 [00:01<00:10,  1.59it/s]\u001b[A\n",
      "DDIM Sampler:  20%|██        | 4/20 [00:02<00:10,  1.60it/s]\u001b[A\n",
      "DDIM Sampler:  25%|██▌       | 5/20 [00:03<00:09,  1.59it/s]\u001b[A\n",
      "DDIM Sampler:  30%|███       | 6/20 [00:03<00:08,  1.60it/s]\u001b[A\n",
      "DDIM Sampler:  35%|███▌      | 7/20 [00:04<00:08,  1.60it/s]\u001b[A\n",
      "DDIM Sampler:  40%|████      | 8/20 [00:05<00:07,  1.60it/s]\u001b[A\n",
      "DDIM Sampler:  45%|████▌     | 9/20 [00:05<00:06,  1.60it/s]\u001b[A\n",
      "DDIM Sampler:  50%|█████     | 10/20 [00:06<00:06,  1.60it/s]\u001b[A\n",
      "DDIM Sampler:  55%|█████▌    | 11/20 [00:06<00:05,  1.60it/s]\u001b[A\n",
      "DDIM Sampler:  60%|██████    | 12/20 [00:07<00:05,  1.60it/s]\u001b[A\n",
      "DDIM Sampler:  65%|██████▌   | 13/20 [00:08<00:04,  1.59it/s]\u001b[A\n",
      "DDIM Sampler:  70%|███████   | 14/20 [00:08<00:03,  1.60it/s]\u001b[A\n",
      "DDIM Sampler:  75%|███████▌  | 15/20 [00:09<00:03,  1.60it/s]\u001b[A\n",
      "DDIM Sampler:  80%|████████  | 16/20 [00:10<00:02,  1.60it/s]\u001b[A\n",
      "DDIM Sampler:  85%|████████▌ | 17/20 [00:10<00:01,  1.60it/s]\u001b[A\n",
      "DDIM Sampler:  90%|█████████ | 18/20 [00:11<00:01,  1.60it/s]\u001b[A\n",
      "DDIM Sampler:  95%|█████████▌| 19/20 [00:11<00:00,  1.59it/s]\u001b[A\n",
      "DDIM Sampler: 100%|██████████| 20/20 [00:12<00:00,  1.60it/s]\u001b[A\n",
      "Global seed set to 31808\n"
     ]
    },
    {
     "name": "stdout",
     "output_type": "stream",
     "text": [
      "Data shape for DDIM sampling is (2, 4, 64, 96), eta 0.0\n",
      "Running DDIM Sampling with 20 timesteps\n"
     ]
    },
    {
     "name": "stderr",
     "output_type": "stream",
     "text": [
      "\n",
      "DDIM Sampler:   0%|          | 0/20 [00:00<?, ?it/s]\u001b[A\n",
      "DDIM Sampler:   5%|▌         | 1/20 [00:01<00:22,  1.17s/it]\u001b[A\n",
      "DDIM Sampler:  10%|█         | 2/20 [00:02<00:20,  1.16s/it]\u001b[A\n",
      "DDIM Sampler:  15%|█▌        | 3/20 [00:03<00:19,  1.16s/it]\u001b[A\n",
      "DDIM Sampler:  20%|██        | 4/20 [00:04<00:18,  1.16s/it]\u001b[A\n",
      "DDIM Sampler:  25%|██▌       | 5/20 [00:05<00:17,  1.16s/it]\u001b[A\n",
      "DDIM Sampler:  30%|███       | 6/20 [00:06<00:16,  1.16s/it]\u001b[A\n",
      "DDIM Sampler:  35%|███▌      | 7/20 [00:08<00:15,  1.16s/it]\u001b[A\n",
      "DDIM Sampler:  40%|████      | 8/20 [00:09<00:13,  1.16s/it]\u001b[A\n",
      "DDIM Sampler:  45%|████▌     | 9/20 [00:10<00:12,  1.16s/it]\u001b[A\n",
      "DDIM Sampler:  50%|█████     | 10/20 [00:11<00:11,  1.16s/it]\u001b[A\n",
      "DDIM Sampler:  55%|█████▌    | 11/20 [00:12<00:10,  1.16s/it]\u001b[A\n",
      "DDIM Sampler:  60%|██████    | 12/20 [00:13<00:09,  1.16s/it]\u001b[A\n",
      "DDIM Sampler:  65%|██████▌   | 13/20 [00:15<00:08,  1.16s/it]\u001b[A\n",
      "DDIM Sampler:  70%|███████   | 14/20 [00:16<00:06,  1.16s/it]\u001b[A\n",
      "DDIM Sampler:  75%|███████▌  | 15/20 [00:17<00:05,  1.16s/it]\u001b[A\n",
      "DDIM Sampler:  80%|████████  | 16/20 [00:18<00:04,  1.16s/it]\u001b[A\n",
      "DDIM Sampler:  85%|████████▌ | 17/20 [00:19<00:03,  1.16s/it]\u001b[A\n",
      "DDIM Sampler:  90%|█████████ | 18/20 [00:20<00:02,  1.16s/it]\u001b[A\n",
      "DDIM Sampler:  95%|█████████▌| 19/20 [00:22<00:01,  1.16s/it]\u001b[A\n",
      "DDIM Sampler: 100%|██████████| 20/20 [00:23<00:00,  1.16s/it]\u001b[A\n",
      "Global seed set to 33281\n"
     ]
    },
    {
     "name": "stdout",
     "output_type": "stream",
     "text": [
      "Data shape for DDIM sampling is (2, 4, 64, 64), eta 0.0\n",
      "Running DDIM Sampling with 20 timesteps\n"
     ]
    },
    {
     "name": "stderr",
     "output_type": "stream",
     "text": [
      "\n",
      "DDIM Sampler:   0%|          | 0/20 [00:00<?, ?it/s]\u001b[A\n",
      "DDIM Sampler:   5%|▌         | 1/20 [00:00<00:11,  1.63it/s]\u001b[A\n",
      "DDIM Sampler:  10%|█         | 2/20 [00:01<00:11,  1.60it/s]\u001b[A\n",
      "DDIM Sampler:  15%|█▌        | 3/20 [00:01<00:10,  1.60it/s]\u001b[A\n",
      "DDIM Sampler:  20%|██        | 4/20 [00:02<00:09,  1.60it/s]\u001b[A\n",
      "DDIM Sampler:  25%|██▌       | 5/20 [00:03<00:09,  1.60it/s]\u001b[A\n",
      "DDIM Sampler:  30%|███       | 6/20 [00:03<00:08,  1.60it/s]\u001b[A\n",
      "DDIM Sampler:  35%|███▌      | 7/20 [00:04<00:08,  1.60it/s]\u001b[A\n",
      "DDIM Sampler:  40%|████      | 8/20 [00:05<00:07,  1.60it/s]\u001b[A\n",
      "DDIM Sampler:  45%|████▌     | 9/20 [00:05<00:06,  1.60it/s]\u001b[A\n",
      "DDIM Sampler:  50%|█████     | 10/20 [00:06<00:06,  1.59it/s]\u001b[A\n",
      "DDIM Sampler:  55%|█████▌    | 11/20 [00:06<00:05,  1.59it/s]\u001b[A\n",
      "DDIM Sampler:  60%|██████    | 12/20 [00:07<00:05,  1.60it/s]\u001b[A\n",
      "DDIM Sampler:  65%|██████▌   | 13/20 [00:08<00:04,  1.59it/s]\u001b[A\n",
      "DDIM Sampler:  70%|███████   | 14/20 [00:08<00:03,  1.60it/s]\u001b[A\n",
      "DDIM Sampler:  75%|███████▌  | 15/20 [00:09<00:03,  1.60it/s]\u001b[A\n",
      "DDIM Sampler:  80%|████████  | 16/20 [00:10<00:02,  1.60it/s]\u001b[A\n",
      "DDIM Sampler:  85%|████████▌ | 17/20 [00:10<00:01,  1.60it/s]\u001b[A\n",
      "DDIM Sampler:  90%|█████████ | 18/20 [00:11<00:01,  1.60it/s]\u001b[A\n",
      "DDIM Sampler:  95%|█████████▌| 19/20 [00:11<00:00,  1.60it/s]\u001b[A\n",
      "DDIM Sampler: 100%|██████████| 20/20 [00:12<00:00,  1.60it/s]\u001b[A\n",
      "Global seed set to 9181\n"
     ]
    },
    {
     "name": "stdout",
     "output_type": "stream",
     "text": [
      "Data shape for DDIM sampling is (2, 4, 64, 64), eta 0.0\n",
      "Running DDIM Sampling with 20 timesteps\n"
     ]
    },
    {
     "name": "stderr",
     "output_type": "stream",
     "text": [
      "\n",
      "DDIM Sampler:   0%|          | 0/20 [00:00<?, ?it/s]\u001b[A\n",
      "DDIM Sampler:   5%|▌         | 1/20 [00:00<00:11,  1.63it/s]\u001b[A\n",
      "DDIM Sampler:  10%|█         | 2/20 [00:01<00:11,  1.59it/s]\u001b[A\n",
      "DDIM Sampler:  15%|█▌        | 3/20 [00:01<00:10,  1.59it/s]\u001b[A\n",
      "DDIM Sampler:  20%|██        | 4/20 [00:02<00:10,  1.60it/s]\u001b[A\n",
      "DDIM Sampler:  25%|██▌       | 5/20 [00:03<00:09,  1.59it/s]\u001b[A\n",
      "DDIM Sampler:  30%|███       | 6/20 [00:03<00:08,  1.60it/s]\u001b[A\n",
      "DDIM Sampler:  35%|███▌      | 7/20 [00:04<00:08,  1.60it/s]\u001b[A\n",
      "DDIM Sampler:  40%|████      | 8/20 [00:05<00:07,  1.60it/s]\u001b[A\n",
      "DDIM Sampler:  45%|████▌     | 9/20 [00:05<00:06,  1.60it/s]\u001b[A\n",
      "DDIM Sampler:  50%|█████     | 10/20 [00:06<00:06,  1.60it/s]\u001b[A\n",
      "DDIM Sampler:  55%|█████▌    | 11/20 [00:06<00:05,  1.60it/s]\u001b[A\n",
      "DDIM Sampler:  60%|██████    | 12/20 [00:07<00:05,  1.60it/s]\u001b[A\n",
      "DDIM Sampler:  65%|██████▌   | 13/20 [00:08<00:04,  1.60it/s]\u001b[A\n",
      "DDIM Sampler:  70%|███████   | 14/20 [00:08<00:03,  1.60it/s]\u001b[A\n",
      "DDIM Sampler:  75%|███████▌  | 15/20 [00:09<00:03,  1.60it/s]\u001b[A\n",
      "DDIM Sampler:  80%|████████  | 16/20 [00:10<00:02,  1.60it/s]\u001b[A\n",
      "DDIM Sampler:  85%|████████▌ | 17/20 [00:10<00:01,  1.60it/s]\u001b[A\n",
      "DDIM Sampler:  90%|█████████ | 18/20 [00:11<00:01,  1.60it/s]\u001b[A\n",
      "DDIM Sampler:  95%|█████████▌| 19/20 [00:11<00:00,  1.59it/s]\u001b[A\n",
      "DDIM Sampler: 100%|██████████| 20/20 [00:12<00:00,  1.60it/s]\u001b[A\n",
      "Global seed set to 64188\n"
     ]
    },
    {
     "name": "stdout",
     "output_type": "stream",
     "text": [
      "Data shape for DDIM sampling is (2, 4, 64, 64), eta 0.0\n",
      "Running DDIM Sampling with 20 timesteps\n"
     ]
    },
    {
     "name": "stderr",
     "output_type": "stream",
     "text": [
      "\n",
      "DDIM Sampler:   0%|          | 0/20 [00:00<?, ?it/s]\u001b[A\n",
      "DDIM Sampler:   5%|▌         | 1/20 [00:00<00:11,  1.64it/s]\u001b[A\n",
      "DDIM Sampler:  10%|█         | 2/20 [00:01<00:11,  1.59it/s]\u001b[A\n",
      "DDIM Sampler:  15%|█▌        | 3/20 [00:01<00:10,  1.59it/s]\u001b[A\n",
      "DDIM Sampler:  20%|██        | 4/20 [00:02<00:10,  1.60it/s]\u001b[A\n",
      "DDIM Sampler:  25%|██▌       | 5/20 [00:03<00:09,  1.59it/s]\u001b[A\n",
      "DDIM Sampler:  30%|███       | 6/20 [00:03<00:08,  1.60it/s]\u001b[A\n",
      "DDIM Sampler:  35%|███▌      | 7/20 [00:04<00:08,  1.60it/s]\u001b[A\n",
      "DDIM Sampler:  40%|████      | 8/20 [00:05<00:07,  1.60it/s]\u001b[A\n",
      "DDIM Sampler:  45%|████▌     | 9/20 [00:05<00:06,  1.60it/s]\u001b[A\n",
      "DDIM Sampler:  50%|█████     | 10/20 [00:06<00:06,  1.60it/s]\u001b[A\n",
      "DDIM Sampler:  55%|█████▌    | 11/20 [00:06<00:05,  1.60it/s]\u001b[A\n",
      "DDIM Sampler:  60%|██████    | 12/20 [00:07<00:05,  1.60it/s]\u001b[A\n",
      "DDIM Sampler:  65%|██████▌   | 13/20 [00:08<00:04,  1.60it/s]\u001b[A\n",
      "DDIM Sampler:  70%|███████   | 14/20 [00:08<00:03,  1.60it/s]\u001b[A\n",
      "DDIM Sampler:  75%|███████▌  | 15/20 [00:09<00:03,  1.60it/s]\u001b[A\n",
      "DDIM Sampler:  80%|████████  | 16/20 [00:10<00:02,  1.59it/s]\u001b[A\n",
      "DDIM Sampler:  85%|████████▌ | 17/20 [00:10<00:01,  1.60it/s]\u001b[A\n",
      "DDIM Sampler:  90%|█████████ | 18/20 [00:11<00:01,  1.60it/s]\u001b[A\n",
      "DDIM Sampler:  95%|█████████▌| 19/20 [00:11<00:00,  1.60it/s]\u001b[A\n",
      "DDIM Sampler: 100%|██████████| 20/20 [00:12<00:00,  1.60it/s]\u001b[A\n",
      "Global seed set to 10533\n"
     ]
    },
    {
     "name": "stdout",
     "output_type": "stream",
     "text": [
      "Data shape for DDIM sampling is (2, 4, 64, 64), eta 0.0\n",
      "Running DDIM Sampling with 20 timesteps\n"
     ]
    },
    {
     "name": "stderr",
     "output_type": "stream",
     "text": [
      "\n",
      "DDIM Sampler:   0%|          | 0/20 [00:00<?, ?it/s]\u001b[A\n",
      "DDIM Sampler:   5%|▌         | 1/20 [00:00<00:11,  1.63it/s]\u001b[A\n",
      "DDIM Sampler:  10%|█         | 2/20 [00:01<00:11,  1.59it/s]\u001b[A\n",
      "DDIM Sampler:  15%|█▌        | 3/20 [00:01<00:10,  1.59it/s]\u001b[A\n",
      "DDIM Sampler:  20%|██        | 4/20 [00:02<00:10,  1.60it/s]\u001b[A\n",
      "DDIM Sampler:  25%|██▌       | 5/20 [00:03<00:09,  1.59it/s]\u001b[A\n",
      "DDIM Sampler:  30%|███       | 6/20 [00:03<00:08,  1.60it/s]\u001b[A\n",
      "DDIM Sampler:  35%|███▌      | 7/20 [00:04<00:08,  1.59it/s]\u001b[A\n",
      "DDIM Sampler:  40%|████      | 8/20 [00:05<00:07,  1.60it/s]\u001b[A\n",
      "DDIM Sampler:  45%|████▌     | 9/20 [00:05<00:06,  1.60it/s]\u001b[A\n",
      "DDIM Sampler:  50%|█████     | 10/20 [00:06<00:06,  1.59it/s]\u001b[A\n",
      "DDIM Sampler:  55%|█████▌    | 11/20 [00:06<00:05,  1.59it/s]\u001b[A\n",
      "DDIM Sampler:  60%|██████    | 12/20 [00:07<00:05,  1.60it/s]\u001b[A\n",
      "DDIM Sampler:  65%|██████▌   | 13/20 [00:08<00:04,  1.60it/s]\u001b[A\n",
      "DDIM Sampler:  70%|███████   | 14/20 [00:08<00:03,  1.60it/s]\u001b[A\n",
      "DDIM Sampler:  75%|███████▌  | 15/20 [00:09<00:03,  1.60it/s]\u001b[A\n",
      "DDIM Sampler:  80%|████████  | 16/20 [00:10<00:02,  1.60it/s]\u001b[A\n",
      "DDIM Sampler:  85%|████████▌ | 17/20 [00:10<00:01,  1.60it/s]\u001b[A\n",
      "DDIM Sampler:  90%|█████████ | 18/20 [00:11<00:01,  1.60it/s]\u001b[A\n",
      "DDIM Sampler:  95%|█████████▌| 19/20 [00:11<00:00,  1.59it/s]\u001b[A\n",
      "DDIM Sampler: 100%|██████████| 20/20 [00:12<00:00,  1.60it/s]\u001b[A\n",
      "Global seed set to 31808\n"
     ]
    },
    {
     "name": "stdout",
     "output_type": "stream",
     "text": [
      "Data shape for DDIM sampling is (2, 4, 64, 64), eta 0.0\n",
      "Running DDIM Sampling with 20 timesteps\n"
     ]
    },
    {
     "name": "stderr",
     "output_type": "stream",
     "text": [
      "\n",
      "DDIM Sampler:   0%|          | 0/20 [00:00<?, ?it/s]\u001b[A\n",
      "DDIM Sampler:   5%|▌         | 1/20 [00:00<00:11,  1.63it/s]\u001b[A\n",
      "DDIM Sampler:  10%|█         | 2/20 [00:01<00:11,  1.59it/s]\u001b[A\n",
      "DDIM Sampler:  15%|█▌        | 3/20 [00:01<00:10,  1.59it/s]\u001b[A\n",
      "DDIM Sampler:  20%|██        | 4/20 [00:02<00:10,  1.60it/s]\u001b[A\n",
      "DDIM Sampler:  25%|██▌       | 5/20 [00:03<00:09,  1.60it/s]\u001b[A\n",
      "DDIM Sampler:  30%|███       | 6/20 [00:03<00:08,  1.60it/s]\u001b[A\n",
      "DDIM Sampler:  35%|███▌      | 7/20 [00:04<00:08,  1.60it/s]\u001b[A\n",
      "DDIM Sampler:  40%|████      | 8/20 [00:05<00:07,  1.60it/s]\u001b[A\n",
      "DDIM Sampler:  45%|████▌     | 9/20 [00:05<00:06,  1.60it/s]\u001b[A\n",
      "DDIM Sampler:  50%|█████     | 10/20 [00:06<00:06,  1.60it/s]\u001b[A\n",
      "DDIM Sampler:  55%|█████▌    | 11/20 [00:06<00:05,  1.60it/s]\u001b[A\n",
      "DDIM Sampler:  60%|██████    | 12/20 [00:07<00:05,  1.60it/s]\u001b[A\n",
      "DDIM Sampler:  65%|██████▌   | 13/20 [00:08<00:04,  1.60it/s]\u001b[A\n",
      "DDIM Sampler:  70%|███████   | 14/20 [00:08<00:03,  1.59it/s]\u001b[A\n",
      "DDIM Sampler:  75%|███████▌  | 15/20 [00:09<00:03,  1.60it/s]\u001b[A\n",
      "DDIM Sampler:  80%|████████  | 16/20 [00:10<00:02,  1.59it/s]\u001b[A\n",
      "DDIM Sampler:  85%|████████▌ | 17/20 [00:10<00:01,  1.60it/s]\u001b[A\n",
      "DDIM Sampler:  90%|█████████ | 18/20 [00:11<00:01,  1.60it/s]\u001b[A\n",
      "DDIM Sampler:  95%|█████████▌| 19/20 [00:11<00:00,  1.60it/s]\u001b[A\n",
      "DDIM Sampler: 100%|██████████| 20/20 [00:12<00:00,  1.60it/s]\u001b[A\n",
      "Global seed set to 33281\n"
     ]
    },
    {
     "name": "stdout",
     "output_type": "stream",
     "text": [
      "Data shape for DDIM sampling is (2, 4, 64, 72), eta 0.0\n",
      "Running DDIM Sampling with 20 timesteps\n"
     ]
    },
    {
     "name": "stderr",
     "output_type": "stream",
     "text": [
      "\n",
      "DDIM Sampler:   0%|          | 0/20 [00:00<?, ?it/s]\u001b[A\n",
      "DDIM Sampler:   5%|▌         | 1/20 [00:00<00:14,  1.36it/s]\u001b[A\n",
      "DDIM Sampler:  10%|█         | 2/20 [00:01<00:13,  1.33it/s]\u001b[A\n",
      "DDIM Sampler:  15%|█▌        | 3/20 [00:02<00:12,  1.33it/s]\u001b[A\n",
      "DDIM Sampler:  20%|██        | 4/20 [00:03<00:12,  1.33it/s]\u001b[A\n",
      "DDIM Sampler:  25%|██▌       | 5/20 [00:03<00:11,  1.33it/s]\u001b[A\n",
      "DDIM Sampler:  30%|███       | 6/20 [00:04<00:10,  1.33it/s]\u001b[A\n",
      "DDIM Sampler:  35%|███▌      | 7/20 [00:05<00:09,  1.33it/s]\u001b[A\n",
      "DDIM Sampler:  40%|████      | 8/20 [00:06<00:09,  1.33it/s]\u001b[A\n",
      "DDIM Sampler:  45%|████▌     | 9/20 [00:06<00:08,  1.33it/s]\u001b[A\n",
      "DDIM Sampler:  50%|█████     | 10/20 [00:07<00:07,  1.33it/s]\u001b[A\n",
      "DDIM Sampler:  55%|█████▌    | 11/20 [00:08<00:06,  1.33it/s]\u001b[A\n",
      "DDIM Sampler:  60%|██████    | 12/20 [00:09<00:06,  1.33it/s]\u001b[A\n",
      "DDIM Sampler:  65%|██████▌   | 13/20 [00:09<00:05,  1.33it/s]\u001b[A\n",
      "DDIM Sampler:  70%|███████   | 14/20 [00:10<00:04,  1.33it/s]\u001b[A\n",
      "DDIM Sampler:  75%|███████▌  | 15/20 [00:11<00:03,  1.33it/s]\u001b[A\n",
      "DDIM Sampler:  80%|████████  | 16/20 [00:12<00:03,  1.33it/s]\u001b[A\n",
      "DDIM Sampler:  85%|████████▌ | 17/20 [00:12<00:02,  1.33it/s]\u001b[A\n",
      "DDIM Sampler:  90%|█████████ | 18/20 [00:13<00:01,  1.33it/s]\u001b[A\n",
      "DDIM Sampler:  95%|█████████▌| 19/20 [00:14<00:00,  1.34it/s]\u001b[A\n",
      "DDIM Sampler: 100%|██████████| 20/20 [00:15<00:00,  1.33it/s]\u001b[A\n",
      "Global seed set to 9181\n"
     ]
    },
    {
     "name": "stdout",
     "output_type": "stream",
     "text": [
      "Data shape for DDIM sampling is (2, 4, 64, 112), eta 0.0\n",
      "Running DDIM Sampling with 20 timesteps\n"
     ]
    },
    {
     "name": "stderr",
     "output_type": "stream",
     "text": [
      "\n",
      "DDIM Sampler:   0%|          | 0/20 [00:00<?, ?it/s]\u001b[A\n",
      "DDIM Sampler:   5%|▌         | 1/20 [00:01<00:28,  1.51s/it]\u001b[A\n",
      "DDIM Sampler:  10%|█         | 2/20 [00:03<00:27,  1.51s/it]\u001b[A\n",
      "DDIM Sampler:  15%|█▌        | 3/20 [00:04<00:25,  1.51s/it]\u001b[A\n",
      "DDIM Sampler:  20%|██        | 4/20 [00:06<00:24,  1.51s/it]\u001b[A\n",
      "DDIM Sampler:  25%|██▌       | 5/20 [00:07<00:22,  1.51s/it]\u001b[A\n",
      "DDIM Sampler:  30%|███       | 6/20 [00:09<00:21,  1.51s/it]\u001b[A\n",
      "DDIM Sampler:  35%|███▌      | 7/20 [00:10<00:19,  1.51s/it]\u001b[A\n",
      "DDIM Sampler:  40%|████      | 8/20 [00:12<00:18,  1.51s/it]\u001b[A\n",
      "DDIM Sampler:  45%|████▌     | 9/20 [00:13<00:16,  1.51s/it]\u001b[A\n",
      "DDIM Sampler:  50%|█████     | 10/20 [00:15<00:15,  1.51s/it]\u001b[A\n",
      "DDIM Sampler:  55%|█████▌    | 11/20 [00:16<00:13,  1.51s/it]\u001b[A\n",
      "DDIM Sampler:  60%|██████    | 12/20 [00:18<00:12,  1.51s/it]\u001b[A\n",
      "DDIM Sampler:  65%|██████▌   | 13/20 [00:19<00:10,  1.51s/it]\u001b[A\n",
      "DDIM Sampler:  70%|███████   | 14/20 [00:21<00:09,  1.51s/it]\u001b[A\n",
      "DDIM Sampler:  75%|███████▌  | 15/20 [00:22<00:07,  1.51s/it]\u001b[A\n",
      "DDIM Sampler:  80%|████████  | 16/20 [00:24<00:06,  1.51s/it]\u001b[A\n",
      "DDIM Sampler:  85%|████████▌ | 17/20 [00:25<00:04,  1.51s/it]\u001b[A\n",
      "DDIM Sampler:  90%|█████████ | 18/20 [00:27<00:03,  1.51s/it]\u001b[A\n",
      "DDIM Sampler:  95%|█████████▌| 19/20 [00:28<00:01,  1.51s/it]\u001b[A\n",
      "DDIM Sampler: 100%|██████████| 20/20 [00:30<00:00,  1.51s/it]\u001b[A\n",
      "Global seed set to 64188\n"
     ]
    },
    {
     "name": "stdout",
     "output_type": "stream",
     "text": [
      "Data shape for DDIM sampling is (2, 4, 64, 96), eta 0.0\n",
      "Running DDIM Sampling with 20 timesteps\n"
     ]
    },
    {
     "name": "stderr",
     "output_type": "stream",
     "text": [
      "\n",
      "DDIM Sampler:   0%|          | 0/20 [00:00<?, ?it/s]\u001b[A\n",
      "DDIM Sampler:   5%|▌         | 1/20 [00:01<00:22,  1.17s/it]\u001b[A\n",
      "DDIM Sampler:  10%|█         | 2/20 [00:02<00:20,  1.16s/it]\u001b[A\n",
      "DDIM Sampler:  15%|█▌        | 3/20 [00:03<00:19,  1.16s/it]\u001b[A\n",
      "DDIM Sampler:  20%|██        | 4/20 [00:04<00:18,  1.16s/it]\u001b[A\n",
      "DDIM Sampler:  25%|██▌       | 5/20 [00:05<00:17,  1.16s/it]\u001b[A\n",
      "DDIM Sampler:  30%|███       | 6/20 [00:06<00:16,  1.16s/it]\u001b[A\n",
      "DDIM Sampler:  35%|███▌      | 7/20 [00:08<00:15,  1.16s/it]\u001b[A\n",
      "DDIM Sampler:  40%|████      | 8/20 [00:09<00:13,  1.16s/it]\u001b[A\n",
      "DDIM Sampler:  45%|████▌     | 9/20 [00:10<00:12,  1.16s/it]\u001b[A\n",
      "DDIM Sampler:  50%|█████     | 10/20 [00:11<00:11,  1.16s/it]\u001b[A\n",
      "DDIM Sampler:  55%|█████▌    | 11/20 [00:12<00:10,  1.16s/it]\u001b[A\n",
      "DDIM Sampler:  60%|██████    | 12/20 [00:13<00:09,  1.16s/it]\u001b[A\n",
      "DDIM Sampler:  65%|██████▌   | 13/20 [00:15<00:08,  1.16s/it]\u001b[A\n",
      "DDIM Sampler:  70%|███████   | 14/20 [00:16<00:06,  1.16s/it]\u001b[A\n",
      "DDIM Sampler:  75%|███████▌  | 15/20 [00:17<00:05,  1.16s/it]\u001b[A\n",
      "DDIM Sampler:  80%|████████  | 16/20 [00:18<00:04,  1.16s/it]\u001b[A\n",
      "DDIM Sampler:  85%|████████▌ | 17/20 [00:19<00:03,  1.16s/it]\u001b[A\n",
      "DDIM Sampler:  90%|█████████ | 18/20 [00:20<00:02,  1.16s/it]\u001b[A\n",
      "DDIM Sampler:  95%|█████████▌| 19/20 [00:22<00:01,  1.16s/it]\u001b[A\n",
      "DDIM Sampler: 100%|██████████| 20/20 [00:23<00:00,  1.16s/it]\u001b[A\n",
      "Global seed set to 10533\n"
     ]
    },
    {
     "name": "stdout",
     "output_type": "stream",
     "text": [
      "Data shape for DDIM sampling is (2, 4, 64, 64), eta 0.0\n",
      "Running DDIM Sampling with 20 timesteps\n"
     ]
    },
    {
     "name": "stderr",
     "output_type": "stream",
     "text": [
      "\n",
      "DDIM Sampler:   0%|          | 0/20 [00:00<?, ?it/s]\u001b[A\n",
      "DDIM Sampler:   5%|▌         | 1/20 [00:00<00:11,  1.63it/s]\u001b[A\n",
      "DDIM Sampler:  10%|█         | 2/20 [00:01<00:11,  1.59it/s]\u001b[A\n",
      "DDIM Sampler:  15%|█▌        | 3/20 [00:01<00:10,  1.59it/s]\u001b[A\n",
      "DDIM Sampler:  20%|██        | 4/20 [00:02<00:10,  1.60it/s]\u001b[A\n",
      "DDIM Sampler:  25%|██▌       | 5/20 [00:03<00:09,  1.60it/s]\u001b[A\n",
      "DDIM Sampler:  30%|███       | 6/20 [00:03<00:08,  1.60it/s]\u001b[A\n",
      "DDIM Sampler:  35%|███▌      | 7/20 [00:04<00:08,  1.60it/s]\u001b[A\n",
      "DDIM Sampler:  40%|████      | 8/20 [00:05<00:07,  1.60it/s]\u001b[A\n",
      "DDIM Sampler:  45%|████▌     | 9/20 [00:05<00:06,  1.60it/s]\u001b[A\n",
      "DDIM Sampler:  50%|█████     | 10/20 [00:06<00:06,  1.60it/s]\u001b[A\n",
      "DDIM Sampler:  55%|█████▌    | 11/20 [00:06<00:05,  1.60it/s]\u001b[A\n",
      "DDIM Sampler:  60%|██████    | 12/20 [00:07<00:05,  1.60it/s]\u001b[A\n",
      "DDIM Sampler:  65%|██████▌   | 13/20 [00:08<00:04,  1.60it/s]\u001b[A\n",
      "DDIM Sampler:  70%|███████   | 14/20 [00:08<00:03,  1.60it/s]\u001b[A\n",
      "DDIM Sampler:  75%|███████▌  | 15/20 [00:09<00:03,  1.60it/s]\u001b[A\n",
      "DDIM Sampler:  80%|████████  | 16/20 [00:10<00:02,  1.60it/s]\u001b[A\n",
      "DDIM Sampler:  85%|████████▌ | 17/20 [00:10<00:01,  1.60it/s]\u001b[A\n",
      "DDIM Sampler:  90%|█████████ | 18/20 [00:11<00:01,  1.60it/s]\u001b[A\n",
      "DDIM Sampler:  95%|█████████▌| 19/20 [00:11<00:00,  1.60it/s]\u001b[A\n",
      "DDIM Sampler: 100%|██████████| 20/20 [00:12<00:00,  1.60it/s]\u001b[A\n",
      "Global seed set to 31808\n"
     ]
    },
    {
     "name": "stdout",
     "output_type": "stream",
     "text": [
      "Data shape for DDIM sampling is (2, 4, 64, 64), eta 0.0\n",
      "Running DDIM Sampling with 20 timesteps\n"
     ]
    },
    {
     "name": "stderr",
     "output_type": "stream",
     "text": [
      "\n",
      "DDIM Sampler:   0%|          | 0/20 [00:00<?, ?it/s]\u001b[A\n",
      "DDIM Sampler:   5%|▌         | 1/20 [00:00<00:11,  1.63it/s]\u001b[A\n",
      "DDIM Sampler:  10%|█         | 2/20 [00:01<00:11,  1.59it/s]\u001b[A\n",
      "DDIM Sampler:  15%|█▌        | 3/20 [00:01<00:10,  1.59it/s]\u001b[A\n",
      "DDIM Sampler:  20%|██        | 4/20 [00:02<00:10,  1.60it/s]\u001b[A\n",
      "DDIM Sampler:  25%|██▌       | 5/20 [00:03<00:09,  1.59it/s]\u001b[A\n",
      "DDIM Sampler:  30%|███       | 6/20 [00:03<00:08,  1.60it/s]\u001b[A\n",
      "DDIM Sampler:  35%|███▌      | 7/20 [00:04<00:08,  1.59it/s]\u001b[A\n",
      "DDIM Sampler:  40%|████      | 8/20 [00:05<00:07,  1.59it/s]\u001b[A\n",
      "DDIM Sampler:  45%|████▌     | 9/20 [00:05<00:06,  1.60it/s]\u001b[A\n",
      "DDIM Sampler:  50%|█████     | 10/20 [00:06<00:06,  1.59it/s]\u001b[A\n",
      "DDIM Sampler:  55%|█████▌    | 11/20 [00:06<00:05,  1.59it/s]\u001b[A\n",
      "DDIM Sampler:  60%|██████    | 12/20 [00:07<00:05,  1.60it/s]\u001b[A\n",
      "DDIM Sampler:  65%|██████▌   | 13/20 [00:08<00:04,  1.59it/s]\u001b[A\n",
      "DDIM Sampler:  70%|███████   | 14/20 [00:08<00:03,  1.60it/s]\u001b[A\n",
      "DDIM Sampler:  75%|███████▌  | 15/20 [00:09<00:03,  1.60it/s]\u001b[A\n",
      "DDIM Sampler:  80%|████████  | 16/20 [00:10<00:02,  1.59it/s]\u001b[A\n",
      "DDIM Sampler:  85%|████████▌ | 17/20 [00:10<00:01,  1.60it/s]\u001b[A\n",
      "DDIM Sampler:  90%|█████████ | 18/20 [00:11<00:01,  1.60it/s]\u001b[A\n",
      "DDIM Sampler:  95%|█████████▌| 19/20 [00:11<00:00,  1.60it/s]\u001b[A\n",
      "DDIM Sampler: 100%|██████████| 20/20 [00:12<00:00,  1.60it/s]\u001b[A\n",
      "Global seed set to 33281\n"
     ]
    },
    {
     "name": "stdout",
     "output_type": "stream",
     "text": [
      "Data shape for DDIM sampling is (2, 4, 64, 64), eta 0.0\n",
      "Running DDIM Sampling with 20 timesteps\n"
     ]
    },
    {
     "name": "stderr",
     "output_type": "stream",
     "text": [
      "\n",
      "DDIM Sampler:   0%|          | 0/20 [00:00<?, ?it/s]\u001b[A\n",
      "DDIM Sampler:   5%|▌         | 1/20 [00:00<00:11,  1.63it/s]\u001b[A\n",
      "DDIM Sampler:  10%|█         | 2/20 [00:01<00:11,  1.60it/s]\u001b[A\n",
      "DDIM Sampler:  15%|█▌        | 3/20 [00:01<00:10,  1.60it/s]\u001b[A\n",
      "DDIM Sampler:  20%|██        | 4/20 [00:02<00:09,  1.60it/s]\u001b[A\n",
      "DDIM Sampler:  25%|██▌       | 5/20 [00:03<00:09,  1.60it/s]\u001b[A\n",
      "DDIM Sampler:  30%|███       | 6/20 [00:03<00:08,  1.60it/s]\u001b[A\n",
      "DDIM Sampler:  35%|███▌      | 7/20 [00:04<00:08,  1.60it/s]\u001b[A\n",
      "DDIM Sampler:  40%|████      | 8/20 [00:05<00:07,  1.60it/s]\u001b[A\n",
      "DDIM Sampler:  45%|████▌     | 9/20 [00:05<00:06,  1.60it/s]\u001b[A\n",
      "DDIM Sampler:  50%|█████     | 10/20 [00:06<00:06,  1.60it/s]\u001b[A\n",
      "DDIM Sampler:  55%|█████▌    | 11/20 [00:06<00:05,  1.60it/s]\u001b[A\n",
      "DDIM Sampler:  60%|██████    | 12/20 [00:07<00:05,  1.60it/s]\u001b[A\n",
      "DDIM Sampler:  65%|██████▌   | 13/20 [00:08<00:04,  1.60it/s]\u001b[A\n",
      "DDIM Sampler:  70%|███████   | 14/20 [00:08<00:03,  1.59it/s]\u001b[A\n",
      "DDIM Sampler:  75%|███████▌  | 15/20 [00:09<00:03,  1.60it/s]\u001b[A\n",
      "DDIM Sampler:  80%|████████  | 16/20 [00:10<00:02,  1.60it/s]\u001b[A\n",
      "DDIM Sampler:  85%|████████▌ | 17/20 [00:10<00:01,  1.60it/s]\u001b[A\n",
      "DDIM Sampler:  90%|█████████ | 18/20 [00:11<00:01,  1.60it/s]\u001b[A\n",
      "DDIM Sampler:  95%|█████████▌| 19/20 [00:11<00:00,  1.59it/s]\u001b[A\n",
      "DDIM Sampler: 100%|██████████| 20/20 [00:12<00:00,  1.60it/s]\u001b[A\n",
      "Global seed set to 9181\n"
     ]
    },
    {
     "name": "stdout",
     "output_type": "stream",
     "text": [
      "Data shape for DDIM sampling is (2, 4, 64, 64), eta 0.0\n",
      "Running DDIM Sampling with 20 timesteps\n"
     ]
    },
    {
     "name": "stderr",
     "output_type": "stream",
     "text": [
      "\n",
      "DDIM Sampler:   0%|          | 0/20 [00:00<?, ?it/s]\u001b[A\n",
      "DDIM Sampler:   5%|▌         | 1/20 [00:00<00:11,  1.63it/s]\u001b[A\n",
      "DDIM Sampler:  10%|█         | 2/20 [00:01<00:11,  1.59it/s]\u001b[A\n",
      "DDIM Sampler:  15%|█▌        | 3/20 [00:01<00:10,  1.59it/s]\u001b[A\n",
      "DDIM Sampler:  20%|██        | 4/20 [00:02<00:10,  1.60it/s]\u001b[A\n",
      "DDIM Sampler:  25%|██▌       | 5/20 [00:03<00:09,  1.59it/s]\u001b[A\n",
      "DDIM Sampler:  30%|███       | 6/20 [00:03<00:08,  1.60it/s]\u001b[A\n",
      "DDIM Sampler:  35%|███▌      | 7/20 [00:04<00:08,  1.59it/s]\u001b[A\n",
      "DDIM Sampler:  40%|████      | 8/20 [00:05<00:07,  1.60it/s]\u001b[A\n",
      "DDIM Sampler:  45%|████▌     | 9/20 [00:05<00:06,  1.60it/s]\u001b[A\n",
      "DDIM Sampler:  50%|█████     | 10/20 [00:06<00:06,  1.60it/s]\u001b[A\n",
      "DDIM Sampler:  55%|█████▌    | 11/20 [00:06<00:05,  1.60it/s]\u001b[A\n",
      "DDIM Sampler:  60%|██████    | 12/20 [00:07<00:05,  1.60it/s]\u001b[A\n",
      "DDIM Sampler:  65%|██████▌   | 13/20 [00:08<00:04,  1.60it/s]\u001b[A\n",
      "DDIM Sampler:  70%|███████   | 14/20 [00:08<00:03,  1.60it/s]\u001b[A\n",
      "DDIM Sampler:  75%|███████▌  | 15/20 [00:09<00:03,  1.60it/s]\u001b[A\n",
      "DDIM Sampler:  80%|████████  | 16/20 [00:10<00:02,  1.60it/s]\u001b[A\n",
      "DDIM Sampler:  85%|████████▌ | 17/20 [00:10<00:01,  1.60it/s]\u001b[A\n",
      "DDIM Sampler:  90%|█████████ | 18/20 [00:11<00:01,  1.60it/s]\u001b[A\n",
      "DDIM Sampler:  95%|█████████▌| 19/20 [00:11<00:00,  1.60it/s]\u001b[A\n",
      "DDIM Sampler: 100%|██████████| 20/20 [00:12<00:00,  1.60it/s]\u001b[A\n",
      "Global seed set to 64188\n"
     ]
    },
    {
     "name": "stdout",
     "output_type": "stream",
     "text": [
      "Data shape for DDIM sampling is (2, 4, 64, 64), eta 0.0\n",
      "Running DDIM Sampling with 20 timesteps\n"
     ]
    },
    {
     "name": "stderr",
     "output_type": "stream",
     "text": [
      "\n",
      "DDIM Sampler:   0%|          | 0/20 [00:00<?, ?it/s]\u001b[A\n",
      "DDIM Sampler:   5%|▌         | 1/20 [00:00<00:11,  1.63it/s]\u001b[A\n",
      "DDIM Sampler:  10%|█         | 2/20 [00:01<00:11,  1.59it/s]\u001b[A\n",
      "DDIM Sampler:  15%|█▌        | 3/20 [00:01<00:10,  1.59it/s]\u001b[A\n",
      "DDIM Sampler:  20%|██        | 4/20 [00:02<00:10,  1.60it/s]\u001b[A\n",
      "DDIM Sampler:  25%|██▌       | 5/20 [00:03<00:09,  1.59it/s]\u001b[A\n",
      "DDIM Sampler:  30%|███       | 6/20 [00:03<00:08,  1.60it/s]\u001b[A\n",
      "DDIM Sampler:  35%|███▌      | 7/20 [00:04<00:08,  1.59it/s]\u001b[A\n",
      "DDIM Sampler:  40%|████      | 8/20 [00:05<00:07,  1.60it/s]\u001b[A\n",
      "DDIM Sampler:  45%|████▌     | 9/20 [00:05<00:06,  1.60it/s]\u001b[A\n",
      "DDIM Sampler:  50%|█████     | 10/20 [00:06<00:06,  1.60it/s]\u001b[A\n",
      "DDIM Sampler:  55%|█████▌    | 11/20 [00:06<00:05,  1.60it/s]\u001b[A\n",
      "DDIM Sampler:  60%|██████    | 12/20 [00:07<00:05,  1.60it/s]\u001b[A\n",
      "DDIM Sampler:  65%|██████▌   | 13/20 [00:08<00:04,  1.60it/s]\u001b[A\n",
      "DDIM Sampler:  70%|███████   | 14/20 [00:08<00:03,  1.60it/s]\u001b[A\n",
      "DDIM Sampler:  75%|███████▌  | 15/20 [00:09<00:03,  1.60it/s]\u001b[A\n",
      "DDIM Sampler:  80%|████████  | 16/20 [00:10<00:02,  1.60it/s]\u001b[A\n",
      "DDIM Sampler:  85%|████████▌ | 17/20 [00:10<00:01,  1.60it/s]\u001b[A\n",
      "DDIM Sampler:  90%|█████████ | 18/20 [00:11<00:01,  1.60it/s]\u001b[A\n",
      "DDIM Sampler:  95%|█████████▌| 19/20 [00:11<00:00,  1.60it/s]\u001b[A\n",
      "DDIM Sampler: 100%|██████████| 20/20 [00:12<00:00,  1.60it/s]\u001b[A\n",
      "Global seed set to 10533\n"
     ]
    },
    {
     "name": "stdout",
     "output_type": "stream",
     "text": [
      "Data shape for DDIM sampling is (2, 4, 64, 64), eta 0.0\n",
      "Running DDIM Sampling with 20 timesteps\n"
     ]
    },
    {
     "name": "stderr",
     "output_type": "stream",
     "text": [
      "\n",
      "DDIM Sampler:   0%|          | 0/20 [00:00<?, ?it/s]\u001b[A\n",
      "DDIM Sampler:   5%|▌         | 1/20 [00:00<00:11,  1.63it/s]\u001b[A\n",
      "DDIM Sampler:  10%|█         | 2/20 [00:01<00:11,  1.59it/s]\u001b[A\n",
      "DDIM Sampler:  15%|█▌        | 3/20 [00:01<00:10,  1.59it/s]\u001b[A\n",
      "DDIM Sampler:  20%|██        | 4/20 [00:02<00:09,  1.60it/s]\u001b[A\n",
      "DDIM Sampler:  25%|██▌       | 5/20 [00:03<00:09,  1.60it/s]\u001b[A\n",
      "DDIM Sampler:  30%|███       | 6/20 [00:03<00:08,  1.60it/s]\u001b[A\n",
      "DDIM Sampler:  35%|███▌      | 7/20 [00:04<00:08,  1.60it/s]\u001b[A\n",
      "DDIM Sampler:  40%|████      | 8/20 [00:05<00:07,  1.60it/s]\u001b[A\n",
      "DDIM Sampler:  45%|████▌     | 9/20 [00:05<00:06,  1.60it/s]\u001b[A\n",
      "DDIM Sampler:  50%|█████     | 10/20 [00:06<00:06,  1.60it/s]\u001b[A\n",
      "DDIM Sampler:  55%|█████▌    | 11/20 [00:06<00:05,  1.60it/s]\u001b[A\n",
      "DDIM Sampler:  60%|██████    | 12/20 [00:07<00:05,  1.60it/s]\u001b[A\n",
      "DDIM Sampler:  65%|██████▌   | 13/20 [00:08<00:04,  1.59it/s]\u001b[A\n",
      "DDIM Sampler:  70%|███████   | 14/20 [00:08<00:03,  1.60it/s]\u001b[A\n",
      "DDIM Sampler:  75%|███████▌  | 15/20 [00:09<00:03,  1.59it/s]\u001b[A\n",
      "DDIM Sampler:  80%|████████  | 16/20 [00:10<00:02,  1.59it/s]\u001b[A\n",
      "DDIM Sampler:  85%|████████▌ | 17/20 [00:10<00:01,  1.60it/s]\u001b[A\n",
      "DDIM Sampler:  90%|█████████ | 18/20 [00:11<00:01,  1.59it/s]\u001b[A\n",
      "DDIM Sampler:  95%|█████████▌| 19/20 [00:11<00:00,  1.59it/s]\u001b[A\n",
      "DDIM Sampler: 100%|██████████| 20/20 [00:12<00:00,  1.60it/s]\u001b[A\n",
      "Global seed set to 31808\n"
     ]
    },
    {
     "name": "stdout",
     "output_type": "stream",
     "text": [
      "Data shape for DDIM sampling is (2, 4, 64, 64), eta 0.0\n",
      "Running DDIM Sampling with 20 timesteps\n"
     ]
    },
    {
     "name": "stderr",
     "output_type": "stream",
     "text": [
      "\n",
      "DDIM Sampler:   0%|          | 0/20 [00:00<?, ?it/s]\u001b[A\n",
      "DDIM Sampler:   5%|▌         | 1/20 [00:00<00:11,  1.64it/s]\u001b[A\n",
      "DDIM Sampler:  10%|█         | 2/20 [00:01<00:11,  1.59it/s]\u001b[A\n",
      "DDIM Sampler:  15%|█▌        | 3/20 [00:01<00:10,  1.59it/s]\u001b[A\n",
      "DDIM Sampler:  20%|██        | 4/20 [00:02<00:10,  1.60it/s]\u001b[A\n",
      "DDIM Sampler:  25%|██▌       | 5/20 [00:03<00:09,  1.59it/s]\u001b[A\n",
      "DDIM Sampler:  30%|███       | 6/20 [00:03<00:08,  1.60it/s]\u001b[A\n",
      "DDIM Sampler:  35%|███▌      | 7/20 [00:04<00:08,  1.60it/s]\u001b[A\n",
      "DDIM Sampler:  40%|████      | 8/20 [00:05<00:07,  1.60it/s]\u001b[A\n",
      "DDIM Sampler:  45%|████▌     | 9/20 [00:05<00:06,  1.60it/s]\u001b[A\n",
      "DDIM Sampler:  50%|█████     | 10/20 [00:06<00:06,  1.60it/s]\u001b[A\n",
      "DDIM Sampler:  55%|█████▌    | 11/20 [00:06<00:05,  1.60it/s]\u001b[A\n",
      "DDIM Sampler:  60%|██████    | 12/20 [00:07<00:04,  1.60it/s]\u001b[A\n",
      "DDIM Sampler:  65%|██████▌   | 13/20 [00:08<00:04,  1.60it/s]\u001b[A\n",
      "DDIM Sampler:  70%|███████   | 14/20 [00:08<00:03,  1.60it/s]\u001b[A\n",
      "DDIM Sampler:  75%|███████▌  | 15/20 [00:09<00:03,  1.60it/s]\u001b[A\n",
      "DDIM Sampler:  80%|████████  | 16/20 [00:10<00:02,  1.60it/s]\u001b[A\n",
      "DDIM Sampler:  85%|████████▌ | 17/20 [00:10<00:01,  1.60it/s]\u001b[A\n",
      "DDIM Sampler:  90%|█████████ | 18/20 [00:11<00:01,  1.60it/s]\u001b[A\n",
      "DDIM Sampler:  95%|█████████▌| 19/20 [00:11<00:00,  1.60it/s]\u001b[A\n",
      "DDIM Sampler: 100%|██████████| 20/20 [00:12<00:00,  1.60it/s]\u001b[A\n",
      "Global seed set to 33281\n"
     ]
    },
    {
     "name": "stdout",
     "output_type": "stream",
     "text": [
      "Data shape for DDIM sampling is (2, 4, 72, 64), eta 0.0\n",
      "Running DDIM Sampling with 20 timesteps\n"
     ]
    },
    {
     "name": "stderr",
     "output_type": "stream",
     "text": [
      "\n",
      "DDIM Sampler:   0%|          | 0/20 [00:00<?, ?it/s]\u001b[A\n",
      "DDIM Sampler:   5%|▌         | 1/20 [00:00<00:13,  1.36it/s]\u001b[A\n",
      "DDIM Sampler:  10%|█         | 2/20 [00:01<00:13,  1.33it/s]\u001b[A\n",
      "DDIM Sampler:  15%|█▌        | 3/20 [00:02<00:12,  1.33it/s]\u001b[A\n",
      "DDIM Sampler:  20%|██        | 4/20 [00:02<00:11,  1.34it/s]\u001b[A\n",
      "DDIM Sampler:  25%|██▌       | 5/20 [00:03<00:11,  1.34it/s]\u001b[A\n",
      "DDIM Sampler:  30%|███       | 6/20 [00:04<00:10,  1.34it/s]\u001b[A\n",
      "DDIM Sampler:  35%|███▌      | 7/20 [00:05<00:09,  1.34it/s]\u001b[A\n",
      "DDIM Sampler:  40%|████      | 8/20 [00:05<00:08,  1.34it/s]\u001b[A\n",
      "DDIM Sampler:  45%|████▌     | 9/20 [00:06<00:08,  1.34it/s]\u001b[A\n",
      "DDIM Sampler:  50%|█████     | 10/20 [00:07<00:07,  1.34it/s]\u001b[A\n",
      "DDIM Sampler:  55%|█████▌    | 11/20 [00:08<00:06,  1.34it/s]\u001b[A\n",
      "DDIM Sampler:  60%|██████    | 12/20 [00:08<00:05,  1.34it/s]\u001b[A\n",
      "DDIM Sampler:  65%|██████▌   | 13/20 [00:09<00:05,  1.34it/s]\u001b[A\n",
      "DDIM Sampler:  70%|███████   | 14/20 [00:10<00:04,  1.34it/s]\u001b[A\n",
      "DDIM Sampler:  75%|███████▌  | 15/20 [00:11<00:03,  1.34it/s]\u001b[A\n",
      "DDIM Sampler:  80%|████████  | 16/20 [00:11<00:02,  1.34it/s]\u001b[A\n",
      "DDIM Sampler:  85%|████████▌ | 17/20 [00:12<00:02,  1.34it/s]\u001b[A\n",
      "DDIM Sampler:  90%|█████████ | 18/20 [00:13<00:01,  1.34it/s]\u001b[A\n",
      "DDIM Sampler:  95%|█████████▌| 19/20 [00:14<00:00,  1.34it/s]\u001b[A\n",
      "DDIM Sampler: 100%|██████████| 20/20 [00:14<00:00,  1.34it/s]\u001b[A\n",
      "Global seed set to 9181\n"
     ]
    },
    {
     "name": "stdout",
     "output_type": "stream",
     "text": [
      "Data shape for DDIM sampling is (2, 4, 64, 64), eta 0.0\n",
      "Running DDIM Sampling with 20 timesteps\n"
     ]
    },
    {
     "name": "stderr",
     "output_type": "stream",
     "text": [
      "\n",
      "DDIM Sampler:   0%|          | 0/20 [00:00<?, ?it/s]\u001b[A\n",
      "DDIM Sampler:   5%|▌         | 1/20 [00:00<00:11,  1.63it/s]\u001b[A\n",
      "DDIM Sampler:  10%|█         | 2/20 [00:01<00:11,  1.59it/s]\u001b[A\n",
      "DDIM Sampler:  15%|█▌        | 3/20 [00:01<00:10,  1.59it/s]\u001b[A\n",
      "DDIM Sampler:  20%|██        | 4/20 [00:02<00:09,  1.60it/s]\u001b[A\n",
      "DDIM Sampler:  25%|██▌       | 5/20 [00:03<00:09,  1.59it/s]\u001b[A\n",
      "DDIM Sampler:  30%|███       | 6/20 [00:03<00:08,  1.60it/s]\u001b[A\n",
      "DDIM Sampler:  35%|███▌      | 7/20 [00:04<00:08,  1.59it/s]\u001b[A\n",
      "DDIM Sampler:  40%|████      | 8/20 [00:05<00:07,  1.59it/s]\u001b[A\n",
      "DDIM Sampler:  45%|████▌     | 9/20 [00:05<00:06,  1.60it/s]\u001b[A\n",
      "DDIM Sampler:  50%|█████     | 10/20 [00:06<00:06,  1.59it/s]\u001b[A\n",
      "DDIM Sampler:  55%|█████▌    | 11/20 [00:06<00:05,  1.59it/s]\u001b[A\n",
      "DDIM Sampler:  60%|██████    | 12/20 [00:07<00:05,  1.60it/s]\u001b[A\n",
      "DDIM Sampler:  65%|██████▌   | 13/20 [00:08<00:04,  1.59it/s]\u001b[A\n",
      "DDIM Sampler:  70%|███████   | 14/20 [00:08<00:03,  1.60it/s]\u001b[A\n",
      "DDIM Sampler:  75%|███████▌  | 15/20 [00:09<00:03,  1.60it/s]\u001b[A\n",
      "DDIM Sampler:  80%|████████  | 16/20 [00:10<00:02,  1.59it/s]\u001b[A\n",
      "DDIM Sampler:  85%|████████▌ | 17/20 [00:10<00:01,  1.60it/s]\u001b[A\n",
      "DDIM Sampler:  90%|█████████ | 18/20 [00:11<00:01,  1.60it/s]\u001b[A\n",
      "DDIM Sampler:  95%|█████████▌| 19/20 [00:11<00:00,  1.59it/s]\u001b[A\n",
      "DDIM Sampler: 100%|██████████| 20/20 [00:12<00:00,  1.60it/s]\u001b[A\n",
      "Global seed set to 64188\n"
     ]
    },
    {
     "name": "stdout",
     "output_type": "stream",
     "text": [
      "Data shape for DDIM sampling is (2, 4, 64, 96), eta 0.0\n",
      "Running DDIM Sampling with 20 timesteps\n"
     ]
    },
    {
     "name": "stderr",
     "output_type": "stream",
     "text": [
      "\n",
      "DDIM Sampler:   0%|          | 0/20 [00:00<?, ?it/s]\u001b[A\n",
      "DDIM Sampler:   5%|▌         | 1/20 [00:01<00:22,  1.17s/it]\u001b[A\n",
      "DDIM Sampler:  10%|█         | 2/20 [00:02<00:21,  1.17s/it]\u001b[A\n",
      "DDIM Sampler:  15%|█▌        | 3/20 [00:03<00:19,  1.16s/it]\u001b[A\n",
      "DDIM Sampler:  20%|██        | 4/20 [00:04<00:18,  1.16s/it]\u001b[A\n",
      "DDIM Sampler:  25%|██▌       | 5/20 [00:05<00:17,  1.16s/it]\u001b[A\n",
      "DDIM Sampler:  30%|███       | 6/20 [00:06<00:16,  1.16s/it]\u001b[A\n",
      "DDIM Sampler:  35%|███▌      | 7/20 [00:08<00:15,  1.16s/it]\u001b[A\n",
      "DDIM Sampler:  40%|████      | 8/20 [00:09<00:13,  1.16s/it]\u001b[A\n",
      "DDIM Sampler:  45%|████▌     | 9/20 [00:10<00:12,  1.16s/it]\u001b[A\n",
      "DDIM Sampler:  50%|█████     | 10/20 [00:11<00:11,  1.16s/it]\u001b[A\n",
      "DDIM Sampler:  55%|█████▌    | 11/20 [00:12<00:10,  1.16s/it]\u001b[A\n",
      "DDIM Sampler:  60%|██████    | 12/20 [00:13<00:09,  1.16s/it]\u001b[A\n",
      "DDIM Sampler:  65%|██████▌   | 13/20 [00:15<00:08,  1.16s/it]\u001b[A\n",
      "DDIM Sampler:  70%|███████   | 14/20 [00:16<00:06,  1.16s/it]\u001b[A\n",
      "DDIM Sampler:  75%|███████▌  | 15/20 [00:17<00:05,  1.16s/it]\u001b[A\n",
      "DDIM Sampler:  80%|████████  | 16/20 [00:18<00:04,  1.16s/it]\u001b[A\n",
      "DDIM Sampler:  85%|████████▌ | 17/20 [00:19<00:03,  1.16s/it]\u001b[A\n",
      "DDIM Sampler:  90%|█████████ | 18/20 [00:20<00:02,  1.16s/it]\u001b[A\n",
      "DDIM Sampler:  95%|█████████▌| 19/20 [00:22<00:01,  1.16s/it]\u001b[A\n",
      "DDIM Sampler: 100%|██████████| 20/20 [00:23<00:00,  1.16s/it]\u001b[A\n",
      "Global seed set to 10533\n"
     ]
    },
    {
     "name": "stdout",
     "output_type": "stream",
     "text": [
      "Data shape for DDIM sampling is (2, 4, 64, 64), eta 0.0\n",
      "Running DDIM Sampling with 20 timesteps\n"
     ]
    },
    {
     "name": "stderr",
     "output_type": "stream",
     "text": [
      "\n",
      "DDIM Sampler:   0%|          | 0/20 [00:00<?, ?it/s]\u001b[A\n",
      "DDIM Sampler:   5%|▌         | 1/20 [00:00<00:11,  1.63it/s]\u001b[A\n",
      "DDIM Sampler:  10%|█         | 2/20 [00:01<00:11,  1.60it/s]\u001b[A\n",
      "DDIM Sampler:  15%|█▌        | 3/20 [00:01<00:10,  1.60it/s]\u001b[A\n",
      "DDIM Sampler:  20%|██        | 4/20 [00:02<00:09,  1.60it/s]\u001b[A\n",
      "DDIM Sampler:  25%|██▌       | 5/20 [00:03<00:09,  1.59it/s]\u001b[A\n",
      "DDIM Sampler:  30%|███       | 6/20 [00:03<00:08,  1.60it/s]\u001b[A\n",
      "DDIM Sampler:  35%|███▌      | 7/20 [00:04<00:08,  1.60it/s]\u001b[A\n",
      "DDIM Sampler:  40%|████      | 8/20 [00:05<00:07,  1.59it/s]\u001b[A\n",
      "DDIM Sampler:  45%|████▌     | 9/20 [00:05<00:06,  1.60it/s]\u001b[A\n",
      "DDIM Sampler:  50%|█████     | 10/20 [00:06<00:06,  1.60it/s]\u001b[A\n",
      "DDIM Sampler:  55%|█████▌    | 11/20 [00:06<00:05,  1.60it/s]\u001b[A\n",
      "DDIM Sampler:  60%|██████    | 12/20 [00:07<00:05,  1.60it/s]\u001b[A\n",
      "DDIM Sampler:  65%|██████▌   | 13/20 [00:08<00:04,  1.60it/s]\u001b[A\n",
      "DDIM Sampler:  70%|███████   | 14/20 [00:08<00:03,  1.60it/s]\u001b[A\n",
      "DDIM Sampler:  75%|███████▌  | 15/20 [00:09<00:03,  1.60it/s]\u001b[A\n",
      "DDIM Sampler:  80%|████████  | 16/20 [00:10<00:02,  1.60it/s]\u001b[A\n",
      "DDIM Sampler:  85%|████████▌ | 17/20 [00:10<00:01,  1.60it/s]\u001b[A\n",
      "DDIM Sampler:  90%|█████████ | 18/20 [00:11<00:01,  1.60it/s]\u001b[A\n",
      "DDIM Sampler:  95%|█████████▌| 19/20 [00:11<00:00,  1.60it/s]\u001b[A\n",
      "DDIM Sampler: 100%|██████████| 20/20 [00:12<00:00,  1.60it/s]\u001b[A\n",
      "Global seed set to 31808\n"
     ]
    },
    {
     "name": "stdout",
     "output_type": "stream",
     "text": [
      "Data shape for DDIM sampling is (2, 4, 64, 64), eta 0.0\n",
      "Running DDIM Sampling with 20 timesteps\n"
     ]
    },
    {
     "name": "stderr",
     "output_type": "stream",
     "text": [
      "\n",
      "DDIM Sampler:   0%|          | 0/20 [00:00<?, ?it/s]\u001b[A\n",
      "DDIM Sampler:   5%|▌         | 1/20 [00:00<00:11,  1.63it/s]\u001b[A\n",
      "DDIM Sampler:  10%|█         | 2/20 [00:01<00:11,  1.59it/s]\u001b[A\n",
      "DDIM Sampler:  15%|█▌        | 3/20 [00:01<00:10,  1.59it/s]\u001b[A\n",
      "DDIM Sampler:  20%|██        | 4/20 [00:02<00:10,  1.59it/s]\u001b[A\n",
      "DDIM Sampler:  25%|██▌       | 5/20 [00:03<00:09,  1.59it/s]\u001b[A\n",
      "DDIM Sampler:  30%|███       | 6/20 [00:03<00:08,  1.60it/s]\u001b[A\n",
      "DDIM Sampler:  35%|███▌      | 7/20 [00:04<00:08,  1.59it/s]\u001b[A\n",
      "DDIM Sampler:  40%|████      | 8/20 [00:05<00:07,  1.60it/s]\u001b[A\n",
      "DDIM Sampler:  45%|████▌     | 9/20 [00:05<00:06,  1.60it/s]\u001b[A\n",
      "DDIM Sampler:  50%|█████     | 10/20 [00:06<00:06,  1.60it/s]\u001b[A\n",
      "DDIM Sampler:  55%|█████▌    | 11/20 [00:06<00:05,  1.60it/s]\u001b[A\n",
      "DDIM Sampler:  60%|██████    | 12/20 [00:07<00:05,  1.60it/s]\u001b[A\n",
      "DDIM Sampler:  65%|██████▌   | 13/20 [00:08<00:04,  1.60it/s]\u001b[A\n",
      "DDIM Sampler:  70%|███████   | 14/20 [00:08<00:03,  1.60it/s]\u001b[A\n",
      "DDIM Sampler:  75%|███████▌  | 15/20 [00:09<00:03,  1.60it/s]\u001b[A\n",
      "DDIM Sampler:  80%|████████  | 16/20 [00:10<00:02,  1.60it/s]\u001b[A\n",
      "DDIM Sampler:  85%|████████▌ | 17/20 [00:10<00:01,  1.60it/s]\u001b[A\n",
      "DDIM Sampler:  90%|█████████ | 18/20 [00:11<00:01,  1.60it/s]\u001b[A\n",
      "DDIM Sampler:  95%|█████████▌| 19/20 [00:11<00:00,  1.60it/s]\u001b[A\n",
      "DDIM Sampler: 100%|██████████| 20/20 [00:12<00:00,  1.60it/s]\u001b[A\n",
      "Global seed set to 33281\n"
     ]
    },
    {
     "name": "stdout",
     "output_type": "stream",
     "text": [
      "Data shape for DDIM sampling is (2, 4, 64, 64), eta 0.0\n",
      "Running DDIM Sampling with 20 timesteps\n"
     ]
    },
    {
     "name": "stderr",
     "output_type": "stream",
     "text": [
      "\n",
      "DDIM Sampler:   0%|          | 0/20 [00:00<?, ?it/s]\u001b[A\n",
      "DDIM Sampler:   5%|▌         | 1/20 [00:00<00:11,  1.63it/s]\u001b[A\n",
      "DDIM Sampler:  10%|█         | 2/20 [00:01<00:11,  1.59it/s]\u001b[A\n",
      "DDIM Sampler:  15%|█▌        | 3/20 [00:01<00:10,  1.59it/s]\u001b[A\n",
      "DDIM Sampler:  20%|██        | 4/20 [00:02<00:10,  1.60it/s]\u001b[A\n",
      "DDIM Sampler:  25%|██▌       | 5/20 [00:03<00:09,  1.60it/s]\u001b[A\n",
      "DDIM Sampler:  30%|███       | 6/20 [00:03<00:08,  1.60it/s]\u001b[A\n",
      "DDIM Sampler:  35%|███▌      | 7/20 [00:04<00:08,  1.60it/s]\u001b[A\n",
      "DDIM Sampler:  40%|████      | 8/20 [00:05<00:07,  1.60it/s]\u001b[A\n",
      "DDIM Sampler:  45%|████▌     | 9/20 [00:05<00:06,  1.60it/s]\u001b[A\n",
      "DDIM Sampler:  50%|█████     | 10/20 [00:06<00:06,  1.60it/s]\u001b[A\n",
      "DDIM Sampler:  55%|█████▌    | 11/20 [00:06<00:05,  1.60it/s]\u001b[A\n",
      "DDIM Sampler:  60%|██████    | 12/20 [00:07<00:05,  1.60it/s]\u001b[A\n",
      "DDIM Sampler:  65%|██████▌   | 13/20 [00:08<00:04,  1.59it/s]\u001b[A\n",
      "DDIM Sampler:  70%|███████   | 14/20 [00:08<00:03,  1.60it/s]\u001b[A\n",
      "DDIM Sampler:  75%|███████▌  | 15/20 [00:09<00:03,  1.60it/s]\u001b[A\n",
      "DDIM Sampler:  80%|████████  | 16/20 [00:10<00:02,  1.60it/s]\u001b[A\n",
      "DDIM Sampler:  85%|████████▌ | 17/20 [00:10<00:01,  1.60it/s]\u001b[A\n",
      "DDIM Sampler:  90%|█████████ | 18/20 [00:11<00:01,  1.60it/s]\u001b[A\n",
      "DDIM Sampler:  95%|█████████▌| 19/20 [00:11<00:00,  1.60it/s]\u001b[A\n",
      "DDIM Sampler: 100%|██████████| 20/20 [00:12<00:00,  1.60it/s]\u001b[A\n",
      "Global seed set to 9181\n"
     ]
    },
    {
     "name": "stdout",
     "output_type": "stream",
     "text": [
      "Data shape for DDIM sampling is (2, 4, 64, 64), eta 0.0\n",
      "Running DDIM Sampling with 20 timesteps\n"
     ]
    },
    {
     "name": "stderr",
     "output_type": "stream",
     "text": [
      "\n",
      "DDIM Sampler:   0%|          | 0/20 [00:00<?, ?it/s]\u001b[A\n",
      "DDIM Sampler:   5%|▌         | 1/20 [00:00<00:11,  1.63it/s]\u001b[A\n",
      "DDIM Sampler:  10%|█         | 2/20 [00:01<00:11,  1.59it/s]\u001b[A\n",
      "DDIM Sampler:  15%|█▌        | 3/20 [00:01<00:10,  1.60it/s]\u001b[A\n",
      "DDIM Sampler:  20%|██        | 4/20 [00:02<00:10,  1.60it/s]\u001b[A\n",
      "DDIM Sampler:  25%|██▌       | 5/20 [00:03<00:09,  1.60it/s]\u001b[A\n",
      "DDIM Sampler:  30%|███       | 6/20 [00:03<00:08,  1.60it/s]\u001b[A\n",
      "DDIM Sampler:  35%|███▌      | 7/20 [00:04<00:08,  1.60it/s]\u001b[A\n",
      "DDIM Sampler:  40%|████      | 8/20 [00:05<00:07,  1.60it/s]\u001b[A\n",
      "DDIM Sampler:  45%|████▌     | 9/20 [00:05<00:06,  1.60it/s]\u001b[A\n",
      "DDIM Sampler:  50%|█████     | 10/20 [00:06<00:06,  1.59it/s]\u001b[A\n",
      "DDIM Sampler:  55%|█████▌    | 11/20 [00:06<00:05,  1.59it/s]\u001b[A\n",
      "DDIM Sampler:  60%|██████    | 12/20 [00:07<00:05,  1.60it/s]\u001b[A\n",
      "DDIM Sampler:  65%|██████▌   | 13/20 [00:08<00:04,  1.59it/s]\u001b[A\n",
      "DDIM Sampler:  70%|███████   | 14/20 [00:08<00:03,  1.60it/s]\u001b[A\n",
      "DDIM Sampler:  75%|███████▌  | 15/20 [00:09<00:03,  1.60it/s]\u001b[A\n",
      "DDIM Sampler:  80%|████████  | 16/20 [00:10<00:02,  1.60it/s]\u001b[A\n",
      "DDIM Sampler:  85%|████████▌ | 17/20 [00:10<00:01,  1.60it/s]\u001b[A\n",
      "DDIM Sampler:  90%|█████████ | 18/20 [00:11<00:01,  1.60it/s]\u001b[A\n",
      "DDIM Sampler:  95%|█████████▌| 19/20 [00:11<00:00,  1.60it/s]\u001b[A\n",
      "DDIM Sampler: 100%|██████████| 20/20 [00:12<00:00,  1.60it/s]\u001b[A\n",
      "Global seed set to 64188\n"
     ]
    },
    {
     "name": "stdout",
     "output_type": "stream",
     "text": [
      "Data shape for DDIM sampling is (2, 4, 64, 64), eta 0.0\n",
      "Running DDIM Sampling with 20 timesteps\n"
     ]
    },
    {
     "name": "stderr",
     "output_type": "stream",
     "text": [
      "\n",
      "DDIM Sampler:   0%|          | 0/20 [00:00<?, ?it/s]\u001b[A\n",
      "DDIM Sampler:   5%|▌         | 1/20 [00:00<00:11,  1.63it/s]\u001b[A\n",
      "DDIM Sampler:  10%|█         | 2/20 [00:01<00:11,  1.59it/s]\u001b[A\n",
      "DDIM Sampler:  15%|█▌        | 3/20 [00:01<00:10,  1.59it/s]\u001b[A\n",
      "DDIM Sampler:  20%|██        | 4/20 [00:02<00:10,  1.60it/s]\u001b[A\n",
      "DDIM Sampler:  25%|██▌       | 5/20 [00:03<00:09,  1.59it/s]\u001b[A\n",
      "DDIM Sampler:  30%|███       | 6/20 [00:03<00:08,  1.60it/s]\u001b[A\n",
      "DDIM Sampler:  35%|███▌      | 7/20 [00:04<00:08,  1.60it/s]\u001b[A\n",
      "DDIM Sampler:  40%|████      | 8/20 [00:05<00:07,  1.59it/s]\u001b[A\n",
      "DDIM Sampler:  45%|████▌     | 9/20 [00:05<00:06,  1.60it/s]\u001b[A\n",
      "DDIM Sampler:  50%|█████     | 10/20 [00:06<00:06,  1.59it/s]\u001b[A\n",
      "DDIM Sampler:  55%|█████▌    | 11/20 [00:06<00:05,  1.60it/s]\u001b[A\n",
      "DDIM Sampler:  60%|██████    | 12/20 [00:07<00:05,  1.60it/s]\u001b[A\n",
      "DDIM Sampler:  65%|██████▌   | 13/20 [00:08<00:04,  1.59it/s]\u001b[A\n",
      "DDIM Sampler:  70%|███████   | 14/20 [00:08<00:03,  1.60it/s]\u001b[A\n",
      "DDIM Sampler:  75%|███████▌  | 15/20 [00:09<00:03,  1.60it/s]\u001b[A\n",
      "DDIM Sampler:  80%|████████  | 16/20 [00:10<00:02,  1.60it/s]\u001b[A\n",
      "DDIM Sampler:  85%|████████▌ | 17/20 [00:10<00:01,  1.60it/s]\u001b[A\n",
      "DDIM Sampler:  90%|█████████ | 18/20 [00:11<00:01,  1.60it/s]\u001b[A\n",
      "DDIM Sampler:  95%|█████████▌| 19/20 [00:11<00:00,  1.60it/s]\u001b[A\n",
      "DDIM Sampler: 100%|██████████| 20/20 [00:12<00:00,  1.60it/s]\u001b[A\n",
      "Global seed set to 10533\n"
     ]
    },
    {
     "name": "stdout",
     "output_type": "stream",
     "text": [
      "Data shape for DDIM sampling is (2, 4, 64, 72), eta 0.0\n",
      "Running DDIM Sampling with 20 timesteps\n"
     ]
    },
    {
     "name": "stderr",
     "output_type": "stream",
     "text": [
      "\n",
      "DDIM Sampler:   0%|          | 0/20 [00:00<?, ?it/s]\u001b[A\n",
      "DDIM Sampler:   5%|▌         | 1/20 [00:00<00:13,  1.36it/s]\u001b[A\n",
      "DDIM Sampler:  10%|█         | 2/20 [00:01<00:13,  1.33it/s]\u001b[A\n",
      "DDIM Sampler:  15%|█▌        | 3/20 [00:02<00:12,  1.33it/s]\u001b[A\n",
      "DDIM Sampler:  20%|██        | 4/20 [00:03<00:12,  1.33it/s]\u001b[A\n",
      "DDIM Sampler:  25%|██▌       | 5/20 [00:03<00:11,  1.33it/s]\u001b[A\n",
      "DDIM Sampler:  30%|███       | 6/20 [00:04<00:10,  1.33it/s]\u001b[A\n",
      "DDIM Sampler:  35%|███▌      | 7/20 [00:05<00:09,  1.33it/s]\u001b[A\n",
      "DDIM Sampler:  40%|████      | 8/20 [00:05<00:08,  1.33it/s]\u001b[A\n",
      "DDIM Sampler:  45%|████▌     | 9/20 [00:06<00:08,  1.33it/s]\u001b[A\n",
      "DDIM Sampler:  50%|█████     | 10/20 [00:07<00:07,  1.33it/s]\u001b[A\n",
      "DDIM Sampler:  55%|█████▌    | 11/20 [00:08<00:06,  1.33it/s]\u001b[A\n",
      "DDIM Sampler:  60%|██████    | 12/20 [00:08<00:05,  1.34it/s]\u001b[A\n",
      "DDIM Sampler:  65%|██████▌   | 13/20 [00:09<00:05,  1.33it/s]\u001b[A\n",
      "DDIM Sampler:  70%|███████   | 14/20 [00:10<00:04,  1.33it/s]\u001b[A\n",
      "DDIM Sampler:  75%|███████▌  | 15/20 [00:11<00:03,  1.33it/s]\u001b[A\n",
      "DDIM Sampler:  80%|████████  | 16/20 [00:11<00:02,  1.33it/s]\u001b[A\n",
      "DDIM Sampler:  85%|████████▌ | 17/20 [00:12<00:02,  1.33it/s]\u001b[A\n",
      "DDIM Sampler:  90%|█████████ | 18/20 [00:13<00:01,  1.33it/s]\u001b[A\n",
      "DDIM Sampler:  95%|█████████▌| 19/20 [00:14<00:00,  1.33it/s]\u001b[A\n",
      "DDIM Sampler: 100%|██████████| 20/20 [00:14<00:00,  1.33it/s]\u001b[A\n",
      "Global seed set to 31808\n"
     ]
    },
    {
     "name": "stdout",
     "output_type": "stream",
     "text": [
      "Data shape for DDIM sampling is (2, 4, 64, 112), eta 0.0\n",
      "Running DDIM Sampling with 20 timesteps\n"
     ]
    },
    {
     "name": "stderr",
     "output_type": "stream",
     "text": [
      "\n",
      "DDIM Sampler:   0%|          | 0/20 [00:00<?, ?it/s]\u001b[A\n",
      "DDIM Sampler:   5%|▌         | 1/20 [00:01<00:28,  1.51s/it]\u001b[A\n",
      "DDIM Sampler:  10%|█         | 2/20 [00:03<00:27,  1.51s/it]\u001b[A\n",
      "DDIM Sampler:  15%|█▌        | 3/20 [00:04<00:25,  1.51s/it]\u001b[A\n",
      "DDIM Sampler:  20%|██        | 4/20 [00:06<00:24,  1.51s/it]\u001b[A\n",
      "DDIM Sampler:  25%|██▌       | 5/20 [00:07<00:22,  1.51s/it]\u001b[A\n",
      "DDIM Sampler:  30%|███       | 6/20 [00:09<00:21,  1.51s/it]\u001b[A\n",
      "DDIM Sampler:  35%|███▌      | 7/20 [00:10<00:19,  1.51s/it]\u001b[A\n",
      "DDIM Sampler:  40%|████      | 8/20 [00:12<00:18,  1.51s/it]\u001b[A\n",
      "DDIM Sampler:  45%|████▌     | 9/20 [00:13<00:16,  1.51s/it]\u001b[A\n",
      "DDIM Sampler:  50%|█████     | 10/20 [00:15<00:15,  1.51s/it]\u001b[A\n",
      "DDIM Sampler:  55%|█████▌    | 11/20 [00:16<00:13,  1.51s/it]\u001b[A\n",
      "DDIM Sampler:  60%|██████    | 12/20 [00:18<00:12,  1.51s/it]\u001b[A\n",
      "DDIM Sampler:  65%|██████▌   | 13/20 [00:19<00:10,  1.51s/it]\u001b[A\n",
      "DDIM Sampler:  70%|███████   | 14/20 [00:21<00:09,  1.51s/it]\u001b[A\n",
      "DDIM Sampler:  75%|███████▌  | 15/20 [00:22<00:07,  1.51s/it]\u001b[A\n",
      "DDIM Sampler:  80%|████████  | 16/20 [00:24<00:06,  1.51s/it]\u001b[A\n",
      "DDIM Sampler:  85%|████████▌ | 17/20 [00:25<00:04,  1.51s/it]\u001b[A\n",
      "DDIM Sampler:  90%|█████████ | 18/20 [00:27<00:03,  1.51s/it]\u001b[A\n",
      "DDIM Sampler:  95%|█████████▌| 19/20 [00:28<00:01,  1.51s/it]\u001b[A\n",
      "DDIM Sampler: 100%|██████████| 20/20 [00:30<00:00,  1.51s/it]\u001b[A\n",
      "Global seed set to 33281\n"
     ]
    },
    {
     "name": "stdout",
     "output_type": "stream",
     "text": [
      "Data shape for DDIM sampling is (2, 4, 64, 96), eta 0.0\n",
      "Running DDIM Sampling with 20 timesteps\n"
     ]
    },
    {
     "name": "stderr",
     "output_type": "stream",
     "text": [
      "\n",
      "DDIM Sampler:   0%|          | 0/20 [00:00<?, ?it/s]\u001b[A\n",
      "DDIM Sampler:   5%|▌         | 1/20 [00:01<00:22,  1.16s/it]\u001b[A\n",
      "DDIM Sampler:  10%|█         | 2/20 [00:02<00:20,  1.16s/it]\u001b[A\n",
      "DDIM Sampler:  15%|█▌        | 3/20 [00:03<00:19,  1.16s/it]\u001b[A\n",
      "DDIM Sampler:  20%|██        | 4/20 [00:04<00:18,  1.16s/it]\u001b[A\n",
      "DDIM Sampler:  25%|██▌       | 5/20 [00:05<00:17,  1.16s/it]\u001b[A\n",
      "DDIM Sampler:  30%|███       | 6/20 [00:06<00:16,  1.16s/it]\u001b[A\n",
      "DDIM Sampler:  35%|███▌      | 7/20 [00:08<00:15,  1.16s/it]\u001b[A\n",
      "DDIM Sampler:  40%|████      | 8/20 [00:09<00:13,  1.16s/it]\u001b[A\n",
      "DDIM Sampler:  45%|████▌     | 9/20 [00:10<00:12,  1.16s/it]\u001b[A\n",
      "DDIM Sampler:  50%|█████     | 10/20 [00:11<00:11,  1.16s/it]\u001b[A\n",
      "DDIM Sampler:  55%|█████▌    | 11/20 [00:12<00:10,  1.16s/it]\u001b[A\n",
      "DDIM Sampler:  60%|██████    | 12/20 [00:13<00:09,  1.16s/it]\u001b[A\n",
      "DDIM Sampler:  65%|██████▌   | 13/20 [00:15<00:08,  1.16s/it]\u001b[A\n",
      "DDIM Sampler:  70%|███████   | 14/20 [00:16<00:06,  1.16s/it]\u001b[A\n",
      "DDIM Sampler:  75%|███████▌  | 15/20 [00:17<00:05,  1.16s/it]\u001b[A\n",
      "DDIM Sampler:  80%|████████  | 16/20 [00:18<00:04,  1.16s/it]\u001b[A\n",
      "DDIM Sampler:  85%|████████▌ | 17/20 [00:19<00:03,  1.16s/it]\u001b[A\n",
      "DDIM Sampler:  90%|█████████ | 18/20 [00:20<00:02,  1.16s/it]\u001b[A\n",
      "DDIM Sampler:  95%|█████████▌| 19/20 [00:22<00:01,  1.16s/it]\u001b[A\n",
      "DDIM Sampler: 100%|██████████| 20/20 [00:23<00:00,  1.16s/it]\u001b[A\n",
      "Global seed set to 9181\n"
     ]
    },
    {
     "name": "stdout",
     "output_type": "stream",
     "text": [
      "Data shape for DDIM sampling is (2, 4, 64, 64), eta 0.0\n",
      "Running DDIM Sampling with 20 timesteps\n"
     ]
    },
    {
     "name": "stderr",
     "output_type": "stream",
     "text": [
      "\n",
      "DDIM Sampler:   0%|          | 0/20 [00:00<?, ?it/s]\u001b[A\n",
      "DDIM Sampler:   5%|▌         | 1/20 [00:00<00:11,  1.63it/s]\u001b[A\n",
      "DDIM Sampler:  10%|█         | 2/20 [00:01<00:11,  1.60it/s]\u001b[A\n",
      "DDIM Sampler:  15%|█▌        | 3/20 [00:01<00:10,  1.60it/s]\u001b[A\n",
      "DDIM Sampler:  20%|██        | 4/20 [00:02<00:09,  1.60it/s]\u001b[A\n",
      "DDIM Sampler:  25%|██▌       | 5/20 [00:03<00:09,  1.60it/s]\u001b[A\n",
      "DDIM Sampler:  30%|███       | 6/20 [00:03<00:08,  1.60it/s]\u001b[A\n",
      "DDIM Sampler:  35%|███▌      | 7/20 [00:04<00:08,  1.60it/s]\u001b[A\n",
      "DDIM Sampler:  40%|████      | 8/20 [00:05<00:07,  1.60it/s]\u001b[A\n",
      "DDIM Sampler:  45%|████▌     | 9/20 [00:05<00:06,  1.60it/s]\u001b[A\n",
      "DDIM Sampler:  50%|█████     | 10/20 [00:06<00:06,  1.60it/s]\u001b[A\n",
      "DDIM Sampler:  55%|█████▌    | 11/20 [00:06<00:05,  1.60it/s]\u001b[A\n",
      "DDIM Sampler:  60%|██████    | 12/20 [00:07<00:04,  1.60it/s]\u001b[A\n",
      "DDIM Sampler:  65%|██████▌   | 13/20 [00:08<00:04,  1.60it/s]\u001b[A\n",
      "DDIM Sampler:  70%|███████   | 14/20 [00:08<00:03,  1.60it/s]\u001b[A\n",
      "DDIM Sampler:  75%|███████▌  | 15/20 [00:09<00:03,  1.60it/s]\u001b[A\n",
      "DDIM Sampler:  80%|████████  | 16/20 [00:10<00:02,  1.60it/s]\u001b[A\n",
      "DDIM Sampler:  85%|████████▌ | 17/20 [00:10<00:01,  1.60it/s]\u001b[A\n",
      "DDIM Sampler:  90%|█████████ | 18/20 [00:11<00:01,  1.60it/s]\u001b[A\n",
      "DDIM Sampler:  95%|█████████▌| 19/20 [00:11<00:00,  1.60it/s]\u001b[A\n",
      "DDIM Sampler: 100%|██████████| 20/20 [00:12<00:00,  1.60it/s]\u001b[A\n",
      "Global seed set to 64188\n"
     ]
    },
    {
     "name": "stdout",
     "output_type": "stream",
     "text": [
      "Data shape for DDIM sampling is (2, 4, 64, 64), eta 0.0\n",
      "Running DDIM Sampling with 20 timesteps\n"
     ]
    },
    {
     "name": "stderr",
     "output_type": "stream",
     "text": [
      "\n",
      "DDIM Sampler:   0%|          | 0/20 [00:00<?, ?it/s]\u001b[A\n",
      "DDIM Sampler:   5%|▌         | 1/20 [00:00<00:11,  1.63it/s]\u001b[A\n",
      "DDIM Sampler:  10%|█         | 2/20 [00:01<00:11,  1.59it/s]\u001b[A\n",
      "DDIM Sampler:  15%|█▌        | 3/20 [00:01<00:10,  1.59it/s]\u001b[A\n",
      "DDIM Sampler:  20%|██        | 4/20 [00:02<00:10,  1.60it/s]\u001b[A\n",
      "DDIM Sampler:  25%|██▌       | 5/20 [00:03<00:09,  1.60it/s]\u001b[A\n",
      "DDIM Sampler:  30%|███       | 6/20 [00:03<00:08,  1.60it/s]\u001b[A\n",
      "DDIM Sampler:  35%|███▌      | 7/20 [00:04<00:08,  1.60it/s]\u001b[A\n",
      "DDIM Sampler:  40%|████      | 8/20 [00:05<00:07,  1.60it/s]\u001b[A\n",
      "DDIM Sampler:  45%|████▌     | 9/20 [00:05<00:06,  1.60it/s]\u001b[A\n",
      "DDIM Sampler:  50%|█████     | 10/20 [00:06<00:06,  1.60it/s]\u001b[A\n",
      "DDIM Sampler:  55%|█████▌    | 11/20 [00:06<00:05,  1.60it/s]\u001b[A\n",
      "DDIM Sampler:  60%|██████    | 12/20 [00:07<00:05,  1.60it/s]\u001b[A\n",
      "DDIM Sampler:  65%|██████▌   | 13/20 [00:08<00:04,  1.60it/s]\u001b[A\n",
      "DDIM Sampler:  70%|███████   | 14/20 [00:08<00:03,  1.60it/s]\u001b[A\n",
      "DDIM Sampler:  75%|███████▌  | 15/20 [00:09<00:03,  1.60it/s]\u001b[A\n",
      "DDIM Sampler:  80%|████████  | 16/20 [00:10<00:02,  1.59it/s]\u001b[A\n",
      "DDIM Sampler:  85%|████████▌ | 17/20 [00:10<00:01,  1.60it/s]\u001b[A\n",
      "DDIM Sampler:  90%|█████████ | 18/20 [00:11<00:01,  1.60it/s]\u001b[A\n",
      "DDIM Sampler:  95%|█████████▌| 19/20 [00:11<00:00,  1.59it/s]\u001b[A\n",
      "DDIM Sampler: 100%|██████████| 20/20 [00:12<00:00,  1.60it/s]\u001b[A\n",
      "Global seed set to 10533\n"
     ]
    },
    {
     "name": "stdout",
     "output_type": "stream",
     "text": [
      "Data shape for DDIM sampling is (2, 4, 64, 64), eta 0.0\n",
      "Running DDIM Sampling with 20 timesteps\n"
     ]
    },
    {
     "name": "stderr",
     "output_type": "stream",
     "text": [
      "\n",
      "DDIM Sampler:   0%|          | 0/20 [00:00<?, ?it/s]\u001b[A\n",
      "DDIM Sampler:   5%|▌         | 1/20 [00:00<00:11,  1.63it/s]\u001b[A\n",
      "DDIM Sampler:  10%|█         | 2/20 [00:01<00:11,  1.59it/s]\u001b[A\n",
      "DDIM Sampler:  15%|█▌        | 3/20 [00:01<00:10,  1.60it/s]\u001b[A\n",
      "DDIM Sampler:  20%|██        | 4/20 [00:02<00:09,  1.60it/s]\u001b[A\n",
      "DDIM Sampler:  25%|██▌       | 5/20 [00:03<00:09,  1.60it/s]\u001b[A\n",
      "DDIM Sampler:  30%|███       | 6/20 [00:03<00:08,  1.60it/s]\u001b[A\n",
      "DDIM Sampler:  35%|███▌      | 7/20 [00:04<00:08,  1.60it/s]\u001b[A\n",
      "DDIM Sampler:  40%|████      | 8/20 [00:05<00:07,  1.60it/s]\u001b[A\n",
      "DDIM Sampler:  45%|████▌     | 9/20 [00:05<00:06,  1.60it/s]\u001b[A\n",
      "DDIM Sampler:  50%|█████     | 10/20 [00:06<00:06,  1.60it/s]\u001b[A\n",
      "DDIM Sampler:  55%|█████▌    | 11/20 [00:06<00:05,  1.60it/s]\u001b[A\n",
      "DDIM Sampler:  60%|██████    | 12/20 [00:07<00:05,  1.60it/s]\u001b[A\n",
      "DDIM Sampler:  65%|██████▌   | 13/20 [00:08<00:04,  1.60it/s]\u001b[A\n",
      "DDIM Sampler:  70%|███████   | 14/20 [00:08<00:03,  1.60it/s]\u001b[A\n",
      "DDIM Sampler:  75%|███████▌  | 15/20 [00:09<00:03,  1.60it/s]\u001b[A\n",
      "DDIM Sampler:  80%|████████  | 16/20 [00:10<00:02,  1.60it/s]\u001b[A\n",
      "DDIM Sampler:  85%|████████▌ | 17/20 [00:10<00:01,  1.60it/s]\u001b[A\n",
      "DDIM Sampler:  90%|█████████ | 18/20 [00:11<00:01,  1.60it/s]\u001b[A\n",
      "DDIM Sampler:  95%|█████████▌| 19/20 [00:11<00:00,  1.60it/s]\u001b[A\n",
      "DDIM Sampler: 100%|██████████| 20/20 [00:12<00:00,  1.60it/s]\u001b[A\n",
      "Global seed set to 31808\n"
     ]
    },
    {
     "name": "stdout",
     "output_type": "stream",
     "text": [
      "Data shape for DDIM sampling is (2, 4, 64, 64), eta 0.0\n",
      "Running DDIM Sampling with 20 timesteps\n"
     ]
    },
    {
     "name": "stderr",
     "output_type": "stream",
     "text": [
      "\n",
      "DDIM Sampler:   0%|          | 0/20 [00:00<?, ?it/s]\u001b[A\n",
      "DDIM Sampler:   5%|▌         | 1/20 [00:00<00:11,  1.63it/s]\u001b[A\n",
      "DDIM Sampler:  10%|█         | 2/20 [00:01<00:11,  1.59it/s]\u001b[A\n",
      "DDIM Sampler:  15%|█▌        | 3/20 [00:01<00:10,  1.59it/s]\u001b[A\n",
      "DDIM Sampler:  20%|██        | 4/20 [00:02<00:10,  1.60it/s]\u001b[A\n",
      "DDIM Sampler:  25%|██▌       | 5/20 [00:03<00:09,  1.59it/s]\u001b[A\n",
      "DDIM Sampler:  30%|███       | 6/20 [00:03<00:08,  1.60it/s]\u001b[A\n",
      "DDIM Sampler:  35%|███▌      | 7/20 [00:04<00:08,  1.60it/s]\u001b[A\n",
      "DDIM Sampler:  40%|████      | 8/20 [00:05<00:07,  1.60it/s]\u001b[A\n",
      "DDIM Sampler:  45%|████▌     | 9/20 [00:05<00:06,  1.60it/s]\u001b[A\n",
      "DDIM Sampler:  50%|█████     | 10/20 [00:06<00:06,  1.60it/s]\u001b[A\n",
      "DDIM Sampler:  55%|█████▌    | 11/20 [00:06<00:05,  1.60it/s]\u001b[A\n",
      "DDIM Sampler:  60%|██████    | 12/20 [00:07<00:05,  1.60it/s]\u001b[A\n",
      "DDIM Sampler:  65%|██████▌   | 13/20 [00:08<00:04,  1.60it/s]\u001b[A\n",
      "DDIM Sampler:  70%|███████   | 14/20 [00:08<00:03,  1.60it/s]\u001b[A\n",
      "DDIM Sampler:  75%|███████▌  | 15/20 [00:09<00:03,  1.60it/s]\u001b[A\n",
      "DDIM Sampler:  80%|████████  | 16/20 [00:10<00:02,  1.60it/s]\u001b[A\n",
      "DDIM Sampler:  85%|████████▌ | 17/20 [00:10<00:01,  1.60it/s]\u001b[A\n",
      "DDIM Sampler:  90%|█████████ | 18/20 [00:11<00:01,  1.60it/s]\u001b[A\n",
      "DDIM Sampler:  95%|█████████▌| 19/20 [00:11<00:00,  1.60it/s]\u001b[A\n",
      "DDIM Sampler: 100%|██████████| 20/20 [00:12<00:00,  1.60it/s]\u001b[A\n",
      "Global seed set to 33281\n"
     ]
    },
    {
     "name": "stdout",
     "output_type": "stream",
     "text": [
      "Data shape for DDIM sampling is (2, 4, 64, 64), eta 0.0\n",
      "Running DDIM Sampling with 20 timesteps\n"
     ]
    },
    {
     "name": "stderr",
     "output_type": "stream",
     "text": [
      "\n",
      "DDIM Sampler:   0%|          | 0/20 [00:00<?, ?it/s]\u001b[A\n",
      "DDIM Sampler:   5%|▌         | 1/20 [00:00<00:11,  1.63it/s]\u001b[A\n",
      "DDIM Sampler:  10%|█         | 2/20 [00:01<00:11,  1.59it/s]\u001b[A\n",
      "DDIM Sampler:  15%|█▌        | 3/20 [00:01<00:10,  1.59it/s]\u001b[A\n",
      "DDIM Sampler:  20%|██        | 4/20 [00:02<00:10,  1.60it/s]\u001b[A\n",
      "DDIM Sampler:  25%|██▌       | 5/20 [00:03<00:09,  1.59it/s]\u001b[A\n",
      "DDIM Sampler:  30%|███       | 6/20 [00:03<00:08,  1.60it/s]\u001b[A\n",
      "DDIM Sampler:  35%|███▌      | 7/20 [00:04<00:08,  1.59it/s]\u001b[A\n",
      "DDIM Sampler:  40%|████      | 8/20 [00:05<00:07,  1.59it/s]\u001b[A\n",
      "DDIM Sampler:  45%|████▌     | 9/20 [00:05<00:06,  1.60it/s]\u001b[A\n",
      "DDIM Sampler:  50%|█████     | 10/20 [00:06<00:06,  1.60it/s]\u001b[A\n",
      "DDIM Sampler:  55%|█████▌    | 11/20 [00:06<00:05,  1.60it/s]\u001b[A\n",
      "DDIM Sampler:  60%|██████    | 12/20 [00:07<00:05,  1.60it/s]\u001b[A\n",
      "DDIM Sampler:  65%|██████▌   | 13/20 [00:08<00:04,  1.59it/s]\u001b[A\n",
      "DDIM Sampler:  70%|███████   | 14/20 [00:08<00:03,  1.60it/s]\u001b[A\n",
      "DDIM Sampler:  75%|███████▌  | 15/20 [00:09<00:03,  1.60it/s]\u001b[A\n",
      "DDIM Sampler:  80%|████████  | 16/20 [00:10<00:02,  1.59it/s]\u001b[A\n",
      "DDIM Sampler:  85%|████████▌ | 17/20 [00:10<00:01,  1.60it/s]\u001b[A\n",
      "DDIM Sampler:  90%|█████████ | 18/20 [00:11<00:01,  1.59it/s]\u001b[A\n",
      "DDIM Sampler:  95%|█████████▌| 19/20 [00:11<00:00,  1.60it/s]\u001b[A\n",
      "DDIM Sampler: 100%|██████████| 20/20 [00:12<00:00,  1.60it/s]\u001b[A\n",
      "Global seed set to 9181\n"
     ]
    },
    {
     "name": "stdout",
     "output_type": "stream",
     "text": [
      "Data shape for DDIM sampling is (2, 4, 64, 64), eta 0.0\n",
      "Running DDIM Sampling with 20 timesteps\n"
     ]
    },
    {
     "name": "stderr",
     "output_type": "stream",
     "text": [
      "\n",
      "DDIM Sampler:   0%|          | 0/20 [00:00<?, ?it/s]\u001b[A\n",
      "DDIM Sampler:   5%|▌         | 1/20 [00:00<00:11,  1.62it/s]\u001b[A\n",
      "DDIM Sampler:  10%|█         | 2/20 [00:01<00:11,  1.59it/s]\u001b[A\n",
      "DDIM Sampler:  15%|█▌        | 3/20 [00:01<00:10,  1.59it/s]\u001b[A\n",
      "DDIM Sampler:  20%|██        | 4/20 [00:02<00:10,  1.60it/s]\u001b[A\n",
      "DDIM Sampler:  25%|██▌       | 5/20 [00:03<00:09,  1.59it/s]\u001b[A\n",
      "DDIM Sampler:  30%|███       | 6/20 [00:03<00:08,  1.60it/s]\u001b[A\n",
      "DDIM Sampler:  35%|███▌      | 7/20 [00:04<00:08,  1.60it/s]\u001b[A\n",
      "DDIM Sampler:  40%|████      | 8/20 [00:05<00:07,  1.59it/s]\u001b[A\n",
      "DDIM Sampler:  45%|████▌     | 9/20 [00:05<00:06,  1.60it/s]\u001b[A\n",
      "DDIM Sampler:  50%|█████     | 10/20 [00:06<00:06,  1.60it/s]\u001b[A\n",
      "DDIM Sampler:  55%|█████▌    | 11/20 [00:06<00:05,  1.60it/s]\u001b[A\n",
      "DDIM Sampler:  60%|██████    | 12/20 [00:07<00:05,  1.60it/s]\u001b[A\n",
      "DDIM Sampler:  65%|██████▌   | 13/20 [00:08<00:04,  1.60it/s]\u001b[A\n",
      "DDIM Sampler:  70%|███████   | 14/20 [00:08<00:03,  1.60it/s]\u001b[A\n",
      "DDIM Sampler:  75%|███████▌  | 15/20 [00:09<00:03,  1.60it/s]\u001b[A\n",
      "DDIM Sampler:  80%|████████  | 16/20 [00:10<00:02,  1.59it/s]\u001b[A\n",
      "DDIM Sampler:  85%|████████▌ | 17/20 [00:10<00:01,  1.60it/s]\u001b[A\n",
      "DDIM Sampler:  90%|█████████ | 18/20 [00:11<00:01,  1.59it/s]\u001b[A\n",
      "DDIM Sampler:  95%|█████████▌| 19/20 [00:11<00:00,  1.60it/s]\u001b[A\n",
      "DDIM Sampler: 100%|██████████| 20/20 [00:12<00:00,  1.60it/s]\u001b[A\n",
      "Global seed set to 64188\n"
     ]
    },
    {
     "name": "stdout",
     "output_type": "stream",
     "text": [
      "Data shape for DDIM sampling is (2, 4, 64, 64), eta 0.0\n",
      "Running DDIM Sampling with 20 timesteps\n"
     ]
    },
    {
     "name": "stderr",
     "output_type": "stream",
     "text": [
      "\n",
      "DDIM Sampler:   0%|          | 0/20 [00:00<?, ?it/s]\u001b[A\n",
      "DDIM Sampler:   5%|▌         | 1/20 [00:00<00:11,  1.63it/s]\u001b[A\n",
      "DDIM Sampler:  10%|█         | 2/20 [00:01<00:11,  1.59it/s]\u001b[A\n",
      "DDIM Sampler:  15%|█▌        | 3/20 [00:01<00:10,  1.59it/s]\u001b[A\n",
      "DDIM Sampler:  20%|██        | 4/20 [00:02<00:10,  1.60it/s]\u001b[A\n",
      "DDIM Sampler:  25%|██▌       | 5/20 [00:03<00:09,  1.59it/s]\u001b[A\n",
      "DDIM Sampler:  30%|███       | 6/20 [00:03<00:08,  1.60it/s]\u001b[A\n",
      "DDIM Sampler:  35%|███▌      | 7/20 [00:04<00:08,  1.60it/s]\u001b[A\n",
      "DDIM Sampler:  40%|████      | 8/20 [00:05<00:07,  1.59it/s]\u001b[A\n",
      "DDIM Sampler:  45%|████▌     | 9/20 [00:05<00:06,  1.60it/s]\u001b[A\n",
      "DDIM Sampler:  50%|█████     | 10/20 [00:06<00:06,  1.60it/s]\u001b[A\n",
      "DDIM Sampler:  55%|█████▌    | 11/20 [00:06<00:05,  1.60it/s]\u001b[A\n",
      "DDIM Sampler:  60%|██████    | 12/20 [00:07<00:05,  1.60it/s]\u001b[A\n",
      "DDIM Sampler:  65%|██████▌   | 13/20 [00:08<00:04,  1.60it/s]\u001b[A\n",
      "DDIM Sampler:  70%|███████   | 14/20 [00:08<00:03,  1.60it/s]\u001b[A\n",
      "DDIM Sampler:  75%|███████▌  | 15/20 [00:09<00:03,  1.59it/s]\u001b[A\n",
      "DDIM Sampler:  80%|████████  | 16/20 [00:10<00:02,  1.60it/s]\u001b[A\n",
      "DDIM Sampler:  85%|████████▌ | 17/20 [00:10<00:01,  1.59it/s]\u001b[A\n",
      "DDIM Sampler:  90%|█████████ | 18/20 [00:11<00:01,  1.59it/s]\u001b[A\n",
      "DDIM Sampler:  95%|█████████▌| 19/20 [00:11<00:00,  1.60it/s]\u001b[A\n",
      "DDIM Sampler: 100%|██████████| 20/20 [00:12<00:00,  1.60it/s]\u001b[A\n",
      "Global seed set to 10533\n"
     ]
    },
    {
     "name": "stdout",
     "output_type": "stream",
     "text": [
      "Data shape for DDIM sampling is (2, 4, 72, 64), eta 0.0\n",
      "Running DDIM Sampling with 20 timesteps\n"
     ]
    },
    {
     "name": "stderr",
     "output_type": "stream",
     "text": [
      "\n",
      "DDIM Sampler:   0%|          | 0/20 [00:00<?, ?it/s]\u001b[A\n",
      "DDIM Sampler:   5%|▌         | 1/20 [00:00<00:13,  1.37it/s]\u001b[A\n",
      "DDIM Sampler:  10%|█         | 2/20 [00:01<00:13,  1.34it/s]\u001b[A\n",
      "DDIM Sampler:  15%|█▌        | 3/20 [00:02<00:12,  1.33it/s]\u001b[A\n",
      "DDIM Sampler:  20%|██        | 4/20 [00:02<00:11,  1.33it/s]\u001b[A\n",
      "DDIM Sampler:  25%|██▌       | 5/20 [00:03<00:11,  1.34it/s]\u001b[A\n",
      "DDIM Sampler:  30%|███       | 6/20 [00:04<00:10,  1.34it/s]\u001b[A\n",
      "DDIM Sampler:  35%|███▌      | 7/20 [00:05<00:09,  1.34it/s]\u001b[A\n",
      "DDIM Sampler:  40%|████      | 8/20 [00:05<00:08,  1.34it/s]\u001b[A\n",
      "DDIM Sampler:  45%|████▌     | 9/20 [00:06<00:08,  1.34it/s]\u001b[A\n",
      "DDIM Sampler:  50%|█████     | 10/20 [00:07<00:07,  1.34it/s]\u001b[A\n",
      "DDIM Sampler:  55%|█████▌    | 11/20 [00:08<00:06,  1.34it/s]\u001b[A\n",
      "DDIM Sampler:  60%|██████    | 12/20 [00:08<00:05,  1.34it/s]\u001b[A\n",
      "DDIM Sampler:  65%|██████▌   | 13/20 [00:09<00:05,  1.34it/s]\u001b[A\n",
      "DDIM Sampler:  70%|███████   | 14/20 [00:10<00:04,  1.34it/s]\u001b[A\n",
      "DDIM Sampler:  75%|███████▌  | 15/20 [00:11<00:03,  1.34it/s]\u001b[A\n",
      "DDIM Sampler:  80%|████████  | 16/20 [00:11<00:02,  1.34it/s]\u001b[A\n",
      "DDIM Sampler:  85%|████████▌ | 17/20 [00:12<00:02,  1.34it/s]\u001b[A\n",
      "DDIM Sampler:  90%|█████████ | 18/20 [00:13<00:01,  1.34it/s]\u001b[A\n",
      "DDIM Sampler:  95%|█████████▌| 19/20 [00:14<00:00,  1.34it/s]\u001b[A\n",
      "DDIM Sampler: 100%|██████████| 20/20 [00:14<00:00,  1.34it/s]\u001b[A\n",
      "Global seed set to 31808\n"
     ]
    },
    {
     "name": "stdout",
     "output_type": "stream",
     "text": [
      "Data shape for DDIM sampling is (2, 4, 64, 64), eta 0.0\n",
      "Running DDIM Sampling with 20 timesteps\n"
     ]
    },
    {
     "name": "stderr",
     "output_type": "stream",
     "text": [
      "\n",
      "DDIM Sampler:   0%|          | 0/20 [00:00<?, ?it/s]\u001b[A\n",
      "DDIM Sampler:   5%|▌         | 1/20 [00:00<00:11,  1.63it/s]\u001b[A\n",
      "DDIM Sampler:  10%|█         | 2/20 [00:01<00:11,  1.59it/s]\u001b[A\n",
      "DDIM Sampler:  15%|█▌        | 3/20 [00:01<00:10,  1.59it/s]\u001b[A\n",
      "DDIM Sampler:  20%|██        | 4/20 [00:02<00:10,  1.60it/s]\u001b[A\n",
      "DDIM Sampler:  25%|██▌       | 5/20 [00:03<00:09,  1.59it/s]\u001b[A\n",
      "DDIM Sampler:  30%|███       | 6/20 [00:03<00:08,  1.60it/s]\u001b[A\n",
      "DDIM Sampler:  35%|███▌      | 7/20 [00:04<00:08,  1.60it/s]\u001b[A\n",
      "DDIM Sampler:  40%|████      | 8/20 [00:05<00:07,  1.60it/s]\u001b[A\n",
      "DDIM Sampler:  45%|████▌     | 9/20 [00:05<00:06,  1.60it/s]\u001b[A\n",
      "DDIM Sampler:  50%|█████     | 10/20 [00:06<00:06,  1.60it/s]\u001b[A\n",
      "DDIM Sampler:  55%|█████▌    | 11/20 [00:06<00:05,  1.60it/s]\u001b[A\n",
      "DDIM Sampler:  60%|██████    | 12/20 [00:07<00:05,  1.59it/s]\u001b[A\n",
      "DDIM Sampler:  65%|██████▌   | 13/20 [00:08<00:04,  1.59it/s]\u001b[A\n",
      "DDIM Sampler:  70%|███████   | 14/20 [00:08<00:03,  1.60it/s]\u001b[A\n",
      "DDIM Sampler:  75%|███████▌  | 15/20 [00:09<00:03,  1.59it/s]\u001b[A\n",
      "DDIM Sampler:  80%|████████  | 16/20 [00:10<00:02,  1.59it/s]\u001b[A\n",
      "DDIM Sampler:  85%|████████▌ | 17/20 [00:10<00:01,  1.60it/s]\u001b[A\n",
      "DDIM Sampler:  90%|█████████ | 18/20 [00:11<00:01,  1.59it/s]\u001b[A\n",
      "DDIM Sampler:  95%|█████████▌| 19/20 [00:11<00:00,  1.60it/s]\u001b[A\n",
      "DDIM Sampler: 100%|██████████| 20/20 [00:12<00:00,  1.60it/s]\u001b[A\n",
      "Global seed set to 33281\n"
     ]
    },
    {
     "name": "stdout",
     "output_type": "stream",
     "text": [
      "Data shape for DDIM sampling is (2, 4, 64, 96), eta 0.0\n",
      "Running DDIM Sampling with 20 timesteps\n"
     ]
    },
    {
     "name": "stderr",
     "output_type": "stream",
     "text": [
      "\n",
      "DDIM Sampler:   0%|          | 0/20 [00:00<?, ?it/s]\u001b[A\n",
      "DDIM Sampler:   5%|▌         | 1/20 [00:01<00:22,  1.18s/it]\u001b[A\n",
      "DDIM Sampler:  10%|█         | 2/20 [00:02<00:21,  1.17s/it]\u001b[A\n",
      "DDIM Sampler:  15%|█▌        | 3/20 [00:03<00:19,  1.16s/it]\u001b[A\n",
      "DDIM Sampler:  20%|██        | 4/20 [00:04<00:18,  1.16s/it]\u001b[A\n",
      "DDIM Sampler:  25%|██▌       | 5/20 [00:05<00:17,  1.16s/it]\u001b[A\n",
      "DDIM Sampler:  30%|███       | 6/20 [00:06<00:16,  1.16s/it]\u001b[A\n",
      "DDIM Sampler:  35%|███▌      | 7/20 [00:08<00:15,  1.16s/it]\u001b[A\n",
      "DDIM Sampler:  40%|████      | 8/20 [00:09<00:13,  1.16s/it]\u001b[A\n",
      "DDIM Sampler:  45%|████▌     | 9/20 [00:10<00:12,  1.16s/it]\u001b[A\n",
      "DDIM Sampler:  50%|█████     | 10/20 [00:11<00:11,  1.16s/it]\u001b[A\n",
      "DDIM Sampler:  55%|█████▌    | 11/20 [00:12<00:10,  1.16s/it]\u001b[A\n",
      "DDIM Sampler:  60%|██████    | 12/20 [00:13<00:09,  1.16s/it]\u001b[A\n",
      "DDIM Sampler:  65%|██████▌   | 13/20 [00:15<00:08,  1.16s/it]\u001b[A\n",
      "DDIM Sampler:  70%|███████   | 14/20 [00:16<00:06,  1.16s/it]\u001b[A\n",
      "DDIM Sampler:  75%|███████▌  | 15/20 [00:17<00:05,  1.16s/it]\u001b[A\n",
      "DDIM Sampler:  80%|████████  | 16/20 [00:18<00:04,  1.16s/it]\u001b[A\n",
      "DDIM Sampler:  85%|████████▌ | 17/20 [00:19<00:03,  1.16s/it]\u001b[A\n",
      "DDIM Sampler:  90%|█████████ | 18/20 [00:20<00:02,  1.16s/it]\u001b[A\n",
      "DDIM Sampler:  95%|█████████▌| 19/20 [00:22<00:01,  1.16s/it]\u001b[A\n",
      "DDIM Sampler: 100%|██████████| 20/20 [00:23<00:00,  1.16s/it]\u001b[A\n",
      "Global seed set to 9181\n"
     ]
    },
    {
     "name": "stdout",
     "output_type": "stream",
     "text": [
      "Data shape for DDIM sampling is (2, 4, 64, 64), eta 0.0\n",
      "Running DDIM Sampling with 20 timesteps\n"
     ]
    },
    {
     "name": "stderr",
     "output_type": "stream",
     "text": [
      "\n",
      "DDIM Sampler:   0%|          | 0/20 [00:00<?, ?it/s]\u001b[A\n",
      "DDIM Sampler:   5%|▌         | 1/20 [00:00<00:11,  1.63it/s]\u001b[A\n",
      "DDIM Sampler:  10%|█         | 2/20 [00:01<00:11,  1.59it/s]\u001b[A\n",
      "DDIM Sampler:  15%|█▌        | 3/20 [00:01<00:10,  1.59it/s]\u001b[A\n",
      "DDIM Sampler:  20%|██        | 4/20 [00:02<00:10,  1.60it/s]\u001b[A\n",
      "DDIM Sampler:  25%|██▌       | 5/20 [00:03<00:09,  1.59it/s]\u001b[A\n",
      "DDIM Sampler:  30%|███       | 6/20 [00:03<00:08,  1.60it/s]\u001b[A\n",
      "DDIM Sampler:  35%|███▌      | 7/20 [00:04<00:08,  1.59it/s]\u001b[A\n",
      "DDIM Sampler:  40%|████      | 8/20 [00:05<00:07,  1.59it/s]\u001b[A\n",
      "DDIM Sampler:  45%|████▌     | 9/20 [00:05<00:06,  1.60it/s]\u001b[A\n",
      "DDIM Sampler:  50%|█████     | 10/20 [00:06<00:06,  1.59it/s]\u001b[A\n",
      "DDIM Sampler:  55%|█████▌    | 11/20 [00:06<00:05,  1.59it/s]\u001b[A\n",
      "DDIM Sampler:  60%|██████    | 12/20 [00:07<00:05,  1.59it/s]\u001b[A\n",
      "DDIM Sampler:  65%|██████▌   | 13/20 [00:08<00:04,  1.59it/s]\u001b[A\n",
      "DDIM Sampler:  70%|███████   | 14/20 [00:08<00:03,  1.60it/s]\u001b[A\n",
      "DDIM Sampler:  75%|███████▌  | 15/20 [00:09<00:03,  1.59it/s]\u001b[A\n",
      "DDIM Sampler:  80%|████████  | 16/20 [00:10<00:02,  1.59it/s]\u001b[A\n",
      "DDIM Sampler:  85%|████████▌ | 17/20 [00:10<00:01,  1.59it/s]\u001b[A\n",
      "DDIM Sampler:  90%|█████████ | 18/20 [00:11<00:01,  1.59it/s]\u001b[A\n",
      "DDIM Sampler:  95%|█████████▌| 19/20 [00:11<00:00,  1.60it/s]\u001b[A\n",
      "DDIM Sampler: 100%|██████████| 20/20 [00:12<00:00,  1.59it/s]\u001b[A\n",
      "Global seed set to 64188\n"
     ]
    },
    {
     "name": "stdout",
     "output_type": "stream",
     "text": [
      "Data shape for DDIM sampling is (2, 4, 64, 64), eta 0.0\n",
      "Running DDIM Sampling with 20 timesteps\n"
     ]
    },
    {
     "name": "stderr",
     "output_type": "stream",
     "text": [
      "\n",
      "DDIM Sampler:   0%|          | 0/20 [00:00<?, ?it/s]\u001b[A\n",
      "DDIM Sampler:   5%|▌         | 1/20 [00:00<00:11,  1.63it/s]\u001b[A\n",
      "DDIM Sampler:  10%|█         | 2/20 [00:01<00:11,  1.59it/s]\u001b[A\n",
      "DDIM Sampler:  15%|█▌        | 3/20 [00:01<00:10,  1.60it/s]\u001b[A\n",
      "DDIM Sampler:  20%|██        | 4/20 [00:02<00:10,  1.60it/s]\u001b[A\n",
      "DDIM Sampler:  25%|██▌       | 5/20 [00:03<00:09,  1.60it/s]\u001b[A\n",
      "DDIM Sampler:  30%|███       | 6/20 [00:03<00:08,  1.60it/s]\u001b[A\n",
      "DDIM Sampler:  35%|███▌      | 7/20 [00:04<00:08,  1.60it/s]\u001b[A\n",
      "DDIM Sampler:  40%|████      | 8/20 [00:05<00:07,  1.60it/s]\u001b[A\n",
      "DDIM Sampler:  45%|████▌     | 9/20 [00:05<00:06,  1.60it/s]\u001b[A\n",
      "DDIM Sampler:  50%|█████     | 10/20 [00:06<00:06,  1.60it/s]\u001b[A\n",
      "DDIM Sampler:  55%|█████▌    | 11/20 [00:06<00:05,  1.60it/s]\u001b[A\n",
      "DDIM Sampler:  60%|██████    | 12/20 [00:07<00:05,  1.60it/s]\u001b[A\n",
      "DDIM Sampler:  65%|██████▌   | 13/20 [00:08<00:04,  1.60it/s]\u001b[A\n",
      "DDIM Sampler:  70%|███████   | 14/20 [00:08<00:03,  1.60it/s]\u001b[A\n",
      "DDIM Sampler:  75%|███████▌  | 15/20 [00:09<00:03,  1.60it/s]\u001b[A\n",
      "DDIM Sampler:  80%|████████  | 16/20 [00:10<00:02,  1.60it/s]\u001b[A\n",
      "DDIM Sampler:  85%|████████▌ | 17/20 [00:10<00:01,  1.60it/s]\u001b[A\n",
      "DDIM Sampler:  90%|█████████ | 18/20 [00:11<00:01,  1.60it/s]\u001b[A\n",
      "DDIM Sampler:  95%|█████████▌| 19/20 [00:11<00:00,  1.60it/s]\u001b[A\n",
      "DDIM Sampler: 100%|██████████| 20/20 [00:12<00:00,  1.60it/s]\u001b[A\n",
      "Global seed set to 10533\n"
     ]
    },
    {
     "name": "stdout",
     "output_type": "stream",
     "text": [
      "Data shape for DDIM sampling is (2, 4, 64, 64), eta 0.0\n",
      "Running DDIM Sampling with 20 timesteps\n"
     ]
    },
    {
     "name": "stderr",
     "output_type": "stream",
     "text": [
      "\n",
      "DDIM Sampler:   0%|          | 0/20 [00:00<?, ?it/s]\u001b[A\n",
      "DDIM Sampler:   5%|▌         | 1/20 [00:00<00:11,  1.63it/s]\u001b[A\n",
      "DDIM Sampler:  10%|█         | 2/20 [00:01<00:11,  1.59it/s]\u001b[A\n",
      "DDIM Sampler:  15%|█▌        | 3/20 [00:01<00:10,  1.59it/s]\u001b[A\n",
      "DDIM Sampler:  20%|██        | 4/20 [00:02<00:10,  1.60it/s]\u001b[A\n",
      "DDIM Sampler:  25%|██▌       | 5/20 [00:03<00:09,  1.59it/s]\u001b[A\n",
      "DDIM Sampler:  30%|███       | 6/20 [00:03<00:08,  1.60it/s]\u001b[A\n",
      "DDIM Sampler:  35%|███▌      | 7/20 [00:04<00:08,  1.60it/s]\u001b[A\n",
      "DDIM Sampler:  40%|████      | 8/20 [00:05<00:07,  1.60it/s]\u001b[A\n",
      "DDIM Sampler:  45%|████▌     | 9/20 [00:05<00:06,  1.60it/s]\u001b[A\n",
      "DDIM Sampler:  50%|█████     | 10/20 [00:06<00:06,  1.60it/s]\u001b[A\n",
      "DDIM Sampler:  55%|█████▌    | 11/20 [00:06<00:05,  1.60it/s]\u001b[A\n",
      "DDIM Sampler:  60%|██████    | 12/20 [00:07<00:05,  1.60it/s]\u001b[A\n",
      "DDIM Sampler:  65%|██████▌   | 13/20 [00:08<00:04,  1.60it/s]\u001b[A\n",
      "DDIM Sampler:  70%|███████   | 14/20 [00:08<00:03,  1.60it/s]\u001b[A\n",
      "DDIM Sampler:  75%|███████▌  | 15/20 [00:09<00:03,  1.60it/s]\u001b[A\n",
      "DDIM Sampler:  80%|████████  | 16/20 [00:10<00:02,  1.60it/s]\u001b[A\n",
      "DDIM Sampler:  85%|████████▌ | 17/20 [00:10<00:01,  1.60it/s]\u001b[A\n",
      "DDIM Sampler:  90%|█████████ | 18/20 [00:11<00:01,  1.60it/s]\u001b[A\n",
      "DDIM Sampler:  95%|█████████▌| 19/20 [00:11<00:00,  1.60it/s]\u001b[A\n",
      "DDIM Sampler: 100%|██████████| 20/20 [00:12<00:00,  1.60it/s]\u001b[A\n",
      "Global seed set to 31808\n"
     ]
    },
    {
     "name": "stdout",
     "output_type": "stream",
     "text": [
      "Data shape for DDIM sampling is (2, 4, 64, 64), eta 0.0\n",
      "Running DDIM Sampling with 20 timesteps\n"
     ]
    },
    {
     "name": "stderr",
     "output_type": "stream",
     "text": [
      "\n",
      "DDIM Sampler:   0%|          | 0/20 [00:00<?, ?it/s]\u001b[A\n",
      "DDIM Sampler:   5%|▌         | 1/20 [00:00<00:11,  1.63it/s]\u001b[A\n",
      "DDIM Sampler:  10%|█         | 2/20 [00:01<00:11,  1.60it/s]\u001b[A\n",
      "DDIM Sampler:  15%|█▌        | 3/20 [00:01<00:10,  1.59it/s]\u001b[A\n",
      "DDIM Sampler:  20%|██        | 4/20 [00:02<00:09,  1.60it/s]\u001b[A\n",
      "DDIM Sampler:  25%|██▌       | 5/20 [00:03<00:09,  1.60it/s]\u001b[A\n",
      "DDIM Sampler:  30%|███       | 6/20 [00:03<00:08,  1.60it/s]\u001b[A\n",
      "DDIM Sampler:  35%|███▌      | 7/20 [00:04<00:08,  1.60it/s]\u001b[A\n",
      "DDIM Sampler:  40%|████      | 8/20 [00:05<00:07,  1.60it/s]\u001b[A\n",
      "DDIM Sampler:  45%|████▌     | 9/20 [00:05<00:06,  1.60it/s]\u001b[A\n",
      "DDIM Sampler:  50%|█████     | 10/20 [00:06<00:06,  1.60it/s]\u001b[A\n",
      "DDIM Sampler:  55%|█████▌    | 11/20 [00:06<00:05,  1.60it/s]\u001b[A\n",
      "DDIM Sampler:  60%|██████    | 12/20 [00:07<00:05,  1.60it/s]\u001b[A\n",
      "DDIM Sampler:  65%|██████▌   | 13/20 [00:08<00:04,  1.60it/s]\u001b[A\n",
      "DDIM Sampler:  70%|███████   | 14/20 [00:08<00:03,  1.60it/s]\u001b[A\n",
      "DDIM Sampler:  75%|███████▌  | 15/20 [00:09<00:03,  1.60it/s]\u001b[A\n",
      "DDIM Sampler:  80%|████████  | 16/20 [00:10<00:02,  1.60it/s]\u001b[A\n",
      "DDIM Sampler:  85%|████████▌ | 17/20 [00:10<00:01,  1.60it/s]\u001b[A\n",
      "DDIM Sampler:  90%|█████████ | 18/20 [00:11<00:01,  1.60it/s]\u001b[A\n",
      "DDIM Sampler:  95%|█████████▌| 19/20 [00:11<00:00,  1.60it/s]\u001b[A\n",
      "DDIM Sampler: 100%|██████████| 20/20 [00:12<00:00,  1.60it/s]\u001b[A\n",
      "Global seed set to 33281\n"
     ]
    },
    {
     "name": "stdout",
     "output_type": "stream",
     "text": [
      "Data shape for DDIM sampling is (2, 4, 64, 64), eta 0.0\n",
      "Running DDIM Sampling with 20 timesteps\n"
     ]
    },
    {
     "name": "stderr",
     "output_type": "stream",
     "text": [
      "\n",
      "DDIM Sampler:   0%|          | 0/20 [00:00<?, ?it/s]\u001b[A\n",
      "DDIM Sampler:   5%|▌         | 1/20 [00:00<00:11,  1.63it/s]\u001b[A\n",
      "DDIM Sampler:  10%|█         | 2/20 [00:01<00:11,  1.59it/s]\u001b[A\n",
      "DDIM Sampler:  15%|█▌        | 3/20 [00:01<00:10,  1.60it/s]\u001b[A\n",
      "DDIM Sampler:  20%|██        | 4/20 [00:02<00:09,  1.60it/s]\u001b[A\n",
      "DDIM Sampler:  25%|██▌       | 5/20 [00:03<00:09,  1.60it/s]\u001b[A\n",
      "DDIM Sampler:  30%|███       | 6/20 [00:03<00:08,  1.60it/s]\u001b[A\n",
      "DDIM Sampler:  35%|███▌      | 7/20 [00:04<00:08,  1.60it/s]\u001b[A\n",
      "DDIM Sampler:  40%|████      | 8/20 [00:05<00:07,  1.60it/s]\u001b[A\n",
      "DDIM Sampler:  45%|████▌     | 9/20 [00:05<00:06,  1.60it/s]\u001b[A\n",
      "DDIM Sampler:  50%|█████     | 10/20 [00:06<00:06,  1.60it/s]\u001b[A\n",
      "DDIM Sampler:  55%|█████▌    | 11/20 [00:06<00:05,  1.60it/s]\u001b[A\n",
      "DDIM Sampler:  60%|██████    | 12/20 [00:07<00:05,  1.60it/s]\u001b[A\n",
      "DDIM Sampler:  65%|██████▌   | 13/20 [00:08<00:04,  1.60it/s]\u001b[A\n",
      "DDIM Sampler:  70%|███████   | 14/20 [00:08<00:03,  1.60it/s]\u001b[A\n",
      "DDIM Sampler:  75%|███████▌  | 15/20 [00:09<00:03,  1.60it/s]\u001b[A\n",
      "DDIM Sampler:  80%|████████  | 16/20 [00:10<00:02,  1.60it/s]\u001b[A\n",
      "DDIM Sampler:  85%|████████▌ | 17/20 [00:10<00:01,  1.60it/s]\u001b[A\n",
      "DDIM Sampler:  90%|█████████ | 18/20 [00:11<00:01,  1.60it/s]\u001b[A\n",
      "DDIM Sampler:  95%|█████████▌| 19/20 [00:11<00:00,  1.60it/s]\u001b[A\n",
      "DDIM Sampler: 100%|██████████| 20/20 [00:12<00:00,  1.60it/s]\u001b[A\n",
      "Global seed set to 9181\n"
     ]
    },
    {
     "name": "stdout",
     "output_type": "stream",
     "text": [
      "Data shape for DDIM sampling is (2, 4, 64, 72), eta 0.0\n",
      "Running DDIM Sampling with 20 timesteps\n"
     ]
    },
    {
     "name": "stderr",
     "output_type": "stream",
     "text": [
      "\n",
      "DDIM Sampler:   0%|          | 0/20 [00:00<?, ?it/s]\u001b[A\n",
      "DDIM Sampler:   5%|▌         | 1/20 [00:00<00:13,  1.36it/s]\u001b[A\n",
      "DDIM Sampler:  10%|█         | 2/20 [00:01<00:13,  1.33it/s]\u001b[A\n",
      "DDIM Sampler:  15%|█▌        | 3/20 [00:02<00:12,  1.33it/s]\u001b[A\n",
      "DDIM Sampler:  20%|██        | 4/20 [00:02<00:12,  1.33it/s]\u001b[A\n",
      "DDIM Sampler:  25%|██▌       | 5/20 [00:03<00:11,  1.34it/s]\u001b[A\n",
      "DDIM Sampler:  30%|███       | 6/20 [00:04<00:10,  1.34it/s]\u001b[A\n",
      "DDIM Sampler:  35%|███▌      | 7/20 [00:05<00:09,  1.33it/s]\u001b[A\n",
      "DDIM Sampler:  40%|████      | 8/20 [00:05<00:08,  1.33it/s]\u001b[A\n",
      "DDIM Sampler:  45%|████▌     | 9/20 [00:06<00:08,  1.34it/s]\u001b[A\n",
      "DDIM Sampler:  50%|█████     | 10/20 [00:07<00:07,  1.34it/s]\u001b[A\n",
      "DDIM Sampler:  55%|█████▌    | 11/20 [00:08<00:06,  1.33it/s]\u001b[A\n",
      "DDIM Sampler:  60%|██████    | 12/20 [00:08<00:05,  1.33it/s]\u001b[A\n",
      "DDIM Sampler:  65%|██████▌   | 13/20 [00:09<00:05,  1.34it/s]\u001b[A\n",
      "DDIM Sampler:  70%|███████   | 14/20 [00:10<00:04,  1.33it/s]\u001b[A\n",
      "DDIM Sampler:  75%|███████▌  | 15/20 [00:11<00:03,  1.33it/s]\u001b[A\n",
      "DDIM Sampler:  80%|████████  | 16/20 [00:11<00:03,  1.33it/s]\u001b[A\n",
      "DDIM Sampler:  85%|████████▌ | 17/20 [00:12<00:02,  1.34it/s]\u001b[A\n",
      "DDIM Sampler:  90%|█████████ | 18/20 [00:13<00:01,  1.33it/s]\u001b[A\n",
      "DDIM Sampler:  95%|█████████▌| 19/20 [00:14<00:00,  1.33it/s]\u001b[A\n",
      "DDIM Sampler: 100%|██████████| 20/20 [00:14<00:00,  1.33it/s]\u001b[A\n",
      "Global seed set to 64188\n"
     ]
    },
    {
     "name": "stdout",
     "output_type": "stream",
     "text": [
      "Data shape for DDIM sampling is (2, 4, 64, 112), eta 0.0\n",
      "Running DDIM Sampling with 20 timesteps\n"
     ]
    },
    {
     "name": "stderr",
     "output_type": "stream",
     "text": [
      "\n",
      "DDIM Sampler:   0%|          | 0/20 [00:00<?, ?it/s]\u001b[A\n",
      "DDIM Sampler:   5%|▌         | 1/20 [00:01<00:28,  1.51s/it]\u001b[A\n",
      "DDIM Sampler:  10%|█         | 2/20 [00:03<00:27,  1.51s/it]\u001b[A\n",
      "DDIM Sampler:  15%|█▌        | 3/20 [00:04<00:25,  1.51s/it]\u001b[A\n",
      "DDIM Sampler:  20%|██        | 4/20 [00:06<00:24,  1.51s/it]\u001b[A\n",
      "DDIM Sampler:  25%|██▌       | 5/20 [00:07<00:22,  1.51s/it]\u001b[A\n",
      "DDIM Sampler:  30%|███       | 6/20 [00:09<00:21,  1.51s/it]\u001b[A\n",
      "DDIM Sampler:  35%|███▌      | 7/20 [00:10<00:19,  1.51s/it]\u001b[A\n",
      "DDIM Sampler:  40%|████      | 8/20 [00:12<00:18,  1.51s/it]\u001b[A\n",
      "DDIM Sampler:  45%|████▌     | 9/20 [00:13<00:16,  1.51s/it]\u001b[A\n",
      "DDIM Sampler:  50%|█████     | 10/20 [00:15<00:15,  1.51s/it]\u001b[A\n",
      "DDIM Sampler:  55%|█████▌    | 11/20 [00:16<00:13,  1.51s/it]\u001b[A\n",
      "DDIM Sampler:  60%|██████    | 12/20 [00:18<00:12,  1.51s/it]\u001b[A\n",
      "DDIM Sampler:  65%|██████▌   | 13/20 [00:19<00:10,  1.51s/it]\u001b[A\n",
      "DDIM Sampler:  70%|███████   | 14/20 [00:21<00:09,  1.51s/it]\u001b[A\n",
      "DDIM Sampler:  75%|███████▌  | 15/20 [00:22<00:07,  1.51s/it]\u001b[A\n",
      "DDIM Sampler:  80%|████████  | 16/20 [00:24<00:06,  1.51s/it]\u001b[A\n",
      "DDIM Sampler:  85%|████████▌ | 17/20 [00:25<00:04,  1.51s/it]\u001b[A\n",
      "DDIM Sampler:  90%|█████████ | 18/20 [00:27<00:03,  1.51s/it]\u001b[A\n",
      "DDIM Sampler:  95%|█████████▌| 19/20 [00:28<00:01,  1.51s/it]\u001b[A\n",
      "DDIM Sampler: 100%|██████████| 20/20 [00:30<00:00,  1.51s/it]\u001b[A\n",
      "Global seed set to 10533\n"
     ]
    },
    {
     "name": "stdout",
     "output_type": "stream",
     "text": [
      "Data shape for DDIM sampling is (2, 4, 64, 96), eta 0.0\n",
      "Running DDIM Sampling with 20 timesteps\n"
     ]
    },
    {
     "name": "stderr",
     "output_type": "stream",
     "text": [
      "\n",
      "DDIM Sampler:   0%|          | 0/20 [00:00<?, ?it/s]\u001b[A\n",
      "DDIM Sampler:   5%|▌         | 1/20 [00:01<00:22,  1.18s/it]\u001b[A\n",
      "DDIM Sampler:  10%|█         | 2/20 [00:02<00:21,  1.17s/it]\u001b[A\n",
      "DDIM Sampler:  15%|█▌        | 3/20 [00:03<00:19,  1.16s/it]\u001b[A\n",
      "DDIM Sampler:  20%|██        | 4/20 [00:04<00:18,  1.16s/it]\u001b[A\n",
      "DDIM Sampler:  25%|██▌       | 5/20 [00:05<00:17,  1.16s/it]\u001b[A\n",
      "DDIM Sampler:  30%|███       | 6/20 [00:06<00:16,  1.16s/it]\u001b[A\n",
      "DDIM Sampler:  35%|███▌      | 7/20 [00:08<00:15,  1.16s/it]\u001b[A\n",
      "DDIM Sampler:  40%|████      | 8/20 [00:09<00:13,  1.16s/it]\u001b[A\n",
      "DDIM Sampler:  45%|████▌     | 9/20 [00:10<00:12,  1.16s/it]\u001b[A\n",
      "DDIM Sampler:  50%|█████     | 10/20 [00:11<00:11,  1.16s/it]\u001b[A\n",
      "DDIM Sampler:  55%|█████▌    | 11/20 [00:12<00:10,  1.16s/it]\u001b[A\n",
      "DDIM Sampler:  60%|██████    | 12/20 [00:13<00:09,  1.16s/it]\u001b[A\n",
      "DDIM Sampler:  65%|██████▌   | 13/20 [00:15<00:08,  1.16s/it]\u001b[A\n",
      "DDIM Sampler:  70%|███████   | 14/20 [00:16<00:06,  1.16s/it]\u001b[A\n",
      "DDIM Sampler:  75%|███████▌  | 15/20 [00:17<00:05,  1.16s/it]\u001b[A\n",
      "DDIM Sampler:  80%|████████  | 16/20 [00:18<00:04,  1.16s/it]\u001b[A\n",
      "DDIM Sampler:  85%|████████▌ | 17/20 [00:19<00:03,  1.16s/it]\u001b[A\n",
      "DDIM Sampler:  90%|█████████ | 18/20 [00:20<00:02,  1.16s/it]\u001b[A\n",
      "DDIM Sampler:  95%|█████████▌| 19/20 [00:22<00:01,  1.16s/it]\u001b[A\n",
      "DDIM Sampler: 100%|██████████| 20/20 [00:23<00:00,  1.16s/it]\u001b[A\n",
      "Global seed set to 31808\n"
     ]
    },
    {
     "name": "stdout",
     "output_type": "stream",
     "text": [
      "Data shape for DDIM sampling is (2, 4, 64, 64), eta 0.0\n",
      "Running DDIM Sampling with 20 timesteps\n"
     ]
    },
    {
     "name": "stderr",
     "output_type": "stream",
     "text": [
      "\n",
      "DDIM Sampler:   0%|          | 0/20 [00:00<?, ?it/s]\u001b[A\n",
      "DDIM Sampler:   5%|▌         | 1/20 [00:00<00:11,  1.64it/s]\u001b[A\n",
      "DDIM Sampler:  10%|█         | 2/20 [00:01<00:11,  1.59it/s]\u001b[A\n",
      "DDIM Sampler:  15%|█▌        | 3/20 [00:01<00:10,  1.59it/s]\u001b[A\n",
      "DDIM Sampler:  20%|██        | 4/20 [00:02<00:10,  1.60it/s]\u001b[A\n",
      "DDIM Sampler:  25%|██▌       | 5/20 [00:03<00:09,  1.59it/s]\u001b[A\n",
      "DDIM Sampler:  30%|███       | 6/20 [00:03<00:08,  1.60it/s]\u001b[A\n",
      "DDIM Sampler:  35%|███▌      | 7/20 [00:04<00:08,  1.60it/s]\u001b[A\n",
      "DDIM Sampler:  40%|████      | 8/20 [00:05<00:07,  1.60it/s]\u001b[A\n",
      "DDIM Sampler:  45%|████▌     | 9/20 [00:05<00:06,  1.60it/s]\u001b[A\n",
      "DDIM Sampler:  50%|█████     | 10/20 [00:06<00:06,  1.60it/s]\u001b[A\n",
      "DDIM Sampler:  55%|█████▌    | 11/20 [00:06<00:05,  1.60it/s]\u001b[A\n",
      "DDIM Sampler:  60%|██████    | 12/20 [00:07<00:05,  1.60it/s]\u001b[A\n",
      "DDIM Sampler:  65%|██████▌   | 13/20 [00:08<00:04,  1.60it/s]\u001b[A\n",
      "DDIM Sampler:  70%|███████   | 14/20 [00:08<00:03,  1.60it/s]\u001b[A\n",
      "DDIM Sampler:  75%|███████▌  | 15/20 [00:09<00:03,  1.60it/s]\u001b[A\n",
      "DDIM Sampler:  80%|████████  | 16/20 [00:10<00:02,  1.60it/s]\u001b[A\n",
      "DDIM Sampler:  85%|████████▌ | 17/20 [00:10<00:01,  1.60it/s]\u001b[A\n",
      "DDIM Sampler:  90%|█████████ | 18/20 [00:11<00:01,  1.60it/s]\u001b[A\n",
      "DDIM Sampler:  95%|█████████▌| 19/20 [00:11<00:00,  1.60it/s]\u001b[A\n",
      "DDIM Sampler: 100%|██████████| 20/20 [00:12<00:00,  1.60it/s]\u001b[A\n",
      "Global seed set to 33281\n"
     ]
    },
    {
     "name": "stdout",
     "output_type": "stream",
     "text": [
      "Data shape for DDIM sampling is (2, 4, 64, 64), eta 0.0\n",
      "Running DDIM Sampling with 20 timesteps\n"
     ]
    },
    {
     "name": "stderr",
     "output_type": "stream",
     "text": [
      "\n",
      "DDIM Sampler:   0%|          | 0/20 [00:00<?, ?it/s]\u001b[A\n",
      "DDIM Sampler:   5%|▌         | 1/20 [00:00<00:11,  1.63it/s]\u001b[A\n",
      "DDIM Sampler:  10%|█         | 2/20 [00:01<00:11,  1.59it/s]\u001b[A\n",
      "DDIM Sampler:  15%|█▌        | 3/20 [00:01<00:10,  1.59it/s]\u001b[A\n",
      "DDIM Sampler:  20%|██        | 4/20 [00:02<00:10,  1.60it/s]\u001b[A\n",
      "DDIM Sampler:  25%|██▌       | 5/20 [00:03<00:09,  1.59it/s]\u001b[A\n",
      "DDIM Sampler:  30%|███       | 6/20 [00:03<00:08,  1.60it/s]\u001b[A\n",
      "DDIM Sampler:  35%|███▌      | 7/20 [00:04<00:08,  1.59it/s]\u001b[A\n",
      "DDIM Sampler:  40%|████      | 8/20 [00:05<00:07,  1.59it/s]\u001b[A\n",
      "DDIM Sampler:  45%|████▌     | 9/20 [00:05<00:06,  1.60it/s]\u001b[A\n",
      "DDIM Sampler:  50%|█████     | 10/20 [00:06<00:06,  1.60it/s]\u001b[A\n",
      "DDIM Sampler:  55%|█████▌    | 11/20 [00:06<00:05,  1.59it/s]\u001b[A\n",
      "DDIM Sampler:  60%|██████    | 12/20 [00:07<00:05,  1.59it/s]\u001b[A\n",
      "DDIM Sampler:  65%|██████▌   | 13/20 [00:08<00:04,  1.59it/s]\u001b[A\n",
      "DDIM Sampler:  70%|███████   | 14/20 [00:08<00:03,  1.60it/s]\u001b[A\n",
      "DDIM Sampler:  75%|███████▌  | 15/20 [00:09<00:03,  1.60it/s]\u001b[A\n",
      "DDIM Sampler:  80%|████████  | 16/20 [00:10<00:02,  1.59it/s]\u001b[A\n",
      "DDIM Sampler:  85%|████████▌ | 17/20 [00:10<00:01,  1.60it/s]\u001b[A\n",
      "DDIM Sampler:  90%|█████████ | 18/20 [00:11<00:01,  1.60it/s]\u001b[A\n",
      "DDIM Sampler:  95%|█████████▌| 19/20 [00:11<00:00,  1.60it/s]\u001b[A\n",
      "DDIM Sampler: 100%|██████████| 20/20 [00:12<00:00,  1.60it/s]\u001b[A\n",
      "Global seed set to 9181\n"
     ]
    },
    {
     "name": "stdout",
     "output_type": "stream",
     "text": [
      "Data shape for DDIM sampling is (2, 4, 64, 64), eta 0.0\n",
      "Running DDIM Sampling with 20 timesteps\n"
     ]
    },
    {
     "name": "stderr",
     "output_type": "stream",
     "text": [
      "\n",
      "DDIM Sampler:   0%|          | 0/20 [00:00<?, ?it/s]\u001b[A\n",
      "DDIM Sampler:   5%|▌         | 1/20 [00:00<00:11,  1.63it/s]\u001b[A\n",
      "DDIM Sampler:  10%|█         | 2/20 [00:01<00:11,  1.59it/s]\u001b[A\n",
      "DDIM Sampler:  15%|█▌        | 3/20 [00:01<00:10,  1.59it/s]\u001b[A\n",
      "DDIM Sampler:  20%|██        | 4/20 [00:02<00:10,  1.59it/s]\u001b[A\n",
      "DDIM Sampler:  25%|██▌       | 5/20 [00:03<00:09,  1.59it/s]\u001b[A\n",
      "DDIM Sampler:  30%|███       | 6/20 [00:03<00:08,  1.60it/s]\u001b[A\n",
      "DDIM Sampler:  35%|███▌      | 7/20 [00:04<00:08,  1.60it/s]\u001b[A\n",
      "DDIM Sampler:  40%|████      | 8/20 [00:05<00:07,  1.60it/s]\u001b[A\n",
      "DDIM Sampler:  45%|████▌     | 9/20 [00:05<00:06,  1.60it/s]\u001b[A\n",
      "DDIM Sampler:  50%|█████     | 10/20 [00:06<00:06,  1.60it/s]\u001b[A\n",
      "DDIM Sampler:  55%|█████▌    | 11/20 [00:06<00:05,  1.60it/s]\u001b[A\n",
      "DDIM Sampler:  60%|██████    | 12/20 [00:07<00:04,  1.60it/s]\u001b[A\n",
      "DDIM Sampler:  65%|██████▌   | 13/20 [00:08<00:04,  1.60it/s]\u001b[A\n",
      "DDIM Sampler:  70%|███████   | 14/20 [00:08<00:03,  1.60it/s]\u001b[A\n",
      "DDIM Sampler:  75%|███████▌  | 15/20 [00:09<00:03,  1.60it/s]\u001b[A\n",
      "DDIM Sampler:  80%|████████  | 16/20 [00:10<00:02,  1.60it/s]\u001b[A\n",
      "DDIM Sampler:  85%|████████▌ | 17/20 [00:10<00:01,  1.60it/s]\u001b[A\n",
      "DDIM Sampler:  90%|█████████ | 18/20 [00:11<00:01,  1.60it/s]\u001b[A\n",
      "DDIM Sampler:  95%|█████████▌| 19/20 [00:11<00:00,  1.60it/s]\u001b[A\n",
      "DDIM Sampler: 100%|██████████| 20/20 [00:12<00:00,  1.60it/s]\u001b[A\n",
      "Global seed set to 64188\n"
     ]
    },
    {
     "name": "stdout",
     "output_type": "stream",
     "text": [
      "Data shape for DDIM sampling is (2, 4, 64, 64), eta 0.0\n",
      "Running DDIM Sampling with 20 timesteps\n"
     ]
    },
    {
     "name": "stderr",
     "output_type": "stream",
     "text": [
      "\n",
      "DDIM Sampler:   0%|          | 0/20 [00:00<?, ?it/s]\u001b[A\n",
      "DDIM Sampler:   5%|▌         | 1/20 [00:00<00:11,  1.63it/s]\u001b[A\n",
      "DDIM Sampler:  10%|█         | 2/20 [00:01<00:11,  1.59it/s]\u001b[A\n",
      "DDIM Sampler:  15%|█▌        | 3/20 [00:01<00:10,  1.59it/s]\u001b[A\n",
      "DDIM Sampler:  20%|██        | 4/20 [00:02<00:10,  1.60it/s]\u001b[A\n",
      "DDIM Sampler:  25%|██▌       | 5/20 [00:03<00:09,  1.59it/s]\u001b[A\n",
      "DDIM Sampler:  30%|███       | 6/20 [00:03<00:08,  1.60it/s]\u001b[A\n",
      "DDIM Sampler:  35%|███▌      | 7/20 [00:04<00:08,  1.59it/s]\u001b[A\n",
      "DDIM Sampler:  40%|████      | 8/20 [00:05<00:07,  1.59it/s]\u001b[A\n",
      "DDIM Sampler:  45%|████▌     | 9/20 [00:05<00:06,  1.60it/s]\u001b[A\n",
      "DDIM Sampler:  50%|█████     | 10/20 [00:06<00:06,  1.59it/s]\u001b[A\n",
      "DDIM Sampler:  55%|█████▌    | 11/20 [00:06<00:05,  1.59it/s]\u001b[A\n",
      "DDIM Sampler:  60%|██████    | 12/20 [00:07<00:05,  1.60it/s]\u001b[A\n",
      "DDIM Sampler:  65%|██████▌   | 13/20 [00:08<00:04,  1.59it/s]\u001b[A\n",
      "DDIM Sampler:  70%|███████   | 14/20 [00:08<00:03,  1.59it/s]\u001b[A\n",
      "DDIM Sampler:  75%|███████▌  | 15/20 [00:09<00:03,  1.60it/s]\u001b[A\n",
      "DDIM Sampler:  80%|████████  | 16/20 [00:10<00:02,  1.60it/s]\u001b[A\n",
      "DDIM Sampler:  85%|████████▌ | 17/20 [00:10<00:01,  1.60it/s]\u001b[A\n",
      "DDIM Sampler:  90%|█████████ | 18/20 [00:11<00:01,  1.60it/s]\u001b[A\n",
      "DDIM Sampler:  95%|█████████▌| 19/20 [00:11<00:00,  1.60it/s]\u001b[A\n",
      "DDIM Sampler: 100%|██████████| 20/20 [00:12<00:00,  1.60it/s]\u001b[A\n",
      "Global seed set to 10533\n"
     ]
    },
    {
     "name": "stdout",
     "output_type": "stream",
     "text": [
      "Data shape for DDIM sampling is (2, 4, 64, 64), eta 0.0\n",
      "Running DDIM Sampling with 20 timesteps\n"
     ]
    },
    {
     "name": "stderr",
     "output_type": "stream",
     "text": [
      "\n",
      "DDIM Sampler:   0%|          | 0/20 [00:00<?, ?it/s]\u001b[A\n",
      "DDIM Sampler:   5%|▌         | 1/20 [00:00<00:11,  1.63it/s]\u001b[A\n",
      "DDIM Sampler:  10%|█         | 2/20 [00:01<00:11,  1.59it/s]\u001b[A\n",
      "DDIM Sampler:  15%|█▌        | 3/20 [00:01<00:10,  1.59it/s]\u001b[A\n",
      "DDIM Sampler:  20%|██        | 4/20 [00:02<00:10,  1.60it/s]\u001b[A\n",
      "DDIM Sampler:  25%|██▌       | 5/20 [00:03<00:09,  1.59it/s]\u001b[A\n",
      "DDIM Sampler:  30%|███       | 6/20 [00:03<00:08,  1.60it/s]\u001b[A\n",
      "DDIM Sampler:  35%|███▌      | 7/20 [00:04<00:08,  1.60it/s]\u001b[A\n",
      "DDIM Sampler:  40%|████      | 8/20 [00:05<00:07,  1.60it/s]\u001b[A\n",
      "DDIM Sampler:  45%|████▌     | 9/20 [00:05<00:06,  1.60it/s]\u001b[A\n",
      "DDIM Sampler:  50%|█████     | 10/20 [00:06<00:06,  1.60it/s]\u001b[A\n",
      "DDIM Sampler:  55%|█████▌    | 11/20 [00:06<00:05,  1.60it/s]\u001b[A\n",
      "DDIM Sampler:  60%|██████    | 12/20 [00:07<00:05,  1.60it/s]\u001b[A\n",
      "DDIM Sampler:  65%|██████▌   | 13/20 [00:08<00:04,  1.60it/s]\u001b[A\n",
      "DDIM Sampler:  70%|███████   | 14/20 [00:08<00:03,  1.60it/s]\u001b[A\n",
      "DDIM Sampler:  75%|███████▌  | 15/20 [00:09<00:03,  1.60it/s]\u001b[A\n",
      "DDIM Sampler:  80%|████████  | 16/20 [00:10<00:02,  1.60it/s]\u001b[A\n",
      "DDIM Sampler:  85%|████████▌ | 17/20 [00:10<00:01,  1.60it/s]\u001b[A\n",
      "DDIM Sampler:  90%|█████████ | 18/20 [00:11<00:01,  1.60it/s]\u001b[A\n",
      "DDIM Sampler:  95%|█████████▌| 19/20 [00:11<00:00,  1.60it/s]\u001b[A\n",
      "DDIM Sampler: 100%|██████████| 20/20 [00:12<00:00,  1.60it/s]\u001b[A\n",
      "Global seed set to 31808\n"
     ]
    },
    {
     "name": "stdout",
     "output_type": "stream",
     "text": [
      "Data shape for DDIM sampling is (2, 4, 64, 64), eta 0.0\n",
      "Running DDIM Sampling with 20 timesteps\n"
     ]
    },
    {
     "name": "stderr",
     "output_type": "stream",
     "text": [
      "\n",
      "DDIM Sampler:   0%|          | 0/20 [00:00<?, ?it/s]\u001b[A\n",
      "DDIM Sampler:   5%|▌         | 1/20 [00:00<00:11,  1.62it/s]\u001b[A\n",
      "DDIM Sampler:  10%|█         | 2/20 [00:01<00:11,  1.59it/s]\u001b[A\n",
      "DDIM Sampler:  15%|█▌        | 3/20 [00:01<00:10,  1.59it/s]\u001b[A\n",
      "DDIM Sampler:  20%|██        | 4/20 [00:02<00:10,  1.60it/s]\u001b[A\n",
      "DDIM Sampler:  25%|██▌       | 5/20 [00:03<00:09,  1.59it/s]\u001b[A\n",
      "DDIM Sampler:  30%|███       | 6/20 [00:03<00:08,  1.60it/s]\u001b[A\n",
      "DDIM Sampler:  35%|███▌      | 7/20 [00:04<00:08,  1.59it/s]\u001b[A\n",
      "DDIM Sampler:  40%|████      | 8/20 [00:05<00:07,  1.59it/s]\u001b[A\n",
      "DDIM Sampler:  45%|████▌     | 9/20 [00:05<00:06,  1.60it/s]\u001b[A\n",
      "DDIM Sampler:  50%|█████     | 10/20 [00:06<00:06,  1.59it/s]\u001b[A\n",
      "DDIM Sampler:  55%|█████▌    | 11/20 [00:06<00:05,  1.59it/s]\u001b[A\n",
      "DDIM Sampler:  60%|██████    | 12/20 [00:07<00:05,  1.60it/s]\u001b[A\n",
      "DDIM Sampler:  65%|██████▌   | 13/20 [00:08<00:04,  1.59it/s]\u001b[A\n",
      "DDIM Sampler:  70%|███████   | 14/20 [00:08<00:03,  1.60it/s]\u001b[A\n",
      "DDIM Sampler:  75%|███████▌  | 15/20 [00:09<00:03,  1.60it/s]\u001b[A\n",
      "DDIM Sampler:  80%|████████  | 16/20 [00:10<00:02,  1.60it/s]\u001b[A\n",
      "DDIM Sampler:  85%|████████▌ | 17/20 [00:10<00:01,  1.60it/s]\u001b[A\n",
      "DDIM Sampler:  90%|█████████ | 18/20 [00:11<00:01,  1.60it/s]\u001b[A\n",
      "DDIM Sampler:  95%|█████████▌| 19/20 [00:11<00:00,  1.60it/s]\u001b[A\n",
      "DDIM Sampler: 100%|██████████| 20/20 [00:12<00:00,  1.60it/s]\u001b[A\n",
      "Global seed set to 33281\n"
     ]
    },
    {
     "name": "stdout",
     "output_type": "stream",
     "text": [
      "Data shape for DDIM sampling is (2, 4, 64, 64), eta 0.0\n",
      "Running DDIM Sampling with 20 timesteps\n"
     ]
    },
    {
     "name": "stderr",
     "output_type": "stream",
     "text": [
      "\n",
      "DDIM Sampler:   0%|          | 0/20 [00:00<?, ?it/s]\u001b[A\n",
      "DDIM Sampler:   5%|▌         | 1/20 [00:00<00:11,  1.63it/s]\u001b[A\n",
      "DDIM Sampler:  10%|█         | 2/20 [00:01<00:11,  1.59it/s]\u001b[A\n",
      "DDIM Sampler:  15%|█▌        | 3/20 [00:01<00:10,  1.59it/s]\u001b[A\n",
      "DDIM Sampler:  20%|██        | 4/20 [00:02<00:10,  1.59it/s]\u001b[A\n",
      "DDIM Sampler:  25%|██▌       | 5/20 [00:03<00:09,  1.59it/s]\u001b[A\n",
      "DDIM Sampler:  30%|███       | 6/20 [00:03<00:08,  1.60it/s]\u001b[A\n",
      "DDIM Sampler:  35%|███▌      | 7/20 [00:04<00:08,  1.59it/s]\u001b[A\n",
      "DDIM Sampler:  40%|████      | 8/20 [00:05<00:07,  1.60it/s]\u001b[A\n",
      "DDIM Sampler:  45%|████▌     | 9/20 [00:05<00:06,  1.60it/s]\u001b[A\n",
      "DDIM Sampler:  50%|█████     | 10/20 [00:06<00:06,  1.59it/s]\u001b[A\n",
      "DDIM Sampler:  55%|█████▌    | 11/20 [00:06<00:05,  1.59it/s]\u001b[A\n",
      "DDIM Sampler:  60%|██████    | 12/20 [00:07<00:05,  1.60it/s]\u001b[A\n",
      "DDIM Sampler:  65%|██████▌   | 13/20 [00:08<00:04,  1.59it/s]\u001b[A\n",
      "DDIM Sampler:  70%|███████   | 14/20 [00:08<00:03,  1.60it/s]\u001b[A\n",
      "DDIM Sampler:  75%|███████▌  | 15/20 [00:09<00:03,  1.59it/s]\u001b[A\n",
      "DDIM Sampler:  80%|████████  | 16/20 [00:10<00:02,  1.60it/s]\u001b[A\n",
      "DDIM Sampler:  85%|████████▌ | 17/20 [00:10<00:01,  1.60it/s]\u001b[A\n",
      "DDIM Sampler:  90%|█████████ | 18/20 [00:11<00:01,  1.59it/s]\u001b[A\n",
      "DDIM Sampler:  95%|█████████▌| 19/20 [00:11<00:00,  1.60it/s]\u001b[A\n",
      "DDIM Sampler: 100%|██████████| 20/20 [00:12<00:00,  1.60it/s]\u001b[A\n",
      "Global seed set to 9181\n"
     ]
    },
    {
     "name": "stdout",
     "output_type": "stream",
     "text": [
      "Data shape for DDIM sampling is (2, 4, 72, 64), eta 0.0\n",
      "Running DDIM Sampling with 20 timesteps\n"
     ]
    },
    {
     "name": "stderr",
     "output_type": "stream",
     "text": [
      "\n",
      "DDIM Sampler:   0%|          | 0/20 [00:00<?, ?it/s]\u001b[A\n",
      "DDIM Sampler:   5%|▌         | 1/20 [00:00<00:13,  1.37it/s]\u001b[A\n",
      "DDIM Sampler:  10%|█         | 2/20 [00:01<00:13,  1.33it/s]\u001b[A\n",
      "DDIM Sampler:  15%|█▌        | 3/20 [00:02<00:12,  1.33it/s]\u001b[A\n",
      "DDIM Sampler:  20%|██        | 4/20 [00:02<00:11,  1.33it/s]\u001b[A\n",
      "DDIM Sampler:  25%|██▌       | 5/20 [00:03<00:11,  1.34it/s]\u001b[A\n",
      "DDIM Sampler:  30%|███       | 6/20 [00:04<00:10,  1.34it/s]\u001b[A\n",
      "DDIM Sampler:  35%|███▌      | 7/20 [00:05<00:09,  1.34it/s]\u001b[A\n",
      "DDIM Sampler:  40%|████      | 8/20 [00:05<00:08,  1.34it/s]\u001b[A\n",
      "DDIM Sampler:  45%|████▌     | 9/20 [00:06<00:08,  1.34it/s]\u001b[A\n",
      "DDIM Sampler:  50%|█████     | 10/20 [00:07<00:07,  1.34it/s]\u001b[A\n",
      "DDIM Sampler:  55%|█████▌    | 11/20 [00:08<00:06,  1.34it/s]\u001b[A\n",
      "DDIM Sampler:  60%|██████    | 12/20 [00:08<00:05,  1.34it/s]\u001b[A\n",
      "DDIM Sampler:  65%|██████▌   | 13/20 [00:09<00:05,  1.34it/s]\u001b[A\n",
      "DDIM Sampler:  70%|███████   | 14/20 [00:10<00:04,  1.34it/s]\u001b[A\n",
      "DDIM Sampler:  75%|███████▌  | 15/20 [00:11<00:03,  1.34it/s]\u001b[A\n",
      "DDIM Sampler:  80%|████████  | 16/20 [00:11<00:02,  1.34it/s]\u001b[A\n",
      "DDIM Sampler:  85%|████████▌ | 17/20 [00:12<00:02,  1.34it/s]\u001b[A\n",
      "DDIM Sampler:  90%|█████████ | 18/20 [00:13<00:01,  1.34it/s]\u001b[A\n",
      "DDIM Sampler:  95%|█████████▌| 19/20 [00:14<00:00,  1.34it/s]\u001b[A\n",
      "DDIM Sampler: 100%|██████████| 20/20 [00:14<00:00,  1.34it/s]\u001b[A\n",
      "Global seed set to 64188\n"
     ]
    },
    {
     "name": "stdout",
     "output_type": "stream",
     "text": [
      "Data shape for DDIM sampling is (2, 4, 64, 64), eta 0.0\n",
      "Running DDIM Sampling with 20 timesteps\n"
     ]
    },
    {
     "name": "stderr",
     "output_type": "stream",
     "text": [
      "\n",
      "DDIM Sampler:   0%|          | 0/20 [00:00<?, ?it/s]\u001b[A\n",
      "DDIM Sampler:   5%|▌         | 1/20 [00:00<00:11,  1.63it/s]\u001b[A\n",
      "DDIM Sampler:  10%|█         | 2/20 [00:01<00:11,  1.60it/s]\u001b[A\n",
      "DDIM Sampler:  15%|█▌        | 3/20 [00:01<00:10,  1.60it/s]\u001b[A\n",
      "DDIM Sampler:  20%|██        | 4/20 [00:02<00:10,  1.60it/s]\u001b[A\n",
      "DDIM Sampler:  25%|██▌       | 5/20 [00:03<00:09,  1.60it/s]\u001b[A\n",
      "DDIM Sampler:  30%|███       | 6/20 [00:03<00:08,  1.60it/s]\u001b[A\n",
      "DDIM Sampler:  35%|███▌      | 7/20 [00:04<00:08,  1.60it/s]\u001b[A\n",
      "DDIM Sampler:  40%|████      | 8/20 [00:05<00:07,  1.59it/s]\u001b[A\n",
      "DDIM Sampler:  45%|████▌     | 9/20 [00:05<00:06,  1.60it/s]\u001b[A\n",
      "DDIM Sampler:  50%|█████     | 10/20 [00:06<00:06,  1.60it/s]\u001b[A\n",
      "DDIM Sampler:  55%|█████▌    | 11/20 [00:06<00:05,  1.60it/s]\u001b[A\n",
      "DDIM Sampler:  60%|██████    | 12/20 [00:07<00:05,  1.60it/s]\u001b[A\n",
      "DDIM Sampler:  65%|██████▌   | 13/20 [00:08<00:04,  1.59it/s]\u001b[A\n",
      "DDIM Sampler:  70%|███████   | 14/20 [00:08<00:03,  1.60it/s]\u001b[A\n",
      "DDIM Sampler:  75%|███████▌  | 15/20 [00:09<00:03,  1.60it/s]\u001b[A\n",
      "DDIM Sampler:  80%|████████  | 16/20 [00:10<00:02,  1.59it/s]\u001b[A\n",
      "DDIM Sampler:  85%|████████▌ | 17/20 [00:10<00:01,  1.60it/s]\u001b[A\n",
      "DDIM Sampler:  90%|█████████ | 18/20 [00:11<00:01,  1.60it/s]\u001b[A\n",
      "DDIM Sampler:  95%|█████████▌| 19/20 [00:11<00:00,  1.60it/s]\u001b[A\n",
      "DDIM Sampler: 100%|██████████| 20/20 [00:12<00:00,  1.60it/s]\u001b[A\n",
      "Global seed set to 10533\n"
     ]
    },
    {
     "name": "stdout",
     "output_type": "stream",
     "text": [
      "Data shape for DDIM sampling is (2, 4, 64, 96), eta 0.0\n",
      "Running DDIM Sampling with 20 timesteps\n"
     ]
    },
    {
     "name": "stderr",
     "output_type": "stream",
     "text": [
      "\n",
      "DDIM Sampler:   0%|          | 0/20 [00:00<?, ?it/s]\u001b[A\n",
      "DDIM Sampler:   5%|▌         | 1/20 [00:01<00:22,  1.17s/it]\u001b[A\n",
      "DDIM Sampler:  10%|█         | 2/20 [00:02<00:20,  1.16s/it]\u001b[A\n",
      "DDIM Sampler:  15%|█▌        | 3/20 [00:03<00:19,  1.16s/it]\u001b[A\n",
      "DDIM Sampler:  20%|██        | 4/20 [00:04<00:18,  1.16s/it]\u001b[A\n",
      "DDIM Sampler:  25%|██▌       | 5/20 [00:05<00:17,  1.16s/it]\u001b[A\n",
      "DDIM Sampler:  30%|███       | 6/20 [00:06<00:16,  1.16s/it]\u001b[A\n",
      "DDIM Sampler:  35%|███▌      | 7/20 [00:08<00:15,  1.16s/it]\u001b[A\n",
      "DDIM Sampler:  40%|████      | 8/20 [00:09<00:13,  1.16s/it]\u001b[A\n",
      "DDIM Sampler:  45%|████▌     | 9/20 [00:10<00:12,  1.16s/it]\u001b[A\n",
      "DDIM Sampler:  50%|█████     | 10/20 [00:11<00:11,  1.16s/it]\u001b[A\n",
      "DDIM Sampler:  55%|█████▌    | 11/20 [00:12<00:10,  1.16s/it]\u001b[A\n",
      "DDIM Sampler:  60%|██████    | 12/20 [00:13<00:09,  1.16s/it]\u001b[A\n",
      "DDIM Sampler:  65%|██████▌   | 13/20 [00:15<00:08,  1.16s/it]\u001b[A\n",
      "DDIM Sampler:  70%|███████   | 14/20 [00:16<00:06,  1.16s/it]\u001b[A\n",
      "DDIM Sampler:  75%|███████▌  | 15/20 [00:17<00:05,  1.16s/it]\u001b[A\n",
      "DDIM Sampler:  80%|████████  | 16/20 [00:18<00:04,  1.16s/it]\u001b[A\n",
      "DDIM Sampler:  85%|████████▌ | 17/20 [00:19<00:03,  1.16s/it]\u001b[A\n",
      "DDIM Sampler:  90%|█████████ | 18/20 [00:20<00:02,  1.16s/it]\u001b[A\n",
      "DDIM Sampler:  95%|█████████▌| 19/20 [00:22<00:01,  1.16s/it]\u001b[A\n",
      "DDIM Sampler: 100%|██████████| 20/20 [00:23<00:00,  1.16s/it]\u001b[A\n",
      "Global seed set to 31808\n"
     ]
    },
    {
     "name": "stdout",
     "output_type": "stream",
     "text": [
      "Data shape for DDIM sampling is (2, 4, 64, 64), eta 0.0\n",
      "Running DDIM Sampling with 20 timesteps\n"
     ]
    },
    {
     "name": "stderr",
     "output_type": "stream",
     "text": [
      "\n",
      "DDIM Sampler:   0%|          | 0/20 [00:00<?, ?it/s]\u001b[A\n",
      "DDIM Sampler:   5%|▌         | 1/20 [00:00<00:11,  1.63it/s]\u001b[A\n",
      "DDIM Sampler:  10%|█         | 2/20 [00:01<00:11,  1.59it/s]\u001b[A\n",
      "DDIM Sampler:  15%|█▌        | 3/20 [00:01<00:10,  1.60it/s]\u001b[A\n",
      "DDIM Sampler:  20%|██        | 4/20 [00:02<00:10,  1.60it/s]\u001b[A\n",
      "DDIM Sampler:  25%|██▌       | 5/20 [00:03<00:09,  1.60it/s]\u001b[A\n",
      "DDIM Sampler:  30%|███       | 6/20 [00:03<00:08,  1.60it/s]\u001b[A\n",
      "DDIM Sampler:  35%|███▌      | 7/20 [00:04<00:08,  1.60it/s]\u001b[A\n",
      "DDIM Sampler:  40%|████      | 8/20 [00:05<00:07,  1.60it/s]\u001b[A\n",
      "DDIM Sampler:  45%|████▌     | 9/20 [00:05<00:06,  1.60it/s]\u001b[A\n",
      "DDIM Sampler:  50%|█████     | 10/20 [00:06<00:06,  1.60it/s]\u001b[A\n",
      "DDIM Sampler:  55%|█████▌    | 11/20 [00:06<00:05,  1.59it/s]\u001b[A\n",
      "DDIM Sampler:  60%|██████    | 12/20 [00:07<00:05,  1.60it/s]\u001b[A\n",
      "DDIM Sampler:  65%|██████▌   | 13/20 [00:08<00:04,  1.60it/s]\u001b[A\n",
      "DDIM Sampler:  70%|███████   | 14/20 [00:08<00:03,  1.60it/s]\u001b[A\n",
      "DDIM Sampler:  75%|███████▌  | 15/20 [00:09<00:03,  1.60it/s]\u001b[A\n",
      "DDIM Sampler:  80%|████████  | 16/20 [00:10<00:02,  1.60it/s]\u001b[A\n",
      "DDIM Sampler:  85%|████████▌ | 17/20 [00:10<00:01,  1.60it/s]\u001b[A\n",
      "DDIM Sampler:  90%|█████████ | 18/20 [00:11<00:01,  1.60it/s]\u001b[A\n",
      "DDIM Sampler:  95%|█████████▌| 19/20 [00:11<00:00,  1.60it/s]\u001b[A\n",
      "DDIM Sampler: 100%|██████████| 20/20 [00:12<00:00,  1.60it/s]\u001b[A\n",
      "Global seed set to 33281\n"
     ]
    },
    {
     "name": "stdout",
     "output_type": "stream",
     "text": [
      "Data shape for DDIM sampling is (2, 4, 64, 64), eta 0.0\n",
      "Running DDIM Sampling with 20 timesteps\n"
     ]
    },
    {
     "name": "stderr",
     "output_type": "stream",
     "text": [
      "\n",
      "DDIM Sampler:   0%|          | 0/20 [00:00<?, ?it/s]\u001b[A\n",
      "DDIM Sampler:   5%|▌         | 1/20 [00:00<00:11,  1.63it/s]\u001b[A\n",
      "DDIM Sampler:  10%|█         | 2/20 [00:01<00:11,  1.59it/s]\u001b[A\n",
      "DDIM Sampler:  15%|█▌        | 3/20 [00:01<00:10,  1.59it/s]\u001b[A\n",
      "DDIM Sampler:  20%|██        | 4/20 [00:02<00:10,  1.60it/s]\u001b[A\n",
      "DDIM Sampler:  25%|██▌       | 5/20 [00:03<00:09,  1.59it/s]\u001b[A\n",
      "DDIM Sampler:  30%|███       | 6/20 [00:03<00:08,  1.59it/s]\u001b[A\n",
      "DDIM Sampler:  35%|███▌      | 7/20 [00:04<00:08,  1.59it/s]\u001b[A\n",
      "DDIM Sampler:  40%|████      | 8/20 [00:05<00:07,  1.59it/s]\u001b[A\n",
      "DDIM Sampler:  45%|████▌     | 9/20 [00:05<00:06,  1.59it/s]\u001b[A\n",
      "DDIM Sampler:  50%|█████     | 10/20 [00:06<00:06,  1.59it/s]\u001b[A\n",
      "DDIM Sampler:  55%|█████▌    | 11/20 [00:06<00:05,  1.59it/s]\u001b[A\n",
      "DDIM Sampler:  60%|██████    | 12/20 [00:07<00:05,  1.59it/s]\u001b[A\n",
      "DDIM Sampler:  65%|██████▌   | 13/20 [00:08<00:04,  1.60it/s]\u001b[A\n",
      "DDIM Sampler:  70%|███████   | 14/20 [00:08<00:03,  1.59it/s]\u001b[A\n",
      "DDIM Sampler:  75%|███████▌  | 15/20 [00:09<00:03,  1.59it/s]\u001b[A\n",
      "DDIM Sampler:  80%|████████  | 16/20 [00:10<00:02,  1.59it/s]\u001b[A\n",
      "DDIM Sampler:  85%|████████▌ | 17/20 [00:10<00:01,  1.59it/s]\u001b[A\n",
      "DDIM Sampler:  90%|█████████ | 18/20 [00:11<00:01,  1.59it/s]\u001b[A\n",
      "DDIM Sampler:  95%|█████████▌| 19/20 [00:11<00:00,  1.59it/s]\u001b[A\n",
      "DDIM Sampler: 100%|██████████| 20/20 [00:12<00:00,  1.59it/s]\u001b[A\n",
      "Global seed set to 9181\n"
     ]
    },
    {
     "name": "stdout",
     "output_type": "stream",
     "text": [
      "Data shape for DDIM sampling is (2, 4, 64, 64), eta 0.0\n",
      "Running DDIM Sampling with 20 timesteps\n"
     ]
    },
    {
     "name": "stderr",
     "output_type": "stream",
     "text": [
      "\n",
      "DDIM Sampler:   0%|          | 0/20 [00:00<?, ?it/s]\u001b[A\n",
      "DDIM Sampler:   5%|▌         | 1/20 [00:00<00:11,  1.62it/s]\u001b[A\n",
      "DDIM Sampler:  10%|█         | 2/20 [00:01<00:11,  1.59it/s]\u001b[A\n",
      "DDIM Sampler:  15%|█▌        | 3/20 [00:01<00:10,  1.59it/s]\u001b[A\n",
      "DDIM Sampler:  20%|██        | 4/20 [00:02<00:10,  1.59it/s]\u001b[A\n",
      "DDIM Sampler:  25%|██▌       | 5/20 [00:03<00:09,  1.59it/s]\u001b[A\n",
      "DDIM Sampler:  30%|███       | 6/20 [00:03<00:08,  1.60it/s]\u001b[A\n",
      "DDIM Sampler:  35%|███▌      | 7/20 [00:04<00:08,  1.60it/s]\u001b[A\n",
      "DDIM Sampler:  40%|████      | 8/20 [00:05<00:07,  1.59it/s]\u001b[A\n",
      "DDIM Sampler:  45%|████▌     | 9/20 [00:05<00:06,  1.60it/s]\u001b[A\n",
      "DDIM Sampler:  50%|█████     | 10/20 [00:06<00:06,  1.60it/s]\u001b[A\n",
      "DDIM Sampler:  55%|█████▌    | 11/20 [00:06<00:05,  1.59it/s]\u001b[A\n",
      "DDIM Sampler:  60%|██████    | 12/20 [00:07<00:05,  1.60it/s]\u001b[A\n",
      "DDIM Sampler:  65%|██████▌   | 13/20 [00:08<00:04,  1.60it/s]\u001b[A\n",
      "DDIM Sampler:  70%|███████   | 14/20 [00:08<00:03,  1.60it/s]\u001b[A\n",
      "DDIM Sampler:  75%|███████▌  | 15/20 [00:09<00:03,  1.60it/s]\u001b[A\n",
      "DDIM Sampler:  80%|████████  | 16/20 [00:10<00:02,  1.60it/s]\u001b[A\n",
      "DDIM Sampler:  85%|████████▌ | 17/20 [00:10<00:01,  1.60it/s]\u001b[A\n",
      "DDIM Sampler:  90%|█████████ | 18/20 [00:11<00:01,  1.60it/s]\u001b[A\n",
      "DDIM Sampler:  95%|█████████▌| 19/20 [00:11<00:00,  1.60it/s]\u001b[A\n",
      "DDIM Sampler: 100%|██████████| 20/20 [00:12<00:00,  1.60it/s]\u001b[A\n",
      "Global seed set to 64188\n"
     ]
    },
    {
     "name": "stdout",
     "output_type": "stream",
     "text": [
      "Data shape for DDIM sampling is (2, 4, 64, 64), eta 0.0\n",
      "Running DDIM Sampling with 20 timesteps\n"
     ]
    },
    {
     "name": "stderr",
     "output_type": "stream",
     "text": [
      "\n",
      "DDIM Sampler:   0%|          | 0/20 [00:00<?, ?it/s]\u001b[A\n",
      "DDIM Sampler:   5%|▌         | 1/20 [00:00<00:11,  1.63it/s]\u001b[A\n",
      "DDIM Sampler:  10%|█         | 2/20 [00:01<00:11,  1.59it/s]\u001b[A\n",
      "DDIM Sampler:  15%|█▌        | 3/20 [00:01<00:10,  1.60it/s]\u001b[A\n",
      "DDIM Sampler:  20%|██        | 4/20 [00:02<00:10,  1.60it/s]\u001b[A\n",
      "DDIM Sampler:  25%|██▌       | 5/20 [00:03<00:09,  1.60it/s]\u001b[A\n",
      "DDIM Sampler:  30%|███       | 6/20 [00:03<00:08,  1.60it/s]\u001b[A\n",
      "DDIM Sampler:  35%|███▌      | 7/20 [00:04<00:08,  1.60it/s]\u001b[A\n",
      "DDIM Sampler:  40%|████      | 8/20 [00:05<00:07,  1.60it/s]\u001b[A\n",
      "DDIM Sampler:  45%|████▌     | 9/20 [00:05<00:06,  1.60it/s]\u001b[A\n",
      "DDIM Sampler:  50%|█████     | 10/20 [00:06<00:06,  1.60it/s]\u001b[A\n",
      "DDIM Sampler:  55%|█████▌    | 11/20 [00:06<00:05,  1.59it/s]\u001b[A\n",
      "DDIM Sampler:  60%|██████    | 12/20 [00:07<00:05,  1.60it/s]\u001b[A\n",
      "DDIM Sampler:  65%|██████▌   | 13/20 [00:08<00:04,  1.59it/s]\u001b[A\n",
      "DDIM Sampler:  70%|███████   | 14/20 [00:08<00:03,  1.60it/s]\u001b[A\n",
      "DDIM Sampler:  75%|███████▌  | 15/20 [00:09<00:03,  1.60it/s]\u001b[A\n",
      "DDIM Sampler:  80%|████████  | 16/20 [00:10<00:02,  1.60it/s]\u001b[A\n",
      "DDIM Sampler:  85%|████████▌ | 17/20 [00:10<00:01,  1.60it/s]\u001b[A\n",
      "DDIM Sampler:  90%|█████████ | 18/20 [00:11<00:01,  1.60it/s]\u001b[A\n",
      "DDIM Sampler:  95%|█████████▌| 19/20 [00:11<00:00,  1.60it/s]\u001b[A\n",
      "DDIM Sampler: 100%|██████████| 20/20 [00:12<00:00,  1.60it/s]\u001b[A\n",
      "Global seed set to 10533\n"
     ]
    },
    {
     "name": "stdout",
     "output_type": "stream",
     "text": [
      "Data shape for DDIM sampling is (2, 4, 64, 64), eta 0.0\n",
      "Running DDIM Sampling with 20 timesteps\n"
     ]
    },
    {
     "name": "stderr",
     "output_type": "stream",
     "text": [
      "\n",
      "DDIM Sampler:   0%|          | 0/20 [00:00<?, ?it/s]\u001b[A\n",
      "DDIM Sampler:   5%|▌         | 1/20 [00:00<00:11,  1.63it/s]\u001b[A\n",
      "DDIM Sampler:  10%|█         | 2/20 [00:01<00:11,  1.60it/s]\u001b[A\n",
      "DDIM Sampler:  15%|█▌        | 3/20 [00:01<00:10,  1.60it/s]\u001b[A\n",
      "DDIM Sampler:  20%|██        | 4/20 [00:02<00:09,  1.60it/s]\u001b[A\n",
      "DDIM Sampler:  25%|██▌       | 5/20 [00:03<00:09,  1.59it/s]\u001b[A\n",
      "DDIM Sampler:  30%|███       | 6/20 [00:03<00:08,  1.60it/s]\u001b[A\n",
      "DDIM Sampler:  35%|███▌      | 7/20 [00:04<00:08,  1.60it/s]\u001b[A\n",
      "DDIM Sampler:  40%|████      | 8/20 [00:05<00:07,  1.60it/s]\u001b[A\n",
      "DDIM Sampler:  45%|████▌     | 9/20 [00:05<00:06,  1.60it/s]\u001b[A\n",
      "DDIM Sampler:  50%|█████     | 10/20 [00:06<00:06,  1.60it/s]\u001b[A\n",
      "DDIM Sampler:  55%|█████▌    | 11/20 [00:06<00:05,  1.60it/s]\u001b[A\n",
      "DDIM Sampler:  60%|██████    | 12/20 [00:07<00:05,  1.60it/s]\u001b[A\n",
      "DDIM Sampler:  65%|██████▌   | 13/20 [00:08<00:04,  1.60it/s]\u001b[A\n",
      "DDIM Sampler:  70%|███████   | 14/20 [00:08<00:03,  1.60it/s]\u001b[A\n",
      "DDIM Sampler:  75%|███████▌  | 15/20 [00:09<00:03,  1.60it/s]\u001b[A\n",
      "DDIM Sampler:  80%|████████  | 16/20 [00:10<00:02,  1.60it/s]\u001b[A\n",
      "DDIM Sampler:  85%|████████▌ | 17/20 [00:10<00:01,  1.60it/s]\u001b[A\n",
      "DDIM Sampler:  90%|█████████ | 18/20 [00:11<00:01,  1.60it/s]\u001b[A\n",
      "DDIM Sampler:  95%|█████████▌| 19/20 [00:11<00:00,  1.60it/s]\u001b[A\n",
      "DDIM Sampler: 100%|██████████| 20/20 [00:12<00:00,  1.60it/s]\u001b[A\n",
      "Global seed set to 31808\n"
     ]
    },
    {
     "name": "stdout",
     "output_type": "stream",
     "text": [
      "Data shape for DDIM sampling is (2, 4, 64, 72), eta 0.0\n",
      "Running DDIM Sampling with 20 timesteps\n"
     ]
    },
    {
     "name": "stderr",
     "output_type": "stream",
     "text": [
      "\n",
      "DDIM Sampler:   0%|          | 0/20 [00:00<?, ?it/s]\u001b[A\n",
      "DDIM Sampler:   5%|▌         | 1/20 [00:00<00:14,  1.36it/s]\u001b[A\n",
      "DDIM Sampler:  10%|█         | 2/20 [00:01<00:13,  1.33it/s]\u001b[A\n",
      "DDIM Sampler:  15%|█▌        | 3/20 [00:02<00:12,  1.33it/s]\u001b[A\n",
      "DDIM Sampler:  20%|██        | 4/20 [00:03<00:12,  1.33it/s]\u001b[A\n",
      "DDIM Sampler:  25%|██▌       | 5/20 [00:03<00:11,  1.33it/s]\u001b[A\n",
      "DDIM Sampler:  30%|███       | 6/20 [00:04<00:10,  1.33it/s]\u001b[A\n",
      "DDIM Sampler:  35%|███▌      | 7/20 [00:05<00:09,  1.33it/s]\u001b[A\n",
      "DDIM Sampler:  40%|████      | 8/20 [00:06<00:09,  1.33it/s]\u001b[A\n",
      "DDIM Sampler:  45%|████▌     | 9/20 [00:06<00:08,  1.33it/s]\u001b[A\n",
      "DDIM Sampler:  50%|█████     | 10/20 [00:07<00:07,  1.33it/s]\u001b[A\n",
      "DDIM Sampler:  55%|█████▌    | 11/20 [00:08<00:06,  1.33it/s]\u001b[A\n",
      "DDIM Sampler:  60%|██████    | 12/20 [00:09<00:06,  1.33it/s]\u001b[A\n",
      "DDIM Sampler:  65%|██████▌   | 13/20 [00:09<00:05,  1.33it/s]\u001b[A\n",
      "DDIM Sampler:  70%|███████   | 14/20 [00:10<00:04,  1.33it/s]\u001b[A\n",
      "DDIM Sampler:  75%|███████▌  | 15/20 [00:11<00:03,  1.33it/s]\u001b[A\n",
      "DDIM Sampler:  80%|████████  | 16/20 [00:12<00:03,  1.33it/s]\u001b[A\n",
      "DDIM Sampler:  85%|████████▌ | 17/20 [00:12<00:02,  1.33it/s]\u001b[A\n",
      "DDIM Sampler:  90%|█████████ | 18/20 [00:13<00:01,  1.33it/s]\u001b[A\n",
      "DDIM Sampler:  95%|█████████▌| 19/20 [00:14<00:00,  1.33it/s]\u001b[A\n",
      "DDIM Sampler: 100%|██████████| 20/20 [00:15<00:00,  1.33it/s]\u001b[A\n",
      "Global seed set to 33281\n"
     ]
    },
    {
     "name": "stdout",
     "output_type": "stream",
     "text": [
      "Data shape for DDIM sampling is (2, 4, 64, 112), eta 0.0\n",
      "Running DDIM Sampling with 20 timesteps\n"
     ]
    },
    {
     "name": "stderr",
     "output_type": "stream",
     "text": [
      "\n",
      "DDIM Sampler:   0%|          | 0/20 [00:00<?, ?it/s]\u001b[A\n",
      "DDIM Sampler:   5%|▌         | 1/20 [00:01<00:28,  1.51s/it]\u001b[A\n",
      "DDIM Sampler:  10%|█         | 2/20 [00:03<00:27,  1.51s/it]\u001b[A\n",
      "DDIM Sampler:  15%|█▌        | 3/20 [00:04<00:25,  1.51s/it]\u001b[A\n",
      "DDIM Sampler:  20%|██        | 4/20 [00:06<00:24,  1.51s/it]\u001b[A\n",
      "DDIM Sampler:  25%|██▌       | 5/20 [00:07<00:22,  1.51s/it]\u001b[A\n",
      "DDIM Sampler:  30%|███       | 6/20 [00:09<00:21,  1.51s/it]\u001b[A\n",
      "DDIM Sampler:  35%|███▌      | 7/20 [00:10<00:19,  1.51s/it]\u001b[A\n",
      "DDIM Sampler:  40%|████      | 8/20 [00:12<00:18,  1.51s/it]\u001b[A\n",
      "DDIM Sampler:  45%|████▌     | 9/20 [00:13<00:16,  1.51s/it]\u001b[A\n",
      "DDIM Sampler:  50%|█████     | 10/20 [00:15<00:15,  1.51s/it]\u001b[A\n",
      "DDIM Sampler:  55%|█████▌    | 11/20 [00:16<00:13,  1.51s/it]\u001b[A\n",
      "DDIM Sampler:  60%|██████    | 12/20 [00:18<00:12,  1.51s/it]\u001b[A\n",
      "DDIM Sampler:  65%|██████▌   | 13/20 [00:19<00:10,  1.51s/it]\u001b[A\n",
      "DDIM Sampler:  70%|███████   | 14/20 [00:21<00:09,  1.51s/it]\u001b[A\n",
      "DDIM Sampler:  75%|███████▌  | 15/20 [00:22<00:07,  1.51s/it]\u001b[A\n",
      "DDIM Sampler:  80%|████████  | 16/20 [00:24<00:06,  1.51s/it]\u001b[A\n",
      "DDIM Sampler:  85%|████████▌ | 17/20 [00:25<00:04,  1.51s/it]\u001b[A\n",
      "DDIM Sampler:  90%|█████████ | 18/20 [00:27<00:03,  1.51s/it]\u001b[A\n",
      "DDIM Sampler:  95%|█████████▌| 19/20 [00:28<00:01,  1.51s/it]\u001b[A\n",
      "DDIM Sampler: 100%|██████████| 20/20 [00:30<00:00,  1.51s/it]\u001b[A\n",
      "Global seed set to 9181\n"
     ]
    },
    {
     "name": "stdout",
     "output_type": "stream",
     "text": [
      "Data shape for DDIM sampling is (2, 4, 64, 96), eta 0.0\n",
      "Running DDIM Sampling with 20 timesteps\n"
     ]
    },
    {
     "name": "stderr",
     "output_type": "stream",
     "text": [
      "\n",
      "DDIM Sampler:   0%|          | 0/20 [00:00<?, ?it/s]\u001b[A\n",
      "DDIM Sampler:   5%|▌         | 1/20 [00:01<00:22,  1.17s/it]\u001b[A\n",
      "DDIM Sampler:  10%|█         | 2/20 [00:02<00:20,  1.16s/it]\u001b[A\n",
      "DDIM Sampler:  15%|█▌        | 3/20 [00:03<00:19,  1.16s/it]\u001b[A\n",
      "DDIM Sampler:  20%|██        | 4/20 [00:04<00:18,  1.16s/it]\u001b[A\n",
      "DDIM Sampler:  25%|██▌       | 5/20 [00:05<00:17,  1.16s/it]\u001b[A\n",
      "DDIM Sampler:  30%|███       | 6/20 [00:06<00:16,  1.16s/it]\u001b[A\n",
      "DDIM Sampler:  35%|███▌      | 7/20 [00:08<00:15,  1.16s/it]\u001b[A\n",
      "DDIM Sampler:  40%|████      | 8/20 [00:09<00:13,  1.16s/it]\u001b[A\n",
      "DDIM Sampler:  45%|████▌     | 9/20 [00:10<00:12,  1.16s/it]\u001b[A\n",
      "DDIM Sampler:  50%|█████     | 10/20 [00:11<00:11,  1.16s/it]\u001b[A\n",
      "DDIM Sampler:  55%|█████▌    | 11/20 [00:12<00:10,  1.16s/it]\u001b[A\n",
      "DDIM Sampler:  60%|██████    | 12/20 [00:13<00:09,  1.16s/it]\u001b[A\n",
      "DDIM Sampler:  65%|██████▌   | 13/20 [00:15<00:08,  1.16s/it]\u001b[A\n",
      "DDIM Sampler:  70%|███████   | 14/20 [00:16<00:06,  1.16s/it]\u001b[A\n",
      "DDIM Sampler:  75%|███████▌  | 15/20 [00:17<00:05,  1.16s/it]\u001b[A\n",
      "DDIM Sampler:  80%|████████  | 16/20 [00:18<00:04,  1.16s/it]\u001b[A\n",
      "DDIM Sampler:  85%|████████▌ | 17/20 [00:19<00:03,  1.16s/it]\u001b[A\n",
      "DDIM Sampler:  90%|█████████ | 18/20 [00:20<00:02,  1.16s/it]\u001b[A\n",
      "DDIM Sampler:  95%|█████████▌| 19/20 [00:22<00:01,  1.16s/it]\u001b[A\n",
      "DDIM Sampler: 100%|██████████| 20/20 [00:23<00:00,  1.16s/it]\u001b[A\n",
      "Global seed set to 64188\n"
     ]
    },
    {
     "name": "stdout",
     "output_type": "stream",
     "text": [
      "Data shape for DDIM sampling is (2, 4, 64, 64), eta 0.0\n",
      "Running DDIM Sampling with 20 timesteps\n"
     ]
    },
    {
     "name": "stderr",
     "output_type": "stream",
     "text": [
      "\n",
      "DDIM Sampler:   0%|          | 0/20 [00:00<?, ?it/s]\u001b[A\n",
      "DDIM Sampler:   5%|▌         | 1/20 [00:00<00:11,  1.63it/s]\u001b[A\n",
      "DDIM Sampler:  10%|█         | 2/20 [00:01<00:11,  1.59it/s]\u001b[A\n",
      "DDIM Sampler:  15%|█▌        | 3/20 [00:01<00:10,  1.59it/s]\u001b[A\n",
      "DDIM Sampler:  20%|██        | 4/20 [00:02<00:10,  1.60it/s]\u001b[A\n",
      "DDIM Sampler:  25%|██▌       | 5/20 [00:03<00:09,  1.59it/s]\u001b[A\n",
      "DDIM Sampler:  30%|███       | 6/20 [00:03<00:08,  1.60it/s]\u001b[A\n",
      "DDIM Sampler:  35%|███▌      | 7/20 [00:04<00:08,  1.59it/s]\u001b[A\n",
      "DDIM Sampler:  40%|████      | 8/20 [00:05<00:07,  1.59it/s]\u001b[A\n",
      "DDIM Sampler:  45%|████▌     | 9/20 [00:05<00:06,  1.60it/s]\u001b[A\n",
      "DDIM Sampler:  50%|█████     | 10/20 [00:06<00:06,  1.59it/s]\u001b[A\n",
      "DDIM Sampler:  55%|█████▌    | 11/20 [00:06<00:05,  1.60it/s]\u001b[A\n",
      "DDIM Sampler:  60%|██████    | 12/20 [00:07<00:05,  1.60it/s]\u001b[A\n",
      "DDIM Sampler:  65%|██████▌   | 13/20 [00:08<00:04,  1.60it/s]\u001b[A\n",
      "DDIM Sampler:  70%|███████   | 14/20 [00:08<00:03,  1.60it/s]\u001b[A\n",
      "DDIM Sampler:  75%|███████▌  | 15/20 [00:09<00:03,  1.60it/s]\u001b[A\n",
      "DDIM Sampler:  80%|████████  | 16/20 [00:10<00:02,  1.59it/s]\u001b[A\n",
      "DDIM Sampler:  85%|████████▌ | 17/20 [00:10<00:01,  1.60it/s]\u001b[A\n",
      "DDIM Sampler:  90%|█████████ | 18/20 [00:11<00:01,  1.59it/s]\u001b[A\n",
      "DDIM Sampler:  95%|█████████▌| 19/20 [00:11<00:00,  1.60it/s]\u001b[A\n",
      "DDIM Sampler: 100%|██████████| 20/20 [00:12<00:00,  1.60it/s]\u001b[A\n",
      "Global seed set to 10533\n"
     ]
    },
    {
     "name": "stdout",
     "output_type": "stream",
     "text": [
      "Data shape for DDIM sampling is (2, 4, 64, 64), eta 0.0\n",
      "Running DDIM Sampling with 20 timesteps\n"
     ]
    },
    {
     "name": "stderr",
     "output_type": "stream",
     "text": [
      "\n",
      "DDIM Sampler:   0%|          | 0/20 [00:00<?, ?it/s]\u001b[A\n",
      "DDIM Sampler:   5%|▌         | 1/20 [00:00<00:11,  1.63it/s]\u001b[A\n",
      "DDIM Sampler:  10%|█         | 2/20 [00:01<00:11,  1.59it/s]\u001b[A\n",
      "DDIM Sampler:  15%|█▌        | 3/20 [00:01<00:10,  1.59it/s]\u001b[A\n",
      "DDIM Sampler:  20%|██        | 4/20 [00:02<00:10,  1.59it/s]\u001b[A\n",
      "DDIM Sampler:  25%|██▌       | 5/20 [00:03<00:09,  1.59it/s]\u001b[A\n",
      "DDIM Sampler:  30%|███       | 6/20 [00:03<00:08,  1.60it/s]\u001b[A\n",
      "DDIM Sampler:  35%|███▌      | 7/20 [00:04<00:08,  1.59it/s]\u001b[A\n",
      "DDIM Sampler:  40%|████      | 8/20 [00:05<00:07,  1.59it/s]\u001b[A\n",
      "DDIM Sampler:  45%|████▌     | 9/20 [00:05<00:06,  1.60it/s]\u001b[A\n",
      "DDIM Sampler:  50%|█████     | 10/20 [00:06<00:06,  1.60it/s]\u001b[A\n",
      "DDIM Sampler:  55%|█████▌    | 11/20 [00:06<00:05,  1.59it/s]\u001b[A\n",
      "DDIM Sampler:  60%|██████    | 12/20 [00:07<00:05,  1.60it/s]\u001b[A\n",
      "DDIM Sampler:  65%|██████▌   | 13/20 [00:08<00:04,  1.59it/s]\u001b[A\n",
      "DDIM Sampler:  70%|███████   | 14/20 [00:08<00:03,  1.60it/s]\u001b[A\n",
      "DDIM Sampler:  75%|███████▌  | 15/20 [00:09<00:03,  1.59it/s]\u001b[A\n",
      "DDIM Sampler:  80%|████████  | 16/20 [00:10<00:02,  1.60it/s]\u001b[A\n",
      "DDIM Sampler:  85%|████████▌ | 17/20 [00:10<00:01,  1.60it/s]\u001b[A\n",
      "DDIM Sampler:  90%|█████████ | 18/20 [00:11<00:01,  1.60it/s]\u001b[A\n",
      "DDIM Sampler:  95%|█████████▌| 19/20 [00:11<00:00,  1.60it/s]\u001b[A\n",
      "DDIM Sampler: 100%|██████████| 20/20 [00:12<00:00,  1.60it/s]\u001b[A\n",
      "Global seed set to 31808\n"
     ]
    },
    {
     "name": "stdout",
     "output_type": "stream",
     "text": [
      "Data shape for DDIM sampling is (2, 4, 64, 64), eta 0.0\n",
      "Running DDIM Sampling with 20 timesteps\n"
     ]
    },
    {
     "name": "stderr",
     "output_type": "stream",
     "text": [
      "\n",
      "DDIM Sampler:   0%|          | 0/20 [00:00<?, ?it/s]\u001b[A\n",
      "DDIM Sampler:   5%|▌         | 1/20 [00:00<00:11,  1.63it/s]\u001b[A\n",
      "DDIM Sampler:  10%|█         | 2/20 [00:01<00:11,  1.59it/s]\u001b[A\n",
      "DDIM Sampler:  15%|█▌        | 3/20 [00:01<00:10,  1.59it/s]\u001b[A\n",
      "DDIM Sampler:  20%|██        | 4/20 [00:02<00:10,  1.60it/s]\u001b[A\n",
      "DDIM Sampler:  25%|██▌       | 5/20 [00:03<00:09,  1.59it/s]\u001b[A\n",
      "DDIM Sampler:  30%|███       | 6/20 [00:03<00:08,  1.60it/s]\u001b[A\n",
      "DDIM Sampler:  35%|███▌      | 7/20 [00:04<00:08,  1.59it/s]\u001b[A\n",
      "DDIM Sampler:  40%|████      | 8/20 [00:05<00:07,  1.59it/s]\u001b[A\n",
      "DDIM Sampler:  45%|████▌     | 9/20 [00:05<00:06,  1.60it/s]\u001b[A\n",
      "DDIM Sampler:  50%|█████     | 10/20 [00:06<00:06,  1.59it/s]\u001b[A\n",
      "DDIM Sampler:  55%|█████▌    | 11/20 [00:06<00:05,  1.59it/s]\u001b[A\n",
      "DDIM Sampler:  60%|██████    | 12/20 [00:07<00:05,  1.60it/s]\u001b[A\n",
      "DDIM Sampler:  65%|██████▌   | 13/20 [00:08<00:04,  1.59it/s]\u001b[A\n",
      "DDIM Sampler:  70%|███████   | 14/20 [00:08<00:03,  1.59it/s]\u001b[A\n",
      "DDIM Sampler:  75%|███████▌  | 15/20 [00:09<00:03,  1.59it/s]\u001b[A\n",
      "DDIM Sampler:  80%|████████  | 16/20 [00:10<00:02,  1.59it/s]\u001b[A\n",
      "DDIM Sampler:  85%|████████▌ | 17/20 [00:10<00:01,  1.60it/s]\u001b[A\n",
      "DDIM Sampler:  90%|█████████ | 18/20 [00:11<00:01,  1.59it/s]\u001b[A\n",
      "DDIM Sampler:  95%|█████████▌| 19/20 [00:11<00:00,  1.60it/s]\u001b[A\n",
      "DDIM Sampler: 100%|██████████| 20/20 [00:12<00:00,  1.60it/s]\u001b[A\n",
      "Global seed set to 33281\n"
     ]
    },
    {
     "name": "stdout",
     "output_type": "stream",
     "text": [
      "Data shape for DDIM sampling is (2, 4, 64, 64), eta 0.0\n",
      "Running DDIM Sampling with 20 timesteps\n"
     ]
    },
    {
     "name": "stderr",
     "output_type": "stream",
     "text": [
      "\n",
      "DDIM Sampler:   0%|          | 0/20 [00:00<?, ?it/s]\u001b[A\n",
      "DDIM Sampler:   5%|▌         | 1/20 [00:00<00:11,  1.63it/s]\u001b[A\n",
      "DDIM Sampler:  10%|█         | 2/20 [00:01<00:11,  1.59it/s]\u001b[A\n",
      "DDIM Sampler:  15%|█▌        | 3/20 [00:01<00:10,  1.59it/s]\u001b[A\n",
      "DDIM Sampler:  20%|██        | 4/20 [00:02<00:10,  1.60it/s]\u001b[A\n",
      "DDIM Sampler:  25%|██▌       | 5/20 [00:03<00:09,  1.59it/s]\u001b[A\n",
      "DDIM Sampler:  30%|███       | 6/20 [00:03<00:08,  1.60it/s]\u001b[A\n",
      "DDIM Sampler:  35%|███▌      | 7/20 [00:04<00:08,  1.60it/s]\u001b[A\n",
      "DDIM Sampler:  40%|████      | 8/20 [00:05<00:07,  1.60it/s]\u001b[A\n",
      "DDIM Sampler:  45%|████▌     | 9/20 [00:05<00:06,  1.60it/s]\u001b[A\n",
      "DDIM Sampler:  50%|█████     | 10/20 [00:06<00:06,  1.60it/s]\u001b[A\n",
      "DDIM Sampler:  55%|█████▌    | 11/20 [00:06<00:05,  1.60it/s]\u001b[A\n",
      "DDIM Sampler:  60%|██████    | 12/20 [00:07<00:05,  1.60it/s]\u001b[A\n",
      "DDIM Sampler:  65%|██████▌   | 13/20 [00:08<00:04,  1.60it/s]\u001b[A\n",
      "DDIM Sampler:  70%|███████   | 14/20 [00:08<00:03,  1.60it/s]\u001b[A\n",
      "DDIM Sampler:  75%|███████▌  | 15/20 [00:09<00:03,  1.60it/s]\u001b[A\n",
      "DDIM Sampler:  80%|████████  | 16/20 [00:10<00:02,  1.59it/s]\u001b[A\n",
      "DDIM Sampler:  85%|████████▌ | 17/20 [00:10<00:01,  1.60it/s]\u001b[A\n",
      "DDIM Sampler:  90%|█████████ | 18/20 [00:11<00:01,  1.60it/s]\u001b[A\n",
      "DDIM Sampler:  95%|█████████▌| 19/20 [00:11<00:00,  1.60it/s]\u001b[A\n",
      "DDIM Sampler: 100%|██████████| 20/20 [00:12<00:00,  1.60it/s]\u001b[A\n",
      "Global seed set to 9181\n"
     ]
    },
    {
     "name": "stdout",
     "output_type": "stream",
     "text": [
      "Data shape for DDIM sampling is (2, 4, 64, 64), eta 0.0\n",
      "Running DDIM Sampling with 20 timesteps\n"
     ]
    },
    {
     "name": "stderr",
     "output_type": "stream",
     "text": [
      "\n",
      "DDIM Sampler:   0%|          | 0/20 [00:00<?, ?it/s]\u001b[A\n",
      "DDIM Sampler:   5%|▌         | 1/20 [00:00<00:11,  1.63it/s]\u001b[A\n",
      "DDIM Sampler:  10%|█         | 2/20 [00:01<00:11,  1.59it/s]\u001b[A\n",
      "DDIM Sampler:  15%|█▌        | 3/20 [00:01<00:10,  1.59it/s]\u001b[A\n",
      "DDIM Sampler:  20%|██        | 4/20 [00:02<00:10,  1.59it/s]\u001b[A\n",
      "DDIM Sampler:  25%|██▌       | 5/20 [00:03<00:09,  1.59it/s]\u001b[A\n",
      "DDIM Sampler:  30%|███       | 6/20 [00:03<00:08,  1.60it/s]\u001b[A\n",
      "DDIM Sampler:  35%|███▌      | 7/20 [00:04<00:08,  1.59it/s]\u001b[A\n",
      "DDIM Sampler:  40%|████      | 8/20 [00:05<00:07,  1.60it/s]\u001b[A\n",
      "DDIM Sampler:  45%|████▌     | 9/20 [00:05<00:06,  1.60it/s]\u001b[A\n",
      "DDIM Sampler:  50%|█████     | 10/20 [00:06<00:06,  1.59it/s]\u001b[A\n",
      "DDIM Sampler:  55%|█████▌    | 11/20 [00:06<00:05,  1.60it/s]\u001b[A\n",
      "DDIM Sampler:  60%|██████    | 12/20 [00:07<00:05,  1.60it/s]\u001b[A\n",
      "DDIM Sampler:  65%|██████▌   | 13/20 [00:08<00:04,  1.59it/s]\u001b[A\n",
      "DDIM Sampler:  70%|███████   | 14/20 [00:08<00:03,  1.60it/s]\u001b[A\n",
      "DDIM Sampler:  75%|███████▌  | 15/20 [00:09<00:03,  1.60it/s]\u001b[A\n",
      "DDIM Sampler:  80%|████████  | 16/20 [00:10<00:02,  1.60it/s]\u001b[A\n",
      "DDIM Sampler:  85%|████████▌ | 17/20 [00:10<00:01,  1.60it/s]\u001b[A\n",
      "DDIM Sampler:  90%|█████████ | 18/20 [00:11<00:01,  1.60it/s]\u001b[A\n",
      "DDIM Sampler:  95%|█████████▌| 19/20 [00:11<00:00,  1.60it/s]\u001b[A\n",
      "DDIM Sampler: 100%|██████████| 20/20 [00:12<00:00,  1.60it/s]\u001b[A\n",
      "Global seed set to 64188\n"
     ]
    },
    {
     "name": "stdout",
     "output_type": "stream",
     "text": [
      "Data shape for DDIM sampling is (2, 4, 64, 64), eta 0.0\n",
      "Running DDIM Sampling with 20 timesteps\n"
     ]
    },
    {
     "name": "stderr",
     "output_type": "stream",
     "text": [
      "\n",
      "DDIM Sampler:   0%|          | 0/20 [00:00<?, ?it/s]\u001b[A\n",
      "DDIM Sampler:   5%|▌         | 1/20 [00:00<00:11,  1.63it/s]\u001b[A\n",
      "DDIM Sampler:  10%|█         | 2/20 [00:01<00:11,  1.59it/s]\u001b[A\n",
      "DDIM Sampler:  15%|█▌        | 3/20 [00:01<00:10,  1.59it/s]\u001b[A\n",
      "DDIM Sampler:  20%|██        | 4/20 [00:02<00:10,  1.60it/s]\u001b[A\n",
      "DDIM Sampler:  25%|██▌       | 5/20 [00:03<00:09,  1.59it/s]\u001b[A\n",
      "DDIM Sampler:  30%|███       | 6/20 [00:03<00:08,  1.60it/s]\u001b[A\n",
      "DDIM Sampler:  35%|███▌      | 7/20 [00:04<00:08,  1.60it/s]\u001b[A\n",
      "DDIM Sampler:  40%|████      | 8/20 [00:05<00:07,  1.60it/s]\u001b[A\n",
      "DDIM Sampler:  45%|████▌     | 9/20 [00:05<00:06,  1.60it/s]\u001b[A\n",
      "DDIM Sampler:  50%|█████     | 10/20 [00:06<00:06,  1.59it/s]\u001b[A\n",
      "DDIM Sampler:  55%|█████▌    | 11/20 [00:06<00:05,  1.59it/s]\u001b[A\n",
      "DDIM Sampler:  60%|██████    | 12/20 [00:07<00:05,  1.60it/s]\u001b[A\n",
      "DDIM Sampler:  65%|██████▌   | 13/20 [00:08<00:04,  1.60it/s]\u001b[A\n",
      "DDIM Sampler:  70%|███████   | 14/20 [00:08<00:03,  1.59it/s]\u001b[A\n",
      "DDIM Sampler:  75%|███████▌  | 15/20 [00:09<00:03,  1.60it/s]\u001b[A\n",
      "DDIM Sampler:  80%|████████  | 16/20 [00:10<00:02,  1.60it/s]\u001b[A\n",
      "DDIM Sampler:  85%|████████▌ | 17/20 [00:10<00:01,  1.60it/s]\u001b[A\n",
      "DDIM Sampler:  90%|█████████ | 18/20 [00:11<00:01,  1.60it/s]\u001b[A\n",
      "DDIM Sampler:  95%|█████████▌| 19/20 [00:11<00:00,  1.60it/s]\u001b[A\n",
      "DDIM Sampler: 100%|██████████| 20/20 [00:12<00:00,  1.60it/s]\u001b[A\n",
      "Global seed set to 10533\n"
     ]
    },
    {
     "name": "stdout",
     "output_type": "stream",
     "text": [
      "Data shape for DDIM sampling is (2, 4, 64, 64), eta 0.0\n",
      "Running DDIM Sampling with 20 timesteps\n"
     ]
    },
    {
     "name": "stderr",
     "output_type": "stream",
     "text": [
      "\n",
      "DDIM Sampler:   0%|          | 0/20 [00:00<?, ?it/s]\u001b[A\n",
      "DDIM Sampler:   5%|▌         | 1/20 [00:00<00:11,  1.63it/s]\u001b[A\n",
      "DDIM Sampler:  10%|█         | 2/20 [00:01<00:11,  1.59it/s]\u001b[A\n",
      "DDIM Sampler:  15%|█▌        | 3/20 [00:01<00:10,  1.59it/s]\u001b[A\n",
      "DDIM Sampler:  20%|██        | 4/20 [00:02<00:10,  1.60it/s]\u001b[A\n",
      "DDIM Sampler:  25%|██▌       | 5/20 [00:03<00:09,  1.59it/s]\u001b[A\n",
      "DDIM Sampler:  30%|███       | 6/20 [00:03<00:08,  1.60it/s]\u001b[A\n",
      "DDIM Sampler:  35%|███▌      | 7/20 [00:04<00:08,  1.60it/s]\u001b[A\n",
      "DDIM Sampler:  40%|████      | 8/20 [00:05<00:07,  1.59it/s]\u001b[A\n",
      "DDIM Sampler:  45%|████▌     | 9/20 [00:05<00:06,  1.60it/s]\u001b[A\n",
      "DDIM Sampler:  50%|█████     | 10/20 [00:06<00:06,  1.60it/s]\u001b[A\n",
      "DDIM Sampler:  55%|█████▌    | 11/20 [00:06<00:05,  1.59it/s]\u001b[A\n",
      "DDIM Sampler:  60%|██████    | 12/20 [00:07<00:05,  1.60it/s]\u001b[A\n",
      "DDIM Sampler:  65%|██████▌   | 13/20 [00:08<00:04,  1.60it/s]\u001b[A\n",
      "DDIM Sampler:  70%|███████   | 14/20 [00:08<00:03,  1.60it/s]\u001b[A\n",
      "DDIM Sampler:  75%|███████▌  | 15/20 [00:09<00:03,  1.60it/s]\u001b[A\n",
      "DDIM Sampler:  80%|████████  | 16/20 [00:10<00:02,  1.60it/s]\u001b[A\n",
      "DDIM Sampler:  85%|████████▌ | 17/20 [00:10<00:01,  1.60it/s]\u001b[A\n",
      "DDIM Sampler:  90%|█████████ | 18/20 [00:11<00:01,  1.60it/s]\u001b[A\n",
      "DDIM Sampler:  95%|█████████▌| 19/20 [00:11<00:00,  1.60it/s]\u001b[A\n",
      "DDIM Sampler: 100%|██████████| 20/20 [00:12<00:00,  1.60it/s]\u001b[A\n",
      "Global seed set to 31808\n"
     ]
    },
    {
     "name": "stdout",
     "output_type": "stream",
     "text": [
      "Data shape for DDIM sampling is (2, 4, 72, 64), eta 0.0\n",
      "Running DDIM Sampling with 20 timesteps\n"
     ]
    },
    {
     "name": "stderr",
     "output_type": "stream",
     "text": [
      "\n",
      "DDIM Sampler:   0%|          | 0/20 [00:00<?, ?it/s]\u001b[A\n",
      "DDIM Sampler:   5%|▌         | 1/20 [00:00<00:13,  1.36it/s]\u001b[A\n",
      "DDIM Sampler:  10%|█         | 2/20 [00:01<00:13,  1.34it/s]\u001b[A\n",
      "DDIM Sampler:  15%|█▌        | 3/20 [00:02<00:12,  1.33it/s]\u001b[A\n",
      "DDIM Sampler:  20%|██        | 4/20 [00:02<00:12,  1.33it/s]\u001b[A\n",
      "DDIM Sampler:  25%|██▌       | 5/20 [00:03<00:11,  1.34it/s]\u001b[A\n",
      "DDIM Sampler:  30%|███       | 6/20 [00:04<00:10,  1.34it/s]\u001b[A\n",
      "DDIM Sampler:  35%|███▌      | 7/20 [00:05<00:09,  1.34it/s]\u001b[A\n",
      "DDIM Sampler:  40%|████      | 8/20 [00:05<00:08,  1.34it/s]\u001b[A\n",
      "DDIM Sampler:  45%|████▌     | 9/20 [00:06<00:08,  1.34it/s]\u001b[A\n",
      "DDIM Sampler:  50%|█████     | 10/20 [00:07<00:07,  1.34it/s]\u001b[A\n",
      "DDIM Sampler:  55%|█████▌    | 11/20 [00:08<00:06,  1.34it/s]\u001b[A\n",
      "DDIM Sampler:  60%|██████    | 12/20 [00:08<00:05,  1.34it/s]\u001b[A\n",
      "DDIM Sampler:  65%|██████▌   | 13/20 [00:09<00:05,  1.34it/s]\u001b[A\n",
      "DDIM Sampler:  70%|███████   | 14/20 [00:10<00:04,  1.34it/s]\u001b[A\n",
      "DDIM Sampler:  75%|███████▌  | 15/20 [00:11<00:03,  1.34it/s]\u001b[A\n",
      "DDIM Sampler:  80%|████████  | 16/20 [00:11<00:02,  1.34it/s]\u001b[A\n",
      "DDIM Sampler:  85%|████████▌ | 17/20 [00:12<00:02,  1.34it/s]\u001b[A\n",
      "DDIM Sampler:  90%|█████████ | 18/20 [00:13<00:01,  1.34it/s]\u001b[A\n",
      "DDIM Sampler:  95%|█████████▌| 19/20 [00:14<00:00,  1.34it/s]\u001b[A\n",
      "DDIM Sampler: 100%|██████████| 20/20 [00:14<00:00,  1.34it/s]\u001b[A\n",
      "Global seed set to 33281\n"
     ]
    },
    {
     "name": "stdout",
     "output_type": "stream",
     "text": [
      "Data shape for DDIM sampling is (2, 4, 64, 64), eta 0.0\n",
      "Running DDIM Sampling with 20 timesteps\n"
     ]
    },
    {
     "name": "stderr",
     "output_type": "stream",
     "text": [
      "\n",
      "DDIM Sampler:   0%|          | 0/20 [00:00<?, ?it/s]\u001b[A\n",
      "DDIM Sampler:   5%|▌         | 1/20 [00:00<00:11,  1.63it/s]\u001b[A\n",
      "DDIM Sampler:  10%|█         | 2/20 [00:01<00:11,  1.59it/s]\u001b[A\n",
      "DDIM Sampler:  15%|█▌        | 3/20 [00:01<00:10,  1.60it/s]\u001b[A\n",
      "DDIM Sampler:  20%|██        | 4/20 [00:02<00:10,  1.60it/s]\u001b[A\n",
      "DDIM Sampler:  25%|██▌       | 5/20 [00:03<00:09,  1.59it/s]\u001b[A\n",
      "DDIM Sampler:  30%|███       | 6/20 [00:03<00:08,  1.59it/s]\u001b[A\n",
      "DDIM Sampler:  35%|███▌      | 7/20 [00:04<00:08,  1.59it/s]\u001b[A\n",
      "DDIM Sampler:  40%|████      | 8/20 [00:05<00:07,  1.59it/s]\u001b[A\n",
      "DDIM Sampler:  45%|████▌     | 9/20 [00:05<00:06,  1.60it/s]\u001b[A\n",
      "DDIM Sampler:  50%|█████     | 10/20 [00:06<00:06,  1.59it/s]\u001b[A\n",
      "DDIM Sampler:  55%|█████▌    | 11/20 [00:06<00:05,  1.59it/s]\u001b[A\n",
      "DDIM Sampler:  60%|██████    | 12/20 [00:07<00:05,  1.60it/s]\u001b[A\n",
      "DDIM Sampler:  65%|██████▌   | 13/20 [00:08<00:04,  1.60it/s]\u001b[A\n",
      "DDIM Sampler:  70%|███████   | 14/20 [00:08<00:03,  1.60it/s]\u001b[A\n",
      "DDIM Sampler:  75%|███████▌  | 15/20 [00:09<00:03,  1.60it/s]\u001b[A\n",
      "DDIM Sampler:  80%|████████  | 16/20 [00:10<00:02,  1.60it/s]\u001b[A\n",
      "DDIM Sampler:  85%|████████▌ | 17/20 [00:10<00:01,  1.60it/s]\u001b[A\n",
      "DDIM Sampler:  90%|█████████ | 18/20 [00:11<00:01,  1.60it/s]\u001b[A\n",
      "DDIM Sampler:  95%|█████████▌| 19/20 [00:11<00:00,  1.60it/s]\u001b[A\n",
      "DDIM Sampler: 100%|██████████| 20/20 [00:12<00:00,  1.60it/s]\u001b[A\n",
      "Global seed set to 9181\n"
     ]
    },
    {
     "name": "stdout",
     "output_type": "stream",
     "text": [
      "Data shape for DDIM sampling is (2, 4, 64, 96), eta 0.0\n",
      "Running DDIM Sampling with 20 timesteps\n"
     ]
    },
    {
     "name": "stderr",
     "output_type": "stream",
     "text": [
      "\n",
      "DDIM Sampler:   0%|          | 0/20 [00:00<?, ?it/s]\u001b[A\n",
      "DDIM Sampler:   5%|▌         | 1/20 [00:01<00:22,  1.17s/it]\u001b[A\n",
      "DDIM Sampler:  10%|█         | 2/20 [00:02<00:20,  1.17s/it]\u001b[A\n",
      "DDIM Sampler:  15%|█▌        | 3/20 [00:03<00:19,  1.16s/it]\u001b[A\n",
      "DDIM Sampler:  20%|██        | 4/20 [00:04<00:18,  1.16s/it]\u001b[A\n",
      "DDIM Sampler:  25%|██▌       | 5/20 [00:05<00:17,  1.16s/it]\u001b[A\n",
      "DDIM Sampler:  30%|███       | 6/20 [00:06<00:16,  1.16s/it]\u001b[A\n",
      "DDIM Sampler:  35%|███▌      | 7/20 [00:08<00:15,  1.16s/it]\u001b[A\n",
      "DDIM Sampler:  40%|████      | 8/20 [00:09<00:13,  1.16s/it]\u001b[A\n",
      "DDIM Sampler:  45%|████▌     | 9/20 [00:10<00:12,  1.16s/it]\u001b[A\n",
      "DDIM Sampler:  50%|█████     | 10/20 [00:11<00:11,  1.16s/it]\u001b[A\n",
      "DDIM Sampler:  55%|█████▌    | 11/20 [00:12<00:10,  1.16s/it]\u001b[A\n",
      "DDIM Sampler:  60%|██████    | 12/20 [00:13<00:09,  1.16s/it]\u001b[A\n",
      "DDIM Sampler:  65%|██████▌   | 13/20 [00:15<00:08,  1.16s/it]\u001b[A\n",
      "DDIM Sampler:  70%|███████   | 14/20 [00:16<00:06,  1.16s/it]\u001b[A\n",
      "DDIM Sampler:  75%|███████▌  | 15/20 [00:17<00:05,  1.16s/it]\u001b[A\n",
      "DDIM Sampler:  80%|████████  | 16/20 [00:18<00:04,  1.16s/it]\u001b[A\n",
      "DDIM Sampler:  85%|████████▌ | 17/20 [00:19<00:03,  1.16s/it]\u001b[A\n",
      "DDIM Sampler:  90%|█████████ | 18/20 [00:20<00:02,  1.16s/it]\u001b[A\n",
      "DDIM Sampler:  95%|█████████▌| 19/20 [00:22<00:01,  1.16s/it]\u001b[A\n",
      "DDIM Sampler: 100%|██████████| 20/20 [00:23<00:00,  1.16s/it]\u001b[A\n",
      "Global seed set to 64188\n"
     ]
    },
    {
     "name": "stdout",
     "output_type": "stream",
     "text": [
      "Data shape for DDIM sampling is (2, 4, 64, 64), eta 0.0\n",
      "Running DDIM Sampling with 20 timesteps\n"
     ]
    },
    {
     "name": "stderr",
     "output_type": "stream",
     "text": [
      "\n",
      "DDIM Sampler:   0%|          | 0/20 [00:00<?, ?it/s]\u001b[A\n",
      "DDIM Sampler:   5%|▌         | 1/20 [00:00<00:11,  1.63it/s]\u001b[A\n",
      "DDIM Sampler:  10%|█         | 2/20 [00:01<00:11,  1.59it/s]\u001b[A\n",
      "DDIM Sampler:  15%|█▌        | 3/20 [00:01<00:10,  1.59it/s]\u001b[A\n",
      "DDIM Sampler:  20%|██        | 4/20 [00:02<00:10,  1.60it/s]\u001b[A\n",
      "DDIM Sampler:  25%|██▌       | 5/20 [00:03<00:09,  1.59it/s]\u001b[A\n",
      "DDIM Sampler:  30%|███       | 6/20 [00:03<00:08,  1.60it/s]\u001b[A\n",
      "DDIM Sampler:  35%|███▌      | 7/20 [00:04<00:08,  1.60it/s]\u001b[A\n",
      "DDIM Sampler:  40%|████      | 8/20 [00:05<00:07,  1.59it/s]\u001b[A\n",
      "DDIM Sampler:  45%|████▌     | 9/20 [00:05<00:06,  1.60it/s]\u001b[A\n",
      "DDIM Sampler:  50%|█████     | 10/20 [00:06<00:06,  1.59it/s]\u001b[A\n",
      "DDIM Sampler:  55%|█████▌    | 11/20 [00:06<00:05,  1.59it/s]\u001b[A\n",
      "DDIM Sampler:  60%|██████    | 12/20 [00:07<00:05,  1.60it/s]\u001b[A\n",
      "DDIM Sampler:  65%|██████▌   | 13/20 [00:08<00:04,  1.59it/s]\u001b[A\n",
      "DDIM Sampler:  70%|███████   | 14/20 [00:08<00:03,  1.60it/s]\u001b[A\n",
      "DDIM Sampler:  75%|███████▌  | 15/20 [00:09<00:03,  1.60it/s]\u001b[A\n",
      "DDIM Sampler:  80%|████████  | 16/20 [00:10<00:02,  1.60it/s]\u001b[A\n",
      "DDIM Sampler:  85%|████████▌ | 17/20 [00:10<00:01,  1.60it/s]\u001b[A\n",
      "DDIM Sampler:  90%|█████████ | 18/20 [00:11<00:01,  1.60it/s]\u001b[A\n",
      "DDIM Sampler:  95%|█████████▌| 19/20 [00:11<00:00,  1.59it/s]\u001b[A\n",
      "DDIM Sampler: 100%|██████████| 20/20 [00:12<00:00,  1.60it/s]\u001b[A\n",
      "Global seed set to 10533\n"
     ]
    },
    {
     "name": "stdout",
     "output_type": "stream",
     "text": [
      "Data shape for DDIM sampling is (2, 4, 64, 64), eta 0.0\n",
      "Running DDIM Sampling with 20 timesteps\n"
     ]
    },
    {
     "name": "stderr",
     "output_type": "stream",
     "text": [
      "\n",
      "DDIM Sampler:   0%|          | 0/20 [00:00<?, ?it/s]\u001b[A\n",
      "DDIM Sampler:   5%|▌         | 1/20 [00:00<00:11,  1.63it/s]\u001b[A\n",
      "DDIM Sampler:  10%|█         | 2/20 [00:01<00:11,  1.59it/s]\u001b[A\n",
      "DDIM Sampler:  15%|█▌        | 3/20 [00:01<00:10,  1.59it/s]\u001b[A\n",
      "DDIM Sampler:  20%|██        | 4/20 [00:02<00:10,  1.60it/s]\u001b[A\n",
      "DDIM Sampler:  25%|██▌       | 5/20 [00:03<00:09,  1.60it/s]\u001b[A\n",
      "DDIM Sampler:  30%|███       | 6/20 [00:03<00:08,  1.60it/s]\u001b[A\n",
      "DDIM Sampler:  35%|███▌      | 7/20 [00:04<00:08,  1.59it/s]\u001b[A\n",
      "DDIM Sampler:  40%|████      | 8/20 [00:05<00:07,  1.60it/s]\u001b[A\n",
      "DDIM Sampler:  45%|████▌     | 9/20 [00:05<00:06,  1.60it/s]\u001b[A\n",
      "DDIM Sampler:  50%|█████     | 10/20 [00:06<00:06,  1.60it/s]\u001b[A\n",
      "DDIM Sampler:  55%|█████▌    | 11/20 [00:06<00:05,  1.60it/s]\u001b[A\n",
      "DDIM Sampler:  60%|██████    | 12/20 [00:07<00:04,  1.60it/s]\u001b[A\n",
      "DDIM Sampler:  65%|██████▌   | 13/20 [00:08<00:04,  1.60it/s]\u001b[A\n",
      "DDIM Sampler:  70%|███████   | 14/20 [00:08<00:03,  1.60it/s]\u001b[A\n",
      "DDIM Sampler:  75%|███████▌  | 15/20 [00:09<00:03,  1.60it/s]\u001b[A\n",
      "DDIM Sampler:  80%|████████  | 16/20 [00:10<00:02,  1.60it/s]\u001b[A\n",
      "DDIM Sampler:  85%|████████▌ | 17/20 [00:10<00:01,  1.60it/s]\u001b[A\n",
      "DDIM Sampler:  90%|█████████ | 18/20 [00:11<00:01,  1.60it/s]\u001b[A\n",
      "DDIM Sampler:  95%|█████████▌| 19/20 [00:11<00:00,  1.60it/s]\u001b[A\n",
      "DDIM Sampler: 100%|██████████| 20/20 [00:12<00:00,  1.60it/s]\u001b[A\n",
      "Global seed set to 31808\n"
     ]
    },
    {
     "name": "stdout",
     "output_type": "stream",
     "text": [
      "Data shape for DDIM sampling is (2, 4, 64, 64), eta 0.0\n",
      "Running DDIM Sampling with 20 timesteps\n"
     ]
    },
    {
     "name": "stderr",
     "output_type": "stream",
     "text": [
      "\n",
      "DDIM Sampler:   0%|          | 0/20 [00:00<?, ?it/s]\u001b[A\n",
      "DDIM Sampler:   5%|▌         | 1/20 [00:00<00:11,  1.63it/s]\u001b[A\n",
      "DDIM Sampler:  10%|█         | 2/20 [00:01<00:11,  1.59it/s]\u001b[A\n",
      "DDIM Sampler:  15%|█▌        | 3/20 [00:01<00:10,  1.59it/s]\u001b[A\n",
      "DDIM Sampler:  20%|██        | 4/20 [00:02<00:09,  1.60it/s]\u001b[A\n",
      "DDIM Sampler:  25%|██▌       | 5/20 [00:03<00:09,  1.60it/s]\u001b[A\n",
      "DDIM Sampler:  30%|███       | 6/20 [00:03<00:08,  1.60it/s]\u001b[A\n",
      "DDIM Sampler:  35%|███▌      | 7/20 [00:04<00:08,  1.60it/s]\u001b[A\n",
      "DDIM Sampler:  40%|████      | 8/20 [00:05<00:07,  1.60it/s]\u001b[A\n",
      "DDIM Sampler:  45%|████▌     | 9/20 [00:05<00:06,  1.60it/s]\u001b[A\n",
      "DDIM Sampler:  50%|█████     | 10/20 [00:06<00:06,  1.59it/s]\u001b[A\n",
      "DDIM Sampler:  55%|█████▌    | 11/20 [00:06<00:05,  1.60it/s]\u001b[A\n",
      "DDIM Sampler:  60%|██████    | 12/20 [00:07<00:05,  1.60it/s]\u001b[A\n",
      "DDIM Sampler:  65%|██████▌   | 13/20 [00:08<00:04,  1.60it/s]\u001b[A\n",
      "DDIM Sampler:  70%|███████   | 14/20 [00:08<00:03,  1.60it/s]\u001b[A\n",
      "DDIM Sampler:  75%|███████▌  | 15/20 [00:09<00:03,  1.60it/s]\u001b[A\n",
      "DDIM Sampler:  80%|████████  | 16/20 [00:10<00:02,  1.60it/s]\u001b[A\n",
      "DDIM Sampler:  85%|████████▌ | 17/20 [00:10<00:01,  1.60it/s]\u001b[A\n",
      "DDIM Sampler:  90%|█████████ | 18/20 [00:11<00:01,  1.60it/s]\u001b[A\n",
      "DDIM Sampler:  95%|█████████▌| 19/20 [00:11<00:00,  1.60it/s]\u001b[A\n",
      "DDIM Sampler: 100%|██████████| 20/20 [00:12<00:00,  1.60it/s]\u001b[A\n",
      "Global seed set to 33281\n"
     ]
    },
    {
     "name": "stdout",
     "output_type": "stream",
     "text": [
      "Data shape for DDIM sampling is (2, 4, 64, 64), eta 0.0\n",
      "Running DDIM Sampling with 20 timesteps\n"
     ]
    },
    {
     "name": "stderr",
     "output_type": "stream",
     "text": [
      "\n",
      "DDIM Sampler:   0%|          | 0/20 [00:00<?, ?it/s]\u001b[A\n",
      "DDIM Sampler:   5%|▌         | 1/20 [00:00<00:11,  1.64it/s]\u001b[A\n",
      "DDIM Sampler:  10%|█         | 2/20 [00:01<00:11,  1.59it/s]\u001b[A\n",
      "DDIM Sampler:  15%|█▌        | 3/20 [00:01<00:10,  1.59it/s]\u001b[A\n",
      "DDIM Sampler:  20%|██        | 4/20 [00:02<00:10,  1.60it/s]\u001b[A\n",
      "DDIM Sampler:  25%|██▌       | 5/20 [00:03<00:09,  1.59it/s]\u001b[A\n",
      "DDIM Sampler:  30%|███       | 6/20 [00:03<00:08,  1.60it/s]\u001b[A\n",
      "DDIM Sampler:  35%|███▌      | 7/20 [00:04<00:08,  1.60it/s]\u001b[A\n",
      "DDIM Sampler:  40%|████      | 8/20 [00:05<00:07,  1.60it/s]\u001b[A\n",
      "DDIM Sampler:  45%|████▌     | 9/20 [00:05<00:06,  1.60it/s]\u001b[A\n",
      "DDIM Sampler:  50%|█████     | 10/20 [00:06<00:06,  1.60it/s]\u001b[A\n",
      "DDIM Sampler:  55%|█████▌    | 11/20 [00:06<00:05,  1.60it/s]\u001b[A\n",
      "DDIM Sampler:  60%|██████    | 12/20 [00:07<00:05,  1.60it/s]\u001b[A\n",
      "DDIM Sampler:  65%|██████▌   | 13/20 [00:08<00:04,  1.59it/s]\u001b[A\n",
      "DDIM Sampler:  70%|███████   | 14/20 [00:08<00:03,  1.60it/s]\u001b[A\n",
      "DDIM Sampler:  75%|███████▌  | 15/20 [00:09<00:03,  1.60it/s]\u001b[A\n",
      "DDIM Sampler:  80%|████████  | 16/20 [00:10<00:02,  1.59it/s]\u001b[A\n",
      "DDIM Sampler:  85%|████████▌ | 17/20 [00:10<00:01,  1.60it/s]\u001b[A\n",
      "DDIM Sampler:  90%|█████████ | 18/20 [00:11<00:01,  1.59it/s]\u001b[A\n",
      "DDIM Sampler:  95%|█████████▌| 19/20 [00:11<00:00,  1.60it/s]\u001b[A\n",
      "DDIM Sampler: 100%|██████████| 20/20 [00:12<00:00,  1.60it/s]\u001b[A\n",
      "Global seed set to 9181\n"
     ]
    },
    {
     "name": "stdout",
     "output_type": "stream",
     "text": [
      "Data shape for DDIM sampling is (2, 4, 64, 64), eta 0.0\n",
      "Running DDIM Sampling with 20 timesteps\n"
     ]
    },
    {
     "name": "stderr",
     "output_type": "stream",
     "text": [
      "\n",
      "DDIM Sampler:   0%|          | 0/20 [00:00<?, ?it/s]\u001b[A\n",
      "DDIM Sampler:   5%|▌         | 1/20 [00:00<00:11,  1.63it/s]\u001b[A\n",
      "DDIM Sampler:  10%|█         | 2/20 [00:01<00:11,  1.60it/s]\u001b[A\n",
      "DDIM Sampler:  15%|█▌        | 3/20 [00:01<00:10,  1.60it/s]\u001b[A\n",
      "DDIM Sampler:  20%|██        | 4/20 [00:02<00:09,  1.60it/s]\u001b[A\n",
      "DDIM Sampler:  25%|██▌       | 5/20 [00:03<00:09,  1.60it/s]\u001b[A\n",
      "DDIM Sampler:  30%|███       | 6/20 [00:03<00:08,  1.60it/s]\u001b[A\n",
      "DDIM Sampler:  35%|███▌      | 7/20 [00:04<00:08,  1.60it/s]\u001b[A\n",
      "DDIM Sampler:  40%|████      | 8/20 [00:04<00:07,  1.60it/s]\u001b[A\n",
      "DDIM Sampler:  45%|████▌     | 9/20 [00:05<00:06,  1.60it/s]\u001b[A\n",
      "DDIM Sampler:  50%|█████     | 10/20 [00:06<00:06,  1.60it/s]\u001b[A\n",
      "DDIM Sampler:  55%|█████▌    | 11/20 [00:06<00:05,  1.60it/s]\u001b[A\n",
      "DDIM Sampler:  60%|██████    | 12/20 [00:07<00:04,  1.60it/s]\u001b[A\n",
      "DDIM Sampler:  65%|██████▌   | 13/20 [00:08<00:04,  1.60it/s]\u001b[A\n",
      "DDIM Sampler:  70%|███████   | 14/20 [00:08<00:03,  1.60it/s]\u001b[A\n",
      "DDIM Sampler:  75%|███████▌  | 15/20 [00:09<00:03,  1.60it/s]\u001b[A\n",
      "DDIM Sampler:  80%|████████  | 16/20 [00:10<00:02,  1.60it/s]\u001b[A\n",
      "DDIM Sampler:  85%|████████▌ | 17/20 [00:10<00:01,  1.60it/s]\u001b[A\n",
      "DDIM Sampler:  90%|█████████ | 18/20 [00:11<00:01,  1.60it/s]\u001b[A\n",
      "DDIM Sampler:  95%|█████████▌| 19/20 [00:11<00:00,  1.60it/s]\u001b[A\n",
      "DDIM Sampler: 100%|██████████| 20/20 [00:12<00:00,  1.60it/s]\u001b[A\n",
      "Global seed set to 64188\n"
     ]
    },
    {
     "name": "stdout",
     "output_type": "stream",
     "text": [
      "Data shape for DDIM sampling is (2, 4, 64, 72), eta 0.0\n",
      "Running DDIM Sampling with 20 timesteps\n"
     ]
    },
    {
     "name": "stderr",
     "output_type": "stream",
     "text": [
      "\n",
      "DDIM Sampler:   0%|          | 0/20 [00:00<?, ?it/s]\u001b[A\n",
      "DDIM Sampler:   5%|▌         | 1/20 [00:00<00:13,  1.36it/s]\u001b[A\n",
      "DDIM Sampler:  10%|█         | 2/20 [00:01<00:13,  1.33it/s]\u001b[A\n",
      "DDIM Sampler:  15%|█▌        | 3/20 [00:02<00:12,  1.33it/s]\u001b[A\n",
      "DDIM Sampler:  20%|██        | 4/20 [00:03<00:12,  1.33it/s]\u001b[A\n",
      "DDIM Sampler:  25%|██▌       | 5/20 [00:03<00:11,  1.33it/s]\u001b[A\n",
      "DDIM Sampler:  30%|███       | 6/20 [00:04<00:10,  1.33it/s]\u001b[A\n",
      "DDIM Sampler:  35%|███▌      | 7/20 [00:05<00:09,  1.33it/s]\u001b[A\n",
      "DDIM Sampler:  40%|████      | 8/20 [00:05<00:08,  1.33it/s]\u001b[A\n",
      "DDIM Sampler:  45%|████▌     | 9/20 [00:06<00:08,  1.33it/s]\u001b[A\n",
      "DDIM Sampler:  50%|█████     | 10/20 [00:07<00:07,  1.33it/s]\u001b[A\n",
      "DDIM Sampler:  55%|█████▌    | 11/20 [00:08<00:06,  1.33it/s]\u001b[A\n",
      "DDIM Sampler:  60%|██████    | 12/20 [00:08<00:05,  1.33it/s]\u001b[A\n",
      "DDIM Sampler:  65%|██████▌   | 13/20 [00:09<00:05,  1.33it/s]\u001b[A\n",
      "DDIM Sampler:  70%|███████   | 14/20 [00:10<00:04,  1.33it/s]\u001b[A\n",
      "DDIM Sampler:  75%|███████▌  | 15/20 [00:11<00:03,  1.33it/s]\u001b[A\n",
      "DDIM Sampler:  80%|████████  | 16/20 [00:11<00:02,  1.34it/s]\u001b[A\n",
      "DDIM Sampler:  85%|████████▌ | 17/20 [00:12<00:02,  1.34it/s]\u001b[A\n",
      "DDIM Sampler:  90%|█████████ | 18/20 [00:13<00:01,  1.34it/s]\u001b[A\n",
      "DDIM Sampler:  95%|█████████▌| 19/20 [00:14<00:00,  1.34it/s]\u001b[A\n",
      "DDIM Sampler: 100%|██████████| 20/20 [00:14<00:00,  1.33it/s]\u001b[A\n",
      "Global seed set to 10533\n"
     ]
    },
    {
     "name": "stdout",
     "output_type": "stream",
     "text": [
      "Data shape for DDIM sampling is (2, 4, 64, 112), eta 0.0\n",
      "Running DDIM Sampling with 20 timesteps\n"
     ]
    },
    {
     "name": "stderr",
     "output_type": "stream",
     "text": [
      "\n",
      "DDIM Sampler:   0%|          | 0/20 [00:00<?, ?it/s]\u001b[A\n",
      "DDIM Sampler:   5%|▌         | 1/20 [00:01<00:28,  1.50s/it]\u001b[A\n",
      "DDIM Sampler:  10%|█         | 2/20 [00:03<00:27,  1.51s/it]\u001b[A\n",
      "DDIM Sampler:  15%|█▌        | 3/20 [00:04<00:25,  1.51s/it]\u001b[A\n",
      "DDIM Sampler:  20%|██        | 4/20 [00:06<00:24,  1.50s/it]\u001b[A\n",
      "DDIM Sampler:  25%|██▌       | 5/20 [00:07<00:22,  1.51s/it]\u001b[A\n",
      "DDIM Sampler:  30%|███       | 6/20 [00:09<00:21,  1.51s/it]\u001b[A\n",
      "DDIM Sampler:  35%|███▌      | 7/20 [00:10<00:19,  1.51s/it]\u001b[A\n",
      "DDIM Sampler:  40%|████      | 8/20 [00:12<00:18,  1.50s/it]\u001b[A\n",
      "DDIM Sampler:  45%|████▌     | 9/20 [00:13<00:16,  1.50s/it]\u001b[A\n",
      "DDIM Sampler:  50%|█████     | 10/20 [00:15<00:15,  1.50s/it]\u001b[A\n",
      "DDIM Sampler:  55%|█████▌    | 11/20 [00:16<00:13,  1.50s/it]\u001b[A\n",
      "DDIM Sampler:  60%|██████    | 12/20 [00:18<00:12,  1.50s/it]\u001b[A\n",
      "DDIM Sampler:  65%|██████▌   | 13/20 [00:19<00:10,  1.50s/it]\u001b[A\n",
      "DDIM Sampler:  70%|███████   | 14/20 [00:21<00:09,  1.51s/it]\u001b[A\n",
      "DDIM Sampler:  75%|███████▌  | 15/20 [00:22<00:07,  1.51s/it]\u001b[A\n",
      "DDIM Sampler:  80%|████████  | 16/20 [00:24<00:06,  1.50s/it]\u001b[A\n",
      "DDIM Sampler:  85%|████████▌ | 17/20 [00:25<00:04,  1.51s/it]\u001b[A\n",
      "DDIM Sampler:  90%|█████████ | 18/20 [00:27<00:03,  1.51s/it]\u001b[A\n",
      "DDIM Sampler:  95%|█████████▌| 19/20 [00:28<00:01,  1.51s/it]\u001b[A\n",
      "DDIM Sampler: 100%|██████████| 20/20 [00:30<00:00,  1.51s/it]\u001b[A\n",
      "Global seed set to 31808\n"
     ]
    },
    {
     "name": "stdout",
     "output_type": "stream",
     "text": [
      "Data shape for DDIM sampling is (2, 4, 64, 96), eta 0.0\n",
      "Running DDIM Sampling with 20 timesteps\n"
     ]
    },
    {
     "name": "stderr",
     "output_type": "stream",
     "text": [
      "\n",
      "DDIM Sampler:   0%|          | 0/20 [00:00<?, ?it/s]\u001b[A\n",
      "DDIM Sampler:   5%|▌         | 1/20 [00:01<00:22,  1.17s/it]\u001b[A\n",
      "DDIM Sampler:  10%|█         | 2/20 [00:02<00:20,  1.17s/it]\u001b[A\n",
      "DDIM Sampler:  15%|█▌        | 3/20 [00:03<00:19,  1.16s/it]\u001b[A\n",
      "DDIM Sampler:  20%|██        | 4/20 [00:04<00:18,  1.16s/it]\u001b[A\n",
      "DDIM Sampler:  25%|██▌       | 5/20 [00:05<00:17,  1.16s/it]\u001b[A\n",
      "DDIM Sampler:  30%|███       | 6/20 [00:06<00:16,  1.16s/it]\u001b[A\n",
      "DDIM Sampler:  35%|███▌      | 7/20 [00:08<00:15,  1.16s/it]\u001b[A\n",
      "DDIM Sampler:  40%|████      | 8/20 [00:09<00:13,  1.16s/it]\u001b[A\n",
      "DDIM Sampler:  45%|████▌     | 9/20 [00:10<00:12,  1.16s/it]\u001b[A\n",
      "DDIM Sampler:  50%|█████     | 10/20 [00:11<00:11,  1.16s/it]\u001b[A\n",
      "DDIM Sampler:  55%|█████▌    | 11/20 [00:12<00:10,  1.16s/it]\u001b[A\n",
      "DDIM Sampler:  60%|██████    | 12/20 [00:13<00:09,  1.16s/it]\u001b[A\n",
      "DDIM Sampler:  65%|██████▌   | 13/20 [00:15<00:08,  1.16s/it]\u001b[A\n",
      "DDIM Sampler:  70%|███████   | 14/20 [00:16<00:06,  1.16s/it]\u001b[A\n",
      "DDIM Sampler:  75%|███████▌  | 15/20 [00:17<00:05,  1.16s/it]\u001b[A\n",
      "DDIM Sampler:  80%|████████  | 16/20 [00:18<00:04,  1.16s/it]\u001b[A\n",
      "DDIM Sampler:  85%|████████▌ | 17/20 [00:19<00:03,  1.16s/it]\u001b[A\n",
      "DDIM Sampler:  90%|█████████ | 18/20 [00:20<00:02,  1.16s/it]\u001b[A\n",
      "DDIM Sampler:  95%|█████████▌| 19/20 [00:22<00:01,  1.16s/it]\u001b[A\n",
      "DDIM Sampler: 100%|██████████| 20/20 [00:23<00:00,  1.16s/it]\u001b[A\n",
      "Global seed set to 33281\n"
     ]
    },
    {
     "name": "stdout",
     "output_type": "stream",
     "text": [
      "Data shape for DDIM sampling is (2, 4, 64, 64), eta 0.0\n",
      "Running DDIM Sampling with 20 timesteps\n"
     ]
    },
    {
     "name": "stderr",
     "output_type": "stream",
     "text": [
      "\n",
      "DDIM Sampler:   0%|          | 0/20 [00:00<?, ?it/s]\u001b[A\n",
      "DDIM Sampler:   5%|▌         | 1/20 [00:00<00:11,  1.63it/s]\u001b[A\n",
      "DDIM Sampler:  10%|█         | 2/20 [00:01<00:11,  1.59it/s]\u001b[A\n",
      "DDIM Sampler:  15%|█▌        | 3/20 [00:01<00:10,  1.59it/s]\u001b[A\n",
      "DDIM Sampler:  20%|██        | 4/20 [00:02<00:10,  1.60it/s]\u001b[A\n",
      "DDIM Sampler:  25%|██▌       | 5/20 [00:03<00:09,  1.60it/s]\u001b[A\n",
      "DDIM Sampler:  30%|███       | 6/20 [00:03<00:08,  1.60it/s]\u001b[A\n",
      "DDIM Sampler:  35%|███▌      | 7/20 [00:04<00:08,  1.60it/s]\u001b[A\n",
      "DDIM Sampler:  40%|████      | 8/20 [00:05<00:07,  1.60it/s]\u001b[A\n",
      "DDIM Sampler:  45%|████▌     | 9/20 [00:05<00:06,  1.60it/s]\u001b[A\n",
      "DDIM Sampler:  50%|█████     | 10/20 [00:06<00:06,  1.60it/s]\u001b[A\n",
      "DDIM Sampler:  55%|█████▌    | 11/20 [00:06<00:05,  1.60it/s]\u001b[A\n",
      "DDIM Sampler:  60%|██████    | 12/20 [00:07<00:05,  1.60it/s]\u001b[A\n",
      "DDIM Sampler:  65%|██████▌   | 13/20 [00:08<00:04,  1.60it/s]\u001b[A\n",
      "DDIM Sampler:  70%|███████   | 14/20 [00:08<00:03,  1.60it/s]\u001b[A\n",
      "DDIM Sampler:  75%|███████▌  | 15/20 [00:09<00:03,  1.60it/s]\u001b[A\n",
      "DDIM Sampler:  80%|████████  | 16/20 [00:10<00:02,  1.60it/s]\u001b[A\n",
      "DDIM Sampler:  85%|████████▌ | 17/20 [00:10<00:01,  1.60it/s]\u001b[A\n",
      "DDIM Sampler:  90%|█████████ | 18/20 [00:11<00:01,  1.60it/s]\u001b[A\n",
      "DDIM Sampler:  95%|█████████▌| 19/20 [00:11<00:00,  1.60it/s]\u001b[A\n",
      "DDIM Sampler: 100%|██████████| 20/20 [00:12<00:00,  1.60it/s]\u001b[A\n",
      "Global seed set to 9181\n"
     ]
    },
    {
     "name": "stdout",
     "output_type": "stream",
     "text": [
      "Data shape for DDIM sampling is (2, 4, 64, 64), eta 0.0\n",
      "Running DDIM Sampling with 20 timesteps\n"
     ]
    },
    {
     "name": "stderr",
     "output_type": "stream",
     "text": [
      "\n",
      "DDIM Sampler:   0%|          | 0/20 [00:00<?, ?it/s]\u001b[A\n",
      "DDIM Sampler:   5%|▌         | 1/20 [00:00<00:11,  1.63it/s]\u001b[A\n",
      "DDIM Sampler:  10%|█         | 2/20 [00:01<00:11,  1.59it/s]\u001b[A\n",
      "DDIM Sampler:  15%|█▌        | 3/20 [00:01<00:10,  1.59it/s]\u001b[A\n",
      "DDIM Sampler:  20%|██        | 4/20 [00:02<00:10,  1.60it/s]\u001b[A\n",
      "DDIM Sampler:  25%|██▌       | 5/20 [00:03<00:09,  1.60it/s]\u001b[A\n",
      "DDIM Sampler:  30%|███       | 6/20 [00:03<00:08,  1.60it/s]\u001b[A\n",
      "DDIM Sampler:  35%|███▌      | 7/20 [00:04<00:08,  1.60it/s]\u001b[A\n",
      "DDIM Sampler:  40%|████      | 8/20 [00:05<00:07,  1.60it/s]\u001b[A\n",
      "DDIM Sampler:  45%|████▌     | 9/20 [00:05<00:06,  1.60it/s]\u001b[A\n",
      "DDIM Sampler:  50%|█████     | 10/20 [00:06<00:06,  1.60it/s]\u001b[A\n",
      "DDIM Sampler:  55%|█████▌    | 11/20 [00:06<00:05,  1.60it/s]\u001b[A\n",
      "DDIM Sampler:  60%|██████    | 12/20 [00:07<00:05,  1.60it/s]\u001b[A\n",
      "DDIM Sampler:  65%|██████▌   | 13/20 [00:08<00:04,  1.60it/s]\u001b[A\n",
      "DDIM Sampler:  70%|███████   | 14/20 [00:08<00:03,  1.60it/s]\u001b[A\n",
      "DDIM Sampler:  75%|███████▌  | 15/20 [00:09<00:03,  1.60it/s]\u001b[A\n",
      "DDIM Sampler:  80%|████████  | 16/20 [00:10<00:02,  1.60it/s]\u001b[A\n",
      "DDIM Sampler:  85%|████████▌ | 17/20 [00:10<00:01,  1.60it/s]\u001b[A\n",
      "DDIM Sampler:  90%|█████████ | 18/20 [00:11<00:01,  1.60it/s]\u001b[A\n",
      "DDIM Sampler:  95%|█████████▌| 19/20 [00:11<00:00,  1.60it/s]\u001b[A\n",
      "DDIM Sampler: 100%|██████████| 20/20 [00:12<00:00,  1.60it/s]\u001b[A\n",
      "Global seed set to 64188\n"
     ]
    },
    {
     "name": "stdout",
     "output_type": "stream",
     "text": [
      "Data shape for DDIM sampling is (2, 4, 64, 64), eta 0.0\n",
      "Running DDIM Sampling with 20 timesteps\n"
     ]
    },
    {
     "name": "stderr",
     "output_type": "stream",
     "text": [
      "\n",
      "DDIM Sampler:   0%|          | 0/20 [00:00<?, ?it/s]\u001b[A\n",
      "DDIM Sampler:   5%|▌         | 1/20 [00:00<00:11,  1.63it/s]\u001b[A\n",
      "DDIM Sampler:  10%|█         | 2/20 [00:01<00:11,  1.59it/s]\u001b[A\n",
      "DDIM Sampler:  15%|█▌        | 3/20 [00:01<00:10,  1.59it/s]\u001b[A\n",
      "DDIM Sampler:  20%|██        | 4/20 [00:02<00:10,  1.60it/s]\u001b[A\n",
      "DDIM Sampler:  25%|██▌       | 5/20 [00:03<00:09,  1.59it/s]\u001b[A\n",
      "DDIM Sampler:  30%|███       | 6/20 [00:03<00:08,  1.60it/s]\u001b[A\n",
      "DDIM Sampler:  35%|███▌      | 7/20 [00:04<00:08,  1.60it/s]\u001b[A\n",
      "DDIM Sampler:  40%|████      | 8/20 [00:05<00:07,  1.60it/s]\u001b[A\n",
      "DDIM Sampler:  45%|████▌     | 9/20 [00:05<00:06,  1.60it/s]\u001b[A\n",
      "DDIM Sampler:  50%|█████     | 10/20 [00:06<00:06,  1.60it/s]\u001b[A\n",
      "DDIM Sampler:  55%|█████▌    | 11/20 [00:06<00:05,  1.60it/s]\u001b[A\n",
      "DDIM Sampler:  60%|██████    | 12/20 [00:07<00:04,  1.60it/s]\u001b[A\n",
      "DDIM Sampler:  65%|██████▌   | 13/20 [00:08<00:04,  1.60it/s]\u001b[A\n",
      "DDIM Sampler:  70%|███████   | 14/20 [00:08<00:03,  1.60it/s]\u001b[A\n",
      "DDIM Sampler:  75%|███████▌  | 15/20 [00:09<00:03,  1.60it/s]\u001b[A\n",
      "DDIM Sampler:  80%|████████  | 16/20 [00:10<00:02,  1.60it/s]\u001b[A\n",
      "DDIM Sampler:  85%|████████▌ | 17/20 [00:10<00:01,  1.60it/s]\u001b[A\n",
      "DDIM Sampler:  90%|█████████ | 18/20 [00:11<00:01,  1.60it/s]\u001b[A\n",
      "DDIM Sampler:  95%|█████████▌| 19/20 [00:11<00:00,  1.60it/s]\u001b[A\n",
      "DDIM Sampler: 100%|██████████| 20/20 [00:12<00:00,  1.60it/s]\u001b[A\n",
      "Global seed set to 10533\n"
     ]
    },
    {
     "name": "stdout",
     "output_type": "stream",
     "text": [
      "Data shape for DDIM sampling is (2, 4, 64, 64), eta 0.0\n",
      "Running DDIM Sampling with 20 timesteps\n"
     ]
    },
    {
     "name": "stderr",
     "output_type": "stream",
     "text": [
      "\n",
      "DDIM Sampler:   0%|          | 0/20 [00:00<?, ?it/s]\u001b[A\n",
      "DDIM Sampler:   5%|▌         | 1/20 [00:00<00:11,  1.64it/s]\u001b[A\n",
      "DDIM Sampler:  10%|█         | 2/20 [00:01<00:11,  1.59it/s]\u001b[A\n",
      "DDIM Sampler:  15%|█▌        | 3/20 [00:01<00:10,  1.60it/s]\u001b[A\n",
      "DDIM Sampler:  20%|██        | 4/20 [00:02<00:10,  1.60it/s]\u001b[A\n",
      "DDIM Sampler:  25%|██▌       | 5/20 [00:03<00:09,  1.59it/s]\u001b[A\n",
      "DDIM Sampler:  30%|███       | 6/20 [00:03<00:08,  1.60it/s]\u001b[A\n",
      "DDIM Sampler:  35%|███▌      | 7/20 [00:04<00:08,  1.60it/s]\u001b[A\n",
      "DDIM Sampler:  40%|████      | 8/20 [00:05<00:07,  1.60it/s]\u001b[A\n",
      "DDIM Sampler:  45%|████▌     | 9/20 [00:05<00:06,  1.60it/s]\u001b[A\n",
      "DDIM Sampler:  50%|█████     | 10/20 [00:06<00:06,  1.60it/s]\u001b[A\n",
      "DDIM Sampler:  55%|█████▌    | 11/20 [00:06<00:05,  1.60it/s]\u001b[A\n",
      "DDIM Sampler:  60%|██████    | 12/20 [00:07<00:05,  1.60it/s]\u001b[A\n",
      "DDIM Sampler:  65%|██████▌   | 13/20 [00:08<00:04,  1.60it/s]\u001b[A\n",
      "DDIM Sampler:  70%|███████   | 14/20 [00:08<00:03,  1.60it/s]\u001b[A\n",
      "DDIM Sampler:  75%|███████▌  | 15/20 [00:09<00:03,  1.60it/s]\u001b[A\n",
      "DDIM Sampler:  80%|████████  | 16/20 [00:10<00:02,  1.60it/s]\u001b[A\n",
      "DDIM Sampler:  85%|████████▌ | 17/20 [00:10<00:01,  1.60it/s]\u001b[A\n",
      "DDIM Sampler:  90%|█████████ | 18/20 [00:11<00:01,  1.60it/s]\u001b[A\n",
      "DDIM Sampler:  95%|█████████▌| 19/20 [00:11<00:00,  1.60it/s]\u001b[A\n",
      "DDIM Sampler: 100%|██████████| 20/20 [00:12<00:00,  1.60it/s]\u001b[A\n",
      "Global seed set to 31808\n"
     ]
    },
    {
     "name": "stdout",
     "output_type": "stream",
     "text": [
      "Data shape for DDIM sampling is (2, 4, 64, 64), eta 0.0\n",
      "Running DDIM Sampling with 20 timesteps\n"
     ]
    },
    {
     "name": "stderr",
     "output_type": "stream",
     "text": [
      "\n",
      "DDIM Sampler:   0%|          | 0/20 [00:00<?, ?it/s]\u001b[A\n",
      "DDIM Sampler:   5%|▌         | 1/20 [00:00<00:11,  1.63it/s]\u001b[A\n",
      "DDIM Sampler:  10%|█         | 2/20 [00:01<00:11,  1.59it/s]\u001b[A\n",
      "DDIM Sampler:  15%|█▌        | 3/20 [00:01<00:10,  1.59it/s]\u001b[A\n",
      "DDIM Sampler:  20%|██        | 4/20 [00:02<00:10,  1.60it/s]\u001b[A\n",
      "DDIM Sampler:  25%|██▌       | 5/20 [00:03<00:09,  1.59it/s]\u001b[A\n",
      "DDIM Sampler:  30%|███       | 6/20 [00:03<00:08,  1.59it/s]\u001b[A\n",
      "DDIM Sampler:  35%|███▌      | 7/20 [00:04<00:08,  1.60it/s]\u001b[A\n",
      "DDIM Sampler:  40%|████      | 8/20 [00:05<00:07,  1.59it/s]\u001b[A\n",
      "DDIM Sampler:  45%|████▌     | 9/20 [00:05<00:06,  1.60it/s]\u001b[A\n",
      "DDIM Sampler:  50%|█████     | 10/20 [00:06<00:06,  1.60it/s]\u001b[A\n",
      "DDIM Sampler:  55%|█████▌    | 11/20 [00:06<00:05,  1.59it/s]\u001b[A\n",
      "DDIM Sampler:  60%|██████    | 12/20 [00:07<00:05,  1.60it/s]\u001b[A\n",
      "DDIM Sampler:  65%|██████▌   | 13/20 [00:08<00:04,  1.60it/s]\u001b[A\n",
      "DDIM Sampler:  70%|███████   | 14/20 [00:08<00:03,  1.60it/s]\u001b[A\n",
      "DDIM Sampler:  75%|███████▌  | 15/20 [00:09<00:03,  1.60it/s]\u001b[A\n",
      "DDIM Sampler:  80%|████████  | 16/20 [00:10<00:02,  1.59it/s]\u001b[A\n",
      "DDIM Sampler:  85%|████████▌ | 17/20 [00:10<00:01,  1.59it/s]\u001b[A\n",
      "DDIM Sampler:  90%|█████████ | 18/20 [00:11<00:01,  1.60it/s]\u001b[A\n",
      "DDIM Sampler:  95%|█████████▌| 19/20 [00:11<00:00,  1.59it/s]\u001b[A\n",
      "DDIM Sampler: 100%|██████████| 20/20 [00:12<00:00,  1.60it/s]\u001b[A\n",
      "Global seed set to 33281\n"
     ]
    },
    {
     "name": "stdout",
     "output_type": "stream",
     "text": [
      "Data shape for DDIM sampling is (2, 4, 64, 64), eta 0.0\n",
      "Running DDIM Sampling with 20 timesteps\n"
     ]
    },
    {
     "name": "stderr",
     "output_type": "stream",
     "text": [
      "\n",
      "DDIM Sampler:   0%|          | 0/20 [00:00<?, ?it/s]\u001b[A\n",
      "DDIM Sampler:   5%|▌         | 1/20 [00:00<00:11,  1.63it/s]\u001b[A\n",
      "DDIM Sampler:  10%|█         | 2/20 [00:01<00:11,  1.59it/s]\u001b[A\n",
      "DDIM Sampler:  15%|█▌        | 3/20 [00:01<00:10,  1.59it/s]\u001b[A\n",
      "DDIM Sampler:  20%|██        | 4/20 [00:02<00:10,  1.60it/s]\u001b[A\n",
      "DDIM Sampler:  25%|██▌       | 5/20 [00:03<00:09,  1.59it/s]\u001b[A\n",
      "DDIM Sampler:  30%|███       | 6/20 [00:03<00:08,  1.59it/s]\u001b[A\n",
      "DDIM Sampler:  35%|███▌      | 7/20 [00:04<00:08,  1.59it/s]\u001b[A\n",
      "DDIM Sampler:  40%|████      | 8/20 [00:05<00:07,  1.59it/s]\u001b[A\n",
      "DDIM Sampler:  45%|████▌     | 9/20 [00:05<00:06,  1.60it/s]\u001b[A\n",
      "DDIM Sampler:  50%|█████     | 10/20 [00:06<00:06,  1.59it/s]\u001b[A\n",
      "DDIM Sampler:  55%|█████▌    | 11/20 [00:06<00:05,  1.60it/s]\u001b[A\n",
      "DDIM Sampler:  60%|██████    | 12/20 [00:07<00:05,  1.60it/s]\u001b[A\n",
      "DDIM Sampler:  65%|██████▌   | 13/20 [00:08<00:04,  1.59it/s]\u001b[A\n",
      "DDIM Sampler:  70%|███████   | 14/20 [00:08<00:03,  1.60it/s]\u001b[A\n",
      "DDIM Sampler:  75%|███████▌  | 15/20 [00:09<00:03,  1.59it/s]\u001b[A\n",
      "DDIM Sampler:  80%|████████  | 16/20 [00:10<00:02,  1.59it/s]\u001b[A\n",
      "DDIM Sampler:  85%|████████▌ | 17/20 [00:10<00:01,  1.60it/s]\u001b[A\n",
      "DDIM Sampler:  90%|█████████ | 18/20 [00:11<00:01,  1.60it/s]\u001b[A\n",
      "DDIM Sampler:  95%|█████████▌| 19/20 [00:11<00:00,  1.60it/s]\u001b[A\n",
      "DDIM Sampler: 100%|██████████| 20/20 [00:12<00:00,  1.60it/s]\u001b[A\n",
      "Global seed set to 9181\n"
     ]
    },
    {
     "name": "stdout",
     "output_type": "stream",
     "text": [
      "Data shape for DDIM sampling is (2, 4, 64, 64), eta 0.0\n",
      "Running DDIM Sampling with 20 timesteps\n"
     ]
    },
    {
     "name": "stderr",
     "output_type": "stream",
     "text": [
      "\n",
      "DDIM Sampler:   0%|          | 0/20 [00:00<?, ?it/s]\u001b[A\n",
      "DDIM Sampler:   5%|▌         | 1/20 [00:00<00:11,  1.63it/s]\u001b[A\n",
      "DDIM Sampler:  10%|█         | 2/20 [00:01<00:11,  1.59it/s]\u001b[A\n",
      "DDIM Sampler:  15%|█▌        | 3/20 [00:01<00:10,  1.59it/s]\u001b[A\n",
      "DDIM Sampler:  20%|██        | 4/20 [00:02<00:10,  1.59it/s]\u001b[A\n",
      "DDIM Sampler:  25%|██▌       | 5/20 [00:03<00:09,  1.59it/s]\u001b[A\n",
      "DDIM Sampler:  30%|███       | 6/20 [00:03<00:08,  1.60it/s]\u001b[A\n",
      "DDIM Sampler:  35%|███▌      | 7/20 [00:04<00:08,  1.59it/s]\u001b[A\n",
      "DDIM Sampler:  40%|████      | 8/20 [00:05<00:07,  1.59it/s]\u001b[A\n",
      "DDIM Sampler:  45%|████▌     | 9/20 [00:05<00:06,  1.60it/s]\u001b[A\n",
      "DDIM Sampler:  50%|█████     | 10/20 [00:06<00:06,  1.60it/s]\u001b[A\n",
      "DDIM Sampler:  55%|█████▌    | 11/20 [00:06<00:05,  1.60it/s]\u001b[A\n",
      "DDIM Sampler:  60%|██████    | 12/20 [00:07<00:05,  1.60it/s]\u001b[A\n",
      "DDIM Sampler:  65%|██████▌   | 13/20 [00:08<00:04,  1.60it/s]\u001b[A\n",
      "DDIM Sampler:  70%|███████   | 14/20 [00:08<00:03,  1.60it/s]\u001b[A\n",
      "DDIM Sampler:  75%|███████▌  | 15/20 [00:09<00:03,  1.59it/s]\u001b[A\n",
      "DDIM Sampler:  80%|████████  | 16/20 [00:10<00:02,  1.60it/s]\u001b[A\n",
      "DDIM Sampler:  85%|████████▌ | 17/20 [00:10<00:01,  1.59it/s]\u001b[A\n",
      "DDIM Sampler:  90%|█████████ | 18/20 [00:11<00:01,  1.59it/s]\u001b[A\n",
      "DDIM Sampler:  95%|█████████▌| 19/20 [00:11<00:00,  1.60it/s]\u001b[A\n",
      "DDIM Sampler: 100%|██████████| 20/20 [00:12<00:00,  1.60it/s]\u001b[A\n",
      "Global seed set to 64188\n"
     ]
    },
    {
     "name": "stdout",
     "output_type": "stream",
     "text": [
      "Data shape for DDIM sampling is (2, 4, 72, 64), eta 0.0\n",
      "Running DDIM Sampling with 20 timesteps\n"
     ]
    },
    {
     "name": "stderr",
     "output_type": "stream",
     "text": [
      "\n",
      "DDIM Sampler:   0%|          | 0/20 [00:00<?, ?it/s]\u001b[A\n",
      "DDIM Sampler:   5%|▌         | 1/20 [00:00<00:13,  1.37it/s]\u001b[A\n",
      "DDIM Sampler:  10%|█         | 2/20 [00:01<00:13,  1.34it/s]\u001b[A\n",
      "DDIM Sampler:  15%|█▌        | 3/20 [00:02<00:12,  1.33it/s]\u001b[A\n",
      "DDIM Sampler:  20%|██        | 4/20 [00:02<00:12,  1.33it/s]\u001b[A\n",
      "DDIM Sampler:  25%|██▌       | 5/20 [00:03<00:11,  1.33it/s]\u001b[A\n",
      "DDIM Sampler:  30%|███       | 6/20 [00:04<00:10,  1.34it/s]\u001b[A\n",
      "DDIM Sampler:  35%|███▌      | 7/20 [00:05<00:09,  1.34it/s]\u001b[A\n",
      "DDIM Sampler:  40%|████      | 8/20 [00:05<00:08,  1.34it/s]\u001b[A\n",
      "DDIM Sampler:  45%|████▌     | 9/20 [00:06<00:08,  1.34it/s]\u001b[A\n",
      "DDIM Sampler:  50%|█████     | 10/20 [00:07<00:07,  1.34it/s]\u001b[A\n",
      "DDIM Sampler:  55%|█████▌    | 11/20 [00:08<00:06,  1.34it/s]\u001b[A\n",
      "DDIM Sampler:  60%|██████    | 12/20 [00:08<00:05,  1.34it/s]\u001b[A\n",
      "DDIM Sampler:  65%|██████▌   | 13/20 [00:09<00:05,  1.34it/s]\u001b[A\n",
      "DDIM Sampler:  70%|███████   | 14/20 [00:10<00:04,  1.34it/s]\u001b[A\n",
      "DDIM Sampler:  75%|███████▌  | 15/20 [00:11<00:03,  1.34it/s]\u001b[A\n",
      "DDIM Sampler:  80%|████████  | 16/20 [00:11<00:02,  1.34it/s]\u001b[A\n",
      "DDIM Sampler:  85%|████████▌ | 17/20 [00:12<00:02,  1.34it/s]\u001b[A\n",
      "DDIM Sampler:  90%|█████████ | 18/20 [00:13<00:01,  1.34it/s]\u001b[A\n",
      "DDIM Sampler:  95%|█████████▌| 19/20 [00:14<00:00,  1.34it/s]\u001b[A\n",
      "DDIM Sampler: 100%|██████████| 20/20 [00:14<00:00,  1.34it/s]\u001b[A\n",
      "Global seed set to 10533\n"
     ]
    },
    {
     "name": "stdout",
     "output_type": "stream",
     "text": [
      "Data shape for DDIM sampling is (2, 4, 64, 64), eta 0.0\n",
      "Running DDIM Sampling with 20 timesteps\n"
     ]
    },
    {
     "name": "stderr",
     "output_type": "stream",
     "text": [
      "\n",
      "DDIM Sampler:   0%|          | 0/20 [00:00<?, ?it/s]\u001b[A\n",
      "DDIM Sampler:   5%|▌         | 1/20 [00:00<00:11,  1.64it/s]\u001b[A\n",
      "DDIM Sampler:  10%|█         | 2/20 [00:01<00:11,  1.59it/s]\u001b[A\n",
      "DDIM Sampler:  15%|█▌        | 3/20 [00:01<00:10,  1.59it/s]\u001b[A\n",
      "DDIM Sampler:  20%|██        | 4/20 [00:02<00:10,  1.60it/s]\u001b[A\n",
      "DDIM Sampler:  25%|██▌       | 5/20 [00:03<00:09,  1.59it/s]\u001b[A\n",
      "DDIM Sampler:  30%|███       | 6/20 [00:03<00:08,  1.60it/s]\u001b[A\n",
      "DDIM Sampler:  35%|███▌      | 7/20 [00:04<00:08,  1.60it/s]\u001b[A\n",
      "DDIM Sampler:  40%|████      | 8/20 [00:05<00:07,  1.60it/s]\u001b[A\n",
      "DDIM Sampler:  45%|████▌     | 9/20 [00:05<00:06,  1.60it/s]\u001b[A\n",
      "DDIM Sampler:  50%|█████     | 10/20 [00:06<00:06,  1.59it/s]\u001b[A\n",
      "DDIM Sampler:  55%|█████▌    | 11/20 [00:06<00:05,  1.59it/s]\u001b[A\n",
      "DDIM Sampler:  60%|██████    | 12/20 [00:07<00:05,  1.60it/s]\u001b[A\n",
      "DDIM Sampler:  65%|██████▌   | 13/20 [00:08<00:04,  1.60it/s]\u001b[A\n",
      "DDIM Sampler:  70%|███████   | 14/20 [00:08<00:03,  1.59it/s]\u001b[A\n",
      "DDIM Sampler:  75%|███████▌  | 15/20 [00:09<00:03,  1.60it/s]\u001b[A\n",
      "DDIM Sampler:  80%|████████  | 16/20 [00:10<00:02,  1.60it/s]\u001b[A\n",
      "DDIM Sampler:  85%|████████▌ | 17/20 [00:10<00:01,  1.60it/s]\u001b[A\n",
      "DDIM Sampler:  90%|█████████ | 18/20 [00:11<00:01,  1.60it/s]\u001b[A\n",
      "DDIM Sampler:  95%|█████████▌| 19/20 [00:11<00:00,  1.60it/s]\u001b[A\n",
      "DDIM Sampler: 100%|██████████| 20/20 [00:12<00:00,  1.60it/s]\u001b[A\n",
      "Global seed set to 31808\n"
     ]
    },
    {
     "name": "stdout",
     "output_type": "stream",
     "text": [
      "Data shape for DDIM sampling is (2, 4, 64, 96), eta 0.0\n",
      "Running DDIM Sampling with 20 timesteps\n"
     ]
    },
    {
     "name": "stderr",
     "output_type": "stream",
     "text": [
      "\n",
      "DDIM Sampler:   0%|          | 0/20 [00:00<?, ?it/s]\u001b[A\n",
      "DDIM Sampler:   5%|▌         | 1/20 [00:01<00:22,  1.16s/it]\u001b[A\n",
      "DDIM Sampler:  10%|█         | 2/20 [00:02<00:20,  1.16s/it]\u001b[A\n",
      "DDIM Sampler:  15%|█▌        | 3/20 [00:03<00:19,  1.16s/it]\u001b[A\n",
      "DDIM Sampler:  20%|██        | 4/20 [00:04<00:18,  1.16s/it]\u001b[A\n",
      "DDIM Sampler:  25%|██▌       | 5/20 [00:05<00:17,  1.16s/it]\u001b[A\n",
      "DDIM Sampler:  30%|███       | 6/20 [00:06<00:16,  1.16s/it]\u001b[A\n",
      "DDIM Sampler:  35%|███▌      | 7/20 [00:08<00:15,  1.16s/it]\u001b[A\n",
      "DDIM Sampler:  40%|████      | 8/20 [00:09<00:13,  1.16s/it]\u001b[A\n",
      "DDIM Sampler:  45%|████▌     | 9/20 [00:10<00:12,  1.16s/it]\u001b[A\n",
      "DDIM Sampler:  50%|█████     | 10/20 [00:11<00:11,  1.16s/it]\u001b[A\n",
      "DDIM Sampler:  55%|█████▌    | 11/20 [00:12<00:10,  1.16s/it]\u001b[A\n",
      "DDIM Sampler:  60%|██████    | 12/20 [00:13<00:09,  1.16s/it]\u001b[A\n",
      "DDIM Sampler:  65%|██████▌   | 13/20 [00:15<00:08,  1.16s/it]\u001b[A\n",
      "DDIM Sampler:  70%|███████   | 14/20 [00:16<00:06,  1.16s/it]\u001b[A\n",
      "DDIM Sampler:  75%|███████▌  | 15/20 [00:17<00:05,  1.16s/it]\u001b[A\n",
      "DDIM Sampler:  80%|████████  | 16/20 [00:18<00:04,  1.16s/it]\u001b[A\n",
      "DDIM Sampler:  85%|████████▌ | 17/20 [00:19<00:03,  1.16s/it]\u001b[A\n",
      "DDIM Sampler:  90%|█████████ | 18/20 [00:20<00:02,  1.16s/it]\u001b[A\n",
      "DDIM Sampler:  95%|█████████▌| 19/20 [00:22<00:01,  1.16s/it]\u001b[A\n",
      "DDIM Sampler: 100%|██████████| 20/20 [00:23<00:00,  1.16s/it]\u001b[A\n",
      "Global seed set to 33281\n"
     ]
    },
    {
     "name": "stdout",
     "output_type": "stream",
     "text": [
      "Data shape for DDIM sampling is (2, 4, 64, 64), eta 0.0\n",
      "Running DDIM Sampling with 20 timesteps\n"
     ]
    },
    {
     "name": "stderr",
     "output_type": "stream",
     "text": [
      "\n",
      "DDIM Sampler:   0%|          | 0/20 [00:00<?, ?it/s]\u001b[A\n",
      "DDIM Sampler:   5%|▌         | 1/20 [00:00<00:11,  1.63it/s]\u001b[A\n",
      "DDIM Sampler:  10%|█         | 2/20 [00:01<00:11,  1.60it/s]\u001b[A\n",
      "DDIM Sampler:  15%|█▌        | 3/20 [00:01<00:10,  1.60it/s]\u001b[A\n",
      "DDIM Sampler:  20%|██        | 4/20 [00:02<00:10,  1.60it/s]\u001b[A\n",
      "DDIM Sampler:  25%|██▌       | 5/20 [00:03<00:09,  1.60it/s]\u001b[A\n",
      "DDIM Sampler:  30%|███       | 6/20 [00:03<00:08,  1.60it/s]\u001b[A\n",
      "DDIM Sampler:  35%|███▌      | 7/20 [00:04<00:08,  1.60it/s]\u001b[A\n",
      "DDIM Sampler:  40%|████      | 8/20 [00:05<00:07,  1.60it/s]\u001b[A\n",
      "DDIM Sampler:  45%|████▌     | 9/20 [00:05<00:06,  1.60it/s]\u001b[A\n",
      "DDIM Sampler:  50%|█████     | 10/20 [00:06<00:06,  1.60it/s]\u001b[A\n",
      "DDIM Sampler:  55%|█████▌    | 11/20 [00:06<00:05,  1.60it/s]\u001b[A\n",
      "DDIM Sampler:  60%|██████    | 12/20 [00:07<00:05,  1.60it/s]\u001b[A\n",
      "DDIM Sampler:  65%|██████▌   | 13/20 [00:08<00:04,  1.60it/s]\u001b[A\n",
      "DDIM Sampler:  70%|███████   | 14/20 [00:08<00:03,  1.60it/s]\u001b[A\n",
      "DDIM Sampler:  75%|███████▌  | 15/20 [00:09<00:03,  1.60it/s]\u001b[A\n",
      "DDIM Sampler:  80%|████████  | 16/20 [00:10<00:02,  1.60it/s]\u001b[A\n",
      "DDIM Sampler:  85%|████████▌ | 17/20 [00:10<00:01,  1.60it/s]\u001b[A\n",
      "DDIM Sampler:  90%|█████████ | 18/20 [00:11<00:01,  1.60it/s]\u001b[A\n",
      "DDIM Sampler:  95%|█████████▌| 19/20 [00:11<00:00,  1.60it/s]\u001b[A\n",
      "DDIM Sampler: 100%|██████████| 20/20 [00:12<00:00,  1.60it/s]\u001b[A\n",
      "Global seed set to 9181\n"
     ]
    },
    {
     "name": "stdout",
     "output_type": "stream",
     "text": [
      "Data shape for DDIM sampling is (2, 4, 64, 64), eta 0.0\n",
      "Running DDIM Sampling with 20 timesteps\n"
     ]
    },
    {
     "name": "stderr",
     "output_type": "stream",
     "text": [
      "\n",
      "DDIM Sampler:   0%|          | 0/20 [00:00<?, ?it/s]\u001b[A\n",
      "DDIM Sampler:   5%|▌         | 1/20 [00:00<00:11,  1.63it/s]\u001b[A\n",
      "DDIM Sampler:  10%|█         | 2/20 [00:01<00:11,  1.59it/s]\u001b[A\n",
      "DDIM Sampler:  15%|█▌        | 3/20 [00:01<00:10,  1.59it/s]\u001b[A\n",
      "DDIM Sampler:  20%|██        | 4/20 [00:02<00:10,  1.60it/s]\u001b[A\n",
      "DDIM Sampler:  25%|██▌       | 5/20 [00:03<00:09,  1.60it/s]\u001b[A\n",
      "DDIM Sampler:  30%|███       | 6/20 [00:03<00:08,  1.60it/s]\u001b[A\n",
      "DDIM Sampler:  35%|███▌      | 7/20 [00:04<00:08,  1.60it/s]\u001b[A\n",
      "DDIM Sampler:  40%|████      | 8/20 [00:05<00:07,  1.60it/s]\u001b[A\n",
      "DDIM Sampler:  45%|████▌     | 9/20 [00:05<00:06,  1.60it/s]\u001b[A\n",
      "DDIM Sampler:  50%|█████     | 10/20 [00:06<00:06,  1.60it/s]\u001b[A\n",
      "DDIM Sampler:  55%|█████▌    | 11/20 [00:06<00:05,  1.60it/s]\u001b[A\n",
      "DDIM Sampler:  60%|██████    | 12/20 [00:07<00:05,  1.60it/s]\u001b[A\n",
      "DDIM Sampler:  65%|██████▌   | 13/20 [00:08<00:04,  1.60it/s]\u001b[A\n",
      "DDIM Sampler:  70%|███████   | 14/20 [00:08<00:03,  1.60it/s]\u001b[A\n",
      "DDIM Sampler:  75%|███████▌  | 15/20 [00:09<00:03,  1.60it/s]\u001b[A\n",
      "DDIM Sampler:  80%|████████  | 16/20 [00:10<00:02,  1.60it/s]\u001b[A\n",
      "DDIM Sampler:  85%|████████▌ | 17/20 [00:10<00:01,  1.60it/s]\u001b[A\n",
      "DDIM Sampler:  90%|█████████ | 18/20 [00:11<00:01,  1.60it/s]\u001b[A\n",
      "DDIM Sampler:  95%|█████████▌| 19/20 [00:11<00:00,  1.60it/s]\u001b[A\n",
      "DDIM Sampler: 100%|██████████| 20/20 [00:12<00:00,  1.60it/s]\u001b[A\n",
      "Global seed set to 64188\n"
     ]
    },
    {
     "name": "stdout",
     "output_type": "stream",
     "text": [
      "Data shape for DDIM sampling is (2, 4, 64, 64), eta 0.0\n",
      "Running DDIM Sampling with 20 timesteps\n"
     ]
    },
    {
     "name": "stderr",
     "output_type": "stream",
     "text": [
      "\n",
      "DDIM Sampler:   0%|          | 0/20 [00:00<?, ?it/s]\u001b[A\n",
      "DDIM Sampler:   5%|▌         | 1/20 [00:00<00:11,  1.63it/s]\u001b[A\n",
      "DDIM Sampler:  10%|█         | 2/20 [00:01<00:11,  1.59it/s]\u001b[A\n",
      "DDIM Sampler:  15%|█▌        | 3/20 [00:01<00:10,  1.59it/s]\u001b[A\n",
      "DDIM Sampler:  20%|██        | 4/20 [00:02<00:10,  1.60it/s]\u001b[A\n",
      "DDIM Sampler:  25%|██▌       | 5/20 [00:03<00:09,  1.59it/s]\u001b[A\n",
      "DDIM Sampler:  30%|███       | 6/20 [00:03<00:08,  1.60it/s]\u001b[A\n",
      "DDIM Sampler:  35%|███▌      | 7/20 [00:04<00:08,  1.59it/s]\u001b[A\n",
      "DDIM Sampler:  40%|████      | 8/20 [00:05<00:07,  1.60it/s]\u001b[A\n",
      "DDIM Sampler:  45%|████▌     | 9/20 [00:05<00:06,  1.60it/s]\u001b[A\n",
      "DDIM Sampler:  50%|█████     | 10/20 [00:06<00:06,  1.60it/s]\u001b[A\n",
      "DDIM Sampler:  55%|█████▌    | 11/20 [00:06<00:05,  1.60it/s]\u001b[A\n",
      "DDIM Sampler:  60%|██████    | 12/20 [00:07<00:05,  1.60it/s]\u001b[A\n",
      "DDIM Sampler:  65%|██████▌   | 13/20 [00:08<00:04,  1.60it/s]\u001b[A\n",
      "DDIM Sampler:  70%|███████   | 14/20 [00:08<00:03,  1.60it/s]\u001b[A\n",
      "DDIM Sampler:  75%|███████▌  | 15/20 [00:09<00:03,  1.60it/s]\u001b[A\n",
      "DDIM Sampler:  80%|████████  | 16/20 [00:10<00:02,  1.60it/s]\u001b[A\n",
      "DDIM Sampler:  85%|████████▌ | 17/20 [00:10<00:01,  1.60it/s]\u001b[A\n",
      "DDIM Sampler:  90%|█████████ | 18/20 [00:11<00:01,  1.60it/s]\u001b[A\n",
      "DDIM Sampler:  95%|█████████▌| 19/20 [00:11<00:00,  1.60it/s]\u001b[A\n",
      "DDIM Sampler: 100%|██████████| 20/20 [00:12<00:00,  1.60it/s]\u001b[A\n",
      "Global seed set to 10533\n"
     ]
    },
    {
     "name": "stdout",
     "output_type": "stream",
     "text": [
      "Data shape for DDIM sampling is (2, 4, 64, 64), eta 0.0\n",
      "Running DDIM Sampling with 20 timesteps\n"
     ]
    },
    {
     "name": "stderr",
     "output_type": "stream",
     "text": [
      "\n",
      "DDIM Sampler:   0%|          | 0/20 [00:00<?, ?it/s]\u001b[A\n",
      "DDIM Sampler:   5%|▌         | 1/20 [00:00<00:11,  1.63it/s]\u001b[A\n",
      "DDIM Sampler:  10%|█         | 2/20 [00:01<00:11,  1.59it/s]\u001b[A\n",
      "DDIM Sampler:  15%|█▌        | 3/20 [00:01<00:10,  1.59it/s]\u001b[A\n",
      "DDIM Sampler:  20%|██        | 4/20 [00:02<00:10,  1.60it/s]\u001b[A\n",
      "DDIM Sampler:  25%|██▌       | 5/20 [00:03<00:09,  1.59it/s]\u001b[A\n",
      "DDIM Sampler:  30%|███       | 6/20 [00:03<00:08,  1.60it/s]\u001b[A\n",
      "DDIM Sampler:  35%|███▌      | 7/20 [00:04<00:08,  1.60it/s]\u001b[A\n",
      "DDIM Sampler:  40%|████      | 8/20 [00:05<00:07,  1.59it/s]\u001b[A\n",
      "DDIM Sampler:  45%|████▌     | 9/20 [00:05<00:06,  1.60it/s]\u001b[A\n",
      "DDIM Sampler:  50%|█████     | 10/20 [00:06<00:06,  1.59it/s]\u001b[A\n",
      "DDIM Sampler:  55%|█████▌    | 11/20 [00:06<00:05,  1.60it/s]\u001b[A\n",
      "DDIM Sampler:  60%|██████    | 12/20 [00:07<00:05,  1.60it/s]\u001b[A\n",
      "DDIM Sampler:  65%|██████▌   | 13/20 [00:08<00:04,  1.60it/s]\u001b[A\n",
      "DDIM Sampler:  70%|███████   | 14/20 [00:08<00:03,  1.60it/s]\u001b[A\n",
      "DDIM Sampler:  75%|███████▌  | 15/20 [00:09<00:03,  1.60it/s]\u001b[A\n",
      "DDIM Sampler:  80%|████████  | 16/20 [00:10<00:02,  1.60it/s]\u001b[A\n",
      "DDIM Sampler:  85%|████████▌ | 17/20 [00:10<00:01,  1.60it/s]\u001b[A\n",
      "DDIM Sampler:  90%|█████████ | 18/20 [00:11<00:01,  1.60it/s]\u001b[A\n",
      "DDIM Sampler:  95%|█████████▌| 19/20 [00:11<00:00,  1.60it/s]\u001b[A\n",
      "DDIM Sampler: 100%|██████████| 20/20 [00:12<00:00,  1.60it/s]\u001b[A\n",
      "Global seed set to 31808\n"
     ]
    },
    {
     "name": "stdout",
     "output_type": "stream",
     "text": [
      "Data shape for DDIM sampling is (2, 4, 64, 64), eta 0.0\n",
      "Running DDIM Sampling with 20 timesteps\n"
     ]
    },
    {
     "name": "stderr",
     "output_type": "stream",
     "text": [
      "\n",
      "DDIM Sampler:   0%|          | 0/20 [00:00<?, ?it/s]\u001b[A\n",
      "DDIM Sampler:   5%|▌         | 1/20 [00:00<00:11,  1.64it/s]\u001b[A\n",
      "DDIM Sampler:  10%|█         | 2/20 [00:01<00:11,  1.59it/s]\u001b[A\n",
      "DDIM Sampler:  15%|█▌        | 3/20 [00:01<00:10,  1.59it/s]\u001b[A\n",
      "DDIM Sampler:  20%|██        | 4/20 [00:02<00:10,  1.60it/s]\u001b[A\n",
      "DDIM Sampler:  25%|██▌       | 5/20 [00:03<00:09,  1.59it/s]\u001b[A\n",
      "DDIM Sampler:  30%|███       | 6/20 [00:03<00:08,  1.60it/s]\u001b[A\n",
      "DDIM Sampler:  35%|███▌      | 7/20 [00:04<00:08,  1.60it/s]\u001b[A\n",
      "DDIM Sampler:  40%|████      | 8/20 [00:05<00:07,  1.60it/s]\u001b[A\n",
      "DDIM Sampler:  45%|████▌     | 9/20 [00:05<00:06,  1.60it/s]\u001b[A\n",
      "DDIM Sampler:  50%|█████     | 10/20 [00:06<00:06,  1.60it/s]\u001b[A\n",
      "DDIM Sampler:  55%|█████▌    | 11/20 [00:06<00:05,  1.60it/s]\u001b[A\n",
      "DDIM Sampler:  60%|██████    | 12/20 [00:07<00:05,  1.60it/s]\u001b[A\n",
      "DDIM Sampler:  65%|██████▌   | 13/20 [00:08<00:04,  1.60it/s]\u001b[A\n",
      "DDIM Sampler:  70%|███████   | 14/20 [00:08<00:03,  1.60it/s]\u001b[A\n",
      "DDIM Sampler:  75%|███████▌  | 15/20 [00:09<00:03,  1.60it/s]\u001b[A\n",
      "DDIM Sampler:  80%|████████  | 16/20 [00:10<00:02,  1.59it/s]\u001b[A\n",
      "DDIM Sampler:  85%|████████▌ | 17/20 [00:10<00:01,  1.60it/s]\u001b[A\n",
      "DDIM Sampler:  90%|█████████ | 18/20 [00:11<00:01,  1.60it/s]\u001b[A\n",
      "DDIM Sampler:  95%|█████████▌| 19/20 [00:11<00:00,  1.60it/s]\u001b[A\n",
      "DDIM Sampler: 100%|██████████| 20/20 [00:12<00:00,  1.60it/s]\u001b[A\n",
      "Global seed set to 33281\n"
     ]
    },
    {
     "name": "stdout",
     "output_type": "stream",
     "text": [
      "Data shape for DDIM sampling is (2, 4, 64, 72), eta 0.0\n",
      "Running DDIM Sampling with 20 timesteps\n"
     ]
    },
    {
     "name": "stderr",
     "output_type": "stream",
     "text": [
      "\n",
      "DDIM Sampler:   0%|          | 0/20 [00:00<?, ?it/s]\u001b[A\n",
      "DDIM Sampler:   5%|▌         | 1/20 [00:00<00:14,  1.35it/s]\u001b[A\n",
      "DDIM Sampler:  10%|█         | 2/20 [00:01<00:13,  1.33it/s]\u001b[A\n",
      "DDIM Sampler:  15%|█▌        | 3/20 [00:02<00:12,  1.33it/s]\u001b[A\n",
      "DDIM Sampler:  20%|██        | 4/20 [00:03<00:12,  1.33it/s]\u001b[A\n",
      "DDIM Sampler:  25%|██▌       | 5/20 [00:03<00:11,  1.33it/s]\u001b[A\n",
      "DDIM Sampler:  30%|███       | 6/20 [00:04<00:10,  1.33it/s]\u001b[A\n",
      "DDIM Sampler:  35%|███▌      | 7/20 [00:05<00:09,  1.33it/s]\u001b[A\n",
      "DDIM Sampler:  40%|████      | 8/20 [00:06<00:09,  1.33it/s]\u001b[A\n",
      "DDIM Sampler:  45%|████▌     | 9/20 [00:06<00:08,  1.33it/s]\u001b[A\n",
      "DDIM Sampler:  50%|█████     | 10/20 [00:07<00:07,  1.33it/s]\u001b[A\n",
      "DDIM Sampler:  55%|█████▌    | 11/20 [00:08<00:06,  1.33it/s]\u001b[A\n",
      "DDIM Sampler:  60%|██████    | 12/20 [00:09<00:05,  1.33it/s]\u001b[A\n",
      "DDIM Sampler:  65%|██████▌   | 13/20 [00:09<00:05,  1.33it/s]\u001b[A\n",
      "DDIM Sampler:  70%|███████   | 14/20 [00:10<00:04,  1.33it/s]\u001b[A\n",
      "DDIM Sampler:  75%|███████▌  | 15/20 [00:11<00:03,  1.33it/s]\u001b[A\n",
      "DDIM Sampler:  80%|████████  | 16/20 [00:12<00:02,  1.33it/s]\u001b[A\n",
      "DDIM Sampler:  85%|████████▌ | 17/20 [00:12<00:02,  1.33it/s]\u001b[A\n",
      "DDIM Sampler:  90%|█████████ | 18/20 [00:13<00:01,  1.34it/s]\u001b[A\n",
      "DDIM Sampler:  95%|█████████▌| 19/20 [00:14<00:00,  1.33it/s]\u001b[A\n",
      "DDIM Sampler: 100%|██████████| 20/20 [00:14<00:00,  1.33it/s]\u001b[A\n",
      "Global seed set to 9181\n"
     ]
    },
    {
     "name": "stdout",
     "output_type": "stream",
     "text": [
      "Data shape for DDIM sampling is (2, 4, 64, 112), eta 0.0\n",
      "Running DDIM Sampling with 20 timesteps\n"
     ]
    },
    {
     "name": "stderr",
     "output_type": "stream",
     "text": [
      "\n",
      "DDIM Sampler:   0%|          | 0/20 [00:00<?, ?it/s]\u001b[A\n",
      "DDIM Sampler:   5%|▌         | 1/20 [00:01<00:28,  1.51s/it]\u001b[A\n",
      "DDIM Sampler:  10%|█         | 2/20 [00:03<00:27,  1.51s/it]\u001b[A\n",
      "DDIM Sampler:  15%|█▌        | 3/20 [00:04<00:25,  1.51s/it]\u001b[A\n",
      "DDIM Sampler:  20%|██        | 4/20 [00:06<00:24,  1.51s/it]\u001b[A\n",
      "DDIM Sampler:  25%|██▌       | 5/20 [00:07<00:22,  1.51s/it]\u001b[A\n",
      "DDIM Sampler:  30%|███       | 6/20 [00:09<00:21,  1.51s/it]\u001b[A\n",
      "DDIM Sampler:  35%|███▌      | 7/20 [00:10<00:19,  1.51s/it]\u001b[A\n",
      "DDIM Sampler:  40%|████      | 8/20 [00:12<00:18,  1.51s/it]\u001b[A\n",
      "DDIM Sampler:  45%|████▌     | 9/20 [00:13<00:16,  1.51s/it]\u001b[A\n",
      "DDIM Sampler:  50%|█████     | 10/20 [00:15<00:15,  1.51s/it]\u001b[A\n",
      "DDIM Sampler:  55%|█████▌    | 11/20 [00:16<00:13,  1.51s/it]\u001b[A\n",
      "DDIM Sampler:  60%|██████    | 12/20 [00:18<00:12,  1.51s/it]\u001b[A\n",
      "DDIM Sampler:  65%|██████▌   | 13/20 [00:19<00:10,  1.51s/it]\u001b[A\n",
      "DDIM Sampler:  70%|███████   | 14/20 [00:21<00:09,  1.51s/it]\u001b[A\n",
      "DDIM Sampler:  75%|███████▌  | 15/20 [00:22<00:07,  1.51s/it]\u001b[A\n",
      "DDIM Sampler:  80%|████████  | 16/20 [00:24<00:06,  1.51s/it]\u001b[A\n",
      "DDIM Sampler:  85%|████████▌ | 17/20 [00:25<00:04,  1.51s/it]\u001b[A\n",
      "DDIM Sampler:  90%|█████████ | 18/20 [00:27<00:03,  1.51s/it]\u001b[A\n",
      "DDIM Sampler:  95%|█████████▌| 19/20 [00:28<00:01,  1.51s/it]\u001b[A\n",
      "DDIM Sampler: 100%|██████████| 20/20 [00:30<00:00,  1.51s/it]\u001b[A\n",
      "Global seed set to 64188\n"
     ]
    },
    {
     "name": "stdout",
     "output_type": "stream",
     "text": [
      "Data shape for DDIM sampling is (2, 4, 64, 96), eta 0.0\n",
      "Running DDIM Sampling with 20 timesteps\n"
     ]
    },
    {
     "name": "stderr",
     "output_type": "stream",
     "text": [
      "\n",
      "DDIM Sampler:   0%|          | 0/20 [00:00<?, ?it/s]\u001b[A\n",
      "DDIM Sampler:   5%|▌         | 1/20 [00:01<00:22,  1.17s/it]\u001b[A\n",
      "DDIM Sampler:  10%|█         | 2/20 [00:02<00:20,  1.16s/it]\u001b[A\n",
      "DDIM Sampler:  15%|█▌        | 3/20 [00:03<00:19,  1.16s/it]\u001b[A\n",
      "DDIM Sampler:  20%|██        | 4/20 [00:04<00:18,  1.16s/it]\u001b[A\n",
      "DDIM Sampler:  25%|██▌       | 5/20 [00:05<00:17,  1.16s/it]\u001b[A\n",
      "DDIM Sampler:  30%|███       | 6/20 [00:06<00:16,  1.16s/it]\u001b[A\n",
      "DDIM Sampler:  35%|███▌      | 7/20 [00:08<00:15,  1.16s/it]\u001b[A\n",
      "DDIM Sampler:  40%|████      | 8/20 [00:09<00:13,  1.16s/it]\u001b[A\n",
      "DDIM Sampler:  45%|████▌     | 9/20 [00:10<00:12,  1.16s/it]\u001b[A\n",
      "DDIM Sampler:  50%|█████     | 10/20 [00:11<00:11,  1.16s/it]\u001b[A\n",
      "DDIM Sampler:  55%|█████▌    | 11/20 [00:12<00:10,  1.16s/it]\u001b[A\n",
      "DDIM Sampler:  60%|██████    | 12/20 [00:13<00:09,  1.16s/it]\u001b[A\n",
      "DDIM Sampler:  65%|██████▌   | 13/20 [00:15<00:08,  1.16s/it]\u001b[A\n",
      "DDIM Sampler:  70%|███████   | 14/20 [00:16<00:06,  1.16s/it]\u001b[A\n",
      "DDIM Sampler:  75%|███████▌  | 15/20 [00:17<00:05,  1.16s/it]\u001b[A\n",
      "DDIM Sampler:  80%|████████  | 16/20 [00:18<00:04,  1.16s/it]\u001b[A\n",
      "DDIM Sampler:  85%|████████▌ | 17/20 [00:19<00:03,  1.16s/it]\u001b[A\n",
      "DDIM Sampler:  90%|█████████ | 18/20 [00:20<00:02,  1.16s/it]\u001b[A\n",
      "DDIM Sampler:  95%|█████████▌| 19/20 [00:22<00:01,  1.16s/it]\u001b[A\n",
      "DDIM Sampler: 100%|██████████| 20/20 [00:23<00:00,  1.16s/it]\u001b[A\n",
      "Global seed set to 10533\n"
     ]
    },
    {
     "name": "stdout",
     "output_type": "stream",
     "text": [
      "Data shape for DDIM sampling is (2, 4, 64, 64), eta 0.0\n",
      "Running DDIM Sampling with 20 timesteps\n"
     ]
    },
    {
     "name": "stderr",
     "output_type": "stream",
     "text": [
      "\n",
      "DDIM Sampler:   0%|          | 0/20 [00:00<?, ?it/s]\u001b[A\n",
      "DDIM Sampler:   5%|▌         | 1/20 [00:00<00:11,  1.63it/s]\u001b[A\n",
      "DDIM Sampler:  10%|█         | 2/20 [00:01<00:11,  1.59it/s]\u001b[A\n",
      "DDIM Sampler:  15%|█▌        | 3/20 [00:01<00:10,  1.59it/s]\u001b[A\n",
      "DDIM Sampler:  20%|██        | 4/20 [00:02<00:10,  1.60it/s]\u001b[A\n",
      "DDIM Sampler:  25%|██▌       | 5/20 [00:03<00:09,  1.59it/s]\u001b[A\n",
      "DDIM Sampler:  30%|███       | 6/20 [00:03<00:08,  1.60it/s]\u001b[A\n",
      "DDIM Sampler:  35%|███▌      | 7/20 [00:04<00:08,  1.60it/s]\u001b[A\n",
      "DDIM Sampler:  40%|████      | 8/20 [00:05<00:07,  1.60it/s]\u001b[A\n",
      "DDIM Sampler:  45%|████▌     | 9/20 [00:05<00:06,  1.60it/s]\u001b[A\n",
      "DDIM Sampler:  50%|█████     | 10/20 [00:06<00:06,  1.60it/s]\u001b[A\n",
      "DDIM Sampler:  55%|█████▌    | 11/20 [00:06<00:05,  1.60it/s]\u001b[A\n",
      "DDIM Sampler:  60%|██████    | 12/20 [00:07<00:05,  1.60it/s]\u001b[A\n",
      "DDIM Sampler:  65%|██████▌   | 13/20 [00:08<00:04,  1.60it/s]\u001b[A\n",
      "DDIM Sampler:  70%|███████   | 14/20 [00:08<00:03,  1.60it/s]\u001b[A\n",
      "DDIM Sampler:  75%|███████▌  | 15/20 [00:09<00:03,  1.60it/s]\u001b[A\n",
      "DDIM Sampler:  80%|████████  | 16/20 [00:10<00:02,  1.60it/s]\u001b[A\n",
      "DDIM Sampler:  85%|████████▌ | 17/20 [00:10<00:01,  1.59it/s]\u001b[A\n",
      "DDIM Sampler:  90%|█████████ | 18/20 [00:11<00:01,  1.60it/s]\u001b[A\n",
      "DDIM Sampler:  95%|█████████▌| 19/20 [00:11<00:00,  1.60it/s]\u001b[A\n",
      "DDIM Sampler: 100%|██████████| 20/20 [00:12<00:00,  1.60it/s]\u001b[A\n",
      "Global seed set to 31808\n"
     ]
    },
    {
     "name": "stdout",
     "output_type": "stream",
     "text": [
      "Data shape for DDIM sampling is (2, 4, 64, 64), eta 0.0\n",
      "Running DDIM Sampling with 20 timesteps\n"
     ]
    },
    {
     "name": "stderr",
     "output_type": "stream",
     "text": [
      "\n",
      "DDIM Sampler:   0%|          | 0/20 [00:00<?, ?it/s]\u001b[A\n",
      "DDIM Sampler:   5%|▌         | 1/20 [00:00<00:11,  1.63it/s]\u001b[A\n",
      "DDIM Sampler:  10%|█         | 2/20 [00:01<00:11,  1.59it/s]\u001b[A\n",
      "DDIM Sampler:  15%|█▌        | 3/20 [00:01<00:10,  1.60it/s]\u001b[A\n",
      "DDIM Sampler:  20%|██        | 4/20 [00:02<00:09,  1.60it/s]\u001b[A\n",
      "DDIM Sampler:  25%|██▌       | 5/20 [00:03<00:09,  1.60it/s]\u001b[A\n",
      "DDIM Sampler:  30%|███       | 6/20 [00:03<00:08,  1.60it/s]\u001b[A\n",
      "DDIM Sampler:  35%|███▌      | 7/20 [00:04<00:08,  1.60it/s]\u001b[A\n",
      "DDIM Sampler:  40%|████      | 8/20 [00:05<00:07,  1.60it/s]\u001b[A\n",
      "DDIM Sampler:  45%|████▌     | 9/20 [00:05<00:06,  1.60it/s]\u001b[A\n",
      "DDIM Sampler:  50%|█████     | 10/20 [00:06<00:06,  1.60it/s]\u001b[A\n",
      "DDIM Sampler:  55%|█████▌    | 11/20 [00:06<00:05,  1.60it/s]\u001b[A\n",
      "DDIM Sampler:  60%|██████    | 12/20 [00:07<00:05,  1.60it/s]\u001b[A\n",
      "DDIM Sampler:  65%|██████▌   | 13/20 [00:08<00:04,  1.60it/s]\u001b[A\n",
      "DDIM Sampler:  70%|███████   | 14/20 [00:08<00:03,  1.60it/s]\u001b[A\n",
      "DDIM Sampler:  75%|███████▌  | 15/20 [00:09<00:03,  1.60it/s]\u001b[A\n",
      "DDIM Sampler:  80%|████████  | 16/20 [00:10<00:02,  1.60it/s]\u001b[A\n",
      "DDIM Sampler:  85%|████████▌ | 17/20 [00:10<00:01,  1.60it/s]\u001b[A\n",
      "DDIM Sampler:  90%|█████████ | 18/20 [00:11<00:01,  1.59it/s]\u001b[A\n",
      "DDIM Sampler:  95%|█████████▌| 19/20 [00:11<00:00,  1.59it/s]\u001b[A\n",
      "DDIM Sampler: 100%|██████████| 20/20 [00:12<00:00,  1.60it/s]\u001b[A\n",
      "Global seed set to 33281\n"
     ]
    },
    {
     "name": "stdout",
     "output_type": "stream",
     "text": [
      "Data shape for DDIM sampling is (2, 4, 64, 64), eta 0.0\n",
      "Running DDIM Sampling with 20 timesteps\n"
     ]
    },
    {
     "name": "stderr",
     "output_type": "stream",
     "text": [
      "\n",
      "DDIM Sampler:   0%|          | 0/20 [00:00<?, ?it/s]\u001b[A\n",
      "DDIM Sampler:   5%|▌         | 1/20 [00:00<00:11,  1.63it/s]\u001b[A\n",
      "DDIM Sampler:  10%|█         | 2/20 [00:01<00:11,  1.60it/s]\u001b[A\n",
      "DDIM Sampler:  15%|█▌        | 3/20 [00:01<00:10,  1.60it/s]\u001b[A\n",
      "DDIM Sampler:  20%|██        | 4/20 [00:02<00:09,  1.60it/s]\u001b[A\n",
      "DDIM Sampler:  25%|██▌       | 5/20 [00:03<00:09,  1.60it/s]\u001b[A\n",
      "DDIM Sampler:  30%|███       | 6/20 [00:03<00:08,  1.60it/s]\u001b[A\n",
      "DDIM Sampler:  35%|███▌      | 7/20 [00:04<00:08,  1.60it/s]\u001b[A\n",
      "DDIM Sampler:  40%|████      | 8/20 [00:04<00:07,  1.60it/s]\u001b[A\n",
      "DDIM Sampler:  45%|████▌     | 9/20 [00:05<00:06,  1.60it/s]\u001b[A\n",
      "DDIM Sampler:  50%|█████     | 10/20 [00:06<00:06,  1.60it/s]\u001b[A\n",
      "DDIM Sampler:  55%|█████▌    | 11/20 [00:06<00:05,  1.60it/s]\u001b[A\n",
      "DDIM Sampler:  60%|██████    | 12/20 [00:07<00:05,  1.60it/s]\u001b[A\n",
      "DDIM Sampler:  65%|██████▌   | 13/20 [00:08<00:04,  1.60it/s]\u001b[A\n",
      "DDIM Sampler:  70%|███████   | 14/20 [00:08<00:03,  1.60it/s]\u001b[A\n",
      "DDIM Sampler:  75%|███████▌  | 15/20 [00:09<00:03,  1.60it/s]\u001b[A\n",
      "DDIM Sampler:  80%|████████  | 16/20 [00:10<00:02,  1.60it/s]\u001b[A\n",
      "DDIM Sampler:  85%|████████▌ | 17/20 [00:10<00:01,  1.60it/s]\u001b[A\n",
      "DDIM Sampler:  90%|█████████ | 18/20 [00:11<00:01,  1.60it/s]\u001b[A\n",
      "DDIM Sampler:  95%|█████████▌| 19/20 [00:11<00:00,  1.59it/s]\u001b[A\n",
      "DDIM Sampler: 100%|██████████| 20/20 [00:12<00:00,  1.60it/s]\u001b[A\n",
      "Global seed set to 9181\n"
     ]
    },
    {
     "name": "stdout",
     "output_type": "stream",
     "text": [
      "Data shape for DDIM sampling is (2, 4, 64, 64), eta 0.0\n",
      "Running DDIM Sampling with 20 timesteps\n"
     ]
    },
    {
     "name": "stderr",
     "output_type": "stream",
     "text": [
      "\n",
      "DDIM Sampler:   0%|          | 0/20 [00:00<?, ?it/s]\u001b[A\n",
      "DDIM Sampler:   5%|▌         | 1/20 [00:00<00:11,  1.63it/s]\u001b[A\n",
      "DDIM Sampler:  10%|█         | 2/20 [00:01<00:11,  1.60it/s]\u001b[A\n",
      "DDIM Sampler:  15%|█▌        | 3/20 [00:01<00:10,  1.60it/s]\u001b[A\n",
      "DDIM Sampler:  20%|██        | 4/20 [00:02<00:09,  1.60it/s]\u001b[A\n",
      "DDIM Sampler:  25%|██▌       | 5/20 [00:03<00:09,  1.60it/s]\u001b[A\n",
      "DDIM Sampler:  30%|███       | 6/20 [00:03<00:08,  1.60it/s]\u001b[A\n",
      "DDIM Sampler:  35%|███▌      | 7/20 [00:04<00:08,  1.60it/s]\u001b[A\n",
      "DDIM Sampler:  40%|████      | 8/20 [00:04<00:07,  1.60it/s]\u001b[A\n",
      "DDIM Sampler:  45%|████▌     | 9/20 [00:05<00:06,  1.60it/s]\u001b[A\n",
      "DDIM Sampler:  50%|█████     | 10/20 [00:06<00:06,  1.60it/s]\u001b[A\n",
      "DDIM Sampler:  55%|█████▌    | 11/20 [00:06<00:05,  1.60it/s]\u001b[A\n",
      "DDIM Sampler:  60%|██████    | 12/20 [00:07<00:04,  1.60it/s]\u001b[A\n",
      "DDIM Sampler:  65%|██████▌   | 13/20 [00:08<00:04,  1.60it/s]\u001b[A\n",
      "DDIM Sampler:  70%|███████   | 14/20 [00:08<00:03,  1.60it/s]\u001b[A\n",
      "DDIM Sampler:  75%|███████▌  | 15/20 [00:09<00:03,  1.60it/s]\u001b[A\n",
      "DDIM Sampler:  80%|████████  | 16/20 [00:10<00:02,  1.60it/s]\u001b[A\n",
      "DDIM Sampler:  85%|████████▌ | 17/20 [00:10<00:01,  1.60it/s]\u001b[A\n",
      "DDIM Sampler:  90%|█████████ | 18/20 [00:11<00:01,  1.60it/s]\u001b[A\n",
      "DDIM Sampler:  95%|█████████▌| 19/20 [00:11<00:00,  1.60it/s]\u001b[A\n",
      "DDIM Sampler: 100%|██████████| 20/20 [00:12<00:00,  1.60it/s]\u001b[A\n",
      "Global seed set to 64188\n"
     ]
    },
    {
     "name": "stdout",
     "output_type": "stream",
     "text": [
      "Data shape for DDIM sampling is (2, 4, 64, 64), eta 0.0\n",
      "Running DDIM Sampling with 20 timesteps\n"
     ]
    },
    {
     "name": "stderr",
     "output_type": "stream",
     "text": [
      "\n",
      "DDIM Sampler:   0%|          | 0/20 [00:00<?, ?it/s]\u001b[A\n",
      "DDIM Sampler:   5%|▌         | 1/20 [00:00<00:11,  1.63it/s]\u001b[A\n",
      "DDIM Sampler:  10%|█         | 2/20 [00:01<00:11,  1.60it/s]\u001b[A\n",
      "DDIM Sampler:  15%|█▌        | 3/20 [00:01<00:10,  1.60it/s]\u001b[A\n",
      "DDIM Sampler:  20%|██        | 4/20 [00:02<00:09,  1.60it/s]\u001b[A\n",
      "DDIM Sampler:  25%|██▌       | 5/20 [00:03<00:09,  1.60it/s]\u001b[A\n",
      "DDIM Sampler:  30%|███       | 6/20 [00:03<00:08,  1.60it/s]\u001b[A\n",
      "DDIM Sampler:  35%|███▌      | 7/20 [00:04<00:08,  1.60it/s]\u001b[A\n",
      "DDIM Sampler:  40%|████      | 8/20 [00:05<00:07,  1.60it/s]\u001b[A\n",
      "DDIM Sampler:  45%|████▌     | 9/20 [00:05<00:06,  1.60it/s]\u001b[A\n",
      "DDIM Sampler:  50%|█████     | 10/20 [00:06<00:06,  1.60it/s]\u001b[A\n",
      "DDIM Sampler:  55%|█████▌    | 11/20 [00:06<00:05,  1.60it/s]\u001b[A\n",
      "DDIM Sampler:  60%|██████    | 12/20 [00:07<00:05,  1.60it/s]\u001b[A\n",
      "DDIM Sampler:  65%|██████▌   | 13/20 [00:08<00:04,  1.60it/s]\u001b[A\n",
      "DDIM Sampler:  70%|███████   | 14/20 [00:08<00:03,  1.60it/s]\u001b[A\n",
      "DDIM Sampler:  75%|███████▌  | 15/20 [00:09<00:03,  1.60it/s]\u001b[A\n",
      "DDIM Sampler:  80%|████████  | 16/20 [00:10<00:02,  1.60it/s]\u001b[A\n",
      "DDIM Sampler:  85%|████████▌ | 17/20 [00:10<00:01,  1.60it/s]\u001b[A\n",
      "DDIM Sampler:  90%|█████████ | 18/20 [00:11<00:01,  1.60it/s]\u001b[A\n",
      "DDIM Sampler:  95%|█████████▌| 19/20 [00:11<00:00,  1.60it/s]\u001b[A\n",
      "DDIM Sampler: 100%|██████████| 20/20 [00:12<00:00,  1.60it/s]\u001b[A\n",
      "Global seed set to 10533\n"
     ]
    },
    {
     "name": "stdout",
     "output_type": "stream",
     "text": [
      "Data shape for DDIM sampling is (2, 4, 64, 64), eta 0.0\n",
      "Running DDIM Sampling with 20 timesteps\n"
     ]
    },
    {
     "name": "stderr",
     "output_type": "stream",
     "text": [
      "\n",
      "DDIM Sampler:   0%|          | 0/20 [00:00<?, ?it/s]\u001b[A\n",
      "DDIM Sampler:   5%|▌         | 1/20 [00:00<00:11,  1.63it/s]\u001b[A\n",
      "DDIM Sampler:  10%|█         | 2/20 [00:01<00:11,  1.59it/s]\u001b[A\n",
      "DDIM Sampler:  15%|█▌        | 3/20 [00:01<00:10,  1.59it/s]\u001b[A\n",
      "DDIM Sampler:  20%|██        | 4/20 [00:02<00:10,  1.59it/s]\u001b[A\n",
      "DDIM Sampler:  25%|██▌       | 5/20 [00:03<00:09,  1.59it/s]\u001b[A\n",
      "DDIM Sampler:  30%|███       | 6/20 [00:03<00:08,  1.60it/s]\u001b[A\n",
      "DDIM Sampler:  35%|███▌      | 7/20 [00:04<00:08,  1.59it/s]\u001b[A\n",
      "DDIM Sampler:  40%|████      | 8/20 [00:05<00:07,  1.60it/s]\u001b[A\n",
      "DDIM Sampler:  45%|████▌     | 9/20 [00:05<00:06,  1.60it/s]\u001b[A\n",
      "DDIM Sampler:  50%|█████     | 10/20 [00:06<00:06,  1.59it/s]\u001b[A\n",
      "DDIM Sampler:  55%|█████▌    | 11/20 [00:06<00:05,  1.60it/s]\u001b[A\n",
      "DDIM Sampler:  60%|██████    | 12/20 [00:07<00:05,  1.60it/s]\u001b[A\n",
      "DDIM Sampler:  65%|██████▌   | 13/20 [00:08<00:04,  1.59it/s]\u001b[A\n",
      "DDIM Sampler:  70%|███████   | 14/20 [00:08<00:03,  1.60it/s]\u001b[A\n",
      "DDIM Sampler:  75%|███████▌  | 15/20 [00:09<00:03,  1.60it/s]\u001b[A\n",
      "DDIM Sampler:  80%|████████  | 16/20 [00:10<00:02,  1.60it/s]\u001b[A\n",
      "DDIM Sampler:  85%|████████▌ | 17/20 [00:10<00:01,  1.60it/s]\u001b[A\n",
      "DDIM Sampler:  90%|█████████ | 18/20 [00:11<00:01,  1.60it/s]\u001b[A\n",
      "DDIM Sampler:  95%|█████████▌| 19/20 [00:11<00:00,  1.59it/s]\u001b[A\n",
      "DDIM Sampler: 100%|██████████| 20/20 [00:12<00:00,  1.60it/s]\u001b[A\n",
      "Global seed set to 31808\n"
     ]
    },
    {
     "name": "stdout",
     "output_type": "stream",
     "text": [
      "Data shape for DDIM sampling is (2, 4, 64, 64), eta 0.0\n",
      "Running DDIM Sampling with 20 timesteps\n"
     ]
    },
    {
     "name": "stderr",
     "output_type": "stream",
     "text": [
      "\n",
      "DDIM Sampler:   0%|          | 0/20 [00:00<?, ?it/s]\u001b[A\n",
      "DDIM Sampler:   5%|▌         | 1/20 [00:00<00:11,  1.63it/s]\u001b[A\n",
      "DDIM Sampler:  10%|█         | 2/20 [00:01<00:11,  1.59it/s]\u001b[A\n",
      "DDIM Sampler:  15%|█▌        | 3/20 [00:01<00:10,  1.60it/s]\u001b[A\n",
      "DDIM Sampler:  20%|██        | 4/20 [00:02<00:10,  1.60it/s]\u001b[A\n",
      "DDIM Sampler:  25%|██▌       | 5/20 [00:03<00:09,  1.60it/s]\u001b[A\n",
      "DDIM Sampler:  30%|███       | 6/20 [00:03<00:08,  1.60it/s]\u001b[A\n",
      "DDIM Sampler:  35%|███▌      | 7/20 [00:04<00:08,  1.60it/s]\u001b[A\n",
      "DDIM Sampler:  40%|████      | 8/20 [00:05<00:07,  1.60it/s]\u001b[A\n",
      "DDIM Sampler:  45%|████▌     | 9/20 [00:05<00:06,  1.60it/s]\u001b[A\n",
      "DDIM Sampler:  50%|█████     | 10/20 [00:06<00:06,  1.60it/s]\u001b[A\n",
      "DDIM Sampler:  55%|█████▌    | 11/20 [00:06<00:05,  1.60it/s]\u001b[A\n",
      "DDIM Sampler:  60%|██████    | 12/20 [00:07<00:05,  1.60it/s]\u001b[A\n",
      "DDIM Sampler:  65%|██████▌   | 13/20 [00:08<00:04,  1.60it/s]\u001b[A\n",
      "DDIM Sampler:  70%|███████   | 14/20 [00:08<00:03,  1.60it/s]\u001b[A\n",
      "DDIM Sampler:  75%|███████▌  | 15/20 [00:09<00:03,  1.60it/s]\u001b[A\n",
      "DDIM Sampler:  80%|████████  | 16/20 [00:10<00:02,  1.60it/s]\u001b[A\n",
      "DDIM Sampler:  85%|████████▌ | 17/20 [00:10<00:01,  1.60it/s]\u001b[A\n",
      "DDIM Sampler:  90%|█████████ | 18/20 [00:11<00:01,  1.60it/s]\u001b[A\n",
      "DDIM Sampler:  95%|█████████▌| 19/20 [00:11<00:00,  1.60it/s]\u001b[A\n",
      "DDIM Sampler: 100%|██████████| 20/20 [00:12<00:00,  1.60it/s]\u001b[A\n",
      "Global seed set to 33281\n"
     ]
    },
    {
     "name": "stdout",
     "output_type": "stream",
     "text": [
      "Data shape for DDIM sampling is (2, 4, 72, 64), eta 0.0\n",
      "Running DDIM Sampling with 20 timesteps\n"
     ]
    },
    {
     "name": "stderr",
     "output_type": "stream",
     "text": [
      "\n",
      "DDIM Sampler:   0%|          | 0/20 [00:00<?, ?it/s]\u001b[A\n",
      "DDIM Sampler:   5%|▌         | 1/20 [00:00<00:13,  1.37it/s]\u001b[A\n",
      "DDIM Sampler:  10%|█         | 2/20 [00:01<00:13,  1.34it/s]\u001b[A\n",
      "DDIM Sampler:  15%|█▌        | 3/20 [00:02<00:12,  1.34it/s]\u001b[A\n",
      "DDIM Sampler:  20%|██        | 4/20 [00:02<00:11,  1.34it/s]\u001b[A\n",
      "DDIM Sampler:  25%|██▌       | 5/20 [00:03<00:11,  1.34it/s]\u001b[A\n",
      "DDIM Sampler:  30%|███       | 6/20 [00:04<00:10,  1.34it/s]\u001b[A\n",
      "DDIM Sampler:  35%|███▌      | 7/20 [00:05<00:09,  1.34it/s]\u001b[A\n",
      "DDIM Sampler:  40%|████      | 8/20 [00:05<00:08,  1.34it/s]\u001b[A\n",
      "DDIM Sampler:  45%|████▌     | 9/20 [00:06<00:08,  1.34it/s]\u001b[A\n",
      "DDIM Sampler:  50%|█████     | 10/20 [00:07<00:07,  1.34it/s]\u001b[A\n",
      "DDIM Sampler:  55%|█████▌    | 11/20 [00:08<00:06,  1.34it/s]\u001b[A\n",
      "DDIM Sampler:  60%|██████    | 12/20 [00:08<00:05,  1.34it/s]\u001b[A\n",
      "DDIM Sampler:  65%|██████▌   | 13/20 [00:09<00:05,  1.34it/s]\u001b[A\n",
      "DDIM Sampler:  70%|███████   | 14/20 [00:10<00:04,  1.34it/s]\u001b[A\n",
      "DDIM Sampler:  75%|███████▌  | 15/20 [00:11<00:03,  1.34it/s]\u001b[A\n",
      "DDIM Sampler:  80%|████████  | 16/20 [00:11<00:02,  1.34it/s]\u001b[A\n",
      "DDIM Sampler:  85%|████████▌ | 17/20 [00:12<00:02,  1.34it/s]\u001b[A\n",
      "DDIM Sampler:  90%|█████████ | 18/20 [00:13<00:01,  1.34it/s]\u001b[A\n",
      "DDIM Sampler:  95%|█████████▌| 19/20 [00:14<00:00,  1.34it/s]\u001b[A\n",
      "DDIM Sampler: 100%|██████████| 20/20 [00:14<00:00,  1.34it/s]\u001b[A\n",
      "Global seed set to 9181\n"
     ]
    },
    {
     "name": "stdout",
     "output_type": "stream",
     "text": [
      "Data shape for DDIM sampling is (2, 4, 64, 64), eta 0.0\n",
      "Running DDIM Sampling with 20 timesteps\n"
     ]
    },
    {
     "name": "stderr",
     "output_type": "stream",
     "text": [
      "\n",
      "DDIM Sampler:   0%|          | 0/20 [00:00<?, ?it/s]\u001b[A\n",
      "DDIM Sampler:   5%|▌         | 1/20 [00:00<00:11,  1.63it/s]\u001b[A\n",
      "DDIM Sampler:  10%|█         | 2/20 [00:01<00:11,  1.59it/s]\u001b[A\n",
      "DDIM Sampler:  15%|█▌        | 3/20 [00:01<00:10,  1.59it/s]\u001b[A\n",
      "DDIM Sampler:  20%|██        | 4/20 [00:02<00:10,  1.60it/s]\u001b[A\n",
      "DDIM Sampler:  25%|██▌       | 5/20 [00:03<00:09,  1.60it/s]\u001b[A\n",
      "DDIM Sampler:  30%|███       | 6/20 [00:03<00:08,  1.60it/s]\u001b[A\n",
      "DDIM Sampler:  35%|███▌      | 7/20 [00:04<00:08,  1.60it/s]\u001b[A\n",
      "DDIM Sampler:  40%|████      | 8/20 [00:05<00:07,  1.60it/s]\u001b[A\n",
      "DDIM Sampler:  45%|████▌     | 9/20 [00:05<00:06,  1.60it/s]\u001b[A\n",
      "DDIM Sampler:  50%|█████     | 10/20 [00:06<00:06,  1.60it/s]\u001b[A\n",
      "DDIM Sampler:  55%|█████▌    | 11/20 [00:06<00:05,  1.60it/s]\u001b[A\n",
      "DDIM Sampler:  60%|██████    | 12/20 [00:07<00:05,  1.60it/s]\u001b[A\n",
      "DDIM Sampler:  65%|██████▌   | 13/20 [00:08<00:04,  1.60it/s]\u001b[A\n",
      "DDIM Sampler:  70%|███████   | 14/20 [00:08<00:03,  1.60it/s]\u001b[A\n",
      "DDIM Sampler:  75%|███████▌  | 15/20 [00:09<00:03,  1.60it/s]\u001b[A\n",
      "DDIM Sampler:  80%|████████  | 16/20 [00:10<00:02,  1.60it/s]\u001b[A\n",
      "DDIM Sampler:  85%|████████▌ | 17/20 [00:10<00:01,  1.60it/s]\u001b[A\n",
      "DDIM Sampler:  90%|█████████ | 18/20 [00:11<00:01,  1.60it/s]\u001b[A\n",
      "DDIM Sampler:  95%|█████████▌| 19/20 [00:11<00:00,  1.60it/s]\u001b[A\n",
      "DDIM Sampler: 100%|██████████| 20/20 [00:12<00:00,  1.60it/s]\u001b[A\n",
      "Global seed set to 64188\n"
     ]
    },
    {
     "name": "stdout",
     "output_type": "stream",
     "text": [
      "Data shape for DDIM sampling is (2, 4, 64, 96), eta 0.0\n",
      "Running DDIM Sampling with 20 timesteps\n"
     ]
    },
    {
     "name": "stderr",
     "output_type": "stream",
     "text": [
      "\n",
      "DDIM Sampler:   0%|          | 0/20 [00:00<?, ?it/s]\u001b[A\n",
      "DDIM Sampler:   5%|▌         | 1/20 [00:01<00:22,  1.17s/it]\u001b[A\n",
      "DDIM Sampler:  10%|█         | 2/20 [00:02<00:21,  1.17s/it]\u001b[A\n",
      "DDIM Sampler:  15%|█▌        | 3/20 [00:03<00:19,  1.16s/it]\u001b[A\n",
      "DDIM Sampler:  20%|██        | 4/20 [00:04<00:18,  1.16s/it]\u001b[A\n",
      "DDIM Sampler:  25%|██▌       | 5/20 [00:05<00:17,  1.16s/it]\u001b[A\n",
      "DDIM Sampler:  30%|███       | 6/20 [00:06<00:16,  1.16s/it]\u001b[A\n",
      "DDIM Sampler:  35%|███▌      | 7/20 [00:08<00:15,  1.16s/it]\u001b[A\n",
      "DDIM Sampler:  40%|████      | 8/20 [00:09<00:13,  1.16s/it]\u001b[A\n",
      "DDIM Sampler:  45%|████▌     | 9/20 [00:10<00:12,  1.16s/it]\u001b[A\n",
      "DDIM Sampler:  50%|█████     | 10/20 [00:11<00:11,  1.16s/it]\u001b[A\n",
      "DDIM Sampler:  55%|█████▌    | 11/20 [00:12<00:10,  1.16s/it]\u001b[A\n",
      "DDIM Sampler:  60%|██████    | 12/20 [00:13<00:09,  1.16s/it]\u001b[A\n",
      "DDIM Sampler:  65%|██████▌   | 13/20 [00:15<00:08,  1.16s/it]\u001b[A\n",
      "DDIM Sampler:  70%|███████   | 14/20 [00:16<00:06,  1.16s/it]\u001b[A\n",
      "DDIM Sampler:  75%|███████▌  | 15/20 [00:17<00:05,  1.16s/it]\u001b[A\n",
      "DDIM Sampler:  80%|████████  | 16/20 [00:18<00:04,  1.16s/it]\u001b[A\n",
      "DDIM Sampler:  85%|████████▌ | 17/20 [00:19<00:03,  1.16s/it]\u001b[A\n",
      "DDIM Sampler:  90%|█████████ | 18/20 [00:20<00:02,  1.16s/it]\u001b[A\n",
      "DDIM Sampler:  95%|█████████▌| 19/20 [00:22<00:01,  1.16s/it]\u001b[A\n",
      "DDIM Sampler: 100%|██████████| 20/20 [00:23<00:00,  1.16s/it]\u001b[A\n",
      "Global seed set to 10533\n"
     ]
    },
    {
     "name": "stdout",
     "output_type": "stream",
     "text": [
      "Data shape for DDIM sampling is (2, 4, 64, 64), eta 0.0\n",
      "Running DDIM Sampling with 20 timesteps\n"
     ]
    },
    {
     "name": "stderr",
     "output_type": "stream",
     "text": [
      "\n",
      "DDIM Sampler:   0%|          | 0/20 [00:00<?, ?it/s]\u001b[A\n",
      "DDIM Sampler:   5%|▌         | 1/20 [00:00<00:11,  1.63it/s]\u001b[A\n",
      "DDIM Sampler:  10%|█         | 2/20 [00:01<00:11,  1.59it/s]\u001b[A\n",
      "DDIM Sampler:  15%|█▌        | 3/20 [00:01<00:10,  1.60it/s]\u001b[A\n",
      "DDIM Sampler:  20%|██        | 4/20 [00:02<00:10,  1.60it/s]\u001b[A\n",
      "DDIM Sampler:  25%|██▌       | 5/20 [00:03<00:09,  1.60it/s]\u001b[A\n",
      "DDIM Sampler:  30%|███       | 6/20 [00:03<00:08,  1.60it/s]\u001b[A\n",
      "DDIM Sampler:  35%|███▌      | 7/20 [00:04<00:08,  1.60it/s]\u001b[A\n",
      "DDIM Sampler:  40%|████      | 8/20 [00:05<00:07,  1.60it/s]\u001b[A\n",
      "DDIM Sampler:  45%|████▌     | 9/20 [00:05<00:06,  1.60it/s]\u001b[A\n",
      "DDIM Sampler:  50%|█████     | 10/20 [00:06<00:06,  1.60it/s]\u001b[A\n",
      "DDIM Sampler:  55%|█████▌    | 11/20 [00:06<00:05,  1.60it/s]\u001b[A\n",
      "DDIM Sampler:  60%|██████    | 12/20 [00:07<00:05,  1.60it/s]\u001b[A\n",
      "DDIM Sampler:  65%|██████▌   | 13/20 [00:08<00:04,  1.59it/s]\u001b[A\n",
      "DDIM Sampler:  70%|███████   | 14/20 [00:08<00:03,  1.59it/s]\u001b[A\n",
      "DDIM Sampler:  75%|███████▌  | 15/20 [00:09<00:03,  1.60it/s]\u001b[A\n",
      "DDIM Sampler:  80%|████████  | 16/20 [00:10<00:02,  1.60it/s]\u001b[A\n",
      "DDIM Sampler:  85%|████████▌ | 17/20 [00:10<00:01,  1.60it/s]\u001b[A\n",
      "DDIM Sampler:  90%|█████████ | 18/20 [00:11<00:01,  1.60it/s]\u001b[A\n",
      "DDIM Sampler:  95%|█████████▌| 19/20 [00:11<00:00,  1.59it/s]\u001b[A\n",
      "DDIM Sampler: 100%|██████████| 20/20 [00:12<00:00,  1.60it/s]\u001b[A\n",
      "Global seed set to 31808\n"
     ]
    },
    {
     "name": "stdout",
     "output_type": "stream",
     "text": [
      "Data shape for DDIM sampling is (2, 4, 64, 64), eta 0.0\n",
      "Running DDIM Sampling with 20 timesteps\n"
     ]
    },
    {
     "name": "stderr",
     "output_type": "stream",
     "text": [
      "\n",
      "DDIM Sampler:   0%|          | 0/20 [00:00<?, ?it/s]\u001b[A\n",
      "DDIM Sampler:   5%|▌         | 1/20 [00:00<00:11,  1.63it/s]\u001b[A\n",
      "DDIM Sampler:  10%|█         | 2/20 [00:01<00:11,  1.59it/s]\u001b[A\n",
      "DDIM Sampler:  15%|█▌        | 3/20 [00:01<00:10,  1.59it/s]\u001b[A\n",
      "DDIM Sampler:  20%|██        | 4/20 [00:02<00:10,  1.60it/s]\u001b[A\n",
      "DDIM Sampler:  25%|██▌       | 5/20 [00:03<00:09,  1.59it/s]\u001b[A\n",
      "DDIM Sampler:  30%|███       | 6/20 [00:03<00:08,  1.60it/s]\u001b[A\n",
      "DDIM Sampler:  35%|███▌      | 7/20 [00:04<00:08,  1.60it/s]\u001b[A\n",
      "DDIM Sampler:  40%|████      | 8/20 [00:05<00:07,  1.60it/s]\u001b[A\n",
      "DDIM Sampler:  45%|████▌     | 9/20 [00:05<00:06,  1.60it/s]\u001b[A\n",
      "DDIM Sampler:  50%|█████     | 10/20 [00:06<00:06,  1.60it/s]\u001b[A\n",
      "DDIM Sampler:  55%|█████▌    | 11/20 [00:06<00:05,  1.60it/s]\u001b[A\n",
      "DDIM Sampler:  60%|██████    | 12/20 [00:07<00:04,  1.60it/s]\u001b[A\n",
      "DDIM Sampler:  65%|██████▌   | 13/20 [00:08<00:04,  1.60it/s]\u001b[A\n",
      "DDIM Sampler:  70%|███████   | 14/20 [00:08<00:03,  1.60it/s]\u001b[A\n",
      "DDIM Sampler:  75%|███████▌  | 15/20 [00:09<00:03,  1.60it/s]\u001b[A\n",
      "DDIM Sampler:  80%|████████  | 16/20 [00:10<00:02,  1.60it/s]\u001b[A\n",
      "DDIM Sampler:  85%|████████▌ | 17/20 [00:10<00:01,  1.60it/s]\u001b[A\n",
      "DDIM Sampler:  90%|█████████ | 18/20 [00:11<00:01,  1.60it/s]\u001b[A\n",
      "DDIM Sampler:  95%|█████████▌| 19/20 [00:11<00:00,  1.60it/s]\u001b[A\n",
      "DDIM Sampler: 100%|██████████| 20/20 [00:12<00:00,  1.60it/s]\u001b[A\n",
      "Global seed set to 33281\n"
     ]
    },
    {
     "name": "stdout",
     "output_type": "stream",
     "text": [
      "Data shape for DDIM sampling is (2, 4, 64, 64), eta 0.0\n",
      "Running DDIM Sampling with 20 timesteps\n"
     ]
    },
    {
     "name": "stderr",
     "output_type": "stream",
     "text": [
      "\n",
      "DDIM Sampler:   0%|          | 0/20 [00:00<?, ?it/s]\u001b[A\n",
      "DDIM Sampler:   5%|▌         | 1/20 [00:00<00:11,  1.63it/s]\u001b[A\n",
      "DDIM Sampler:  10%|█         | 2/20 [00:01<00:11,  1.59it/s]\u001b[A\n",
      "DDIM Sampler:  15%|█▌        | 3/20 [00:01<00:10,  1.60it/s]\u001b[A\n",
      "DDIM Sampler:  20%|██        | 4/20 [00:02<00:09,  1.60it/s]\u001b[A\n",
      "DDIM Sampler:  25%|██▌       | 5/20 [00:03<00:09,  1.60it/s]\u001b[A\n",
      "DDIM Sampler:  30%|███       | 6/20 [00:03<00:08,  1.60it/s]\u001b[A\n",
      "DDIM Sampler:  35%|███▌      | 7/20 [00:04<00:08,  1.60it/s]\u001b[A\n",
      "DDIM Sampler:  40%|████      | 8/20 [00:05<00:07,  1.60it/s]\u001b[A\n",
      "DDIM Sampler:  45%|████▌     | 9/20 [00:05<00:06,  1.60it/s]\u001b[A\n",
      "DDIM Sampler:  50%|█████     | 10/20 [00:06<00:06,  1.60it/s]\u001b[A\n",
      "DDIM Sampler:  55%|█████▌    | 11/20 [00:06<00:05,  1.60it/s]\u001b[A\n",
      "DDIM Sampler:  60%|██████    | 12/20 [00:07<00:05,  1.60it/s]\u001b[A\n",
      "DDIM Sampler:  65%|██████▌   | 13/20 [00:08<00:04,  1.60it/s]\u001b[A\n",
      "DDIM Sampler:  70%|███████   | 14/20 [00:08<00:03,  1.60it/s]\u001b[A\n",
      "DDIM Sampler:  75%|███████▌  | 15/20 [00:09<00:03,  1.60it/s]\u001b[A\n",
      "DDIM Sampler:  80%|████████  | 16/20 [00:10<00:02,  1.60it/s]\u001b[A\n",
      "DDIM Sampler:  85%|████████▌ | 17/20 [00:10<00:01,  1.60it/s]\u001b[A\n",
      "DDIM Sampler:  90%|█████████ | 18/20 [00:11<00:01,  1.60it/s]\u001b[A\n",
      "DDIM Sampler:  95%|█████████▌| 19/20 [00:11<00:00,  1.60it/s]\u001b[A\n",
      "DDIM Sampler: 100%|██████████| 20/20 [00:12<00:00,  1.60it/s]\u001b[A\n",
      "Global seed set to 9181\n"
     ]
    },
    {
     "name": "stdout",
     "output_type": "stream",
     "text": [
      "Data shape for DDIM sampling is (2, 4, 64, 64), eta 0.0\n",
      "Running DDIM Sampling with 20 timesteps\n"
     ]
    },
    {
     "name": "stderr",
     "output_type": "stream",
     "text": [
      "\n",
      "DDIM Sampler:   0%|          | 0/20 [00:00<?, ?it/s]\u001b[A\n",
      "DDIM Sampler:   5%|▌         | 1/20 [00:00<00:11,  1.63it/s]\u001b[A\n",
      "DDIM Sampler:  10%|█         | 2/20 [00:01<00:11,  1.59it/s]\u001b[A\n",
      "DDIM Sampler:  15%|█▌        | 3/20 [00:01<00:10,  1.59it/s]\u001b[A\n",
      "DDIM Sampler:  20%|██        | 4/20 [00:02<00:10,  1.60it/s]\u001b[A\n",
      "DDIM Sampler:  25%|██▌       | 5/20 [00:03<00:09,  1.59it/s]\u001b[A\n",
      "DDIM Sampler:  30%|███       | 6/20 [00:03<00:08,  1.60it/s]\u001b[A\n",
      "DDIM Sampler:  35%|███▌      | 7/20 [00:04<00:08,  1.60it/s]\u001b[A\n",
      "DDIM Sampler:  40%|████      | 8/20 [00:05<00:07,  1.60it/s]\u001b[A\n",
      "DDIM Sampler:  45%|████▌     | 9/20 [00:05<00:06,  1.60it/s]\u001b[A\n",
      "DDIM Sampler:  50%|█████     | 10/20 [00:06<00:06,  1.60it/s]\u001b[A\n",
      "DDIM Sampler:  55%|█████▌    | 11/20 [00:06<00:05,  1.60it/s]\u001b[A\n",
      "DDIM Sampler:  60%|██████    | 12/20 [00:07<00:05,  1.60it/s]\u001b[A\n",
      "DDIM Sampler:  65%|██████▌   | 13/20 [00:08<00:04,  1.60it/s]\u001b[A\n",
      "DDIM Sampler:  70%|███████   | 14/20 [00:08<00:03,  1.60it/s]\u001b[A\n",
      "DDIM Sampler:  75%|███████▌  | 15/20 [00:09<00:03,  1.60it/s]\u001b[A\n",
      "DDIM Sampler:  80%|████████  | 16/20 [00:10<00:02,  1.59it/s]\u001b[A\n",
      "DDIM Sampler:  85%|████████▌ | 17/20 [00:10<00:01,  1.60it/s]\u001b[A\n",
      "DDIM Sampler:  90%|█████████ | 18/20 [00:11<00:01,  1.60it/s]\u001b[A\n",
      "DDIM Sampler:  95%|█████████▌| 19/20 [00:11<00:00,  1.60it/s]\u001b[A\n",
      "DDIM Sampler: 100%|██████████| 20/20 [00:12<00:00,  1.60it/s]\u001b[A\n",
      "Global seed set to 64188\n"
     ]
    },
    {
     "name": "stdout",
     "output_type": "stream",
     "text": [
      "Data shape for DDIM sampling is (2, 4, 64, 64), eta 0.0\n",
      "Running DDIM Sampling with 20 timesteps\n"
     ]
    },
    {
     "name": "stderr",
     "output_type": "stream",
     "text": [
      "\n",
      "DDIM Sampler:   0%|          | 0/20 [00:00<?, ?it/s]\u001b[A\n",
      "DDIM Sampler:   5%|▌         | 1/20 [00:00<00:11,  1.63it/s]\u001b[A\n",
      "DDIM Sampler:  10%|█         | 2/20 [00:01<00:11,  1.59it/s]\u001b[A\n",
      "DDIM Sampler:  15%|█▌        | 3/20 [00:01<00:10,  1.59it/s]\u001b[A\n",
      "DDIM Sampler:  20%|██        | 4/20 [00:02<00:10,  1.60it/s]\u001b[A\n",
      "DDIM Sampler:  25%|██▌       | 5/20 [00:03<00:09,  1.59it/s]\u001b[A\n",
      "DDIM Sampler:  30%|███       | 6/20 [00:03<00:08,  1.59it/s]\u001b[A\n",
      "DDIM Sampler:  35%|███▌      | 7/20 [00:04<00:08,  1.60it/s]\u001b[A\n",
      "DDIM Sampler:  40%|████      | 8/20 [00:05<00:07,  1.59it/s]\u001b[A\n",
      "DDIM Sampler:  45%|████▌     | 9/20 [00:05<00:06,  1.60it/s]\u001b[A\n",
      "DDIM Sampler:  50%|█████     | 10/20 [00:06<00:06,  1.59it/s]\u001b[A\n",
      "DDIM Sampler:  55%|█████▌    | 11/20 [00:06<00:05,  1.60it/s]\u001b[A\n",
      "DDIM Sampler:  60%|██████    | 12/20 [00:07<00:05,  1.60it/s]\u001b[A\n",
      "DDIM Sampler:  65%|██████▌   | 13/20 [00:08<00:04,  1.59it/s]\u001b[A\n",
      "DDIM Sampler:  70%|███████   | 14/20 [00:08<00:03,  1.60it/s]\u001b[A\n",
      "DDIM Sampler:  75%|███████▌  | 15/20 [00:09<00:03,  1.60it/s]\u001b[A\n",
      "DDIM Sampler:  80%|████████  | 16/20 [00:10<00:02,  1.59it/s]\u001b[A\n",
      "DDIM Sampler:  85%|████████▌ | 17/20 [00:10<00:01,  1.60it/s]\u001b[A\n",
      "DDIM Sampler:  90%|█████████ | 18/20 [00:11<00:01,  1.60it/s]\u001b[A\n",
      "DDIM Sampler:  95%|█████████▌| 19/20 [00:11<00:00,  1.60it/s]\u001b[A\n",
      "DDIM Sampler: 100%|██████████| 20/20 [00:12<00:00,  1.60it/s]\u001b[A\n",
      "Global seed set to 10533\n"
     ]
    },
    {
     "name": "stdout",
     "output_type": "stream",
     "text": [
      "Data shape for DDIM sampling is (2, 4, 64, 72), eta 0.0\n",
      "Running DDIM Sampling with 20 timesteps\n"
     ]
    },
    {
     "name": "stderr",
     "output_type": "stream",
     "text": [
      "\n",
      "DDIM Sampler:   0%|          | 0/20 [00:00<?, ?it/s]\u001b[A\n",
      "DDIM Sampler:   5%|▌         | 1/20 [00:00<00:13,  1.36it/s]\u001b[A\n",
      "DDIM Sampler:  10%|█         | 2/20 [00:01<00:13,  1.33it/s]\u001b[A\n",
      "DDIM Sampler:  15%|█▌        | 3/20 [00:02<00:12,  1.33it/s]\u001b[A\n",
      "DDIM Sampler:  20%|██        | 4/20 [00:03<00:12,  1.33it/s]\u001b[A\n",
      "DDIM Sampler:  25%|██▌       | 5/20 [00:03<00:11,  1.33it/s]\u001b[A\n",
      "DDIM Sampler:  30%|███       | 6/20 [00:04<00:10,  1.33it/s]\u001b[A\n",
      "DDIM Sampler:  35%|███▌      | 7/20 [00:05<00:09,  1.33it/s]\u001b[A\n",
      "DDIM Sampler:  40%|████      | 8/20 [00:06<00:09,  1.33it/s]\u001b[A\n",
      "DDIM Sampler:  45%|████▌     | 9/20 [00:06<00:08,  1.33it/s]\u001b[A\n",
      "DDIM Sampler:  50%|█████     | 10/20 [00:07<00:07,  1.33it/s]\u001b[A\n",
      "DDIM Sampler:  55%|█████▌    | 11/20 [00:08<00:06,  1.33it/s]\u001b[A\n",
      "DDIM Sampler:  60%|██████    | 12/20 [00:09<00:05,  1.33it/s]\u001b[A\n",
      "DDIM Sampler:  65%|██████▌   | 13/20 [00:09<00:05,  1.33it/s]\u001b[A\n",
      "DDIM Sampler:  70%|███████   | 14/20 [00:10<00:04,  1.33it/s]\u001b[A\n",
      "DDIM Sampler:  75%|███████▌  | 15/20 [00:11<00:03,  1.33it/s]\u001b[A\n",
      "DDIM Sampler:  80%|████████  | 16/20 [00:12<00:02,  1.33it/s]\u001b[A\n",
      "DDIM Sampler:  85%|████████▌ | 17/20 [00:12<00:02,  1.33it/s]\u001b[A\n",
      "DDIM Sampler:  90%|█████████ | 18/20 [00:13<00:01,  1.33it/s]\u001b[A\n",
      "DDIM Sampler:  95%|█████████▌| 19/20 [00:14<00:00,  1.33it/s]\u001b[A\n",
      "DDIM Sampler: 100%|██████████| 20/20 [00:15<00:00,  1.33it/s]\u001b[A\n",
      "Global seed set to 31808\n"
     ]
    },
    {
     "name": "stdout",
     "output_type": "stream",
     "text": [
      "Data shape for DDIM sampling is (2, 4, 64, 112), eta 0.0\n",
      "Running DDIM Sampling with 20 timesteps\n"
     ]
    },
    {
     "name": "stderr",
     "output_type": "stream",
     "text": [
      "\n",
      "DDIM Sampler:   0%|          | 0/20 [00:00<?, ?it/s]\u001b[A\n",
      "DDIM Sampler:   5%|▌         | 1/20 [00:01<00:28,  1.52s/it]\u001b[A\n",
      "DDIM Sampler:  10%|█         | 2/20 [00:03<00:27,  1.51s/it]\u001b[A\n",
      "DDIM Sampler:  15%|█▌        | 3/20 [00:04<00:25,  1.51s/it]\u001b[A\n",
      "DDIM Sampler:  20%|██        | 4/20 [00:06<00:24,  1.51s/it]\u001b[A\n",
      "DDIM Sampler:  25%|██▌       | 5/20 [00:07<00:22,  1.51s/it]\u001b[A\n",
      "DDIM Sampler:  30%|███       | 6/20 [00:09<00:21,  1.51s/it]\u001b[A\n",
      "DDIM Sampler:  35%|███▌      | 7/20 [00:10<00:19,  1.51s/it]\u001b[A\n",
      "DDIM Sampler:  40%|████      | 8/20 [00:12<00:18,  1.51s/it]\u001b[A\n",
      "DDIM Sampler:  45%|████▌     | 9/20 [00:13<00:16,  1.51s/it]\u001b[A\n",
      "DDIM Sampler:  50%|█████     | 10/20 [00:15<00:15,  1.51s/it]\u001b[A\n",
      "DDIM Sampler:  55%|█████▌    | 11/20 [00:16<00:13,  1.51s/it]\u001b[A\n",
      "DDIM Sampler:  60%|██████    | 12/20 [00:18<00:12,  1.51s/it]\u001b[A\n",
      "DDIM Sampler:  65%|██████▌   | 13/20 [00:19<00:10,  1.51s/it]\u001b[A\n",
      "DDIM Sampler:  70%|███████   | 14/20 [00:21<00:09,  1.51s/it]\u001b[A\n",
      "DDIM Sampler:  75%|███████▌  | 15/20 [00:22<00:07,  1.51s/it]\u001b[A\n",
      "DDIM Sampler:  80%|████████  | 16/20 [00:24<00:06,  1.51s/it]\u001b[A\n",
      "DDIM Sampler:  85%|████████▌ | 17/20 [00:25<00:04,  1.51s/it]\u001b[A\n",
      "DDIM Sampler:  90%|█████████ | 18/20 [00:27<00:03,  1.51s/it]\u001b[A\n",
      "DDIM Sampler:  95%|█████████▌| 19/20 [00:28<00:01,  1.51s/it]\u001b[A\n",
      "DDIM Sampler: 100%|██████████| 20/20 [00:30<00:00,  1.51s/it]\u001b[A\n",
      "Global seed set to 33281\n"
     ]
    },
    {
     "name": "stdout",
     "output_type": "stream",
     "text": [
      "Data shape for DDIM sampling is (2, 4, 64, 96), eta 0.0\n",
      "Running DDIM Sampling with 20 timesteps\n"
     ]
    },
    {
     "name": "stderr",
     "output_type": "stream",
     "text": [
      "\n",
      "DDIM Sampler:   0%|          | 0/20 [00:00<?, ?it/s]\u001b[A\n",
      "DDIM Sampler:   5%|▌         | 1/20 [00:01<00:22,  1.17s/it]\u001b[A\n",
      "DDIM Sampler:  10%|█         | 2/20 [00:02<00:20,  1.17s/it]\u001b[A\n",
      "DDIM Sampler:  15%|█▌        | 3/20 [00:03<00:19,  1.16s/it]\u001b[A\n",
      "DDIM Sampler:  20%|██        | 4/20 [00:04<00:18,  1.16s/it]\u001b[A\n",
      "DDIM Sampler:  25%|██▌       | 5/20 [00:05<00:17,  1.16s/it]\u001b[A\n",
      "DDIM Sampler:  30%|███       | 6/20 [00:06<00:16,  1.16s/it]\u001b[A\n",
      "DDIM Sampler:  35%|███▌      | 7/20 [00:08<00:15,  1.16s/it]\u001b[A\n",
      "DDIM Sampler:  40%|████      | 8/20 [00:09<00:13,  1.16s/it]\u001b[A\n",
      "DDIM Sampler:  45%|████▌     | 9/20 [00:10<00:12,  1.16s/it]\u001b[A\n",
      "DDIM Sampler:  50%|█████     | 10/20 [00:11<00:11,  1.16s/it]\u001b[A\n",
      "DDIM Sampler:  55%|█████▌    | 11/20 [00:12<00:10,  1.16s/it]\u001b[A\n",
      "DDIM Sampler:  60%|██████    | 12/20 [00:13<00:09,  1.16s/it]\u001b[A\n",
      "DDIM Sampler:  65%|██████▌   | 13/20 [00:15<00:08,  1.16s/it]\u001b[A\n",
      "DDIM Sampler:  70%|███████   | 14/20 [00:16<00:06,  1.16s/it]\u001b[A\n",
      "DDIM Sampler:  75%|███████▌  | 15/20 [00:17<00:05,  1.16s/it]\u001b[A\n",
      "DDIM Sampler:  80%|████████  | 16/20 [00:18<00:04,  1.16s/it]\u001b[A\n",
      "DDIM Sampler:  85%|████████▌ | 17/20 [00:19<00:03,  1.16s/it]\u001b[A\n",
      "DDIM Sampler:  90%|█████████ | 18/20 [00:20<00:02,  1.16s/it]\u001b[A\n",
      "DDIM Sampler:  95%|█████████▌| 19/20 [00:22<00:01,  1.16s/it]\u001b[A\n",
      "DDIM Sampler: 100%|██████████| 20/20 [00:23<00:00,  1.16s/it]\u001b[A\n",
      "Global seed set to 9181\n"
     ]
    },
    {
     "name": "stdout",
     "output_type": "stream",
     "text": [
      "Data shape for DDIM sampling is (2, 4, 64, 64), eta 0.0\n",
      "Running DDIM Sampling with 20 timesteps\n"
     ]
    },
    {
     "name": "stderr",
     "output_type": "stream",
     "text": [
      "\n",
      "DDIM Sampler:   0%|          | 0/20 [00:00<?, ?it/s]\u001b[A\n",
      "DDIM Sampler:   5%|▌         | 1/20 [00:00<00:11,  1.63it/s]\u001b[A\n",
      "DDIM Sampler:  10%|█         | 2/20 [00:01<00:11,  1.60it/s]\u001b[A\n",
      "DDIM Sampler:  15%|█▌        | 3/20 [00:01<00:10,  1.60it/s]\u001b[A\n",
      "DDIM Sampler:  20%|██        | 4/20 [00:02<00:09,  1.60it/s]\u001b[A\n",
      "DDIM Sampler:  25%|██▌       | 5/20 [00:03<00:09,  1.60it/s]\u001b[A\n",
      "DDIM Sampler:  30%|███       | 6/20 [00:03<00:08,  1.60it/s]\u001b[A\n",
      "DDIM Sampler:  35%|███▌      | 7/20 [00:04<00:08,  1.60it/s]\u001b[A\n",
      "DDIM Sampler:  40%|████      | 8/20 [00:05<00:07,  1.60it/s]\u001b[A\n",
      "DDIM Sampler:  45%|████▌     | 9/20 [00:05<00:06,  1.60it/s]\u001b[A\n",
      "DDIM Sampler:  50%|█████     | 10/20 [00:06<00:06,  1.60it/s]\u001b[A\n",
      "DDIM Sampler:  55%|█████▌    | 11/20 [00:06<00:05,  1.60it/s]\u001b[A\n",
      "DDIM Sampler:  60%|██████    | 12/20 [00:07<00:05,  1.60it/s]\u001b[A\n",
      "DDIM Sampler:  65%|██████▌   | 13/20 [00:08<00:04,  1.60it/s]\u001b[A\n",
      "DDIM Sampler:  70%|███████   | 14/20 [00:08<00:03,  1.60it/s]\u001b[A\n",
      "DDIM Sampler:  75%|███████▌  | 15/20 [00:09<00:03,  1.60it/s]\u001b[A\n",
      "DDIM Sampler:  80%|████████  | 16/20 [00:10<00:02,  1.60it/s]\u001b[A\n",
      "DDIM Sampler:  85%|████████▌ | 17/20 [00:10<00:01,  1.60it/s]\u001b[A\n",
      "DDIM Sampler:  90%|█████████ | 18/20 [00:11<00:01,  1.60it/s]\u001b[A\n",
      "DDIM Sampler:  95%|█████████▌| 19/20 [00:11<00:00,  1.59it/s]\u001b[A\n",
      "DDIM Sampler: 100%|██████████| 20/20 [00:12<00:00,  1.60it/s]\u001b[A\n",
      "Global seed set to 64188\n"
     ]
    },
    {
     "name": "stdout",
     "output_type": "stream",
     "text": [
      "Data shape for DDIM sampling is (2, 4, 64, 64), eta 0.0\n",
      "Running DDIM Sampling with 20 timesteps\n"
     ]
    },
    {
     "name": "stderr",
     "output_type": "stream",
     "text": [
      "\n",
      "DDIM Sampler:   0%|          | 0/20 [00:00<?, ?it/s]\u001b[A\n",
      "DDIM Sampler:   5%|▌         | 1/20 [00:00<00:11,  1.63it/s]\u001b[A\n",
      "DDIM Sampler:  10%|█         | 2/20 [00:01<00:11,  1.59it/s]\u001b[A\n",
      "DDIM Sampler:  15%|█▌        | 3/20 [00:01<00:10,  1.59it/s]\u001b[A\n",
      "DDIM Sampler:  20%|██        | 4/20 [00:02<00:10,  1.60it/s]\u001b[A\n",
      "DDIM Sampler:  25%|██▌       | 5/20 [00:03<00:09,  1.59it/s]\u001b[A\n",
      "DDIM Sampler:  30%|███       | 6/20 [00:03<00:08,  1.60it/s]\u001b[A\n",
      "DDIM Sampler:  35%|███▌      | 7/20 [00:04<00:08,  1.60it/s]\u001b[A\n",
      "DDIM Sampler:  40%|████      | 8/20 [00:05<00:07,  1.60it/s]\u001b[A\n",
      "DDIM Sampler:  45%|████▌     | 9/20 [00:05<00:06,  1.60it/s]\u001b[A\n",
      "DDIM Sampler:  50%|█████     | 10/20 [00:06<00:06,  1.60it/s]\u001b[A\n",
      "DDIM Sampler:  55%|█████▌    | 11/20 [00:06<00:05,  1.60it/s]\u001b[A\n",
      "DDIM Sampler:  60%|██████    | 12/20 [00:07<00:05,  1.60it/s]\u001b[A\n",
      "DDIM Sampler:  65%|██████▌   | 13/20 [00:08<00:04,  1.60it/s]\u001b[A\n",
      "DDIM Sampler:  70%|███████   | 14/20 [00:08<00:03,  1.60it/s]\u001b[A\n",
      "DDIM Sampler:  75%|███████▌  | 15/20 [00:09<00:03,  1.60it/s]\u001b[A\n",
      "DDIM Sampler:  80%|████████  | 16/20 [00:10<00:02,  1.59it/s]\u001b[A\n",
      "DDIM Sampler:  85%|████████▌ | 17/20 [00:10<00:01,  1.60it/s]\u001b[A\n",
      "DDIM Sampler:  90%|█████████ | 18/20 [00:11<00:01,  1.60it/s]\u001b[A\n",
      "DDIM Sampler:  95%|█████████▌| 19/20 [00:11<00:00,  1.60it/s]\u001b[A\n",
      "DDIM Sampler: 100%|██████████| 20/20 [00:12<00:00,  1.60it/s]\u001b[A\n",
      "Global seed set to 10533\n"
     ]
    },
    {
     "name": "stdout",
     "output_type": "stream",
     "text": [
      "Data shape for DDIM sampling is (2, 4, 64, 64), eta 0.0\n",
      "Running DDIM Sampling with 20 timesteps\n"
     ]
    },
    {
     "name": "stderr",
     "output_type": "stream",
     "text": [
      "\n",
      "DDIM Sampler:   0%|          | 0/20 [00:00<?, ?it/s]\u001b[A\n",
      "DDIM Sampler:   5%|▌         | 1/20 [00:00<00:11,  1.64it/s]\u001b[A\n",
      "DDIM Sampler:  10%|█         | 2/20 [00:01<00:11,  1.59it/s]\u001b[A\n",
      "DDIM Sampler:  15%|█▌        | 3/20 [00:01<00:10,  1.60it/s]\u001b[A\n",
      "DDIM Sampler:  20%|██        | 4/20 [00:02<00:09,  1.60it/s]\u001b[A\n",
      "DDIM Sampler:  25%|██▌       | 5/20 [00:03<00:09,  1.60it/s]\u001b[A\n",
      "DDIM Sampler:  30%|███       | 6/20 [00:03<00:08,  1.60it/s]\u001b[A\n",
      "DDIM Sampler:  35%|███▌      | 7/20 [00:04<00:08,  1.60it/s]\u001b[A\n",
      "DDIM Sampler:  40%|████      | 8/20 [00:05<00:07,  1.60it/s]\u001b[A\n",
      "DDIM Sampler:  45%|████▌     | 9/20 [00:05<00:06,  1.60it/s]\u001b[A\n",
      "DDIM Sampler:  50%|█████     | 10/20 [00:06<00:06,  1.60it/s]\u001b[A\n",
      "DDIM Sampler:  55%|█████▌    | 11/20 [00:06<00:05,  1.60it/s]\u001b[A\n",
      "DDIM Sampler:  60%|██████    | 12/20 [00:07<00:04,  1.60it/s]\u001b[A\n",
      "DDIM Sampler:  65%|██████▌   | 13/20 [00:08<00:04,  1.60it/s]\u001b[A\n",
      "DDIM Sampler:  70%|███████   | 14/20 [00:08<00:03,  1.60it/s]\u001b[A\n",
      "DDIM Sampler:  75%|███████▌  | 15/20 [00:09<00:03,  1.60it/s]\u001b[A\n",
      "DDIM Sampler:  80%|████████  | 16/20 [00:10<00:02,  1.60it/s]\u001b[A\n",
      "DDIM Sampler:  85%|████████▌ | 17/20 [00:10<00:01,  1.60it/s]\u001b[A\n",
      "DDIM Sampler:  90%|█████████ | 18/20 [00:11<00:01,  1.60it/s]\u001b[A\n",
      "DDIM Sampler:  95%|█████████▌| 19/20 [00:11<00:00,  1.60it/s]\u001b[A\n",
      "DDIM Sampler: 100%|██████████| 20/20 [00:12<00:00,  1.60it/s]\u001b[A\n",
      "Global seed set to 31808\n"
     ]
    },
    {
     "name": "stdout",
     "output_type": "stream",
     "text": [
      "Data shape for DDIM sampling is (2, 4, 64, 64), eta 0.0\n",
      "Running DDIM Sampling with 20 timesteps\n"
     ]
    },
    {
     "name": "stderr",
     "output_type": "stream",
     "text": [
      "\n",
      "DDIM Sampler:   0%|          | 0/20 [00:00<?, ?it/s]\u001b[A\n",
      "DDIM Sampler:   5%|▌         | 1/20 [00:00<00:11,  1.63it/s]\u001b[A\n",
      "DDIM Sampler:  10%|█         | 2/20 [00:01<00:11,  1.59it/s]\u001b[A\n",
      "DDIM Sampler:  15%|█▌        | 3/20 [00:01<00:10,  1.59it/s]\u001b[A\n",
      "DDIM Sampler:  20%|██        | 4/20 [00:02<00:10,  1.60it/s]\u001b[A\n",
      "DDIM Sampler:  25%|██▌       | 5/20 [00:03<00:09,  1.59it/s]\u001b[A\n",
      "DDIM Sampler:  30%|███       | 6/20 [00:03<00:08,  1.60it/s]\u001b[A\n",
      "DDIM Sampler:  35%|███▌      | 7/20 [00:04<00:08,  1.59it/s]\u001b[A\n",
      "DDIM Sampler:  40%|████      | 8/20 [00:05<00:07,  1.60it/s]\u001b[A\n",
      "DDIM Sampler:  45%|████▌     | 9/20 [00:05<00:06,  1.60it/s]\u001b[A\n",
      "DDIM Sampler:  50%|█████     | 10/20 [00:06<00:06,  1.60it/s]\u001b[A\n",
      "DDIM Sampler:  55%|█████▌    | 11/20 [00:06<00:05,  1.60it/s]\u001b[A\n",
      "DDIM Sampler:  60%|██████    | 12/20 [00:07<00:05,  1.60it/s]\u001b[A\n",
      "DDIM Sampler:  65%|██████▌   | 13/20 [00:08<00:04,  1.60it/s]\u001b[A\n",
      "DDIM Sampler:  70%|███████   | 14/20 [00:08<00:03,  1.60it/s]\u001b[A\n",
      "DDIM Sampler:  75%|███████▌  | 15/20 [00:09<00:03,  1.60it/s]\u001b[A\n",
      "DDIM Sampler:  80%|████████  | 16/20 [00:10<00:02,  1.59it/s]\u001b[A\n",
      "DDIM Sampler:  85%|████████▌ | 17/20 [00:10<00:01,  1.59it/s]\u001b[A\n",
      "DDIM Sampler:  90%|█████████ | 18/20 [00:11<00:01,  1.60it/s]\u001b[A\n",
      "DDIM Sampler:  95%|█████████▌| 19/20 [00:11<00:00,  1.60it/s]\u001b[A\n",
      "DDIM Sampler: 100%|██████████| 20/20 [00:12<00:00,  1.60it/s]\u001b[A\n",
      "Global seed set to 33281\n"
     ]
    },
    {
     "name": "stdout",
     "output_type": "stream",
     "text": [
      "Data shape for DDIM sampling is (2, 4, 64, 64), eta 0.0\n",
      "Running DDIM Sampling with 20 timesteps\n"
     ]
    },
    {
     "name": "stderr",
     "output_type": "stream",
     "text": [
      "\n",
      "DDIM Sampler:   0%|          | 0/20 [00:00<?, ?it/s]\u001b[A\n",
      "DDIM Sampler:   5%|▌         | 1/20 [00:00<00:11,  1.63it/s]\u001b[A\n",
      "DDIM Sampler:  10%|█         | 2/20 [00:01<00:11,  1.59it/s]\u001b[A\n",
      "DDIM Sampler:  15%|█▌        | 3/20 [00:01<00:10,  1.60it/s]\u001b[A\n",
      "DDIM Sampler:  20%|██        | 4/20 [00:02<00:10,  1.60it/s]\u001b[A\n",
      "DDIM Sampler:  25%|██▌       | 5/20 [00:03<00:09,  1.59it/s]\u001b[A\n",
      "DDIM Sampler:  30%|███       | 6/20 [00:03<00:08,  1.60it/s]\u001b[A\n",
      "DDIM Sampler:  35%|███▌      | 7/20 [00:04<00:08,  1.60it/s]\u001b[A\n",
      "DDIM Sampler:  40%|████      | 8/20 [00:05<00:07,  1.59it/s]\u001b[A\n",
      "DDIM Sampler:  45%|████▌     | 9/20 [00:05<00:06,  1.60it/s]\u001b[A\n",
      "DDIM Sampler:  50%|█████     | 10/20 [00:06<00:06,  1.60it/s]\u001b[A\n",
      "DDIM Sampler:  55%|█████▌    | 11/20 [00:06<00:05,  1.60it/s]\u001b[A\n",
      "DDIM Sampler:  60%|██████    | 12/20 [00:07<00:05,  1.60it/s]\u001b[A\n",
      "DDIM Sampler:  65%|██████▌   | 13/20 [00:08<00:04,  1.60it/s]\u001b[A\n",
      "DDIM Sampler:  70%|███████   | 14/20 [00:08<00:03,  1.60it/s]\u001b[A\n",
      "DDIM Sampler:  75%|███████▌  | 15/20 [00:09<00:03,  1.60it/s]\u001b[A\n",
      "DDIM Sampler:  80%|████████  | 16/20 [00:10<00:02,  1.60it/s]\u001b[A\n",
      "DDIM Sampler:  85%|████████▌ | 17/20 [00:10<00:01,  1.60it/s]\u001b[A\n",
      "DDIM Sampler:  90%|█████████ | 18/20 [00:11<00:01,  1.60it/s]\u001b[A\n",
      "DDIM Sampler:  95%|█████████▌| 19/20 [00:11<00:00,  1.60it/s]\u001b[A\n",
      "DDIM Sampler: 100%|██████████| 20/20 [00:12<00:00,  1.60it/s]\u001b[A\n",
      "Global seed set to 9181\n"
     ]
    },
    {
     "name": "stdout",
     "output_type": "stream",
     "text": [
      "Data shape for DDIM sampling is (2, 4, 64, 64), eta 0.0\n",
      "Running DDIM Sampling with 20 timesteps\n"
     ]
    },
    {
     "name": "stderr",
     "output_type": "stream",
     "text": [
      "\n",
      "DDIM Sampler:   0%|          | 0/20 [00:00<?, ?it/s]\u001b[A\n",
      "DDIM Sampler:   5%|▌         | 1/20 [00:00<00:11,  1.64it/s]\u001b[A\n",
      "DDIM Sampler:  10%|█         | 2/20 [00:01<00:11,  1.59it/s]\u001b[A\n",
      "DDIM Sampler:  15%|█▌        | 3/20 [00:01<00:10,  1.59it/s]\u001b[A\n",
      "DDIM Sampler:  20%|██        | 4/20 [00:02<00:10,  1.60it/s]\u001b[A\n",
      "DDIM Sampler:  25%|██▌       | 5/20 [00:03<00:09,  1.59it/s]\u001b[A\n",
      "DDIM Sampler:  30%|███       | 6/20 [00:03<00:08,  1.60it/s]\u001b[A\n",
      "DDIM Sampler:  35%|███▌      | 7/20 [00:04<00:08,  1.60it/s]\u001b[A\n",
      "DDIM Sampler:  40%|████      | 8/20 [00:05<00:07,  1.60it/s]\u001b[A\n",
      "DDIM Sampler:  45%|████▌     | 9/20 [00:05<00:06,  1.60it/s]\u001b[A\n",
      "DDIM Sampler:  50%|█████     | 10/20 [00:06<00:06,  1.60it/s]\u001b[A\n",
      "DDIM Sampler:  55%|█████▌    | 11/20 [00:06<00:05,  1.60it/s]\u001b[A\n",
      "DDIM Sampler:  60%|██████    | 12/20 [00:07<00:05,  1.60it/s]\u001b[A\n",
      "DDIM Sampler:  65%|██████▌   | 13/20 [00:08<00:04,  1.60it/s]\u001b[A\n",
      "DDIM Sampler:  70%|███████   | 14/20 [00:08<00:03,  1.60it/s]\u001b[A\n",
      "DDIM Sampler:  75%|███████▌  | 15/20 [00:09<00:03,  1.60it/s]\u001b[A\n",
      "DDIM Sampler:  80%|████████  | 16/20 [00:10<00:02,  1.60it/s]\u001b[A\n",
      "DDIM Sampler:  85%|████████▌ | 17/20 [00:10<00:01,  1.60it/s]\u001b[A\n",
      "DDIM Sampler:  90%|█████████ | 18/20 [00:11<00:01,  1.60it/s]\u001b[A\n",
      "DDIM Sampler:  95%|█████████▌| 19/20 [00:11<00:00,  1.59it/s]\u001b[A\n",
      "DDIM Sampler: 100%|██████████| 20/20 [00:12<00:00,  1.60it/s]\u001b[A\n",
      "Global seed set to 64188\n"
     ]
    },
    {
     "name": "stdout",
     "output_type": "stream",
     "text": [
      "Data shape for DDIM sampling is (2, 4, 64, 64), eta 0.0\n",
      "Running DDIM Sampling with 20 timesteps\n"
     ]
    },
    {
     "name": "stderr",
     "output_type": "stream",
     "text": [
      "\n",
      "DDIM Sampler:   0%|          | 0/20 [00:00<?, ?it/s]\u001b[A\n",
      "DDIM Sampler:   5%|▌         | 1/20 [00:00<00:11,  1.63it/s]\u001b[A\n",
      "DDIM Sampler:  10%|█         | 2/20 [00:01<00:11,  1.59it/s]\u001b[A\n",
      "DDIM Sampler:  15%|█▌        | 3/20 [00:01<00:10,  1.59it/s]\u001b[A\n",
      "DDIM Sampler:  20%|██        | 4/20 [00:02<00:10,  1.60it/s]\u001b[A\n",
      "DDIM Sampler:  25%|██▌       | 5/20 [00:03<00:09,  1.59it/s]\u001b[A\n",
      "DDIM Sampler:  30%|███       | 6/20 [00:03<00:08,  1.60it/s]\u001b[A\n",
      "DDIM Sampler:  35%|███▌      | 7/20 [00:04<00:08,  1.60it/s]\u001b[A\n",
      "DDIM Sampler:  40%|████      | 8/20 [00:05<00:07,  1.60it/s]\u001b[A\n",
      "DDIM Sampler:  45%|████▌     | 9/20 [00:05<00:06,  1.60it/s]\u001b[A\n",
      "DDIM Sampler:  50%|█████     | 10/20 [00:06<00:06,  1.60it/s]\u001b[A\n",
      "DDIM Sampler:  55%|█████▌    | 11/20 [00:06<00:05,  1.60it/s]\u001b[A\n",
      "DDIM Sampler:  60%|██████    | 12/20 [00:07<00:05,  1.60it/s]\u001b[A\n",
      "DDIM Sampler:  65%|██████▌   | 13/20 [00:08<00:04,  1.60it/s]\u001b[A\n",
      "DDIM Sampler:  70%|███████   | 14/20 [00:08<00:03,  1.60it/s]\u001b[A\n",
      "DDIM Sampler:  75%|███████▌  | 15/20 [00:09<00:03,  1.60it/s]\u001b[A\n",
      "DDIM Sampler:  80%|████████  | 16/20 [00:10<00:02,  1.60it/s]\u001b[A\n",
      "DDIM Sampler:  85%|████████▌ | 17/20 [00:10<00:01,  1.60it/s]\u001b[A\n",
      "DDIM Sampler:  90%|█████████ | 18/20 [00:11<00:01,  1.60it/s]\u001b[A\n",
      "DDIM Sampler:  95%|█████████▌| 19/20 [00:11<00:00,  1.60it/s]\u001b[A\n",
      "DDIM Sampler: 100%|██████████| 20/20 [00:12<00:00,  1.60it/s]\u001b[A\n",
      "Global seed set to 10533\n"
     ]
    },
    {
     "name": "stdout",
     "output_type": "stream",
     "text": [
      "Data shape for DDIM sampling is (2, 4, 72, 64), eta 0.0\n",
      "Running DDIM Sampling with 20 timesteps\n"
     ]
    },
    {
     "name": "stderr",
     "output_type": "stream",
     "text": [
      "\n",
      "DDIM Sampler:   0%|          | 0/20 [00:00<?, ?it/s]\u001b[A\n",
      "DDIM Sampler:   5%|▌         | 1/20 [00:00<00:13,  1.37it/s]\u001b[A\n",
      "DDIM Sampler:  10%|█         | 2/20 [00:01<00:13,  1.34it/s]\u001b[A\n",
      "DDIM Sampler:  15%|█▌        | 3/20 [00:02<00:12,  1.34it/s]\u001b[A\n",
      "DDIM Sampler:  20%|██        | 4/20 [00:02<00:11,  1.34it/s]\u001b[A\n",
      "DDIM Sampler:  25%|██▌       | 5/20 [00:03<00:11,  1.34it/s]\u001b[A\n",
      "DDIM Sampler:  30%|███       | 6/20 [00:04<00:10,  1.34it/s]\u001b[A\n",
      "DDIM Sampler:  35%|███▌      | 7/20 [00:05<00:09,  1.34it/s]\u001b[A\n",
      "DDIM Sampler:  40%|████      | 8/20 [00:05<00:08,  1.34it/s]\u001b[A\n",
      "DDIM Sampler:  45%|████▌     | 9/20 [00:06<00:08,  1.34it/s]\u001b[A\n",
      "DDIM Sampler:  50%|█████     | 10/20 [00:07<00:07,  1.34it/s]\u001b[A\n",
      "DDIM Sampler:  55%|█████▌    | 11/20 [00:08<00:06,  1.34it/s]\u001b[A\n",
      "DDIM Sampler:  60%|██████    | 12/20 [00:08<00:05,  1.34it/s]\u001b[A\n",
      "DDIM Sampler:  65%|██████▌   | 13/20 [00:09<00:05,  1.34it/s]\u001b[A\n",
      "DDIM Sampler:  70%|███████   | 14/20 [00:10<00:04,  1.34it/s]\u001b[A\n",
      "DDIM Sampler:  75%|███████▌  | 15/20 [00:11<00:03,  1.34it/s]\u001b[A\n",
      "DDIM Sampler:  80%|████████  | 16/20 [00:11<00:02,  1.34it/s]\u001b[A\n",
      "DDIM Sampler:  85%|████████▌ | 17/20 [00:12<00:02,  1.34it/s]\u001b[A\n",
      "DDIM Sampler:  90%|█████████ | 18/20 [00:13<00:01,  1.34it/s]\u001b[A\n",
      "DDIM Sampler:  95%|█████████▌| 19/20 [00:14<00:00,  1.34it/s]\u001b[A\n",
      "DDIM Sampler: 100%|██████████| 20/20 [00:14<00:00,  1.34it/s]\u001b[A\n",
      "Global seed set to 31808\n"
     ]
    },
    {
     "name": "stdout",
     "output_type": "stream",
     "text": [
      "Data shape for DDIM sampling is (2, 4, 64, 64), eta 0.0\n",
      "Running DDIM Sampling with 20 timesteps\n"
     ]
    },
    {
     "name": "stderr",
     "output_type": "stream",
     "text": [
      "\n",
      "DDIM Sampler:   0%|          | 0/20 [00:00<?, ?it/s]\u001b[A\n",
      "DDIM Sampler:   5%|▌         | 1/20 [00:00<00:11,  1.63it/s]\u001b[A\n",
      "DDIM Sampler:  10%|█         | 2/20 [00:01<00:11,  1.59it/s]\u001b[A\n",
      "DDIM Sampler:  15%|█▌        | 3/20 [00:01<00:10,  1.59it/s]\u001b[A\n",
      "DDIM Sampler:  20%|██        | 4/20 [00:02<00:10,  1.60it/s]\u001b[A\n",
      "DDIM Sampler:  25%|██▌       | 5/20 [00:03<00:09,  1.59it/s]\u001b[A\n",
      "DDIM Sampler:  30%|███       | 6/20 [00:03<00:08,  1.60it/s]\u001b[A\n",
      "DDIM Sampler:  35%|███▌      | 7/20 [00:04<00:08,  1.60it/s]\u001b[A\n",
      "DDIM Sampler:  40%|████      | 8/20 [00:05<00:07,  1.59it/s]\u001b[A\n",
      "DDIM Sampler:  45%|████▌     | 9/20 [00:05<00:06,  1.60it/s]\u001b[A\n",
      "DDIM Sampler:  50%|█████     | 10/20 [00:06<00:06,  1.59it/s]\u001b[A\n",
      "DDIM Sampler:  55%|█████▌    | 11/20 [00:06<00:05,  1.60it/s]\u001b[A\n",
      "DDIM Sampler:  60%|██████    | 12/20 [00:07<00:05,  1.60it/s]\u001b[A\n",
      "DDIM Sampler:  65%|██████▌   | 13/20 [00:08<00:04,  1.59it/s]\u001b[A\n",
      "DDIM Sampler:  70%|███████   | 14/20 [00:08<00:03,  1.60it/s]\u001b[A\n",
      "DDIM Sampler:  75%|███████▌  | 15/20 [00:09<00:03,  1.60it/s]\u001b[A\n",
      "DDIM Sampler:  80%|████████  | 16/20 [00:10<00:02,  1.60it/s]\u001b[A\n",
      "DDIM Sampler:  85%|████████▌ | 17/20 [00:10<00:01,  1.60it/s]\u001b[A\n",
      "DDIM Sampler:  90%|█████████ | 18/20 [00:11<00:01,  1.60it/s]\u001b[A\n",
      "DDIM Sampler:  95%|█████████▌| 19/20 [00:11<00:00,  1.60it/s]\u001b[A\n",
      "DDIM Sampler: 100%|██████████| 20/20 [00:12<00:00,  1.60it/s]\u001b[A\n",
      "Global seed set to 33281\n"
     ]
    },
    {
     "name": "stdout",
     "output_type": "stream",
     "text": [
      "Data shape for DDIM sampling is (2, 4, 64, 96), eta 0.0\n",
      "Running DDIM Sampling with 20 timesteps\n"
     ]
    },
    {
     "name": "stderr",
     "output_type": "stream",
     "text": [
      "\n",
      "DDIM Sampler:   0%|          | 0/20 [00:00<?, ?it/s]\u001b[A\n",
      "DDIM Sampler:   5%|▌         | 1/20 [00:01<00:22,  1.17s/it]\u001b[A\n",
      "DDIM Sampler:  10%|█         | 2/20 [00:02<00:20,  1.17s/it]\u001b[A\n",
      "DDIM Sampler:  15%|█▌        | 3/20 [00:03<00:19,  1.16s/it]\u001b[A\n",
      "DDIM Sampler:  20%|██        | 4/20 [00:04<00:18,  1.16s/it]\u001b[A\n",
      "DDIM Sampler:  25%|██▌       | 5/20 [00:05<00:17,  1.16s/it]\u001b[A\n",
      "DDIM Sampler:  30%|███       | 6/20 [00:06<00:16,  1.16s/it]\u001b[A\n",
      "DDIM Sampler:  35%|███▌      | 7/20 [00:08<00:15,  1.16s/it]\u001b[A\n",
      "DDIM Sampler:  40%|████      | 8/20 [00:09<00:13,  1.16s/it]\u001b[A\n",
      "DDIM Sampler:  45%|████▌     | 9/20 [00:10<00:12,  1.16s/it]\u001b[A\n",
      "DDIM Sampler:  50%|█████     | 10/20 [00:11<00:11,  1.16s/it]\u001b[A\n",
      "DDIM Sampler:  55%|█████▌    | 11/20 [00:12<00:10,  1.16s/it]\u001b[A\n",
      "DDIM Sampler:  60%|██████    | 12/20 [00:13<00:09,  1.16s/it]\u001b[A\n",
      "DDIM Sampler:  65%|██████▌   | 13/20 [00:15<00:08,  1.16s/it]\u001b[A\n",
      "DDIM Sampler:  70%|███████   | 14/20 [00:16<00:06,  1.16s/it]\u001b[A\n",
      "DDIM Sampler:  75%|███████▌  | 15/20 [00:17<00:05,  1.16s/it]\u001b[A\n",
      "DDIM Sampler:  80%|████████  | 16/20 [00:18<00:04,  1.16s/it]\u001b[A\n",
      "DDIM Sampler:  85%|████████▌ | 17/20 [00:19<00:03,  1.16s/it]\u001b[A\n",
      "DDIM Sampler:  90%|█████████ | 18/20 [00:20<00:02,  1.16s/it]\u001b[A\n",
      "DDIM Sampler:  95%|█████████▌| 19/20 [00:22<00:01,  1.16s/it]\u001b[A\n",
      "DDIM Sampler: 100%|██████████| 20/20 [00:23<00:00,  1.16s/it]\u001b[A\n",
      "Global seed set to 9181\n"
     ]
    },
    {
     "name": "stdout",
     "output_type": "stream",
     "text": [
      "Data shape for DDIM sampling is (2, 4, 64, 64), eta 0.0\n",
      "Running DDIM Sampling with 20 timesteps\n"
     ]
    },
    {
     "name": "stderr",
     "output_type": "stream",
     "text": [
      "\n",
      "DDIM Sampler:   0%|          | 0/20 [00:00<?, ?it/s]\u001b[A\n",
      "DDIM Sampler:   5%|▌         | 1/20 [00:00<00:11,  1.63it/s]\u001b[A\n",
      "DDIM Sampler:  10%|█         | 2/20 [00:01<00:11,  1.59it/s]\u001b[A\n",
      "DDIM Sampler:  15%|█▌        | 3/20 [00:01<00:10,  1.60it/s]\u001b[A\n",
      "DDIM Sampler:  20%|██        | 4/20 [00:02<00:10,  1.60it/s]\u001b[A\n",
      "DDIM Sampler:  25%|██▌       | 5/20 [00:03<00:09,  1.59it/s]\u001b[A\n",
      "DDIM Sampler:  30%|███       | 6/20 [00:03<00:08,  1.60it/s]\u001b[A\n",
      "DDIM Sampler:  35%|███▌      | 7/20 [00:04<00:08,  1.60it/s]\u001b[A\n",
      "DDIM Sampler:  40%|████      | 8/20 [00:05<00:07,  1.60it/s]\u001b[A\n",
      "DDIM Sampler:  45%|████▌     | 9/20 [00:05<00:06,  1.60it/s]\u001b[A\n",
      "DDIM Sampler:  50%|█████     | 10/20 [00:06<00:06,  1.60it/s]\u001b[A\n",
      "DDIM Sampler:  55%|█████▌    | 11/20 [00:06<00:05,  1.60it/s]\u001b[A\n",
      "DDIM Sampler:  60%|██████    | 12/20 [00:07<00:05,  1.60it/s]\u001b[A\n",
      "DDIM Sampler:  65%|██████▌   | 13/20 [00:08<00:04,  1.60it/s]\u001b[A\n",
      "DDIM Sampler:  70%|███████   | 14/20 [00:08<00:03,  1.60it/s]\u001b[A\n",
      "DDIM Sampler:  75%|███████▌  | 15/20 [00:09<00:03,  1.59it/s]\u001b[A\n",
      "DDIM Sampler:  80%|████████  | 16/20 [00:10<00:02,  1.60it/s]\u001b[A\n",
      "DDIM Sampler:  85%|████████▌ | 17/20 [00:10<00:01,  1.60it/s]\u001b[A\n",
      "DDIM Sampler:  90%|█████████ | 18/20 [00:11<00:01,  1.60it/s]\u001b[A\n",
      "DDIM Sampler:  95%|█████████▌| 19/20 [00:11<00:00,  1.60it/s]\u001b[A\n",
      "DDIM Sampler: 100%|██████████| 20/20 [00:12<00:00,  1.60it/s]\u001b[A\n",
      "Global seed set to 64188\n"
     ]
    },
    {
     "name": "stdout",
     "output_type": "stream",
     "text": [
      "Data shape for DDIM sampling is (2, 4, 64, 64), eta 0.0\n",
      "Running DDIM Sampling with 20 timesteps\n"
     ]
    },
    {
     "name": "stderr",
     "output_type": "stream",
     "text": [
      "\n",
      "DDIM Sampler:   0%|          | 0/20 [00:00<?, ?it/s]\u001b[A\n",
      "DDIM Sampler:   5%|▌         | 1/20 [00:00<00:11,  1.64it/s]\u001b[A\n",
      "DDIM Sampler:  10%|█         | 2/20 [00:01<00:11,  1.59it/s]\u001b[A\n",
      "DDIM Sampler:  15%|█▌        | 3/20 [00:01<00:10,  1.60it/s]\u001b[A\n",
      "DDIM Sampler:  20%|██        | 4/20 [00:02<00:10,  1.60it/s]\u001b[A\n",
      "DDIM Sampler:  25%|██▌       | 5/20 [00:03<00:09,  1.60it/s]\u001b[A\n",
      "DDIM Sampler:  30%|███       | 6/20 [00:03<00:08,  1.60it/s]\u001b[A\n",
      "DDIM Sampler:  35%|███▌      | 7/20 [00:04<00:08,  1.60it/s]\u001b[A\n",
      "DDIM Sampler:  40%|████      | 8/20 [00:05<00:07,  1.59it/s]\u001b[A\n",
      "DDIM Sampler:  45%|████▌     | 9/20 [00:05<00:06,  1.60it/s]\u001b[A\n",
      "DDIM Sampler:  50%|█████     | 10/20 [00:06<00:06,  1.59it/s]\u001b[A\n",
      "DDIM Sampler:  55%|█████▌    | 11/20 [00:06<00:05,  1.60it/s]\u001b[A\n",
      "DDIM Sampler:  60%|██████    | 12/20 [00:07<00:05,  1.60it/s]\u001b[A\n",
      "DDIM Sampler:  65%|██████▌   | 13/20 [00:08<00:04,  1.60it/s]\u001b[A\n",
      "DDIM Sampler:  70%|███████   | 14/20 [00:08<00:03,  1.60it/s]\u001b[A\n",
      "DDIM Sampler:  75%|███████▌  | 15/20 [00:09<00:03,  1.60it/s]\u001b[A\n",
      "DDIM Sampler:  80%|████████  | 16/20 [00:10<00:02,  1.60it/s]\u001b[A\n",
      "DDIM Sampler:  85%|████████▌ | 17/20 [00:10<00:01,  1.60it/s]\u001b[A\n",
      "DDIM Sampler:  90%|█████████ | 18/20 [00:11<00:01,  1.60it/s]\u001b[A\n",
      "DDIM Sampler:  95%|█████████▌| 19/20 [00:11<00:00,  1.60it/s]\u001b[A\n",
      "DDIM Sampler: 100%|██████████| 20/20 [00:12<00:00,  1.60it/s]\u001b[A\n",
      "Global seed set to 10533\n"
     ]
    },
    {
     "name": "stdout",
     "output_type": "stream",
     "text": [
      "Data shape for DDIM sampling is (2, 4, 64, 64), eta 0.0\n",
      "Running DDIM Sampling with 20 timesteps\n"
     ]
    },
    {
     "name": "stderr",
     "output_type": "stream",
     "text": [
      "\n",
      "DDIM Sampler:   0%|          | 0/20 [00:00<?, ?it/s]\u001b[A\n",
      "DDIM Sampler:   5%|▌         | 1/20 [00:00<00:11,  1.62it/s]\u001b[A\n",
      "DDIM Sampler:  10%|█         | 2/20 [00:01<00:11,  1.59it/s]\u001b[A\n",
      "DDIM Sampler:  15%|█▌        | 3/20 [00:01<00:10,  1.59it/s]\u001b[A\n",
      "DDIM Sampler:  20%|██        | 4/20 [00:02<00:10,  1.60it/s]\u001b[A\n",
      "DDIM Sampler:  25%|██▌       | 5/20 [00:03<00:09,  1.59it/s]\u001b[A\n",
      "DDIM Sampler:  30%|███       | 6/20 [00:03<00:08,  1.60it/s]\u001b[A\n",
      "DDIM Sampler:  35%|███▌      | 7/20 [00:04<00:08,  1.60it/s]\u001b[A\n",
      "DDIM Sampler:  40%|████      | 8/20 [00:05<00:07,  1.60it/s]\u001b[A\n",
      "DDIM Sampler:  45%|████▌     | 9/20 [00:05<00:06,  1.60it/s]\u001b[A\n",
      "DDIM Sampler:  50%|█████     | 10/20 [00:06<00:06,  1.59it/s]\u001b[A\n",
      "DDIM Sampler:  55%|█████▌    | 11/20 [00:06<00:05,  1.60it/s]\u001b[A\n",
      "DDIM Sampler:  60%|██████    | 12/20 [00:07<00:05,  1.59it/s]\u001b[A\n",
      "DDIM Sampler:  65%|██████▌   | 13/20 [00:08<00:04,  1.59it/s]\u001b[A\n",
      "DDIM Sampler:  70%|███████   | 14/20 [00:08<00:03,  1.59it/s]\u001b[A\n",
      "DDIM Sampler:  75%|███████▌  | 15/20 [00:09<00:03,  1.59it/s]\u001b[A\n",
      "DDIM Sampler:  80%|████████  | 16/20 [00:10<00:02,  1.60it/s]\u001b[A\n",
      "DDIM Sampler:  85%|████████▌ | 17/20 [00:10<00:01,  1.60it/s]\u001b[A\n",
      "DDIM Sampler:  90%|█████████ | 18/20 [00:11<00:01,  1.60it/s]\u001b[A\n",
      "DDIM Sampler:  95%|█████████▌| 19/20 [00:11<00:00,  1.60it/s]\u001b[A\n",
      "DDIM Sampler: 100%|██████████| 20/20 [00:12<00:00,  1.60it/s]\u001b[A\n",
      "Global seed set to 31808\n"
     ]
    },
    {
     "name": "stdout",
     "output_type": "stream",
     "text": [
      "Data shape for DDIM sampling is (2, 4, 64, 64), eta 0.0\n",
      "Running DDIM Sampling with 20 timesteps\n"
     ]
    },
    {
     "name": "stderr",
     "output_type": "stream",
     "text": [
      "\n",
      "DDIM Sampler:   0%|          | 0/20 [00:00<?, ?it/s]\u001b[A\n",
      "DDIM Sampler:   5%|▌         | 1/20 [00:00<00:11,  1.63it/s]\u001b[A\n",
      "DDIM Sampler:  10%|█         | 2/20 [00:01<00:11,  1.59it/s]\u001b[A\n",
      "DDIM Sampler:  15%|█▌        | 3/20 [00:01<00:10,  1.59it/s]\u001b[A\n",
      "DDIM Sampler:  20%|██        | 4/20 [00:02<00:10,  1.60it/s]\u001b[A\n",
      "DDIM Sampler:  25%|██▌       | 5/20 [00:03<00:09,  1.59it/s]\u001b[A\n",
      "DDIM Sampler:  30%|███       | 6/20 [00:03<00:08,  1.60it/s]\u001b[A\n",
      "DDIM Sampler:  35%|███▌      | 7/20 [00:04<00:08,  1.60it/s]\u001b[A\n",
      "DDIM Sampler:  40%|████      | 8/20 [00:05<00:07,  1.60it/s]\u001b[A\n",
      "DDIM Sampler:  45%|████▌     | 9/20 [00:05<00:06,  1.60it/s]\u001b[A\n",
      "DDIM Sampler:  50%|█████     | 10/20 [00:06<00:06,  1.60it/s]\u001b[A\n",
      "DDIM Sampler:  55%|█████▌    | 11/20 [00:06<00:05,  1.59it/s]\u001b[A\n",
      "DDIM Sampler:  60%|██████    | 12/20 [00:07<00:05,  1.59it/s]\u001b[A\n",
      "DDIM Sampler:  65%|██████▌   | 13/20 [00:08<00:04,  1.60it/s]\u001b[A\n",
      "DDIM Sampler:  70%|███████   | 14/20 [00:08<00:03,  1.60it/s]\u001b[A\n",
      "DDIM Sampler:  75%|███████▌  | 15/20 [00:09<00:03,  1.59it/s]\u001b[A\n",
      "DDIM Sampler:  80%|████████  | 16/20 [00:10<00:02,  1.60it/s]\u001b[A\n",
      "DDIM Sampler:  85%|████████▌ | 17/20 [00:10<00:01,  1.60it/s]\u001b[A\n",
      "DDIM Sampler:  90%|█████████ | 18/20 [00:11<00:01,  1.60it/s]\u001b[A\n",
      "DDIM Sampler:  95%|█████████▌| 19/20 [00:11<00:00,  1.60it/s]\u001b[A\n",
      "DDIM Sampler: 100%|██████████| 20/20 [00:12<00:00,  1.60it/s]\u001b[A\n",
      "Global seed set to 33281\n"
     ]
    },
    {
     "name": "stdout",
     "output_type": "stream",
     "text": [
      "Data shape for DDIM sampling is (2, 4, 64, 64), eta 0.0\n",
      "Running DDIM Sampling with 20 timesteps\n"
     ]
    },
    {
     "name": "stderr",
     "output_type": "stream",
     "text": [
      "\n",
      "DDIM Sampler:   0%|          | 0/20 [00:00<?, ?it/s]\u001b[A\n",
      "DDIM Sampler:   5%|▌         | 1/20 [00:00<00:11,  1.63it/s]\u001b[A\n",
      "DDIM Sampler:  10%|█         | 2/20 [00:01<00:11,  1.59it/s]\u001b[A\n",
      "DDIM Sampler:  15%|█▌        | 3/20 [00:01<00:10,  1.59it/s]\u001b[A\n",
      "DDIM Sampler:  20%|██        | 4/20 [00:02<00:10,  1.59it/s]\u001b[A\n",
      "DDIM Sampler:  25%|██▌       | 5/20 [00:03<00:09,  1.59it/s]\u001b[A\n",
      "DDIM Sampler:  30%|███       | 6/20 [00:03<00:08,  1.59it/s]\u001b[A\n",
      "DDIM Sampler:  35%|███▌      | 7/20 [00:04<00:08,  1.59it/s]\u001b[A\n",
      "DDIM Sampler:  40%|████      | 8/20 [00:05<00:07,  1.59it/s]\u001b[A\n",
      "DDIM Sampler:  45%|████▌     | 9/20 [00:05<00:06,  1.60it/s]\u001b[A\n",
      "DDIM Sampler:  50%|█████     | 10/20 [00:06<00:06,  1.59it/s]\u001b[A\n",
      "DDIM Sampler:  55%|█████▌    | 11/20 [00:06<00:05,  1.59it/s]\u001b[A\n",
      "DDIM Sampler:  60%|██████    | 12/20 [00:07<00:05,  1.60it/s]\u001b[A\n",
      "DDIM Sampler:  65%|██████▌   | 13/20 [00:08<00:04,  1.59it/s]\u001b[A\n",
      "DDIM Sampler:  70%|███████   | 14/20 [00:08<00:03,  1.60it/s]\u001b[A\n",
      "DDIM Sampler:  75%|███████▌  | 15/20 [00:09<00:03,  1.59it/s]\u001b[A\n",
      "DDIM Sampler:  80%|████████  | 16/20 [00:10<00:02,  1.60it/s]\u001b[A\n",
      "DDIM Sampler:  85%|████████▌ | 17/20 [00:10<00:01,  1.60it/s]\u001b[A\n",
      "DDIM Sampler:  90%|█████████ | 18/20 [00:11<00:01,  1.59it/s]\u001b[A\n",
      "DDIM Sampler:  95%|█████████▌| 19/20 [00:11<00:00,  1.59it/s]\u001b[A\n",
      "DDIM Sampler: 100%|██████████| 20/20 [00:12<00:00,  1.59it/s]\u001b[A\n",
      "Global seed set to 9181\n"
     ]
    },
    {
     "name": "stdout",
     "output_type": "stream",
     "text": [
      "Data shape for DDIM sampling is (2, 4, 64, 72), eta 0.0\n",
      "Running DDIM Sampling with 20 timesteps\n"
     ]
    },
    {
     "name": "stderr",
     "output_type": "stream",
     "text": [
      "\n",
      "DDIM Sampler:   0%|          | 0/20 [00:00<?, ?it/s]\u001b[A\n",
      "DDIM Sampler:   5%|▌         | 1/20 [00:00<00:14,  1.35it/s]\u001b[A\n",
      "DDIM Sampler:  10%|█         | 2/20 [00:01<00:13,  1.33it/s]\u001b[A\n",
      "DDIM Sampler:  15%|█▌        | 3/20 [00:02<00:12,  1.32it/s]\u001b[A\n",
      "DDIM Sampler:  20%|██        | 4/20 [00:03<00:12,  1.33it/s]\u001b[A\n",
      "DDIM Sampler:  25%|██▌       | 5/20 [00:03<00:11,  1.33it/s]\u001b[A\n",
      "DDIM Sampler:  30%|███       | 6/20 [00:04<00:10,  1.33it/s]\u001b[A\n",
      "DDIM Sampler:  35%|███▌      | 7/20 [00:05<00:09,  1.33it/s]\u001b[A\n",
      "DDIM Sampler:  40%|████      | 8/20 [00:06<00:09,  1.33it/s]\u001b[A\n",
      "DDIM Sampler:  45%|████▌     | 9/20 [00:06<00:08,  1.33it/s]\u001b[A\n",
      "DDIM Sampler:  50%|█████     | 10/20 [00:07<00:07,  1.33it/s]\u001b[A\n",
      "DDIM Sampler:  55%|█████▌    | 11/20 [00:08<00:06,  1.33it/s]\u001b[A\n",
      "DDIM Sampler:  60%|██████    | 12/20 [00:09<00:06,  1.33it/s]\u001b[A\n",
      "DDIM Sampler:  65%|██████▌   | 13/20 [00:09<00:05,  1.33it/s]\u001b[A\n",
      "DDIM Sampler:  70%|███████   | 14/20 [00:10<00:04,  1.33it/s]\u001b[A\n",
      "DDIM Sampler:  75%|███████▌  | 15/20 [00:11<00:03,  1.33it/s]\u001b[A\n",
      "DDIM Sampler:  80%|████████  | 16/20 [00:12<00:03,  1.33it/s]\u001b[A\n",
      "DDIM Sampler:  85%|████████▌ | 17/20 [00:12<00:02,  1.33it/s]\u001b[A\n",
      "DDIM Sampler:  90%|█████████ | 18/20 [00:13<00:01,  1.33it/s]\u001b[A\n",
      "DDIM Sampler:  95%|█████████▌| 19/20 [00:14<00:00,  1.33it/s]\u001b[A\n",
      "DDIM Sampler: 100%|██████████| 20/20 [00:15<00:00,  1.33it/s]\u001b[A\n",
      "Global seed set to 64188\n"
     ]
    },
    {
     "name": "stdout",
     "output_type": "stream",
     "text": [
      "Data shape for DDIM sampling is (2, 4, 64, 112), eta 0.0\n",
      "Running DDIM Sampling with 20 timesteps\n"
     ]
    },
    {
     "name": "stderr",
     "output_type": "stream",
     "text": [
      "\n",
      "DDIM Sampler:   0%|          | 0/20 [00:00<?, ?it/s]\u001b[A\n",
      "DDIM Sampler:   5%|▌         | 1/20 [00:01<00:28,  1.51s/it]\u001b[A\n",
      "DDIM Sampler:  10%|█         | 2/20 [00:03<00:27,  1.51s/it]\u001b[A\n",
      "DDIM Sampler:  15%|█▌        | 3/20 [00:04<00:25,  1.51s/it]\u001b[A\n",
      "DDIM Sampler:  20%|██        | 4/20 [00:06<00:24,  1.51s/it]\u001b[A\n",
      "DDIM Sampler:  25%|██▌       | 5/20 [00:07<00:22,  1.51s/it]\u001b[A\n",
      "DDIM Sampler:  30%|███       | 6/20 [00:09<00:21,  1.51s/it]\u001b[A\n",
      "DDIM Sampler:  35%|███▌      | 7/20 [00:10<00:19,  1.51s/it]\u001b[A\n",
      "DDIM Sampler:  40%|████      | 8/20 [00:12<00:18,  1.51s/it]\u001b[A\n",
      "DDIM Sampler:  45%|████▌     | 9/20 [00:13<00:16,  1.51s/it]\u001b[A\n",
      "DDIM Sampler:  50%|█████     | 10/20 [00:15<00:15,  1.51s/it]\u001b[A\n",
      "DDIM Sampler:  55%|█████▌    | 11/20 [00:16<00:13,  1.51s/it]\u001b[A\n",
      "DDIM Sampler:  60%|██████    | 12/20 [00:18<00:12,  1.51s/it]\u001b[A\n",
      "DDIM Sampler:  65%|██████▌   | 13/20 [00:19<00:10,  1.51s/it]\u001b[A\n",
      "DDIM Sampler:  70%|███████   | 14/20 [00:21<00:09,  1.51s/it]\u001b[A\n",
      "DDIM Sampler:  75%|███████▌  | 15/20 [00:22<00:07,  1.51s/it]\u001b[A\n",
      "DDIM Sampler:  80%|████████  | 16/20 [00:24<00:06,  1.51s/it]\u001b[A\n",
      "DDIM Sampler:  85%|████████▌ | 17/20 [00:25<00:04,  1.51s/it]\u001b[A\n",
      "DDIM Sampler:  90%|█████████ | 18/20 [00:27<00:03,  1.51s/it]\u001b[A\n",
      "DDIM Sampler:  95%|█████████▌| 19/20 [00:28<00:01,  1.51s/it]\u001b[A\n",
      "DDIM Sampler: 100%|██████████| 20/20 [00:30<00:00,  1.51s/it]\u001b[A\n",
      "Global seed set to 10533\n"
     ]
    },
    {
     "name": "stdout",
     "output_type": "stream",
     "text": [
      "Data shape for DDIM sampling is (2, 4, 64, 96), eta 0.0\n",
      "Running DDIM Sampling with 20 timesteps\n"
     ]
    },
    {
     "name": "stderr",
     "output_type": "stream",
     "text": [
      "\n",
      "DDIM Sampler:   0%|          | 0/20 [00:00<?, ?it/s]\u001b[A\n",
      "DDIM Sampler:   5%|▌         | 1/20 [00:01<00:22,  1.17s/it]\u001b[A\n",
      "DDIM Sampler:  10%|█         | 2/20 [00:02<00:20,  1.16s/it]\u001b[A\n",
      "DDIM Sampler:  15%|█▌        | 3/20 [00:03<00:19,  1.16s/it]\u001b[A\n",
      "DDIM Sampler:  20%|██        | 4/20 [00:04<00:18,  1.16s/it]\u001b[A\n",
      "DDIM Sampler:  25%|██▌       | 5/20 [00:05<00:17,  1.16s/it]\u001b[A\n",
      "DDIM Sampler:  30%|███       | 6/20 [00:06<00:16,  1.16s/it]\u001b[A\n",
      "DDIM Sampler:  35%|███▌      | 7/20 [00:08<00:15,  1.16s/it]\u001b[A\n",
      "DDIM Sampler:  40%|████      | 8/20 [00:09<00:13,  1.16s/it]\u001b[A\n",
      "DDIM Sampler:  45%|████▌     | 9/20 [00:10<00:12,  1.16s/it]\u001b[A\n",
      "DDIM Sampler:  50%|█████     | 10/20 [00:11<00:11,  1.16s/it]\u001b[A\n",
      "DDIM Sampler:  55%|█████▌    | 11/20 [00:12<00:10,  1.16s/it]\u001b[A\n",
      "DDIM Sampler:  60%|██████    | 12/20 [00:13<00:09,  1.16s/it]\u001b[A\n",
      "DDIM Sampler:  65%|██████▌   | 13/20 [00:15<00:08,  1.16s/it]\u001b[A\n",
      "DDIM Sampler:  70%|███████   | 14/20 [00:16<00:06,  1.16s/it]\u001b[A\n",
      "DDIM Sampler:  75%|███████▌  | 15/20 [00:17<00:05,  1.16s/it]\u001b[A\n",
      "DDIM Sampler:  80%|████████  | 16/20 [00:18<00:04,  1.16s/it]\u001b[A\n",
      "DDIM Sampler:  85%|████████▌ | 17/20 [00:19<00:03,  1.16s/it]\u001b[A\n",
      "DDIM Sampler:  90%|█████████ | 18/20 [00:20<00:02,  1.16s/it]\u001b[A\n",
      "DDIM Sampler:  95%|█████████▌| 19/20 [00:22<00:01,  1.16s/it]\u001b[A\n",
      "DDIM Sampler: 100%|██████████| 20/20 [00:23<00:00,  1.16s/it]\u001b[A\n",
      "Global seed set to 31808\n"
     ]
    },
    {
     "name": "stdout",
     "output_type": "stream",
     "text": [
      "Data shape for DDIM sampling is (2, 4, 64, 64), eta 0.0\n",
      "Running DDIM Sampling with 20 timesteps\n"
     ]
    },
    {
     "name": "stderr",
     "output_type": "stream",
     "text": [
      "\n",
      "DDIM Sampler:   0%|          | 0/20 [00:00<?, ?it/s]\u001b[A\n",
      "DDIM Sampler:   5%|▌         | 1/20 [00:00<00:11,  1.63it/s]\u001b[A\n",
      "DDIM Sampler:  10%|█         | 2/20 [00:01<00:11,  1.59it/s]\u001b[A\n",
      "DDIM Sampler:  15%|█▌        | 3/20 [00:01<00:10,  1.59it/s]\u001b[A\n",
      "DDIM Sampler:  20%|██        | 4/20 [00:02<00:10,  1.60it/s]\u001b[A\n",
      "DDIM Sampler:  25%|██▌       | 5/20 [00:03<00:09,  1.59it/s]\u001b[A\n",
      "DDIM Sampler:  30%|███       | 6/20 [00:03<00:08,  1.60it/s]\u001b[A\n",
      "DDIM Sampler:  35%|███▌      | 7/20 [00:04<00:08,  1.59it/s]\u001b[A\n",
      "DDIM Sampler:  40%|████      | 8/20 [00:05<00:07,  1.59it/s]\u001b[A\n",
      "DDIM Sampler:  45%|████▌     | 9/20 [00:05<00:06,  1.60it/s]\u001b[A\n",
      "DDIM Sampler:  50%|█████     | 10/20 [00:06<00:06,  1.59it/s]\u001b[A\n",
      "DDIM Sampler:  55%|█████▌    | 11/20 [00:06<00:05,  1.60it/s]\u001b[A\n",
      "DDIM Sampler:  60%|██████    | 12/20 [00:07<00:05,  1.59it/s]\u001b[A\n",
      "DDIM Sampler:  65%|██████▌   | 13/20 [00:08<00:04,  1.59it/s]\u001b[A\n",
      "DDIM Sampler:  70%|███████   | 14/20 [00:08<00:03,  1.60it/s]\u001b[A\n",
      "DDIM Sampler:  75%|███████▌  | 15/20 [00:09<00:03,  1.60it/s]\u001b[A\n",
      "DDIM Sampler:  80%|████████  | 16/20 [00:10<00:02,  1.60it/s]\u001b[A\n",
      "DDIM Sampler:  85%|████████▌ | 17/20 [00:10<00:01,  1.60it/s]\u001b[A\n",
      "DDIM Sampler:  90%|█████████ | 18/20 [00:11<00:01,  1.60it/s]\u001b[A\n",
      "DDIM Sampler:  95%|█████████▌| 19/20 [00:11<00:00,  1.60it/s]\u001b[A\n",
      "DDIM Sampler: 100%|██████████| 20/20 [00:12<00:00,  1.60it/s]\u001b[A\n",
      "Global seed set to 33281\n"
     ]
    },
    {
     "name": "stdout",
     "output_type": "stream",
     "text": [
      "Data shape for DDIM sampling is (2, 4, 64, 64), eta 0.0\n",
      "Running DDIM Sampling with 20 timesteps\n"
     ]
    },
    {
     "name": "stderr",
     "output_type": "stream",
     "text": [
      "\n",
      "DDIM Sampler:   0%|          | 0/20 [00:00<?, ?it/s]\u001b[A\n",
      "DDIM Sampler:   5%|▌         | 1/20 [00:00<00:11,  1.63it/s]\u001b[A\n",
      "DDIM Sampler:  10%|█         | 2/20 [00:01<00:11,  1.59it/s]\u001b[A\n",
      "DDIM Sampler:  15%|█▌        | 3/20 [00:01<00:10,  1.59it/s]\u001b[A\n",
      "DDIM Sampler:  20%|██        | 4/20 [00:02<00:10,  1.60it/s]\u001b[A\n",
      "DDIM Sampler:  25%|██▌       | 5/20 [00:03<00:09,  1.59it/s]\u001b[A\n",
      "DDIM Sampler:  30%|███       | 6/20 [00:03<00:08,  1.60it/s]\u001b[A\n",
      "DDIM Sampler:  35%|███▌      | 7/20 [00:04<00:08,  1.59it/s]\u001b[A\n",
      "DDIM Sampler:  40%|████      | 8/20 [00:05<00:07,  1.59it/s]\u001b[A\n",
      "DDIM Sampler:  45%|████▌     | 9/20 [00:05<00:06,  1.60it/s]\u001b[A\n",
      "DDIM Sampler:  50%|█████     | 10/20 [00:06<00:06,  1.59it/s]\u001b[A\n",
      "DDIM Sampler:  55%|█████▌    | 11/20 [00:06<00:05,  1.60it/s]\u001b[A\n",
      "DDIM Sampler:  60%|██████    | 12/20 [00:07<00:05,  1.60it/s]\u001b[A\n",
      "DDIM Sampler:  65%|██████▌   | 13/20 [00:08<00:04,  1.59it/s]\u001b[A\n",
      "DDIM Sampler:  70%|███████   | 14/20 [00:08<00:03,  1.59it/s]\u001b[A\n",
      "DDIM Sampler:  75%|███████▌  | 15/20 [00:09<00:03,  1.60it/s]\u001b[A\n",
      "DDIM Sampler:  80%|████████  | 16/20 [00:10<00:02,  1.59it/s]\u001b[A\n",
      "DDIM Sampler:  85%|████████▌ | 17/20 [00:10<00:01,  1.60it/s]\u001b[A\n",
      "DDIM Sampler:  90%|█████████ | 18/20 [00:11<00:01,  1.59it/s]\u001b[A\n",
      "DDIM Sampler:  95%|█████████▌| 19/20 [00:11<00:00,  1.59it/s]\u001b[A\n",
      "DDIM Sampler: 100%|██████████| 20/20 [00:12<00:00,  1.59it/s]\u001b[A\n",
      "Global seed set to 9181\n"
     ]
    },
    {
     "name": "stdout",
     "output_type": "stream",
     "text": [
      "Data shape for DDIM sampling is (2, 4, 64, 64), eta 0.0\n",
      "Running DDIM Sampling with 20 timesteps\n"
     ]
    },
    {
     "name": "stderr",
     "output_type": "stream",
     "text": [
      "\n",
      "DDIM Sampler:   0%|          | 0/20 [00:00<?, ?it/s]\u001b[A\n",
      "DDIM Sampler:   5%|▌         | 1/20 [00:00<00:11,  1.63it/s]\u001b[A\n",
      "DDIM Sampler:  10%|█         | 2/20 [00:01<00:11,  1.59it/s]\u001b[A\n",
      "DDIM Sampler:  15%|█▌        | 3/20 [00:01<00:10,  1.59it/s]\u001b[A\n",
      "DDIM Sampler:  20%|██        | 4/20 [00:02<00:10,  1.59it/s]\u001b[A\n",
      "DDIM Sampler:  25%|██▌       | 5/20 [00:03<00:09,  1.59it/s]\u001b[A\n",
      "DDIM Sampler:  30%|███       | 6/20 [00:03<00:08,  1.60it/s]\u001b[A\n",
      "DDIM Sampler:  35%|███▌      | 7/20 [00:04<00:08,  1.60it/s]\u001b[A\n",
      "DDIM Sampler:  40%|████      | 8/20 [00:05<00:07,  1.60it/s]\u001b[A\n",
      "DDIM Sampler:  45%|████▌     | 9/20 [00:05<00:06,  1.60it/s]\u001b[A\n",
      "DDIM Sampler:  50%|█████     | 10/20 [00:06<00:06,  1.60it/s]\u001b[A\n",
      "DDIM Sampler:  55%|█████▌    | 11/20 [00:06<00:05,  1.60it/s]\u001b[A\n",
      "DDIM Sampler:  60%|██████    | 12/20 [00:07<00:05,  1.60it/s]\u001b[A\n",
      "DDIM Sampler:  65%|██████▌   | 13/20 [00:08<00:04,  1.60it/s]\u001b[A\n",
      "DDIM Sampler:  70%|███████   | 14/20 [00:08<00:03,  1.60it/s]\u001b[A\n",
      "DDIM Sampler:  75%|███████▌  | 15/20 [00:09<00:03,  1.60it/s]\u001b[A\n",
      "DDIM Sampler:  80%|████████  | 16/20 [00:10<00:02,  1.60it/s]\u001b[A\n",
      "DDIM Sampler:  85%|████████▌ | 17/20 [00:10<00:01,  1.60it/s]\u001b[A\n",
      "DDIM Sampler:  90%|█████████ | 18/20 [00:11<00:01,  1.60it/s]\u001b[A\n",
      "DDIM Sampler:  95%|█████████▌| 19/20 [00:11<00:00,  1.60it/s]\u001b[A\n",
      "DDIM Sampler: 100%|██████████| 20/20 [00:12<00:00,  1.60it/s]\u001b[A\n",
      "Global seed set to 64188\n"
     ]
    },
    {
     "name": "stdout",
     "output_type": "stream",
     "text": [
      "Data shape for DDIM sampling is (2, 4, 64, 64), eta 0.0\n",
      "Running DDIM Sampling with 20 timesteps\n"
     ]
    },
    {
     "name": "stderr",
     "output_type": "stream",
     "text": [
      "\n",
      "DDIM Sampler:   0%|          | 0/20 [00:00<?, ?it/s]\u001b[A\n",
      "DDIM Sampler:   5%|▌         | 1/20 [00:00<00:11,  1.63it/s]\u001b[A\n",
      "DDIM Sampler:  10%|█         | 2/20 [00:01<00:11,  1.59it/s]\u001b[A\n",
      "DDIM Sampler:  15%|█▌        | 3/20 [00:01<00:10,  1.59it/s]\u001b[A\n",
      "DDIM Sampler:  20%|██        | 4/20 [00:02<00:10,  1.60it/s]\u001b[A\n",
      "DDIM Sampler:  25%|██▌       | 5/20 [00:03<00:09,  1.59it/s]\u001b[A\n",
      "DDIM Sampler:  30%|███       | 6/20 [00:03<00:08,  1.60it/s]\u001b[A\n",
      "DDIM Sampler:  35%|███▌      | 7/20 [00:04<00:08,  1.60it/s]\u001b[A\n",
      "DDIM Sampler:  40%|████      | 8/20 [00:05<00:07,  1.60it/s]\u001b[A\n",
      "DDIM Sampler:  45%|████▌     | 9/20 [00:05<00:06,  1.60it/s]\u001b[A\n",
      "DDIM Sampler:  50%|█████     | 10/20 [00:06<00:06,  1.60it/s]\u001b[A\n",
      "DDIM Sampler:  55%|█████▌    | 11/20 [00:06<00:05,  1.60it/s]\u001b[A\n",
      "DDIM Sampler:  60%|██████    | 12/20 [00:07<00:05,  1.59it/s]\u001b[A\n",
      "DDIM Sampler:  65%|██████▌   | 13/20 [00:08<00:04,  1.60it/s]\u001b[A\n",
      "DDIM Sampler:  70%|███████   | 14/20 [00:08<00:03,  1.60it/s]\u001b[A\n",
      "DDIM Sampler:  75%|███████▌  | 15/20 [00:09<00:03,  1.59it/s]\u001b[A\n",
      "DDIM Sampler:  80%|████████  | 16/20 [00:10<00:02,  1.60it/s]\u001b[A\n",
      "DDIM Sampler:  85%|████████▌ | 17/20 [00:10<00:01,  1.59it/s]\u001b[A\n",
      "DDIM Sampler:  90%|█████████ | 18/20 [00:11<00:01,  1.59it/s]\u001b[A\n",
      "DDIM Sampler:  95%|█████████▌| 19/20 [00:11<00:00,  1.59it/s]\u001b[A\n",
      "DDIM Sampler: 100%|██████████| 20/20 [00:12<00:00,  1.60it/s]\u001b[A\n",
      "Global seed set to 10533\n"
     ]
    },
    {
     "name": "stdout",
     "output_type": "stream",
     "text": [
      "Data shape for DDIM sampling is (2, 4, 64, 64), eta 0.0\n",
      "Running DDIM Sampling with 20 timesteps\n"
     ]
    },
    {
     "name": "stderr",
     "output_type": "stream",
     "text": [
      "\n",
      "DDIM Sampler:   0%|          | 0/20 [00:00<?, ?it/s]\u001b[A\n",
      "DDIM Sampler:   5%|▌         | 1/20 [00:00<00:11,  1.63it/s]\u001b[A\n",
      "DDIM Sampler:  10%|█         | 2/20 [00:01<00:11,  1.59it/s]\u001b[A\n",
      "DDIM Sampler:  15%|█▌        | 3/20 [00:01<00:10,  1.59it/s]\u001b[A\n",
      "DDIM Sampler:  20%|██        | 4/20 [00:02<00:10,  1.60it/s]\u001b[A\n",
      "DDIM Sampler:  25%|██▌       | 5/20 [00:03<00:09,  1.59it/s]\u001b[A\n",
      "DDIM Sampler:  30%|███       | 6/20 [00:03<00:08,  1.60it/s]\u001b[A\n",
      "DDIM Sampler:  35%|███▌      | 7/20 [00:04<00:08,  1.60it/s]\u001b[A\n",
      "DDIM Sampler:  40%|████      | 8/20 [00:05<00:07,  1.59it/s]\u001b[A\n",
      "DDIM Sampler:  45%|████▌     | 9/20 [00:05<00:06,  1.60it/s]\u001b[A\n",
      "DDIM Sampler:  50%|█████     | 10/20 [00:06<00:06,  1.59it/s]\u001b[A\n",
      "DDIM Sampler:  55%|█████▌    | 11/20 [00:06<00:05,  1.60it/s]\u001b[A\n",
      "DDIM Sampler:  60%|██████    | 12/20 [00:07<00:05,  1.60it/s]\u001b[A\n",
      "DDIM Sampler:  65%|██████▌   | 13/20 [00:08<00:04,  1.60it/s]\u001b[A\n",
      "DDIM Sampler:  70%|███████   | 14/20 [00:08<00:03,  1.60it/s]\u001b[A\n",
      "DDIM Sampler:  75%|███████▌  | 15/20 [00:09<00:03,  1.60it/s]\u001b[A\n",
      "DDIM Sampler:  80%|████████  | 16/20 [00:10<00:02,  1.60it/s]\u001b[A\n",
      "DDIM Sampler:  85%|████████▌ | 17/20 [00:10<00:01,  1.60it/s]\u001b[A\n",
      "DDIM Sampler:  90%|█████████ | 18/20 [00:11<00:01,  1.60it/s]\u001b[A\n",
      "DDIM Sampler:  95%|█████████▌| 19/20 [00:11<00:00,  1.60it/s]\u001b[A\n",
      "DDIM Sampler: 100%|██████████| 20/20 [00:12<00:00,  1.60it/s]\u001b[A\n",
      "Global seed set to 31808\n"
     ]
    },
    {
     "name": "stdout",
     "output_type": "stream",
     "text": [
      "Data shape for DDIM sampling is (2, 4, 64, 64), eta 0.0\n",
      "Running DDIM Sampling with 20 timesteps\n"
     ]
    },
    {
     "name": "stderr",
     "output_type": "stream",
     "text": [
      "\n",
      "DDIM Sampler:   0%|          | 0/20 [00:00<?, ?it/s]\u001b[A\n",
      "DDIM Sampler:   5%|▌         | 1/20 [00:00<00:11,  1.63it/s]\u001b[A\n",
      "DDIM Sampler:  10%|█         | 2/20 [00:01<00:11,  1.59it/s]\u001b[A\n",
      "DDIM Sampler:  15%|█▌        | 3/20 [00:01<00:10,  1.60it/s]\u001b[A\n",
      "DDIM Sampler:  20%|██        | 4/20 [00:02<00:10,  1.60it/s]\u001b[A\n",
      "DDIM Sampler:  25%|██▌       | 5/20 [00:03<00:09,  1.60it/s]\u001b[A\n",
      "DDIM Sampler:  30%|███       | 6/20 [00:03<00:08,  1.60it/s]\u001b[A\n",
      "DDIM Sampler:  35%|███▌      | 7/20 [00:04<00:08,  1.59it/s]\u001b[A\n",
      "DDIM Sampler:  40%|████      | 8/20 [00:05<00:07,  1.59it/s]\u001b[A\n",
      "DDIM Sampler:  45%|████▌     | 9/20 [00:05<00:06,  1.60it/s]\u001b[A\n",
      "DDIM Sampler:  50%|█████     | 10/20 [00:06<00:06,  1.60it/s]\u001b[A\n",
      "DDIM Sampler:  55%|█████▌    | 11/20 [00:06<00:05,  1.60it/s]\u001b[A\n",
      "DDIM Sampler:  60%|██████    | 12/20 [00:07<00:05,  1.60it/s]\u001b[A\n",
      "DDIM Sampler:  65%|██████▌   | 13/20 [00:08<00:04,  1.59it/s]\u001b[A\n",
      "DDIM Sampler:  70%|███████   | 14/20 [00:08<00:03,  1.60it/s]\u001b[A\n",
      "DDIM Sampler:  75%|███████▌  | 15/20 [00:09<00:03,  1.60it/s]\u001b[A\n",
      "DDIM Sampler:  80%|████████  | 16/20 [00:10<00:02,  1.59it/s]\u001b[A\n",
      "DDIM Sampler:  85%|████████▌ | 17/20 [00:10<00:01,  1.60it/s]\u001b[A\n",
      "DDIM Sampler:  90%|█████████ | 18/20 [00:11<00:01,  1.59it/s]\u001b[A\n",
      "DDIM Sampler:  95%|█████████▌| 19/20 [00:11<00:00,  1.59it/s]\u001b[A\n",
      "DDIM Sampler: 100%|██████████| 20/20 [00:12<00:00,  1.60it/s]\u001b[A\n",
      "Global seed set to 33281\n"
     ]
    },
    {
     "name": "stdout",
     "output_type": "stream",
     "text": [
      "Data shape for DDIM sampling is (2, 4, 64, 64), eta 0.0\n",
      "Running DDIM Sampling with 20 timesteps\n"
     ]
    },
    {
     "name": "stderr",
     "output_type": "stream",
     "text": [
      "\n",
      "DDIM Sampler:   0%|          | 0/20 [00:00<?, ?it/s]\u001b[A\n",
      "DDIM Sampler:   5%|▌         | 1/20 [00:00<00:11,  1.63it/s]\u001b[A\n",
      "DDIM Sampler:  10%|█         | 2/20 [00:01<00:11,  1.59it/s]\u001b[A\n",
      "DDIM Sampler:  15%|█▌        | 3/20 [00:01<00:10,  1.59it/s]\u001b[A\n",
      "DDIM Sampler:  20%|██        | 4/20 [00:02<00:10,  1.59it/s]\u001b[A\n",
      "DDIM Sampler:  25%|██▌       | 5/20 [00:03<00:09,  1.59it/s]\u001b[A\n",
      "DDIM Sampler:  30%|███       | 6/20 [00:03<00:08,  1.59it/s]\u001b[A\n",
      "DDIM Sampler:  35%|███▌      | 7/20 [00:04<00:08,  1.60it/s]\u001b[A\n",
      "DDIM Sampler:  40%|████      | 8/20 [00:05<00:07,  1.59it/s]\u001b[A\n",
      "DDIM Sampler:  45%|████▌     | 9/20 [00:05<00:06,  1.60it/s]\u001b[A\n",
      "DDIM Sampler:  50%|█████     | 10/20 [00:06<00:06,  1.60it/s]\u001b[A\n",
      "DDIM Sampler:  55%|█████▌    | 11/20 [00:06<00:05,  1.59it/s]\u001b[A\n",
      "DDIM Sampler:  60%|██████    | 12/20 [00:07<00:05,  1.60it/s]\u001b[A\n",
      "DDIM Sampler:  65%|██████▌   | 13/20 [00:08<00:04,  1.60it/s]\u001b[A\n",
      "DDIM Sampler:  70%|███████   | 14/20 [00:08<00:03,  1.60it/s]\u001b[A\n",
      "DDIM Sampler:  75%|███████▌  | 15/20 [00:09<00:03,  1.60it/s]\u001b[A\n",
      "DDIM Sampler:  80%|████████  | 16/20 [00:10<00:02,  1.60it/s]\u001b[A\n",
      "DDIM Sampler:  85%|████████▌ | 17/20 [00:10<00:01,  1.59it/s]\u001b[A\n",
      "DDIM Sampler:  90%|█████████ | 18/20 [00:11<00:01,  1.60it/s]\u001b[A\n",
      "DDIM Sampler:  95%|█████████▌| 19/20 [00:11<00:00,  1.60it/s]\u001b[A\n",
      "DDIM Sampler: 100%|██████████| 20/20 [00:12<00:00,  1.60it/s]\u001b[A\n",
      "Global seed set to 9181\n"
     ]
    },
    {
     "name": "stdout",
     "output_type": "stream",
     "text": [
      "Data shape for DDIM sampling is (2, 4, 72, 64), eta 0.0\n",
      "Running DDIM Sampling with 20 timesteps\n"
     ]
    },
    {
     "name": "stderr",
     "output_type": "stream",
     "text": [
      "\n",
      "DDIM Sampler:   0%|          | 0/20 [00:00<?, ?it/s]\u001b[A\n",
      "DDIM Sampler:   5%|▌         | 1/20 [00:00<00:13,  1.36it/s]\u001b[A\n",
      "DDIM Sampler:  10%|█         | 2/20 [00:01<00:13,  1.34it/s]\u001b[A\n",
      "DDIM Sampler:  15%|█▌        | 3/20 [00:02<00:12,  1.33it/s]\u001b[A\n",
      "DDIM Sampler:  20%|██        | 4/20 [00:02<00:12,  1.33it/s]\u001b[A\n",
      "DDIM Sampler:  25%|██▌       | 5/20 [00:03<00:11,  1.34it/s]\u001b[A\n",
      "DDIM Sampler:  30%|███       | 6/20 [00:04<00:10,  1.34it/s]\u001b[A\n",
      "DDIM Sampler:  35%|███▌      | 7/20 [00:05<00:09,  1.34it/s]\u001b[A\n",
      "DDIM Sampler:  40%|████      | 8/20 [00:05<00:08,  1.34it/s]\u001b[A\n",
      "DDIM Sampler:  45%|████▌     | 9/20 [00:06<00:08,  1.34it/s]\u001b[A\n",
      "DDIM Sampler:  50%|█████     | 10/20 [00:07<00:07,  1.34it/s]\u001b[A\n",
      "DDIM Sampler:  55%|█████▌    | 11/20 [00:08<00:06,  1.34it/s]\u001b[A\n",
      "DDIM Sampler:  60%|██████    | 12/20 [00:08<00:05,  1.34it/s]\u001b[A\n",
      "DDIM Sampler:  65%|██████▌   | 13/20 [00:09<00:05,  1.34it/s]\u001b[A\n",
      "DDIM Sampler:  70%|███████   | 14/20 [00:10<00:04,  1.34it/s]\u001b[A\n",
      "DDIM Sampler:  75%|███████▌  | 15/20 [00:11<00:03,  1.34it/s]\u001b[A\n",
      "DDIM Sampler:  80%|████████  | 16/20 [00:11<00:02,  1.34it/s]\u001b[A\n",
      "DDIM Sampler:  85%|████████▌ | 17/20 [00:12<00:02,  1.34it/s]\u001b[A\n",
      "DDIM Sampler:  90%|█████████ | 18/20 [00:13<00:01,  1.34it/s]\u001b[A\n",
      "DDIM Sampler:  95%|█████████▌| 19/20 [00:14<00:00,  1.34it/s]\u001b[A\n",
      "DDIM Sampler: 100%|██████████| 20/20 [00:14<00:00,  1.34it/s]\u001b[A\n",
      "Global seed set to 64188\n"
     ]
    },
    {
     "name": "stdout",
     "output_type": "stream",
     "text": [
      "Data shape for DDIM sampling is (2, 4, 64, 64), eta 0.0\n",
      "Running DDIM Sampling with 20 timesteps\n"
     ]
    },
    {
     "name": "stderr",
     "output_type": "stream",
     "text": [
      "\n",
      "DDIM Sampler:   0%|          | 0/20 [00:00<?, ?it/s]\u001b[A\n",
      "DDIM Sampler:   5%|▌         | 1/20 [00:00<00:11,  1.63it/s]\u001b[A\n",
      "DDIM Sampler:  10%|█         | 2/20 [00:01<00:11,  1.59it/s]\u001b[A\n",
      "DDIM Sampler:  15%|█▌        | 3/20 [00:01<00:10,  1.59it/s]\u001b[A\n",
      "DDIM Sampler:  20%|██        | 4/20 [00:02<00:10,  1.60it/s]\u001b[A\n",
      "DDIM Sampler:  25%|██▌       | 5/20 [00:03<00:09,  1.59it/s]\u001b[A\n",
      "DDIM Sampler:  30%|███       | 6/20 [00:03<00:08,  1.60it/s]\u001b[A\n",
      "DDIM Sampler:  35%|███▌      | 7/20 [00:04<00:08,  1.60it/s]\u001b[A\n",
      "DDIM Sampler:  40%|████      | 8/20 [00:05<00:07,  1.59it/s]\u001b[A\n",
      "DDIM Sampler:  45%|████▌     | 9/20 [00:05<00:06,  1.60it/s]\u001b[A\n",
      "DDIM Sampler:  50%|█████     | 10/20 [00:06<00:06,  1.60it/s]\u001b[A\n",
      "DDIM Sampler:  55%|█████▌    | 11/20 [00:06<00:05,  1.59it/s]\u001b[A\n",
      "DDIM Sampler:  60%|██████    | 12/20 [00:07<00:05,  1.59it/s]\u001b[A\n",
      "DDIM Sampler:  65%|██████▌   | 13/20 [00:08<00:04,  1.59it/s]\u001b[A\n",
      "DDIM Sampler:  70%|███████   | 14/20 [00:08<00:03,  1.59it/s]\u001b[A\n",
      "DDIM Sampler:  75%|███████▌  | 15/20 [00:09<00:03,  1.60it/s]\u001b[A\n",
      "DDIM Sampler:  80%|████████  | 16/20 [00:10<00:02,  1.60it/s]\u001b[A\n",
      "DDIM Sampler:  85%|████████▌ | 17/20 [00:10<00:01,  1.59it/s]\u001b[A\n",
      "DDIM Sampler:  90%|█████████ | 18/20 [00:11<00:01,  1.59it/s]\u001b[A\n",
      "DDIM Sampler:  95%|█████████▌| 19/20 [00:11<00:00,  1.59it/s]\u001b[A\n",
      "DDIM Sampler: 100%|██████████| 20/20 [00:12<00:00,  1.59it/s]\u001b[A\n",
      "Global seed set to 10533\n"
     ]
    },
    {
     "name": "stdout",
     "output_type": "stream",
     "text": [
      "Data shape for DDIM sampling is (2, 4, 64, 96), eta 0.0\n",
      "Running DDIM Sampling with 20 timesteps\n"
     ]
    },
    {
     "name": "stderr",
     "output_type": "stream",
     "text": [
      "\n",
      "DDIM Sampler:   0%|          | 0/20 [00:00<?, ?it/s]\u001b[A\n",
      "DDIM Sampler:   5%|▌         | 1/20 [00:01<00:22,  1.18s/it]\u001b[A\n",
      "DDIM Sampler:  10%|█         | 2/20 [00:02<00:21,  1.17s/it]\u001b[A\n",
      "DDIM Sampler:  15%|█▌        | 3/20 [00:03<00:19,  1.16s/it]\u001b[A\n",
      "DDIM Sampler:  20%|██        | 4/20 [00:04<00:18,  1.16s/it]\u001b[A\n",
      "DDIM Sampler:  25%|██▌       | 5/20 [00:05<00:17,  1.16s/it]\u001b[A\n",
      "DDIM Sampler:  30%|███       | 6/20 [00:06<00:16,  1.16s/it]\u001b[A\n",
      "DDIM Sampler:  35%|███▌      | 7/20 [00:08<00:15,  1.16s/it]\u001b[A\n",
      "DDIM Sampler:  40%|████      | 8/20 [00:09<00:13,  1.16s/it]\u001b[A\n",
      "DDIM Sampler:  45%|████▌     | 9/20 [00:10<00:12,  1.16s/it]\u001b[A\n",
      "DDIM Sampler:  50%|█████     | 10/20 [00:11<00:11,  1.16s/it]\u001b[A\n",
      "DDIM Sampler:  55%|█████▌    | 11/20 [00:12<00:10,  1.16s/it]\u001b[A\n",
      "DDIM Sampler:  60%|██████    | 12/20 [00:13<00:09,  1.16s/it]\u001b[A\n",
      "DDIM Sampler:  65%|██████▌   | 13/20 [00:15<00:08,  1.16s/it]\u001b[A\n",
      "DDIM Sampler:  70%|███████   | 14/20 [00:16<00:06,  1.16s/it]\u001b[A\n",
      "DDIM Sampler:  75%|███████▌  | 15/20 [00:17<00:05,  1.16s/it]\u001b[A\n",
      "DDIM Sampler:  80%|████████  | 16/20 [00:18<00:04,  1.16s/it]\u001b[A\n",
      "DDIM Sampler:  85%|████████▌ | 17/20 [00:19<00:03,  1.16s/it]\u001b[A\n",
      "DDIM Sampler:  90%|█████████ | 18/20 [00:20<00:02,  1.16s/it]\u001b[A\n",
      "DDIM Sampler:  95%|█████████▌| 19/20 [00:22<00:01,  1.16s/it]\u001b[A\n",
      "DDIM Sampler: 100%|██████████| 20/20 [00:23<00:00,  1.16s/it]\u001b[A\n",
      "Global seed set to 31808\n"
     ]
    },
    {
     "name": "stdout",
     "output_type": "stream",
     "text": [
      "Data shape for DDIM sampling is (2, 4, 64, 64), eta 0.0\n",
      "Running DDIM Sampling with 20 timesteps\n"
     ]
    },
    {
     "name": "stderr",
     "output_type": "stream",
     "text": [
      "\n",
      "DDIM Sampler:   0%|          | 0/20 [00:00<?, ?it/s]\u001b[A\n",
      "DDIM Sampler:   5%|▌         | 1/20 [00:00<00:11,  1.63it/s]\u001b[A\n",
      "DDIM Sampler:  10%|█         | 2/20 [00:01<00:11,  1.59it/s]\u001b[A\n",
      "DDIM Sampler:  15%|█▌        | 3/20 [00:01<00:10,  1.59it/s]\u001b[A\n",
      "DDIM Sampler:  20%|██        | 4/20 [00:02<00:10,  1.59it/s]\u001b[A\n",
      "DDIM Sampler:  25%|██▌       | 5/20 [00:03<00:09,  1.59it/s]\u001b[A\n",
      "DDIM Sampler:  30%|███       | 6/20 [00:03<00:08,  1.60it/s]\u001b[A\n",
      "DDIM Sampler:  35%|███▌      | 7/20 [00:04<00:08,  1.59it/s]\u001b[A\n",
      "DDIM Sampler:  40%|████      | 8/20 [00:05<00:07,  1.60it/s]\u001b[A\n",
      "DDIM Sampler:  45%|████▌     | 9/20 [00:05<00:06,  1.60it/s]\u001b[A\n",
      "DDIM Sampler:  50%|█████     | 10/20 [00:06<00:06,  1.59it/s]\u001b[A\n",
      "DDIM Sampler:  55%|█████▌    | 11/20 [00:06<00:05,  1.60it/s]\u001b[A\n",
      "DDIM Sampler:  60%|██████    | 12/20 [00:07<00:05,  1.60it/s]\u001b[A\n",
      "DDIM Sampler:  65%|██████▌   | 13/20 [00:08<00:04,  1.60it/s]\u001b[A\n",
      "DDIM Sampler:  70%|███████   | 14/20 [00:08<00:03,  1.60it/s]\u001b[A\n",
      "DDIM Sampler:  75%|███████▌  | 15/20 [00:09<00:03,  1.60it/s]\u001b[A\n",
      "DDIM Sampler:  80%|████████  | 16/20 [00:10<00:02,  1.59it/s]\u001b[A\n",
      "DDIM Sampler:  85%|████████▌ | 17/20 [00:10<00:01,  1.60it/s]\u001b[A\n",
      "DDIM Sampler:  90%|█████████ | 18/20 [00:11<00:01,  1.60it/s]\u001b[A\n",
      "DDIM Sampler:  95%|█████████▌| 19/20 [00:11<00:00,  1.60it/s]\u001b[A\n",
      "DDIM Sampler: 100%|██████████| 20/20 [00:12<00:00,  1.60it/s]\u001b[A\n",
      "Global seed set to 33281\n"
     ]
    },
    {
     "name": "stdout",
     "output_type": "stream",
     "text": [
      "Data shape for DDIM sampling is (2, 4, 64, 64), eta 0.0\n",
      "Running DDIM Sampling with 20 timesteps\n"
     ]
    },
    {
     "name": "stderr",
     "output_type": "stream",
     "text": [
      "\n",
      "DDIM Sampler:   0%|          | 0/20 [00:00<?, ?it/s]\u001b[A\n",
      "DDIM Sampler:   5%|▌         | 1/20 [00:00<00:11,  1.63it/s]\u001b[A\n",
      "DDIM Sampler:  10%|█         | 2/20 [00:01<00:11,  1.59it/s]\u001b[A\n",
      "DDIM Sampler:  15%|█▌        | 3/20 [00:01<00:10,  1.60it/s]\u001b[A\n",
      "DDIM Sampler:  20%|██        | 4/20 [00:02<00:09,  1.60it/s]\u001b[A\n",
      "DDIM Sampler:  25%|██▌       | 5/20 [00:03<00:09,  1.60it/s]\u001b[A\n",
      "DDIM Sampler:  30%|███       | 6/20 [00:03<00:08,  1.60it/s]\u001b[A\n",
      "DDIM Sampler:  35%|███▌      | 7/20 [00:04<00:08,  1.60it/s]\u001b[A\n",
      "DDIM Sampler:  40%|████      | 8/20 [00:05<00:07,  1.60it/s]\u001b[A\n",
      "DDIM Sampler:  45%|████▌     | 9/20 [00:05<00:06,  1.60it/s]\u001b[A\n",
      "DDIM Sampler:  50%|█████     | 10/20 [00:06<00:06,  1.60it/s]\u001b[A\n",
      "DDIM Sampler:  55%|█████▌    | 11/20 [00:06<00:05,  1.60it/s]\u001b[A\n",
      "DDIM Sampler:  60%|██████    | 12/20 [00:07<00:05,  1.60it/s]\u001b[A\n",
      "DDIM Sampler:  65%|██████▌   | 13/20 [00:08<00:04,  1.60it/s]\u001b[A\n",
      "DDIM Sampler:  70%|███████   | 14/20 [00:08<00:03,  1.60it/s]\u001b[A\n",
      "DDIM Sampler:  75%|███████▌  | 15/20 [00:09<00:03,  1.59it/s]\u001b[A\n",
      "DDIM Sampler:  80%|████████  | 16/20 [00:10<00:02,  1.59it/s]\u001b[A\n",
      "DDIM Sampler:  85%|████████▌ | 17/20 [00:10<00:01,  1.59it/s]\u001b[A\n",
      "DDIM Sampler:  90%|█████████ | 18/20 [00:11<00:01,  1.59it/s]\u001b[A\n",
      "DDIM Sampler:  95%|█████████▌| 19/20 [00:11<00:00,  1.60it/s]\u001b[A\n",
      "DDIM Sampler: 100%|██████████| 20/20 [00:12<00:00,  1.60it/s]\u001b[A\n",
      "Global seed set to 9181\n"
     ]
    },
    {
     "name": "stdout",
     "output_type": "stream",
     "text": [
      "Data shape for DDIM sampling is (2, 4, 64, 64), eta 0.0\n",
      "Running DDIM Sampling with 20 timesteps\n"
     ]
    },
    {
     "name": "stderr",
     "output_type": "stream",
     "text": [
      "\n",
      "DDIM Sampler:   0%|          | 0/20 [00:00<?, ?it/s]\u001b[A\n",
      "DDIM Sampler:   5%|▌         | 1/20 [00:00<00:11,  1.63it/s]\u001b[A\n",
      "DDIM Sampler:  10%|█         | 2/20 [00:01<00:11,  1.59it/s]\u001b[A\n",
      "DDIM Sampler:  15%|█▌        | 3/20 [00:01<00:10,  1.59it/s]\u001b[A\n",
      "DDIM Sampler:  20%|██        | 4/20 [00:02<00:10,  1.60it/s]\u001b[A\n",
      "DDIM Sampler:  25%|██▌       | 5/20 [00:03<00:09,  1.59it/s]\u001b[A\n",
      "DDIM Sampler:  30%|███       | 6/20 [00:03<00:08,  1.60it/s]\u001b[A\n",
      "DDIM Sampler:  35%|███▌      | 7/20 [00:04<00:08,  1.60it/s]\u001b[A\n",
      "DDIM Sampler:  40%|████      | 8/20 [00:05<00:07,  1.60it/s]\u001b[A\n",
      "DDIM Sampler:  45%|████▌     | 9/20 [00:05<00:06,  1.60it/s]\u001b[A\n",
      "DDIM Sampler:  50%|█████     | 10/20 [00:06<00:06,  1.59it/s]\u001b[A\n",
      "DDIM Sampler:  55%|█████▌    | 11/20 [00:06<00:05,  1.60it/s]\u001b[A\n",
      "DDIM Sampler:  60%|██████    | 12/20 [00:07<00:05,  1.60it/s]\u001b[A\n",
      "DDIM Sampler:  65%|██████▌   | 13/20 [00:08<00:04,  1.60it/s]\u001b[A\n",
      "DDIM Sampler:  70%|███████   | 14/20 [00:08<00:03,  1.60it/s]\u001b[A\n",
      "DDIM Sampler:  75%|███████▌  | 15/20 [00:09<00:03,  1.59it/s]\u001b[A\n",
      "DDIM Sampler:  80%|████████  | 16/20 [00:10<00:02,  1.59it/s]\u001b[A\n",
      "DDIM Sampler:  85%|████████▌ | 17/20 [00:10<00:01,  1.59it/s]\u001b[A\n",
      "DDIM Sampler:  90%|█████████ | 18/20 [00:11<00:01,  1.59it/s]\u001b[A\n",
      "DDIM Sampler:  95%|█████████▌| 19/20 [00:11<00:00,  1.59it/s]\u001b[A\n",
      "DDIM Sampler: 100%|██████████| 20/20 [00:12<00:00,  1.60it/s]\u001b[A\n",
      "Global seed set to 64188\n"
     ]
    },
    {
     "name": "stdout",
     "output_type": "stream",
     "text": [
      "Data shape for DDIM sampling is (2, 4, 64, 64), eta 0.0\n",
      "Running DDIM Sampling with 20 timesteps\n"
     ]
    },
    {
     "name": "stderr",
     "output_type": "stream",
     "text": [
      "\n",
      "DDIM Sampler:   0%|          | 0/20 [00:00<?, ?it/s]\u001b[A\n",
      "DDIM Sampler:   5%|▌         | 1/20 [00:00<00:11,  1.63it/s]\u001b[A\n",
      "DDIM Sampler:  10%|█         | 2/20 [00:01<00:11,  1.59it/s]\u001b[A\n",
      "DDIM Sampler:  15%|█▌        | 3/20 [00:01<00:10,  1.59it/s]\u001b[A\n",
      "DDIM Sampler:  20%|██        | 4/20 [00:02<00:10,  1.60it/s]\u001b[A\n",
      "DDIM Sampler:  25%|██▌       | 5/20 [00:03<00:09,  1.59it/s]\u001b[A\n",
      "DDIM Sampler:  30%|███       | 6/20 [00:03<00:08,  1.60it/s]\u001b[A\n",
      "DDIM Sampler:  35%|███▌      | 7/20 [00:04<00:08,  1.60it/s]\u001b[A\n",
      "DDIM Sampler:  40%|████      | 8/20 [00:05<00:07,  1.59it/s]\u001b[A\n",
      "DDIM Sampler:  45%|████▌     | 9/20 [00:05<00:06,  1.60it/s]\u001b[A\n",
      "DDIM Sampler:  50%|█████     | 10/20 [00:06<00:06,  1.60it/s]\u001b[A\n",
      "DDIM Sampler:  55%|█████▌    | 11/20 [00:06<00:05,  1.59it/s]\u001b[A\n",
      "DDIM Sampler:  60%|██████    | 12/20 [00:07<00:05,  1.60it/s]\u001b[A\n",
      "DDIM Sampler:  65%|██████▌   | 13/20 [00:08<00:04,  1.60it/s]\u001b[A\n",
      "DDIM Sampler:  70%|███████   | 14/20 [00:08<00:03,  1.60it/s]\u001b[A\n",
      "DDIM Sampler:  75%|███████▌  | 15/20 [00:09<00:03,  1.60it/s]\u001b[A\n",
      "DDIM Sampler:  80%|████████  | 16/20 [00:10<00:02,  1.60it/s]\u001b[A\n",
      "DDIM Sampler:  85%|████████▌ | 17/20 [00:10<00:01,  1.59it/s]\u001b[A\n",
      "DDIM Sampler:  90%|█████████ | 18/20 [00:11<00:01,  1.60it/s]\u001b[A\n",
      "DDIM Sampler:  95%|█████████▌| 19/20 [00:11<00:00,  1.60it/s]\u001b[A\n",
      "DDIM Sampler: 100%|██████████| 20/20 [00:12<00:00,  1.60it/s]\u001b[A\n",
      "Global seed set to 10533\n"
     ]
    },
    {
     "name": "stdout",
     "output_type": "stream",
     "text": [
      "Data shape for DDIM sampling is (2, 4, 64, 64), eta 0.0\n",
      "Running DDIM Sampling with 20 timesteps\n"
     ]
    },
    {
     "name": "stderr",
     "output_type": "stream",
     "text": [
      "\n",
      "DDIM Sampler:   0%|          | 0/20 [00:00<?, ?it/s]\u001b[A\n",
      "DDIM Sampler:   5%|▌         | 1/20 [00:00<00:11,  1.62it/s]\u001b[A\n",
      "DDIM Sampler:  10%|█         | 2/20 [00:01<00:11,  1.59it/s]\u001b[A\n",
      "DDIM Sampler:  15%|█▌        | 3/20 [00:01<00:10,  1.59it/s]\u001b[A\n",
      "DDIM Sampler:  20%|██        | 4/20 [00:02<00:10,  1.60it/s]\u001b[A\n",
      "DDIM Sampler:  25%|██▌       | 5/20 [00:03<00:09,  1.60it/s]\u001b[A\n",
      "DDIM Sampler:  30%|███       | 6/20 [00:03<00:08,  1.60it/s]\u001b[A\n",
      "DDIM Sampler:  35%|███▌      | 7/20 [00:04<00:08,  1.60it/s]\u001b[A\n",
      "DDIM Sampler:  40%|████      | 8/20 [00:05<00:07,  1.60it/s]\u001b[A\n",
      "DDIM Sampler:  45%|████▌     | 9/20 [00:05<00:06,  1.60it/s]\u001b[A\n",
      "DDIM Sampler:  50%|█████     | 10/20 [00:06<00:06,  1.60it/s]\u001b[A\n",
      "DDIM Sampler:  55%|█████▌    | 11/20 [00:06<00:05,  1.60it/s]\u001b[A\n",
      "DDIM Sampler:  60%|██████    | 12/20 [00:07<00:05,  1.60it/s]\u001b[A\n",
      "DDIM Sampler:  65%|██████▌   | 13/20 [00:08<00:04,  1.59it/s]\u001b[A\n",
      "DDIM Sampler:  70%|███████   | 14/20 [00:08<00:03,  1.59it/s]\u001b[A\n",
      "DDIM Sampler:  75%|███████▌  | 15/20 [00:09<00:03,  1.59it/s]\u001b[A\n",
      "DDIM Sampler:  80%|████████  | 16/20 [00:10<00:02,  1.59it/s]\u001b[A\n",
      "DDIM Sampler:  85%|████████▌ | 17/20 [00:10<00:01,  1.60it/s]\u001b[A\n",
      "DDIM Sampler:  90%|█████████ | 18/20 [00:11<00:01,  1.59it/s]\u001b[A\n",
      "DDIM Sampler:  95%|█████████▌| 19/20 [00:11<00:00,  1.60it/s]\u001b[A\n",
      "DDIM Sampler: 100%|██████████| 20/20 [00:12<00:00,  1.60it/s]\u001b[A\n",
      "Global seed set to 31808\n"
     ]
    },
    {
     "name": "stdout",
     "output_type": "stream",
     "text": [
      "Data shape for DDIM sampling is (2, 4, 64, 72), eta 0.0\n",
      "Running DDIM Sampling with 20 timesteps\n"
     ]
    },
    {
     "name": "stderr",
     "output_type": "stream",
     "text": [
      "\n",
      "DDIM Sampler:   0%|          | 0/20 [00:00<?, ?it/s]\u001b[A\n",
      "DDIM Sampler:   5%|▌         | 1/20 [00:00<00:13,  1.36it/s]\u001b[A\n",
      "DDIM Sampler:  10%|█         | 2/20 [00:01<00:13,  1.33it/s]\u001b[A\n",
      "DDIM Sampler:  15%|█▌        | 3/20 [00:02<00:12,  1.33it/s]\u001b[A\n",
      "DDIM Sampler:  20%|██        | 4/20 [00:03<00:12,  1.33it/s]\u001b[A\n",
      "DDIM Sampler:  25%|██▌       | 5/20 [00:03<00:11,  1.33it/s]\u001b[A\n",
      "DDIM Sampler:  30%|███       | 6/20 [00:04<00:10,  1.33it/s]\u001b[A\n",
      "DDIM Sampler:  35%|███▌      | 7/20 [00:05<00:09,  1.33it/s]\u001b[A\n",
      "DDIM Sampler:  40%|████      | 8/20 [00:06<00:09,  1.33it/s]\u001b[A\n",
      "DDIM Sampler:  45%|████▌     | 9/20 [00:06<00:08,  1.33it/s]\u001b[A\n",
      "DDIM Sampler:  50%|█████     | 10/20 [00:07<00:07,  1.33it/s]\u001b[A\n",
      "DDIM Sampler:  55%|█████▌    | 11/20 [00:08<00:06,  1.33it/s]\u001b[A\n",
      "DDIM Sampler:  60%|██████    | 12/20 [00:09<00:06,  1.33it/s]\u001b[A\n",
      "DDIM Sampler:  65%|██████▌   | 13/20 [00:09<00:05,  1.33it/s]\u001b[A\n",
      "DDIM Sampler:  70%|███████   | 14/20 [00:10<00:04,  1.33it/s]\u001b[A\n",
      "DDIM Sampler:  75%|███████▌  | 15/20 [00:11<00:03,  1.33it/s]\u001b[A\n",
      "DDIM Sampler:  80%|████████  | 16/20 [00:12<00:03,  1.33it/s]\u001b[A\n",
      "DDIM Sampler:  85%|████████▌ | 17/20 [00:12<00:02,  1.33it/s]\u001b[A\n",
      "DDIM Sampler:  90%|█████████ | 18/20 [00:13<00:01,  1.33it/s]\u001b[A\n",
      "DDIM Sampler:  95%|█████████▌| 19/20 [00:14<00:00,  1.33it/s]\u001b[A\n",
      "DDIM Sampler: 100%|██████████| 20/20 [00:15<00:00,  1.33it/s]\u001b[A\n",
      "Global seed set to 33281\n"
     ]
    },
    {
     "name": "stdout",
     "output_type": "stream",
     "text": [
      "Data shape for DDIM sampling is (2, 4, 64, 112), eta 0.0\n",
      "Running DDIM Sampling with 20 timesteps\n"
     ]
    },
    {
     "name": "stderr",
     "output_type": "stream",
     "text": [
      "\n",
      "DDIM Sampler:   0%|          | 0/20 [00:00<?, ?it/s]\u001b[A\n",
      "DDIM Sampler:   5%|▌         | 1/20 [00:01<00:28,  1.51s/it]\u001b[A\n",
      "DDIM Sampler:  10%|█         | 2/20 [00:03<00:27,  1.51s/it]\u001b[A\n",
      "DDIM Sampler:  15%|█▌        | 3/20 [00:04<00:25,  1.51s/it]\u001b[A\n",
      "DDIM Sampler:  20%|██        | 4/20 [00:06<00:24,  1.51s/it]\u001b[A\n",
      "DDIM Sampler:  25%|██▌       | 5/20 [00:07<00:22,  1.51s/it]\u001b[A\n",
      "DDIM Sampler:  30%|███       | 6/20 [00:09<00:21,  1.51s/it]\u001b[A\n",
      "DDIM Sampler:  35%|███▌      | 7/20 [00:10<00:19,  1.51s/it]\u001b[A\n",
      "DDIM Sampler:  40%|████      | 8/20 [00:12<00:18,  1.51s/it]\u001b[A\n",
      "DDIM Sampler:  45%|████▌     | 9/20 [00:13<00:16,  1.51s/it]\u001b[A\n",
      "DDIM Sampler:  50%|█████     | 10/20 [00:15<00:15,  1.51s/it]\u001b[A\n",
      "DDIM Sampler:  55%|█████▌    | 11/20 [00:16<00:13,  1.51s/it]\u001b[A\n",
      "DDIM Sampler:  60%|██████    | 12/20 [00:18<00:12,  1.51s/it]\u001b[A\n",
      "DDIM Sampler:  65%|██████▌   | 13/20 [00:19<00:10,  1.51s/it]\u001b[A\n",
      "DDIM Sampler:  70%|███████   | 14/20 [00:21<00:09,  1.51s/it]\u001b[A\n",
      "DDIM Sampler:  75%|███████▌  | 15/20 [00:22<00:07,  1.51s/it]\u001b[A\n",
      "DDIM Sampler:  80%|████████  | 16/20 [00:24<00:06,  1.51s/it]\u001b[A\n",
      "DDIM Sampler:  85%|████████▌ | 17/20 [00:25<00:04,  1.51s/it]\u001b[A\n",
      "DDIM Sampler:  90%|█████████ | 18/20 [00:27<00:03,  1.51s/it]\u001b[A\n",
      "DDIM Sampler:  95%|█████████▌| 19/20 [00:28<00:01,  1.51s/it]\u001b[A\n",
      "DDIM Sampler: 100%|██████████| 20/20 [00:30<00:00,  1.51s/it]\u001b[A\n",
      "Global seed set to 9181\n"
     ]
    },
    {
     "name": "stdout",
     "output_type": "stream",
     "text": [
      "Data shape for DDIM sampling is (2, 4, 64, 96), eta 0.0\n",
      "Running DDIM Sampling with 20 timesteps\n"
     ]
    },
    {
     "name": "stderr",
     "output_type": "stream",
     "text": [
      "\n",
      "DDIM Sampler:   0%|          | 0/20 [00:00<?, ?it/s]\u001b[A\n",
      "DDIM Sampler:   5%|▌         | 1/20 [00:01<00:22,  1.17s/it]\u001b[A\n",
      "DDIM Sampler:  10%|█         | 2/20 [00:02<00:20,  1.16s/it]\u001b[A\n",
      "DDIM Sampler:  15%|█▌        | 3/20 [00:03<00:19,  1.16s/it]\u001b[A\n",
      "DDIM Sampler:  20%|██        | 4/20 [00:04<00:18,  1.16s/it]\u001b[A\n",
      "DDIM Sampler:  25%|██▌       | 5/20 [00:05<00:17,  1.16s/it]\u001b[A\n",
      "DDIM Sampler:  30%|███       | 6/20 [00:06<00:16,  1.16s/it]\u001b[A\n",
      "DDIM Sampler:  35%|███▌      | 7/20 [00:08<00:15,  1.16s/it]\u001b[A\n",
      "DDIM Sampler:  40%|████      | 8/20 [00:09<00:13,  1.16s/it]\u001b[A\n",
      "DDIM Sampler:  45%|████▌     | 9/20 [00:10<00:12,  1.16s/it]\u001b[A\n",
      "DDIM Sampler:  50%|█████     | 10/20 [00:11<00:11,  1.16s/it]\u001b[A\n",
      "DDIM Sampler:  55%|█████▌    | 11/20 [00:12<00:10,  1.16s/it]\u001b[A\n",
      "DDIM Sampler:  60%|██████    | 12/20 [00:13<00:09,  1.16s/it]\u001b[A\n",
      "DDIM Sampler:  65%|██████▌   | 13/20 [00:15<00:08,  1.16s/it]\u001b[A\n",
      "DDIM Sampler:  70%|███████   | 14/20 [00:16<00:06,  1.16s/it]\u001b[A\n",
      "DDIM Sampler:  75%|███████▌  | 15/20 [00:17<00:05,  1.16s/it]\u001b[A\n",
      "DDIM Sampler:  80%|████████  | 16/20 [00:18<00:04,  1.16s/it]\u001b[A\n",
      "DDIM Sampler:  85%|████████▌ | 17/20 [00:19<00:03,  1.16s/it]\u001b[A\n",
      "DDIM Sampler:  90%|█████████ | 18/20 [00:20<00:02,  1.16s/it]\u001b[A\n",
      "DDIM Sampler:  95%|█████████▌| 19/20 [00:22<00:01,  1.16s/it]\u001b[A\n",
      "DDIM Sampler: 100%|██████████| 20/20 [00:23<00:00,  1.16s/it]\u001b[A\n",
      "Global seed set to 64188\n"
     ]
    },
    {
     "name": "stdout",
     "output_type": "stream",
     "text": [
      "Data shape for DDIM sampling is (2, 4, 64, 64), eta 0.0\n",
      "Running DDIM Sampling with 20 timesteps\n"
     ]
    },
    {
     "name": "stderr",
     "output_type": "stream",
     "text": [
      "\n",
      "DDIM Sampler:   0%|          | 0/20 [00:00<?, ?it/s]\u001b[A\n",
      "DDIM Sampler:   5%|▌         | 1/20 [00:00<00:11,  1.63it/s]\u001b[A\n",
      "DDIM Sampler:  10%|█         | 2/20 [00:01<00:11,  1.59it/s]\u001b[A\n",
      "DDIM Sampler:  15%|█▌        | 3/20 [00:01<00:10,  1.59it/s]\u001b[A\n",
      "DDIM Sampler:  20%|██        | 4/20 [00:02<00:10,  1.60it/s]\u001b[A\n",
      "DDIM Sampler:  25%|██▌       | 5/20 [00:03<00:09,  1.59it/s]\u001b[A\n",
      "DDIM Sampler:  30%|███       | 6/20 [00:03<00:08,  1.60it/s]\u001b[A\n",
      "DDIM Sampler:  35%|███▌      | 7/20 [00:04<00:08,  1.59it/s]\u001b[A\n",
      "DDIM Sampler:  40%|████      | 8/20 [00:05<00:07,  1.59it/s]\u001b[A\n",
      "DDIM Sampler:  45%|████▌     | 9/20 [00:05<00:06,  1.60it/s]\u001b[A\n",
      "DDIM Sampler:  50%|█████     | 10/20 [00:06<00:06,  1.59it/s]\u001b[A\n",
      "DDIM Sampler:  55%|█████▌    | 11/20 [00:06<00:05,  1.59it/s]\u001b[A\n",
      "DDIM Sampler:  60%|██████    | 12/20 [00:07<00:05,  1.60it/s]\u001b[A\n",
      "DDIM Sampler:  65%|██████▌   | 13/20 [00:08<00:04,  1.59it/s]\u001b[A\n",
      "DDIM Sampler:  70%|███████   | 14/20 [00:08<00:03,  1.60it/s]\u001b[A\n",
      "DDIM Sampler:  75%|███████▌  | 15/20 [00:09<00:03,  1.59it/s]\u001b[A\n",
      "DDIM Sampler:  80%|████████  | 16/20 [00:10<00:02,  1.59it/s]\u001b[A\n",
      "DDIM Sampler:  85%|████████▌ | 17/20 [00:10<00:01,  1.59it/s]\u001b[A\n",
      "DDIM Sampler:  90%|█████████ | 18/20 [00:11<00:01,  1.59it/s]\u001b[A\n",
      "DDIM Sampler:  95%|█████████▌| 19/20 [00:11<00:00,  1.59it/s]\u001b[A\n",
      "DDIM Sampler: 100%|██████████| 20/20 [00:12<00:00,  1.59it/s]\u001b[A\n",
      "Global seed set to 10533\n"
     ]
    },
    {
     "name": "stdout",
     "output_type": "stream",
     "text": [
      "Data shape for DDIM sampling is (2, 4, 64, 64), eta 0.0\n",
      "Running DDIM Sampling with 20 timesteps\n"
     ]
    },
    {
     "name": "stderr",
     "output_type": "stream",
     "text": [
      "\n",
      "DDIM Sampler:   0%|          | 0/20 [00:00<?, ?it/s]\u001b[A\n",
      "DDIM Sampler:   5%|▌         | 1/20 [00:00<00:11,  1.62it/s]\u001b[A\n",
      "DDIM Sampler:  10%|█         | 2/20 [00:01<00:11,  1.59it/s]\u001b[A\n",
      "DDIM Sampler:  15%|█▌        | 3/20 [00:01<00:10,  1.59it/s]\u001b[A\n",
      "DDIM Sampler:  20%|██        | 4/20 [00:02<00:10,  1.60it/s]\u001b[A\n",
      "DDIM Sampler:  25%|██▌       | 5/20 [00:03<00:09,  1.59it/s]\u001b[A\n",
      "DDIM Sampler:  30%|███       | 6/20 [00:03<00:08,  1.60it/s]\u001b[A\n",
      "DDIM Sampler:  35%|███▌      | 7/20 [00:04<00:08,  1.60it/s]\u001b[A\n",
      "DDIM Sampler:  40%|████      | 8/20 [00:05<00:07,  1.59it/s]\u001b[A\n",
      "DDIM Sampler:  45%|████▌     | 9/20 [00:05<00:06,  1.60it/s]\u001b[A\n",
      "DDIM Sampler:  50%|█████     | 10/20 [00:06<00:06,  1.60it/s]\u001b[A\n",
      "DDIM Sampler:  55%|█████▌    | 11/20 [00:06<00:05,  1.59it/s]\u001b[A\n",
      "DDIM Sampler:  60%|██████    | 12/20 [00:07<00:05,  1.60it/s]\u001b[A\n",
      "DDIM Sampler:  65%|██████▌   | 13/20 [00:08<00:04,  1.60it/s]\u001b[A\n",
      "DDIM Sampler:  70%|███████   | 14/20 [00:08<00:03,  1.60it/s]\u001b[A\n",
      "DDIM Sampler:  75%|███████▌  | 15/20 [00:09<00:03,  1.60it/s]\u001b[A\n",
      "DDIM Sampler:  80%|████████  | 16/20 [00:10<00:02,  1.60it/s]\u001b[A\n",
      "DDIM Sampler:  85%|████████▌ | 17/20 [00:10<00:01,  1.60it/s]\u001b[A\n",
      "DDIM Sampler:  90%|█████████ | 18/20 [00:11<00:01,  1.60it/s]\u001b[A\n",
      "DDIM Sampler:  95%|█████████▌| 19/20 [00:11<00:00,  1.60it/s]\u001b[A\n",
      "DDIM Sampler: 100%|██████████| 20/20 [00:12<00:00,  1.60it/s]\u001b[A\n",
      "Global seed set to 31808\n"
     ]
    },
    {
     "name": "stdout",
     "output_type": "stream",
     "text": [
      "Data shape for DDIM sampling is (2, 4, 64, 64), eta 0.0\n",
      "Running DDIM Sampling with 20 timesteps\n"
     ]
    },
    {
     "name": "stderr",
     "output_type": "stream",
     "text": [
      "\n",
      "DDIM Sampler:   0%|          | 0/20 [00:00<?, ?it/s]\u001b[A\n",
      "DDIM Sampler:   5%|▌         | 1/20 [00:00<00:11,  1.63it/s]\u001b[A\n",
      "DDIM Sampler:  50%|█████     | 10/20 [00:06<00:06,  1.60it/s]\u001b[A\n",
      "DDIM Sampler:  55%|█████▌    | 11/20 [00:06<00:05,  1.60it/s]\u001b[A\n",
      "DDIM Sampler:  60%|██████    | 12/20 [00:07<00:05,  1.60it/s]\u001b[A\n",
      "DDIM Sampler:  65%|██████▌   | 13/20 [00:08<00:04,  1.60it/s]\u001b[A\n",
      "DDIM Sampler:  70%|███████   | 14/20 [00:08<00:03,  1.60it/s]\u001b[A\n",
      "DDIM Sampler:  75%|███████▌  | 15/20 [00:09<00:03,  1.60it/s]\u001b[A\n",
      "DDIM Sampler:  80%|████████  | 16/20 [00:10<00:02,  1.60it/s]\u001b[A\n",
      "DDIM Sampler:  85%|████████▌ | 17/20 [00:10<00:01,  1.60it/s]\u001b[A\n",
      "DDIM Sampler:  90%|█████████ | 18/20 [00:11<00:01,  1.60it/s]\u001b[A\n",
      "DDIM Sampler:  95%|█████████▌| 19/20 [00:11<00:00,  1.60it/s]\u001b[A\n",
      "DDIM Sampler: 100%|██████████| 20/20 [00:12<00:00,  1.60it/s]\u001b[A\n",
      "Global seed set to 10533\n"
     ]
    },
    {
     "name": "stdout",
     "output_type": "stream",
     "text": [
      "Data shape for DDIM sampling is (2, 4, 64, 64), eta 0.0\n",
      "Running DDIM Sampling with 20 timesteps\n"
     ]
    },
    {
     "name": "stderr",
     "output_type": "stream",
     "text": [
      "\n",
      "DDIM Sampler:   0%|          | 0/20 [00:00<?, ?it/s]\u001b[A\n",
      "DDIM Sampler:   5%|▌         | 1/20 [00:00<00:11,  1.63it/s]\u001b[A\n",
      "DDIM Sampler:  10%|█         | 2/20 [00:01<00:11,  1.59it/s]\u001b[A\n",
      "DDIM Sampler:  15%|█▌        | 3/20 [00:01<00:10,  1.60it/s]\u001b[A\n",
      "DDIM Sampler:  20%|██        | 4/20 [00:02<00:09,  1.60it/s]\u001b[A\n",
      "DDIM Sampler:  25%|██▌       | 5/20 [00:03<00:09,  1.60it/s]\u001b[A\n",
      "DDIM Sampler:  30%|███       | 6/20 [00:03<00:08,  1.60it/s]\u001b[A\n",
      "DDIM Sampler:  35%|███▌      | 7/20 [00:04<00:08,  1.60it/s]\u001b[A\n",
      "DDIM Sampler:  40%|████      | 8/20 [00:04<00:07,  1.60it/s]\u001b[A\n",
      "DDIM Sampler:  45%|████▌     | 9/20 [00:05<00:06,  1.60it/s]\u001b[A\n",
      "DDIM Sampler:  50%|█████     | 10/20 [00:06<00:06,  1.60it/s]\u001b[A\n",
      "DDIM Sampler:  55%|█████▌    | 11/20 [00:06<00:05,  1.60it/s]\u001b[A\n",
      "DDIM Sampler:  60%|██████    | 12/20 [00:07<00:04,  1.60it/s]\u001b[A\n",
      "DDIM Sampler:  65%|██████▌   | 13/20 [00:08<00:04,  1.60it/s]\u001b[A\n",
      "DDIM Sampler:  70%|███████   | 14/20 [00:08<00:03,  1.60it/s]\u001b[A\n",
      "DDIM Sampler:  75%|███████▌  | 15/20 [00:09<00:03,  1.60it/s]\u001b[A\n",
      "DDIM Sampler:  80%|████████  | 16/20 [00:09<00:02,  1.60it/s]\u001b[A\n",
      "DDIM Sampler:  85%|████████▌ | 17/20 [00:10<00:01,  1.60it/s]\u001b[A\n",
      "DDIM Sampler:  90%|█████████ | 18/20 [00:11<00:01,  1.60it/s]\u001b[A\n",
      "DDIM Sampler:  95%|█████████▌| 19/20 [00:11<00:00,  1.60it/s]\u001b[A\n",
      "DDIM Sampler: 100%|██████████| 20/20 [00:12<00:00,  1.60it/s]\u001b[A\n",
      "Global seed set to 31808\n"
     ]
    },
    {
     "name": "stdout",
     "output_type": "stream",
     "text": [
      "Data shape for DDIM sampling is (2, 4, 64, 64), eta 0.0\n",
      "Running DDIM Sampling with 20 timesteps\n"
     ]
    },
    {
     "name": "stderr",
     "output_type": "stream",
     "text": [
      "\n",
      "DDIM Sampler:   0%|          | 0/20 [00:00<?, ?it/s]\u001b[A\n",
      "DDIM Sampler:   5%|▌         | 1/20 [00:00<00:11,  1.64it/s]\u001b[A\n",
      "DDIM Sampler:  10%|█         | 2/20 [00:01<00:11,  1.59it/s]\u001b[A\n",
      "DDIM Sampler:  15%|█▌        | 3/20 [00:01<00:10,  1.60it/s]\u001b[A\n",
      "DDIM Sampler:  20%|██        | 4/20 [00:02<00:09,  1.60it/s]\u001b[A\n",
      "DDIM Sampler:  25%|██▌       | 5/20 [00:03<00:09,  1.60it/s]\u001b[A\n",
      "DDIM Sampler:  30%|███       | 6/20 [00:03<00:08,  1.60it/s]\u001b[A\n",
      "DDIM Sampler:  35%|███▌      | 7/20 [00:04<00:08,  1.60it/s]\u001b[A\n",
      "DDIM Sampler:  40%|████      | 8/20 [00:05<00:07,  1.60it/s]\u001b[A\n",
      "DDIM Sampler:  45%|████▌     | 9/20 [00:05<00:06,  1.60it/s]\u001b[A\n",
      "DDIM Sampler:  50%|█████     | 10/20 [00:06<00:06,  1.60it/s]\u001b[A\n",
      "DDIM Sampler:  55%|█████▌    | 11/20 [00:06<00:05,  1.60it/s]\u001b[A\n",
      "DDIM Sampler:  60%|██████    | 12/20 [00:07<00:05,  1.60it/s]\u001b[A\n",
      "DDIM Sampler:  65%|██████▌   | 13/20 [00:08<00:04,  1.60it/s]\u001b[A\n",
      "DDIM Sampler:  70%|███████   | 14/20 [00:08<00:03,  1.60it/s]\u001b[A\n",
      "DDIM Sampler:  75%|███████▌  | 15/20 [00:09<00:03,  1.60it/s]\u001b[A\n",
      "DDIM Sampler:  80%|████████  | 16/20 [00:09<00:02,  1.60it/s]\u001b[A\n",
      "DDIM Sampler:  85%|████████▌ | 17/20 [00:10<00:01,  1.60it/s]\u001b[A\n",
      "DDIM Sampler:  90%|█████████ | 18/20 [00:11<00:01,  1.60it/s]\u001b[A\n",
      "DDIM Sampler:  95%|█████████▌| 19/20 [00:11<00:00,  1.60it/s]\u001b[A\n",
      "DDIM Sampler: 100%|██████████| 20/20 [00:12<00:00,  1.60it/s]\u001b[A\n",
      "Global seed set to 33281\n"
     ]
    },
    {
     "name": "stdout",
     "output_type": "stream",
     "text": [
      "Data shape for DDIM sampling is (2, 4, 64, 64), eta 0.0\n",
      "Running DDIM Sampling with 20 timesteps\n"
     ]
    },
    {
     "name": "stderr",
     "output_type": "stream",
     "text": [
      "\n",
      "DDIM Sampler:   0%|          | 0/20 [00:00<?, ?it/s]\u001b[A\n",
      "DDIM Sampler:   5%|▌         | 1/20 [00:00<00:11,  1.64it/s]\u001b[A\n",
      "DDIM Sampler:  10%|█         | 2/20 [00:01<00:11,  1.59it/s]\u001b[A\n",
      "DDIM Sampler:  15%|█▌        | 3/20 [00:01<00:10,  1.59it/s]\u001b[A\n",
      "DDIM Sampler:  20%|██        | 4/20 [00:02<00:10,  1.60it/s]\u001b[A\n",
      "DDIM Sampler:  25%|██▌       | 5/20 [00:03<00:09,  1.60it/s]\u001b[A\n",
      "DDIM Sampler:  30%|███       | 6/20 [00:03<00:08,  1.60it/s]\u001b[A\n",
      "DDIM Sampler:  35%|███▌      | 7/20 [00:04<00:08,  1.60it/s]\u001b[A\n",
      "DDIM Sampler:  40%|████      | 8/20 [00:05<00:07,  1.60it/s]\u001b[A\n",
      "DDIM Sampler:  45%|████▌     | 9/20 [00:05<00:06,  1.60it/s]\u001b[A\n",
      "DDIM Sampler:  50%|█████     | 10/20 [00:06<00:06,  1.60it/s]\u001b[A\n",
      "DDIM Sampler:  55%|█████▌    | 11/20 [00:06<00:05,  1.60it/s]\u001b[A\n",
      "DDIM Sampler:  60%|██████    | 12/20 [00:07<00:04,  1.60it/s]\u001b[A\n",
      "DDIM Sampler:  65%|██████▌   | 13/20 [00:08<00:04,  1.60it/s]\u001b[A\n",
      "DDIM Sampler:  70%|███████   | 14/20 [00:08<00:03,  1.60it/s]\u001b[A\n",
      "DDIM Sampler:  75%|███████▌  | 15/20 [00:09<00:03,  1.60it/s]\u001b[A\n",
      "DDIM Sampler:  80%|████████  | 16/20 [00:10<00:02,  1.60it/s]\u001b[A\n",
      "DDIM Sampler:  85%|████████▌ | 17/20 [00:10<00:01,  1.60it/s]\u001b[A\n",
      "DDIM Sampler:  90%|█████████ | 18/20 [00:11<00:01,  1.60it/s]\u001b[A\n",
      "DDIM Sampler:  95%|█████████▌| 19/20 [00:11<00:00,  1.60it/s]\u001b[A\n",
      "DDIM Sampler: 100%|██████████| 20/20 [00:12<00:00,  1.60it/s]\u001b[A\n",
      "Global seed set to 9181\n"
     ]
    },
    {
     "name": "stdout",
     "output_type": "stream",
     "text": [
      "Data shape for DDIM sampling is (2, 4, 64, 64), eta 0.0\n",
      "Running DDIM Sampling with 20 timesteps\n"
     ]
    },
    {
     "name": "stderr",
     "output_type": "stream",
     "text": [
      "\n",
      "DDIM Sampler:   0%|          | 0/20 [00:00<?, ?it/s]\u001b[A\n",
      "DDIM Sampler:   5%|▌         | 1/20 [00:00<00:11,  1.63it/s]\u001b[A\n",
      "DDIM Sampler:  10%|█         | 2/20 [00:01<00:11,  1.59it/s]\u001b[A\n",
      "DDIM Sampler:  15%|█▌        | 3/20 [00:01<00:10,  1.59it/s]\u001b[A\n",
      "DDIM Sampler:  20%|██        | 4/20 [00:02<00:10,  1.60it/s]\u001b[A\n",
      "DDIM Sampler:  25%|██▌       | 5/20 [00:03<00:09,  1.60it/s]\u001b[A\n",
      "DDIM Sampler:  30%|███       | 6/20 [00:03<00:08,  1.60it/s]\u001b[A\n",
      "DDIM Sampler:  35%|███▌      | 7/20 [00:04<00:08,  1.60it/s]\u001b[A\n",
      "DDIM Sampler:  40%|████      | 8/20 [00:05<00:07,  1.60it/s]\u001b[A\n",
      "DDIM Sampler:  45%|████▌     | 9/20 [00:05<00:06,  1.60it/s]\u001b[A\n",
      "DDIM Sampler:  50%|█████     | 10/20 [00:06<00:06,  1.60it/s]\u001b[A\n",
      "DDIM Sampler:  55%|█████▌    | 11/20 [00:06<00:05,  1.60it/s]\u001b[A\n",
      "DDIM Sampler:  60%|██████    | 12/20 [00:07<00:05,  1.60it/s]\u001b[A\n",
      "DDIM Sampler:  65%|██████▌   | 13/20 [00:08<00:04,  1.60it/s]\u001b[A\n",
      "DDIM Sampler:  70%|███████   | 14/20 [00:08<00:03,  1.60it/s]\u001b[A\n",
      "DDIM Sampler:  75%|███████▌  | 15/20 [00:09<00:03,  1.60it/s]\u001b[A\n",
      "DDIM Sampler:  80%|████████  | 16/20 [00:10<00:02,  1.60it/s]\u001b[A\n",
      "DDIM Sampler:  85%|████████▌ | 17/20 [00:10<00:01,  1.60it/s]\u001b[A\n",
      "DDIM Sampler:  90%|█████████ | 18/20 [00:11<00:01,  1.60it/s]\u001b[A\n",
      "DDIM Sampler:  95%|█████████▌| 19/20 [00:11<00:00,  1.60it/s]\u001b[A\n",
      "DDIM Sampler: 100%|██████████| 20/20 [00:12<00:00,  1.60it/s]\u001b[A\n",
      "Global seed set to 64188\n"
     ]
    },
    {
     "name": "stdout",
     "output_type": "stream",
     "text": [
      "Data shape for DDIM sampling is (2, 4, 64, 72), eta 0.0\n",
      "Running DDIM Sampling with 20 timesteps\n"
     ]
    },
    {
     "name": "stderr",
     "output_type": "stream",
     "text": [
      "\n",
      "DDIM Sampler:   0%|          | 0/20 [00:00<?, ?it/s]\u001b[A\n",
      "DDIM Sampler:   5%|▌         | 1/20 [00:00<00:13,  1.36it/s]\u001b[A\n",
      "DDIM Sampler:  10%|█         | 2/20 [00:01<00:13,  1.33it/s]\u001b[A\n",
      "DDIM Sampler:  15%|█▌        | 3/20 [00:02<00:12,  1.33it/s]\u001b[A\n",
      "DDIM Sampler:  20%|██        | 4/20 [00:03<00:12,  1.33it/s]\u001b[A\n",
      "DDIM Sampler:  25%|██▌       | 5/20 [00:03<00:11,  1.33it/s]\u001b[A\n",
      "DDIM Sampler:  30%|███       | 6/20 [00:04<00:10,  1.33it/s]\u001b[A\n",
      "DDIM Sampler:  35%|███▌      | 7/20 [00:05<00:09,  1.33it/s]\u001b[A\n",
      "DDIM Sampler:  40%|████      | 8/20 [00:06<00:09,  1.33it/s]\u001b[A\n",
      "DDIM Sampler:  45%|████▌     | 9/20 [00:06<00:08,  1.33it/s]\u001b[A\n",
      "DDIM Sampler:  50%|█████     | 10/20 [00:07<00:07,  1.33it/s]\u001b[A\n",
      "DDIM Sampler:  55%|█████▌    | 11/20 [00:08<00:06,  1.33it/s]\u001b[A\n",
      "DDIM Sampler:  60%|██████    | 12/20 [00:08<00:05,  1.33it/s]\u001b[A\n",
      "DDIM Sampler:  65%|██████▌   | 13/20 [00:09<00:05,  1.33it/s]\u001b[A\n",
      "DDIM Sampler:  70%|███████   | 14/20 [00:10<00:04,  1.33it/s]\u001b[A\n",
      "DDIM Sampler:  75%|███████▌  | 15/20 [00:11<00:03,  1.33it/s]\u001b[A\n",
      "DDIM Sampler:  80%|████████  | 16/20 [00:12<00:03,  1.33it/s]\u001b[A\n",
      "DDIM Sampler:  85%|████████▌ | 17/20 [00:12<00:02,  1.33it/s]\u001b[A\n",
      "DDIM Sampler:  90%|█████████ | 18/20 [00:13<00:01,  1.33it/s]\u001b[A\n",
      "DDIM Sampler:  95%|█████████▌| 19/20 [00:14<00:00,  1.33it/s]\u001b[A\n",
      "DDIM Sampler: 100%|██████████| 20/20 [00:15<00:00,  1.33it/s]\u001b[A\n",
      "Global seed set to 10533\n"
     ]
    },
    {
     "name": "stdout",
     "output_type": "stream",
     "text": [
      "Data shape for DDIM sampling is (2, 4, 64, 112), eta 0.0\n",
      "Running DDIM Sampling with 20 timesteps\n"
     ]
    },
    {
     "name": "stderr",
     "output_type": "stream",
     "text": [
      "\n",
      "DDIM Sampler:   0%|          | 0/20 [00:00<?, ?it/s]\u001b[A\n",
      "DDIM Sampler:   5%|▌         | 1/20 [00:01<00:28,  1.51s/it]\u001b[A\n",
      "DDIM Sampler:  10%|█         | 2/20 [00:03<00:27,  1.51s/it]\u001b[A\n",
      "DDIM Sampler:  15%|█▌        | 3/20 [00:04<00:25,  1.51s/it]\u001b[A\n",
      "DDIM Sampler:  20%|██        | 4/20 [00:06<00:24,  1.51s/it]\u001b[A\n",
      "DDIM Sampler:  25%|██▌       | 5/20 [00:07<00:22,  1.51s/it]\u001b[A\n",
      "DDIM Sampler:  30%|███       | 6/20 [00:09<00:21,  1.51s/it]\u001b[A\n",
      "DDIM Sampler:  35%|███▌      | 7/20 [00:10<00:19,  1.51s/it]\u001b[A\n",
      "DDIM Sampler:  40%|████      | 8/20 [00:12<00:18,  1.51s/it]\u001b[A\n",
      "DDIM Sampler:  45%|████▌     | 9/20 [00:13<00:16,  1.51s/it]\u001b[A\n",
      "DDIM Sampler:  50%|█████     | 10/20 [00:15<00:15,  1.51s/it]\u001b[A\n",
      "DDIM Sampler:  55%|█████▌    | 11/20 [00:16<00:13,  1.51s/it]\u001b[A\n",
      "DDIM Sampler:  60%|██████    | 12/20 [00:18<00:12,  1.51s/it]\u001b[A\n",
      "DDIM Sampler:  65%|██████▌   | 13/20 [00:19<00:10,  1.51s/it]\u001b[A\n",
      "DDIM Sampler:  70%|███████   | 14/20 [00:21<00:09,  1.51s/it]\u001b[A\n",
      "DDIM Sampler:  75%|███████▌  | 15/20 [00:22<00:07,  1.51s/it]\u001b[A\n",
      "DDIM Sampler:  80%|████████  | 16/20 [00:24<00:06,  1.51s/it]\u001b[A\n",
      "DDIM Sampler:  85%|████████▌ | 17/20 [00:25<00:04,  1.51s/it]\u001b[A\n",
      "DDIM Sampler:  90%|█████████ | 18/20 [00:27<00:03,  1.51s/it]\u001b[A\n",
      "DDIM Sampler:  95%|█████████▌| 19/20 [00:28<00:01,  1.51s/it]\u001b[A\n",
      "DDIM Sampler: 100%|██████████| 20/20 [00:30<00:00,  1.51s/it]\u001b[A\n",
      "Global seed set to 31808\n"
     ]
    },
    {
     "name": "stdout",
     "output_type": "stream",
     "text": [
      "Data shape for DDIM sampling is (2, 4, 64, 96), eta 0.0\n",
      "Running DDIM Sampling with 20 timesteps\n"
     ]
    },
    {
     "name": "stderr",
     "output_type": "stream",
     "text": [
      "\n",
      "DDIM Sampler:   0%|          | 0/20 [00:00<?, ?it/s]\u001b[A\n",
      "DDIM Sampler:   5%|▌         | 1/20 [00:01<00:22,  1.17s/it]\u001b[A\n",
      "DDIM Sampler:  10%|█         | 2/20 [00:02<00:21,  1.17s/it]\u001b[A\n",
      "DDIM Sampler:  15%|█▌        | 3/20 [00:03<00:19,  1.16s/it]\u001b[A\n",
      "DDIM Sampler:  20%|██        | 4/20 [00:04<00:18,  1.16s/it]\u001b[A\n",
      "DDIM Sampler:  25%|██▌       | 5/20 [00:05<00:17,  1.16s/it]\u001b[A\n",
      "DDIM Sampler:  30%|███       | 6/20 [00:06<00:16,  1.16s/it]\u001b[A\n",
      "DDIM Sampler:  35%|███▌      | 7/20 [00:08<00:15,  1.16s/it]\u001b[A\n",
      "DDIM Sampler:  40%|████      | 8/20 [00:09<00:13,  1.16s/it]\u001b[A\n",
      "DDIM Sampler:  45%|████▌     | 9/20 [00:10<00:12,  1.16s/it]\u001b[A\n",
      "DDIM Sampler:  50%|█████     | 10/20 [00:11<00:11,  1.16s/it]\u001b[A\n",
      "DDIM Sampler:  55%|█████▌    | 11/20 [00:12<00:10,  1.16s/it]\u001b[A\n",
      "DDIM Sampler:  60%|██████    | 12/20 [00:13<00:09,  1.16s/it]\u001b[A\n",
      "DDIM Sampler:  65%|██████▌   | 13/20 [00:15<00:08,  1.16s/it]\u001b[A\n",
      "DDIM Sampler:  70%|███████   | 14/20 [00:16<00:06,  1.16s/it]\u001b[A\n",
      "DDIM Sampler:  75%|███████▌  | 15/20 [00:17<00:05,  1.16s/it]\u001b[A\n",
      "DDIM Sampler:  80%|████████  | 16/20 [00:18<00:04,  1.16s/it]\u001b[A\n",
      "DDIM Sampler:  85%|████████▌ | 17/20 [00:19<00:03,  1.16s/it]\u001b[A\n",
      "DDIM Sampler:  90%|█████████ | 18/20 [00:20<00:02,  1.16s/it]\u001b[A\n",
      "DDIM Sampler:  95%|█████████▌| 19/20 [00:22<00:01,  1.16s/it]\u001b[A\n",
      "DDIM Sampler: 100%|██████████| 20/20 [00:23<00:00,  1.16s/it]\u001b[A\n",
      "Global seed set to 33281\n"
     ]
    },
    {
     "name": "stdout",
     "output_type": "stream",
     "text": [
      "Data shape for DDIM sampling is (2, 4, 64, 64), eta 0.0\n",
      "Running DDIM Sampling with 20 timesteps\n"
     ]
    },
    {
     "name": "stderr",
     "output_type": "stream",
     "text": [
      "\n",
      "DDIM Sampler:   0%|          | 0/20 [00:00<?, ?it/s]\u001b[A\n",
      "DDIM Sampler:   5%|▌         | 1/20 [00:00<00:11,  1.63it/s]\u001b[A\n",
      "DDIM Sampler:  10%|█         | 2/20 [00:01<00:11,  1.59it/s]\u001b[A\n",
      "DDIM Sampler:  15%|█▌        | 3/20 [00:01<00:10,  1.59it/s]\u001b[A\n",
      "DDIM Sampler:  20%|██        | 4/20 [00:02<00:10,  1.60it/s]\u001b[A\n",
      "DDIM Sampler:  25%|██▌       | 5/20 [00:03<00:09,  1.59it/s]\u001b[A\n",
      "DDIM Sampler:  30%|███       | 6/20 [00:03<00:08,  1.60it/s]\u001b[A\n",
      "DDIM Sampler:  35%|███▌      | 7/20 [00:04<00:08,  1.59it/s]\u001b[A\n",
      "DDIM Sampler:  40%|████      | 8/20 [00:05<00:07,  1.59it/s]\u001b[A\n",
      "DDIM Sampler:  45%|████▌     | 9/20 [00:05<00:06,  1.60it/s]\u001b[A\n",
      "DDIM Sampler:  50%|█████     | 10/20 [00:06<00:06,  1.59it/s]\u001b[A\n",
      "DDIM Sampler:  55%|█████▌    | 11/20 [00:06<00:05,  1.59it/s]\u001b[A\n",
      "DDIM Sampler:  60%|██████    | 12/20 [00:07<00:05,  1.60it/s]\u001b[A\n",
      "DDIM Sampler:  65%|██████▌   | 13/20 [00:08<00:04,  1.59it/s]\u001b[A\n",
      "DDIM Sampler:  70%|███████   | 14/20 [00:08<00:03,  1.60it/s]\u001b[A\n",
      "DDIM Sampler:  75%|███████▌  | 15/20 [00:09<00:03,  1.60it/s]\u001b[A\n",
      "DDIM Sampler:  80%|████████  | 16/20 [00:10<00:02,  1.60it/s]\u001b[A\n",
      "DDIM Sampler:  85%|████████▌ | 17/20 [00:10<00:01,  1.60it/s]\u001b[A\n",
      "DDIM Sampler:  90%|█████████ | 18/20 [00:11<00:01,  1.60it/s]\u001b[A\n",
      "DDIM Sampler:  95%|█████████▌| 19/20 [00:11<00:00,  1.59it/s]\u001b[A\n",
      "DDIM Sampler: 100%|██████████| 20/20 [00:12<00:00,  1.60it/s]\u001b[A\n",
      "Global seed set to 9181\n"
     ]
    },
    {
     "name": "stdout",
     "output_type": "stream",
     "text": [
      "Data shape for DDIM sampling is (2, 4, 64, 64), eta 0.0\n",
      "Running DDIM Sampling with 20 timesteps\n"
     ]
    },
    {
     "name": "stderr",
     "output_type": "stream",
     "text": [
      "\n",
      "DDIM Sampler:   0%|          | 0/20 [00:00<?, ?it/s]\u001b[A\n",
      "DDIM Sampler:   5%|▌         | 1/20 [00:00<00:11,  1.64it/s]\u001b[A\n",
      "DDIM Sampler:  10%|█         | 2/20 [00:01<00:11,  1.59it/s]\u001b[A\n",
      "DDIM Sampler:  15%|█▌        | 3/20 [00:01<00:10,  1.59it/s]\u001b[A\n",
      "DDIM Sampler:  20%|██        | 4/20 [00:02<00:10,  1.60it/s]\u001b[A\n",
      "DDIM Sampler:  25%|██▌       | 5/20 [00:03<00:09,  1.59it/s]\u001b[A\n",
      "DDIM Sampler:  30%|███       | 6/20 [00:03<00:08,  1.60it/s]\u001b[A\n",
      "DDIM Sampler:  35%|███▌      | 7/20 [00:04<00:08,  1.60it/s]\u001b[A\n",
      "DDIM Sampler:  40%|████      | 8/20 [00:05<00:07,  1.59it/s]\u001b[A\n",
      "DDIM Sampler:  45%|████▌     | 9/20 [00:05<00:06,  1.60it/s]\u001b[A\n",
      "DDIM Sampler:  50%|█████     | 10/20 [00:06<00:06,  1.60it/s]\u001b[A\n",
      "DDIM Sampler:  55%|█████▌    | 11/20 [00:06<00:05,  1.60it/s]\u001b[A\n",
      "DDIM Sampler:  60%|██████    | 12/20 [00:07<00:05,  1.60it/s]\u001b[A\n",
      "DDIM Sampler:  65%|██████▌   | 13/20 [00:08<00:04,  1.59it/s]\u001b[A\n",
      "DDIM Sampler:  70%|███████   | 14/20 [00:08<00:03,  1.60it/s]\u001b[A\n",
      "DDIM Sampler:  75%|███████▌  | 15/20 [00:09<00:03,  1.60it/s]\u001b[A\n",
      "DDIM Sampler:  80%|████████  | 16/20 [00:10<00:02,  1.60it/s]\u001b[A\n",
      "DDIM Sampler:  85%|████████▌ | 17/20 [00:10<00:01,  1.60it/s]\u001b[A\n",
      "DDIM Sampler:  90%|█████████ | 18/20 [00:11<00:01,  1.60it/s]\u001b[A\n",
      "DDIM Sampler:  95%|█████████▌| 19/20 [00:11<00:00,  1.60it/s]\u001b[A\n",
      "DDIM Sampler: 100%|██████████| 20/20 [00:12<00:00,  1.60it/s]\u001b[A\n",
      "Global seed set to 64188\n"
     ]
    },
    {
     "name": "stdout",
     "output_type": "stream",
     "text": [
      "Data shape for DDIM sampling is (2, 4, 64, 64), eta 0.0\n",
      "Running DDIM Sampling with 20 timesteps\n"
     ]
    },
    {
     "name": "stderr",
     "output_type": "stream",
     "text": [
      "\n",
      "DDIM Sampler:   0%|          | 0/20 [00:00<?, ?it/s]\u001b[A\n",
      "DDIM Sampler:   5%|▌         | 1/20 [00:00<00:11,  1.63it/s]\u001b[A\n",
      "DDIM Sampler:  10%|█         | 2/20 [00:01<00:11,  1.60it/s]\u001b[A\n",
      "DDIM Sampler:  15%|█▌        | 3/20 [00:01<00:10,  1.60it/s]\u001b[A\n",
      "DDIM Sampler:  20%|██        | 4/20 [00:02<00:09,  1.60it/s]\u001b[A\n",
      "DDIM Sampler:  25%|██▌       | 5/20 [00:03<00:09,  1.60it/s]\u001b[A\n",
      "DDIM Sampler:  30%|███       | 6/20 [00:03<00:08,  1.60it/s]\u001b[A\n",
      "DDIM Sampler:  35%|███▌      | 7/20 [00:04<00:08,  1.60it/s]\u001b[A\n",
      "DDIM Sampler:  40%|████      | 8/20 [00:05<00:07,  1.60it/s]\u001b[A\n",
      "DDIM Sampler:  45%|████▌     | 9/20 [00:05<00:06,  1.60it/s]\u001b[A\n",
      "DDIM Sampler:  50%|█████     | 10/20 [00:06<00:06,  1.60it/s]\u001b[A\n",
      "DDIM Sampler:  55%|█████▌    | 11/20 [00:06<00:05,  1.60it/s]\u001b[A\n",
      "DDIM Sampler:  60%|██████    | 12/20 [00:07<00:05,  1.60it/s]\u001b[A\n",
      "DDIM Sampler:  65%|██████▌   | 13/20 [00:08<00:04,  1.59it/s]\u001b[A\n",
      "DDIM Sampler:  70%|███████   | 14/20 [00:08<00:03,  1.60it/s]\u001b[A\n",
      "DDIM Sampler:  75%|███████▌  | 15/20 [00:09<00:03,  1.60it/s]\u001b[A\n",
      "DDIM Sampler:  80%|████████  | 16/20 [00:10<00:02,  1.59it/s]\u001b[A\n",
      "DDIM Sampler:  85%|████████▌ | 17/20 [00:10<00:01,  1.60it/s]\u001b[A\n",
      "DDIM Sampler:  90%|█████████ | 18/20 [00:11<00:01,  1.59it/s]\u001b[A\n",
      "DDIM Sampler:  95%|█████████▌| 19/20 [00:11<00:00,  1.60it/s]\u001b[A\n",
      "DDIM Sampler: 100%|██████████| 20/20 [00:12<00:00,  1.60it/s]\u001b[A\n",
      "Global seed set to 10533\n"
     ]
    },
    {
     "name": "stdout",
     "output_type": "stream",
     "text": [
      "Data shape for DDIM sampling is (2, 4, 64, 64), eta 0.0\n",
      "Running DDIM Sampling with 20 timesteps\n"
     ]
    },
    {
     "name": "stderr",
     "output_type": "stream",
     "text": [
      "\n",
      "DDIM Sampler:   0%|          | 0/20 [00:00<?, ?it/s]\u001b[A\n",
      "DDIM Sampler:   5%|▌         | 1/20 [00:00<00:11,  1.63it/s]\u001b[A\n",
      "DDIM Sampler:  10%|█         | 2/20 [00:01<00:11,  1.59it/s]\u001b[A\n",
      "DDIM Sampler:  15%|█▌        | 3/20 [00:01<00:10,  1.59it/s]\u001b[A\n",
      "DDIM Sampler:  20%|██        | 4/20 [00:02<00:10,  1.60it/s]\u001b[A\n",
      "DDIM Sampler:  25%|██▌       | 5/20 [00:03<00:09,  1.59it/s]\u001b[A\n",
      "DDIM Sampler:  30%|███       | 6/20 [00:03<00:08,  1.60it/s]\u001b[A\n",
      "DDIM Sampler:  35%|███▌      | 7/20 [00:04<00:08,  1.60it/s]\u001b[A\n",
      "DDIM Sampler:  40%|████      | 8/20 [00:05<00:07,  1.59it/s]\u001b[A\n",
      "DDIM Sampler:  45%|████▌     | 9/20 [00:05<00:06,  1.60it/s]\u001b[A\n",
      "DDIM Sampler:  50%|█████     | 10/20 [00:06<00:06,  1.60it/s]\u001b[A\n",
      "DDIM Sampler:  55%|█████▌    | 11/20 [00:06<00:05,  1.60it/s]\u001b[A\n",
      "DDIM Sampler:  60%|██████    | 12/20 [00:07<00:05,  1.60it/s]\u001b[A\n",
      "DDIM Sampler:  65%|██████▌   | 13/20 [00:08<00:04,  1.60it/s]\u001b[A\n",
      "DDIM Sampler:  70%|███████   | 14/20 [00:08<00:03,  1.60it/s]\u001b[A\n",
      "DDIM Sampler:  75%|███████▌  | 15/20 [00:09<00:03,  1.60it/s]\u001b[A\n",
      "DDIM Sampler:  80%|████████  | 16/20 [00:10<00:02,  1.60it/s]\u001b[A\n",
      "DDIM Sampler:  85%|████████▌ | 17/20 [00:10<00:01,  1.60it/s]\u001b[A\n",
      "DDIM Sampler:  90%|█████████ | 18/20 [00:11<00:01,  1.60it/s]\u001b[A\n",
      "DDIM Sampler:  95%|█████████▌| 19/20 [00:11<00:00,  1.60it/s]\u001b[A\n",
      "DDIM Sampler: 100%|██████████| 20/20 [00:12<00:00,  1.60it/s]\u001b[A\n",
      "Global seed set to 31808\n"
     ]
    },
    {
     "name": "stdout",
     "output_type": "stream",
     "text": [
      "Data shape for DDIM sampling is (2, 4, 64, 64), eta 0.0\n",
      "Running DDIM Sampling with 20 timesteps\n"
     ]
    },
    {
     "name": "stderr",
     "output_type": "stream",
     "text": [
      "\n",
      "DDIM Sampler:   0%|          | 0/20 [00:00<?, ?it/s]\u001b[A\n",
      "DDIM Sampler:   5%|▌         | 1/20 [00:00<00:11,  1.63it/s]\u001b[A\n",
      "DDIM Sampler:  10%|█         | 2/20 [00:01<00:11,  1.59it/s]\u001b[A\n",
      "DDIM Sampler:  15%|█▌        | 3/20 [00:01<00:10,  1.59it/s]\u001b[A\n",
      "DDIM Sampler:  20%|██        | 4/20 [00:02<00:10,  1.60it/s]\u001b[A\n",
      "DDIM Sampler:  25%|██▌       | 5/20 [00:03<00:09,  1.59it/s]\u001b[A\n",
      "DDIM Sampler:  30%|███       | 6/20 [00:03<00:08,  1.60it/s]\u001b[A\n",
      "DDIM Sampler:  35%|███▌      | 7/20 [00:04<00:08,  1.59it/s]\u001b[A\n",
      "DDIM Sampler:  40%|████      | 8/20 [00:05<00:07,  1.59it/s]\u001b[A\n",
      "DDIM Sampler:  45%|████▌     | 9/20 [00:05<00:06,  1.60it/s]\u001b[A\n",
      "DDIM Sampler:  50%|█████     | 10/20 [00:06<00:06,  1.59it/s]\u001b[A\n",
      "DDIM Sampler:  55%|█████▌    | 11/20 [00:06<00:05,  1.59it/s]\u001b[A\n",
      "DDIM Sampler:  60%|██████    | 12/20 [00:07<00:05,  1.60it/s]\u001b[A\n",
      "DDIM Sampler:  65%|██████▌   | 13/20 [00:08<00:04,  1.59it/s]\u001b[A\n",
      "DDIM Sampler:  70%|███████   | 14/20 [00:08<00:03,  1.60it/s]\u001b[A\n",
      "DDIM Sampler:  75%|███████▌  | 15/20 [00:09<00:03,  1.59it/s]\u001b[A\n",
      "DDIM Sampler:  80%|████████  | 16/20 [00:10<00:02,  1.60it/s]\u001b[A\n",
      "DDIM Sampler:  85%|████████▌ | 17/20 [00:10<00:01,  1.60it/s]\u001b[A\n",
      "DDIM Sampler:  90%|█████████ | 18/20 [00:11<00:01,  1.60it/s]\u001b[A\n",
      "DDIM Sampler:  95%|█████████▌| 19/20 [00:11<00:00,  1.60it/s]\u001b[A\n",
      "DDIM Sampler: 100%|██████████| 20/20 [00:12<00:00,  1.60it/s]\u001b[A\n",
      "Global seed set to 33281\n"
     ]
    },
    {
     "name": "stdout",
     "output_type": "stream",
     "text": [
      "Data shape for DDIM sampling is (2, 4, 64, 64), eta 0.0\n",
      "Running DDIM Sampling with 20 timesteps\n"
     ]
    },
    {
     "name": "stderr",
     "output_type": "stream",
     "text": [
      "\n",
      "DDIM Sampler:   0%|          | 0/20 [00:00<?, ?it/s]\u001b[A\n",
      "DDIM Sampler:   5%|▌         | 1/20 [00:00<00:11,  1.63it/s]\u001b[A\n",
      "DDIM Sampler:  10%|█         | 2/20 [00:01<00:11,  1.59it/s]\u001b[A\n",
      "DDIM Sampler:  15%|█▌        | 3/20 [00:01<00:10,  1.59it/s]\u001b[A\n",
      "DDIM Sampler:  20%|██        | 4/20 [00:02<00:10,  1.60it/s]\u001b[A\n",
      "DDIM Sampler:  25%|██▌       | 5/20 [00:03<00:09,  1.59it/s]\u001b[A\n",
      "DDIM Sampler:  30%|███       | 6/20 [00:03<00:08,  1.60it/s]\u001b[A\n",
      "DDIM Sampler:  35%|███▌      | 7/20 [00:04<00:08,  1.60it/s]\u001b[A\n",
      "DDIM Sampler:  40%|████      | 8/20 [00:05<00:07,  1.60it/s]\u001b[A\n",
      "DDIM Sampler:  45%|████▌     | 9/20 [00:05<00:06,  1.60it/s]\u001b[A\n",
      "DDIM Sampler:  50%|█████     | 10/20 [00:06<00:06,  1.60it/s]\u001b[A\n",
      "DDIM Sampler:  55%|█████▌    | 11/20 [00:06<00:05,  1.60it/s]\u001b[A\n",
      "DDIM Sampler:  60%|██████    | 12/20 [00:07<00:05,  1.60it/s]\u001b[A\n",
      "DDIM Sampler:  65%|██████▌   | 13/20 [00:08<00:04,  1.59it/s]\u001b[A\n",
      "DDIM Sampler:  70%|███████   | 14/20 [00:08<00:03,  1.60it/s]\u001b[A\n",
      "DDIM Sampler:  75%|███████▌  | 15/20 [00:09<00:03,  1.60it/s]\u001b[A\n",
      "DDIM Sampler:  80%|████████  | 16/20 [00:10<00:02,  1.60it/s]\u001b[A\n",
      "DDIM Sampler:  85%|████████▌ | 17/20 [00:10<00:01,  1.60it/s]\u001b[A\n",
      "DDIM Sampler:  90%|█████████ | 18/20 [00:11<00:01,  1.60it/s]\u001b[A\n",
      "DDIM Sampler:  95%|█████████▌| 19/20 [00:11<00:00,  1.60it/s]\u001b[A\n",
      "DDIM Sampler: 100%|██████████| 20/20 [00:12<00:00,  1.60it/s]\u001b[A\n",
      "Global seed set to 9181\n"
     ]
    },
    {
     "name": "stdout",
     "output_type": "stream",
     "text": [
      "Data shape for DDIM sampling is (2, 4, 64, 64), eta 0.0\n",
      "Running DDIM Sampling with 20 timesteps\n"
     ]
    },
    {
     "name": "stderr",
     "output_type": "stream",
     "text": [
      "\n",
      "DDIM Sampler:   0%|          | 0/20 [00:00<?, ?it/s]\u001b[A\n",
      "DDIM Sampler:   5%|▌         | 1/20 [00:00<00:11,  1.63it/s]\u001b[A\n",
      "DDIM Sampler:  10%|█         | 2/20 [00:01<00:11,  1.59it/s]\u001b[A\n",
      "DDIM Sampler:  15%|█▌        | 3/20 [00:01<00:10,  1.59it/s]\u001b[A\n",
      "DDIM Sampler:  20%|██        | 4/20 [00:02<00:10,  1.59it/s]\u001b[A\n",
      "DDIM Sampler:  25%|██▌       | 5/20 [00:03<00:09,  1.59it/s]\u001b[A\n",
      "DDIM Sampler:  30%|███       | 6/20 [00:03<00:08,  1.59it/s]\u001b[A\n",
      "DDIM Sampler:  35%|███▌      | 7/20 [00:04<00:08,  1.59it/s]\u001b[A\n",
      "DDIM Sampler:  40%|████      | 8/20 [00:05<00:07,  1.59it/s]\u001b[A\n",
      "DDIM Sampler:  45%|████▌     | 9/20 [00:05<00:06,  1.60it/s]\u001b[A\n",
      "DDIM Sampler:  50%|█████     | 10/20 [00:06<00:06,  1.59it/s]\u001b[A\n",
      "DDIM Sampler:  55%|█████▌    | 11/20 [00:06<00:05,  1.60it/s]\u001b[A\n",
      "DDIM Sampler:  60%|██████    | 12/20 [00:07<00:05,  1.59it/s]\u001b[A\n",
      "DDIM Sampler:  65%|██████▌   | 13/20 [00:08<00:04,  1.59it/s]\u001b[A\n",
      "DDIM Sampler:  70%|███████   | 14/20 [00:08<00:03,  1.60it/s]\u001b[A\n",
      "DDIM Sampler:  75%|███████▌  | 15/20 [00:09<00:03,  1.59it/s]\u001b[A\n",
      "DDIM Sampler:  80%|████████  | 16/20 [00:10<00:02,  1.59it/s]\u001b[A\n",
      "DDIM Sampler:  85%|████████▌ | 17/20 [00:10<00:01,  1.60it/s]\u001b[A\n",
      "DDIM Sampler:  90%|█████████ | 18/20 [00:11<00:01,  1.59it/s]\u001b[A\n",
      "DDIM Sampler:  95%|█████████▌| 19/20 [00:11<00:00,  1.59it/s]\u001b[A\n",
      "DDIM Sampler: 100%|██████████| 20/20 [00:12<00:00,  1.59it/s]\u001b[A\n",
      "Global seed set to 64188\n"
     ]
    },
    {
     "name": "stdout",
     "output_type": "stream",
     "text": [
      "Data shape for DDIM sampling is (2, 4, 72, 64), eta 0.0\n",
      "Running DDIM Sampling with 20 timesteps\n"
     ]
    },
    {
     "name": "stderr",
     "output_type": "stream",
     "text": [
      "\n",
      "DDIM Sampler:   0%|          | 0/20 [00:00<?, ?it/s]\u001b[A\n",
      "DDIM Sampler:   5%|▌         | 1/20 [00:00<00:13,  1.36it/s]\u001b[A\n",
      "DDIM Sampler:  10%|█         | 2/20 [00:01<00:13,  1.33it/s]\u001b[A\n",
      "DDIM Sampler:  15%|█▌        | 3/20 [00:02<00:12,  1.33it/s]\u001b[A\n",
      "DDIM Sampler:  20%|██        | 4/20 [00:02<00:12,  1.33it/s]\u001b[A\n",
      "DDIM Sampler:  25%|██▌       | 5/20 [00:03<00:11,  1.34it/s]\u001b[A\n",
      "DDIM Sampler:  30%|███       | 6/20 [00:04<00:10,  1.34it/s]\u001b[A\n",
      "DDIM Sampler:  35%|███▌      | 7/20 [00:05<00:09,  1.34it/s]\u001b[A\n",
      "DDIM Sampler:  40%|████      | 8/20 [00:05<00:08,  1.34it/s]\u001b[A\n",
      "DDIM Sampler:  45%|████▌     | 9/20 [00:06<00:08,  1.34it/s]\u001b[A\n",
      "DDIM Sampler:  50%|█████     | 10/20 [00:07<00:07,  1.34it/s]\u001b[A\n",
      "DDIM Sampler:  55%|█████▌    | 11/20 [00:08<00:06,  1.34it/s]\u001b[A\n",
      "DDIM Sampler:  60%|██████    | 12/20 [00:08<00:05,  1.34it/s]\u001b[A\n",
      "DDIM Sampler:  65%|██████▌   | 13/20 [00:09<00:05,  1.34it/s]\u001b[A\n",
      "DDIM Sampler:  70%|███████   | 14/20 [00:10<00:04,  1.34it/s]\u001b[A\n",
      "DDIM Sampler:  75%|███████▌  | 15/20 [00:11<00:03,  1.34it/s]\u001b[A\n",
      "DDIM Sampler:  80%|████████  | 16/20 [00:11<00:02,  1.34it/s]\u001b[A\n",
      "DDIM Sampler:  85%|████████▌ | 17/20 [00:12<00:02,  1.34it/s]\u001b[A\n",
      "DDIM Sampler:  90%|█████████ | 18/20 [00:13<00:01,  1.34it/s]\u001b[A\n",
      "DDIM Sampler:  95%|█████████▌| 19/20 [00:14<00:00,  1.34it/s]\u001b[A\n",
      "DDIM Sampler: 100%|██████████| 20/20 [00:14<00:00,  1.34it/s]\u001b[A\n",
      "Global seed set to 10533\n"
     ]
    },
    {
     "name": "stdout",
     "output_type": "stream",
     "text": [
      "Data shape for DDIM sampling is (2, 4, 64, 64), eta 0.0\n",
      "Running DDIM Sampling with 20 timesteps\n"
     ]
    },
    {
     "name": "stderr",
     "output_type": "stream",
     "text": [
      "\n",
      "DDIM Sampler:   0%|          | 0/20 [00:00<?, ?it/s]\u001b[A\n",
      "DDIM Sampler:   5%|▌         | 1/20 [00:00<00:11,  1.63it/s]\u001b[A\n",
      "DDIM Sampler:  10%|█         | 2/20 [00:01<00:11,  1.59it/s]\u001b[A\n",
      "DDIM Sampler:  15%|█▌        | 3/20 [00:01<00:10,  1.59it/s]\u001b[A\n",
      "DDIM Sampler:  20%|██        | 4/20 [00:02<00:10,  1.60it/s]\u001b[A\n",
      "DDIM Sampler:  25%|██▌       | 5/20 [00:03<00:09,  1.59it/s]\u001b[A\n",
      "DDIM Sampler:  30%|███       | 6/20 [00:03<00:08,  1.60it/s]\u001b[A\n",
      "DDIM Sampler:  35%|███▌      | 7/20 [00:04<00:08,  1.59it/s]\u001b[A\n",
      "DDIM Sampler:  40%|████      | 8/20 [00:05<00:07,  1.59it/s]\u001b[A\n",
      "DDIM Sampler:  45%|████▌     | 9/20 [00:05<00:06,  1.60it/s]\u001b[A\n",
      "DDIM Sampler:  50%|█████     | 10/20 [00:06<00:06,  1.59it/s]\u001b[A\n",
      "DDIM Sampler:  55%|█████▌    | 11/20 [00:06<00:05,  1.59it/s]\u001b[A\n",
      "DDIM Sampler:  60%|██████    | 12/20 [00:07<00:05,  1.60it/s]\u001b[A\n",
      "DDIM Sampler:  65%|██████▌   | 13/20 [00:08<00:04,  1.59it/s]\u001b[A\n",
      "DDIM Sampler:  70%|███████   | 14/20 [00:08<00:03,  1.60it/s]\u001b[A\n",
      "DDIM Sampler:  75%|███████▌  | 15/20 [00:09<00:03,  1.60it/s]\u001b[A\n",
      "DDIM Sampler:  80%|████████  | 16/20 [00:10<00:02,  1.60it/s]\u001b[A\n",
      "DDIM Sampler:  85%|████████▌ | 17/20 [00:10<00:01,  1.60it/s]\u001b[A\n",
      "DDIM Sampler:  90%|█████████ | 18/20 [00:11<00:01,  1.60it/s]\u001b[A\n",
      "DDIM Sampler:  95%|█████████▌| 19/20 [00:11<00:00,  1.60it/s]\u001b[A\n",
      "DDIM Sampler: 100%|██████████| 20/20 [00:12<00:00,  1.60it/s]\u001b[A\n",
      "Global seed set to 31808\n"
     ]
    },
    {
     "name": "stdout",
     "output_type": "stream",
     "text": [
      "Data shape for DDIM sampling is (2, 4, 64, 96), eta 0.0\n",
      "Running DDIM Sampling with 20 timesteps\n"
     ]
    },
    {
     "name": "stderr",
     "output_type": "stream",
     "text": [
      "\n",
      "DDIM Sampler:   0%|          | 0/20 [00:00<?, ?it/s]\u001b[A\n",
      "DDIM Sampler:   5%|▌         | 1/20 [00:01<00:22,  1.17s/it]\u001b[A\n",
      "DDIM Sampler:  10%|█         | 2/20 [00:02<00:20,  1.16s/it]\u001b[A\n",
      "DDIM Sampler:  15%|█▌        | 3/20 [00:03<00:19,  1.16s/it]\u001b[A\n",
      "DDIM Sampler:  20%|██        | 4/20 [00:04<00:18,  1.16s/it]\u001b[A\n",
      "DDIM Sampler:  25%|██▌       | 5/20 [00:05<00:17,  1.16s/it]\u001b[A\n",
      "DDIM Sampler:  30%|███       | 6/20 [00:06<00:16,  1.16s/it]\u001b[A\n",
      "DDIM Sampler:  35%|███▌      | 7/20 [00:08<00:15,  1.16s/it]\u001b[A\n",
      "DDIM Sampler:  40%|████      | 8/20 [00:09<00:13,  1.16s/it]\u001b[A\n",
      "DDIM Sampler:  45%|████▌     | 9/20 [00:10<00:12,  1.16s/it]\u001b[A\n",
      "DDIM Sampler:  50%|█████     | 10/20 [00:11<00:11,  1.16s/it]\u001b[A\n",
      "DDIM Sampler:  55%|█████▌    | 11/20 [00:12<00:10,  1.16s/it]\u001b[A\n",
      "DDIM Sampler:  60%|██████    | 12/20 [00:13<00:09,  1.16s/it]\u001b[A\n",
      "DDIM Sampler:  65%|██████▌   | 13/20 [00:15<00:08,  1.16s/it]\u001b[A\n",
      "DDIM Sampler:  70%|███████   | 14/20 [00:16<00:06,  1.16s/it]\u001b[A\n",
      "DDIM Sampler:  75%|███████▌  | 15/20 [00:17<00:05,  1.16s/it]\u001b[A\n",
      "DDIM Sampler:  80%|████████  | 16/20 [00:18<00:04,  1.16s/it]\u001b[A\n",
      "DDIM Sampler:  85%|████████▌ | 17/20 [00:19<00:03,  1.16s/it]\u001b[A\n",
      "DDIM Sampler:  90%|█████████ | 18/20 [00:20<00:02,  1.16s/it]\u001b[A\n",
      "DDIM Sampler:  95%|█████████▌| 19/20 [00:22<00:01,  1.16s/it]\u001b[A\n",
      "DDIM Sampler: 100%|██████████| 20/20 [00:23<00:00,  1.16s/it]\u001b[A\n",
      "Global seed set to 33281\n"
     ]
    },
    {
     "name": "stdout",
     "output_type": "stream",
     "text": [
      "Data shape for DDIM sampling is (2, 4, 64, 64), eta 0.0\n",
      "Running DDIM Sampling with 20 timesteps\n"
     ]
    },
    {
     "name": "stderr",
     "output_type": "stream",
     "text": [
      "\n",
      "DDIM Sampler:   0%|          | 0/20 [00:00<?, ?it/s]\u001b[A\n",
      "DDIM Sampler:   5%|▌         | 1/20 [00:00<00:11,  1.63it/s]\u001b[A\n",
      "DDIM Sampler:  10%|█         | 2/20 [00:01<00:11,  1.59it/s]\u001b[A\n",
      "DDIM Sampler:  15%|█▌        | 3/20 [00:01<00:10,  1.59it/s]\u001b[A\n",
      "DDIM Sampler:  20%|██        | 4/20 [00:02<00:10,  1.60it/s]\u001b[A\n",
      "DDIM Sampler:  25%|██▌       | 5/20 [00:03<00:09,  1.59it/s]\u001b[A\n",
      "DDIM Sampler:  30%|███       | 6/20 [00:03<00:08,  1.60it/s]\u001b[A\n",
      "DDIM Sampler:  35%|███▌      | 7/20 [00:04<00:08,  1.59it/s]\u001b[A\n",
      "DDIM Sampler:  40%|████      | 8/20 [00:05<00:07,  1.59it/s]\u001b[A\n",
      "DDIM Sampler:  45%|████▌     | 9/20 [00:05<00:06,  1.60it/s]\u001b[A\n",
      "DDIM Sampler:  50%|█████     | 10/20 [00:06<00:06,  1.60it/s]\u001b[A\n",
      "DDIM Sampler:  55%|█████▌    | 11/20 [00:06<00:05,  1.60it/s]\u001b[A\n",
      "DDIM Sampler:  60%|██████    | 12/20 [00:07<00:05,  1.60it/s]\u001b[A\n",
      "DDIM Sampler:  65%|██████▌   | 13/20 [00:08<00:04,  1.59it/s]\u001b[A\n",
      "DDIM Sampler:  70%|███████   | 14/20 [00:08<00:03,  1.60it/s]\u001b[A\n",
      "DDIM Sampler:  75%|███████▌  | 15/20 [00:09<00:03,  1.59it/s]\u001b[A\n",
      "DDIM Sampler:  80%|████████  | 16/20 [00:10<00:02,  1.60it/s]\u001b[A\n",
      "DDIM Sampler:  85%|████████▌ | 17/20 [00:10<00:01,  1.60it/s]\u001b[A\n",
      "DDIM Sampler:  90%|█████████ | 18/20 [00:11<00:01,  1.59it/s]\u001b[A\n",
      "DDIM Sampler:  95%|█████████▌| 19/20 [00:11<00:00,  1.60it/s]\u001b[A\n",
      "DDIM Sampler: 100%|██████████| 20/20 [00:12<00:00,  1.60it/s]\u001b[A\n",
      "Global seed set to 9181\n"
     ]
    },
    {
     "name": "stdout",
     "output_type": "stream",
     "text": [
      "Data shape for DDIM sampling is (2, 4, 64, 64), eta 0.0\n",
      "Running DDIM Sampling with 20 timesteps\n"
     ]
    },
    {
     "name": "stderr",
     "output_type": "stream",
     "text": [
      "\n",
      "DDIM Sampler:   0%|          | 0/20 [00:00<?, ?it/s]\u001b[A\n",
      "DDIM Sampler:   5%|▌         | 1/20 [00:00<00:11,  1.64it/s]\u001b[A\n",
      "DDIM Sampler:  10%|█         | 2/20 [00:01<00:11,  1.59it/s]\u001b[A\n",
      "DDIM Sampler:  15%|█▌        | 3/20 [00:01<00:10,  1.59it/s]\u001b[A\n",
      "DDIM Sampler:  20%|██        | 4/20 [00:02<00:10,  1.60it/s]\u001b[A\n",
      "DDIM Sampler:  25%|██▌       | 5/20 [00:03<00:09,  1.59it/s]\u001b[A\n",
      "DDIM Sampler:  30%|███       | 6/20 [00:03<00:08,  1.60it/s]\u001b[A\n",
      "DDIM Sampler:  35%|███▌      | 7/20 [00:04<00:08,  1.60it/s]\u001b[A\n",
      "DDIM Sampler:  40%|████      | 8/20 [00:05<00:07,  1.60it/s]\u001b[A\n",
      "DDIM Sampler:  45%|████▌     | 9/20 [00:05<00:06,  1.60it/s]\u001b[A\n",
      "DDIM Sampler:  50%|█████     | 10/20 [00:06<00:06,  1.60it/s]\u001b[A\n",
      "DDIM Sampler:  55%|█████▌    | 11/20 [00:06<00:05,  1.60it/s]\u001b[A\n",
      "DDIM Sampler:  60%|██████    | 12/20 [00:07<00:05,  1.60it/s]\u001b[A\n",
      "DDIM Sampler:  65%|██████▌   | 13/20 [00:08<00:04,  1.60it/s]\u001b[A\n",
      "DDIM Sampler:  70%|███████   | 14/20 [00:08<00:03,  1.60it/s]\u001b[A\n",
      "DDIM Sampler:  75%|███████▌  | 15/20 [00:09<00:03,  1.60it/s]\u001b[A\n",
      "DDIM Sampler:  80%|████████  | 16/20 [00:10<00:02,  1.60it/s]\u001b[A\n",
      "DDIM Sampler:  85%|████████▌ | 17/20 [00:10<00:01,  1.60it/s]\u001b[A\n",
      "DDIM Sampler:  90%|█████████ | 18/20 [00:11<00:01,  1.60it/s]\u001b[A\n",
      "DDIM Sampler:  95%|█████████▌| 19/20 [00:11<00:00,  1.60it/s]\u001b[A\n",
      "DDIM Sampler: 100%|██████████| 20/20 [00:12<00:00,  1.60it/s]\u001b[A\n",
      "Global seed set to 64188\n"
     ]
    },
    {
     "name": "stdout",
     "output_type": "stream",
     "text": [
      "Data shape for DDIM sampling is (2, 4, 64, 64), eta 0.0\n",
      "Running DDIM Sampling with 20 timesteps\n"
     ]
    },
    {
     "name": "stderr",
     "output_type": "stream",
     "text": [
      "\n",
      "DDIM Sampler:   0%|          | 0/20 [00:00<?, ?it/s]\u001b[A\n",
      "DDIM Sampler:   5%|▌         | 1/20 [00:00<00:11,  1.64it/s]\u001b[A\n",
      "DDIM Sampler:  10%|█         | 2/20 [00:01<00:11,  1.59it/s]\u001b[A\n",
      "DDIM Sampler:  15%|█▌        | 3/20 [00:01<00:10,  1.59it/s]\u001b[A\n",
      "DDIM Sampler:  20%|██        | 4/20 [00:02<00:10,  1.60it/s]\u001b[A\n",
      "DDIM Sampler:  25%|██▌       | 5/20 [00:03<00:09,  1.59it/s]\u001b[A\n",
      "DDIM Sampler:  30%|███       | 6/20 [00:03<00:08,  1.60it/s]\u001b[A\n",
      "DDIM Sampler:  35%|███▌      | 7/20 [00:04<00:08,  1.60it/s]\u001b[A\n",
      "DDIM Sampler:  40%|████      | 8/20 [00:05<00:07,  1.59it/s]\u001b[A\n",
      "DDIM Sampler:  45%|████▌     | 9/20 [00:05<00:06,  1.60it/s]\u001b[A\n",
      "DDIM Sampler:  50%|█████     | 10/20 [00:06<00:06,  1.60it/s]\u001b[A\n",
      "DDIM Sampler:  55%|█████▌    | 11/20 [00:06<00:05,  1.60it/s]\u001b[A\n",
      "DDIM Sampler:  60%|██████    | 12/20 [00:07<00:05,  1.60it/s]\u001b[A\n",
      "DDIM Sampler:  65%|██████▌   | 13/20 [00:08<00:04,  1.59it/s]\u001b[A\n",
      "DDIM Sampler:  70%|███████   | 14/20 [00:08<00:03,  1.60it/s]\u001b[A\n",
      "DDIM Sampler:  75%|███████▌  | 15/20 [00:09<00:03,  1.60it/s]\u001b[A\n",
      "DDIM Sampler:  80%|████████  | 16/20 [00:10<00:02,  1.59it/s]\u001b[A\n",
      "DDIM Sampler:  85%|████████▌ | 17/20 [00:10<00:01,  1.60it/s]\u001b[A\n",
      "DDIM Sampler:  90%|█████████ | 18/20 [00:11<00:01,  1.60it/s]\u001b[A\n",
      "DDIM Sampler:  95%|█████████▌| 19/20 [00:11<00:00,  1.60it/s]\u001b[A\n",
      "DDIM Sampler: 100%|██████████| 20/20 [00:12<00:00,  1.60it/s]\u001b[A\n",
      "Global seed set to 10533\n"
     ]
    },
    {
     "name": "stdout",
     "output_type": "stream",
     "text": [
      "Data shape for DDIM sampling is (2, 4, 64, 64), eta 0.0\n",
      "Running DDIM Sampling with 20 timesteps\n"
     ]
    },
    {
     "name": "stderr",
     "output_type": "stream",
     "text": [
      "\n",
      "DDIM Sampler:   0%|          | 0/20 [00:00<?, ?it/s]\u001b[A\n",
      "DDIM Sampler:   5%|▌         | 1/20 [00:00<00:11,  1.63it/s]\u001b[A\n",
      "DDIM Sampler:  10%|█         | 2/20 [00:01<00:11,  1.59it/s]\u001b[A\n",
      "DDIM Sampler:  15%|█▌        | 3/20 [00:01<00:10,  1.60it/s]\u001b[A\n",
      "DDIM Sampler:  20%|██        | 4/20 [00:02<00:10,  1.60it/s]\u001b[A\n",
      "DDIM Sampler:  25%|██▌       | 5/20 [00:03<00:09,  1.60it/s]\u001b[A\n",
      "DDIM Sampler:  30%|███       | 6/20 [00:03<00:08,  1.60it/s]\u001b[A\n",
      "DDIM Sampler:  35%|███▌      | 7/20 [00:04<00:08,  1.60it/s]\u001b[A\n",
      "DDIM Sampler:  40%|████      | 8/20 [00:05<00:07,  1.60it/s]\u001b[A\n",
      "DDIM Sampler:  45%|████▌     | 9/20 [00:05<00:06,  1.60it/s]\u001b[A\n",
      "DDIM Sampler:  50%|█████     | 10/20 [00:06<00:06,  1.60it/s]\u001b[A\n",
      "DDIM Sampler:  55%|█████▌    | 11/20 [00:06<00:05,  1.60it/s]\u001b[A\n",
      "DDIM Sampler:  60%|██████    | 12/20 [00:07<00:05,  1.60it/s]\u001b[A\n",
      "DDIM Sampler:  65%|██████▌   | 13/20 [00:08<00:04,  1.59it/s]\u001b[A\n",
      "DDIM Sampler:  70%|███████   | 14/20 [00:08<00:03,  1.60it/s]\u001b[A\n",
      "DDIM Sampler:  75%|███████▌  | 15/20 [00:09<00:03,  1.60it/s]\u001b[A\n",
      "DDIM Sampler:  80%|████████  | 16/20 [00:10<00:02,  1.59it/s]\u001b[A\n",
      "DDIM Sampler:  85%|████████▌ | 17/20 [00:10<00:01,  1.60it/s]\u001b[A\n",
      "DDIM Sampler:  90%|█████████ | 18/20 [00:11<00:01,  1.59it/s]\u001b[A\n",
      "DDIM Sampler:  95%|█████████▌| 19/20 [00:11<00:00,  1.60it/s]\u001b[A\n",
      "DDIM Sampler: 100%|██████████| 20/20 [00:12<00:00,  1.60it/s]\u001b[A\n",
      "Global seed set to 31808\n"
     ]
    },
    {
     "name": "stdout",
     "output_type": "stream",
     "text": [
      "Data shape for DDIM sampling is (2, 4, 64, 64), eta 0.0\n",
      "Running DDIM Sampling with 20 timesteps\n"
     ]
    },
    {
     "name": "stderr",
     "output_type": "stream",
     "text": [
      "\n",
      "DDIM Sampler:   0%|          | 0/20 [00:00<?, ?it/s]\u001b[A\n",
      "DDIM Sampler:   5%|▌         | 1/20 [00:00<00:11,  1.63it/s]\u001b[A\n",
      "DDIM Sampler:  10%|█         | 2/20 [00:01<00:11,  1.59it/s]\u001b[A\n",
      "DDIM Sampler:  15%|█▌        | 3/20 [00:01<00:10,  1.59it/s]\u001b[A\n",
      "DDIM Sampler:  20%|██        | 4/20 [00:02<00:10,  1.60it/s]\u001b[A\n",
      "DDIM Sampler:  25%|██▌       | 5/20 [00:03<00:09,  1.59it/s]\u001b[A\n",
      "DDIM Sampler:  30%|███       | 6/20 [00:03<00:08,  1.59it/s]\u001b[A\n",
      "DDIM Sampler:  35%|███▌      | 7/20 [00:04<00:08,  1.60it/s]\u001b[A\n",
      "DDIM Sampler:  40%|████      | 8/20 [00:05<00:07,  1.59it/s]\u001b[A\n",
      "DDIM Sampler:  45%|████▌     | 9/20 [00:05<00:06,  1.60it/s]\u001b[A\n",
      "DDIM Sampler:  50%|█████     | 10/20 [00:06<00:06,  1.60it/s]\u001b[A\n",
      "DDIM Sampler:  55%|█████▌    | 11/20 [00:06<00:05,  1.59it/s]\u001b[A\n",
      "DDIM Sampler:  60%|██████    | 12/20 [00:07<00:05,  1.60it/s]\u001b[A\n",
      "DDIM Sampler:  65%|██████▌   | 13/20 [00:08<00:04,  1.60it/s]\u001b[A\n",
      "DDIM Sampler:  70%|███████   | 14/20 [00:08<00:03,  1.59it/s]\u001b[A\n",
      "DDIM Sampler:  75%|███████▌  | 15/20 [00:09<00:03,  1.59it/s]\u001b[A\n",
      "DDIM Sampler:  80%|████████  | 16/20 [00:10<00:02,  1.59it/s]\u001b[A\n",
      "DDIM Sampler:  85%|████████▌ | 17/20 [00:10<00:01,  1.59it/s]\u001b[A\n",
      "DDIM Sampler:  90%|█████████ | 18/20 [00:11<00:01,  1.60it/s]\u001b[A\n",
      "DDIM Sampler:  95%|█████████▌| 19/20 [00:11<00:00,  1.59it/s]\u001b[A\n",
      "DDIM Sampler: 100%|██████████| 20/20 [00:12<00:00,  1.60it/s]\u001b[A\n",
      "Global seed set to 33281\n"
     ]
    },
    {
     "name": "stdout",
     "output_type": "stream",
     "text": [
      "Data shape for DDIM sampling is (2, 4, 64, 72), eta 0.0\n",
      "Running DDIM Sampling with 20 timesteps\n"
     ]
    },
    {
     "name": "stderr",
     "output_type": "stream",
     "text": [
      "\n",
      "DDIM Sampler:   0%|          | 0/20 [00:00<?, ?it/s]\u001b[A\n",
      "DDIM Sampler:   5%|▌         | 1/20 [00:00<00:13,  1.36it/s]\u001b[A\n",
      "DDIM Sampler:  10%|█         | 2/20 [00:01<00:13,  1.33it/s]\u001b[A\n",
      "DDIM Sampler:  15%|█▌        | 3/20 [00:02<00:12,  1.33it/s]\u001b[A\n",
      "DDIM Sampler:  20%|██        | 4/20 [00:03<00:12,  1.33it/s]\u001b[A\n",
      "DDIM Sampler:  25%|██▌       | 5/20 [00:03<00:11,  1.33it/s]\u001b[A\n",
      "DDIM Sampler:  30%|███       | 6/20 [00:04<00:10,  1.33it/s]\u001b[A\n",
      "DDIM Sampler:  35%|███▌      | 7/20 [00:05<00:09,  1.33it/s]\u001b[A\n",
      "DDIM Sampler:  40%|████      | 8/20 [00:06<00:09,  1.33it/s]\u001b[A\n",
      "DDIM Sampler:  45%|████▌     | 9/20 [00:06<00:08,  1.33it/s]\u001b[A\n",
      "DDIM Sampler:  50%|█████     | 10/20 [00:07<00:07,  1.33it/s]\u001b[A\n",
      "DDIM Sampler:  55%|█████▌    | 11/20 [00:08<00:06,  1.33it/s]\u001b[A\n",
      "DDIM Sampler:  60%|██████    | 12/20 [00:09<00:06,  1.33it/s]\u001b[A\n",
      "DDIM Sampler:  65%|██████▌   | 13/20 [00:09<00:05,  1.33it/s]\u001b[A\n",
      "DDIM Sampler:  70%|███████   | 14/20 [00:10<00:04,  1.33it/s]\u001b[A\n",
      "DDIM Sampler:  75%|███████▌  | 15/20 [00:11<00:03,  1.33it/s]\u001b[A\n",
      "DDIM Sampler:  80%|████████  | 16/20 [00:12<00:03,  1.33it/s]\u001b[A\n",
      "DDIM Sampler:  85%|████████▌ | 17/20 [00:12<00:02,  1.33it/s]\u001b[A\n",
      "DDIM Sampler:  90%|█████████ | 18/20 [00:13<00:01,  1.33it/s]\u001b[A\n",
      "DDIM Sampler:  95%|█████████▌| 19/20 [00:14<00:00,  1.33it/s]\u001b[A\n",
      "DDIM Sampler: 100%|██████████| 20/20 [00:15<00:00,  1.33it/s]\u001b[A\n",
      "Global seed set to 9181\n"
     ]
    },
    {
     "name": "stdout",
     "output_type": "stream",
     "text": [
      "Data shape for DDIM sampling is (2, 4, 64, 112), eta 0.0\n",
      "Running DDIM Sampling with 20 timesteps\n"
     ]
    },
    {
     "name": "stderr",
     "output_type": "stream",
     "text": [
      "\n",
      "DDIM Sampler:   0%|          | 0/20 [00:00<?, ?it/s]\u001b[A\n",
      "DDIM Sampler:   5%|▌         | 1/20 [00:01<00:28,  1.52s/it]\u001b[A\n",
      "DDIM Sampler:  10%|█         | 2/20 [00:03<00:27,  1.52s/it]\u001b[A\n",
      "DDIM Sampler:  15%|█▌        | 3/20 [00:04<00:25,  1.51s/it]\u001b[A\n",
      "DDIM Sampler:  20%|██        | 4/20 [00:06<00:24,  1.51s/it]\u001b[A\n",
      "DDIM Sampler:  25%|██▌       | 5/20 [00:07<00:22,  1.51s/it]\u001b[A\n",
      "DDIM Sampler:  30%|███       | 6/20 [00:09<00:21,  1.51s/it]\u001b[A\n",
      "DDIM Sampler:  35%|███▌      | 7/20 [00:10<00:19,  1.51s/it]\u001b[A\n",
      "DDIM Sampler:  40%|████      | 8/20 [00:12<00:18,  1.51s/it]\u001b[A\n",
      "DDIM Sampler:  45%|████▌     | 9/20 [00:13<00:16,  1.51s/it]\u001b[A\n",
      "DDIM Sampler:  50%|█████     | 10/20 [00:15<00:15,  1.51s/it]\u001b[A\n",
      "DDIM Sampler:  55%|█████▌    | 11/20 [00:16<00:13,  1.51s/it]\u001b[A\n",
      "DDIM Sampler:  60%|██████    | 12/20 [00:18<00:12,  1.51s/it]\u001b[A\n",
      "DDIM Sampler:  65%|██████▌   | 13/20 [00:19<00:10,  1.51s/it]\u001b[A\n",
      "DDIM Sampler:  70%|███████   | 14/20 [00:21<00:09,  1.51s/it]\u001b[A\n",
      "DDIM Sampler:  75%|███████▌  | 15/20 [00:22<00:07,  1.51s/it]\u001b[A\n",
      "DDIM Sampler:  80%|████████  | 16/20 [00:24<00:06,  1.51s/it]\u001b[A\n",
      "DDIM Sampler:  85%|████████▌ | 17/20 [00:25<00:04,  1.51s/it]\u001b[A\n",
      "DDIM Sampler:  90%|█████████ | 18/20 [00:27<00:03,  1.51s/it]\u001b[A\n",
      "DDIM Sampler:  95%|█████████▌| 19/20 [00:28<00:01,  1.51s/it]\u001b[A\n",
      "DDIM Sampler: 100%|██████████| 20/20 [00:30<00:00,  1.51s/it]\u001b[A\n",
      "Global seed set to 64188\n"
     ]
    },
    {
     "name": "stdout",
     "output_type": "stream",
     "text": [
      "Data shape for DDIM sampling is (2, 4, 64, 96), eta 0.0\n",
      "Running DDIM Sampling with 20 timesteps\n"
     ]
    },
    {
     "name": "stderr",
     "output_type": "stream",
     "text": [
      "\n",
      "DDIM Sampler:   0%|          | 0/20 [00:00<?, ?it/s]\u001b[A\n",
      "DDIM Sampler:   5%|▌         | 1/20 [00:01<00:22,  1.17s/it]\u001b[A\n",
      "DDIM Sampler:  10%|█         | 2/20 [00:02<00:20,  1.16s/it]\u001b[A\n",
      "DDIM Sampler:  15%|█▌        | 3/20 [00:03<00:19,  1.16s/it]\u001b[A\n",
      "DDIM Sampler:  20%|██        | 4/20 [00:04<00:18,  1.16s/it]\u001b[A\n",
      "DDIM Sampler:  25%|██▌       | 5/20 [00:05<00:17,  1.16s/it]\u001b[A\n",
      "DDIM Sampler:  30%|███       | 6/20 [00:06<00:16,  1.16s/it]\u001b[A\n",
      "DDIM Sampler:  35%|███▌      | 7/20 [00:08<00:15,  1.16s/it]\u001b[A\n",
      "DDIM Sampler:  40%|████      | 8/20 [00:09<00:13,  1.17s/it]\u001b[A\n",
      "DDIM Sampler:  45%|████▌     | 9/20 [00:10<00:12,  1.17s/it]\u001b[A\n",
      "DDIM Sampler:  50%|█████     | 10/20 [00:11<00:11,  1.16s/it]\u001b[A\n",
      "DDIM Sampler:  55%|█████▌    | 11/20 [00:12<00:10,  1.17s/it]\u001b[A\n",
      "DDIM Sampler:  60%|██████    | 12/20 [00:13<00:09,  1.17s/it]\u001b[A\n",
      "DDIM Sampler:  65%|██████▌   | 13/20 [00:15<00:08,  1.17s/it]\u001b[A\n",
      "DDIM Sampler:  70%|███████   | 14/20 [00:16<00:06,  1.16s/it]\u001b[A\n",
      "DDIM Sampler:  75%|███████▌  | 15/20 [00:17<00:05,  1.17s/it]\u001b[A\n",
      "DDIM Sampler:  80%|████████  | 16/20 [00:18<00:04,  1.17s/it]\u001b[A\n",
      "DDIM Sampler:  85%|████████▌ | 17/20 [00:19<00:03,  1.17s/it]\u001b[A\n",
      "DDIM Sampler:  90%|█████████ | 18/20 [00:20<00:02,  1.17s/it]\u001b[A\n",
      "DDIM Sampler:  95%|█████████▌| 19/20 [00:22<00:01,  1.17s/it]\u001b[A\n",
      "DDIM Sampler: 100%|██████████| 20/20 [00:23<00:00,  1.17s/it]\u001b[A\n",
      "Global seed set to 10533\n"
     ]
    },
    {
     "name": "stdout",
     "output_type": "stream",
     "text": [
      "Data shape for DDIM sampling is (2, 4, 64, 64), eta 0.0\n",
      "Running DDIM Sampling with 20 timesteps\n"
     ]
    },
    {
     "name": "stderr",
     "output_type": "stream",
     "text": [
      "\n",
      "DDIM Sampler:   0%|          | 0/20 [00:00<?, ?it/s]\u001b[A\n",
      "DDIM Sampler:   5%|▌         | 1/20 [00:00<00:11,  1.63it/s]\u001b[A\n",
      "DDIM Sampler:  10%|█         | 2/20 [00:01<00:11,  1.59it/s]\u001b[A\n",
      "DDIM Sampler:  15%|█▌        | 3/20 [00:01<00:10,  1.59it/s]\u001b[A\n",
      "DDIM Sampler:  20%|██        | 4/20 [00:02<00:10,  1.60it/s]\u001b[A\n",
      "DDIM Sampler:  25%|██▌       | 5/20 [00:03<00:09,  1.59it/s]\u001b[A\n",
      "DDIM Sampler:  30%|███       | 6/20 [00:03<00:08,  1.59it/s]\u001b[A\n",
      "DDIM Sampler:  35%|███▌      | 7/20 [00:04<00:08,  1.59it/s]\u001b[A\n",
      "DDIM Sampler:  40%|████      | 8/20 [00:05<00:07,  1.59it/s]\u001b[A\n",
      "DDIM Sampler:  45%|████▌     | 9/20 [00:05<00:06,  1.60it/s]\u001b[A\n",
      "DDIM Sampler:  50%|█████     | 10/20 [00:06<00:06,  1.59it/s]\u001b[A\n",
      "DDIM Sampler:  55%|█████▌    | 11/20 [00:06<00:05,  1.59it/s]\u001b[A\n",
      "DDIM Sampler:  60%|██████    | 12/20 [00:07<00:05,  1.60it/s]\u001b[A\n",
      "DDIM Sampler:  65%|██████▌   | 13/20 [00:08<00:04,  1.59it/s]\u001b[A\n",
      "DDIM Sampler:  70%|███████   | 14/20 [00:08<00:03,  1.60it/s]\u001b[A\n",
      "DDIM Sampler:  75%|███████▌  | 15/20 [00:09<00:03,  1.60it/s]\u001b[A\n",
      "DDIM Sampler:  80%|████████  | 16/20 [00:10<00:02,  1.59it/s]\u001b[A\n",
      "DDIM Sampler:  85%|████████▌ | 17/20 [00:10<00:01,  1.59it/s]\u001b[A\n",
      "DDIM Sampler:  90%|█████████ | 18/20 [00:11<00:01,  1.59it/s]\u001b[A\n",
      "DDIM Sampler:  95%|█████████▌| 19/20 [00:11<00:00,  1.59it/s]\u001b[A\n",
      "DDIM Sampler: 100%|██████████| 20/20 [00:12<00:00,  1.59it/s]\u001b[A\n",
      "Global seed set to 31808\n"
     ]
    },
    {
     "name": "stdout",
     "output_type": "stream",
     "text": [
      "Data shape for DDIM sampling is (2, 4, 64, 64), eta 0.0\n",
      "Running DDIM Sampling with 20 timesteps\n"
     ]
    },
    {
     "name": "stderr",
     "output_type": "stream",
     "text": [
      "\n",
      "DDIM Sampler:   0%|          | 0/20 [00:00<?, ?it/s]\u001b[A\n",
      "DDIM Sampler:   5%|▌         | 1/20 [00:00<00:11,  1.63it/s]\u001b[A\n",
      "DDIM Sampler:  10%|█         | 2/20 [00:01<00:11,  1.59it/s]\u001b[A\n",
      "DDIM Sampler:  15%|█▌        | 3/20 [00:01<00:10,  1.59it/s]\u001b[A\n",
      "DDIM Sampler:  20%|██        | 4/20 [00:02<00:10,  1.60it/s]\u001b[A\n",
      "DDIM Sampler:  25%|██▌       | 5/20 [00:03<00:09,  1.59it/s]\u001b[A\n",
      "DDIM Sampler:  30%|███       | 6/20 [00:03<00:08,  1.60it/s]\u001b[A\n",
      "DDIM Sampler:  35%|███▌      | 7/20 [00:04<00:08,  1.60it/s]\u001b[A\n",
      "DDIM Sampler:  40%|████      | 8/20 [00:05<00:07,  1.59it/s]\u001b[A\n",
      "DDIM Sampler:  45%|████▌     | 9/20 [00:05<00:06,  1.60it/s]\u001b[A\n",
      "DDIM Sampler:  50%|█████     | 10/20 [00:06<00:06,  1.60it/s]\u001b[A\n",
      "DDIM Sampler:  55%|█████▌    | 11/20 [00:06<00:05,  1.60it/s]\u001b[A\n",
      "DDIM Sampler:  60%|██████    | 12/20 [00:07<00:05,  1.60it/s]\u001b[A\n",
      "DDIM Sampler:  65%|██████▌   | 13/20 [00:08<00:04,  1.60it/s]\u001b[A\n",
      "DDIM Sampler:  70%|███████   | 14/20 [00:08<00:03,  1.60it/s]\u001b[A\n",
      "DDIM Sampler:  75%|███████▌  | 15/20 [00:09<00:03,  1.60it/s]\u001b[A\n",
      "DDIM Sampler:  80%|████████  | 16/20 [00:10<00:02,  1.60it/s]\u001b[A\n",
      "DDIM Sampler:  85%|████████▌ | 17/20 [00:10<00:01,  1.60it/s]\u001b[A\n",
      "DDIM Sampler:  90%|█████████ | 18/20 [00:11<00:01,  1.60it/s]\u001b[A\n",
      "DDIM Sampler:  95%|█████████▌| 19/20 [00:11<00:00,  1.60it/s]\u001b[A\n",
      "DDIM Sampler: 100%|██████████| 20/20 [00:12<00:00,  1.60it/s]\u001b[A\n",
      "Global seed set to 33281\n"
     ]
    },
    {
     "name": "stdout",
     "output_type": "stream",
     "text": [
      "Data shape for DDIM sampling is (2, 4, 64, 64), eta 0.0\n",
      "Running DDIM Sampling with 20 timesteps\n"
     ]
    },
    {
     "name": "stderr",
     "output_type": "stream",
     "text": [
      "\n",
      "DDIM Sampler:   0%|          | 0/20 [00:00<?, ?it/s]\u001b[A\n",
      "DDIM Sampler:   5%|▌         | 1/20 [00:00<00:11,  1.62it/s]\u001b[A\n",
      "DDIM Sampler:  10%|█         | 2/20 [00:01<00:11,  1.60it/s]\u001b[A\n",
      "DDIM Sampler:  15%|█▌        | 3/20 [00:01<00:10,  1.60it/s]\u001b[A\n",
      "DDIM Sampler:  20%|██        | 4/20 [00:02<00:09,  1.60it/s]\u001b[A\n",
      "DDIM Sampler:  25%|██▌       | 5/20 [00:03<00:09,  1.60it/s]\u001b[A\n",
      "DDIM Sampler:  30%|███       | 6/20 [00:03<00:08,  1.60it/s]\u001b[A\n",
      "DDIM Sampler:  35%|███▌      | 7/20 [00:04<00:08,  1.60it/s]\u001b[A\n",
      "DDIM Sampler:  40%|████      | 8/20 [00:05<00:07,  1.60it/s]\u001b[A\n",
      "DDIM Sampler:  45%|████▌     | 9/20 [00:05<00:06,  1.60it/s]\u001b[A\n",
      "DDIM Sampler:  50%|█████     | 10/20 [00:06<00:06,  1.60it/s]\u001b[A\n",
      "DDIM Sampler:  55%|█████▌    | 11/20 [00:06<00:05,  1.60it/s]\u001b[A\n",
      "DDIM Sampler:  60%|██████    | 12/20 [00:07<00:05,  1.60it/s]\u001b[A\n",
      "DDIM Sampler:  65%|██████▌   | 13/20 [00:08<00:04,  1.60it/s]\u001b[A\n",
      "DDIM Sampler:  70%|███████   | 14/20 [00:08<00:03,  1.60it/s]\u001b[A\n",
      "DDIM Sampler:  75%|███████▌  | 15/20 [00:09<00:03,  1.60it/s]\u001b[A\n",
      "DDIM Sampler:  80%|████████  | 16/20 [00:10<00:02,  1.60it/s]\u001b[A\n",
      "DDIM Sampler:  85%|████████▌ | 17/20 [00:10<00:01,  1.59it/s]\u001b[A\n",
      "DDIM Sampler:  90%|█████████ | 18/20 [00:11<00:01,  1.60it/s]\u001b[A\n",
      "DDIM Sampler:  95%|█████████▌| 19/20 [00:11<00:00,  1.60it/s]\u001b[A\n",
      "DDIM Sampler: 100%|██████████| 20/20 [00:12<00:00,  1.60it/s]\u001b[A\n",
      "Global seed set to 9181\n"
     ]
    },
    {
     "name": "stdout",
     "output_type": "stream",
     "text": [
      "Data shape for DDIM sampling is (2, 4, 64, 64), eta 0.0\n",
      "Running DDIM Sampling with 20 timesteps\n"
     ]
    },
    {
     "name": "stderr",
     "output_type": "stream",
     "text": [
      "\n",
      "DDIM Sampler:   0%|          | 0/20 [00:00<?, ?it/s]\u001b[A\n",
      "DDIM Sampler:   5%|▌         | 1/20 [00:00<00:11,  1.64it/s]\u001b[A\n",
      "DDIM Sampler:  10%|█         | 2/20 [00:01<00:11,  1.59it/s]\u001b[A\n",
      "DDIM Sampler:  15%|█▌        | 3/20 [00:01<00:10,  1.59it/s]\u001b[A\n",
      "DDIM Sampler:  20%|██        | 4/20 [00:02<00:10,  1.60it/s]\u001b[A\n",
      "DDIM Sampler:  25%|██▌       | 5/20 [00:03<00:09,  1.59it/s]\u001b[A\n",
      "DDIM Sampler:  30%|███       | 6/20 [00:03<00:08,  1.60it/s]\u001b[A\n",
      "DDIM Sampler:  35%|███▌      | 7/20 [00:04<00:08,  1.60it/s]\u001b[A\n",
      "DDIM Sampler:  40%|████      | 8/20 [00:05<00:07,  1.60it/s]\u001b[A\n",
      "DDIM Sampler:  45%|████▌     | 9/20 [00:05<00:06,  1.60it/s]\u001b[A\n",
      "DDIM Sampler:  50%|█████     | 10/20 [00:06<00:06,  1.60it/s]\u001b[A\n",
      "DDIM Sampler:  55%|█████▌    | 11/20 [00:06<00:05,  1.60it/s]\u001b[A\n",
      "DDIM Sampler:  60%|██████    | 12/20 [00:07<00:05,  1.60it/s]\u001b[A\n",
      "DDIM Sampler:  65%|██████▌   | 13/20 [00:08<00:04,  1.60it/s]\u001b[A\n",
      "DDIM Sampler:  70%|███████   | 14/20 [00:08<00:03,  1.60it/s]\u001b[A\n",
      "DDIM Sampler:  75%|███████▌  | 15/20 [00:09<00:03,  1.60it/s]\u001b[A\n",
      "DDIM Sampler:  80%|████████  | 16/20 [00:10<00:02,  1.60it/s]\u001b[A\n",
      "DDIM Sampler:  85%|████████▌ | 17/20 [00:10<00:01,  1.60it/s]\u001b[A\n",
      "DDIM Sampler:  90%|█████████ | 18/20 [00:11<00:01,  1.60it/s]\u001b[A\n",
      "DDIM Sampler:  95%|█████████▌| 19/20 [00:11<00:00,  1.59it/s]\u001b[A\n",
      "DDIM Sampler: 100%|██████████| 20/20 [00:12<00:00,  1.60it/s]\u001b[A\n",
      "Global seed set to 64188\n"
     ]
    },
    {
     "name": "stdout",
     "output_type": "stream",
     "text": [
      "Data shape for DDIM sampling is (2, 4, 64, 64), eta 0.0\n",
      "Running DDIM Sampling with 20 timesteps\n"
     ]
    },
    {
     "name": "stderr",
     "output_type": "stream",
     "text": [
      "\n",
      "DDIM Sampler:   0%|          | 0/20 [00:00<?, ?it/s]\u001b[A\n",
      "DDIM Sampler:   5%|▌         | 1/20 [00:00<00:11,  1.63it/s]\u001b[A\n",
      "DDIM Sampler:  10%|█         | 2/20 [00:01<00:11,  1.59it/s]\u001b[A\n",
      "DDIM Sampler:  15%|█▌        | 3/20 [00:01<00:10,  1.60it/s]\u001b[A\n",
      "DDIM Sampler:  20%|██        | 4/20 [00:02<00:10,  1.60it/s]\u001b[A\n",
      "DDIM Sampler:  25%|██▌       | 5/20 [00:03<00:09,  1.60it/s]\u001b[A\n",
      "DDIM Sampler:  30%|███       | 6/20 [00:03<00:08,  1.60it/s]\u001b[A\n",
      "DDIM Sampler:  35%|███▌      | 7/20 [00:04<00:08,  1.60it/s]\u001b[A\n",
      "DDIM Sampler:  40%|████      | 8/20 [00:05<00:07,  1.59it/s]\u001b[A\n",
      "DDIM Sampler:  45%|████▌     | 9/20 [00:05<00:06,  1.60it/s]\u001b[A\n",
      "DDIM Sampler:  50%|█████     | 10/20 [00:06<00:06,  1.60it/s]\u001b[A\n",
      "DDIM Sampler:  55%|█████▌    | 11/20 [00:06<00:05,  1.60it/s]\u001b[A\n",
      "DDIM Sampler:  60%|██████    | 12/20 [00:07<00:05,  1.60it/s]\u001b[A\n",
      "DDIM Sampler:  65%|██████▌   | 13/20 [00:08<00:04,  1.59it/s]\u001b[A\n",
      "DDIM Sampler:  70%|███████   | 14/20 [00:08<00:03,  1.60it/s]\u001b[A\n",
      "DDIM Sampler:  75%|███████▌  | 15/20 [00:09<00:03,  1.60it/s]\u001b[A\n",
      "DDIM Sampler:  80%|████████  | 16/20 [00:10<00:02,  1.60it/s]\u001b[A\n",
      "DDIM Sampler:  85%|████████▌ | 17/20 [00:10<00:01,  1.60it/s]\u001b[A\n",
      "DDIM Sampler:  90%|█████████ | 18/20 [00:11<00:01,  1.60it/s]\u001b[A\n",
      "DDIM Sampler:  95%|█████████▌| 19/20 [00:11<00:00,  1.59it/s]\u001b[A\n",
      "DDIM Sampler: 100%|██████████| 20/20 [00:12<00:00,  1.60it/s]\u001b[A\n",
      "Global seed set to 10533\n"
     ]
    },
    {
     "name": "stdout",
     "output_type": "stream",
     "text": [
      "Data shape for DDIM sampling is (2, 4, 64, 64), eta 0.0\n",
      "Running DDIM Sampling with 20 timesteps\n"
     ]
    },
    {
     "name": "stderr",
     "output_type": "stream",
     "text": [
      "\n",
      "DDIM Sampler:   0%|          | 0/20 [00:00<?, ?it/s]\u001b[A\n",
      "DDIM Sampler:   5%|▌         | 1/20 [00:00<00:11,  1.63it/s]\u001b[A\n",
      "DDIM Sampler:  10%|█         | 2/20 [00:01<00:11,  1.59it/s]\u001b[A\n",
      "DDIM Sampler:  15%|█▌        | 3/20 [00:01<00:10,  1.59it/s]\u001b[A\n",
      "DDIM Sampler:  20%|██        | 4/20 [00:02<00:10,  1.60it/s]\u001b[A\n",
      "DDIM Sampler:  25%|██▌       | 5/20 [00:03<00:09,  1.59it/s]\u001b[A\n",
      "DDIM Sampler:  30%|███       | 6/20 [00:03<00:08,  1.60it/s]\u001b[A\n",
      "DDIM Sampler:  35%|███▌      | 7/20 [00:04<00:08,  1.60it/s]\u001b[A\n",
      "DDIM Sampler:  40%|████      | 8/20 [00:05<00:07,  1.60it/s]\u001b[A\n",
      "DDIM Sampler:  45%|████▌     | 9/20 [00:05<00:06,  1.60it/s]\u001b[A\n",
      "DDIM Sampler:  50%|█████     | 10/20 [00:06<00:06,  1.59it/s]\u001b[A\n",
      "DDIM Sampler:  55%|█████▌    | 11/20 [00:06<00:05,  1.60it/s]\u001b[A\n",
      "DDIM Sampler:  60%|██████    | 12/20 [00:07<00:05,  1.60it/s]\u001b[A\n",
      "DDIM Sampler:  65%|██████▌   | 13/20 [00:08<00:04,  1.59it/s]\u001b[A\n",
      "DDIM Sampler:  70%|███████   | 14/20 [00:08<00:03,  1.60it/s]\u001b[A\n",
      "DDIM Sampler:  75%|███████▌  | 15/20 [00:09<00:03,  1.60it/s]\u001b[A\n",
      "DDIM Sampler:  80%|████████  | 16/20 [00:10<00:02,  1.59it/s]\u001b[A\n",
      "DDIM Sampler:  85%|████████▌ | 17/20 [00:10<00:01,  1.60it/s]\u001b[A\n",
      "DDIM Sampler:  90%|█████████ | 18/20 [00:11<00:01,  1.60it/s]\u001b[A\n",
      "DDIM Sampler:  95%|█████████▌| 19/20 [00:11<00:00,  1.60it/s]\u001b[A\n",
      "DDIM Sampler: 100%|██████████| 20/20 [00:12<00:00,  1.60it/s]\u001b[A\n",
      "Global seed set to 31808\n"
     ]
    },
    {
     "name": "stdout",
     "output_type": "stream",
     "text": [
      "Data shape for DDIM sampling is (2, 4, 64, 64), eta 0.0\n",
      "Running DDIM Sampling with 20 timesteps\n"
     ]
    },
    {
     "name": "stderr",
     "output_type": "stream",
     "text": [
      "\n",
      "DDIM Sampler:   0%|          | 0/20 [00:00<?, ?it/s]\u001b[A\n",
      "DDIM Sampler:   5%|▌         | 1/20 [00:00<00:11,  1.64it/s]\u001b[A\n",
      "DDIM Sampler:  10%|█         | 2/20 [00:01<00:11,  1.59it/s]\u001b[A\n",
      "DDIM Sampler:  15%|█▌        | 3/20 [00:01<00:10,  1.59it/s]\u001b[A\n",
      "DDIM Sampler:  20%|██        | 4/20 [00:02<00:10,  1.60it/s]\u001b[A\n",
      "DDIM Sampler:  25%|██▌       | 5/20 [00:03<00:09,  1.59it/s]\u001b[A\n",
      "DDIM Sampler:  30%|███       | 6/20 [00:03<00:08,  1.60it/s]\u001b[A\n",
      "DDIM Sampler:  35%|███▌      | 7/20 [00:04<00:08,  1.60it/s]\u001b[A\n",
      "DDIM Sampler:  40%|████      | 8/20 [00:05<00:07,  1.59it/s]\u001b[A\n",
      "DDIM Sampler:  45%|████▌     | 9/20 [00:05<00:06,  1.60it/s]\u001b[A\n",
      "DDIM Sampler:  50%|█████     | 10/20 [00:06<00:06,  1.60it/s]\u001b[A\n",
      "DDIM Sampler:  55%|█████▌    | 11/20 [00:06<00:05,  1.60it/s]\u001b[A\n",
      "DDIM Sampler:  60%|██████    | 12/20 [00:07<00:05,  1.60it/s]\u001b[A\n",
      "DDIM Sampler:  65%|██████▌   | 13/20 [00:08<00:04,  1.60it/s]\u001b[A\n",
      "DDIM Sampler:  70%|███████   | 14/20 [00:08<00:03,  1.60it/s]\u001b[A\n",
      "DDIM Sampler:  75%|███████▌  | 15/20 [00:09<00:03,  1.60it/s]\u001b[A\n",
      "DDIM Sampler:  80%|████████  | 16/20 [00:10<00:02,  1.60it/s]\u001b[A\n",
      "DDIM Sampler:  85%|████████▌ | 17/20 [00:10<00:01,  1.60it/s]\u001b[A\n",
      "DDIM Sampler:  90%|█████████ | 18/20 [00:11<00:01,  1.60it/s]\u001b[A\n",
      "DDIM Sampler:  95%|█████████▌| 19/20 [00:11<00:00,  1.60it/s]\u001b[A\n",
      "DDIM Sampler: 100%|██████████| 20/20 [00:12<00:00,  1.60it/s]\u001b[A\n",
      "Global seed set to 33281\n"
     ]
    },
    {
     "name": "stdout",
     "output_type": "stream",
     "text": [
      "Data shape for DDIM sampling is (2, 4, 72, 64), eta 0.0\n",
      "Running DDIM Sampling with 20 timesteps\n"
     ]
    },
    {
     "name": "stderr",
     "output_type": "stream",
     "text": [
      "\n",
      "DDIM Sampler:   0%|          | 0/20 [00:00<?, ?it/s]\u001b[A\n",
      "DDIM Sampler:   5%|▌         | 1/20 [00:00<00:13,  1.37it/s]\u001b[A\n",
      "DDIM Sampler:  10%|█         | 2/20 [00:01<00:13,  1.34it/s]\u001b[A\n",
      "DDIM Sampler:  15%|█▌        | 3/20 [00:02<00:12,  1.34it/s]\u001b[A\n",
      "DDIM Sampler:  20%|██        | 4/20 [00:02<00:11,  1.34it/s]\u001b[A\n",
      "DDIM Sampler:  25%|██▌       | 5/20 [00:03<00:11,  1.34it/s]\u001b[A\n",
      "DDIM Sampler:  30%|███       | 6/20 [00:04<00:10,  1.34it/s]\u001b[A\n",
      "DDIM Sampler:  35%|███▌      | 7/20 [00:05<00:09,  1.34it/s]\u001b[A\n",
      "DDIM Sampler:  40%|████      | 8/20 [00:05<00:08,  1.34it/s]\u001b[A\n",
      "DDIM Sampler:  45%|████▌     | 9/20 [00:06<00:08,  1.34it/s]\u001b[A\n",
      "DDIM Sampler:  50%|█████     | 10/20 [00:07<00:07,  1.34it/s]\u001b[A\n",
      "DDIM Sampler:  55%|█████▌    | 11/20 [00:08<00:06,  1.34it/s]\u001b[A\n",
      "DDIM Sampler:  60%|██████    | 12/20 [00:08<00:05,  1.34it/s]\u001b[A\n",
      "DDIM Sampler:  65%|██████▌   | 13/20 [00:09<00:05,  1.34it/s]\u001b[A\n",
      "DDIM Sampler:  70%|███████   | 14/20 [00:10<00:04,  1.34it/s]\u001b[A\n",
      "DDIM Sampler:  75%|███████▌  | 15/20 [00:11<00:03,  1.34it/s]\u001b[A\n",
      "DDIM Sampler:  80%|████████  | 16/20 [00:11<00:02,  1.34it/s]\u001b[A\n",
      "DDIM Sampler:  85%|████████▌ | 17/20 [00:12<00:02,  1.34it/s]\u001b[A\n",
      "DDIM Sampler:  90%|█████████ | 18/20 [00:13<00:01,  1.34it/s]\u001b[A\n",
      "DDIM Sampler:  95%|█████████▌| 19/20 [00:14<00:00,  1.34it/s]\u001b[A\n",
      "DDIM Sampler: 100%|██████████| 20/20 [00:14<00:00,  1.34it/s]\u001b[A\n",
      "Global seed set to 9181\n"
     ]
    },
    {
     "name": "stdout",
     "output_type": "stream",
     "text": [
      "Data shape for DDIM sampling is (2, 4, 64, 64), eta 0.0\n",
      "Running DDIM Sampling with 20 timesteps\n"
     ]
    },
    {
     "name": "stderr",
     "output_type": "stream",
     "text": [
      "\n",
      "DDIM Sampler:   0%|          | 0/20 [00:00<?, ?it/s]\u001b[A\n",
      "DDIM Sampler:   5%|▌         | 1/20 [00:00<00:11,  1.63it/s]\u001b[A\n",
      "DDIM Sampler:  10%|█         | 2/20 [00:01<00:11,  1.59it/s]\u001b[A\n",
      "DDIM Sampler:  15%|█▌        | 3/20 [00:01<00:10,  1.59it/s]\u001b[A\n",
      "DDIM Sampler:  20%|██        | 4/20 [00:02<00:10,  1.60it/s]\u001b[A\n",
      "DDIM Sampler:  25%|██▌       | 5/20 [00:03<00:09,  1.59it/s]\u001b[A\n",
      "DDIM Sampler:  30%|███       | 6/20 [00:03<00:08,  1.59it/s]\u001b[A\n",
      "DDIM Sampler:  35%|███▌      | 7/20 [00:04<00:08,  1.60it/s]\u001b[A\n",
      "DDIM Sampler:  40%|████      | 8/20 [00:05<00:07,  1.59it/s]\u001b[A\n",
      "DDIM Sampler:  45%|████▌     | 9/20 [00:05<00:06,  1.60it/s]\u001b[A\n",
      "DDIM Sampler:  50%|█████     | 10/20 [00:06<00:06,  1.60it/s]\u001b[A\n",
      "DDIM Sampler:  55%|█████▌    | 11/20 [00:06<00:05,  1.59it/s]\u001b[A\n",
      "DDIM Sampler:  60%|██████    | 12/20 [00:07<00:05,  1.59it/s]\u001b[A\n",
      "DDIM Sampler:  65%|██████▌   | 13/20 [00:08<00:04,  1.60it/s]\u001b[A\n",
      "DDIM Sampler:  70%|███████   | 14/20 [00:08<00:03,  1.60it/s]\u001b[A\n",
      "DDIM Sampler:  75%|███████▌  | 15/20 [00:09<00:03,  1.60it/s]\u001b[A\n",
      "DDIM Sampler:  80%|████████  | 16/20 [00:10<00:02,  1.60it/s]\u001b[A\n",
      "DDIM Sampler:  85%|████████▌ | 17/20 [00:10<00:01,  1.59it/s]\u001b[A\n",
      "DDIM Sampler:  90%|█████████ | 18/20 [00:11<00:01,  1.59it/s]\u001b[A\n",
      "DDIM Sampler:  95%|█████████▌| 19/20 [00:11<00:00,  1.59it/s]\u001b[A\n",
      "DDIM Sampler: 100%|██████████| 20/20 [00:12<00:00,  1.59it/s]\u001b[A\n",
      "Global seed set to 64188\n"
     ]
    },
    {
     "name": "stdout",
     "output_type": "stream",
     "text": [
      "Data shape for DDIM sampling is (2, 4, 64, 96), eta 0.0\n",
      "Running DDIM Sampling with 20 timesteps\n"
     ]
    },
    {
     "name": "stderr",
     "output_type": "stream",
     "text": [
      "\n",
      "DDIM Sampler:   0%|          | 0/20 [00:00<?, ?it/s]\u001b[A\n",
      "DDIM Sampler:   5%|▌         | 1/20 [00:01<00:22,  1.17s/it]\u001b[A\n",
      "DDIM Sampler:  10%|█         | 2/20 [00:02<00:21,  1.17s/it]\u001b[A\n",
      "DDIM Sampler:  15%|█▌        | 3/20 [00:03<00:19,  1.16s/it]\u001b[A\n",
      "DDIM Sampler:  20%|██        | 4/20 [00:04<00:18,  1.16s/it]\u001b[A\n",
      "DDIM Sampler:  25%|██▌       | 5/20 [00:05<00:17,  1.16s/it]\u001b[A\n",
      "DDIM Sampler:  30%|███       | 6/20 [00:06<00:16,  1.16s/it]\u001b[A\n",
      "DDIM Sampler:  35%|███▌      | 7/20 [00:08<00:15,  1.16s/it]\u001b[A\n",
      "DDIM Sampler:  40%|████      | 8/20 [00:09<00:13,  1.16s/it]\u001b[A\n",
      "DDIM Sampler:  45%|████▌     | 9/20 [00:10<00:12,  1.16s/it]\u001b[A\n",
      "DDIM Sampler:  50%|█████     | 10/20 [00:11<00:11,  1.16s/it]\u001b[A\n",
      "DDIM Sampler:  55%|█████▌    | 11/20 [00:12<00:10,  1.16s/it]\u001b[A\n",
      "DDIM Sampler:  60%|██████    | 12/20 [00:13<00:09,  1.16s/it]\u001b[A\n",
      "DDIM Sampler:  65%|██████▌   | 13/20 [00:15<00:08,  1.16s/it]\u001b[A\n",
      "DDIM Sampler:  70%|███████   | 14/20 [00:16<00:06,  1.16s/it]\u001b[A\n",
      "DDIM Sampler:  75%|███████▌  | 15/20 [00:17<00:05,  1.16s/it]\u001b[A\n",
      "DDIM Sampler:  80%|████████  | 16/20 [00:18<00:04,  1.16s/it]\u001b[A\n",
      "DDIM Sampler:  85%|████████▌ | 17/20 [00:19<00:03,  1.16s/it]\u001b[A\n",
      "DDIM Sampler:  90%|█████████ | 18/20 [00:20<00:02,  1.16s/it]\u001b[A\n",
      "DDIM Sampler:  95%|█████████▌| 19/20 [00:22<00:01,  1.16s/it]\u001b[A\n",
      "DDIM Sampler: 100%|██████████| 20/20 [00:23<00:00,  1.16s/it]\u001b[A\n",
      "Global seed set to 10533\n"
     ]
    },
    {
     "name": "stdout",
     "output_type": "stream",
     "text": [
      "Data shape for DDIM sampling is (2, 4, 64, 64), eta 0.0\n",
      "Running DDIM Sampling with 20 timesteps\n"
     ]
    },
    {
     "name": "stderr",
     "output_type": "stream",
     "text": [
      "\n",
      "DDIM Sampler:   0%|          | 0/20 [00:00<?, ?it/s]\u001b[A\n",
      "DDIM Sampler:   5%|▌         | 1/20 [00:00<00:11,  1.63it/s]\u001b[A\n",
      "DDIM Sampler:  10%|█         | 2/20 [00:01<00:11,  1.59it/s]\u001b[A\n",
      "DDIM Sampler:  15%|█▌        | 3/20 [00:01<00:10,  1.59it/s]\u001b[A\n",
      "DDIM Sampler:  20%|██        | 4/20 [00:02<00:10,  1.60it/s]\u001b[A\n",
      "DDIM Sampler:  25%|██▌       | 5/20 [00:03<00:09,  1.59it/s]\u001b[A\n",
      "DDIM Sampler:  30%|███       | 6/20 [00:03<00:08,  1.60it/s]\u001b[A\n",
      "DDIM Sampler:  35%|███▌      | 7/20 [00:04<00:08,  1.60it/s]\u001b[A\n",
      "DDIM Sampler:  40%|████      | 8/20 [00:05<00:07,  1.60it/s]\u001b[A\n",
      "DDIM Sampler:  45%|████▌     | 9/20 [00:05<00:06,  1.60it/s]\u001b[A\n",
      "DDIM Sampler:  50%|█████     | 10/20 [00:06<00:06,  1.60it/s]\u001b[A\n",
      "DDIM Sampler:  55%|█████▌    | 11/20 [00:06<00:05,  1.60it/s]\u001b[A\n",
      "DDIM Sampler:  60%|██████    | 12/20 [00:07<00:05,  1.60it/s]\u001b[A\n",
      "DDIM Sampler:  65%|██████▌   | 13/20 [00:08<00:04,  1.60it/s]\u001b[A\n",
      "DDIM Sampler:  70%|███████   | 14/20 [00:08<00:03,  1.60it/s]\u001b[A\n",
      "DDIM Sampler:  75%|███████▌  | 15/20 [00:09<00:03,  1.60it/s]\u001b[A\n",
      "DDIM Sampler:  80%|████████  | 16/20 [00:10<00:02,  1.60it/s]\u001b[A\n",
      "DDIM Sampler:  85%|████████▌ | 17/20 [00:10<00:01,  1.60it/s]\u001b[A\n",
      "DDIM Sampler:  90%|█████████ | 18/20 [00:11<00:01,  1.60it/s]\u001b[A\n",
      "DDIM Sampler:  95%|█████████▌| 19/20 [00:11<00:00,  1.60it/s]\u001b[A\n",
      "DDIM Sampler: 100%|██████████| 20/20 [00:12<00:00,  1.60it/s]\u001b[A\n",
      "Global seed set to 31808\n"
     ]
    },
    {
     "name": "stdout",
     "output_type": "stream",
     "text": [
      "Data shape for DDIM sampling is (2, 4, 64, 64), eta 0.0\n",
      "Running DDIM Sampling with 20 timesteps\n"
     ]
    },
    {
     "name": "stderr",
     "output_type": "stream",
     "text": [
      "\n",
      "DDIM Sampler:   0%|          | 0/20 [00:00<?, ?it/s]\u001b[A\n",
      "DDIM Sampler:   5%|▌         | 1/20 [00:00<00:11,  1.63it/s]\u001b[A\n",
      "DDIM Sampler:  10%|█         | 2/20 [00:01<00:11,  1.59it/s]\u001b[A\n",
      "DDIM Sampler:  15%|█▌        | 3/20 [00:01<00:10,  1.59it/s]\u001b[A\n",
      "DDIM Sampler:  20%|██        | 4/20 [00:02<00:10,  1.60it/s]\u001b[A\n",
      "DDIM Sampler:  25%|██▌       | 5/20 [00:03<00:09,  1.59it/s]\u001b[A\n",
      "DDIM Sampler:  30%|███       | 6/20 [00:03<00:08,  1.60it/s]\u001b[A\n",
      "DDIM Sampler:  35%|███▌      | 7/20 [00:04<00:08,  1.60it/s]\u001b[A\n",
      "DDIM Sampler:  40%|████      | 8/20 [00:05<00:07,  1.59it/s]\u001b[A\n",
      "DDIM Sampler:  45%|████▌     | 9/20 [00:05<00:06,  1.60it/s]\u001b[A\n",
      "DDIM Sampler:  50%|█████     | 10/20 [00:06<00:06,  1.60it/s]\u001b[A\n",
      "DDIM Sampler:  55%|█████▌    | 11/20 [00:06<00:05,  1.59it/s]\u001b[A\n",
      "DDIM Sampler:  60%|██████    | 12/20 [00:07<00:05,  1.60it/s]\u001b[A\n",
      "DDIM Sampler:  65%|██████▌   | 13/20 [00:08<00:04,  1.59it/s]\u001b[A\n",
      "DDIM Sampler:  70%|███████   | 14/20 [00:08<00:03,  1.59it/s]\u001b[A\n",
      "DDIM Sampler:  75%|███████▌  | 15/20 [00:09<00:03,  1.59it/s]\u001b[A\n",
      "DDIM Sampler:  80%|████████  | 16/20 [00:10<00:02,  1.59it/s]\u001b[A\n",
      "DDIM Sampler:  85%|████████▌ | 17/20 [00:10<00:01,  1.59it/s]\u001b[A\n",
      "DDIM Sampler:  90%|█████████ | 18/20 [00:11<00:01,  1.59it/s]\u001b[A\n",
      "DDIM Sampler:  95%|█████████▌| 19/20 [00:11<00:00,  1.59it/s]\u001b[A\n",
      "DDIM Sampler: 100%|██████████| 20/20 [00:12<00:00,  1.60it/s]\u001b[A\n",
      "Global seed set to 33281\n"
     ]
    },
    {
     "name": "stdout",
     "output_type": "stream",
     "text": [
      "Data shape for DDIM sampling is (2, 4, 64, 64), eta 0.0\n",
      "Running DDIM Sampling with 20 timesteps\n"
     ]
    },
    {
     "name": "stderr",
     "output_type": "stream",
     "text": [
      "\n",
      "DDIM Sampler:   0%|          | 0/20 [00:00<?, ?it/s]\u001b[A\n",
      "DDIM Sampler:   5%|▌         | 1/20 [00:00<00:11,  1.63it/s]\u001b[A\n",
      "DDIM Sampler:  10%|█         | 2/20 [00:01<00:11,  1.59it/s]\u001b[A\n",
      "DDIM Sampler:  15%|█▌        | 3/20 [00:01<00:10,  1.59it/s]\u001b[A\n",
      "DDIM Sampler:  20%|██        | 4/20 [00:02<00:10,  1.60it/s]\u001b[A\n",
      "DDIM Sampler:  25%|██▌       | 5/20 [00:03<00:09,  1.59it/s]\u001b[A\n",
      "DDIM Sampler:  30%|███       | 6/20 [00:03<00:08,  1.59it/s]\u001b[A\n",
      "DDIM Sampler:  35%|███▌      | 7/20 [00:04<00:08,  1.59it/s]\u001b[A\n",
      "DDIM Sampler:  40%|████      | 8/20 [00:05<00:07,  1.59it/s]\u001b[A\n",
      "DDIM Sampler:  45%|████▌     | 9/20 [00:05<00:06,  1.60it/s]\u001b[A\n",
      "DDIM Sampler:  50%|█████     | 10/20 [00:06<00:06,  1.59it/s]\u001b[A\n",
      "DDIM Sampler:  55%|█████▌    | 11/20 [00:06<00:05,  1.60it/s]\u001b[A\n",
      "DDIM Sampler:  60%|██████    | 12/20 [00:07<00:05,  1.60it/s]\u001b[A\n",
      "DDIM Sampler:  65%|██████▌   | 13/20 [00:08<00:04,  1.59it/s]\u001b[A\n",
      "DDIM Sampler:  70%|███████   | 14/20 [00:08<00:03,  1.59it/s]\u001b[A\n",
      "DDIM Sampler:  75%|███████▌  | 15/20 [00:09<00:03,  1.59it/s]\u001b[A\n",
      "DDIM Sampler:  80%|████████  | 16/20 [00:10<00:02,  1.59it/s]\u001b[A\n",
      "DDIM Sampler:  85%|████████▌ | 17/20 [00:10<00:01,  1.60it/s]\u001b[A\n",
      "DDIM Sampler:  90%|█████████ | 18/20 [00:11<00:01,  1.59it/s]\u001b[A\n",
      "DDIM Sampler:  95%|█████████▌| 19/20 [00:11<00:00,  1.60it/s]\u001b[A\n",
      "DDIM Sampler: 100%|██████████| 20/20 [00:12<00:00,  1.59it/s]\u001b[A\n",
      "Global seed set to 9181\n"
     ]
    },
    {
     "name": "stdout",
     "output_type": "stream",
     "text": [
      "Data shape for DDIM sampling is (2, 4, 64, 64), eta 0.0\n",
      "Running DDIM Sampling with 20 timesteps\n"
     ]
    },
    {
     "name": "stderr",
     "output_type": "stream",
     "text": [
      "\n",
      "DDIM Sampler:   0%|          | 0/20 [00:00<?, ?it/s]\u001b[A\n",
      "DDIM Sampler:   5%|▌         | 1/20 [00:00<00:11,  1.63it/s]\u001b[A\n",
      "DDIM Sampler:  10%|█         | 2/20 [00:01<00:11,  1.59it/s]\u001b[A\n",
      "DDIM Sampler:  15%|█▌        | 3/20 [00:01<00:10,  1.60it/s]\u001b[A\n",
      "DDIM Sampler:  20%|██        | 4/20 [00:02<00:10,  1.60it/s]\u001b[A\n",
      "DDIM Sampler:  25%|██▌       | 5/20 [00:03<00:09,  1.60it/s]\u001b[A\n",
      "DDIM Sampler:  30%|███       | 6/20 [00:03<00:08,  1.60it/s]\u001b[A\n",
      "DDIM Sampler:  35%|███▌      | 7/20 [00:04<00:08,  1.60it/s]\u001b[A\n",
      "DDIM Sampler:  40%|████      | 8/20 [00:05<00:07,  1.60it/s]\u001b[A\n",
      "DDIM Sampler:  45%|████▌     | 9/20 [00:05<00:06,  1.60it/s]\u001b[A\n",
      "DDIM Sampler:  50%|█████     | 10/20 [00:06<00:06,  1.59it/s]\u001b[A\n",
      "DDIM Sampler:  55%|█████▌    | 11/20 [00:06<00:05,  1.59it/s]\u001b[A\n",
      "DDIM Sampler:  60%|██████    | 12/20 [00:07<00:05,  1.60it/s]\u001b[A\n",
      "DDIM Sampler:  65%|██████▌   | 13/20 [00:08<00:04,  1.59it/s]\u001b[A\n",
      "DDIM Sampler:  70%|███████   | 14/20 [00:08<00:03,  1.60it/s]\u001b[A\n",
      "DDIM Sampler:  75%|███████▌  | 15/20 [00:09<00:03,  1.60it/s]\u001b[A\n",
      "DDIM Sampler:  80%|████████  | 16/20 [00:10<00:02,  1.60it/s]\u001b[A\n",
      "DDIM Sampler:  85%|████████▌ | 17/20 [00:10<00:01,  1.60it/s]\u001b[A\n",
      "DDIM Sampler:  90%|█████████ | 18/20 [00:11<00:01,  1.60it/s]\u001b[A\n",
      "DDIM Sampler:  95%|█████████▌| 19/20 [00:11<00:00,  1.60it/s]\u001b[A\n",
      "DDIM Sampler: 100%|██████████| 20/20 [00:12<00:00,  1.60it/s]\u001b[A\n",
      "Global seed set to 64188\n"
     ]
    },
    {
     "name": "stdout",
     "output_type": "stream",
     "text": [
      "Data shape for DDIM sampling is (2, 4, 64, 64), eta 0.0\n",
      "Running DDIM Sampling with 20 timesteps\n"
     ]
    },
    {
     "name": "stderr",
     "output_type": "stream",
     "text": [
      "\n",
      "DDIM Sampler:   0%|          | 0/20 [00:00<?, ?it/s]\u001b[A\n",
      "DDIM Sampler:   5%|▌         | 1/20 [00:00<00:11,  1.63it/s]\u001b[A\n",
      "DDIM Sampler:  10%|█         | 2/20 [00:01<00:11,  1.59it/s]\u001b[A\n",
      "DDIM Sampler:  15%|█▌        | 3/20 [00:01<00:10,  1.60it/s]\u001b[A\n",
      "DDIM Sampler:  20%|██        | 4/20 [00:02<00:10,  1.60it/s]\u001b[A\n",
      "DDIM Sampler:  25%|██▌       | 5/20 [00:03<00:09,  1.60it/s]\u001b[A\n",
      "DDIM Sampler:  30%|███       | 6/20 [00:03<00:08,  1.60it/s]\u001b[A\n",
      "DDIM Sampler:  35%|███▌      | 7/20 [00:04<00:08,  1.60it/s]\u001b[A\n",
      "DDIM Sampler:  40%|████      | 8/20 [00:05<00:07,  1.60it/s]\u001b[A\n",
      "DDIM Sampler:  45%|████▌     | 9/20 [00:05<00:06,  1.60it/s]\u001b[A\n",
      "DDIM Sampler:  50%|█████     | 10/20 [00:06<00:06,  1.59it/s]\u001b[A\n",
      "DDIM Sampler:  55%|█████▌    | 11/20 [00:06<00:05,  1.60it/s]\u001b[A\n",
      "DDIM Sampler:  60%|██████    | 12/20 [00:07<00:05,  1.60it/s]\u001b[A\n",
      "DDIM Sampler:  65%|██████▌   | 13/20 [00:08<00:04,  1.60it/s]\u001b[A\n",
      "DDIM Sampler:  70%|███████   | 14/20 [00:08<00:03,  1.60it/s]\u001b[A\n",
      "DDIM Sampler:  75%|███████▌  | 15/20 [00:09<00:03,  1.60it/s]\u001b[A\n",
      "DDIM Sampler:  80%|████████  | 16/20 [00:10<00:02,  1.60it/s]\u001b[A\n",
      "DDIM Sampler:  85%|████████▌ | 17/20 [00:10<00:01,  1.60it/s]\u001b[A\n",
      "DDIM Sampler:  90%|█████████ | 18/20 [00:11<00:01,  1.60it/s]\u001b[A\n",
      "DDIM Sampler:  95%|█████████▌| 19/20 [00:11<00:00,  1.60it/s]\u001b[A\n",
      "DDIM Sampler: 100%|██████████| 20/20 [00:12<00:00,  1.60it/s]\u001b[A\n",
      "Global seed set to 10533\n"
     ]
    },
    {
     "name": "stdout",
     "output_type": "stream",
     "text": [
      "Data shape for DDIM sampling is (2, 4, 64, 72), eta 0.0\n",
      "Running DDIM Sampling with 20 timesteps\n"
     ]
    },
    {
     "name": "stderr",
     "output_type": "stream",
     "text": [
      "\n",
      "DDIM Sampler:   0%|          | 0/20 [00:00<?, ?it/s]\u001b[A\n",
      "DDIM Sampler:   5%|▌         | 1/20 [00:00<00:14,  1.35it/s]\u001b[A\n",
      "DDIM Sampler:  10%|█         | 2/20 [00:01<00:13,  1.33it/s]\u001b[A\n",
      "DDIM Sampler:  15%|█▌        | 3/20 [00:02<00:12,  1.33it/s]\u001b[A\n",
      "DDIM Sampler:  20%|██        | 4/20 [00:03<00:12,  1.33it/s]\u001b[A\n",
      "DDIM Sampler:  25%|██▌       | 5/20 [00:03<00:11,  1.33it/s]\u001b[A\n",
      "DDIM Sampler:  30%|███       | 6/20 [00:04<00:10,  1.33it/s]\u001b[A\n",
      "DDIM Sampler:  35%|███▌      | 7/20 [00:05<00:09,  1.33it/s]\u001b[A\n",
      "DDIM Sampler:  40%|████      | 8/20 [00:06<00:09,  1.33it/s]\u001b[A\n",
      "DDIM Sampler:  45%|████▌     | 9/20 [00:06<00:08,  1.33it/s]\u001b[A\n",
      "DDIM Sampler:  50%|█████     | 10/20 [00:07<00:07,  1.33it/s]\u001b[A\n",
      "DDIM Sampler:  55%|█████▌    | 11/20 [00:08<00:06,  1.33it/s]\u001b[A\n",
      "DDIM Sampler:  60%|██████    | 12/20 [00:09<00:06,  1.33it/s]\u001b[A\n",
      "DDIM Sampler:  65%|██████▌   | 13/20 [00:09<00:05,  1.33it/s]\u001b[A\n",
      "DDIM Sampler:  70%|███████   | 14/20 [00:10<00:04,  1.33it/s]\u001b[A\n",
      "DDIM Sampler:  75%|███████▌  | 15/20 [00:11<00:03,  1.33it/s]\u001b[A\n",
      "DDIM Sampler:  80%|████████  | 16/20 [00:12<00:03,  1.33it/s]\u001b[A\n",
      "DDIM Sampler:  85%|████████▌ | 17/20 [00:12<00:02,  1.33it/s]\u001b[A\n",
      "DDIM Sampler:  90%|█████████ | 18/20 [00:13<00:01,  1.33it/s]\u001b[A\n",
      "DDIM Sampler:  95%|█████████▌| 19/20 [00:14<00:00,  1.33it/s]\u001b[A\n",
      "DDIM Sampler: 100%|██████████| 20/20 [00:15<00:00,  1.33it/s]\u001b[A\n",
      "Global seed set to 31808\n"
     ]
    },
    {
     "name": "stdout",
     "output_type": "stream",
     "text": [
      "Data shape for DDIM sampling is (2, 4, 64, 112), eta 0.0\n",
      "Running DDIM Sampling with 20 timesteps\n"
     ]
    },
    {
     "name": "stderr",
     "output_type": "stream",
     "text": [
      "\n",
      "DDIM Sampler:   0%|          | 0/20 [00:00<?, ?it/s]\u001b[A\n",
      "DDIM Sampler:   5%|▌         | 1/20 [00:01<00:28,  1.51s/it]\u001b[A\n",
      "DDIM Sampler:  10%|█         | 2/20 [00:03<00:27,  1.51s/it]\u001b[A\n",
      "DDIM Sampler:  15%|█▌        | 3/20 [00:04<00:25,  1.51s/it]\u001b[A\n",
      "DDIM Sampler:  20%|██        | 4/20 [00:06<00:24,  1.51s/it]\u001b[A\n",
      "DDIM Sampler:  25%|██▌       | 5/20 [00:07<00:22,  1.51s/it]\u001b[A\n",
      "DDIM Sampler:  30%|███       | 6/20 [00:09<00:21,  1.51s/it]\u001b[A\n",
      "DDIM Sampler:  35%|███▌      | 7/20 [00:10<00:19,  1.51s/it]\u001b[A\n",
      "DDIM Sampler:  40%|████      | 8/20 [00:12<00:18,  1.51s/it]\u001b[A\n",
      "DDIM Sampler:  45%|████▌     | 9/20 [00:13<00:16,  1.51s/it]\u001b[A\n",
      "DDIM Sampler:  50%|█████     | 10/20 [00:15<00:15,  1.51s/it]\u001b[A\n",
      "DDIM Sampler:  55%|█████▌    | 11/20 [00:16<00:13,  1.51s/it]\u001b[A\n",
      "DDIM Sampler:  60%|██████    | 12/20 [00:18<00:12,  1.51s/it]\u001b[A\n",
      "DDIM Sampler:  65%|██████▌   | 13/20 [00:19<00:10,  1.51s/it]\u001b[A\n",
      "DDIM Sampler:  70%|███████   | 14/20 [00:21<00:09,  1.51s/it]\u001b[A\n",
      "DDIM Sampler:  75%|███████▌  | 15/20 [00:22<00:07,  1.51s/it]\u001b[A\n",
      "DDIM Sampler:  80%|████████  | 16/20 [00:24<00:06,  1.51s/it]\u001b[A\n",
      "DDIM Sampler:  85%|████████▌ | 17/20 [00:25<00:04,  1.51s/it]\u001b[A\n",
      "DDIM Sampler:  90%|█████████ | 18/20 [00:27<00:03,  1.51s/it]\u001b[A\n",
      "DDIM Sampler:  95%|█████████▌| 19/20 [00:28<00:01,  1.51s/it]\u001b[A\n",
      "DDIM Sampler: 100%|██████████| 20/20 [00:30<00:00,  1.51s/it]\u001b[A\n",
      "Global seed set to 33281\n"
     ]
    },
    {
     "name": "stdout",
     "output_type": "stream",
     "text": [
      "Data shape for DDIM sampling is (2, 4, 64, 96), eta 0.0\n",
      "Running DDIM Sampling with 20 timesteps\n"
     ]
    },
    {
     "name": "stderr",
     "output_type": "stream",
     "text": [
      "\n",
      "DDIM Sampler:   0%|          | 0/20 [00:00<?, ?it/s]\u001b[A\n",
      "DDIM Sampler:   5%|▌         | 1/20 [00:01<00:22,  1.17s/it]\u001b[A\n",
      "DDIM Sampler:  10%|█         | 2/20 [00:02<00:20,  1.16s/it]\u001b[A\n",
      "DDIM Sampler:  15%|█▌        | 3/20 [00:03<00:19,  1.16s/it]\u001b[A\n",
      "DDIM Sampler:  20%|██        | 4/20 [00:04<00:18,  1.16s/it]\u001b[A\n",
      "DDIM Sampler:  25%|██▌       | 5/20 [00:05<00:17,  1.16s/it]\u001b[A\n",
      "DDIM Sampler:  30%|███       | 6/20 [00:06<00:16,  1.16s/it]\u001b[A\n",
      "DDIM Sampler:  35%|███▌      | 7/20 [00:08<00:15,  1.16s/it]\u001b[A\n",
      "DDIM Sampler:  40%|████      | 8/20 [00:09<00:13,  1.16s/it]\u001b[A\n",
      "DDIM Sampler:  45%|████▌     | 9/20 [00:10<00:12,  1.16s/it]\u001b[A\n",
      "DDIM Sampler:  50%|█████     | 10/20 [00:11<00:11,  1.16s/it]\u001b[A\n",
      "DDIM Sampler:  55%|█████▌    | 11/20 [00:12<00:10,  1.16s/it]\u001b[A\n",
      "DDIM Sampler:  60%|██████    | 12/20 [00:13<00:09,  1.16s/it]\u001b[A\n",
      "DDIM Sampler:  65%|██████▌   | 13/20 [00:15<00:08,  1.16s/it]\u001b[A\n",
      "DDIM Sampler:  70%|███████   | 14/20 [00:16<00:06,  1.16s/it]\u001b[A\n",
      "DDIM Sampler:  75%|███████▌  | 15/20 [00:17<00:05,  1.16s/it]\u001b[A\n",
      "DDIM Sampler:  80%|████████  | 16/20 [00:18<00:04,  1.16s/it]\u001b[A\n",
      "DDIM Sampler:  85%|████████▌ | 17/20 [00:19<00:03,  1.16s/it]\u001b[A\n",
      "IOPub message rate exceeded.\n",
      "The notebook server will temporarily stop sending output\n",
      "to the client in order to avoid crashing it.\n",
      "To change this limit, set the config variable\n",
      "`--NotebookApp.iopub_msg_rate_limit`.\n",
      "\n",
      "Current values:\n",
      "NotebookApp.iopub_msg_rate_limit=1000.0 (msgs/sec)\n",
      "NotebookApp.rate_limit_window=3.0 (secs)\n",
      "\n"
     ]
    }
   ],
   "source": [
    "for kwargs in pv.pbar(list(pv.kwargs_grid(prompt=prompts, logo_path=logo_files))):\n",
    "    prompt = kwargs['prompt']\n",
    "    logo_path = kwargs['logo_path']\n",
    "    input_image = np.array(pv.open_image(logo_path))\n",
    "    outs = predictor.process(input_image, prompt, seed=-1)\n",
    "    \n",
    "    save_dir = pv.mkdir(Path.home()/'control-output/', exist_ok=True)\n",
    "    for i, out in enumerate(outs[1:]):\n",
    "        save_file = save_dir/f'{logo_path.stem}-{prompt.replace(\" \", \"_\")[:170]}-{i}.jpg'\n",
    "        pv.save_image(out, save_file)"
   ]
  },
  {
   "cell_type": "code",
   "execution_count": 37,
   "id": "790aac72",
   "metadata": {},
   "outputs": [],
   "source": [
    "#|hide\n",
    "from nbdev.export import nb_export\n",
    "nb_export('predictor.ipynb', '.')"
   ]
  }
 ],
 "metadata": {
  "kernelspec": {
   "display_name": "Python 3",
   "language": "python",
   "name": "python3"
  },
  "language_info": {
   "codemirror_mode": {
    "name": "ipython",
    "version": 3
   },
   "file_extension": ".py",
   "mimetype": "text/x-python",
   "name": "python",
   "nbconvert_exporter": "python",
   "pygments_lexer": "ipython3",
   "version": "3.8.5"
  }
 },
 "nbformat": 4,
 "nbformat_minor": 5
}
